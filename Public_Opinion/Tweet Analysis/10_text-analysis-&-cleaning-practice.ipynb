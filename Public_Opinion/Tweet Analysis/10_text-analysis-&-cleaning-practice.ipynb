{
 "cells": [
  {
   "cell_type": "markdown",
   "metadata": {},
   "source": [
    "# Text Analytics with NLTK\n",
    "\n",
    "### What is NLTK?\n",
    "The Natural Language Toolkit (NLTK) is a Python package for natural language processing.\n",
    "NLTK comes with many corpora, toy grammars, trained models, etc. https://www.nltk.org/data.html\n",
    "\n",
    "Let's start by downloading nltk. See https://www.nltk.org/data.html "
   ]
  },
  {
   "cell_type": "code",
   "execution_count": 1,
   "metadata": {},
   "outputs": [],
   "source": [
    "import nltk, re, json, io #https://pypi.org/project/nltk/ --- pip install nltk \n",
    "from collections import Counter\n",
    "import pandas as pd"
   ]
  },
  {
   "cell_type": "code",
   "execution_count": 2,
   "metadata": {},
   "outputs": [
    {
     "name": "stderr",
     "output_type": "stream",
     "text": [
      "[nltk_data] Error loading punkt: <urlopen error [Errno 61] Connection\n",
      "[nltk_data]     refused>\n",
      "[nltk_data] Error loading stopwords: <urlopen error [Errno 61]\n",
      "[nltk_data]     Connection refused>\n"
     ]
    },
    {
     "data": {
      "text/plain": [
       "False"
      ]
     },
     "execution_count": 2,
     "metadata": {},
     "output_type": "execute_result"
    }
   ],
   "source": [
    "nltk.download('punkt')\n",
    "nltk.download('stopwords')"
   ]
  },
  {
   "cell_type": "markdown",
   "metadata": {},
   "source": [
    "## Tokenization\n",
    "Read documentation: https://www.nltk.org/api/nltk.tokenize.html\n",
    "\n",
    "* sentence tokenization\n",
    "* word tokenization"
   ]
  },
  {
   "cell_type": "code",
   "execution_count": 3,
   "metadata": {
    "scrolled": true
   },
   "outputs": [
    {
     "data": {
      "text/plain": [
       "['Netanyahu',\n",
       " \"'s\",\n",
       " 'visit',\n",
       " 'was',\n",
       " 'cut',\n",
       " 'short',\n",
       " 'by',\n",
       " 'reports',\n",
       " 'late',\n",
       " 'Sunday',\n",
       " 'that',\n",
       " 'a',\n",
       " 'rocket',\n",
       " 'was',\n",
       " 'fired',\n",
       " 'from',\n",
       " 'Gaza',\n",
       " 'into',\n",
       " 'central',\n",
       " 'Israel',\n",
       " ',',\n",
       " 'wounding',\n",
       " 'at',\n",
       " 'least',\n",
       " 'seven',\n",
       " 'people',\n",
       " '.',\n",
       " 'Following',\n",
       " 'criticism',\n",
       " 'from',\n",
       " 'political',\n",
       " 'opponents',\n",
       " 'over',\n",
       " 'what',\n",
       " 'they',\n",
       " 'consider',\n",
       " 'the',\n",
       " 'prime',\n",
       " 'minister',\n",
       " \"'s\",\n",
       " 'unclear',\n",
       " 'stance',\n",
       " 'toward',\n",
       " 'the',\n",
       " 'militant',\n",
       " 'political',\n",
       " 'group',\n",
       " ',',\n",
       " 'Israel',\n",
       " 'responded',\n",
       " 'with',\n",
       " 'a',\n",
       " 'series',\n",
       " 'of',\n",
       " 'strikes',\n",
       " 'into',\n",
       " 'Gaza',\n",
       " 'against',\n",
       " 'Hamas',\n",
       " ',',\n",
       " 'which',\n",
       " 'largely',\n",
       " 'governs',\n",
       " 'the',\n",
       " 'contested',\n",
       " 'strip',\n",
       " '.',\n",
       " 'President',\n",
       " 'Donald',\n",
       " 'Trump',\n",
       " 'tacitly',\n",
       " 'endorsed',\n",
       " 'the',\n",
       " 'strike',\n",
       " 'following',\n",
       " 'his',\n",
       " 'meetings',\n",
       " 'with',\n",
       " 'Netanyahu',\n",
       " ',',\n",
       " 'calling',\n",
       " 'the',\n",
       " 'Hamas',\n",
       " 'attack',\n",
       " '``',\n",
       " 'despicable',\n",
       " '.',\n",
       " \"''\"]"
      ]
     },
     "execution_count": 3,
     "metadata": {},
     "output_type": "execute_result"
    }
   ],
   "source": [
    "from nltk.tokenize import sent_tokenize, word_tokenize\n",
    "\n",
    "text = \"Netanyahu's visit was cut short by reports late Sunday that a rocket was fired from Gaza into central Israel, wounding at least seven people. Following criticism from political opponents over what they consider the prime minister's unclear stance toward the militant political group, Israel responded with a series of strikes into Gaza against Hamas, which largely governs the contested strip. President Donald Trump tacitly endorsed the strike following his meetings with Netanyahu, calling the Hamas attack \\\"despicable.\\\"\"\n",
    "\n",
    "# tokenize text into words\n",
    "words = word_tokenize(text)\n",
    "words"
   ]
  },
  {
   "cell_type": "markdown",
   "metadata": {},
   "source": [
    "**sentence tokenizer**\n",
    "\n",
    "https://www.nltk.org/_modules/nltk/tokenize/punkt.html\n",
    "\n",
    "Punkt Sentence Tokenizer\n",
    "\n",
    "The NLTK data package includes a pre-trained Punkt tokenizer for English. \n",
    "This tokenizer divides a text into a list of sentences by using an unsupervised algorithm."
   ]
  },
  {
   "cell_type": "code",
   "execution_count": 4,
   "metadata": {},
   "outputs": [
    {
     "data": {
      "text/plain": [
       "[\"Netanyahu's visit was cut short by reports late Sunday that a rocket was fired from Gaza into central Israel, wounding at least seven people.\",\n",
       " \"Following criticism from political opponents over what they consider the prime minister's unclear stance toward the militant political group, Israel responded with a series of strikes into Gaza against Hamas, which largely governs the contested strip.\",\n",
       " 'President Donald Trump tacitly endorsed the strike following his meetings with Netanyahu, calling the Hamas attack \"despicable.\"']"
      ]
     },
     "execution_count": 4,
     "metadata": {},
     "output_type": "execute_result"
    }
   ],
   "source": [
    "# split text into sentences\n",
    "sents = sent_tokenize(text)\n",
    "sents"
   ]
  },
  {
   "cell_type": "markdown",
   "metadata": {},
   "source": [
    "sent_tokenize is quite smart. See examples below"
   ]
  },
  {
   "cell_type": "code",
   "execution_count": 5,
   "metadata": {},
   "outputs": [
    {
     "data": {
      "text/plain": [
       "['Punkt knows that the periods in Mr. Smith and Johann S. Bach do not mark sentence boundaries.',\n",
       " 'And sometimes sentences can start with non-capitalized words.',\n",
       " 'i is a good variable name.']"
      ]
     },
     "execution_count": 5,
     "metadata": {},
     "output_type": "execute_result"
    }
   ],
   "source": [
    "text2 = \"Punkt knows that the periods in Mr. Smith and Johann S. Bach do not mark sentence boundaries.  And sometimes sentences can start with non-capitalized words.  i is a good variable name.\"\n",
    "\n",
    "sents2 = sent_tokenize(text2)\n",
    "sents2"
   ]
  },
  {
   "cell_type": "code",
   "execution_count": 6,
   "metadata": {},
   "outputs": [
    {
     "data": {
      "text/plain": [
       "['\\n(How does it deal with this parenthesis?)',\n",
       " '\"It should be part of the\\nprevious sentence.\"',\n",
       " '\"(And the same with this one.)\"',\n",
       " \"('And this one!')\",\n",
       " '\"(\\'(And (this)) \\'?)\"',\n",
       " '[(and this. )]']"
      ]
     },
     "execution_count": 6,
     "metadata": {},
     "output_type": "execute_result"
    }
   ],
   "source": [
    "text3 = '''\n",
    "... (How does it deal with this parenthesis?)  \"It should be part of the\n",
    "... previous sentence.\" \"(And the same with this one.)\" ('And this one!')\n",
    "... \"('(And (this)) '?)\" [(and this. )]\n",
    "... '''\n",
    "\n",
    "\n",
    "sents3 = sent_tokenize( text3 )\n",
    "sents3"
   ]
  },
  {
   "cell_type": "markdown",
   "metadata": {},
   "source": [
    "### RegexpTokenizer\n",
    "使用正则分词器,按照自己的规则进行分词"
   ]
  },
  {
   "cell_type": "code",
   "execution_count": 42,
   "metadata": {},
   "outputs": [
    {
     "name": "stdout",
     "output_type": "stream",
     "text": [
      "['https', 't', 'co', '9z2J3P33Uc']\n",
      "['://', '.', '/']\n",
      "['laugh', 'cry']\n",
      "['/']\n",
      "[]\n",
      "['😬😭😓🤢🙄😱']\n",
      "[\"world's\", 'problems']\n",
      "[' ']\n",
      "['datageneral']\n",
      "['@']\n",
      "[\"It's\", 'interesting']\n",
      "[' ']\n",
      "[\"don't\", 'spell', 'my', 'name', 'right']\n",
      "[' ', ' ', ' ', ' ']\n",
      "['all', 'nighter']\n",
      "['-']\n"
     ]
    }
   ],
   "source": [
    "from nltk.tokenize import RegexpTokenizer\n",
    "\n",
    "compare_list = ['https://t.co/9z2J3P33Uc',\n",
    "               'laugh/cry',\n",
    "               '😬😭😓🤢🙄😱',\n",
    "               \"world's problems\",\n",
    "               \"@datageneral\",\n",
    "                \"It's interesting\",\n",
    "               \"don't spell my name right\",\n",
    "               'all-nighter']\n",
    "\n",
    "#按照正则表达式进行re.findall()\n",
    "match_tokenizer = RegexpTokenizer(\"[\\w']+\") #\\w+ 连续匹配多个字符(字母、数字、下划线),匹配任何非空白字符\n",
    "#指定gaps=True会按照正则表达式进行re.split()\n",
    "match_tokenizer_gap = RegexpTokenizer(\"[\\w']+\",gaps=True)\n",
    "\n",
    "match_tokens = []\n",
    "match_tokens_gap = []\n",
    "for sent in compare_list:   \n",
    "    print(match_tokenizer.tokenize(sent))\n",
    "    print(match_tokenizer_gap.tokenize(sent))\n",
    "    match_tokens.append(match_tokenizer.tokenize(sent))\n",
    "    match_tokens_gap.append(match_tokenizer_gap.tokenize(sent))"
   ]
  },
  {
   "cell_type": "markdown",
   "metadata": {},
   "source": [
    "#### WhitespaceTokenizer\n",
    "\n",
    "```WhitespaceTokenizer```\n",
    "Tokenize a string on whitespace (space, tab, newline). In general, users should use the string split() method instead.\n"
   ]
  },
  {
   "cell_type": "markdown",
   "metadata": {},
   "source": [
    "```WhitespaceTokenizer```是RegexpTokenizer的子类  内部预设了使用正则表达式r'\\s*\\n\\s*\\n\\s*'进行分割"
   ]
  },
  {
   "cell_type": "code",
   "execution_count": 12,
   "metadata": {},
   "outputs": [
    {
     "name": "stdout",
     "output_type": "stream",
     "text": [
      "Good muffins cost $3.88\n",
      "in New York.  Please buy me\n",
      "two of them.\n",
      "\n",
      "Thanks.\n",
      "\n",
      "WhitespaceTokenizer:\n"
     ]
    },
    {
     "data": {
      "text/plain": [
       "['Good',\n",
       " 'muffins',\n",
       " 'cost',\n",
       " '$3.88',\n",
       " 'in',\n",
       " 'New',\n",
       " 'York.',\n",
       " 'Please',\n",
       " 'buy',\n",
       " 'me',\n",
       " 'two',\n",
       " 'of',\n",
       " 'them.',\n",
       " 'Thanks.']"
      ]
     },
     "execution_count": 12,
     "metadata": {},
     "output_type": "execute_result"
    }
   ],
   "source": [
    "from nltk.tokenize import WhitespaceTokenizer, WordPunctTokenizer\n",
    "s = \"Good muffins cost $3.88\\nin New York.  Please buy me\\ntwo of them.\\n\\nThanks.\"\n",
    "print(s)\n",
    "\n",
    "print('\\nWhitespaceTokenizer:')\n",
    "WhitespaceTokenizer().tokenize(s)"
   ]
  },
  {
   "cell_type": "markdown",
   "metadata": {},
   "source": [
    "#### WordPunctTokenizer\n",
    "```WordPunctTokenizer``` Tokenize a text into a sequence of alphabetic and non-alphabetic characters, using the regexp ```\\w+|[^\\w\\s]+```"
   ]
  },
  {
   "cell_type": "code",
   "execution_count": 13,
   "metadata": {},
   "outputs": [
    {
     "name": "stdout",
     "output_type": "stream",
     "text": [
      "WordPunctTokenizer:\n"
     ]
    },
    {
     "data": {
      "text/plain": [
       "['Good',\n",
       " 'muffins',\n",
       " 'cost',\n",
       " '$',\n",
       " '3',\n",
       " '.',\n",
       " '88',\n",
       " 'in',\n",
       " 'New',\n",
       " 'York',\n",
       " '.',\n",
       " 'Please',\n",
       " 'buy',\n",
       " 'me',\n",
       " 'two',\n",
       " 'of',\n",
       " 'them',\n",
       " '.',\n",
       " 'Thanks',\n",
       " '.']"
      ]
     },
     "execution_count": 13,
     "metadata": {},
     "output_type": "execute_result"
    }
   ],
   "source": [
    "print('WordPunctTokenizer:')\n",
    "WordPunctTokenizer().tokenize(s)"
   ]
  },
  {
   "cell_type": "markdown",
   "metadata": {},
   "source": [
    "**<span class=\"mark\">TODO</span>**\n",
    "\n",
    "Try to tokenize tweets with the `tweetokenizer`\n",
    "https://www.nltk.org/api/nltk.tokenize.html?highlight=word_tokenize\n",
    "\n",
    "`tweetokenizer`: a Tokenizer specifically suited for tweets.\n",
    "\n",
    "You can start with any sample tweets.\n",
    "\n",
    "Here is one example: \"@remy This is waaaaayyyy too much for you!!!!!!\""
   ]
  },
  {
   "cell_type": "code",
   "execution_count": 50,
   "metadata": {},
   "outputs": [
    {
     "name": "stdout",
     "output_type": "stream",
     "text": [
      "TweeTokenizer:\n",
      "['@remy', 'This', 'is', 'waaaaayyyy', 'too', 'much', 'for', 'you', '!', '!', '!'] \n",
      "\n",
      "WhitespaceTokenizer:\n",
      "['@remy', 'This', 'is', 'waaaaayyyy', 'too', 'much', 'for', 'you!!!!!!']\n"
     ]
    }
   ],
   "source": [
    "# Your code below\n",
    "from nltk.tokenize import TweetTokenizer\n",
    "tweettoken = TweetTokenizer()\n",
    "tweet = \"@remy This is waaaaayyyy too much for you!!!!!!\"\n",
    "print('TweeTokenizer:')\n",
    "print(tweettoken.tokenize(tweet),'\\n')\n",
    "\n",
    "# comparing with whitespace tokenizer\n",
    "print('WhitespaceTokenizer:')\n",
    "print(WhitespaceTokenizer().tokenize(tweet))"
   ]
  },
  {
   "cell_type": "markdown",
   "metadata": {},
   "source": [
    "**<span class=\"mark\">TODO</span>**\n",
    "\n",
    "Test to see how two different tokenizers would function when you pass the same text. \n",
    "\n",
    " * Test with the same tweet that you picked as your sample data previously\n",
    " * Test with 2 tokenizers from NLTK: ```word_tokenize``` and ```casual_tokenize```"
   ]
  },
  {
   "cell_type": "code",
   "execution_count": 16,
   "metadata": {},
   "outputs": [
    {
     "name": "stdout",
     "output_type": "stream",
     "text": [
      "['@', 'john', 'lol', 'that', 'was', '#', 'awesome', ':', ')']\n",
      "['@john', 'lol', 'that', 'was', '#awesome', ':)']\n"
     ]
    }
   ],
   "source": [
    "# Your code below\n",
    "test_tweet = \"@john lol that was #awesome :)\"\n",
    "print(nltk.word_tokenize(test_tweet))\n",
    "\n",
    "test_tweet = \"@john lol that was #awesome :)\"\n",
    "print(nltk.casual_tokenize(test_tweet))"
   ]
  },
  {
   "cell_type": "markdown",
   "metadata": {},
   "source": [
    "### Comparing tokenizers. \n",
    "Refer to this great resource: https://towardsdatascience.com/an-introduction-to-tweettokenizer-for-processing-tweets-9879389f8fe7\n",
    "\n",
    "Instead of taking the time to analyze the outcome of each tokenizer, we can put everything in one pd.dataframe for fast and accurate interpretation. How would you do it?\n",
    "\n",
    "**<span class=\"mark\">TODO for later</span>**"
   ]
  },
  {
   "cell_type": "code",
   "execution_count": 51,
   "metadata": {},
   "outputs": [
    {
     "name": "stdout",
     "output_type": "stream",
     "text": [
      "['https', ':', '//t.co/9z2J3P33Uc']\n",
      "['laugh/cry']\n",
      "['😬😭😓🤢🙄😱']\n",
      "['world', \"'s\", 'problems']\n",
      "['@', 'datageneral']\n",
      "['It', \"'s\", 'interesting']\n",
      "['do', \"n't\", 'spell', 'my', 'name', 'right']\n",
      "['all-nighter']\n",
      "['https://t.co/9z2J3P33Uc']\n",
      "['laugh/cry']\n",
      "['😬😭😓🤢🙄😱']\n",
      "[\"world's\", 'problems']\n",
      "['@datageneral']\n",
      "[\"It's\", 'interesting']\n",
      "[\"don't\", 'spell', 'my', 'name', 'right']\n",
      "['all-nighter']\n",
      "['https', '://', 't', '.', 'co', '/', '9z2J3P33Uc']\n",
      "['laugh', '/', 'cry']\n",
      "['😬😭😓🤢🙄😱']\n",
      "['world', \"'\", 's', 'problems']\n",
      "['@', 'datageneral']\n",
      "['It', \"'\", 's', 'interesting']\n",
      "['don', \"'\", 't', 'spell', 'my', 'name', 'right']\n",
      "['all', '-', 'nighter']\n",
      "['https://t.co/9z2J3P33Uc']\n",
      "['laugh', '/', 'cry']\n",
      "['😬', '😭', '😓', '🤢', '🙄', '😱']\n",
      "[\"world's\", 'problems']\n",
      "['@datageneral']\n",
      "[\"It's\", 'interesting']\n",
      "[\"don't\", 'spell', 'my', 'name', 'right']\n",
      "['all-nighter']\n"
     ]
    }
   ],
   "source": [
    "from nltk.tokenize import word_tokenize,RegexpTokenizer, WordPunctTokenizer, WhitespaceTokenizer,TweetTokenizer\n",
    "\n",
    "compare_list = ['https://t.co/9z2J3P33Uc',\n",
    "               'laugh/cry',\n",
    "               '😬😭😓🤢🙄😱',\n",
    "               \"world's problems\",\n",
    "               \"@datageneral\",\n",
    "                \"It's interesting\",\n",
    "               \"don't spell my name right\",\n",
    "               'all-nighter']\n",
    "\n",
    "word_tokens = []\n",
    "for sent in compare_list:\n",
    "    print(word_tokenize(sent))\n",
    "    word_tokens.append(word_tokenize(sent))\n",
    "\n",
    "match_tokenizer = RegexpTokenizer(\"[\\w']+\")\n",
    "match_tokens = []\n",
    "for sent in compare_list:   \n",
    "    print(match_tokenizer.tokenize(sent))\n",
    "    match_tokens.append(match_tokenizer.tokenize(sent))\n",
    "\n",
    "space_tokenizer=WhitespaceTokenizer()\n",
    "space_tokens=[]\n",
    "for sent in compare_list:\n",
    "    print(space_tokenizer.tokenize(sent))\n",
    "    space_tokens.append(space_tokenizer.tokenize(sent))\n",
    "\n",
    "punct_tokenizer = WordPunctTokenizer()\n",
    "punct_tokens = []\n",
    "for sent in compare_list:\n",
    "    print(punct_tokenizer.tokenize(sent))\n",
    "    punct_tokens.append(punct_tokenizer.tokenize(sent))\n",
    "\n",
    "tweet_tokenizer = TweetTokenizer()\n",
    "tweet_tokens = []\n",
    "for sent in compare_list:\n",
    "    print(tweet_tokenizer.tokenize(sent))\n",
    "    tweet_tokens.append(tweet_tokenizer.tokenize(sent))\n"
   ]
  },
  {
   "cell_type": "code",
   "execution_count": 53,
   "metadata": {},
   "outputs": [
    {
     "data": {
      "text/html": [
       "<div>\n",
       "<style scoped>\n",
       "    .dataframe tbody tr th:only-of-type {\n",
       "        vertical-align: middle;\n",
       "    }\n",
       "\n",
       "    .dataframe tbody tr th {\n",
       "        vertical-align: top;\n",
       "    }\n",
       "\n",
       "    .dataframe thead th {\n",
       "        text-align: right;\n",
       "    }\n",
       "</style>\n",
       "<table border=\"1\" class=\"dataframe\">\n",
       "  <thead>\n",
       "    <tr style=\"text-align: right;\">\n",
       "      <th></th>\n",
       "      <th>word_tokenize</th>\n",
       "      <th>RegrexTokenizer</th>\n",
       "      <th>WhitespaceTokenizer</th>\n",
       "      <th>WordPunctTokenizer</th>\n",
       "      <th>TweetTokenizer</th>\n",
       "    </tr>\n",
       "  </thead>\n",
       "  <tbody>\n",
       "    <tr>\n",
       "      <th>0</th>\n",
       "      <td>[https, :, //t.co/9z2J3P33Uc]</td>\n",
       "      <td>[https, t, co, 9z2J3P33Uc]</td>\n",
       "      <td>[https://t.co/9z2J3P33Uc]</td>\n",
       "      <td>[https, ://, t, ., co, /, 9z2J3P33Uc]</td>\n",
       "      <td>[https://t.co/9z2J3P33Uc]</td>\n",
       "    </tr>\n",
       "    <tr>\n",
       "      <th>1</th>\n",
       "      <td>[laugh/cry]</td>\n",
       "      <td>[laugh, cry]</td>\n",
       "      <td>[laugh/cry]</td>\n",
       "      <td>[laugh, /, cry]</td>\n",
       "      <td>[laugh, /, cry]</td>\n",
       "    </tr>\n",
       "    <tr>\n",
       "      <th>2</th>\n",
       "      <td>[😬😭😓🤢🙄😱]</td>\n",
       "      <td>[]</td>\n",
       "      <td>[😬😭😓🤢🙄😱]</td>\n",
       "      <td>[😬😭😓🤢🙄😱]</td>\n",
       "      <td>[😬, 😭, 😓, 🤢, 🙄, 😱]</td>\n",
       "    </tr>\n",
       "    <tr>\n",
       "      <th>3</th>\n",
       "      <td>[world, 's, problems]</td>\n",
       "      <td>[world's, problems]</td>\n",
       "      <td>[world's, problems]</td>\n",
       "      <td>[world, ', s, problems]</td>\n",
       "      <td>[world's, problems]</td>\n",
       "    </tr>\n",
       "    <tr>\n",
       "      <th>4</th>\n",
       "      <td>[@, datageneral]</td>\n",
       "      <td>[datageneral]</td>\n",
       "      <td>[@datageneral]</td>\n",
       "      <td>[@, datageneral]</td>\n",
       "      <td>[@datageneral]</td>\n",
       "    </tr>\n",
       "    <tr>\n",
       "      <th>5</th>\n",
       "      <td>[It, 's, interesting]</td>\n",
       "      <td>[It's, interesting]</td>\n",
       "      <td>[It's, interesting]</td>\n",
       "      <td>[It, ', s, interesting]</td>\n",
       "      <td>[It's, interesting]</td>\n",
       "    </tr>\n",
       "    <tr>\n",
       "      <th>6</th>\n",
       "      <td>[do, n't, spell, my, name, right]</td>\n",
       "      <td>[don't, spell, my, name, right]</td>\n",
       "      <td>[don't, spell, my, name, right]</td>\n",
       "      <td>[don, ', t, spell, my, name, right]</td>\n",
       "      <td>[don't, spell, my, name, right]</td>\n",
       "    </tr>\n",
       "    <tr>\n",
       "      <th>7</th>\n",
       "      <td>[all-nighter]</td>\n",
       "      <td>[all, nighter]</td>\n",
       "      <td>[all-nighter]</td>\n",
       "      <td>[all, -, nighter]</td>\n",
       "      <td>[all-nighter]</td>\n",
       "    </tr>\n",
       "  </tbody>\n",
       "</table>\n",
       "</div>"
      ],
      "text/plain": [
       "                       word_tokenize                  RegrexTokenizer  \\\n",
       "0      [https, :, //t.co/9z2J3P33Uc]       [https, t, co, 9z2J3P33Uc]   \n",
       "1                        [laugh/cry]                     [laugh, cry]   \n",
       "2                           [😬😭😓🤢🙄😱]                               []   \n",
       "3              [world, 's, problems]              [world's, problems]   \n",
       "4                   [@, datageneral]                    [datageneral]   \n",
       "5              [It, 's, interesting]              [It's, interesting]   \n",
       "6  [do, n't, spell, my, name, right]  [don't, spell, my, name, right]   \n",
       "7                      [all-nighter]                   [all, nighter]   \n",
       "\n",
       "               WhitespaceTokenizer                     WordPunctTokenizer  \\\n",
       "0        [https://t.co/9z2J3P33Uc]  [https, ://, t, ., co, /, 9z2J3P33Uc]   \n",
       "1                      [laugh/cry]                        [laugh, /, cry]   \n",
       "2                         [😬😭😓🤢🙄😱]                               [😬😭😓🤢🙄😱]   \n",
       "3              [world's, problems]                [world, ', s, problems]   \n",
       "4                   [@datageneral]                       [@, datageneral]   \n",
       "5              [It's, interesting]                [It, ', s, interesting]   \n",
       "6  [don't, spell, my, name, right]    [don, ', t, spell, my, name, right]   \n",
       "7                    [all-nighter]                      [all, -, nighter]   \n",
       "\n",
       "                    TweetTokenizer  \n",
       "0        [https://t.co/9z2J3P33Uc]  \n",
       "1                  [laugh, /, cry]  \n",
       "2               [😬, 😭, 😓, 🤢, 🙄, 😱]  \n",
       "3              [world's, problems]  \n",
       "4                   [@datageneral]  \n",
       "5              [It's, interesting]  \n",
       "6  [don't, spell, my, name, right]  \n",
       "7                    [all-nighter]  "
      ]
     },
     "execution_count": 53,
     "metadata": {},
     "output_type": "execute_result"
    }
   ],
   "source": [
    "import pandas as pd\n",
    "tokenizers = {'word_tokenize': word_tokens,\n",
    "              'RegrexTokenizer':match_tokens,\n",
    "              'WhitespaceTokenizer': space_tokens,\n",
    "             'WordPunctTokenizer':punct_tokens,\n",
    "             'TweetTokenizer': tweet_tokens }\n",
    "df = pd.DataFrame.from_dict(tokenizers)\n",
    "df"
   ]
  },
  {
   "cell_type": "markdown",
   "metadata": {},
   "source": [
    "## Stopwords"
   ]
  },
  {
   "cell_type": "code",
   "execution_count": 24,
   "metadata": {},
   "outputs": [],
   "source": [
    "from nltk.corpus import stopwords #nltk.download('stopwords')"
   ]
  },
  {
   "cell_type": "code",
   "execution_count": 25,
   "metadata": {
    "scrolled": true
   },
   "outputs": [
    {
     "data": {
      "text/plain": [
       "{'a',\n",
       " 'about',\n",
       " 'above',\n",
       " 'after',\n",
       " 'again',\n",
       " 'against',\n",
       " 'ain',\n",
       " 'all',\n",
       " 'am',\n",
       " 'an',\n",
       " 'and',\n",
       " 'any',\n",
       " 'are',\n",
       " 'aren',\n",
       " \"aren't\",\n",
       " 'as',\n",
       " 'at',\n",
       " 'be',\n",
       " 'because',\n",
       " 'been',\n",
       " 'before',\n",
       " 'being',\n",
       " 'below',\n",
       " 'between',\n",
       " 'both',\n",
       " 'but',\n",
       " 'by',\n",
       " 'can',\n",
       " 'couldn',\n",
       " \"couldn't\",\n",
       " 'd',\n",
       " 'did',\n",
       " 'didn',\n",
       " \"didn't\",\n",
       " 'do',\n",
       " 'does',\n",
       " 'doesn',\n",
       " \"doesn't\",\n",
       " 'doing',\n",
       " 'don',\n",
       " \"don't\",\n",
       " 'down',\n",
       " 'during',\n",
       " 'each',\n",
       " 'few',\n",
       " 'for',\n",
       " 'from',\n",
       " 'further',\n",
       " 'had',\n",
       " 'hadn',\n",
       " \"hadn't\",\n",
       " 'has',\n",
       " 'hasn',\n",
       " \"hasn't\",\n",
       " 'have',\n",
       " 'haven',\n",
       " \"haven't\",\n",
       " 'having',\n",
       " 'he',\n",
       " 'her',\n",
       " 'here',\n",
       " 'hers',\n",
       " 'herself',\n",
       " 'him',\n",
       " 'himself',\n",
       " 'his',\n",
       " 'how',\n",
       " 'i',\n",
       " 'if',\n",
       " 'in',\n",
       " 'into',\n",
       " 'is',\n",
       " 'isn',\n",
       " \"isn't\",\n",
       " 'it',\n",
       " \"it's\",\n",
       " 'its',\n",
       " 'itself',\n",
       " 'just',\n",
       " 'll',\n",
       " 'm',\n",
       " 'ma',\n",
       " 'me',\n",
       " 'mightn',\n",
       " \"mightn't\",\n",
       " 'more',\n",
       " 'most',\n",
       " 'mustn',\n",
       " \"mustn't\",\n",
       " 'my',\n",
       " 'myself',\n",
       " 'needn',\n",
       " \"needn't\",\n",
       " 'no',\n",
       " 'nor',\n",
       " 'not',\n",
       " 'now',\n",
       " 'o',\n",
       " 'of',\n",
       " 'off',\n",
       " 'on',\n",
       " 'once',\n",
       " 'only',\n",
       " 'or',\n",
       " 'other',\n",
       " 'our',\n",
       " 'ours',\n",
       " 'ourselves',\n",
       " 'out',\n",
       " 'over',\n",
       " 'own',\n",
       " 're',\n",
       " 's',\n",
       " 'same',\n",
       " 'shan',\n",
       " \"shan't\",\n",
       " 'she',\n",
       " \"she's\",\n",
       " 'should',\n",
       " \"should've\",\n",
       " 'shouldn',\n",
       " \"shouldn't\",\n",
       " 'so',\n",
       " 'some',\n",
       " 'such',\n",
       " 't',\n",
       " 'than',\n",
       " 'that',\n",
       " \"that'll\",\n",
       " 'the',\n",
       " 'their',\n",
       " 'theirs',\n",
       " 'them',\n",
       " 'themselves',\n",
       " 'then',\n",
       " 'there',\n",
       " 'these',\n",
       " 'they',\n",
       " 'this',\n",
       " 'those',\n",
       " 'through',\n",
       " 'to',\n",
       " 'too',\n",
       " 'under',\n",
       " 'until',\n",
       " 'up',\n",
       " 've',\n",
       " 'very',\n",
       " 'was',\n",
       " 'wasn',\n",
       " \"wasn't\",\n",
       " 'we',\n",
       " 'were',\n",
       " 'weren',\n",
       " \"weren't\",\n",
       " 'what',\n",
       " 'when',\n",
       " 'where',\n",
       " 'which',\n",
       " 'while',\n",
       " 'who',\n",
       " 'whom',\n",
       " 'why',\n",
       " 'will',\n",
       " 'with',\n",
       " 'won',\n",
       " \"won't\",\n",
       " 'wouldn',\n",
       " \"wouldn't\",\n",
       " 'y',\n",
       " 'you',\n",
       " \"you'd\",\n",
       " \"you'll\",\n",
       " \"you're\",\n",
       " \"you've\",\n",
       " 'your',\n",
       " 'yours',\n",
       " 'yourself',\n",
       " 'yourselves'}"
      ]
     },
     "execution_count": 25,
     "metadata": {},
     "output_type": "execute_result"
    }
   ],
   "source": [
    "stopeng = set(stopwords.words('english'))\n",
    "stopeng"
   ]
  },
  {
   "cell_type": "code",
   "execution_count": 26,
   "metadata": {},
   "outputs": [
    {
     "name": "stdout",
     "output_type": "stream",
     "text": [
      "['nasa', 'mars', 'rover', 'is', 'bringing', '10.9', 'million', 'names', 'to', 'the', 'red', 'planet']\n",
      "\n",
      " ['nasa', 'mars', 'rover', 'bringing', '10.9', 'million', 'names', 'red', 'planet']\n"
     ]
    }
   ],
   "source": [
    "# remove stopwords from text\n",
    "\n",
    "#text = \"Netanyahu's visit was cut short by reports late Sunday that a rocket was fired from Gaza into central Israel, wounding at least seven people. Following criticism from political opponents over what they consider the prime minister's unclear stance toward the militant political group, Israel responded with a series of strikes into Gaza against Hamas, which largely governs the contested strip. President Donald Trump tacitly endorsed the strike following his meetings with Netanyahu, calling the Hamas attack \\\"despicable.\\\"\"\n",
    "text = \"NASA Mars Rover Is Bringing 10.9 Million Names to the Red Planet\"\n",
    "\n",
    "# first tokenize text into words\n",
    "tokens = word_tokenize( text.lower() )\n",
    "print(tokens)\n",
    "tokens_nostop = [w for w in tokens if w not in stopeng]\n",
    "\n",
    "print('\\n', tokens_nostop)"
   ]
  },
  {
   "cell_type": "markdown",
   "metadata": {},
   "source": [
    "## Stemming词干提取\n",
    "\n",
    "http://www.nltk.org/howto/stem.html"
   ]
  },
  {
   "cell_type": "code",
   "execution_count": 54,
   "metadata": {},
   "outputs": [
    {
     "data": {
      "text/plain": [
       "[('mars', 'mar'), ('bringing', 'bring'), ('names', 'name')]"
      ]
     },
     "execution_count": 54,
     "metadata": {},
     "output_type": "execute_result"
    }
   ],
   "source": [
    "from nltk.stem import PorterStemmer\n",
    "from nltk.tokenize import sent_tokenize, word_tokenize\n",
    "\n",
    "ps = PorterStemmer()\n",
    "tokens_porter = [(w, ps.stem(w)) for w in tokens_nostop if w != ps.stem(w)]\n",
    "tokens_porter"
   ]
  },
  {
   "cell_type": "markdown",
   "metadata": {},
   "source": [
    "# Text cleaning"
   ]
  },
  {
   "cell_type": "code",
   "execution_count": 1,
   "metadata": {},
   "outputs": [
    {
     "name": "stdout",
     "output_type": "stream",
     "text": [
      "Beginning file download with urllib2...\n"
     ]
    },
    {
     "data": {
      "text/plain": [
       "('./noisy_twitter.csv', <http.client.HTTPMessage at 0x7f8c68448970>)"
      ]
     },
     "execution_count": 1,
     "metadata": {},
     "output_type": "execute_result"
    }
   ],
   "source": [
    "## Download an example tweets file  \n",
    "## https://raw.githubusercontent.com/fivethirtyeight/data/master/trump-twitter/realDonaldTrump_poll_tweets.csv\n",
    "\n",
    "import urllib.request\n",
    "\n",
    "print('Beginning file download with urllib2...')\n",
    "\n",
    "# url at which the file is in direct downloadable format\n",
    "url = 'https://raw.githubusercontent.com/fivethirtyeight/data/master/trump-twitter/realDonaldTrump_poll_tweets.csv'\n",
    "\n",
    "urllib.request.urlretrieve(url, './noisy_twitter.csv')"
   ]
  },
  {
   "cell_type": "markdown",
   "metadata": {},
   "source": [
    "<span class=\"mark\">**What is `urllib.request.urlretrieve` doing??**</span>"
   ]
  },
  {
   "cell_type": "markdown",
   "metadata": {},
   "source": [
    "download the file with `urlretrieve` and specify the name by which it will be stored"
   ]
  },
  {
   "cell_type": "markdown",
   "metadata": {},
   "source": [
    "### Reading the csv as pandas dataframe"
   ]
  },
  {
   "cell_type": "code",
   "execution_count": 13,
   "metadata": {},
   "outputs": [
    {
     "data": {
      "text/html": [
       "<div>\n",
       "<style scoped>\n",
       "    .dataframe tbody tr th:only-of-type {\n",
       "        vertical-align: middle;\n",
       "    }\n",
       "\n",
       "    .dataframe tbody tr th {\n",
       "        vertical-align: top;\n",
       "    }\n",
       "\n",
       "    .dataframe thead th {\n",
       "        text-align: right;\n",
       "    }\n",
       "</style>\n",
       "<table border=\"1\" class=\"dataframe\">\n",
       "  <thead>\n",
       "    <tr style=\"text-align: right;\">\n",
       "      <th></th>\n",
       "      <th>id</th>\n",
       "      <th>created_at</th>\n",
       "      <th>text</th>\n",
       "    </tr>\n",
       "  </thead>\n",
       "  <tbody>\n",
       "    <tr>\n",
       "      <th>0</th>\n",
       "      <td>765629939811020802</td>\n",
       "      <td>8/16/2016 19:22:57</td>\n",
       "      <td>It's just a 2-point race, Clinton 38%, Trump 3...</td>\n",
       "    </tr>\n",
       "    <tr>\n",
       "      <th>1</th>\n",
       "      <td>758731880183193601</td>\n",
       "      <td>7/28/2016 18:32:31</td>\n",
       "      <td>\"@LallyRay: Poll: Donald Trump Sees 17-Point P...</td>\n",
       "    </tr>\n",
       "    <tr>\n",
       "      <th>2</th>\n",
       "      <td>758350470402408449</td>\n",
       "      <td>7/27/2016 17:16:56</td>\n",
       "      <td>Great new poll - thank you!\\n#MakeAmericaGreat...</td>\n",
       "    </tr>\n",
       "    <tr>\n",
       "      <th>3</th>\n",
       "      <td>757577508346888192</td>\n",
       "      <td>7/25/2016 14:05:27</td>\n",
       "      <td>Great POLL numbers are coming out all over. Pe...</td>\n",
       "    </tr>\n",
       "    <tr>\n",
       "      <th>4</th>\n",
       "      <td>753603401854881793</td>\n",
       "      <td>7/14/2016 14:53:46</td>\n",
       "      <td>Another new poll. Thank you for your support! ...</td>\n",
       "    </tr>\n",
       "  </tbody>\n",
       "</table>\n",
       "</div>"
      ],
      "text/plain": [
       "                   id          created_at  \\\n",
       "0  765629939811020802  8/16/2016 19:22:57   \n",
       "1  758731880183193601  7/28/2016 18:32:31   \n",
       "2  758350470402408449  7/27/2016 17:16:56   \n",
       "3  757577508346888192  7/25/2016 14:05:27   \n",
       "4  753603401854881793  7/14/2016 14:53:46   \n",
       "\n",
       "                                                text  \n",
       "0  It's just a 2-point race, Clinton 38%, Trump 3...  \n",
       "1  \"@LallyRay: Poll: Donald Trump Sees 17-Point P...  \n",
       "2  Great new poll - thank you!\\n#MakeAmericaGreat...  \n",
       "3  Great POLL numbers are coming out all over. Pe...  \n",
       "4  Another new poll. Thank you for your support! ...  "
      ]
     },
     "execution_count": 13,
     "metadata": {},
     "output_type": "execute_result"
    }
   ],
   "source": [
    "# first install pandas library and then import it\n",
    "import pandas as pd\n",
    "\n",
    "#read the file into dataframe. \"header=0\" means the first row will be considered as a header\n",
    "frame = pd.read_csv(\"./noisy_twitter.csv\", header=0, dtype={'id':str,\"created_at\":str,'text':str})\n",
    "\n",
    "#print first 5 rows\n",
    "frame.head()"
   ]
  },
  {
   "cell_type": "code",
   "execution_count": 14,
   "metadata": {},
   "outputs": [
    {
     "data": {
      "text/html": [
       "<div>\n",
       "<style scoped>\n",
       "    .dataframe tbody tr th:only-of-type {\n",
       "        vertical-align: middle;\n",
       "    }\n",
       "\n",
       "    .dataframe tbody tr th {\n",
       "        vertical-align: top;\n",
       "    }\n",
       "\n",
       "    .dataframe thead th {\n",
       "        text-align: right;\n",
       "    }\n",
       "</style>\n",
       "<table border=\"1\" class=\"dataframe\">\n",
       "  <thead>\n",
       "    <tr style=\"text-align: right;\">\n",
       "      <th></th>\n",
       "      <th>id</th>\n",
       "      <th>created_at</th>\n",
       "      <th>text</th>\n",
       "    </tr>\n",
       "  </thead>\n",
       "  <tbody>\n",
       "    <tr>\n",
       "      <th>443</th>\n",
       "      <td>628255460467077120</td>\n",
       "      <td>8/3/2015 17:25:48</td>\n",
       "      <td>RT @JonScottFNC: .@realDonaldTrump Surges in N...</td>\n",
       "    </tr>\n",
       "    <tr>\n",
       "      <th>444</th>\n",
       "      <td>628224939041136640</td>\n",
       "      <td>8/3/2015 15:24:31</td>\n",
       "      <td>RT @foxandfriends: Days before the first Repub...</td>\n",
       "    </tr>\n",
       "    <tr>\n",
       "      <th>445</th>\n",
       "      <td>628115657431891968</td>\n",
       "      <td>8/3/2015 8:10:17</td>\n",
       "      <td>\"@FoxNews: .@ericbolling: \"Polls show [@realDo...</td>\n",
       "    </tr>\n",
       "    <tr>\n",
       "      <th>446</th>\n",
       "      <td>628044625962512384</td>\n",
       "      <td>8/3/2015 3:28:01</td>\n",
       "      <td>\"@CoachZachCooper:  Congratulations on leading...</td>\n",
       "    </tr>\n",
       "    <tr>\n",
       "      <th>447</th>\n",
       "      <td>627526914169806849</td>\n",
       "      <td>8/1/2015 17:10:49</td>\n",
       "      <td>RT @FoxNews: .@ericbolling: \"Polls show [@real...</td>\n",
       "    </tr>\n",
       "  </tbody>\n",
       "</table>\n",
       "</div>"
      ],
      "text/plain": [
       "                     id         created_at  \\\n",
       "443  628255460467077120  8/3/2015 17:25:48   \n",
       "444  628224939041136640  8/3/2015 15:24:31   \n",
       "445  628115657431891968   8/3/2015 8:10:17   \n",
       "446  628044625962512384   8/3/2015 3:28:01   \n",
       "447  627526914169806849  8/1/2015 17:10:49   \n",
       "\n",
       "                                                  text  \n",
       "443  RT @JonScottFNC: .@realDonaldTrump Surges in N...  \n",
       "444  RT @foxandfriends: Days before the first Repub...  \n",
       "445  \"@FoxNews: .@ericbolling: \"Polls show [@realDo...  \n",
       "446  \"@CoachZachCooper:  Congratulations on leading...  \n",
       "447  RT @FoxNews: .@ericbolling: \"Polls show [@real...  "
      ]
     },
     "execution_count": 14,
     "metadata": {},
     "output_type": "execute_result"
    }
   ],
   "source": [
    "#print last 5 rows\n",
    "frame.tail()"
   ]
  },
  {
   "cell_type": "code",
   "execution_count": 15,
   "metadata": {},
   "outputs": [
    {
     "data": {
      "text/plain": [
       "[\"It's just a 2-point race, Clinton 38%, Trump 36%' https://t.co/EzDzJ4EzIN\",\n",
       " '\"@LallyRay: Poll: Donald Trump Sees 17-Point Positive Swing in Two Weeks - Breitbart https://t.co/bVAj52fA3Y @realdonaldtrump\"  Great!',\n",
       " 'Great new poll - thank you!\\n#MakeAmericaGreatAgain https://t.co/mXovx0TLPC',\n",
       " \"Great POLL numbers are coming out all over. People don't want another four years of Obama, and Crooked Hillary would be even worse. #MAGA\",\n",
       " 'Another new poll. Thank you for your support! Join the MOVEMENT today! \\n#ImWithYou https://t.co/3KWOl2ibaW https://t.co/miT4atHxQz',\n",
       " 'Great new poll- thank you America!\\n#Trump2016 #ImWithYou https://t.co/aVH9c5QRwc',\n",
       " 'Despite spending $500k a day on TV ads alone #CrookedHillary falls flat in nationwide @QuinnipiacPoll. Having ZERO impact. Sad!!',\n",
       " 'Great poll- Florida! Thank you! https://t.co/4FuPpL5WOM',\n",
       " 'New poll - thank you! #Trump2016\\nhttps://t.co/Mi87Vmw06H https://t.co/WmqvcYG4r3',\n",
       " 'New Q poll out- we are going to win the whole deal- and MAKE AMERICA GREAT AGAIN! #Trump2016 https://t.co/dL5ahNcwZb',\n",
       " 'The \"dirty\" poll done by @ABC @washingtonpost is a disgrace. Even they admit that many more Democrats were polled. Other polls were good.',\n",
       " 'Hillary Clinton is not a change agent, just the same old status quo! She is spending a fortune, I am spending very little. Close in polls!',\n",
       " 'The @ABC poll sample is heavy on Democrats.  Very dishonest - why would they do that? Other polls good!',\n",
       " 'So many great things happening - new poll numbers looking good! News conference at 11:00 A.M. today, Trump Tower!',\n",
       " 'Poll data shows that @marcorubio does by far the best in holding onto his Senate seat in Florida. Important to keep the MAJORITY. Run Marco!',\n",
       " 'RT @gatewaypundit: BREAKING POLL: Trump Gains 11 Points on Clinton Since March=&gt; Now Leads Crooked Hillary 46-44 https://t.co/y3BGy15Erb vi…',\n",
       " 'Great new poll- thank you!\\n#MakeAmericaGreatAgain #Trump2016 https://t.co/SZyZ8GkF23',\n",
       " 'Great new poll- thank you! https://t.co/ytzesbCZas',\n",
       " 'RT @greta: interesting poll results so far (and go vote on https://t.co/0Zv2YvEdRX) https://t.co/BnsRf9GSxC',\n",
       " 'As soon as John Kasich is hit with negative ads, he will drop like a rock in the polls against Crooked Hillary Clinton. I will win!',\n",
       " 'Kasich only looks O.K. in polls against Hillary because nobody views him as a threat and therefore have placed ZERO negative ads against him',\n",
       " '\"@Ollie_621: @FoxNews @realDonaldTrump I think it\\'s more like 64%. #VoteTrumpNY🗽 #MakeAmericaGreatAgain!',\n",
       " '\"@AshleyEdam: New CBS Poll shows defections from Cruz\\'s core supporters &amp; increased support for @realDonaldTrump ...Not surprising.\"',\n",
       " 'WOW, great new poll- New York! Thank you for your support! #Trump2016\\n#NewYorkValues https://t.co/kuvCXJXjcr https://t.co/WSVmdI8vfZ',\n",
       " '\"@Theresa_Cali: Poll shows @realDonaldTrump leads among registered Republican women with 44%. 👍🏻 https://t.co/yQmh3iSPBY\" Thank you!',\n",
       " 'How come the @TODAYshow &amp; @chucktodd show the new @NBCNews Poll for Hillary vs Bernie but do not show the SAME poll where I am killing Cruz?',\n",
       " \"Don't believe the @FoxNews Polls, they are just another phony hit job on me. I will beat Hillary Clinton easily in the General Election.\",\n",
       " '\"@cmichaeld2004: Realistic Trump Poll Numbers translate to the 70 percentile range in a two-man race. Gee, what happened to that 30% ceiling',\n",
       " 'I guess I have reached yet another \"ceiling\"  - 49.7%, with four people. My highest Reuters poll yet! Thank you! https://t.co/k5Ft585Arp',\n",
       " \"Can't watch Crazy Megyn anymore. Talks about me at 43% but never mentions that there are four people in race. With two people, big &amp; over!\",\n",
       " 'I hear @NBCNews / @WSJ came out with another one of their phony polls. While I am leading, they are totally discredited after last S.C. poll',\n",
       " 'Failed presidential candidate Lindsey Graham should respect me. I destroyed his run, brought him from 7% to 0% when he got out. Now nasty!',\n",
       " 'Why would anyone in Kentucky listen to failed presidential candidate Rand Paul re: caucus. Made a fool of himself (1%.)\\nKY his 2nd choice!',\n",
       " '.@CNN poll just hit 49% for Trump. Interesting how my numbers have gone so far up since lightweight Marco Rubio has turned nasty. Love it!',\n",
       " '\"@SassyPantsjj: Michigan GOP poll 2/24/2016 Trump 35.5 Rubio 15.0 Cruz 14.3 Kasich 12.8 Carson 8.3 @realDonaldTrump\" Wow!',\n",
       " 'Wow, every poll said I won the debate last night. Great honor!',\n",
       " '\"@Slytle24: @davidaxelrod @realDonaldTrump @CNN he won almost all polls and Mark Halperin gave him an A-',\n",
       " 'All the online polls have me winning the debate. I really enjoyed the evening. Not easy, but good. https://t.co/sLTmwVVM5I',\n",
       " 'Thank you! #GOPDebate Polls \\n#MakeAmericaGreatAgain https://t.co/At5vOiLCSy',\n",
       " 'Great new poll. Thank you Texas! #VoteTrump #MakeAmericaGreatAgain https://t.co/VHqAvsIyuW',\n",
       " 'Ted Cruz is lying again. Polls are showing that I do beat Hillary Clinton head to head. Check out https://t.co/45g7qpxq7T Poll snd Q Poll.',\n",
       " 'The polls show that I picked up many Jeb Bush supporters. That is how I got to 46%. When others drop out, I will pick up more.  Sad but true',\n",
       " \".@USATODAY Poll and @QuinnipiacPoll say that I beat both Hillary and Bernie, and I havn't even started on them yet!\",\n",
       " 'Wow, great Ohio poll. Shows me leading by 5 points, beating K!',\n",
       " 'Thank you Michigan! #VoteTrumpMI\\nTrump 35%\\nKasich 17%\\nCruz 12%\\nRubio 12%\\nCarson 9% \\nVia: ARG',\n",
       " 'Great poll! Thank you North Carolina! \\n#VoteTrumpNC on 3/15!\\nTrump 36%\\nCruz 18%\\nRubio 18%\\nCarson 10%\\nKasich 7%\\nVia @SurveyUSA',\n",
       " 'Thank you Illinois! Great news! #VoteTrumpIL on 3/15!\\nTrump 28%\\nCruz 15%\\nRubio 14%\\nKasich 13%\\nBush 8%\\nCarson 6%\\nSimon Poll/SIU',\n",
       " 'The failing @WSJ Wall Street Journal should fire both its pollster and its Editorial Board. Seldom has a paper been so wrong.Totally biased!',\n",
       " '.@FoxNews is changing their  theme from \"fair and balanced\" to \"unfair and unbalanced.\" But dying @WSJ is worse.Their phony poll is a  joke!',\n",
       " 'New CBS National Poll just out - massive lead for Trump. The Wall Street Journal/NBC Poll is a total joke. No wonder WSJ is doing so badly!',\n",
       " 'I love being in South Carolina. We are leading big in all of the State polls - Saturday is a BIG day. MAKE AMERICA GREAT AGAIN!',\n",
       " 'The just out USA Today National Poll, where I lead by big numbers, shows that in a head to head matchup, I beat both Hillary and Bernie.',\n",
       " 'Amazing that while I lead by big numbers in the new Q and and USA Today polls, the the press only wants to report on the phony WSJ/NBC poll.',\n",
       " \"Jeb Bush just got contact lenses and got rid of the glasses. He wants to look cool, but it's far too late. 1% in Nevada!\",\n",
       " 'Just out Nevada poll shows Jeb Bush at 1%, he should take his dumb mouthpiece, @LindseyGrahamSC, and just go home.',\n",
       " 'New PPP Poll just out - Trump up big, Cruz, Rubio and Bush down. The debate results, even with a stacked RNC audience, were wonderful!',\n",
       " 'New South Carolina poll from PPP. Thank you! #VoteTrumpSC https://t.co/6618Oi6vle',\n",
       " 'Wow, in the new CBS Poll I went way up into the forties! Thank you!',\n",
       " 'Even though every poll, Time, Drudge etc., has me winning the debate by a lot, @FoxNews only puts negative people on. Biased - a total joke!',\n",
       " 'Hey @glennbeck- see how I beat your boy Ted- in your own Blaze poll? Your endorsement means nothing! #GOPDebate',\n",
       " 'All polls have me winning debate big- Drudge, TIME, etc. Dopey Charles Krauthammer still nasty. He has zero cred- totally dishonest!',\n",
       " 'We are getting reports from many voters that the Cruz people are back to doing very sleazy and dishonest \"pushpolls\" on me. We are watching!',\n",
       " 'The polls are now showing that I am the best to win the GENERAL ELECTION. States that are never in play for Repubs will be won by me. Great!',\n",
       " '\"@JoeNBC: Latest UMass Tracking Poll. NH GOP Trump 35 (+1) Rubio 14 (-1) Cruz 13 (-1) Jeb 10 (+2) Kasich 10 (+2)\"',\n",
       " 'Taking a helicopter to New Hampshire, boarding now. Amazing activity planned. New UMASS poll, very nice! https://t.co/xFvGE0dRlA',\n",
       " \"Ted Cruz didn't win Iowa, he stole it. That is why all of the polls were so wrong and why he got far more votes than anticipated. Bad!\",\n",
       " 'RT @CLewandowski_: Trump winning over Latino Republicans, poll says | New York Post https://t.co/yiC3zavrmi',\n",
       " 'Ted Cruz is totally unelectable, if he even gets to run (born in Canada). Will loose big to Hillary. Polls show I beat Hillary easily! WIN!',\n",
       " 'Thank you!\\nMitchell FOX2 Michigan Poll finds Trump holds 3-1 lead over closest GOP opponents. \\nTrump 47% Clinton 43% https://t.co/xpaeV0YzGV',\n",
       " \"Great Twitter poll- and I wasn't even there. Thank you! #GOPDebate https://t.co/yLJGkoOeBg\",\n",
       " 'Good morning America! Thank you for all of your support in the latest Drudge poll! https://t.co/XDnixWnqwb https://t.co/yUTtLnALxy',\n",
       " \"Watching biased Charles @krauthammer, a @FoxNews flunky who didn't know that I won every debate, in particular- the last one. Check polls!\",\n",
       " 'Tennessee GOP Poll\\nhttps://t.co/hfSxKaXC42\\nTrump 32.7%\\nCruz 16.5%\\nCarson 6.6%\\nRubio 5.3%\\nChristie 2.4%\\nJeb 1.6%',\n",
       " '\"@michaelG4NY: new @nbcnews WSJ poll shows @realDonaldTrump pulling ahead of @tedcruz in #Iowa. https://t.co/18ktk7IZUd\"  Great!',\n",
       " '\"@realDonaldTrump hits new heights in national poll at 41%\" https://t.co/1Tzszrkh4j',\n",
       " '\"Donald Trump retains national lead in new ABC News/WaPo poll with 37%: https://t.co/xPjA3TBbTa\" https://t.co/6Uaecpwqwm',\n",
       " '\"@realDonaldTrump &amp; @HillaryClinton leading POLLS w/ one week until #IowaCaucus ...MORE on the 2016 elections TONIGHT on @FoxBusiness 7PM\"',\n",
       " 'Cruz going down fast in recent polls- dropping like a rock. Lies never work!',\n",
       " \"Ted Cruz is a nervous wreck. He is making reckless charges not caring for the truth! His poll #'s are way down!\",\n",
       " 'IPSOS/REUTERS POLL\\nThank you! #Trump2016 \\n#MakeAmericaGreatAgain https://t.co/sbzp75EPSq',\n",
       " 'Fox News Poll\\nThank you, New Hampshire! #FITN\\n#Trump2016 https://t.co/jC1qisBbit',\n",
       " 'New Fox News Poll\\nThank you, Iowa! #Trump2016 \\n#IACaucus https://t.co/aCj0Hq20hV',\n",
       " 'Ted Cruz poll numbers are down big. Because he was born in Canada and was, until recently, a Canadian citizen, many believe he cannot run!',\n",
       " \"Ted Cruz went down big in just released Reuters poll - what's going on? Is it Goldman Sachs/Citi loans or Canada?\",\n",
       " 'Just received the new Fox poll.\\nThank you, America! #Trump2016 https://t.co/QKNineuS8H',\n",
       " 'Wow! New National Zogby Poll just out:.TRUMP 45. CRUZ 13. RUBIO 8. Big numbers.',\n",
       " 'Leaving Nevada now for Iowa. Things are looking good - great new polls!',\n",
       " 'New National GOP Zogby Poll\\n#MakeAmericaGreatAgain #Trump2016\\nhttps://t.co/Ma6OABMYpF https://t.co/evqFrWKBD1',\n",
       " 'New Reuters poll! Thank you!\\n#MakeAmericaGreatAgain #Trump2016 https://t.co/KDVZoUia4I',\n",
       " 'After spending $89 million, @JebBush is at the bottom of the barrel in polls. He is ashamed to use the name \"Bush\" in ads. Low energy guy!',\n",
       " '\"@MiamiNewTimes: Poll: Trump has more support in Florida than Rubio and Bush combined. https://t.co/uvH2BKQRHf https://t.co/2tvIaa2aFr\"',\n",
       " 'New CNN/WMUR New Hampshire poll just released. Thank you! #FITN #Trump2016 https://t.co/sZr9taU20G',\n",
       " 'In the just released SC poll I increased my lead by 4 points since last poll by same firm. Up by 14! Cruz dropped 3. https://t.co/qM4JUsyaqH',\n",
       " 'On my way to Iowa- just received new national poll numbers. Thank you!\\n#MakeAmericaGreatAgain #Trump2016 https://t.co/sQ9UEVW4Vp',\n",
       " 'Wow, new polls just out have Trump up and Cruz down - he is a nervous wreck!',\n",
       " 'Ted Cruz is falling in the polls. He is nervous. People are worried about his place of birth and his failure to report his loans from banks!',\n",
       " 'WSJ/NBC Poll: Donald Trump Widens His Lead in Republican Presidential Race. #Trump2016 https://t.co/r2i8FHPjB4',\n",
       " 'THANK YOU, IOWA! Highly respected @OANN @GravisMarketing poll just released. #VoteTrump #IowaCaucus https://t.co/Ecs9XYXaXL',\n",
       " 'RT @DRUDGE_REPORT: REUTERS ROLLING:  TRUMP 39%, CRUZ 14.5%, BUSH 10.6%, CARSON 9.6%, RUBIO 6.7%... MORE... https://t.co/nRhtbzcqP9',\n",
       " 'Numerous polls have me beating Hillary Clinton. In a race with her, voter turnout will be the highest in U.S. history-I get most new voters!',\n",
       " 'Just found out that @tedcruz is spending a fortune on Iowa push polls negative to me. Not nice, but OK! New polls are great.',\n",
       " 'New CBS poll. #Trump2016\\nhttps://t.co/sFPRHHeLbd',\n",
       " 'Another new Iowa poll just released. Thank you! #IACaucus #FITN https://t.co/RGkrruqpM7',\n",
       " 'New Iowa poll. Thank you!\\n#MakeAmericaGreatAgain #Trump2016 https://t.co/19sshZ8dSu',\n",
       " 'Heading now for Reno, Nevada, for a big rally. Good poll numberd all over!',\n",
       " \"In the just out @FoxNews Poll, I easily beat Hillary Clinton - and I havn't even focused on her yet. On our way: MAKE AMERICA GREAT AGAIN!\",\n",
       " '#FoxNews Poll - THANK YOU!\\n#MakeAmericaGreatAgain #Trump2016 https://t.co/dKuyzLRTZ3',\n",
       " '\"@LiberatedCit: @JebBush Key State Florida Poll: Trump 32% Beats #Rubio-#Bush Combined https://t.co/MKHc5nB27i https://t.co/ubJvEeCsom\"',\n",
       " 'I am in New Hampshire. Just received great news from Reuters poll. Thank you for your support! https://t.co/yzp9dGfbce',\n",
       " '.@JebBush is a low energy \"stiff\" who should focus his special interest money on the many people ahead of him in the polls. Has no chance!',\n",
       " '\"@whispers34: Nevada Poll: Donald Trump 33%, Ted Cruz 20%, Marco Rubio 11%... https://t.co/Hniy4iAqNG via @thelastrefuge2\"  Great news!',\n",
       " 'People ask, \"why do you tweet and re-tweet to millions about @JebBush when he is so low in the polls?\" Because of his big $ hit ads on me!',\n",
       " '.@JebBush has spent  $63,000,000 and is at the bottom of the polls. I have spent almost nothing and am at the top. WIN!  @hughhewitt',\n",
       " 'Great poll- thank you Nevada!\\n#MakeAmericaGreatAgain #Trump2016 https://t.co/9Lr1v6vjJb',\n",
       " 'New #ReutersPoll. Thank you America! \\n#MakeAmericaGreatAgain #Trump2016 https://t.co/oETsjV3aR4',\n",
       " 'Why are @JebBush flunkies  @ananavarro and @secupp, two of the dumbest people in politics, always on the @CNN panels..and yet Poll:Trump 39',\n",
       " \"The same people that said I wouldn't run, or that I wouldn't lead or do well (1st place and leading by 21%), now say I won't beat Hillary.\",\n",
       " \"Remember when failed candidate @JebBush said that illegals came across the border as AN ACT OF LOVE? He's spent $59 million and is at 3%.\",\n",
       " '.@meetthepress and @chucktodd very dishonest in not showing the new @CNN Poll where I am at 39%, 21points higher than Cruz. Be honest Chuck!',\n",
       " \"Why isn't @chucktodd using the much newer @CNN Poll when discussing how well I am doing instead of the older Q Poll? CNN even better!\",\n",
       " \"Wow, even lowly Rand Paul has just past @JebBush in the new @CNN Poll. Jeb is at 3%, I'm at 39%. Stop throwing your money down the drain!\",\n",
       " '\"@classyexplorer: @gatewaypundit Jim you fail to mention in your CNN POLL that in the GOP RACE...Trump is leading Cruz 39 to 18...Big Detail',\n",
       " 'It is hard to believe I am winning by so much when I am treated so badly by the media.  New @CNN Poll amazing in ALL categories. 21 pt. Lead',\n",
       " '.@FoxNews treats me so badly. Using old Quinnipiac Poll where I have a much smaller lead than the just out @CNN Poll. All negative!',\n",
       " 'Big news just out - NEW @CNN POLL  TRUMP  39 and leads in every major category. Likeability way up. CRUZ 18  CARSON 10  RUBIO 10',\n",
       " 'Wow, new Reuters Poll just out. Big lead if you want to MAKE AMERICA GREAT AGAIN!  TRUMP 37  CRUZ 11 This is at the top of Drudge!',\n",
       " '\"@schoremis1:  @JebBush The Donald should\\'ve been named Man of the Year. He dominates the polls, news, talk shows &amp; social media. MAGA!\"',\n",
       " '\"@qbeacademy: Well I\\'m at 42% and your at 3% .You know Jeb you started over here you keep on moving further and further off stage.  Classic\"',\n",
       " '\"@realNevaDie: This suggests that online polls are more reliable so Trump is crushing both parties. @realDonaldTrump',\n",
       " '\"@msully65:  Tell this knitwit @SpeakerRyan, the ppl want @realDonaldTrump, not him or his choice for President! Thts why Trump has 40%\"',\n",
       " \".@JebBush today said he didn't want to be the front-runner, he would rather be where he is now, 2%. That is the talk of a loser, can't win!\",\n",
       " 'Great poll out of Illinois! Thank you!\\n#MakeAmericaGreatAgain #Trump2016 https://t.co/Fd48umfyCw',\n",
       " '.@JebBush was terrible on Face The Nation today. Being at 2% and falling seems to have totally affected his confidence. A basket case!',\n",
       " '\"@GStephanopoulos: As @realDonaldTrump dominates the latest polls, I’ll talk to the GOP frontrunner, Sunday on @ThisWeekABC.\"',\n",
       " 'Thank you America! @FoxNews post-debate poll with +/- from previous poll. #VoteTrump2016 #MakeAmericaGreatAgain https://t.co/KorKlSr01P',\n",
       " '\"@thehill: NEW POLL: Trump\\'s massive lead grows in post-debate poll https://t.co/jNDY8kgIgl https://t.co/bPlj1VPz8T\"',\n",
       " 'Another new post-debate poll. \\nTHANK YOU! #VoteTrump2016 #MakeAmericaGreatAgain https://t.co/Pa9PCuPbyr',\n",
       " 'New Reuters poll - thank you!\\n#MakeAmericaGreatAgain #Trump2016 https://t.co/zOe0gDe0AJ',\n",
       " \"Bill O'Reilly calls Trump and  campaign brilliant. In first place by 27 points.\",\n",
       " 'Thank you, so many people have given me credit for winning the debate last night. All polls agree. It was fun and interesting!',\n",
       " 'Highly respected PUBLIC POLICY POLLING (PPP) just announced that I am number one in IOWA. Thank you!',\n",
       " \"New PPP poll just released in Iowa- up 6 points from last poll. Leading w/ 28%! Don't worry - media won't report it! https://t.co/yjWiLBGUpm\",\n",
       " 'I won every debate so far according to all debate polls including @DRUDGE_REPORT, @TIME @Slate and more. Too bad dopey @megynkelly lies!',\n",
       " '.@megynkelly is very bad at math. She was totally unable to figure out the difference between me and Cruz in the new Monmouth Poll 41to14.',\n",
       " '.@megynkelly, the most overrated anchor at @FoxNews, worked hard to explain away the new Monmouth poll 41 to 14 or 27 pt lead. She said 15!',\n",
       " \"Why isn't anyone using the @CNN Iowa Poll with me having a big lead. They only want to use the one negative poll (2nd place).Dishonest press\",\n",
       " \"Isn't it amazing that @CNN paid a fortune for an Iowa Poll, which shows me in first place over Cruz by 13%, 33% to 20% - then doesn't use it\",\n",
       " 'Wow, I just had two very good Iowa polls and a phenomenal just out National Poll from @ABC @washingtonpost - 38%.  MAKE AMERICA GREAT AGAIN!',\n",
       " \"Why doesn't @CNN use the #CNN Iowa poll? @andersoncooper @andydean2014\",\n",
       " 'RT @ABCPolitics: JUST IN: Donald Trump hits 41% in new Monmouth national poll, his highest national support of the election cycle yet.',\n",
       " 'RT @BretBaier: New national poll from Monmouth -huuge @realDonaldTrump lead: Trump leads the pack at 41%. Ted Cruz-14%, Marco Rubio-10%, &amp; …',\n",
       " 'RT @piersmorgan: BREAKING NEWS: @realDonaldTrump surging ahead in GOP race - 41% in new #Monmouth national poll,  27% ahead of nearest riva…',\n",
       " \"Why doesn't @FoxNews quote the new Iowa @CNN Poll where I have a 33% to 20% lead over Ted Cruz and all others. Think about it!\",\n",
       " '\"@JPMORGAN2016: TRUMP NEEDS HIS OWN POLL A REAL POLL, IN EVERY STATE. THESE POLLS ARE SO RIDICULOUS.THE MEDIA WILL ONLY GET WORSE FROM HERE\"',\n",
       " 'A very good NBC/Wall Street Journal Poll was just released wherein I went up from last month and am in the lead. Nice!',\n",
       " '\"@JPMORGAN2016: @realDonaldTrump @Peggynoonannyc TRUMP IS WINNING BY SO MUCH MORE, IT\\'S NEAR 60% NATIONALLY. THEY ARE ALL BIASED POLLS!!!!\"',\n",
       " 'I will be interviewed on @jaketapper @CNN at 9:00 A.M. and Fox News Sunday with Chris Wallace at 10:O0  A.M. CNN Iowa Poll -13 point lead!',\n",
       " \"New CNN Iowa poll --- Trump 33, Cruz 20. Everyone else way down! Don't trust Des Moines Register poll- biased towards Trump!\",\n",
       " 'Thank you! We are at 35% in new Reuters poll with #2 coming in at 12%. Time to #MakeAmericaGreatAgain!#Trump2016 https://t.co/0l00OVCo5b',\n",
       " 'Great news in Georgia!  The just out  Landmark poll shows me in first with 43%! Wow. https://t.co/mG6uZQxBWG https://t.co/UZ03GJDvOV',\n",
       " '.@Morning_Joe is so off on Iowa, which I am leading big in new @CNN poll. I will win Iowa. Also, I beat Hillary easily!',\n",
       " '\"@FoxNews: @FrankLuntz: Time for the Republican establishment to accept the fact that Trump is not only a viable candidate, but lead is real',\n",
       " 'Respected Morning Consult poll just out. I lead all Republicans and beat Hillary head to head by a wide margin- 45 to 40!',\n",
       " 'Establishment flunky @KarlRove is going crazy with the just released CBS poll that has me way ahead. New Fox poll has me beating Hillary.',\n",
       " 'Wow, my poll numbers have just been announced and have gone through the roof!',\n",
       " \"The last person corrupt Hillary Clinton wants to run against is Donald J. Trump. I'll end up beating her in every state. New Fox Poll-Trump!\",\n",
       " 'The failing @nytimes does not mention the new @CNN Poll that has me leading Iowa by a massive 13 points - I am at 33%. Maggie Haberman, sad!',\n",
       " 'Great poll numbers just coming out of New Hampshire. BIG lead for \"Trump\" according to @CNN!',\n",
       " 'Great new poll from NH. Thank you! We need to keep this country safe! #Trump2016 https://t.co/r5K58xu8Mp https://t.co/EAqHZ5ttmp',\n",
       " 'A very big poll is coming out at 6 PM in New Hampshire. Will be very interested in the results.',\n",
       " 'A new poll indicates that 68% of my supporters would vote for me if I departed the GOP &amp; ran as an independent. https://t.co/ztP5d2ctZl',\n",
       " 'I wish the @WSJ Wall Street Journal had reported the just out @CNN Iowa Poll correctly. I lead by a wide margin,13 points, going up big!',\n",
       " 'Just won IOWA @CNN Poll BIG: Trump 33% Cruz 20% Rubio 11%,  but @WSJ reported \"Cruz momentum\" but nothing about the fact that I easily won!',\n",
       " '\"@CRinQC: RT @thehill: New Iowa poll finds .@realDonaldTrump in the lead by double digits. https://t.co/00phDHSb37 https://t.co/t6DSOopCXd',\n",
       " '\"@LexingtonBobby:  @CLewandowski_ Today, \"New Iowa poll finds Trump in the lead by double digits\" https://t.co/00phDHSb37 #Trump16\"',\n",
       " 'Just released @CNN Poll gives me a big 13 point lead in Iowa. Change your false story failing @nytimes. Thank you Iowa!',\n",
       " 'I am especially grateful for the tremendous support I have received from the Evangelicals in the just out Iowa CNN poll. Thank you!',\n",
       " 'I am greatly honored by the results of the CNN poll in Iowa. In the end, I believe the final results will be even better than that!',\n",
       " '\"@JSears68: Poll numbers will go up even more for @realDonaldTrump after Obama\\'s \\'address\\'',\n",
       " '\"@ben_techpro: Donald Trump opens up \\'massive\\' lead in national poll https://t.co/yBfezuPX9a  #makeamericagreatagain #wakeupamerica @GOP\"',\n",
       " '.@CNN &amp; @CNNPolitics Please thank Alisyn Camerota, David Chalian and John King for the very professional reporting of the new CNN Poll.',\n",
       " '.@CNN Poll just came out, amazing numbers for those who want to MAKE AMERICA GREAT AGAIN! TRUMP 36%, a 20 point lead over 2nd place. Thanks.',\n",
       " '\"@politico: The retired neurosurgeon plummets 7 points from last month, while Trump solidifies his dominating lead https://t.co/8Mc2sFmbhn\"',\n",
       " '\"@DLake66675: @ChateauEmissary @trumpettes16 @realDonaldTrump his poll numbers jump every time instances like this occur.',\n",
       " 'I beat Hillary in the new @FoxNews Poll head to head.  SHE HAS NO STRENGTH OR STAMINA, both of which are needed to MAKE AMERICA GREAT AGAIN!',\n",
       " 'You would think a paper like the Washington Post would be fair and objective. For the record, almost all polls showed I won all debates.',\n",
       " \"The Republican establishment, out of self preservation, is concerned w/ my high poll #'s. More concerned are Dems—I beat Hillary heads up!\",\n",
       " 'Pollster Trend \\nNational GOP Average\\n223 national polls &amp; 33 pollsters.\\n#MakeAmericaGreatAgain #Trump2016 https://t.co/mILAGwjvS2',\n",
       " '\"@VaughnVhalen: Donald Trump Rises to 38% Nationally; Ted Cruz Edges into 2nd at 12%',\n",
       " 'Great new poll numbers! Thank you for your support! #Trump2016 https://t.co/vmrsOnsMRo',\n",
       " 'New @OANN national poll released. Thank you America! #Trump2016 https://t.co/yopcngFzFv',\n",
       " 'Great poll numbers! Thank you!\\n#MakeAmericaGreatAgain #Trump2016 https://t.co/51CRR6m5Eg',\n",
       " 'Great poll numbers all over and beating Hillary Clinton one on one. Thank you!',\n",
       " 'Big new @ABC Poll to be announced at 9:00 A.M. on This Week with @GStephanopoulos. I will be interviewed on show!',\n",
       " '.@GStephanopoulos just announced that I am leading  BIG in the new @ABC Poll which will be shown on This Week at 9:00 A.M. I will be on show',\n",
       " '\"@boreed615: Donald Trump retakes lead in GOP race; Ted Cruz makes gains: poll: https://t.co/G8z5ek7emn # via AOL\"',\n",
       " 'RT @CLewandowski_: .@realDonaldTrump extends lead in 11/20/2015 Reuters #GOP poll. #MakeAmericaGreatAgain #Trump2016 https://t.co/HfXjbjXxL2',\n",
       " 'John Kasich, despite being Governor of Ohio, is losing to me in the Ohio polls. Pathetic!',\n",
       " '\"@FoxNews New Hampshire Poll: @realDonaldTrump \\'Rules GOP Race in New Hampshire.\\' Trump 27, Rubio 13, Cruz 11, Bush 9, Carson 9, &amp; Kasich 7\"',\n",
       " 'Via Politico: \"Trump Extends Lead in New Hampshire Poll\" https://t.co/PaJOAi3rGa',\n",
       " 'Great New Poll  https://t.co/178k1ERFqT',\n",
       " 'So many great polls like Reuters - big leads everywhere. New Hampshire really special! We will win big and MAKE AMERICA GREAT AGAIN!',\n",
       " 'Great poll numbers out of @UMassAmherst. Thank you! #Trump2016 #MakeAmericaGreatAgain \\nhttps://t.co/ePlQRgjMYw',\n",
       " '\"@USATrumpDiva: Donald Trump surges in poll among likely Republican voters https://t.co/uZ5nZUuqKq\"',\n",
       " '\"@tasteofaz: Poll: Trump Surges to 42% Nationally; ‘Bad News for Marco Rubio’ https://t.co/9IrLrlpjfM @realdonaldtrump\"  Great news!',\n",
       " 'Great news out of New Hampshire! DonaldTrump is pulling away from the pack w/ 2nd is 17% behind him! #Trump2016 https://t.co/hASWradHMe\"',\n",
       " '\"@DRUDGE_REPORT: REUTERS 5-DAY ROLLING POLL: TRUMP 34%, CARSON 19.6%, RUBIO 9.7%, CRUZ 7.7%...\" Thank you - a great honor!',\n",
       " 'From 2% to 27% in Texas - quite a jump into first place!',\n",
       " 'All seven on-line polls, including Drudge and Time, with thousands of respondents, said I won the debate. @krauthammer said I was \"so, so.\"',\n",
       " 'Loved doing the debate...won Drudge and all on-line polls! Amazing evening, moderators did an outstanding job.',\n",
       " '\"@freedoms411: @wakeuppeopleSOS @mitchellvii  @CNN @ABC @CBS It shouldn\\'t be ignored, and I doubt it will be, Carson will drop in polls.\"',\n",
       " '\"@Bubbachitchat1: THIS IS WHY THE POLLS ARE WRONG! @Hanan_Khan2: I am a lifelong democrat. And I will be voting trump! #democratsfortrump\"\"',\n",
       " 'Would be nice if @jmartNYT learned how to read the polls before writing his next story. Probably done on purpose, but not good reporting!',\n",
       " '\"@DefendingtheUSA: GREAT Video. Which of these 4 Polls is Suspect? Kudos to @OANN  https://t.co/kKlRLIDrLC #Trump https://t.co/BiEUTt2k6Z\"',\n",
       " '\"@AliceEngle3: @realDonaldTrump-huge lead in Reuters National poll https://t.co/afdvXHzvIx\"',\n",
       " '\"@Rick_Sa: @greta Interesting presidential race; Carson tries to beat his mom with a hammer, and @realDonaldTrump beats Carson in the polls!',\n",
       " 'A great honor to easily finish FIRST in the @FoxNews poll tabulation even though some of my best polls were not used in determining winner!',\n",
       " '\"@SoCal4Trump: Wow @megynkelly. You openly LIE about who\\'s ahead in the GOP race. Trump is LEADING in 99% of polls. Shameful... #StopTheLies',\n",
       " '\"@marklindsay78: @Hanan_Khan2 @realDonaldTrump poll numbers are higher then most think, no one is asking Democrats if they are voting Trump\"',\n",
       " 'Wow! @FoxNews poll just came out. #1 with 26%! Almost as importantly, I am the strongest on economic issues by far! #Trump2016',\n",
       " \"Isn't it terrible that @megynkelly used a poll not used before (I.B.D.) when I was down, but refuses to use it now when I am up?\",\n",
       " '\"@LookerCherry: @realDonaldTrump The polls are for the news cycle. Trump is miles ahead and leaving all others in the dust, \"don\\'t doubt me\"',\n",
       " '\"@Freedomrings22: @realDonaldTrump I Trust @OANN \\'s polls They are actually really Fair and really balanced on all their news\" Iowa lead!',\n",
       " '\"@NickEgoroff: BREAKING: Latest poll of Florida voters shows enormous lead for Trump! He\\'d beat Hillary! https://t.co/TvLEH4NcXt #tcot\"',\n",
       " '.@megynkelly used this poll (nobody else did) when I was down—wonder if she’ll use it now that I’m up? https://t.co/wEhqux6Ss8',\n",
       " '.@CharlesMBlow  Why don’t you use new polls instead of the single ancient national poll that was a tiny bit negative. Dishonest reporting!',\n",
       " '\"@Morning_Joe: Online poll: @realDonaldTrump \\'best to handle economy\\' by far https://t.co/SZvSzNzoIk\"  Very true, thanks!',\n",
       " '.@Morning_Joe: Marco only won the debate in the minds of desperate people. I won every on-line poll, even crazy @CNBC. Marco good looking?',\n",
       " 'Thank you @JoeTrippi for the nice, and true, words on #Media Buzz with terrific Howie Kurtz. Leading New Hampshire 30 to 12. @FoxNews',\n",
       " '\"@PaulaPedene: Trump Leads GOP, Carson Stays Strong, Rubio 3rd: Poll https://t.co/7dfIDd0Edn\"',\n",
       " '\"@hillx123: @realDonaldTrump #MakeAmericaGreatAgain https://t.co/NbiUrwMY37\" Leading big Nationwide in Reuters poll - great!',\n",
       " 'Thank you James Freeman of the @WSJ for the very nice words. All polls said I won the debate except NBC (3rd). Explain to Daniel Henninger!',\n",
       " '\"@Maxinerunner: @realDonaldTrump surges in Post-debate Poll! Trump puts US 1st and foremost  @BraveLad @TIMENOUT https://t.co/bTKoYjdPD0\"',\n",
       " 'The new NBC POLL has me in first place but said I was third in the debate - I demand a recount (just kidding!). EVERY other poll had me #1.',\n",
       " '\"@JackDix03868724: Arizona polls for Democrats only say they would prefer Donald Trump over Hillary Clinton 60%\"',\n",
       " '\"@dblack15nc: @realDonaldTrump https://t.co/7IfJNe4XHn Republican is 28%; support for Carson is 23%.\"  Poll used by @megynkelly last month',\n",
       " '\"@Parker_Votes: Everyone under 10% in polls should DROP OUT and support TRUMP @realDonaldTrump https://t.co/zu1QL95XqQ\"  Great idea!',\n",
       " 'Donald Trump Leads Polls in Florida\\n  https://t.co/EhSFxH8N8U',\n",
       " 'Thank you @Morning_Joe for explaining to @CNN and @andersoncooper and so many others that I am leading in almost all national &amp; state polls.',\n",
       " 'Loved doing the debate last night on @CNBC. Check out all of the polls! Everyone agrees that Harwood bombed!',\n",
       " 'My interview on @ThisWeekABC with @GStephanopoulos had a 40%+ ratings increase over same Sunday last year. 20% over last week.',\n",
       " 'CNBC poll: Trump won #GOPDebate #MakeAmericaGreatAgain #Trump2016 https://t.co/JEyniIGJPJ https://t.co/wEdauo3Drm',\n",
       " '\"@DRUDGE_REPORT: TRUMP WINS CNBC INSTANT POLL; RUBIO SECOND... DEVELOPING... https://t.co/6fnTksKipQ\"',\n",
       " '\"@eVDefuse: @realDonaldTrump they should just let you be president already, you\\'re already leading in the polls.\"',\n",
       " '\"@iStandWithUSA: 62% said that @realDonaldTrump won #GOP Debate Vote your stand: https://t.co/l3XVkWXIEP #USA #Election2016',\n",
       " '\"@GravisMarketing: @OANN Gravis Marketing Poll @realDonaldTrump leading. https://t.co/5bPZOBhz4h\"  Great!',\n",
       " '\"@TaylorWrightAU: #Trump came out as a clear winner in the polls yet again! Next #GOPDebate we need max 5 candidates, too many on the stage!',\n",
       " '\"@currentlyFeed: The #CNBCGOPDebate poll closed with #Trump2016 declared the official winner.',\n",
       " '\"@ngb6060: @realDonaldTrump showing why he should be our next President. Tremendous Debate. Winning all the post Debate polls.',\n",
       " 'Drudge Poll on who won the 3rd #GOPDebate. Thank you! https://t.co/lCdolIJMsL',\n",
       " 'Thank you Colorado! An honor to win @NBC @9News #GOPDebate Poll. https://t.co/rvnUQemej0',\n",
       " 'The #CNBCGOPDebate poll closed with #Trump2016 declared the official winner. Thank you! https://t.co/3mFHLcSbwD https://t.co/ZPiXAR5rFC',\n",
       " 'Thanks everyone, they all said  I won the debate. Even won the @CNBC Poll!',\n",
       " 'Via @MailOnline \"Trump still in the lead by a whopping 14 points after fluke survey had put Carson on top\"-  https://t.co/tfaOARLoZb',\n",
       " '@CNBC  POLL  TOTAL: TRUMP 25.22  CARSON 19.78  RUBIO 9.67....',\n",
       " \".@TheEconomist Poll, one of the most highly respected, was just released. Wow, wait until the media digests these numbers - won't be happy!\",\n",
       " \"I'm sure the media will not report the highly respected new national poll that just came out via The Economist. 32%! https://t.co/aalSqnGHa3\",\n",
       " '\"@cmrose111: @realDonaldTrump  @CNBC  get your polls straight. Trump is going to win. He is the only one tough enough to run this country.\"',\n",
       " '\"@mozarttaig1: @CNBC is trying to drive down poll numbers to install Carson - who the Establishment GOP will promptly roll. Win Don Win!\"',\n",
       " 'Does anybody think that @CNBC will get their fictitious  polling numbers corrected sometime prior to the start of the debate. Sad!',\n",
       " \".@CNBC continues to report fictious poll numbers. Number one, based on every statistic, is Trump (by a wide margin). They just can't say it!\",\n",
       " '\"@MarieLeff: Debate night! #TeamTrump16 is behind you 5000%  National Lead TRUMP 35.6% CARSON 21.7% https://t.co/KVgRDHlJH1\"',\n",
       " '\"@2bigj: @realDonaldTrump A lot of people I know are voting Trump in NC none have been polled your lead is bigger than anyone can imagine.\"',\n",
       " 'Just out, wonderful poll in North Carolina. #Trump2016 \\n#MakeAmericaGreatAgain \\nhttps://t.co/xdZGkdtNev',\n",
       " '\"@Indies4Trump:  @HuffPostPol composite national poll #MakeAmericaGreatAgain #Trump2016 #TrumpTrain... https://t.co/VKDiYgpCEI\"',\n",
       " '\"@faagifts: @OANN WTG, GREAT JOB. U R THE BEST PICK OUT OF ALL OF THE CANDIDATES &amp; OHIO KNOWS THIS 2.THAT IS WHY U R LEADING THERE TOO\"',\n",
       " 'National GOP Presidential Poll via @OANN @realDonaldTrump 35.6% #Trump2016 https://t.co/Mvcj1ZH3Ql',\n",
       " '\"Trump\\'s National Lead Increases to 35.6% Going into the Third GOP Debate it\\'s Trump, Carson and Rubio\" https://t.co/8SJazkQ3I1 …',\n",
       " 'New Gravis national poll just out --- 36%! Very nice! #MakeAmericaGreatAgain',\n",
       " '\"@RhatPatriot: @FoxBusiness @realDonaldTrump   Why not post the other polls where Trump has 40 percent and Carson is in the teens? Strange?\"',\n",
       " 'RT @FoxBusiness: New poll shows @realDonaldTrump and @RealBenCarson are tied atop the #GOP field in Iowa. https://t.co/syPMypwE0E',\n",
       " 'Leaving for New Hampshire now. Will be doing the @TODAYshow there, live at 7:00 A.M. New @CBSNews Poll of New Hampshire: Trump 38 Carson 12!',\n",
       " '\"@curtismuddog:  @ByronYork Latest Poll shows Donald Trump winning 70% of Electoral Vote Against Hillary Clinton! https://t.co/OT98Y8f0GE\"',\n",
       " '\"@cospy8: @realDonaldTrump @ByronYork @CBSNews @CNN WAY ahead in all the polls that matter. TRUMP FOR PRESIDENT\"',\n",
       " '.@ByronYork  Great numbers from @CBSNews Poll. Also from ABC-Washington Post Poll. Thank you!  @CNN',\n",
       " 'Do you believe that @FoxNews is still playing up the old Iowa poll numbers and no mention of the ABCWashington Post or just out CBS results?',\n",
       " '.@CBSNews Poll - WOW!  New Hampshire  TRUMP 38% CARSON 12% BUSH 8%  South Carolina TRUMP 40% CARSON 23% CRUZ 8% Iowa TRUMP 27% CARSON 27%',\n",
       " \"Watch my interview on @CBSNews Face The Nation now and, also, the new CBS POLLS which, if good for me, the media won't report!\",\n",
       " 'Big poll comes out today on Face The Nation at 10:30 on @CBSNews.',\n",
       " 'A big POLL will be announced this morning on @CBSNews  Face The Nation. I wonder if I do well if the press will report the results? Doubt it',\n",
       " '\"@aviv1818: Trumpachusetts: Donald Trump Tops Poll of Bay State Voters: https://t.co/VC6mogbdMt @foxnewspolitics AC360\"  Thanks, great news',\n",
       " '\"@christotepis: Donald Trump Leads in Expectations, Shows Strength on Attributes (POLL) - ABC News - https://t.co/5YvRmCqL6B via @ABC\"',\n",
       " '\"@santiagos58: YouGov National Poll  Donald Trump Continues To Dominate Field With All Demographics. The Last Refuge https://t.co/HrMActE2e6',\n",
       " 'RT @DiamondandSilk: A New Poll shows .@realDonaldTrump will most likely win the GOP Nomination.  @DiamondandSilk #stump4trumpbaby! https://…',\n",
       " 'RT @johnrobertsFox: New @WashPostDC poll shows @realDonaldTrump with a commanding lead - 10 points above his closest competition @RealBenCa…',\n",
       " 'RT @johnrobertsFox: New @washingtonpost poll finds \"lean Republicans\" think @realDonaldTrump most likely to be GOP nominee and has best cha…',\n",
       " 'New poll by ABC News/Washington Post  TRUMP 32  CARSON 22  RUBIO 10  BUSH 7  Wow, how will the media put a negative spin on this one?',\n",
       " '\"@dcexaminer: Rasmussen: @realDonaldTrump now beats @HillaryClinton 38%-36% nationally https://t.co/NuNulI0Voi https://t.co/1BAPAKad62\"',\n",
       " 'I will be interviewed on @GMA Good Morning America at 7:00 A.M. @ABC will be announcing new poll numbers. MAKE AMERICA GREAT AGAIN!',\n",
       " 'Just out: Boston Herald/Franklin Pierce Poll  N.H.  TRUMP 28 (up 10)  CARSON 16  BUSH 9  RUBIO 6  CRUZ 5  Press will say they are surging!',\n",
       " '\"@piersmorgan: Donald Trump still dominating all polls, debate, cable news, gossip...everything. The GOP nomination is his, he rarely loses!',\n",
       " 'I will be interviewed on @GMA Good Morning America tomorrow at 7:00 A.M. Big new ABC poll coming out - I hope I do well!',\n",
       " '\"@Portosj81J: @realDonaldTrump #Trump2016 #Trump hits his highest poll number yet; #Carson, #Rubio make small gains https://t.co/1f8dmS2Uza',\n",
       " '.@KarlRove  Had my best day ever in the polls, one had me at 41% - Morning Consult. Boston Globe, Monmouth, NBC and CNN all great. More!',\n",
       " '\"Donald Trump tops Franklin-Pierce/Herald poll at 28 percent in N.H.\"  https://t.co/gXXJ4YhKIW',\n",
       " 'Lots of great new polls--big leads!  https://t.co/Og4SN4eXbO\\n   \\n  https://t.co/xJaAWC9RgO\\n   \\n  https://t.co/8FyxYEna0h',\n",
       " '\"@nickmichaels12: Since late July 2015, DJT consistently been the front-runner in public opinion polls for the Republican Party nomination.',\n",
       " 'NEW POLL: Trump Blue Collar Support highest since FDR in 1930s--WOW! \\nhttp://t.co/fnRIXJWCVf',\n",
       " '\"@RD_2008: @JebBush Quit Jeb Quit. Your poll is even lower than your apprentice Rubio. @realDonaldTrump\"',\n",
       " '\"@ClaytonMorris: Donald Trump is so far ahead in two key state polls.  http://t.co/AtdlgoZXzB http://t.co/b8SWhe6HTB\"  Thanks Clayton',\n",
       " 'Good news for those that want to Make America Great Again - I am winning every poll in every STATE and NATIONAL - and by big numbers! Thanks',\n",
       " \"Via Business Insider: Donald Trump's Poll Dominance in 2 Key States is Mind-Blowing- http://t.co/FqIApU6gVC\",\n",
       " 'A great new poll-33%! http://t.co/3EheiVyD5A',\n",
       " '.@scottienhughes  Keep up the great work Scottie. Polls are best ever!',\n",
       " '\"@Hohummm: Did you also hear Megyn say \"Carson is the front-runner ...according so some polls ..tied in other polls\" OUTRIGHT LIE!\"  Hatred!',\n",
       " \"Every poll, Time, Drudge, Slate and others, said I won both debates - but heard Megyn Kelly had her two puppets say bad stuff. I don't watch\",\n",
       " 'Megyn Kelly has two really dumb puppets, Chris Stirewalt &amp; Marc Threaten (a Bushy) who do exactly what she says. All polls say I won debates',\n",
       " 'CNN Poll just out on South Carolina – great #’s http://t.co/E6do3oi10Z',\n",
       " 'CNN/ORC Poll results just out for Nevada—WOW! Trump 38, Carson 22, Fiorina 8, Bush 6, Cruz 4\\n  http://t.co/X2Kv6qzPia',\n",
       " 'Should be interesting but too bad the three guys at《1% will be taking up so much time -  but who knows, maybe a star will be born (unlikely)',\n",
       " 'Very honored: \"Trump Is Tops As Clinton Drops In Connecticut Primaries, Quinnipiac University Poll Finds\"     \\nhttp://t.co/6d8WiLa8fB',\n",
       " '\"@TopherCarlton: .@JebBush Sickening attempt. I hope .@realDonaldTrump jumps another 10 points. #WakeUpAmerica https://t.co/GT86RlB0t3\"',\n",
       " 'Via Breitbart - \"Riding High in Polls Donald Trump Storms the American South to Overflow Crowds in Georgia\"\\nhttp://t.co/iLcaMZxc82',\n",
       " \"I'm leading big in every poll and we are going to WIN! Remember, Trump NEVER gives up!\",\n",
       " 'Great Gravis Poll on the great state of NH. Also, watch @FaceTheNation on CBS &amp; @HowardKurtz #mediabuzz -- both on Sunday.',\n",
       " 'New Gravis Poll in NH just out:  Trump 32%, Carson 13%  http://t.co/mJcWOEijkv',\n",
       " '\"@JBOD2001 @realDonaldTrump yeah, you\\'re really wearing out your welcome.  Who\\'s dominating the polls? YOU!!! Go Trump!\"',\n",
       " 'Just arrived in Las Vegas for a packed house speech tomorrow. Big poll results today, Leading big everywhere. MAKE AMERICA GREAT AGAIN!',\n",
       " 'Just found out I won the Rockingham County Republican Booth Straw Poll at the Deerfield Fair in New Hampshire this past weekend. 39% ---Wow!',\n",
       " 'RT @TeamCavuto: .@realDonaldTrump is leading @RealBenCarson in new Quinnipiac poll @FoxBusiness http://t.co/OY8lDZ6tn5',\n",
       " \"Heading to a packed house in Waterloo, Iowa! Will celebrate today's great poll numbers together. See you soon!\",\n",
       " '\"@trumpgasm: NEW- 10/6/15 REUTERS IPSOS POLL DONALD TRUMP CONTINUES TO DOMINATE! OVER 37%!! http://t.co/qBsldeV4je http://t.co/GCtpS1WfeQ\"',\n",
       " '\"@darcy027027:  @GardiBates @ananavarro @CNN Just In! 10/6/15 Morning Poll Trump +18% Trump 31 Carson 13 Rubio 10 Bush 7 Fiorina 6\"',\n",
       " '\"@realbigstriper: @ChrisCuomo Pew poll: @realDonaldTrump holds commanding lead @CNNPolitics http://t.co/iw2vk9Wx9L\"',\n",
       " '\"@Knight276: @Writeonright @Real_Carl_Icahn @DanScavino @realDonaldTrump media is confused they bash trump he rises in polls!\"',\n",
       " '\"@WayneDupreeShow: HEADLINES: Donald Trump maintains huge lead on opponents as polls go #KeepingItReal http://t.co/AsRJp5AcmZ\"',\n",
       " \"I'm leading by big margins in every poll but the press keeps asking, would you ever get out? They are just troublemakers, I'm going to win!\",\n",
       " '\"@HowardKurtz: Trump\\'s big lead in a new poll and whether Jeb\\'s \"stuff happens\" was taken out of context with @megynkelly tonight\" Thanks H!',\n",
       " '\"@valerieannt:  @DRUDGE_REPORT @JebBush Jeb you are falling in polls because conservatives feel that you cannot #MakeAmericaGreatAgain\"',\n",
       " '\"@TheNewsClub_US: RT  \"@MNMans: Polling Convergence - OAN/GRAVIS and Reuters… http://t.co/3NXztsLOhx #RT #CNN #HBO http://t.co/zzKm8wUYqY\"',\n",
       " '\"@MNManstein2: Polling Convergence - OAN/GRAVIS and Reuters Show Donald Trump Surging With 34 - 35% Support... http://t.co/ckXH2JfBNt via',\n",
       " '\"@swterry91: Donald Trump Leads by 9 Points in Pew Poll – Jeb Bush in Free Fall #tcot http://t.co/uyxre0ei92\"',\n",
       " '\"@JoyCardinShow: Latest @MULawPoll finds @ScottWalker at 37 percent approval, @realDonaldTrump leading GOP in #Wisconsin.',\n",
       " 'Interesting, polls on who won the GOP debate. http://t.co/iB6NGQsg5v',\n",
       " 'Great news! Just out--the highly respected USA Today/Suffolk University Poll. Enjoy! https://t.co/11pDloDTHV',\n",
       " 'I hope when Rand Paul gets out of the race—he is at 1%--his supporters come over to me. I will do a much better job for them.',\n",
       " 'Prediction: Rand Paul has been driven out of the race by my statements about him-- he will announce soon. 1%!',\n",
       " 'Zogby Poll: Trump Widens Lead After GOP Debate  http://t.co/YAZyKwVxNJ',\n",
       " '\"@SkyeShepard: Trump went way up in my \\'poll\\' when he said he\\'d take money from what US is giving 2 other countries 2 save social security\"',\n",
       " 'Marco Rubio is a member of the Gang Of Eight or, very weak on stopping illegal immigration. Only changed when poll numbers crashed.',\n",
       " 'An updated POLL tracker (with all polls thru the weekend) reveals I maintained a double digit lead at… https://t.co/FGxhzluIJA',\n",
       " 'RT @sethweathers: New Poll: @realDonaldTrump maintains huge lead (31%) in Georgia! #Trump2016 https://t.co/Jnam4uvKvA',\n",
       " 'Dishonest @politico just called to say that none of the polls including Fox, NBC, CNN, Zogby, &amp; Morning Consult matter. Serious haters.',\n",
       " '.@megynkelly, the @FoxNews   poll said very plainly I came in second in the debate. All others, Time, Drudge, Slate etc. said I came in 1st.',\n",
       " 'Wow, a really nice lead in New Hampshire--- an increase since my last poll! http://t.co/Cr0OOd5Loi',\n",
       " 'Bloomberg: Trump leads GOP field https://t.co/kWqWeRzIkl',\n",
       " 'New Bloomberg Poll: Trump Leads Big http://t.co/Eu0rMDbUPW',\n",
       " 'Headline reads\" Rubio passes Bush in Florida poll\" -- Unfair, because Trump destroys them both! Trump 31.5%, Rubio 19.2%, Bush 11.3%',\n",
       " 'Morning Consult poll: \"Trump Leads\"  http://t.co/61LFN0pfSw',\n",
       " '2016 Republican Primary Morning Consult Poll was just released. TRUMP 32, CARSON 12, BUSH 11, FIORINA 6, RUBIO 5, CRUZ 5. Taken after debate',\n",
       " '\"@seleti00: @realDonaldTrump @FoxNews They attack you more then CNN or MSNBC combined. Just a bunch of old Bush appointee Rhinos.\"',\n",
       " '.@oreillyfactor was very negative to me in refusing to to post the great polls that came out today including NBC. @FoxNews not good for me!',\n",
       " '\"@alivelutheran: @TODAYshow touts CNN polls instead of their own!! Of course, the NBC one shows him much higher. Trump corrects them!',\n",
       " 'Via HuffPost Pollster #1 http://t.co/IXCbCtDUIp',\n",
       " '\"@JudgeMoroz  Zogby is respected in the business of polling ~ the media is attempting to silence the message @realDonaldTrump\"',\n",
       " 'Has the media picked up the new Zogby poll that was just put out? I doubt it! http://t.co/YAZyKwVxNJ',\n",
       " 'New Zogby poll— highly respected— but the media won’t report it because it gives me an even bigger lead!\\n   \\n  http://t.co/YAZyKwVxNJ',\n",
       " '\"@alivelutheran: @TODAYshow touts CNN polls instead of their own!! Of course, the NBC one shows him much higher. Trump corrects them!',\n",
       " '\"@MNTwisterChaser: Thanks @SavannahGuthrie and @NBCNews for showing us how lopsided you are! Use your own poll! #trainwreck #Trump2016',\n",
       " 'The @TODAYshow refused to use their just in poll numbers where I have a massive lead but instead used @CNN numbers where my lead is smaller.',\n",
       " 'I am attracting the biggest crowds, by far, and the best poll numbers, also by far.   Much of the media is totally dishonest. So sad!',\n",
       " 'I have been leading big in all  polls, with two more today, @nbc and @CNN. The NBC poll is more than double next,  at 29%. Fiorina has 11%.',\n",
       " 'I will be on @meetthepress at 10:30. @nbc will be releasing their new poll numbers. Based on the debate results, I should do well-who knows?',\n",
       " 'RT @DanScavino: Check out the latest Morning Consult poll, released 9/17/2015. @realDonaldTrump remains #1 at 36%. #Trump2016 http://t.co/r…',\n",
       " 'Wow, great post-debate poll: \"Trump Increases Lead\" via Breitbart  http://t.co/B3yJk2lJ8I',\n",
       " 'Every poll done on debate last night, from Drudge to Newsmax to Time Magazine, had me winning in a landslide. #MakeAmericaGreatAgain!',\n",
       " '#CNNDebate Winning the @drudge_report poll- http://t.co/fokcASBVuN',\n",
       " 'The polls are really looking good—#1 everywhere despite all lobbyist &amp; special interest $ being spent against me. I’m turning down millions.',\n",
       " 'Why is someone like George Pataki, who did a terrible job as Governor of N.Y. and registers ZERO in the polls, allowed on the debate stage?',\n",
       " \"Too many people on stage for debate. @RandPaul at 11th, with 2% in @RealClearNews, shouldn't be allowed to participate.\",\n",
       " '\"@GinHay: Trump\\'s polls are going to skyrocket after appearance on @jimmyfallon tonight. The young people are going to love him!\"',\n",
       " 'Oh wow, lightweight Governor @BobbyJindal, who is registered at less than 1 percent in the polls, just mocked my hair. So original!',\n",
       " 'Very good news—the new Quinnipiac poll just came out—I am #1 in Iowa.',\n",
       " '.... I only respond to people that register more than 1% in the polls. I never thought he had a chance and I’ve been proven right.',\n",
       " 'A great honor to receive polling numbers like these. Record setting African American (25%) &amp; Hispanic numbers (31%). http://t.co/p7d6RJeMTZ',\n",
       " '\"@PressTV: Poll: Trump beats Clinton head-to-head matchup http://t.co/ZRndXNN67K http://t.co/bkzQolegeo\"  Thank you!',\n",
       " 'If the presidential election were held today, according to this @surveyusa poll, Donald Trump would defeat any Dem: http://t.co/wmfHKnNSWm\"',\n",
       " 'Daily Caller: Trump Surpasses Field, Flirts With 40 Percent in Alabama Poll http://t.co/LzG5M8SmYC',\n",
       " '.@brithume, I am in first place by a lot in all polls, tied for first place with Ben Carson in one Iowa poll. I thought you knew this-thanks',\n",
       " 'Tracking 149 polls from 29 pollsters nationwide/HuffPost Pollster #GOP http://t.co/slsvuxcEhF',\n",
       " '2016 GOP Nomination Polls have me as #1 as seen on @SpecialReport with @BretBaier. http://t.co/iZZg1N8Mwu',\n",
       " 'Will be interviewed on @GMA this morning at 7:00. Thanks for the GREAT poll results!',\n",
       " '\"@RoniSeale: BIG LEADS FOR THE PEOPLE\\'S POTUS #2016GOPNOMINATION #TRUMP2016 #MAKEAMERICAGREATAGAI  http://t.co/it7papSmwv\"   Great!',\n",
       " \"Every Poll has me winning BIG.If you listen to dopey Karl Rove, a Trump hater, on @oreillyfactor, you would think I'm doing poorly. @FoxNews\",\n",
       " 'Yet another weak hit by a candidate with a failing campaign. Will Jeb sink as low in the polls as the others who have gone after me?',\n",
       " 'The just released Public Policy Polling (PPP - national result) is the best yet. MAKE AMERICA GREAT AGAIN!',\n",
       " 'Just out - new PPP NATIONAL POLL has me in first place by a wide margin at 29%. I wonder why only @FoxNews has not reported this? Too bad!',\n",
       " 'Leading in the Bloomberg Iowa poll. Also, my favorability numbers went up at a record, almost unheard of, clip. Thank you Iowa!',\n",
       " 'Loved being with my many friends in Tennessee. The crowd and enthusiasm was fantastic. I won the straw poll big!',\n",
       " '\"@teapartynews: Trump Wins Tea Party Group\\'s \\'Nashville Straw Poll\\' - Newsmax http://t.co/tGJEeapJga\"  GREAT, THANK YOU!',\n",
       " 'Via @BreitbartNews \"TRUMP WINS NASHVILLE GRASSROOTS STRAW POLL WITH 52 PERCENT\"- http://t.co/kmNU8IkI5Q',\n",
       " '\"@joehos18: BOOM - Univision Reluctantly Reports Donald Trump Leading With Latino Republicans.... http://t.co/MmsebE0LPP via @thelastrefuge2',\n",
       " 'RT @_HankRearden: Trump breaks 40% in OAN / Gravis Marketing scientific poll. Leads closest competitor by 27%. @DanScavino #Trump2016 http:…',\n",
       " 'Via CNN: Trump now leads in odds to win GOP nomination http://t.co/6ExyTO6BpJ',\n",
       " 'Will be interviewed on the @TODAYshow this morning at 7:00. Talking about politics, polls and whatever. Enjoy!',\n",
       " 'Heading to Iowa to a packed house. Just released polls, all first place, are amazing. Thank you!',\n",
       " 'RT @DanScavino: Breaking #News! Public Policy Polling, New Hampshire! @realDonaldTrump skyrockets🚀to 35%! #Trump2016 #SilentMajority http:/…',\n",
       " 'Another good poll result in the great state of SC. Trump at 30%. Carson at 15% and Bush at 9%.  http://t.co/FjQfdCrfdT',\n",
       " 'Congrats @LindseyGrahamSC. You just got 4 points in your home state of SC—far better than zero nationally. You’re only 26 pts behind me.',\n",
       " '.@GovernorPataki did a terrible job as Governor of New York. If he ran again, he would have lost in a landslide. He and Graham ZERO in polls',\n",
       " 'New Reuters Poll just came out and has me at 32%, highest number yet.The silent majority is back and we will MAKE AMERICA GREAT AGAIN!',\n",
       " 'Dow dives more than 500 points - down 9% from high. Be careful!',\n",
       " 'Another great poll result! Thank you! http://t.co/loMirPFLIZ',\n",
       " '\"@aduanebrown New CNN/ORC poll: @realdonaldtrump #1 w/ 24% -- favorability rating on the rise while Jeb\\'s declines. 60% among women!!\"',\n",
       " '\"@ktumulty Polls indicate that a Trump presidency is now inevitable. #August\"',\n",
       " 'RT @Morning_Joe: Poll: @realDonaldTrump, @JebBush @RealBenCarson at the top\\nhttp://t.co/kYCuOdO00Z http://t.co/IpiFPtNByS',\n",
       " 'RT @DanScavino: 2016 GOP Primary\\nHP tracking 139 polls | 28 pollsters. \\n#1 Trump 24.1%\\n#2 Bush 10.7% \\n#3 Carson 8.6%\\n#4 Rubio 6.8% http://t…',\n",
       " 'RT @DanScavino: CNN Poll • Most Likely to Change Washington, DC. @realDonaldTrump 44%, Ben Carson 9%, Ted Cruz 8%, Carly Fiorina 7%. http:/…',\n",
       " 'The polls have been really amazing--we are all tired of incompetent politicians and bad deals! http://t.co/wZiNNsvZx2',\n",
       " 'RT @DanScavino: 2016 GOP Nominee National Polls via Fox News released today. @realDonaldTrump #1 at 25% with #2 at 12% &amp; #3 at 10%. http://…',\n",
       " \"RT @MichaelCohen212: #fox national poll...@realDonaldTrump #Trump2016 leads by double digits. Let's bring #inspiration back to #MakeAmerica…\",\n",
       " \"RT @DanScavino: Great poll #news from #Alabama!! @realDonaldTrump #1 • with a lead 2x's higher than #2 Jeb Bush. #Trump2016🇺🇸 http://t.co/e…\",\n",
       " 'RT @CNNPolitics: CNN/ORC Poll: @realDonaldTrump tops in Iowa http://t.co/VjguyZpLkq http://t.co/ir05392LrW',\n",
       " 'RT @_Mastersof: @DanScavino @realDonaldTrump @TPM \\nEchelon poll says Trump has 3x the support of rivals.\\nTrump: 29%\\nCarson: 10%\\nFiorina/Rub…',\n",
       " 'RT @DanScavino: #IOWA CNN/ORC Poll\\n@realDonaldTrump\\nOverall #1 @22% \\nEconomy #1 @ 37%\\nImmigration #1 @ 35%\\nTerrorism #1 @ 21% &amp; more! http:…',\n",
       " 'RT @jeffzeleny: Our new @CNN Iowa poll shows @realDonaldTrump at 22%, followed by Carson 14%, Walker 9% and Bush is at 5%. #iacaucus',\n",
       " 'RT @DanScavino: #IPSOS Poll Conducted for #Reuters. \\n#GOP Debate &amp; 2016 Ballots 08/10/2015.\\n#MakeAmericaGreatAgain #Trump2016 http://t.co/u…',\n",
       " 'RT @CNBCnow: Donald Trump maintains support of 24% of Republican voters in new online Reuters/IPSOS poll with 6.7% margin of error; Bush tr…',\n",
       " '\"@katygolf: @Maxinerunner: Newsmax poll http://t.co/eA3gvLBri8 @realDonaldTrump: 65% @marklevinshow @RWSurferGirl\" @krauthammer  APOLOGIZE!',\n",
       " '\"@katygolf: @Maxinerunner: Newsmax poll http://t.co/eA3gvLBri8 @realDonaldTrump: 65% @marklevinshow @RWSurferGirl\"  Another debate win!',\n",
       " 'RT @DesignerDeb3: @realDonaldTrump BREAKS RECORDS in poll history--LARGEST share of support Quinnipiac recorded in 2 years http://t.co/Rk1W…',\n",
       " 'RT @DanScavino: #GOPDebate Winner!\\nDrudge 50% (187K) @realDonaldTrump \\nTIME 46% (25K) @realDonaldTrump \\nFOXSD 49% @realDonaldTrump http://t…',\n",
       " \"@TIME poll: @realDonaldTrump winner of last night's debate by wide margin.. 45% v.12% @RealBenCarson, 10% @JohnKasich http://t.co/mzR62luvWq\",\n",
       " '\"@Domenclature: TIME POLL: @RealDonaldTrump wins the first #Republicanpresidentialdebate by Wild Margin http://t.co/mzR62luvWq #Politics',\n",
       " '\"@Diplomt: @realDonaldTrump is in a greater position w/ 52% to 12% @Drudge_Report even after @MegynKelly &amp; @BretBaier tried to take him out.',\n",
       " '\"@Diplomtc_Immnty: @realDonaldTrump They tried to take you out &amp; your poll numbers skyrocketed. Voters matter, not @FOXNews moderators.',\n",
       " '.@FrankLuntz I won every poll of the debate tonight by massive margins @DRUDGE_REPORT &amp; @TIME  so where did you find that dumb panel.',\n",
       " '\"@HowardJax50:  @FrankLuntz NBC says Trump leads with HS grads or less...doesn\\'t bother saying Trump leads with college grads, too\"',\n",
       " '\"@FrankLuntz: Trump is leading with almost every major group of Republican primary voters. http://t.co/fwIZR6XhYP\"',\n",
       " 'Poll: Trump Leads GOP Field Among Hispanics, Records 34% Favorability  http://t.co/AANybghvCv',\n",
       " '\"@Mike_Beacham: Trump Leads, Jeb Slips, Rubio Crashes In WSJ/NBC News Poll http://t.co/ZR3PvOAARe #StraightTalk @SenTedCruz #ccot #tcot #2A\"',\n",
       " 'RT @DanScavino: New Hampshire poll shows 43% say they feel @realDonaldTrump can BEST handle the #economy. #MakeAmericaGreatAgain🇺🇸 http://t…',\n",
       " \"RT @JoeNBC: Today we spoke with Donald Trump about his rising leads in the polls and his strategy for Thursday's debate. VIDEO: http://t.co…\",\n",
       " 'RT @BrianCraigShow: #DonaldTrump takes massive lead in WSJ #NBC #poll twice the support of #JebBush http://t.co/5AjJJschQ2 @realDonaldTrump…',\n",
       " 'RT @jerome_corsi: TRUMP SURGES - takes double digit lead in GOP presidential race @MichaelCohen212 @realDonaldTrump Jerome Corsi',\n",
       " 'RT @DanScavino: Good Morning! Real Clear Politics Polling Data Average w/ addition of Bloomberg Poll. @realDonaldTrump #1. #Trump2016 http:…',\n",
       " '\"@_trump4potus: Trump continues to rise in the polls! The American People are speaking and speaking loudly. #2016election #Trump2016\"',\n",
       " '\"@RoniSeale: @foxandfriends Trump is surging, leading,&amp; breaking EVERY poll because #TrumpIsRight #GoTrump #MakeAmericaGreatAgain #Trump2016',\n",
       " 'RT @foxandfriends: FOX NEWS POLL: New high for Donald Trump, new low for Hillary Clinton http://t.co/DMnxfZuRM9',\n",
       " 'RT @WSJ: New WSJ/NBC poll finds almost every GOP candidate losing ground except for Donald Trump. http://t.co/cBFhPJn68x',\n",
       " 'RT @DanScavino: FOX NEWS POLL RELEASED\\n#1. @realDonaldTrump • 26%\\n#2. Jeb Bush • 15%\\n#3. Scott Walker • 9%\\n#MakeAmericaGreatAgain🇺🇸 http://…',\n",
       " 'RT @ThePatriot143: POLL: TRUMP CRUSHES BUSH AND WALKER COMBINED, FAVORABILITY ROCKETS TO 52% http://t.co/S1kaXfZEKQ http://t.co/z80x4UN1FJ',\n",
       " 'New Poll Shows Donald Trump Blowing Everyone Else Out of the Water. http://t.co/sAVTGaswcl',\n",
       " 'RT @JonScottFNC: .@realDonaldTrump Surges in NBC News/WSJ Poll;GOP hopefuls to take center stage this week-Who makes top 10?@KarlRove http:…',\n",
       " 'RT @foxandfriends: Days before the first Republican Presidential debate, @realDonaldTrump surges to the lead among other GOP contenders htt…',\n",
       " '\"@FoxNews: .@ericbolling: \"Polls show [@realDonaldTrump would] be the GOP nominee if the vote was held today.\" http://t.co/OOtx0Rqwjs\"',\n",
       " '\"@CoachZachCooper:  Congratulations on leading the polls currently and for acquiring the Center Stage Position In The Upcoming Debates!\"',\n",
       " 'RT @FoxNews: .@ericbolling: \"Polls show [@realDonaldTrump would] be the GOP nominee if the vote was held today.\" http://t.co/eXMnTvrtWD']"
      ]
     },
     "execution_count": 15,
     "metadata": {},
     "output_type": "execute_result"
    }
   ],
   "source": [
    "# create a list of all text columns\n",
    "\n",
    "textlist = frame['text'].tolist() # here, the order of rows is preserved\n",
    "textlist"
   ]
  },
  {
   "cell_type": "markdown",
   "metadata": {},
   "source": [
    "### function for calculating top 20 frequent items from a list\n",
    "\n",
    "nltk `most_common`: https://tedboy.github.io/nlps/generated/generated/nltk.FreqDist.most_common.html"
   ]
  },
  {
   "cell_type": "code",
   "execution_count": 16,
   "metadata": {},
   "outputs": [],
   "source": [
    "from collections import Counter\n",
    "from collections import defaultdict\n",
    "def top20(thislist):\n",
    "    # First make a string out of the entire list\n",
    "    BIGstr = \" \".join(thislist)\n",
    "    wordlist = BIGstr.split(\" \")\n",
    "    wordcount = Counter(wordlist)\n",
    "    return(wordcount.most_common(20))"
   ]
  },
  {
   "cell_type": "code",
   "execution_count": 17,
   "metadata": {},
   "outputs": [
    {
     "name": "stdout",
     "output_type": "stream",
     "text": [
      "[('the', 222), ('in', 165), ('', 129), ('poll', 122), ('I', 112), ('to', 101), ('Trump', 91), ('and', 89), ('is', 83), ('a', 78), ('of', 74), ('on', 64), ('New', 64), ('Poll', 64), ('@realDonaldTrump', 62), ('just', 56), ('new', 56), ('polls', 55), ('at', 55), ('for', 50)]\n"
     ]
    }
   ],
   "source": [
    "print(top20(textlist))"
   ]
  },
  {
   "cell_type": "markdown",
   "metadata": {},
   "source": [
    "### What are the most frequent mentions?\n",
    "\n",
    "Steps:\n",
    "* Extract mentions using regular expressions\n",
    "* Count the most common"
   ]
  },
  {
   "cell_type": "code",
   "execution_count": 7,
   "metadata": {},
   "outputs": [
    {
     "name": "stdout",
     "output_type": "stream",
     "text": [
      "[('realdonaldtrump', 87), ('cnn', 30), ('foxnews', 25), ('jebbush', 15), ('danscavino', 15), ('megynkelly', 10), ('abc', 8), ('drudge_report', 8), ('cnbc', 8), ('wsj', 7), ('oann', 7), ('cbsnews', 7), ('todayshow', 6), ('morning_joe', 5), ('nbcnews', 4), ('foxbusiness', 4), ('gstephanopoulos', 4), ('frankluntz', 4), ('realbencarson', 4), ('washingtonpost', 3)]\n"
     ]
    }
   ],
   "source": [
    "import re\n",
    "def extractmentions(row):\n",
    "    row = row.lower()\n",
    "    result = re.findall(\"(?<![@\\w])@(\\w{1,25})\", row)\n",
    "    return result\n",
    "\n",
    "all_mentions = []\n",
    "\n",
    "for t in textlist:\n",
    "    result = extractmentions(t)\n",
    "    if len(result) > 0:\n",
    "        all_mentions = all_mentions + result\n",
    "        \n",
    "print(top20(all_mentions))"
   ]
  },
  {
   "cell_type": "markdown",
   "metadata": {},
   "source": [
    "### What are the most frequent hashtags?\n",
    "\n",
    "<span class=\"mark\">**TODO**</span>\n",
    "\n",
    "write a similar function to extract hashtags\n",
    "\n",
    "print top 20 most frequent hashtags"
   ]
  },
  {
   "cell_type": "code",
   "execution_count": 8,
   "metadata": {},
   "outputs": [
    {
     "name": "stdout",
     "output_type": "stream",
     "text": [
      "[('trump2016', 50), ('makeamericagreatagain', 34), ('1', 17), ('gopdebate', 8), ('2', 5), ('gop', 5), ('fitn', 3), ('iacaucus', 3), ('trump', 3), ('tcot', 3), ('3', 3), ('imwithyou', 2), ('votetrump', 2), ('iowa', 2), ('iowacaucus', 2), ('rubio', 2), ('votetrump2016', 2), ('cnn', 2), ('wakeupamerica', 2), ('cnbcgopdebate', 2)]\n"
     ]
    }
   ],
   "source": [
    "# Your code below\n",
    "\n",
    "def extracthashtags(row):\n",
    "    row = row.lower()\n",
    "    result = re.findall(\"(?<![#\\w])#(\\w{1,25})\", row)\n",
    "    return result\n",
    "\n",
    "all_hashtags = []\n",
    "\n",
    "for t in textlist:\n",
    "    result = extracthashtags(t)\n",
    "    if len(result) > 0:\n",
    "        all_hashtags = all_hashtags + result\n",
    "        \n",
    "print(top20(all_hashtags))\n"
   ]
  },
  {
   "cell_type": "markdown",
   "metadata": {},
   "source": [
    "### top 20 words without text cleaning"
   ]
  },
  {
   "cell_type": "code",
   "execution_count": 9,
   "metadata": {},
   "outputs": [
    {
     "data": {
      "text/plain": [
       "[('the', 222),\n",
       " ('in', 165),\n",
       " ('', 129),\n",
       " ('poll', 122),\n",
       " ('I', 112),\n",
       " ('to', 101),\n",
       " ('Trump', 91),\n",
       " ('and', 89),\n",
       " ('is', 83),\n",
       " ('a', 78),\n",
       " ('of', 74),\n",
       " ('on', 64),\n",
       " ('New', 64),\n",
       " ('Poll', 64),\n",
       " ('@realDonaldTrump', 62),\n",
       " ('just', 56),\n",
       " ('new', 56),\n",
       " ('polls', 55),\n",
       " ('at', 55),\n",
       " ('for', 50)]"
      ]
     },
     "execution_count": 9,
     "metadata": {},
     "output_type": "execute_result"
    }
   ],
   "source": [
    "# what are the top words from the entire text corpus\n",
    "top20(textlist)"
   ]
  },
  {
   "cell_type": "markdown",
   "metadata": {},
   "source": [
    "#### Let's do some text cleaning"
   ]
  },
  {
   "cell_type": "code",
   "execution_count": 10,
   "metadata": {},
   "outputs": [
    {
     "data": {
      "text/plain": [
       "[('the', 261),\n",
       " ('poll', 258),\n",
       " ('in', 176),\n",
       " ('trump', 131),\n",
       " ('new', 124),\n",
       " ('.', 120),\n",
       " ('i', 112),\n",
       " ('to', 104),\n",
       " ('polls', 95),\n",
       " ('and', 93),\n",
       " ('a', 90),\n",
       " ('is', 88),\n",
       " ('you', 86),\n",
       " ('of', 81),\n",
       " ('just', 73),\n",
       " ('great', 72),\n",
       " ('on', 67),\n",
       " ('thank', 59),\n",
       " ('-', 58),\n",
       " ('at', 57)]"
      ]
     },
     "execution_count": 10,
     "metadata": {},
     "output_type": "execute_result"
    }
   ],
   "source": [
    "def textcleaner(row):\n",
    "    row = row.lower()\n",
    "    #remove urls\n",
    "    row  = re.sub(r'http\\S+', '', row)\n",
    "    #remove mentions\n",
    "    row = re.sub(r\"(?<![@\\w])@(\\w{1,25})\", '', row)\n",
    "    #remove hashtags\n",
    "    row = re.sub(r\"(?<![#\\w])#(\\w{1,25})\", '',row)\n",
    "    #remove other special characters\n",
    "    row = re.sub('[^A-Za-z .-]+', '', row)\n",
    "    #remove digits\n",
    "    row = re.sub('\\d+', '', row)\n",
    "    row = re.sub('\\s+', ' ', row)\n",
    "    row = row.strip(\" \")\n",
    "    return row\n",
    "\n",
    "cleaned_textlist = []\n",
    "\n",
    "for t in textlist:\n",
    "    cleaned_textlist.append(textcleaner(t))\n",
    "    \n",
    "top20(cleaned_textlist)"
   ]
  },
  {
   "cell_type": "markdown",
   "metadata": {},
   "source": [
    "**TODO for later** There are still few things that could be cleaned up. Like appearance of that last character -"
   ]
  },
  {
   "cell_type": "markdown",
   "metadata": {},
   "source": [
    "# Stopwords\n",
    "\n",
    "**<span class=\"mark\">TODO</span>**:\n",
    "1. Fetch english stopwords\n",
    "2. write code to remove stopwords from the text that you are working with: `cleaned_textlist`"
   ]
  },
  {
   "cell_type": "code",
   "execution_count": 11,
   "metadata": {},
   "outputs": [],
   "source": [
    "from nltk.corpus import stopwords"
   ]
  },
  {
   "cell_type": "code",
   "execution_count": 12,
   "metadata": {},
   "outputs": [
    {
     "name": "stdout",
     "output_type": "stream",
     "text": [
      "['its just a -point race clinton trump', 'poll donald trump sees -point positive swing in two weeks - breitbart great', 'great new poll - thank you', 'great poll numbers are coming out all over. people dont want another four years of obama and crooked hillary would be even worse.', 'another new poll. thank you for your support join the movement today', 'great new poll- thank you america', 'despite spending k a day on tv ads alone falls flat in nationwide . having zero impact. sad', 'great poll- florida thank you', 'new poll - thank you', 'new q poll out- we are going to win the whole deal- and make america great again', 'the dirty poll done by is a disgrace. even they admit that many more democrats were polled. other polls were good.', 'hillary clinton is not a change agent just the same old status quo she is spending a fortune i am spending very little. close in polls', 'the poll sample is heavy on democrats. very dishonest - why would they do that other polls good', 'so many great things happening - new poll numbers looking good news conference at a.m. today trump tower', 'poll data shows that does by far the best in holding onto his senate seat in florida. important to keep the majority. run marco', 'rt breaking poll trump gains points on clinton since marchgt now leads crooked hillary - vi', 'great new poll- thank you', 'great new poll- thank you', 'rt interesting poll results so far and go vote on', 'as soon as john kasich is hit with negative ads he will drop like a rock in the polls against crooked hillary clinton. i will win', 'kasich only looks o.k. in polls against hillary because nobody views him as a threat and therefore have placed zero negative ads against him', 'i think its more like .', 'new cbs poll shows defections from cruzs core supporters amp increased support for ...not surprising.', 'wow great new poll- new york thank you for your support', 'poll shows leads among registered republican women with . thank you', 'how come the amp show the new poll for hillary vs bernie but do not show the same poll where i am killing cruz', 'dont believe the polls they are just another phony hit job on me. i will beat hillary clinton easily in the general election.', 'realistic trump poll numbers translate to the percentile range in a two-man race. gee what happened to that ceiling', 'i guess i have reached yet another ceiling - . with four people. my highest reuters poll yet thank you', 'cant watch crazy megyn anymore. talks about me at but never mentions that there are four people in race. with two people big amp over', 'i hear came out with another one of their phony polls. while i am leading they are totally discredited after last s.c. poll', 'failed presidential candidate lindsey graham should respect me. i destroyed his run brought him from to when he got out. now nasty', 'why would anyone in kentucky listen to failed presidential candidate rand paul re caucus. made a fool of himself .ky his nd choice', '. poll just hit for trump. interesting how my numbers have gone so far up since lightweight marco rubio has turned nasty. love it', 'michigan gop poll trump . rubio . cruz . kasich . carson . wow', 'wow every poll said i won the debate last night. great honor', 'he won almost all polls and mark halperin gave him an a-', 'all the online polls have me winning the debate. i really enjoyed the evening. not easy but good.', 'thank you polls', 'great new poll. thank you texas', 'ted cruz is lying again. polls are showing that i do beat hillary clinton head to head. check out poll snd q poll.', 'the polls show that i picked up many jeb bush supporters. that is how i got to . when others drop out i will pick up more. sad but true', '. poll and say that i beat both hillary and bernie and i havnt even started on them yet', 'wow great ohio poll. shows me leading by points beating k', 'thank you michigan trump kasich cruz rubio carson via arg', 'great poll thank you north carolina on trump cruz rubio carson kasich via', 'thank you illinois great news on trump cruz rubio kasich bush carson simon pollsiu', 'the failing wall street journal should fire both its pollster and its editorial board. seldom has a paper been so wrong.totally biased', '. is changing their theme from fair and balanced to unfair and unbalanced. but dying is worse.their phony poll is a joke', 'new cbs national poll just out - massive lead for trump. the wall street journalnbc poll is a total joke. no wonder wsj is doing so badly', 'i love being in south carolina. we are leading big in all of the state polls - saturday is a big day. make america great again', 'the just out usa today national poll where i lead by big numbers shows that in a head to head matchup i beat both hillary and bernie.', 'amazing that while i lead by big numbers in the new q and and usa today polls the the press only wants to report on the phony wsjnbc poll.', 'jeb bush just got contact lenses and got rid of the glasses. he wants to look cool but its far too late. in nevada', 'just out nevada poll shows jeb bush at he should take his dumb mouthpiece and just go home.', 'new ppp poll just out - trump up big cruz rubio and bush down. the debate results even with a stacked rnc audience were wonderful', 'new south carolina poll from ppp. thank you', 'wow in the new cbs poll i went way up into the forties thank you', 'even though every poll time drudge etc. has me winning the debate by a lot only puts negative people on. biased - a total joke', 'hey - see how i beat your boy ted- in your own blaze poll your endorsement means nothing', 'all polls have me winning debate big- drudge time etc. dopey charles krauthammer still nasty. he has zero cred- totally dishonest', 'we are getting reports from many voters that the cruz people are back to doing very sleazy and dishonest pushpolls on me. we are watching', 'the polls are now showing that i am the best to win the general election. states that are never in play for repubs will be won by me. great', 'latest umass tracking poll. nh gop trump rubio - cruz - jeb kasich', 'taking a helicopter to new hampshire boarding now. amazing activity planned. new umass poll very nice', 'ted cruz didnt win iowa he stole it. that is why all of the polls were so wrong and why he got far more votes than anticipated. bad', 'rt trump winning over latino republicans poll says new york post', 'ted cruz is totally unelectable if he even gets to run born in canada. will loose big to hillary. polls show i beat hillary easily win', 'thank youmitchell fox michigan poll finds trump holds - lead over closest gop opponents. trump clinton', 'great twitter poll- and i wasnt even there. thank you', 'good morning america thank you for all of your support in the latest drudge poll', 'watching biased charles a flunky who didnt know that i won every debate in particular- the last one. check polls', 'tennessee gop polltrump .cruz .carson .rubio .christie .jeb .', 'new wsj poll shows pulling ahead of in . great', 'hits new heights in national poll at', 'donald trump retains national lead in new abc newswapo poll with', 'amp leading polls w one week until ...more on the elections tonight on pm', 'cruz going down fast in recent polls- dropping like a rock. lies never work', 'ted cruz is a nervous wreck. he is making reckless charges not caring for the truth his poll s are way down', 'ipsosreuters pollthank you', 'fox news pollthank you new hampshire', 'new fox news pollthank you iowa', 'ted cruz poll numbers are down big. because he was born in canada and was until recently a canadian citizen many believe he cannot run', 'ted cruz went down big in just released reuters poll - whats going on is it goldman sachsciti loans or canada', 'just received the new fox poll.thank you america', 'wow new national zogby poll just out.trump . cruz . rubio . big numbers.', 'leaving nevada now for iowa. things are looking good - great new polls', 'new national gop zogby poll', 'new reuters poll thank you', 'after spending million is at the bottom of the barrel in polls. he is ashamed to use the name bush in ads. low energy guy', 'poll trump has more support in florida than rubio and bush combined.', 'new cnnwmur new hampshire poll just released. thank you', 'in the just released sc poll i increased my lead by points since last poll by same firm. up by cruz dropped .', 'on my way to iowa- just received new national poll numbers. thank you', 'wow new polls just out have trump up and cruz down - he is a nervous wreck', 'ted cruz is falling in the polls. he is nervous. people are worried about his place of birth and his failure to report his loans from banks', 'wsjnbc poll donald trump widens his lead in republican presidential race.', 'thank you iowa highly respected poll just released.', 'rt reuters rolling trump cruz . bush . carson . rubio .... more...', 'numerous polls have me beating hillary clinton. in a race with her voter turnout will be the highest in u.s. history-i get most new voters', 'just found out that is spending a fortune on iowa push polls negative to me. not nice but ok new polls are great.', 'new cbs poll.', 'another new iowa poll just released. thank you', 'new iowa poll. thank you', 'heading now for reno nevada for a big rally. good poll numberd all over', 'in the just out poll i easily beat hillary clinton - and i havnt even focused on her yet. on our way make america great again', 'poll - thank you', 'key state florida poll trump beats - combined', 'i am in new hampshire. just received great news from reuters poll. thank you for your support', '. is a low energy stiff who should focus his special interest money on the many people ahead of him in the polls. has no chance', 'nevada poll donald trump ted cruz marco rubio ... via great news', 'people ask why do you tweet and re-tweet to millions about when he is so low in the polls because of his big hit ads on me', '. has spent and is at the bottom of the polls. i have spent almost nothing and am at the top. win', 'great poll- thank you nevada', 'new . thank you america', 'why are flunkies and two of the dumbest people in politics always on the panels..and yet polltrump', 'the same people that said i wouldnt run or that i wouldnt lead or do well st place and leading by now say i wont beat hillary.', 'remember when failed candidate said that illegals came across the border as an act of love hes spent million and is at .', '. and very dishonest in not showing the new poll where i am at points higher than cruz. be honest chuck', 'why isnt using the much newer poll when discussing how well i am doing instead of the older q poll cnn even better', 'wow even lowly rand paul has just past in the new poll. jeb is at im at . stop throwing your money down the drain', 'jim you fail to mention in your cnn poll that in the gop race...trump is leading cruz to ...big detail', 'it is hard to believe i am winning by so much when i am treated so badly by the media. new poll amazing in all categories. pt. lead', '. treats me so badly. using old quinnipiac poll where i have a much smaller lead than the just out poll. all negative', 'big news just out - new poll trump and leads in every major category. likeability way up. cruz carson rubio', 'wow new reuters poll just out. big lead if you want to make america great again trump cruz this is at the top of drudge', 'the donald shouldve been named man of the year. he dominates the polls news talk shows amp social media. maga', 'well im at and your at .you know jeb you started over here you keep on moving further and further off stage. classic', 'this suggests that online polls are more reliable so trump is crushing both parties.', 'tell this knitwit the ppl want not him or his choice for president thts why trump has', '. today said he didnt want to be the front-runner he would rather be where he is now . that is the talk of a loser cant win', 'great poll out of illinois thank you', '. was terrible on face the nation today. being at and falling seems to have totally affected his confidence. a basket case', 'as dominates the latest polls ill talk to the gop frontrunner sunday on .', 'thank you america post-debate poll with - from previous poll.', 'new poll trumps massive lead grows in post-debate poll', 'another new post-debate poll. thank you', 'new reuters poll - thank you', 'bill oreilly calls trump and campaign brilliant. in first place by points.', 'thank you so many people have given me credit for winning the debate last night. all polls agree. it was fun and interesting', 'highly respected public policy polling ppp just announced that i am number one in iowa. thank you', 'new ppp poll just released in iowa- up points from last poll. leading w dont worry - media wont report it', 'i won every debate so far according to all debate polls including and more. too bad dopey lies', '. is very bad at math. she was totally unable to figure out the difference between me and cruz in the new monmouth poll to.', '. the most overrated anchor at worked hard to explain away the new monmouth poll to or pt lead. she said', 'why isnt anyone using the iowa poll with me having a big lead. they only want to use the one negative poll nd place.dishonest press', 'isnt it amazing that paid a fortune for an iowa poll which shows me in first place over cruz by to - then doesnt use it', 'wow i just had two very good iowa polls and a phenomenal just out national poll from - . make america great again', 'why doesnt use the iowa poll', 'rt just in donald trump hits in new monmouth national poll his highest national support of the election cycle yet.', 'rt new national poll from monmouth -huuge lead trump leads the pack at . ted cruz- marco rubio- amp', 'rt breaking news surging ahead in gop race - in new national poll ahead of nearest riva', 'why doesnt quote the new iowa poll where i have a to lead over ted cruz and all others. think about it', 'trump needs his own poll a real poll in every state. these polls are so ridiculous.the media will only get worse from here', 'a very good nbcwall street journal poll was just released wherein i went up from last month and am in the lead. nice', 'trump is winning by so much more its near nationally. they are all biased polls', 'i will be interviewed on at a.m. and fox news sunday with chris wallace at o a.m. cnn iowa poll - point lead', 'new cnn iowa poll --- trump cruz . everyone else way down dont trust des moines register poll- biased towards trump', 'thank you we are at in new reuters poll with coming in at . time to', 'great news in georgia the just out landmark poll shows me in first with wow.', '. is so off on iowa which i am leading big in new poll. i will win iowa. also i beat hillary easily', 'time for the republican establishment to accept the fact that trump is not only a viable candidate but lead is real', 'respected morning consult poll just out. i lead all republicans and beat hillary head to head by a wide margin- to', 'establishment flunky is going crazy with the just released cbs poll that has me way ahead. new fox poll has me beating hillary.', 'wow my poll numbers have just been announced and have gone through the roof', 'the last person corrupt hillary clinton wants to run against is donald j. trump. ill end up beating her in every state. new fox poll-trump', 'the failing does not mention the new poll that has me leading iowa by a massive points - i am at . maggie haberman sad', 'great poll numbers just coming out of new hampshire. big lead for trump according to', 'great new poll from nh. thank you we need to keep this country safe', 'a very big poll is coming out at pm in new hampshire. will be very interested in the results.', 'a new poll indicates that of my supporters would vote for me if i departed the gop amp ran as an independent.', 'i wish the wall street journal had reported the just out iowa poll correctly. i lead by a wide margin points going up big', 'just won iowa poll big trump cruz rubio but reported cruz momentum but nothing about the fact that i easily won', 'rt new iowa poll finds . in the lead by double digits.', 'today new iowa poll finds trump in the lead by double digits', 'just released poll gives me a big point lead in iowa. change your false story failing . thank you iowa', 'i am especially grateful for the tremendous support i have received from the evangelicals in the just out iowa cnn poll. thank you', 'i am greatly honored by the results of the cnn poll in iowa. in the end i believe the final results will be even better than that', 'poll numbers will go up even more for after obamas address', 'donald trump opens up massive lead in national poll', '. amp please thank alisyn camerota david chalian and john king for the very professional reporting of the new cnn poll.', '. poll just came out amazing numbers for those who want to make america great again trump a point lead over nd place. thanks.', 'the retired neurosurgeon plummets points from last month while trump solidifies his dominating lead', 'his poll numbers jump every time instances like this occur.', 'i beat hillary in the new poll head to head. she has no strength or stamina both of which are needed to make america great again', 'you would think a paper like the washington post would be fair and objective. for the record almost all polls showed i won all debates.', 'the republican establishment out of self preservation is concerned w my high poll s. more concerned are demsi beat hillary heads up', 'pollster trend national gop average national polls amp pollsters.', 'donald trump rises to nationally ted cruz edges into nd at', 'great new poll numbers thank you for your support', 'new national poll released. thank you america', 'great poll numbers thank you', 'great poll numbers all over and beating hillary clinton one on one. thank you', 'big new poll to be announced at a.m. on this week with . i will be interviewed on show', '. just announced that i am leading big in the new poll which will be shown on this week at a.m. i will be on show', 'donald trump retakes lead in gop race ted cruz makes gains poll via aol', 'rt . extends lead in reuters poll.', 'john kasich despite being governor of ohio is losing to me in the ohio polls. pathetic', 'new hampshire poll rules gop race in new hampshire. trump rubio cruz bush carson amp kasich', 'via politico trump extends lead in new hampshire poll', 'great new poll', 'so many great polls like reuters - big leads everywhere. new hampshire really special we will win big and make america great again', 'great poll numbers out of . thank you', 'donald trump surges in poll among likely republican voters', 'poll trump surges to nationally bad news for marco rubio great news', 'great news out of new hampshire donaldtrump is pulling away from the pack w nd is behind him', 'reuters -day rolling poll trump carson . rubio . cruz .... thank you - a great honor', 'from to in texas - quite a jump into first place', 'all seven on-line polls including drudge and time with thousands of respondents said i won the debate. said i was so so.', 'loved doing the debate...won drudge and all on-line polls amazing evening moderators did an outstanding job.', 'it shouldnt be ignored and i doubt it will be carson will drop in polls.', 'this is why the polls are wrong i am a lifelong democrat. and i will be voting trump', 'would be nice if learned how to read the polls before writing his next story. probably done on purpose but not good reporting', 'great video. which of these polls is suspect kudos to', '-huge lead in reuters national poll', 'interesting presidential race carson tries to beat his mom with a hammer and beats carson in the polls', 'a great honor to easily finish first in the poll tabulation even though some of my best polls were not used in determining winner', 'wow . you openly lie about whos ahead in the gop race. trump is leading in of polls. shameful...', 'poll numbers are higher then most think no one is asking democrats if they are voting trump', 'wow poll just came out. with almost as importantly i am the strongest on economic issues by far', 'isnt it terrible that used a poll not used before i.b.d. when i was down but refuses to use it now when i am up', 'the polls are for the news cycle. trump is miles ahead and leaving all others in the dust dont doubt me', 'i trust s polls they are actually really fair and really balanced on all their news iowa lead', 'breaking latest poll of florida voters shows enormous lead for trump hed beat hillary', '. used this poll nobody else did when i was downwonder if shell use it now that im up', '. why dont you use new polls instead of the single ancient national poll that was a tiny bit negative. dishonest reporting', 'online poll best to handle economy by far very true thanks', '. marco only won the debate in the minds of desperate people. i won every on-line poll even crazy . marco good looking', 'thank you for the nice and true words on buzz with terrific howie kurtz. leading new hampshire to .', 'trump leads gop carson stays strong rubio rd poll', 'leading big nationwide in reuters poll - great', 'thank you james freeman of the for the very nice words. all polls said i won the debate except nbc rd. explain to daniel henninger', 'surges in post-debate poll trump puts us st and foremost', 'the new nbc poll has me in first place but said i was third in the debate - i demand a recount just kidding. every other poll had me .', 'arizona polls for democrats only say they would prefer donald trump over hillary clinton', 'republican is support for carson is . poll used by last month', 'everyone under in polls should drop out and support trump great idea', 'donald trump leads polls in florida', 'thank you for explaining to and and so many others that i am leading in almost all national amp state polls.', 'loved doing the debate last night on . check out all of the polls everyone agrees that harwood bombed', 'my interview on with had a ratings increase over same sunday last year. over last week.', 'cnbc poll trump won', 'trump wins cnbc instant poll rubio second... developing...', 'they should just let you be president already youre already leading in the polls.', 'said that won debate vote your stand', 'gravis marketing poll leading. great', 'came out as a clear winner in the polls yet again next we need max candidates too many on the stage', 'the poll closed with declared the official winner.', 'showing why he should be our next president. tremendous debate. winning all the post debate polls.', 'drudge poll on who won the rd . thank you', 'thank you colorado an honor to win poll.', 'the poll closed with declared the official winner. thank you', 'thanks everyone they all said i won the debate. even won the poll', 'via trump still in the lead by a whopping points after fluke survey had put carson on top-', 'poll total trump . carson . rubio .....', '. poll one of the most highly respected was just released. wow wait until the media digests these numbers - wont be happy', 'im sure the media will not report the highly respected new national poll that just came out via the economist.', 'get your polls straight. trump is going to win. he is the only one tough enough to run this country.', 'is trying to drive down poll numbers to install carson - who the establishment gop will promptly roll. win don win', 'does anybody think that will get their fictitious polling numbers corrected sometime prior to the start of the debate. sad', '. continues to report fictious poll numbers. number one based on every statistic is trump by a wide margin. they just cant say it', 'debate night is behind you national lead trump . carson .', 'a lot of people i know are voting trump in nc none have been polled your lead is bigger than anyone can imagine.', 'just out wonderful poll in north carolina.', 'composite national poll ...', 'wtg great job. u r the best pick out of all of the candidates amp ohio knows this .that is why u r leading there too', 'national gop presidential poll via .', 'trumps national lead increases to . going into the third gop debate its trump carson and rubio', 'new gravis national poll just out --- very nice', 'why not post the other polls where trump has percent and carson is in the teens strange', 'rt new poll shows and are tied atop the field in iowa.', 'leaving for new hampshire now. will be doing the there live at a.m. new poll of new hampshire trump carson', 'latest poll shows donald trump winning of electoral vote against hillary clinton', 'way ahead in all the polls that matter. trump for president', '. great numbers from poll. also from abc-washington post poll. thank you', 'do you believe that is still playing up the old iowa poll numbers and no mention of the abcwashington post or just out cbs results', '. poll - wow new hampshire trump carson bush south carolina trump carson cruz iowa trump carson', 'watch my interview on face the nation now and also the new cbs polls which if good for me the media wont report', 'big poll comes out today on face the nation at on .', 'a big poll will be announced this morning on face the nation. i wonder if i do well if the press will report the results doubt it', 'trumpachusetts donald trump tops poll of bay state voters ac thanks great news', 'donald trump leads in expectations shows strength on attributes poll - abc news - via', 'yougov national poll donald trump continues to dominate field with all demographics. the last refuge', 'rt a new poll shows . will most likely win the gop nomination.', 'rt new poll shows with a commanding lead - points above his closest competition', 'rt new poll finds lean republicans think most likely to be gop nominee and has best cha', 'new poll by abc newswashington post trump carson rubio bush wow how will the media put a negative spin on this one', 'rasmussen now beats - nationally', 'i will be interviewed on good morning america at a.m. will be announcing new poll numbers. make america great again', 'just out boston heraldfranklin pierce poll n.h. trump up carson bush rubio cruz press will say they are surging', 'donald trump still dominating all polls debate cable news gossip...everything. the gop nomination is his he rarely loses', 'i will be interviewed on good morning america tomorrow at a.m. big new abc poll coming out - i hope i do well', 'hits his highest poll number yet make small gains', '. had my best day ever in the polls one had me at - morning consult. boston globe monmouth nbc and cnn all great. more', 'donald trump tops franklin-pierceherald poll at percent in n.h.', 'lots of great new polls--big leads', 'since late july djt consistently been the front-runner in public opinion polls for the republican party nomination.', 'new poll trump blue collar support highest since fdr in s--wow', 'quit jeb quit. your poll is even lower than your apprentice rubio.', 'donald trump is so far ahead in two key state polls. thanks clayton', 'good news for those that want to make america great again - i am winning every poll in every state and national - and by big numbers thanks', 'via business insider donald trumps poll dominance in key states is mind-blowing-', 'a great new poll-', '. keep up the great work scottie. polls are best ever', 'did you also hear megyn say carson is the front-runner ...according so some polls ..tied in other polls outright lie hatred', 'every poll time drudge slate and others said i won both debates - but heard megyn kelly had her two puppets say bad stuff. i dont watch', 'megyn kelly has two really dumb puppets chris stirewalt amp marc threaten a bushy who do exactly what she says. all polls say i won debates', 'cnn poll just out on south carolina great s', 'cnnorc poll results just out for nevadawow trump carson fiorina bush cruz', 'should be interesting but too bad the three guys at will be taking up so much time - but who knows maybe a star will be born unlikely', 'very honored trump is tops as clinton drops in connecticut primaries quinnipiac university poll finds', '. sickening attempt. i hope . jumps another points.', 'via breitbart - riding high in polls donald trump storms the american south to overflow crowds in georgia', 'im leading big in every poll and we are going to win remember trump never gives up', 'great gravis poll on the great state of nh. also watch on cbs amp -- both on sunday.', 'new gravis poll in nh just out trump carson', 'yeah youre really wearing out your welcome. whos dominating the polls you go trump', 'just arrived in las vegas for a packed house speech tomorrow. big poll results today leading big everywhere. make america great again', 'just found out i won the rockingham county republican booth straw poll at the deerfield fair in new hampshire this past weekend. ---wow', 'rt . is leading in new quinnipiac poll', 'heading to a packed house in waterloo iowa will celebrate todays great poll numbers together. see you soon', 'new- reuters ipsos poll donald trump continues to dominate over', 'just in morning poll trump trump carson rubio bush fiorina', 'pew poll holds commanding lead', 'media is confused they bash trump he rises in polls', 'headlines donald trump maintains huge lead on opponents as polls go', 'im leading by big margins in every poll but the press keeps asking would you ever get out they are just troublemakers im going to win', 'trumps big lead in a new poll and whether jebs stuff happens was taken out of context with tonight thanks h', 'jeb you are falling in polls because conservatives feel that you cannot', 'rt polling convergence - oangravis and reuters', 'polling convergence - oangravis and reuters show donald trump surging with - support... via', 'donald trump leads by points in pew poll jeb bush in free fall', 'latest finds at percent approval leading gop in .', 'interesting polls on who won the gop debate.', 'great news just out--the highly respected usa todaysuffolk university poll. enjoy', 'i hope when rand paul gets out of the racehe is at --his supporters come over to me. i will do a much better job for them.', 'prediction rand paul has been driven out of the race by my statements about him-- he will announce soon.', 'zogby poll trump widens lead after gop debate', 'trump went way up in my poll when he said hed take money from what us is giving other countries save social security', 'marco rubio is a member of the gang of eight or very weak on stopping illegal immigration. only changed when poll numbers crashed.', 'an updated poll tracker with all polls thru the weekend reveals i maintained a double digit lead at', 'rt new poll maintains huge lead in georgia', 'dishonest just called to say that none of the polls including fox nbc cnn zogby amp morning consult matter. serious haters.', '. the poll said very plainly i came in second in the debate. all others time drudge slate etc. said i came in st.', 'wow a really nice lead in new hampshire--- an increase since my last poll', 'bloomberg trump leads gop field', 'new bloomberg poll trump leads big', 'headline reads rubio passes bush in florida poll -- unfair because trump destroys them both trump . rubio . bush .', 'morning consult poll trump leads', 'republican primary morning consult poll was just released. trump carson bush fiorina rubio cruz . taken after debate', 'they attack you more then cnn or msnbc combined. just a bunch of old bush appointee rhinos.', '. was very negative to me in refusing to to post the great polls that came out today including nbc. not good for me', 'touts cnn polls instead of their own of course the nbc one shows him much higher. trump corrects them', 'via huffpost pollster', 'zogby is respected in the business of polling the media is attempting to silence the message', 'has the media picked up the new zogby poll that was just put out i doubt it', 'new zogby poll highly respected but the media wont report it because it gives me an even bigger lead', 'touts cnn polls instead of their own of course the nbc one shows him much higher. trump corrects them', 'thanks and for showing us how lopsided you are use your own poll', 'the refused to use their just in poll numbers where i have a massive lead but instead used numbers where my lead is smaller.', 'i am attracting the biggest crowds by far and the best poll numbers also by far. much of the media is totally dishonest. so sad', 'i have been leading big in all polls with two more today and . the nbc poll is more than double next at . fiorina has .', 'i will be on at . will be releasing their new poll numbers. based on the debate results i should do well-who knows', 'rt check out the latest morning consult poll released . remains at .', 'wow great post-debate poll trump increases lead via breitbart', 'every poll done on debate last night from drudge to newsmax to time magazine had me winning in a landslide.', 'winning the poll-', 'the polls are really looking good everywhere despite all lobbyist amp special interest being spent against me. im turning down millions.', 'why is someone like george pataki who did a terrible job as governor of n.y. and registers zero in the polls allowed on the debate stage', 'too many people on stage for debate. at th with in shouldnt be allowed to participate.', 'trumps polls are going to skyrocket after appearance on tonight. the young people are going to love him', 'oh wow lightweight governor who is registered at less than percent in the polls just mocked my hair. so original', 'very good newsthe new quinnipiac poll just came outi am in iowa.', '.... i only respond to people that register more than in the polls. i never thought he had a chance and ive been proven right.', 'a great honor to receive polling numbers like these. record setting african american amp hispanic numbers .', 'poll trump beats clinton head-to-head matchup thank you', 'if the presidential election were held today according to this poll donald trump would defeat any dem', 'daily caller trump surpasses field flirts with percent in alabama poll', '. i am in first place by a lot in all polls tied for first place with ben carson in one iowa poll. i thought you knew this-thanks', 'tracking polls from pollsters nationwidehuffpost pollster', 'gop nomination polls have me as as seen on with .', 'will be interviewed on this morning at . thanks for the great poll results', 'big leads for the peoples potus great', 'every poll has me winning big.if you listen to dopey karl rove a trump hater on you would think im doing poorly.', 'yet another weak hit by a candidate with a failing campaign. will jeb sink as low in the polls as the others who have gone after me', 'the just released public policy polling ppp - national result is the best yet. make america great again', 'just out - new ppp national poll has me in first place by a wide margin at . i wonder why only has not reported this too bad', 'leading in the bloomberg iowa poll. also my favorability numbers went up at a record almost unheard of clip. thank you iowa', 'loved being with my many friends in tennessee. the crowd and enthusiasm was fantastic. i won the straw poll big', 'trump wins tea party groups nashville straw poll - newsmax great thank you', 'via trump wins nashville grassroots straw poll with percent-', 'boom - univision reluctantly reports donald trump leading with latino republicans.... via', 'rt trump breaks in oan gravis marketing scientific poll. leads closest competitor by .', 'via cnn trump now leads in odds to win gop nomination', 'will be interviewed on the this morning at . talking about politics polls and whatever. enjoy', 'heading to iowa to a packed house. just released polls all first place are amazing. thank you', 'rt breaking public policy polling new hampshire skyrocketsto', 'another good poll result in the great state of sc. trump at . carson at and bush at .', 'congrats . you just got points in your home state of scfar better than zero nationally. youre only pts behind me.', '. did a terrible job as governor of new york. if he ran again he would have lost in a landslide. he and graham zero in polls', 'new reuters poll just came out and has me at highest number yet.the silent majority is back and we will make america great again', 'dow dives more than points - down from high. be careful', 'another great poll result thank you', 'new cnnorc poll w -- favorability rating on the rise while jebs declines. among women', 'polls indicate that a trump presidency is now inevitable.', 'rt poll at the top', 'rt gop primaryhp tracking polls pollsters. trump . bush . carson . rubio .', 'rt cnn poll most likely to change washington dc. ben carson ted cruz carly fiorina .', 'the polls have been really amazing--we are all tired of incompetent politicians and bad deals', 'rt gop nominee national polls via fox news released today. at with at amp at .', 'rt national poll... leads by double digits. lets bring back to', 'rt great poll from with a lead xs higher than jeb bush.', 'rt cnnorc poll tops in iowa', 'rt echelon poll says trump has x the support of rivals.trump carson fiorinarub', 'rt cnnorc polloverall economy immigration terrorism amp more', 'rt our new iowa poll shows at followed by carson walker and bush is at .', 'rt poll conducted for . debate amp ballots .', 'rt donald trump maintains support of of republican voters in new online reutersipsos poll with . margin of error bush tr', 'newsmax poll apologize', 'newsmax poll another debate win', 'rt breaks records in poll history--largest share of support quinnipiac recorded in years', 'rt winnerdrudge k time k foxsd', 'poll winner of last nights debate by wide margin.. v.', 'time poll wins the first ate by wild margin', 'is in a greater position w to even after amp tried to take him out.', 'they tried to take you out amp your poll numbers skyrocketed. voters matter not moderators.', '. i won every poll of the debate tonight by massive margins amp so where did you find that dumb panel.', 'nbc says trump leads with hs grads or less...doesnt bother saying trump leads with college grads too', 'trump is leading with almost every major group of republican primary voters.', 'poll trump leads gop field among hispanics records favorability', 'trump leads jeb slips rubio crashes in wsjnbc news poll', 'rt new hampshire poll shows say they feel can best handle the .', 'rt today we spoke with donald trump about his rising leads in the polls and his strategy for thursdays debate. video', 'rt takes massive lead in wsj twice the support of', 'rt trump surges - takes double digit lead in gop presidential race jerome corsi', 'rt good morning real clear politics polling data average w addition of bloomberg poll. .', 'trump continues to rise in the polls the american people are speaking and speaking loudly.', 'trump is surging leadingamp breaking every poll because', 'rt fox news poll new high for donald trump new low for hillary clinton', 'rt new wsjnbc poll finds almost every gop candidate losing ground except for donald trump.', 'rt fox news poll released. . jeb bush . scott walker', 'rt poll trump crushes bush and walker combined favorability rockets to', 'new poll shows donald trump blowing everyone else out of the water.', 'rt . surges in nbc newswsj pollgop hopefuls to take center stage this week-who makes top', 'rt days before the first republican presidential debate surges to the lead among other gop contenders htt', '. polls show would be the gop nominee if the vote was held today.', 'congratulations on leading the polls currently and for acquiring the center stage position in the upcoming debates', 'rt . polls show would be the gop nominee if the vote was held today.']\n"
     ]
    }
   ],
   "source": [
    "stopWords = set(stopwords.words('english'))\n",
    "\n",
    "nostop_list = []\n",
    "for word in  cleaned_textlist:\n",
    "    if word not in stopWords:\n",
    "        nostop_list.append(word)\n",
    "        \n",
    "print(nostop_list)"
   ]
  },
  {
   "cell_type": "code",
   "execution_count": null,
   "metadata": {},
   "outputs": [],
   "source": []
  },
  {
   "cell_type": "code",
   "execution_count": null,
   "metadata": {},
   "outputs": [],
   "source": []
  },
  {
   "cell_type": "code",
   "execution_count": null,
   "metadata": {},
   "outputs": [],
   "source": []
  }
 ],
 "metadata": {
  "kernelspec": {
   "display_name": "Python 3",
   "language": "python",
   "name": "python3"
  },
  "language_info": {
   "codemirror_mode": {
    "name": "ipython",
    "version": 3
   },
   "file_extension": ".py",
   "mimetype": "text/x-python",
   "name": "python",
   "nbconvert_exporter": "python",
   "pygments_lexer": "ipython3",
   "version": "3.8.5"
  }
 },
 "nbformat": 4,
 "nbformat_minor": 4
}
