{
 "cells": [
  {
   "cell_type": "code",
   "execution_count": 238,
   "metadata": {},
   "outputs": [],
   "source": [
    "%matplotlib inline\n",
    "import warnings\n",
    "\n",
    "import pickle\n",
    "import random\n",
    "from time import time\n",
    "from typing import Union\n",
    "\n",
    "import matplotlib.pyplot as plt\n",
    "import numpy as np\n",
    "import pandas as pd\n",
    "\n",
    "warnings.filterwarnings(action='ignore', message='Setting attributes')"
   ]
  },
  {
   "cell_type": "code",
   "execution_count": 239,
   "metadata": {},
   "outputs": [
    {
     "data": {
      "text/html": [
       "<div>\n",
       "<style scoped>\n",
       "    .dataframe tbody tr th:only-of-type {\n",
       "        vertical-align: middle;\n",
       "    }\n",
       "\n",
       "    .dataframe tbody tr th {\n",
       "        vertical-align: top;\n",
       "    }\n",
       "\n",
       "    .dataframe thead th {\n",
       "        text-align: right;\n",
       "    }\n",
       "</style>\n",
       "<table border=\"1\" class=\"dataframe\">\n",
       "  <thead>\n",
       "    <tr style=\"text-align: right;\">\n",
       "      <th></th>\n",
       "      <th>Date</th>\n",
       "      <th>GDP</th>\n",
       "    </tr>\n",
       "  </thead>\n",
       "  <tbody>\n",
       "    <tr>\n",
       "      <th>count</th>\n",
       "      <td>118</td>\n",
       "      <td>118.000000</td>\n",
       "    </tr>\n",
       "    <tr>\n",
       "      <th>unique</th>\n",
       "      <td>118</td>\n",
       "      <td>NaN</td>\n",
       "    </tr>\n",
       "    <tr>\n",
       "      <th>top</th>\n",
       "      <td>2014年第四季度</td>\n",
       "      <td>NaN</td>\n",
       "    </tr>\n",
       "    <tr>\n",
       "      <th>freq</th>\n",
       "      <td>1</td>\n",
       "      <td>NaN</td>\n",
       "    </tr>\n",
       "    <tr>\n",
       "      <th>mean</th>\n",
       "      <td>NaN</td>\n",
       "      <td>92146.383051</td>\n",
       "    </tr>\n",
       "    <tr>\n",
       "      <th>std</th>\n",
       "      <td>NaN</td>\n",
       "      <td>82182.611122</td>\n",
       "    </tr>\n",
       "    <tr>\n",
       "      <th>min</th>\n",
       "      <td>NaN</td>\n",
       "      <td>5262.800000</td>\n",
       "    </tr>\n",
       "    <tr>\n",
       "      <th>25%</th>\n",
       "      <td>NaN</td>\n",
       "      <td>23128.475000</td>\n",
       "    </tr>\n",
       "    <tr>\n",
       "      <th>50%</th>\n",
       "      <td>NaN</td>\n",
       "      <td>56612.000000</td>\n",
       "    </tr>\n",
       "    <tr>\n",
       "      <th>75%</th>\n",
       "      <td>NaN</td>\n",
       "      <td>152120.025000</td>\n",
       "    </tr>\n",
       "    <tr>\n",
       "      <th>max</th>\n",
       "      <td>NaN</td>\n",
       "      <td>296297.800000</td>\n",
       "    </tr>\n",
       "  </tbody>\n",
       "</table>\n",
       "</div>"
      ],
      "text/plain": [
       "             Date            GDP\n",
       "count         118     118.000000\n",
       "unique        118            NaN\n",
       "top     2014年第四季度            NaN\n",
       "freq            1            NaN\n",
       "mean          NaN   92146.383051\n",
       "std           NaN   82182.611122\n",
       "min           NaN    5262.800000\n",
       "25%           NaN   23128.475000\n",
       "50%           NaN   56612.000000\n",
       "75%           NaN  152120.025000\n",
       "max           NaN  296297.800000"
      ]
     },
     "execution_count": 239,
     "metadata": {},
     "output_type": "execute_result"
    }
   ],
   "source": [
    "data = pd.read_csv('/Users/patricia/Downloads/seasonal_gdp.csv')\n",
    "data.describe(include = 'all')"
   ]
  },
  {
   "cell_type": "code",
   "execution_count": 240,
   "metadata": {},
   "outputs": [
    {
     "name": "stdout",
     "output_type": "stream",
     "text": [
      "<class 'pandas.core.frame.DataFrame'>\n",
      "RangeIndex: 118 entries, 0 to 117\n",
      "Data columns (total 2 columns):\n",
      " #   Column  Non-Null Count  Dtype  \n",
      "---  ------  --------------  -----  \n",
      " 0   Date    118 non-null    object \n",
      " 1   GDP     118 non-null    float64\n",
      "dtypes: float64(1), object(1)\n",
      "memory usage: 2.0+ KB\n"
     ]
    }
   ],
   "source": [
    "from functools import reduce \n",
    "def str2float(s):\n",
    "    def dict(s):\n",
    "        dict1 ={'0': 0, '1': 1, '2': 2, '3': 3, '4': 4, '5': 5, '6': 6, '7': 7, '8': 8, '9': 9,'.':'.'}\n",
    "        return dict1[s]  \n",
    "    def fn(x,y):\n",
    "        return x*10+y\n",
    "    a =0\n",
    "    for i in s :\n",
    "        a +=1\n",
    "        if i =='.':\n",
    "            s = s[:a-1]+s[a:]\n",
    "            break\n",
    "    if a ==len(s):\n",
    "        return reduce(fn,map(dict,s))\n",
    "    else:\n",
    "        return reduce(fn,map(dict,s))/(10**(len(s)-a+1))\n",
    "\n",
    "def format_float(x):\n",
    "    try:\n",
    "        return float(x)\n",
    "    except ValueError:\n",
    "        x=x.replace(\",\",\"\")\n",
    "        return str2float(x)\n",
    "\n",
    "for col in data.columns:\n",
    "    if col !=\"Date\":\n",
    "        data[col]=data[col].apply(lambda x: format_float(x))\n",
    "data.info()"
   ]
  },
  {
   "cell_type": "code",
   "execution_count": 241,
   "metadata": {},
   "outputs": [
    {
     "data": {
      "text/html": [
       "<div>\n",
       "<style scoped>\n",
       "    .dataframe tbody tr th:only-of-type {\n",
       "        vertical-align: middle;\n",
       "    }\n",
       "\n",
       "    .dataframe tbody tr th {\n",
       "        vertical-align: top;\n",
       "    }\n",
       "\n",
       "    .dataframe thead th {\n",
       "        text-align: right;\n",
       "    }\n",
       "</style>\n",
       "<table border=\"1\" class=\"dataframe\">\n",
       "  <thead>\n",
       "    <tr style=\"text-align: right;\">\n",
       "      <th></th>\n",
       "      <th>Date</th>\n",
       "      <th>GDP</th>\n",
       "    </tr>\n",
       "  </thead>\n",
       "  <tbody>\n",
       "    <tr>\n",
       "      <th>0</th>\n",
       "      <td>2021年第二季度</td>\n",
       "      <td>282857.4</td>\n",
       "    </tr>\n",
       "    <tr>\n",
       "      <th>1</th>\n",
       "      <td>2021年第一季度</td>\n",
       "      <td>249310.1</td>\n",
       "    </tr>\n",
       "    <tr>\n",
       "      <th>2</th>\n",
       "      <td>2020年第四季度</td>\n",
       "      <td>296297.8</td>\n",
       "    </tr>\n",
       "    <tr>\n",
       "      <th>3</th>\n",
       "      <td>2020年第三季度</td>\n",
       "      <td>264976.3</td>\n",
       "    </tr>\n",
       "    <tr>\n",
       "      <th>4</th>\n",
       "      <td>2020年第二季度</td>\n",
       "      <td>248985.1</td>\n",
       "    </tr>\n",
       "  </tbody>\n",
       "</table>\n",
       "</div>"
      ],
      "text/plain": [
       "        Date       GDP\n",
       "0  2021年第二季度  282857.4\n",
       "1  2021年第一季度  249310.1\n",
       "2  2020年第四季度  296297.8\n",
       "3  2020年第三季度  264976.3\n",
       "4  2020年第二季度  248985.1"
      ]
     },
     "execution_count": 241,
     "metadata": {},
     "output_type": "execute_result"
    }
   ],
   "source": [
    "df=data[[\"Date\",\"GDP\"]]\n",
    "df.head()"
   ]
  },
  {
   "cell_type": "code",
   "execution_count": 242,
   "metadata": {},
   "outputs": [
    {
     "data": {
      "text/html": [
       "<div>\n",
       "<style scoped>\n",
       "    .dataframe tbody tr th:only-of-type {\n",
       "        vertical-align: middle;\n",
       "    }\n",
       "\n",
       "    .dataframe tbody tr th {\n",
       "        vertical-align: top;\n",
       "    }\n",
       "\n",
       "    .dataframe thead th {\n",
       "        text-align: right;\n",
       "    }\n",
       "</style>\n",
       "<table border=\"1\" class=\"dataframe\">\n",
       "  <thead>\n",
       "    <tr style=\"text-align: right;\">\n",
       "      <th></th>\n",
       "      <th>Date</th>\n",
       "      <th>GDP</th>\n",
       "    </tr>\n",
       "  </thead>\n",
       "  <tbody>\n",
       "    <tr>\n",
       "      <th>117</th>\n",
       "      <td>1992-01</td>\n",
       "      <td>5262.8</td>\n",
       "    </tr>\n",
       "    <tr>\n",
       "      <th>116</th>\n",
       "      <td>1992-02</td>\n",
       "      <td>6484.3</td>\n",
       "    </tr>\n",
       "    <tr>\n",
       "      <th>115</th>\n",
       "      <td>1992-03</td>\n",
       "      <td>7192.6</td>\n",
       "    </tr>\n",
       "    <tr>\n",
       "      <th>114</th>\n",
       "      <td>1992-04</td>\n",
       "      <td>8254.8</td>\n",
       "    </tr>\n",
       "    <tr>\n",
       "      <th>113</th>\n",
       "      <td>1993-01</td>\n",
       "      <td>6834.6</td>\n",
       "    </tr>\n",
       "  </tbody>\n",
       "</table>\n",
       "</div>"
      ],
      "text/plain": [
       "        Date     GDP\n",
       "117  1992-01  5262.8\n",
       "116  1992-02  6484.3\n",
       "115  1992-03  7192.6\n",
       "114  1992-04  8254.8\n",
       "113  1993-01  6834.6"
      ]
     },
     "execution_count": 242,
     "metadata": {},
     "output_type": "execute_result"
    }
   ],
   "source": [
    "#df=np.array(df)\n",
    "def dateformat(date):\n",
    "    if date[6]=='一':\n",
    "        return date[:4]+'-01'\n",
    "    elif date[6]=='二':\n",
    "        return date[:4]+'-02'\n",
    "    elif date[6]=='三':\n",
    "        return date[:4]+'-03'\n",
    "    elif date[6]=='四':\n",
    "        return date[:4]+'-04'\n",
    "    else:\n",
    "        pass\n",
    "    \n",
    "df[\"Date\"]=df[\"Date\"].apply(lambda x:dateformat(x))\n",
    "df=df.sort_values(\"Date\")\n",
    "df.head()"
   ]
  },
  {
   "cell_type": "code",
   "execution_count": 243,
   "metadata": {},
   "outputs": [
    {
     "data": {
      "application/vnd.plotly.v1+json": {
       "config": {
        "plotlyServerURL": "https://plot.ly"
       },
       "data": [
        {
         "hovertemplate": "Date=%{x}<br>GDP=%{y}<extra></extra>",
         "legendgroup": "",
         "line": {
          "color": "#636efa",
          "dash": "solid"
         },
         "marker": {
          "line": {
           "width": 2
          },
          "symbol": "circle"
         },
         "mode": "lines",
         "name": "",
         "opacity": 0.6,
         "orientation": "v",
         "showlegend": false,
         "type": "scatter",
         "x": [
          "1992-01",
          "1992-02",
          "1992-03",
          "1992-04",
          "1993-01",
          "1993-02",
          "1993-03",
          "1993-04",
          "1994-01",
          "1994-02",
          "1994-03",
          "1994-04",
          "1995-01",
          "1995-02",
          "1995-03",
          "1995-04",
          "1996-01",
          "1996-02",
          "1996-03",
          "1996-04",
          "1997-01",
          "1997-02",
          "1997-03",
          "1997-04",
          "1998-01",
          "1998-02",
          "1998-03",
          "1998-04",
          "1999-01",
          "1999-02",
          "1999-03",
          "1999-04",
          "2000-01",
          "2000-02",
          "2000-03",
          "2000-04",
          "2001-01",
          "2001-02",
          "2001-03",
          "2001-04",
          "2002-01",
          "2002-02",
          "2002-03",
          "2002-04",
          "2003-01",
          "2003-02",
          "2003-03",
          "2003-04",
          "2004-01",
          "2004-02",
          "2004-03",
          "2004-04",
          "2005-01",
          "2005-02",
          "2005-03",
          "2005-04",
          "2006-01",
          "2006-02",
          "2006-03",
          "2006-04",
          "2007-01",
          "2007-02",
          "2007-03",
          "2007-04",
          "2008-01",
          "2008-02",
          "2008-03",
          "2008-04",
          "2009-01",
          "2009-02",
          "2009-03",
          "2009-04",
          "2010-01",
          "2010-02",
          "2010-03",
          "2010-04",
          "2011-01",
          "2011-02",
          "2011-03",
          "2011-04",
          "2012-01",
          "2012-02",
          "2012-03",
          "2012-04",
          "2013-01",
          "2013-02",
          "2013-03",
          "2013-04",
          "2014-01",
          "2014-02",
          "2014-03",
          "2014-04",
          "2015-01",
          "2015-02",
          "2015-03",
          "2015-04",
          "2016-01",
          "2016-02",
          "2016-03",
          "2016-04",
          "2017-01",
          "2017-02",
          "2017-03",
          "2017-04",
          "2018-01",
          "2018-02",
          "2018-03",
          "2018-04",
          "2019-01",
          "2019-02",
          "2019-03",
          "2019-04",
          "2020-01",
          "2020-02",
          "2020-03",
          "2020-04",
          "2021-01",
          "2021-02"
         ],
         "xaxis": "x",
         "y": [
          5262.8,
          6484.3,
          7192.6,
          8254.8,
          6834.6,
          8357,
          9385.8,
          11095.9,
          9375.1,
          11481,
          12868,
          14913.3,
          12111.7,
          14612.9,
          16164.1,
          18451.2,
          14628,
          17147.5,
          18605.8,
          21432.4,
          16689.1,
          19163.6,
          20500.9,
          23361.5,
          18049.1,
          20296.6,
          21775.6,
          25074.2,
          19361.9,
          21567.7,
          23050.8,
          26583.9,
          21329.9,
          24043.4,
          25712.5,
          29194.3,
          24086.4,
          26726.6,
          28333.3,
          31716.8,
          26295,
          29194.8,
          31257.3,
          34970.3,
          29825.5,
          32537.3,
          35291.9,
          39767.4,
          34544.6,
          38700.8,
          41855,
          46739.8,
          40453.3,
          44793.1,
          48047.8,
          54024.8,
          47078.9,
          52673.3,
          56064.7,
          63621.6,
          57159.3,
          64781.6,
          69482.1,
          78669.3,
          69373.6,
          78711.8,
          82460.1,
          88699,
          73979.2,
          83865.8,
          89846.9,
          100825.8,
          87501.3,
          99347.4,
          105963.7,
          119306.8,
          104469.9,
          118895.9,
          126562.2,
          138012.1,
          117357.6,
          131320.6,
          138089.6,
          151812,
          129449.6,
          143518.7,
          152222.7,
          167772.3,
          140759.8,
          156489.6,
          165484.7,
          180828.9,
          151137.9,
          168549.7,
          176597.7,
          192572.9,
          162410,
          181408.2,
          191010.6,
          211566.2,
          181867.7,
          201950.3,
          212789.3,
          235428.7,
          202035.7,
          223962.2,
          234474.3,
          258808.9,
          217168.3,
          241502.6,
          251046.3,
          276798,
          205727,
          248985.1,
          264976.3,
          296297.8,
          249310.1,
          282857.4
         ],
         "yaxis": "y"
        }
       ],
       "layout": {
        "font": {
         "color": "black",
         "size": 15
        },
        "legend": {
         "tracegroupgap": 0
        },
        "margin": {
         "t": 60
        },
        "plot_bgcolor": "white",
        "template": {
         "data": {
          "bar": [
           {
            "error_x": {
             "color": "#2a3f5f"
            },
            "error_y": {
             "color": "#2a3f5f"
            },
            "marker": {
             "line": {
              "color": "#E5ECF6",
              "width": 0.5
             },
             "pattern": {
              "fillmode": "overlay",
              "size": 10,
              "solidity": 0.2
             }
            },
            "type": "bar"
           }
          ],
          "barpolar": [
           {
            "marker": {
             "line": {
              "color": "#E5ECF6",
              "width": 0.5
             },
             "pattern": {
              "fillmode": "overlay",
              "size": 10,
              "solidity": 0.2
             }
            },
            "type": "barpolar"
           }
          ],
          "carpet": [
           {
            "aaxis": {
             "endlinecolor": "#2a3f5f",
             "gridcolor": "white",
             "linecolor": "white",
             "minorgridcolor": "white",
             "startlinecolor": "#2a3f5f"
            },
            "baxis": {
             "endlinecolor": "#2a3f5f",
             "gridcolor": "white",
             "linecolor": "white",
             "minorgridcolor": "white",
             "startlinecolor": "#2a3f5f"
            },
            "type": "carpet"
           }
          ],
          "choropleth": [
           {
            "colorbar": {
             "outlinewidth": 0,
             "ticks": ""
            },
            "type": "choropleth"
           }
          ],
          "contour": [
           {
            "colorbar": {
             "outlinewidth": 0,
             "ticks": ""
            },
            "colorscale": [
             [
              0,
              "#0d0887"
             ],
             [
              0.1111111111111111,
              "#46039f"
             ],
             [
              0.2222222222222222,
              "#7201a8"
             ],
             [
              0.3333333333333333,
              "#9c179e"
             ],
             [
              0.4444444444444444,
              "#bd3786"
             ],
             [
              0.5555555555555556,
              "#d8576b"
             ],
             [
              0.6666666666666666,
              "#ed7953"
             ],
             [
              0.7777777777777778,
              "#fb9f3a"
             ],
             [
              0.8888888888888888,
              "#fdca26"
             ],
             [
              1,
              "#f0f921"
             ]
            ],
            "type": "contour"
           }
          ],
          "contourcarpet": [
           {
            "colorbar": {
             "outlinewidth": 0,
             "ticks": ""
            },
            "type": "contourcarpet"
           }
          ],
          "heatmap": [
           {
            "colorbar": {
             "outlinewidth": 0,
             "ticks": ""
            },
            "colorscale": [
             [
              0,
              "#0d0887"
             ],
             [
              0.1111111111111111,
              "#46039f"
             ],
             [
              0.2222222222222222,
              "#7201a8"
             ],
             [
              0.3333333333333333,
              "#9c179e"
             ],
             [
              0.4444444444444444,
              "#bd3786"
             ],
             [
              0.5555555555555556,
              "#d8576b"
             ],
             [
              0.6666666666666666,
              "#ed7953"
             ],
             [
              0.7777777777777778,
              "#fb9f3a"
             ],
             [
              0.8888888888888888,
              "#fdca26"
             ],
             [
              1,
              "#f0f921"
             ]
            ],
            "type": "heatmap"
           }
          ],
          "heatmapgl": [
           {
            "colorbar": {
             "outlinewidth": 0,
             "ticks": ""
            },
            "colorscale": [
             [
              0,
              "#0d0887"
             ],
             [
              0.1111111111111111,
              "#46039f"
             ],
             [
              0.2222222222222222,
              "#7201a8"
             ],
             [
              0.3333333333333333,
              "#9c179e"
             ],
             [
              0.4444444444444444,
              "#bd3786"
             ],
             [
              0.5555555555555556,
              "#d8576b"
             ],
             [
              0.6666666666666666,
              "#ed7953"
             ],
             [
              0.7777777777777778,
              "#fb9f3a"
             ],
             [
              0.8888888888888888,
              "#fdca26"
             ],
             [
              1,
              "#f0f921"
             ]
            ],
            "type": "heatmapgl"
           }
          ],
          "histogram": [
           {
            "marker": {
             "pattern": {
              "fillmode": "overlay",
              "size": 10,
              "solidity": 0.2
             }
            },
            "type": "histogram"
           }
          ],
          "histogram2d": [
           {
            "colorbar": {
             "outlinewidth": 0,
             "ticks": ""
            },
            "colorscale": [
             [
              0,
              "#0d0887"
             ],
             [
              0.1111111111111111,
              "#46039f"
             ],
             [
              0.2222222222222222,
              "#7201a8"
             ],
             [
              0.3333333333333333,
              "#9c179e"
             ],
             [
              0.4444444444444444,
              "#bd3786"
             ],
             [
              0.5555555555555556,
              "#d8576b"
             ],
             [
              0.6666666666666666,
              "#ed7953"
             ],
             [
              0.7777777777777778,
              "#fb9f3a"
             ],
             [
              0.8888888888888888,
              "#fdca26"
             ],
             [
              1,
              "#f0f921"
             ]
            ],
            "type": "histogram2d"
           }
          ],
          "histogram2dcontour": [
           {
            "colorbar": {
             "outlinewidth": 0,
             "ticks": ""
            },
            "colorscale": [
             [
              0,
              "#0d0887"
             ],
             [
              0.1111111111111111,
              "#46039f"
             ],
             [
              0.2222222222222222,
              "#7201a8"
             ],
             [
              0.3333333333333333,
              "#9c179e"
             ],
             [
              0.4444444444444444,
              "#bd3786"
             ],
             [
              0.5555555555555556,
              "#d8576b"
             ],
             [
              0.6666666666666666,
              "#ed7953"
             ],
             [
              0.7777777777777778,
              "#fb9f3a"
             ],
             [
              0.8888888888888888,
              "#fdca26"
             ],
             [
              1,
              "#f0f921"
             ]
            ],
            "type": "histogram2dcontour"
           }
          ],
          "mesh3d": [
           {
            "colorbar": {
             "outlinewidth": 0,
             "ticks": ""
            },
            "type": "mesh3d"
           }
          ],
          "parcoords": [
           {
            "line": {
             "colorbar": {
              "outlinewidth": 0,
              "ticks": ""
             }
            },
            "type": "parcoords"
           }
          ],
          "pie": [
           {
            "automargin": true,
            "type": "pie"
           }
          ],
          "scatter": [
           {
            "marker": {
             "colorbar": {
              "outlinewidth": 0,
              "ticks": ""
             }
            },
            "type": "scatter"
           }
          ],
          "scatter3d": [
           {
            "line": {
             "colorbar": {
              "outlinewidth": 0,
              "ticks": ""
             }
            },
            "marker": {
             "colorbar": {
              "outlinewidth": 0,
              "ticks": ""
             }
            },
            "type": "scatter3d"
           }
          ],
          "scattercarpet": [
           {
            "marker": {
             "colorbar": {
              "outlinewidth": 0,
              "ticks": ""
             }
            },
            "type": "scattercarpet"
           }
          ],
          "scattergeo": [
           {
            "marker": {
             "colorbar": {
              "outlinewidth": 0,
              "ticks": ""
             }
            },
            "type": "scattergeo"
           }
          ],
          "scattergl": [
           {
            "marker": {
             "colorbar": {
              "outlinewidth": 0,
              "ticks": ""
             }
            },
            "type": "scattergl"
           }
          ],
          "scattermapbox": [
           {
            "marker": {
             "colorbar": {
              "outlinewidth": 0,
              "ticks": ""
             }
            },
            "type": "scattermapbox"
           }
          ],
          "scatterpolar": [
           {
            "marker": {
             "colorbar": {
              "outlinewidth": 0,
              "ticks": ""
             }
            },
            "type": "scatterpolar"
           }
          ],
          "scatterpolargl": [
           {
            "marker": {
             "colorbar": {
              "outlinewidth": 0,
              "ticks": ""
             }
            },
            "type": "scatterpolargl"
           }
          ],
          "scatterternary": [
           {
            "marker": {
             "colorbar": {
              "outlinewidth": 0,
              "ticks": ""
             }
            },
            "type": "scatterternary"
           }
          ],
          "surface": [
           {
            "colorbar": {
             "outlinewidth": 0,
             "ticks": ""
            },
            "colorscale": [
             [
              0,
              "#0d0887"
             ],
             [
              0.1111111111111111,
              "#46039f"
             ],
             [
              0.2222222222222222,
              "#7201a8"
             ],
             [
              0.3333333333333333,
              "#9c179e"
             ],
             [
              0.4444444444444444,
              "#bd3786"
             ],
             [
              0.5555555555555556,
              "#d8576b"
             ],
             [
              0.6666666666666666,
              "#ed7953"
             ],
             [
              0.7777777777777778,
              "#fb9f3a"
             ],
             [
              0.8888888888888888,
              "#fdca26"
             ],
             [
              1,
              "#f0f921"
             ]
            ],
            "type": "surface"
           }
          ],
          "table": [
           {
            "cells": {
             "fill": {
              "color": "#EBF0F8"
             },
             "line": {
              "color": "white"
             }
            },
            "header": {
             "fill": {
              "color": "#C8D4E3"
             },
             "line": {
              "color": "white"
             }
            },
            "type": "table"
           }
          ]
         },
         "layout": {
          "annotationdefaults": {
           "arrowcolor": "#2a3f5f",
           "arrowhead": 0,
           "arrowwidth": 1
          },
          "autotypenumbers": "strict",
          "coloraxis": {
           "colorbar": {
            "outlinewidth": 0,
            "ticks": ""
           }
          },
          "colorscale": {
           "diverging": [
            [
             0,
             "#8e0152"
            ],
            [
             0.1,
             "#c51b7d"
            ],
            [
             0.2,
             "#de77ae"
            ],
            [
             0.3,
             "#f1b6da"
            ],
            [
             0.4,
             "#fde0ef"
            ],
            [
             0.5,
             "#f7f7f7"
            ],
            [
             0.6,
             "#e6f5d0"
            ],
            [
             0.7,
             "#b8e186"
            ],
            [
             0.8,
             "#7fbc41"
            ],
            [
             0.9,
             "#4d9221"
            ],
            [
             1,
             "#276419"
            ]
           ],
           "sequential": [
            [
             0,
             "#0d0887"
            ],
            [
             0.1111111111111111,
             "#46039f"
            ],
            [
             0.2222222222222222,
             "#7201a8"
            ],
            [
             0.3333333333333333,
             "#9c179e"
            ],
            [
             0.4444444444444444,
             "#bd3786"
            ],
            [
             0.5555555555555556,
             "#d8576b"
            ],
            [
             0.6666666666666666,
             "#ed7953"
            ],
            [
             0.7777777777777778,
             "#fb9f3a"
            ],
            [
             0.8888888888888888,
             "#fdca26"
            ],
            [
             1,
             "#f0f921"
            ]
           ],
           "sequentialminus": [
            [
             0,
             "#0d0887"
            ],
            [
             0.1111111111111111,
             "#46039f"
            ],
            [
             0.2222222222222222,
             "#7201a8"
            ],
            [
             0.3333333333333333,
             "#9c179e"
            ],
            [
             0.4444444444444444,
             "#bd3786"
            ],
            [
             0.5555555555555556,
             "#d8576b"
            ],
            [
             0.6666666666666666,
             "#ed7953"
            ],
            [
             0.7777777777777778,
             "#fb9f3a"
            ],
            [
             0.8888888888888888,
             "#fdca26"
            ],
            [
             1,
             "#f0f921"
            ]
           ]
          },
          "colorway": [
           "#636efa",
           "#EF553B",
           "#00cc96",
           "#ab63fa",
           "#FFA15A",
           "#19d3f3",
           "#FF6692",
           "#B6E880",
           "#FF97FF",
           "#FECB52"
          ],
          "font": {
           "color": "#2a3f5f"
          },
          "geo": {
           "bgcolor": "white",
           "lakecolor": "white",
           "landcolor": "#E5ECF6",
           "showlakes": true,
           "showland": true,
           "subunitcolor": "white"
          },
          "hoverlabel": {
           "align": "left"
          },
          "hovermode": "closest",
          "mapbox": {
           "style": "light"
          },
          "paper_bgcolor": "white",
          "plot_bgcolor": "#E5ECF6",
          "polar": {
           "angularaxis": {
            "gridcolor": "white",
            "linecolor": "white",
            "ticks": ""
           },
           "bgcolor": "#E5ECF6",
           "radialaxis": {
            "gridcolor": "white",
            "linecolor": "white",
            "ticks": ""
           }
          },
          "scene": {
           "xaxis": {
            "backgroundcolor": "#E5ECF6",
            "gridcolor": "white",
            "gridwidth": 2,
            "linecolor": "white",
            "showbackground": true,
            "ticks": "",
            "zerolinecolor": "white"
           },
           "yaxis": {
            "backgroundcolor": "#E5ECF6",
            "gridcolor": "white",
            "gridwidth": 2,
            "linecolor": "white",
            "showbackground": true,
            "ticks": "",
            "zerolinecolor": "white"
           },
           "zaxis": {
            "backgroundcolor": "#E5ECF6",
            "gridcolor": "white",
            "gridwidth": 2,
            "linecolor": "white",
            "showbackground": true,
            "ticks": "",
            "zerolinecolor": "white"
           }
          },
          "shapedefaults": {
           "line": {
            "color": "#2a3f5f"
           }
          },
          "ternary": {
           "aaxis": {
            "gridcolor": "white",
            "linecolor": "white",
            "ticks": ""
           },
           "baxis": {
            "gridcolor": "white",
            "linecolor": "white",
            "ticks": ""
           },
           "bgcolor": "#E5ECF6",
           "caxis": {
            "gridcolor": "white",
            "linecolor": "white",
            "ticks": ""
           }
          },
          "title": {
           "x": 0.05
          },
          "xaxis": {
           "automargin": true,
           "gridcolor": "white",
           "linecolor": "white",
           "ticks": "",
           "title": {
            "standoff": 15
           },
           "zerolinecolor": "white",
           "zerolinewidth": 2
          },
          "yaxis": {
           "automargin": true,
           "gridcolor": "white",
           "linecolor": "white",
           "ticks": "",
           "title": {
            "standoff": 15
           },
           "zerolinecolor": "white",
           "zerolinewidth": 2
          }
         }
        },
        "title": {
         "text": "GDP chart"
        },
        "xaxis": {
         "anchor": "y",
         "domain": [
          0,
          1
         ],
         "showgrid": false,
         "title": {
          "text": "Date"
         }
        },
        "yaxis": {
         "anchor": "x",
         "domain": [
          0,
          1
         ],
         "showgrid": false,
         "title": {
          "text": "GDP"
         }
        }
       }
      },
      "text/html": [
       "<div>                            <div id=\"73185f89-c4e4-44e2-b088-dc707cdb48a4\" class=\"plotly-graph-div\" style=\"height:525px; width:100%;\"></div>            <script type=\"text/javascript\">                require([\"plotly\"], function(Plotly) {                    window.PLOTLYENV=window.PLOTLYENV || {};                                    if (document.getElementById(\"73185f89-c4e4-44e2-b088-dc707cdb48a4\")) {                    Plotly.newPlot(                        \"73185f89-c4e4-44e2-b088-dc707cdb48a4\",                        [{\"hovertemplate\":\"Date=%{x}<br>GDP=%{y}<extra></extra>\",\"legendgroup\":\"\",\"line\":{\"color\":\"#636efa\",\"dash\":\"solid\"},\"marker\":{\"line\":{\"width\":2},\"symbol\":\"circle\"},\"mode\":\"lines\",\"name\":\"\",\"opacity\":0.6,\"orientation\":\"v\",\"showlegend\":false,\"type\":\"scatter\",\"x\":[\"1992-01\",\"1992-02\",\"1992-03\",\"1992-04\",\"1993-01\",\"1993-02\",\"1993-03\",\"1993-04\",\"1994-01\",\"1994-02\",\"1994-03\",\"1994-04\",\"1995-01\",\"1995-02\",\"1995-03\",\"1995-04\",\"1996-01\",\"1996-02\",\"1996-03\",\"1996-04\",\"1997-01\",\"1997-02\",\"1997-03\",\"1997-04\",\"1998-01\",\"1998-02\",\"1998-03\",\"1998-04\",\"1999-01\",\"1999-02\",\"1999-03\",\"1999-04\",\"2000-01\",\"2000-02\",\"2000-03\",\"2000-04\",\"2001-01\",\"2001-02\",\"2001-03\",\"2001-04\",\"2002-01\",\"2002-02\",\"2002-03\",\"2002-04\",\"2003-01\",\"2003-02\",\"2003-03\",\"2003-04\",\"2004-01\",\"2004-02\",\"2004-03\",\"2004-04\",\"2005-01\",\"2005-02\",\"2005-03\",\"2005-04\",\"2006-01\",\"2006-02\",\"2006-03\",\"2006-04\",\"2007-01\",\"2007-02\",\"2007-03\",\"2007-04\",\"2008-01\",\"2008-02\",\"2008-03\",\"2008-04\",\"2009-01\",\"2009-02\",\"2009-03\",\"2009-04\",\"2010-01\",\"2010-02\",\"2010-03\",\"2010-04\",\"2011-01\",\"2011-02\",\"2011-03\",\"2011-04\",\"2012-01\",\"2012-02\",\"2012-03\",\"2012-04\",\"2013-01\",\"2013-02\",\"2013-03\",\"2013-04\",\"2014-01\",\"2014-02\",\"2014-03\",\"2014-04\",\"2015-01\",\"2015-02\",\"2015-03\",\"2015-04\",\"2016-01\",\"2016-02\",\"2016-03\",\"2016-04\",\"2017-01\",\"2017-02\",\"2017-03\",\"2017-04\",\"2018-01\",\"2018-02\",\"2018-03\",\"2018-04\",\"2019-01\",\"2019-02\",\"2019-03\",\"2019-04\",\"2020-01\",\"2020-02\",\"2020-03\",\"2020-04\",\"2021-01\",\"2021-02\"],\"xaxis\":\"x\",\"y\":[5262.8,6484.3,7192.6,8254.8,6834.6,8357.0,9385.8,11095.9,9375.1,11481.0,12868.0,14913.3,12111.7,14612.9,16164.1,18451.2,14628.0,17147.5,18605.8,21432.4,16689.1,19163.6,20500.9,23361.5,18049.1,20296.6,21775.6,25074.2,19361.9,21567.7,23050.8,26583.9,21329.9,24043.4,25712.5,29194.3,24086.4,26726.6,28333.3,31716.8,26295.0,29194.8,31257.3,34970.3,29825.5,32537.3,35291.9,39767.4,34544.6,38700.8,41855.0,46739.8,40453.3,44793.1,48047.8,54024.8,47078.9,52673.3,56064.7,63621.6,57159.3,64781.6,69482.1,78669.3,69373.6,78711.8,82460.1,88699.0,73979.2,83865.8,89846.9,100825.8,87501.3,99347.4,105963.7,119306.8,104469.9,118895.9,126562.2,138012.1,117357.6,131320.6,138089.6,151812.0,129449.6,143518.7,152222.7,167772.3,140759.8,156489.6,165484.7,180828.9,151137.9,168549.7,176597.7,192572.9,162410.0,181408.2,191010.6,211566.2,181867.7,201950.3,212789.3,235428.7,202035.7,223962.2,234474.3,258808.9,217168.3,241502.6,251046.3,276798.0,205727.0,248985.1,264976.3,296297.8,249310.1,282857.4],\"yaxis\":\"y\"}],                        {\"font\":{\"color\":\"black\",\"size\":15},\"legend\":{\"tracegroupgap\":0},\"margin\":{\"t\":60},\"plot_bgcolor\":\"white\",\"template\":{\"data\":{\"bar\":[{\"error_x\":{\"color\":\"#2a3f5f\"},\"error_y\":{\"color\":\"#2a3f5f\"},\"marker\":{\"line\":{\"color\":\"#E5ECF6\",\"width\":0.5},\"pattern\":{\"fillmode\":\"overlay\",\"size\":10,\"solidity\":0.2}},\"type\":\"bar\"}],\"barpolar\":[{\"marker\":{\"line\":{\"color\":\"#E5ECF6\",\"width\":0.5},\"pattern\":{\"fillmode\":\"overlay\",\"size\":10,\"solidity\":0.2}},\"type\":\"barpolar\"}],\"carpet\":[{\"aaxis\":{\"endlinecolor\":\"#2a3f5f\",\"gridcolor\":\"white\",\"linecolor\":\"white\",\"minorgridcolor\":\"white\",\"startlinecolor\":\"#2a3f5f\"},\"baxis\":{\"endlinecolor\":\"#2a3f5f\",\"gridcolor\":\"white\",\"linecolor\":\"white\",\"minorgridcolor\":\"white\",\"startlinecolor\":\"#2a3f5f\"},\"type\":\"carpet\"}],\"choropleth\":[{\"colorbar\":{\"outlinewidth\":0,\"ticks\":\"\"},\"type\":\"choropleth\"}],\"contour\":[{\"colorbar\":{\"outlinewidth\":0,\"ticks\":\"\"},\"colorscale\":[[0.0,\"#0d0887\"],[0.1111111111111111,\"#46039f\"],[0.2222222222222222,\"#7201a8\"],[0.3333333333333333,\"#9c179e\"],[0.4444444444444444,\"#bd3786\"],[0.5555555555555556,\"#d8576b\"],[0.6666666666666666,\"#ed7953\"],[0.7777777777777778,\"#fb9f3a\"],[0.8888888888888888,\"#fdca26\"],[1.0,\"#f0f921\"]],\"type\":\"contour\"}],\"contourcarpet\":[{\"colorbar\":{\"outlinewidth\":0,\"ticks\":\"\"},\"type\":\"contourcarpet\"}],\"heatmap\":[{\"colorbar\":{\"outlinewidth\":0,\"ticks\":\"\"},\"colorscale\":[[0.0,\"#0d0887\"],[0.1111111111111111,\"#46039f\"],[0.2222222222222222,\"#7201a8\"],[0.3333333333333333,\"#9c179e\"],[0.4444444444444444,\"#bd3786\"],[0.5555555555555556,\"#d8576b\"],[0.6666666666666666,\"#ed7953\"],[0.7777777777777778,\"#fb9f3a\"],[0.8888888888888888,\"#fdca26\"],[1.0,\"#f0f921\"]],\"type\":\"heatmap\"}],\"heatmapgl\":[{\"colorbar\":{\"outlinewidth\":0,\"ticks\":\"\"},\"colorscale\":[[0.0,\"#0d0887\"],[0.1111111111111111,\"#46039f\"],[0.2222222222222222,\"#7201a8\"],[0.3333333333333333,\"#9c179e\"],[0.4444444444444444,\"#bd3786\"],[0.5555555555555556,\"#d8576b\"],[0.6666666666666666,\"#ed7953\"],[0.7777777777777778,\"#fb9f3a\"],[0.8888888888888888,\"#fdca26\"],[1.0,\"#f0f921\"]],\"type\":\"heatmapgl\"}],\"histogram\":[{\"marker\":{\"pattern\":{\"fillmode\":\"overlay\",\"size\":10,\"solidity\":0.2}},\"type\":\"histogram\"}],\"histogram2d\":[{\"colorbar\":{\"outlinewidth\":0,\"ticks\":\"\"},\"colorscale\":[[0.0,\"#0d0887\"],[0.1111111111111111,\"#46039f\"],[0.2222222222222222,\"#7201a8\"],[0.3333333333333333,\"#9c179e\"],[0.4444444444444444,\"#bd3786\"],[0.5555555555555556,\"#d8576b\"],[0.6666666666666666,\"#ed7953\"],[0.7777777777777778,\"#fb9f3a\"],[0.8888888888888888,\"#fdca26\"],[1.0,\"#f0f921\"]],\"type\":\"histogram2d\"}],\"histogram2dcontour\":[{\"colorbar\":{\"outlinewidth\":0,\"ticks\":\"\"},\"colorscale\":[[0.0,\"#0d0887\"],[0.1111111111111111,\"#46039f\"],[0.2222222222222222,\"#7201a8\"],[0.3333333333333333,\"#9c179e\"],[0.4444444444444444,\"#bd3786\"],[0.5555555555555556,\"#d8576b\"],[0.6666666666666666,\"#ed7953\"],[0.7777777777777778,\"#fb9f3a\"],[0.8888888888888888,\"#fdca26\"],[1.0,\"#f0f921\"]],\"type\":\"histogram2dcontour\"}],\"mesh3d\":[{\"colorbar\":{\"outlinewidth\":0,\"ticks\":\"\"},\"type\":\"mesh3d\"}],\"parcoords\":[{\"line\":{\"colorbar\":{\"outlinewidth\":0,\"ticks\":\"\"}},\"type\":\"parcoords\"}],\"pie\":[{\"automargin\":true,\"type\":\"pie\"}],\"scatter\":[{\"marker\":{\"colorbar\":{\"outlinewidth\":0,\"ticks\":\"\"}},\"type\":\"scatter\"}],\"scatter3d\":[{\"line\":{\"colorbar\":{\"outlinewidth\":0,\"ticks\":\"\"}},\"marker\":{\"colorbar\":{\"outlinewidth\":0,\"ticks\":\"\"}},\"type\":\"scatter3d\"}],\"scattercarpet\":[{\"marker\":{\"colorbar\":{\"outlinewidth\":0,\"ticks\":\"\"}},\"type\":\"scattercarpet\"}],\"scattergeo\":[{\"marker\":{\"colorbar\":{\"outlinewidth\":0,\"ticks\":\"\"}},\"type\":\"scattergeo\"}],\"scattergl\":[{\"marker\":{\"colorbar\":{\"outlinewidth\":0,\"ticks\":\"\"}},\"type\":\"scattergl\"}],\"scattermapbox\":[{\"marker\":{\"colorbar\":{\"outlinewidth\":0,\"ticks\":\"\"}},\"type\":\"scattermapbox\"}],\"scatterpolar\":[{\"marker\":{\"colorbar\":{\"outlinewidth\":0,\"ticks\":\"\"}},\"type\":\"scatterpolar\"}],\"scatterpolargl\":[{\"marker\":{\"colorbar\":{\"outlinewidth\":0,\"ticks\":\"\"}},\"type\":\"scatterpolargl\"}],\"scatterternary\":[{\"marker\":{\"colorbar\":{\"outlinewidth\":0,\"ticks\":\"\"}},\"type\":\"scatterternary\"}],\"surface\":[{\"colorbar\":{\"outlinewidth\":0,\"ticks\":\"\"},\"colorscale\":[[0.0,\"#0d0887\"],[0.1111111111111111,\"#46039f\"],[0.2222222222222222,\"#7201a8\"],[0.3333333333333333,\"#9c179e\"],[0.4444444444444444,\"#bd3786\"],[0.5555555555555556,\"#d8576b\"],[0.6666666666666666,\"#ed7953\"],[0.7777777777777778,\"#fb9f3a\"],[0.8888888888888888,\"#fdca26\"],[1.0,\"#f0f921\"]],\"type\":\"surface\"}],\"table\":[{\"cells\":{\"fill\":{\"color\":\"#EBF0F8\"},\"line\":{\"color\":\"white\"}},\"header\":{\"fill\":{\"color\":\"#C8D4E3\"},\"line\":{\"color\":\"white\"}},\"type\":\"table\"}]},\"layout\":{\"annotationdefaults\":{\"arrowcolor\":\"#2a3f5f\",\"arrowhead\":0,\"arrowwidth\":1},\"autotypenumbers\":\"strict\",\"coloraxis\":{\"colorbar\":{\"outlinewidth\":0,\"ticks\":\"\"}},\"colorscale\":{\"diverging\":[[0,\"#8e0152\"],[0.1,\"#c51b7d\"],[0.2,\"#de77ae\"],[0.3,\"#f1b6da\"],[0.4,\"#fde0ef\"],[0.5,\"#f7f7f7\"],[0.6,\"#e6f5d0\"],[0.7,\"#b8e186\"],[0.8,\"#7fbc41\"],[0.9,\"#4d9221\"],[1,\"#276419\"]],\"sequential\":[[0.0,\"#0d0887\"],[0.1111111111111111,\"#46039f\"],[0.2222222222222222,\"#7201a8\"],[0.3333333333333333,\"#9c179e\"],[0.4444444444444444,\"#bd3786\"],[0.5555555555555556,\"#d8576b\"],[0.6666666666666666,\"#ed7953\"],[0.7777777777777778,\"#fb9f3a\"],[0.8888888888888888,\"#fdca26\"],[1.0,\"#f0f921\"]],\"sequentialminus\":[[0.0,\"#0d0887\"],[0.1111111111111111,\"#46039f\"],[0.2222222222222222,\"#7201a8\"],[0.3333333333333333,\"#9c179e\"],[0.4444444444444444,\"#bd3786\"],[0.5555555555555556,\"#d8576b\"],[0.6666666666666666,\"#ed7953\"],[0.7777777777777778,\"#fb9f3a\"],[0.8888888888888888,\"#fdca26\"],[1.0,\"#f0f921\"]]},\"colorway\":[\"#636efa\",\"#EF553B\",\"#00cc96\",\"#ab63fa\",\"#FFA15A\",\"#19d3f3\",\"#FF6692\",\"#B6E880\",\"#FF97FF\",\"#FECB52\"],\"font\":{\"color\":\"#2a3f5f\"},\"geo\":{\"bgcolor\":\"white\",\"lakecolor\":\"white\",\"landcolor\":\"#E5ECF6\",\"showlakes\":true,\"showland\":true,\"subunitcolor\":\"white\"},\"hoverlabel\":{\"align\":\"left\"},\"hovermode\":\"closest\",\"mapbox\":{\"style\":\"light\"},\"paper_bgcolor\":\"white\",\"plot_bgcolor\":\"#E5ECF6\",\"polar\":{\"angularaxis\":{\"gridcolor\":\"white\",\"linecolor\":\"white\",\"ticks\":\"\"},\"bgcolor\":\"#E5ECF6\",\"radialaxis\":{\"gridcolor\":\"white\",\"linecolor\":\"white\",\"ticks\":\"\"}},\"scene\":{\"xaxis\":{\"backgroundcolor\":\"#E5ECF6\",\"gridcolor\":\"white\",\"gridwidth\":2,\"linecolor\":\"white\",\"showbackground\":true,\"ticks\":\"\",\"zerolinecolor\":\"white\"},\"yaxis\":{\"backgroundcolor\":\"#E5ECF6\",\"gridcolor\":\"white\",\"gridwidth\":2,\"linecolor\":\"white\",\"showbackground\":true,\"ticks\":\"\",\"zerolinecolor\":\"white\"},\"zaxis\":{\"backgroundcolor\":\"#E5ECF6\",\"gridcolor\":\"white\",\"gridwidth\":2,\"linecolor\":\"white\",\"showbackground\":true,\"ticks\":\"\",\"zerolinecolor\":\"white\"}},\"shapedefaults\":{\"line\":{\"color\":\"#2a3f5f\"}},\"ternary\":{\"aaxis\":{\"gridcolor\":\"white\",\"linecolor\":\"white\",\"ticks\":\"\"},\"baxis\":{\"gridcolor\":\"white\",\"linecolor\":\"white\",\"ticks\":\"\"},\"bgcolor\":\"#E5ECF6\",\"caxis\":{\"gridcolor\":\"white\",\"linecolor\":\"white\",\"ticks\":\"\"}},\"title\":{\"x\":0.05},\"xaxis\":{\"automargin\":true,\"gridcolor\":\"white\",\"linecolor\":\"white\",\"ticks\":\"\",\"title\":{\"standoff\":15},\"zerolinecolor\":\"white\",\"zerolinewidth\":2},\"yaxis\":{\"automargin\":true,\"gridcolor\":\"white\",\"linecolor\":\"white\",\"ticks\":\"\",\"title\":{\"standoff\":15},\"zerolinecolor\":\"white\",\"zerolinewidth\":2}}},\"title\":{\"text\":\"GDP chart\"},\"xaxis\":{\"anchor\":\"y\",\"domain\":[0.0,1.0],\"showgrid\":false,\"title\":{\"text\":\"Date\"}},\"yaxis\":{\"anchor\":\"x\",\"domain\":[0.0,1.0],\"showgrid\":false,\"title\":{\"text\":\"GDP\"}}},                        {\"responsive\": true}                    ).then(function(){\n",
       "                            \n",
       "var gd = document.getElementById('73185f89-c4e4-44e2-b088-dc707cdb48a4');\n",
       "var x = new MutationObserver(function (mutations, observer) {{\n",
       "        var display = window.getComputedStyle(gd).display;\n",
       "        if (!display || display === 'none') {{\n",
       "            console.log([gd, 'removed!']);\n",
       "            Plotly.purge(gd);\n",
       "            observer.disconnect();\n",
       "        }}\n",
       "}});\n",
       "\n",
       "// Listen for the removal of the full notebook cells\n",
       "var notebookContainer = gd.closest('#notebook-container');\n",
       "if (notebookContainer) {{\n",
       "    x.observe(notebookContainer, {childList: true});\n",
       "}}\n",
       "\n",
       "// Listen for the clearing of the current output cell\n",
       "var outputEl = gd.closest('.output');\n",
       "if (outputEl) {{\n",
       "    x.observe(outputEl, {childList: true});\n",
       "}}\n",
       "\n",
       "                        })                };                });            </script>        </div>"
      ]
     },
     "metadata": {},
     "output_type": "display_data"
    }
   ],
   "source": [
    "import plotly.graph_objects as go\n",
    "import plotly.express as px\n",
    "from plotly.subplots import make_subplots\n",
    "\n",
    "fig = px.line(df, x=df.Date, y=df.GDP)\n",
    "fig.update_traces(marker_line_width=2, opacity=0.6)\n",
    "fig.update_layout(title_text='GDP chart', plot_bgcolor='white', font_size=15, font_color='black')\n",
    "fig.update_xaxes(showgrid=False)\n",
    "fig.update_yaxes(showgrid=False)\n",
    "fig.show()"
   ]
  },
  {
   "cell_type": "code",
   "execution_count": 244,
   "metadata": {},
   "outputs": [
    {
     "data": {
      "application/vnd.plotly.v1+json": {
       "config": {
        "plotlyServerURL": "https://plot.ly"
       },
       "data": [
        {
         "hovertemplate": "Date=%{x}<br>GDP=%{y}<extra></extra>",
         "legendgroup": "",
         "line": {
          "color": "#636efa",
          "dash": "solid"
         },
         "marker": {
          "line": {
           "width": 2
          },
          "symbol": "circle"
         },
         "mode": "lines",
         "name": "",
         "opacity": 0.6,
         "orientation": "v",
         "showlegend": false,
         "type": "scatter",
         "x": [
          "1992-01",
          "1992-02",
          "1992-03",
          "1992-04",
          "1993-01",
          "1993-02",
          "1993-03",
          "1993-04",
          "1994-01",
          "1994-02",
          "1994-03",
          "1994-04",
          "1995-01",
          "1995-02",
          "1995-03",
          "1995-04",
          "1996-01",
          "1996-02",
          "1996-03",
          "1996-04",
          "1997-01",
          "1997-02",
          "1997-03",
          "1997-04",
          "1998-01",
          "1998-02",
          "1998-03",
          "1998-04",
          "1999-01",
          "1999-02",
          "1999-03",
          "1999-04",
          "2000-01",
          "2000-02",
          "2000-03",
          "2000-04",
          "2001-01",
          "2001-02",
          "2001-03",
          "2001-04",
          "2002-01",
          "2002-02",
          "2002-03",
          "2002-04",
          "2003-01",
          "2003-02",
          "2003-03",
          "2003-04",
          "2004-01",
          "2004-02",
          "2004-03",
          "2004-04",
          "2005-01",
          "2005-02",
          "2005-03",
          "2005-04",
          "2006-01",
          "2006-02",
          "2006-03",
          "2006-04",
          "2007-01",
          "2007-02",
          "2007-03",
          "2007-04",
          "2008-01",
          "2008-02",
          "2008-03",
          "2008-04",
          "2009-01",
          "2009-02",
          "2009-03",
          "2009-04",
          "2010-01",
          "2010-02",
          "2010-03",
          "2010-04",
          "2011-01",
          "2011-02",
          "2011-03",
          "2011-04",
          "2012-01",
          "2012-02",
          "2012-03",
          "2012-04",
          "2013-01",
          "2013-02",
          "2013-03",
          "2013-04",
          "2014-01",
          "2014-02",
          "2014-03",
          "2014-04",
          "2015-01",
          "2015-02",
          "2015-03",
          "2015-04",
          "2016-01",
          "2016-02",
          "2016-03",
          "2016-04",
          "2017-01",
          "2017-02",
          "2017-03",
          "2017-04",
          "2018-01",
          "2018-02",
          "2018-03",
          "2018-04",
          "2019-01",
          "2019-02",
          "2019-03",
          "2019-04",
          "2020-01",
          "2020-02",
          "2020-03",
          "2020-04",
          "2021-01",
          "2021-02"
         ],
         "xaxis": "x",
         "y": [
          8.568418483491683,
          8.777139149521213,
          8.88080799870062,
          9.01855012831997,
          8.82975322513392,
          9.030854790001436,
          9.146953187795779,
          9.314330949697387,
          9.14581251744839,
          9.348448774093812,
          9.462498888358917,
          9.61000871123717,
          9.401927206546171,
          9.589659979229449,
          9.690548012766707,
          9.822884688004029,
          9.590692779269272,
          9.749607669373477,
          9.83122863905005,
          9.972659074730759,
          9.72251109069621,
          9.860767925315967,
          9.92822406660184,
          10.058844647209407,
          9.800851101022056,
          9.918208663317522,
          9.988545355876102,
          10.129594708034045,
          9.871062496510973,
          9.978952104119747,
          10.045455754980866,
          10.188061048366206,
          9.96786512322187,
          10.08761580959715,
          10.154732533961212,
          10.281728763721851,
          10.089402644840213,
          10.193414603137649,
          10.251793070333063,
          10.364601787935946,
          10.177134086023445,
          10.281745890206077,
          10.350008227884317,
          10.462254408802437,
          10.303119011284942,
          10.390142402530184,
          10.471408754834638,
          10.590802760153148,
          10.450006521756132,
          10.56361555063884,
          10.641966543094156,
          10.752351329093536,
          10.607903501359239,
          10.709809388683965,
          10.779951627710286,
          10.897198479378416,
          10.759580196615278,
          10.871863964777127,
          10.93426165994871,
          11.060708314311007,
          10.953597385642714,
          11.078776891401473,
          11.148824444423333,
          11.273008269355648,
          11.147261670664934,
          11.273548359633745,
          11.320069818969348,
          11.39300389427696,
          11.211539251594534,
          11.336973181223643,
          11.405862389668808,
          11.521149554250135,
          11.379408929378197,
          11.506378077531833,
          11.570851861613654,
          11.689453605623394,
          11.556654270618498,
          11.686003599325709,
          11.748489165909815,
          11.835096641454994,
          11.67298096271001,
          11.785396940596867,
          11.835658028813604,
          11.93039819220267,
          11.771046895178772,
          11.874220619280585,
          11.933099859149294,
          12.030362981915275,
          11.854810170576314,
          11.96074483308008,
          12.016634022395847,
          12.105306559299084,
          11.925947944075642,
          12.03498594077335,
          12.081629543284627,
          12.16823006231944,
          11.997879281168649,
          12.108505019610634,
          12.160084202871044,
          12.262293230857516,
          12.11103477864532,
          12.215776906506672,
          12.26805775323056,
          12.369163386512597,
          12.21619969344123,
          12.319232566597293,
          12.365101265979783,
          12.46384523050753,
          12.288427907955786,
          12.39463551806236,
          12.433392663254265,
          12.531043277266022,
          12.234305326142541,
          12.425148334298969,
          12.48739566700664,
          12.599120308626903,
          12.426452782128628,
          12.5526981627059
         ],
         "yaxis": "y"
        }
       ],
       "layout": {
        "font": {
         "color": "black",
         "size": 15
        },
        "legend": {
         "tracegroupgap": 0
        },
        "margin": {
         "t": 60
        },
        "plot_bgcolor": "white",
        "template": {
         "data": {
          "bar": [
           {
            "error_x": {
             "color": "#2a3f5f"
            },
            "error_y": {
             "color": "#2a3f5f"
            },
            "marker": {
             "line": {
              "color": "#E5ECF6",
              "width": 0.5
             },
             "pattern": {
              "fillmode": "overlay",
              "size": 10,
              "solidity": 0.2
             }
            },
            "type": "bar"
           }
          ],
          "barpolar": [
           {
            "marker": {
             "line": {
              "color": "#E5ECF6",
              "width": 0.5
             },
             "pattern": {
              "fillmode": "overlay",
              "size": 10,
              "solidity": 0.2
             }
            },
            "type": "barpolar"
           }
          ],
          "carpet": [
           {
            "aaxis": {
             "endlinecolor": "#2a3f5f",
             "gridcolor": "white",
             "linecolor": "white",
             "minorgridcolor": "white",
             "startlinecolor": "#2a3f5f"
            },
            "baxis": {
             "endlinecolor": "#2a3f5f",
             "gridcolor": "white",
             "linecolor": "white",
             "minorgridcolor": "white",
             "startlinecolor": "#2a3f5f"
            },
            "type": "carpet"
           }
          ],
          "choropleth": [
           {
            "colorbar": {
             "outlinewidth": 0,
             "ticks": ""
            },
            "type": "choropleth"
           }
          ],
          "contour": [
           {
            "colorbar": {
             "outlinewidth": 0,
             "ticks": ""
            },
            "colorscale": [
             [
              0,
              "#0d0887"
             ],
             [
              0.1111111111111111,
              "#46039f"
             ],
             [
              0.2222222222222222,
              "#7201a8"
             ],
             [
              0.3333333333333333,
              "#9c179e"
             ],
             [
              0.4444444444444444,
              "#bd3786"
             ],
             [
              0.5555555555555556,
              "#d8576b"
             ],
             [
              0.6666666666666666,
              "#ed7953"
             ],
             [
              0.7777777777777778,
              "#fb9f3a"
             ],
             [
              0.8888888888888888,
              "#fdca26"
             ],
             [
              1,
              "#f0f921"
             ]
            ],
            "type": "contour"
           }
          ],
          "contourcarpet": [
           {
            "colorbar": {
             "outlinewidth": 0,
             "ticks": ""
            },
            "type": "contourcarpet"
           }
          ],
          "heatmap": [
           {
            "colorbar": {
             "outlinewidth": 0,
             "ticks": ""
            },
            "colorscale": [
             [
              0,
              "#0d0887"
             ],
             [
              0.1111111111111111,
              "#46039f"
             ],
             [
              0.2222222222222222,
              "#7201a8"
             ],
             [
              0.3333333333333333,
              "#9c179e"
             ],
             [
              0.4444444444444444,
              "#bd3786"
             ],
             [
              0.5555555555555556,
              "#d8576b"
             ],
             [
              0.6666666666666666,
              "#ed7953"
             ],
             [
              0.7777777777777778,
              "#fb9f3a"
             ],
             [
              0.8888888888888888,
              "#fdca26"
             ],
             [
              1,
              "#f0f921"
             ]
            ],
            "type": "heatmap"
           }
          ],
          "heatmapgl": [
           {
            "colorbar": {
             "outlinewidth": 0,
             "ticks": ""
            },
            "colorscale": [
             [
              0,
              "#0d0887"
             ],
             [
              0.1111111111111111,
              "#46039f"
             ],
             [
              0.2222222222222222,
              "#7201a8"
             ],
             [
              0.3333333333333333,
              "#9c179e"
             ],
             [
              0.4444444444444444,
              "#bd3786"
             ],
             [
              0.5555555555555556,
              "#d8576b"
             ],
             [
              0.6666666666666666,
              "#ed7953"
             ],
             [
              0.7777777777777778,
              "#fb9f3a"
             ],
             [
              0.8888888888888888,
              "#fdca26"
             ],
             [
              1,
              "#f0f921"
             ]
            ],
            "type": "heatmapgl"
           }
          ],
          "histogram": [
           {
            "marker": {
             "pattern": {
              "fillmode": "overlay",
              "size": 10,
              "solidity": 0.2
             }
            },
            "type": "histogram"
           }
          ],
          "histogram2d": [
           {
            "colorbar": {
             "outlinewidth": 0,
             "ticks": ""
            },
            "colorscale": [
             [
              0,
              "#0d0887"
             ],
             [
              0.1111111111111111,
              "#46039f"
             ],
             [
              0.2222222222222222,
              "#7201a8"
             ],
             [
              0.3333333333333333,
              "#9c179e"
             ],
             [
              0.4444444444444444,
              "#bd3786"
             ],
             [
              0.5555555555555556,
              "#d8576b"
             ],
             [
              0.6666666666666666,
              "#ed7953"
             ],
             [
              0.7777777777777778,
              "#fb9f3a"
             ],
             [
              0.8888888888888888,
              "#fdca26"
             ],
             [
              1,
              "#f0f921"
             ]
            ],
            "type": "histogram2d"
           }
          ],
          "histogram2dcontour": [
           {
            "colorbar": {
             "outlinewidth": 0,
             "ticks": ""
            },
            "colorscale": [
             [
              0,
              "#0d0887"
             ],
             [
              0.1111111111111111,
              "#46039f"
             ],
             [
              0.2222222222222222,
              "#7201a8"
             ],
             [
              0.3333333333333333,
              "#9c179e"
             ],
             [
              0.4444444444444444,
              "#bd3786"
             ],
             [
              0.5555555555555556,
              "#d8576b"
             ],
             [
              0.6666666666666666,
              "#ed7953"
             ],
             [
              0.7777777777777778,
              "#fb9f3a"
             ],
             [
              0.8888888888888888,
              "#fdca26"
             ],
             [
              1,
              "#f0f921"
             ]
            ],
            "type": "histogram2dcontour"
           }
          ],
          "mesh3d": [
           {
            "colorbar": {
             "outlinewidth": 0,
             "ticks": ""
            },
            "type": "mesh3d"
           }
          ],
          "parcoords": [
           {
            "line": {
             "colorbar": {
              "outlinewidth": 0,
              "ticks": ""
             }
            },
            "type": "parcoords"
           }
          ],
          "pie": [
           {
            "automargin": true,
            "type": "pie"
           }
          ],
          "scatter": [
           {
            "marker": {
             "colorbar": {
              "outlinewidth": 0,
              "ticks": ""
             }
            },
            "type": "scatter"
           }
          ],
          "scatter3d": [
           {
            "line": {
             "colorbar": {
              "outlinewidth": 0,
              "ticks": ""
             }
            },
            "marker": {
             "colorbar": {
              "outlinewidth": 0,
              "ticks": ""
             }
            },
            "type": "scatter3d"
           }
          ],
          "scattercarpet": [
           {
            "marker": {
             "colorbar": {
              "outlinewidth": 0,
              "ticks": ""
             }
            },
            "type": "scattercarpet"
           }
          ],
          "scattergeo": [
           {
            "marker": {
             "colorbar": {
              "outlinewidth": 0,
              "ticks": ""
             }
            },
            "type": "scattergeo"
           }
          ],
          "scattergl": [
           {
            "marker": {
             "colorbar": {
              "outlinewidth": 0,
              "ticks": ""
             }
            },
            "type": "scattergl"
           }
          ],
          "scattermapbox": [
           {
            "marker": {
             "colorbar": {
              "outlinewidth": 0,
              "ticks": ""
             }
            },
            "type": "scattermapbox"
           }
          ],
          "scatterpolar": [
           {
            "marker": {
             "colorbar": {
              "outlinewidth": 0,
              "ticks": ""
             }
            },
            "type": "scatterpolar"
           }
          ],
          "scatterpolargl": [
           {
            "marker": {
             "colorbar": {
              "outlinewidth": 0,
              "ticks": ""
             }
            },
            "type": "scatterpolargl"
           }
          ],
          "scatterternary": [
           {
            "marker": {
             "colorbar": {
              "outlinewidth": 0,
              "ticks": ""
             }
            },
            "type": "scatterternary"
           }
          ],
          "surface": [
           {
            "colorbar": {
             "outlinewidth": 0,
             "ticks": ""
            },
            "colorscale": [
             [
              0,
              "#0d0887"
             ],
             [
              0.1111111111111111,
              "#46039f"
             ],
             [
              0.2222222222222222,
              "#7201a8"
             ],
             [
              0.3333333333333333,
              "#9c179e"
             ],
             [
              0.4444444444444444,
              "#bd3786"
             ],
             [
              0.5555555555555556,
              "#d8576b"
             ],
             [
              0.6666666666666666,
              "#ed7953"
             ],
             [
              0.7777777777777778,
              "#fb9f3a"
             ],
             [
              0.8888888888888888,
              "#fdca26"
             ],
             [
              1,
              "#f0f921"
             ]
            ],
            "type": "surface"
           }
          ],
          "table": [
           {
            "cells": {
             "fill": {
              "color": "#EBF0F8"
             },
             "line": {
              "color": "white"
             }
            },
            "header": {
             "fill": {
              "color": "#C8D4E3"
             },
             "line": {
              "color": "white"
             }
            },
            "type": "table"
           }
          ]
         },
         "layout": {
          "annotationdefaults": {
           "arrowcolor": "#2a3f5f",
           "arrowhead": 0,
           "arrowwidth": 1
          },
          "autotypenumbers": "strict",
          "coloraxis": {
           "colorbar": {
            "outlinewidth": 0,
            "ticks": ""
           }
          },
          "colorscale": {
           "diverging": [
            [
             0,
             "#8e0152"
            ],
            [
             0.1,
             "#c51b7d"
            ],
            [
             0.2,
             "#de77ae"
            ],
            [
             0.3,
             "#f1b6da"
            ],
            [
             0.4,
             "#fde0ef"
            ],
            [
             0.5,
             "#f7f7f7"
            ],
            [
             0.6,
             "#e6f5d0"
            ],
            [
             0.7,
             "#b8e186"
            ],
            [
             0.8,
             "#7fbc41"
            ],
            [
             0.9,
             "#4d9221"
            ],
            [
             1,
             "#276419"
            ]
           ],
           "sequential": [
            [
             0,
             "#0d0887"
            ],
            [
             0.1111111111111111,
             "#46039f"
            ],
            [
             0.2222222222222222,
             "#7201a8"
            ],
            [
             0.3333333333333333,
             "#9c179e"
            ],
            [
             0.4444444444444444,
             "#bd3786"
            ],
            [
             0.5555555555555556,
             "#d8576b"
            ],
            [
             0.6666666666666666,
             "#ed7953"
            ],
            [
             0.7777777777777778,
             "#fb9f3a"
            ],
            [
             0.8888888888888888,
             "#fdca26"
            ],
            [
             1,
             "#f0f921"
            ]
           ],
           "sequentialminus": [
            [
             0,
             "#0d0887"
            ],
            [
             0.1111111111111111,
             "#46039f"
            ],
            [
             0.2222222222222222,
             "#7201a8"
            ],
            [
             0.3333333333333333,
             "#9c179e"
            ],
            [
             0.4444444444444444,
             "#bd3786"
            ],
            [
             0.5555555555555556,
             "#d8576b"
            ],
            [
             0.6666666666666666,
             "#ed7953"
            ],
            [
             0.7777777777777778,
             "#fb9f3a"
            ],
            [
             0.8888888888888888,
             "#fdca26"
            ],
            [
             1,
             "#f0f921"
            ]
           ]
          },
          "colorway": [
           "#636efa",
           "#EF553B",
           "#00cc96",
           "#ab63fa",
           "#FFA15A",
           "#19d3f3",
           "#FF6692",
           "#B6E880",
           "#FF97FF",
           "#FECB52"
          ],
          "font": {
           "color": "#2a3f5f"
          },
          "geo": {
           "bgcolor": "white",
           "lakecolor": "white",
           "landcolor": "#E5ECF6",
           "showlakes": true,
           "showland": true,
           "subunitcolor": "white"
          },
          "hoverlabel": {
           "align": "left"
          },
          "hovermode": "closest",
          "mapbox": {
           "style": "light"
          },
          "paper_bgcolor": "white",
          "plot_bgcolor": "#E5ECF6",
          "polar": {
           "angularaxis": {
            "gridcolor": "white",
            "linecolor": "white",
            "ticks": ""
           },
           "bgcolor": "#E5ECF6",
           "radialaxis": {
            "gridcolor": "white",
            "linecolor": "white",
            "ticks": ""
           }
          },
          "scene": {
           "xaxis": {
            "backgroundcolor": "#E5ECF6",
            "gridcolor": "white",
            "gridwidth": 2,
            "linecolor": "white",
            "showbackground": true,
            "ticks": "",
            "zerolinecolor": "white"
           },
           "yaxis": {
            "backgroundcolor": "#E5ECF6",
            "gridcolor": "white",
            "gridwidth": 2,
            "linecolor": "white",
            "showbackground": true,
            "ticks": "",
            "zerolinecolor": "white"
           },
           "zaxis": {
            "backgroundcolor": "#E5ECF6",
            "gridcolor": "white",
            "gridwidth": 2,
            "linecolor": "white",
            "showbackground": true,
            "ticks": "",
            "zerolinecolor": "white"
           }
          },
          "shapedefaults": {
           "line": {
            "color": "#2a3f5f"
           }
          },
          "ternary": {
           "aaxis": {
            "gridcolor": "white",
            "linecolor": "white",
            "ticks": ""
           },
           "baxis": {
            "gridcolor": "white",
            "linecolor": "white",
            "ticks": ""
           },
           "bgcolor": "#E5ECF6",
           "caxis": {
            "gridcolor": "white",
            "linecolor": "white",
            "ticks": ""
           }
          },
          "title": {
           "x": 0.05
          },
          "xaxis": {
           "automargin": true,
           "gridcolor": "white",
           "linecolor": "white",
           "ticks": "",
           "title": {
            "standoff": 15
           },
           "zerolinecolor": "white",
           "zerolinewidth": 2
          },
          "yaxis": {
           "automargin": true,
           "gridcolor": "white",
           "linecolor": "white",
           "ticks": "",
           "title": {
            "standoff": 15
           },
           "zerolinecolor": "white",
           "zerolinewidth": 2
          }
         }
        },
        "title": {
         "text": "GDP chart"
        },
        "xaxis": {
         "anchor": "y",
         "domain": [
          0,
          1
         ],
         "showgrid": false,
         "title": {
          "text": "Date"
         }
        },
        "yaxis": {
         "anchor": "x",
         "domain": [
          0,
          1
         ],
         "showgrid": false,
         "title": {
          "text": "GDP"
         }
        }
       }
      },
      "text/html": [
       "<div>                            <div id=\"9d48d69b-d37f-4d32-a14f-2fe84c498deb\" class=\"plotly-graph-div\" style=\"height:525px; width:100%;\"></div>            <script type=\"text/javascript\">                require([\"plotly\"], function(Plotly) {                    window.PLOTLYENV=window.PLOTLYENV || {};                                    if (document.getElementById(\"9d48d69b-d37f-4d32-a14f-2fe84c498deb\")) {                    Plotly.newPlot(                        \"9d48d69b-d37f-4d32-a14f-2fe84c498deb\",                        [{\"hovertemplate\":\"Date=%{x}<br>GDP=%{y}<extra></extra>\",\"legendgroup\":\"\",\"line\":{\"color\":\"#636efa\",\"dash\":\"solid\"},\"marker\":{\"line\":{\"width\":2},\"symbol\":\"circle\"},\"mode\":\"lines\",\"name\":\"\",\"opacity\":0.6,\"orientation\":\"v\",\"showlegend\":false,\"type\":\"scatter\",\"x\":[\"1992-01\",\"1992-02\",\"1992-03\",\"1992-04\",\"1993-01\",\"1993-02\",\"1993-03\",\"1993-04\",\"1994-01\",\"1994-02\",\"1994-03\",\"1994-04\",\"1995-01\",\"1995-02\",\"1995-03\",\"1995-04\",\"1996-01\",\"1996-02\",\"1996-03\",\"1996-04\",\"1997-01\",\"1997-02\",\"1997-03\",\"1997-04\",\"1998-01\",\"1998-02\",\"1998-03\",\"1998-04\",\"1999-01\",\"1999-02\",\"1999-03\",\"1999-04\",\"2000-01\",\"2000-02\",\"2000-03\",\"2000-04\",\"2001-01\",\"2001-02\",\"2001-03\",\"2001-04\",\"2002-01\",\"2002-02\",\"2002-03\",\"2002-04\",\"2003-01\",\"2003-02\",\"2003-03\",\"2003-04\",\"2004-01\",\"2004-02\",\"2004-03\",\"2004-04\",\"2005-01\",\"2005-02\",\"2005-03\",\"2005-04\",\"2006-01\",\"2006-02\",\"2006-03\",\"2006-04\",\"2007-01\",\"2007-02\",\"2007-03\",\"2007-04\",\"2008-01\",\"2008-02\",\"2008-03\",\"2008-04\",\"2009-01\",\"2009-02\",\"2009-03\",\"2009-04\",\"2010-01\",\"2010-02\",\"2010-03\",\"2010-04\",\"2011-01\",\"2011-02\",\"2011-03\",\"2011-04\",\"2012-01\",\"2012-02\",\"2012-03\",\"2012-04\",\"2013-01\",\"2013-02\",\"2013-03\",\"2013-04\",\"2014-01\",\"2014-02\",\"2014-03\",\"2014-04\",\"2015-01\",\"2015-02\",\"2015-03\",\"2015-04\",\"2016-01\",\"2016-02\",\"2016-03\",\"2016-04\",\"2017-01\",\"2017-02\",\"2017-03\",\"2017-04\",\"2018-01\",\"2018-02\",\"2018-03\",\"2018-04\",\"2019-01\",\"2019-02\",\"2019-03\",\"2019-04\",\"2020-01\",\"2020-02\",\"2020-03\",\"2020-04\",\"2021-01\",\"2021-02\"],\"xaxis\":\"x\",\"y\":[8.568418483491683,8.777139149521213,8.88080799870062,9.01855012831997,8.82975322513392,9.030854790001436,9.146953187795779,9.314330949697387,9.14581251744839,9.348448774093812,9.462498888358917,9.61000871123717,9.401927206546171,9.589659979229449,9.690548012766707,9.822884688004029,9.590692779269272,9.749607669373477,9.83122863905005,9.972659074730759,9.72251109069621,9.860767925315967,9.92822406660184,10.058844647209407,9.800851101022056,9.918208663317522,9.988545355876102,10.129594708034045,9.871062496510973,9.978952104119747,10.045455754980866,10.188061048366206,9.96786512322187,10.08761580959715,10.154732533961212,10.281728763721851,10.089402644840213,10.193414603137649,10.251793070333063,10.364601787935946,10.177134086023445,10.281745890206077,10.350008227884317,10.462254408802437,10.303119011284942,10.390142402530184,10.471408754834638,10.590802760153148,10.450006521756132,10.56361555063884,10.641966543094156,10.752351329093536,10.607903501359239,10.709809388683965,10.779951627710286,10.897198479378416,10.759580196615278,10.871863964777127,10.93426165994871,11.060708314311007,10.953597385642714,11.078776891401473,11.148824444423333,11.273008269355648,11.147261670664934,11.273548359633745,11.320069818969348,11.39300389427696,11.211539251594534,11.336973181223643,11.405862389668808,11.521149554250135,11.379408929378197,11.506378077531833,11.570851861613654,11.689453605623394,11.556654270618498,11.686003599325709,11.748489165909815,11.835096641454994,11.67298096271001,11.785396940596867,11.835658028813604,11.93039819220267,11.771046895178772,11.874220619280585,11.933099859149294,12.030362981915275,11.854810170576314,11.96074483308008,12.016634022395847,12.105306559299084,11.925947944075642,12.03498594077335,12.081629543284627,12.16823006231944,11.997879281168649,12.108505019610634,12.160084202871044,12.262293230857516,12.11103477864532,12.215776906506672,12.26805775323056,12.369163386512597,12.21619969344123,12.319232566597293,12.365101265979783,12.46384523050753,12.288427907955786,12.39463551806236,12.433392663254265,12.531043277266022,12.234305326142541,12.425148334298969,12.48739566700664,12.599120308626903,12.426452782128628,12.5526981627059],\"yaxis\":\"y\"}],                        {\"font\":{\"color\":\"black\",\"size\":15},\"legend\":{\"tracegroupgap\":0},\"margin\":{\"t\":60},\"plot_bgcolor\":\"white\",\"template\":{\"data\":{\"bar\":[{\"error_x\":{\"color\":\"#2a3f5f\"},\"error_y\":{\"color\":\"#2a3f5f\"},\"marker\":{\"line\":{\"color\":\"#E5ECF6\",\"width\":0.5},\"pattern\":{\"fillmode\":\"overlay\",\"size\":10,\"solidity\":0.2}},\"type\":\"bar\"}],\"barpolar\":[{\"marker\":{\"line\":{\"color\":\"#E5ECF6\",\"width\":0.5},\"pattern\":{\"fillmode\":\"overlay\",\"size\":10,\"solidity\":0.2}},\"type\":\"barpolar\"}],\"carpet\":[{\"aaxis\":{\"endlinecolor\":\"#2a3f5f\",\"gridcolor\":\"white\",\"linecolor\":\"white\",\"minorgridcolor\":\"white\",\"startlinecolor\":\"#2a3f5f\"},\"baxis\":{\"endlinecolor\":\"#2a3f5f\",\"gridcolor\":\"white\",\"linecolor\":\"white\",\"minorgridcolor\":\"white\",\"startlinecolor\":\"#2a3f5f\"},\"type\":\"carpet\"}],\"choropleth\":[{\"colorbar\":{\"outlinewidth\":0,\"ticks\":\"\"},\"type\":\"choropleth\"}],\"contour\":[{\"colorbar\":{\"outlinewidth\":0,\"ticks\":\"\"},\"colorscale\":[[0.0,\"#0d0887\"],[0.1111111111111111,\"#46039f\"],[0.2222222222222222,\"#7201a8\"],[0.3333333333333333,\"#9c179e\"],[0.4444444444444444,\"#bd3786\"],[0.5555555555555556,\"#d8576b\"],[0.6666666666666666,\"#ed7953\"],[0.7777777777777778,\"#fb9f3a\"],[0.8888888888888888,\"#fdca26\"],[1.0,\"#f0f921\"]],\"type\":\"contour\"}],\"contourcarpet\":[{\"colorbar\":{\"outlinewidth\":0,\"ticks\":\"\"},\"type\":\"contourcarpet\"}],\"heatmap\":[{\"colorbar\":{\"outlinewidth\":0,\"ticks\":\"\"},\"colorscale\":[[0.0,\"#0d0887\"],[0.1111111111111111,\"#46039f\"],[0.2222222222222222,\"#7201a8\"],[0.3333333333333333,\"#9c179e\"],[0.4444444444444444,\"#bd3786\"],[0.5555555555555556,\"#d8576b\"],[0.6666666666666666,\"#ed7953\"],[0.7777777777777778,\"#fb9f3a\"],[0.8888888888888888,\"#fdca26\"],[1.0,\"#f0f921\"]],\"type\":\"heatmap\"}],\"heatmapgl\":[{\"colorbar\":{\"outlinewidth\":0,\"ticks\":\"\"},\"colorscale\":[[0.0,\"#0d0887\"],[0.1111111111111111,\"#46039f\"],[0.2222222222222222,\"#7201a8\"],[0.3333333333333333,\"#9c179e\"],[0.4444444444444444,\"#bd3786\"],[0.5555555555555556,\"#d8576b\"],[0.6666666666666666,\"#ed7953\"],[0.7777777777777778,\"#fb9f3a\"],[0.8888888888888888,\"#fdca26\"],[1.0,\"#f0f921\"]],\"type\":\"heatmapgl\"}],\"histogram\":[{\"marker\":{\"pattern\":{\"fillmode\":\"overlay\",\"size\":10,\"solidity\":0.2}},\"type\":\"histogram\"}],\"histogram2d\":[{\"colorbar\":{\"outlinewidth\":0,\"ticks\":\"\"},\"colorscale\":[[0.0,\"#0d0887\"],[0.1111111111111111,\"#46039f\"],[0.2222222222222222,\"#7201a8\"],[0.3333333333333333,\"#9c179e\"],[0.4444444444444444,\"#bd3786\"],[0.5555555555555556,\"#d8576b\"],[0.6666666666666666,\"#ed7953\"],[0.7777777777777778,\"#fb9f3a\"],[0.8888888888888888,\"#fdca26\"],[1.0,\"#f0f921\"]],\"type\":\"histogram2d\"}],\"histogram2dcontour\":[{\"colorbar\":{\"outlinewidth\":0,\"ticks\":\"\"},\"colorscale\":[[0.0,\"#0d0887\"],[0.1111111111111111,\"#46039f\"],[0.2222222222222222,\"#7201a8\"],[0.3333333333333333,\"#9c179e\"],[0.4444444444444444,\"#bd3786\"],[0.5555555555555556,\"#d8576b\"],[0.6666666666666666,\"#ed7953\"],[0.7777777777777778,\"#fb9f3a\"],[0.8888888888888888,\"#fdca26\"],[1.0,\"#f0f921\"]],\"type\":\"histogram2dcontour\"}],\"mesh3d\":[{\"colorbar\":{\"outlinewidth\":0,\"ticks\":\"\"},\"type\":\"mesh3d\"}],\"parcoords\":[{\"line\":{\"colorbar\":{\"outlinewidth\":0,\"ticks\":\"\"}},\"type\":\"parcoords\"}],\"pie\":[{\"automargin\":true,\"type\":\"pie\"}],\"scatter\":[{\"marker\":{\"colorbar\":{\"outlinewidth\":0,\"ticks\":\"\"}},\"type\":\"scatter\"}],\"scatter3d\":[{\"line\":{\"colorbar\":{\"outlinewidth\":0,\"ticks\":\"\"}},\"marker\":{\"colorbar\":{\"outlinewidth\":0,\"ticks\":\"\"}},\"type\":\"scatter3d\"}],\"scattercarpet\":[{\"marker\":{\"colorbar\":{\"outlinewidth\":0,\"ticks\":\"\"}},\"type\":\"scattercarpet\"}],\"scattergeo\":[{\"marker\":{\"colorbar\":{\"outlinewidth\":0,\"ticks\":\"\"}},\"type\":\"scattergeo\"}],\"scattergl\":[{\"marker\":{\"colorbar\":{\"outlinewidth\":0,\"ticks\":\"\"}},\"type\":\"scattergl\"}],\"scattermapbox\":[{\"marker\":{\"colorbar\":{\"outlinewidth\":0,\"ticks\":\"\"}},\"type\":\"scattermapbox\"}],\"scatterpolar\":[{\"marker\":{\"colorbar\":{\"outlinewidth\":0,\"ticks\":\"\"}},\"type\":\"scatterpolar\"}],\"scatterpolargl\":[{\"marker\":{\"colorbar\":{\"outlinewidth\":0,\"ticks\":\"\"}},\"type\":\"scatterpolargl\"}],\"scatterternary\":[{\"marker\":{\"colorbar\":{\"outlinewidth\":0,\"ticks\":\"\"}},\"type\":\"scatterternary\"}],\"surface\":[{\"colorbar\":{\"outlinewidth\":0,\"ticks\":\"\"},\"colorscale\":[[0.0,\"#0d0887\"],[0.1111111111111111,\"#46039f\"],[0.2222222222222222,\"#7201a8\"],[0.3333333333333333,\"#9c179e\"],[0.4444444444444444,\"#bd3786\"],[0.5555555555555556,\"#d8576b\"],[0.6666666666666666,\"#ed7953\"],[0.7777777777777778,\"#fb9f3a\"],[0.8888888888888888,\"#fdca26\"],[1.0,\"#f0f921\"]],\"type\":\"surface\"}],\"table\":[{\"cells\":{\"fill\":{\"color\":\"#EBF0F8\"},\"line\":{\"color\":\"white\"}},\"header\":{\"fill\":{\"color\":\"#C8D4E3\"},\"line\":{\"color\":\"white\"}},\"type\":\"table\"}]},\"layout\":{\"annotationdefaults\":{\"arrowcolor\":\"#2a3f5f\",\"arrowhead\":0,\"arrowwidth\":1},\"autotypenumbers\":\"strict\",\"coloraxis\":{\"colorbar\":{\"outlinewidth\":0,\"ticks\":\"\"}},\"colorscale\":{\"diverging\":[[0,\"#8e0152\"],[0.1,\"#c51b7d\"],[0.2,\"#de77ae\"],[0.3,\"#f1b6da\"],[0.4,\"#fde0ef\"],[0.5,\"#f7f7f7\"],[0.6,\"#e6f5d0\"],[0.7,\"#b8e186\"],[0.8,\"#7fbc41\"],[0.9,\"#4d9221\"],[1,\"#276419\"]],\"sequential\":[[0.0,\"#0d0887\"],[0.1111111111111111,\"#46039f\"],[0.2222222222222222,\"#7201a8\"],[0.3333333333333333,\"#9c179e\"],[0.4444444444444444,\"#bd3786\"],[0.5555555555555556,\"#d8576b\"],[0.6666666666666666,\"#ed7953\"],[0.7777777777777778,\"#fb9f3a\"],[0.8888888888888888,\"#fdca26\"],[1.0,\"#f0f921\"]],\"sequentialminus\":[[0.0,\"#0d0887\"],[0.1111111111111111,\"#46039f\"],[0.2222222222222222,\"#7201a8\"],[0.3333333333333333,\"#9c179e\"],[0.4444444444444444,\"#bd3786\"],[0.5555555555555556,\"#d8576b\"],[0.6666666666666666,\"#ed7953\"],[0.7777777777777778,\"#fb9f3a\"],[0.8888888888888888,\"#fdca26\"],[1.0,\"#f0f921\"]]},\"colorway\":[\"#636efa\",\"#EF553B\",\"#00cc96\",\"#ab63fa\",\"#FFA15A\",\"#19d3f3\",\"#FF6692\",\"#B6E880\",\"#FF97FF\",\"#FECB52\"],\"font\":{\"color\":\"#2a3f5f\"},\"geo\":{\"bgcolor\":\"white\",\"lakecolor\":\"white\",\"landcolor\":\"#E5ECF6\",\"showlakes\":true,\"showland\":true,\"subunitcolor\":\"white\"},\"hoverlabel\":{\"align\":\"left\"},\"hovermode\":\"closest\",\"mapbox\":{\"style\":\"light\"},\"paper_bgcolor\":\"white\",\"plot_bgcolor\":\"#E5ECF6\",\"polar\":{\"angularaxis\":{\"gridcolor\":\"white\",\"linecolor\":\"white\",\"ticks\":\"\"},\"bgcolor\":\"#E5ECF6\",\"radialaxis\":{\"gridcolor\":\"white\",\"linecolor\":\"white\",\"ticks\":\"\"}},\"scene\":{\"xaxis\":{\"backgroundcolor\":\"#E5ECF6\",\"gridcolor\":\"white\",\"gridwidth\":2,\"linecolor\":\"white\",\"showbackground\":true,\"ticks\":\"\",\"zerolinecolor\":\"white\"},\"yaxis\":{\"backgroundcolor\":\"#E5ECF6\",\"gridcolor\":\"white\",\"gridwidth\":2,\"linecolor\":\"white\",\"showbackground\":true,\"ticks\":\"\",\"zerolinecolor\":\"white\"},\"zaxis\":{\"backgroundcolor\":\"#E5ECF6\",\"gridcolor\":\"white\",\"gridwidth\":2,\"linecolor\":\"white\",\"showbackground\":true,\"ticks\":\"\",\"zerolinecolor\":\"white\"}},\"shapedefaults\":{\"line\":{\"color\":\"#2a3f5f\"}},\"ternary\":{\"aaxis\":{\"gridcolor\":\"white\",\"linecolor\":\"white\",\"ticks\":\"\"},\"baxis\":{\"gridcolor\":\"white\",\"linecolor\":\"white\",\"ticks\":\"\"},\"bgcolor\":\"#E5ECF6\",\"caxis\":{\"gridcolor\":\"white\",\"linecolor\":\"white\",\"ticks\":\"\"}},\"title\":{\"x\":0.05},\"xaxis\":{\"automargin\":true,\"gridcolor\":\"white\",\"linecolor\":\"white\",\"ticks\":\"\",\"title\":{\"standoff\":15},\"zerolinecolor\":\"white\",\"zerolinewidth\":2},\"yaxis\":{\"automargin\":true,\"gridcolor\":\"white\",\"linecolor\":\"white\",\"ticks\":\"\",\"title\":{\"standoff\":15},\"zerolinecolor\":\"white\",\"zerolinewidth\":2}}},\"title\":{\"text\":\"GDP chart\"},\"xaxis\":{\"anchor\":\"y\",\"domain\":[0.0,1.0],\"showgrid\":false,\"title\":{\"text\":\"Date\"}},\"yaxis\":{\"anchor\":\"x\",\"domain\":[0.0,1.0],\"showgrid\":false,\"title\":{\"text\":\"GDP\"}}},                        {\"responsive\": true}                    ).then(function(){\n",
       "                            \n",
       "var gd = document.getElementById('9d48d69b-d37f-4d32-a14f-2fe84c498deb');\n",
       "var x = new MutationObserver(function (mutations, observer) {{\n",
       "        var display = window.getComputedStyle(gd).display;\n",
       "        if (!display || display === 'none') {{\n",
       "            console.log([gd, 'removed!']);\n",
       "            Plotly.purge(gd);\n",
       "            observer.disconnect();\n",
       "        }}\n",
       "}});\n",
       "\n",
       "// Listen for the removal of the full notebook cells\n",
       "var notebookContainer = gd.closest('#notebook-container');\n",
       "if (notebookContainer) {{\n",
       "    x.observe(notebookContainer, {childList: true});\n",
       "}}\n",
       "\n",
       "// Listen for the clearing of the current output cell\n",
       "var outputEl = gd.closest('.output');\n",
       "if (outputEl) {{\n",
       "    x.observe(outputEl, {childList: true});\n",
       "}}\n",
       "\n",
       "                        })                };                });            </script>        </div>"
      ]
     },
     "metadata": {},
     "output_type": "display_data"
    }
   ],
   "source": [
    "import math\n",
    "df['GDP'] = df['GDP'].apply(lambda x: math.log(x))\n",
    "\n",
    "fig = px.line(df, x=df.Date, y=df.GDP)\n",
    "fig.update_traces(marker_line_width=2, opacity=0.6)\n",
    "fig.update_layout(title_text='GDP chart', plot_bgcolor='white', font_size=15, font_color='black')\n",
    "fig.update_xaxes(showgrid=False)\n",
    "fig.update_yaxes(showgrid=False)\n",
    "fig.show()\n"
   ]
  },
  {
   "cell_type": "code",
   "execution_count": 245,
   "metadata": {},
   "outputs": [
    {
     "name": "stdout",
     "output_type": "stream",
     "text": [
      "(118, 1)\n"
     ]
    },
    {
     "data": {
      "text/html": [
       "<div>\n",
       "<style scoped>\n",
       "    .dataframe tbody tr th:only-of-type {\n",
       "        vertical-align: middle;\n",
       "    }\n",
       "\n",
       "    .dataframe tbody tr th {\n",
       "        vertical-align: top;\n",
       "    }\n",
       "\n",
       "    .dataframe thead th {\n",
       "        text-align: right;\n",
       "    }\n",
       "</style>\n",
       "<table border=\"1\" class=\"dataframe\">\n",
       "  <thead>\n",
       "    <tr style=\"text-align: right;\">\n",
       "      <th></th>\n",
       "      <th>Date</th>\n",
       "      <th>GDP</th>\n",
       "    </tr>\n",
       "  </thead>\n",
       "  <tbody>\n",
       "    <tr>\n",
       "      <th>117</th>\n",
       "      <td>1992-01</td>\n",
       "      <td>8.568418</td>\n",
       "    </tr>\n",
       "    <tr>\n",
       "      <th>116</th>\n",
       "      <td>1992-02</td>\n",
       "      <td>8.777139</td>\n",
       "    </tr>\n",
       "    <tr>\n",
       "      <th>115</th>\n",
       "      <td>1992-03</td>\n",
       "      <td>8.880808</td>\n",
       "    </tr>\n",
       "    <tr>\n",
       "      <th>114</th>\n",
       "      <td>1992-04</td>\n",
       "      <td>9.018550</td>\n",
       "    </tr>\n",
       "    <tr>\n",
       "      <th>113</th>\n",
       "      <td>1993-01</td>\n",
       "      <td>8.829753</td>\n",
       "    </tr>\n",
       "  </tbody>\n",
       "</table>\n",
       "</div>"
      ],
      "text/plain": [
       "        Date       GDP\n",
       "117  1992-01  8.568418\n",
       "116  1992-02  8.777139\n",
       "115  1992-03  8.880808\n",
       "114  1992-04  9.018550\n",
       "113  1993-01  8.829753"
      ]
     },
     "execution_count": 245,
     "metadata": {},
     "output_type": "execute_result"
    }
   ],
   "source": [
    "from sklearn.preprocessing import MinMaxScaler\n",
    "closedf = df.copy()\n",
    "del closedf['Date']\n",
    "scaler=MinMaxScaler(feature_range=(0,1))\n",
    "closedf=scaler.fit_transform(np.array(closedf).reshape(-1,1))\n",
    "print(closedf.shape)\n",
    "df.head()"
   ]
  },
  {
   "cell_type": "code",
   "execution_count": 246,
   "metadata": {},
   "outputs": [
    {
     "name": "stdout",
     "output_type": "stream",
     "text": [
      "train_data:  (76, 1)\n",
      "test_data:  (42, 1)\n"
     ]
    }
   ],
   "source": [
    "training_size=int(len(closedf)*0.65)\n",
    "test_size=len(closedf)-training_size\n",
    "train_data,test_data=closedf[0:training_size,:],closedf[training_size:len(closedf),:1]\n",
    "print(\"train_data: \", train_data.shape)\n",
    "print(\"test_data: \", test_data.shape)"
   ]
  },
  {
   "cell_type": "code",
   "execution_count": 247,
   "metadata": {},
   "outputs": [
    {
     "name": "stdout",
     "output_type": "stream",
     "text": [
      "X_train:  (65, 10)\n",
      "y_train:  (65,)\n",
      "X_test:  (31, 10)\n",
      "y_test (31,)\n"
     ]
    }
   ],
   "source": [
    "def create_dataset(dataset, time_step=1):\n",
    "    dataX, dataY = [], []\n",
    "    for i in range(len(dataset)-time_step-1):\n",
    "        a = dataset[i:(i+time_step), 0]   ###i=0, 0,1,2,3-----99   100 \n",
    "        dataX.append(a)\n",
    "        dataY.append(dataset[i + time_step, 0])\n",
    "    return np.array(dataX), np.array(dataY)\n",
    "\n",
    "# reshape into X=t,t+1,t+2,t+3 and Y=t+4\n",
    "time_step = 10\n",
    "X_train, y_train = create_dataset(train_data, time_step)\n",
    "X_test, y_test = create_dataset(test_data, time_step)\n",
    "\n",
    "print(\"X_train: \", X_train.shape)\n",
    "print(\"y_train: \", y_train.shape)\n",
    "print(\"X_test: \", X_test.shape)\n",
    "print(\"y_test\", y_test.shape)"
   ]
  },
  {
   "cell_type": "code",
   "execution_count": 248,
   "metadata": {},
   "outputs": [
    {
     "name": "stdout",
     "output_type": "stream",
     "text": [
      "X_train:  (65, 10, 1)\n",
      "X_test:  (31, 10, 1)\n"
     ]
    }
   ],
   "source": [
    "# reshape input to be [samples, time steps, features] which is required for LSTM\n",
    "X_train =X_train.reshape(X_train.shape[0],X_train.shape[1] , 1)\n",
    "X_test = X_test.reshape(X_test.shape[0],X_test.shape[1] , 1)\n",
    "\n",
    "print(\"X_train: \", X_train.shape)\n",
    "print(\"X_test: \", X_test.shape)"
   ]
  },
  {
   "cell_type": "code",
   "execution_count": 249,
   "metadata": {},
   "outputs": [],
   "source": [
    "from nbeats_keras.model import NBeatsNet as NBeatsKeras\n",
    "import warnings\n",
    "warnings.filterwarnings(action='ignore', message='Setting attributes')"
   ]
  },
  {
   "cell_type": "code",
   "execution_count": 250,
   "metadata": {},
   "outputs": [
    {
     "name": "stdout",
     "output_type": "stream",
     "text": [
      "Keras training...\n",
      "Epoch 1/256\n",
      "1/1 [==============================] - 1s 1s/step - loss: 0.3847 - val_loss: 0.9148\n",
      "Epoch 2/256\n",
      "1/1 [==============================] - 0s 22ms/step - loss: 0.3665 - val_loss: 2.2051\n",
      "Epoch 3/256\n",
      "1/1 [==============================] - 0s 23ms/step - loss: 1.4565 - val_loss: 0.7388\n",
      "Epoch 4/256\n",
      "1/1 [==============================] - 0s 27ms/step - loss: 0.5336 - val_loss: 1.0133\n",
      "Epoch 5/256\n",
      "1/1 [==============================] - 0s 23ms/step - loss: 0.5136 - val_loss: 1.3647\n",
      "Epoch 6/256\n",
      "1/1 [==============================] - 0s 21ms/step - loss: 0.7238 - val_loss: 1.2990\n",
      "Epoch 7/256\n",
      "1/1 [==============================] - 0s 23ms/step - loss: 0.6789 - val_loss: 1.1233\n",
      "Epoch 8/256\n",
      "1/1 [==============================] - 0s 24ms/step - loss: 0.5744 - val_loss: 1.0337\n",
      "Epoch 9/256\n",
      "1/1 [==============================] - 0s 21ms/step - loss: 0.5360 - val_loss: 1.1244\n",
      "Epoch 10/256\n",
      "1/1 [==============================] - 0s 21ms/step - loss: 0.5860 - val_loss: 0.9867\n",
      "Epoch 11/256\n",
      "1/1 [==============================] - 0s 25ms/step - loss: 0.4946 - val_loss: 0.7516\n",
      "Epoch 12/256\n",
      "1/1 [==============================] - 0s 30ms/step - loss: 0.3499 - val_loss: 0.3505\n",
      "Epoch 13/256\n",
      "1/1 [==============================] - 0s 25ms/step - loss: 0.1226 - val_loss: 0.3791\n",
      "Epoch 14/256\n",
      "1/1 [==============================] - 0s 26ms/step - loss: 0.2915 - val_loss: 0.6590\n",
      "Epoch 15/256\n",
      "1/1 [==============================] - 0s 21ms/step - loss: 0.4459 - val_loss: 0.4046\n",
      "Epoch 16/256\n",
      "1/1 [==============================] - 0s 22ms/step - loss: 0.3036 - val_loss: 0.1297\n",
      "Epoch 17/256\n",
      "1/1 [==============================] - 0s 22ms/step - loss: 0.0512 - val_loss: 0.4657\n",
      "Epoch 18/256\n",
      "1/1 [==============================] - 0s 22ms/step - loss: 0.1837 - val_loss: 0.5306\n",
      "Epoch 19/256\n",
      "1/1 [==============================] - 0s 23ms/step - loss: 0.2189 - val_loss: 0.4212\n",
      "Epoch 20/256\n",
      "1/1 [==============================] - 0s 22ms/step - loss: 0.1545 - val_loss: 0.1351\n",
      "Epoch 21/256\n",
      "1/1 [==============================] - 0s 27ms/step - loss: 0.0542 - val_loss: 0.1690\n",
      "Epoch 22/256\n",
      "1/1 [==============================] - 0s 25ms/step - loss: 0.1815 - val_loss: 0.1276\n",
      "Epoch 23/256\n",
      "1/1 [==============================] - 0s 23ms/step - loss: 0.1579 - val_loss: 0.1791\n",
      "Epoch 24/256\n",
      "1/1 [==============================] - 0s 25ms/step - loss: 0.0568 - val_loss: 0.3548\n",
      "Epoch 25/256\n",
      "1/1 [==============================] - 0s 26ms/step - loss: 0.1187 - val_loss: 0.3525\n",
      "Epoch 26/256\n",
      "1/1 [==============================] - 0s 26ms/step - loss: 0.1203 - val_loss: 0.2124\n",
      "Epoch 27/256\n",
      "1/1 [==============================] - 0s 27ms/step - loss: 0.0601 - val_loss: 0.0576\n",
      "Epoch 28/256\n",
      "1/1 [==============================] - 0s 23ms/step - loss: 0.1006 - val_loss: 0.0422\n",
      "Epoch 29/256\n",
      "1/1 [==============================] - 0s 20ms/step - loss: 0.0726 - val_loss: 0.1662\n",
      "Epoch 30/256\n",
      "1/1 [==============================] - 0s 24ms/step - loss: 0.0563 - val_loss: 0.2242\n",
      "Epoch 31/256\n",
      "1/1 [==============================] - 0s 25ms/step - loss: 0.0833 - val_loss: 0.1317\n",
      "Epoch 32/256\n",
      "1/1 [==============================] - 0s 25ms/step - loss: 0.0462 - val_loss: 0.0575\n",
      "Epoch 33/256\n",
      "1/1 [==============================] - 0s 22ms/step - loss: 0.0667 - val_loss: 0.0214\n",
      "Epoch 34/256\n",
      "1/1 [==============================] - 0s 22ms/step - loss: 0.0441 - val_loss: 0.1640\n",
      "Epoch 35/256\n",
      "1/1 [==============================] - 0s 23ms/step - loss: 0.0601 - val_loss: 0.1828\n",
      "Epoch 36/256\n",
      "1/1 [==============================] - 0s 23ms/step - loss: 0.0679 - val_loss: 0.0488\n",
      "Epoch 37/256\n",
      "1/1 [==============================] - 0s 21ms/step - loss: 0.0288 - val_loss: 0.0930\n",
      "Epoch 38/256\n",
      "1/1 [==============================] - 0s 24ms/step - loss: 0.0804 - val_loss: 0.0229\n",
      "Epoch 39/256\n",
      "1/1 [==============================] - 0s 24ms/step - loss: 0.0314 - val_loss: 0.1828\n",
      "Epoch 40/256\n",
      "1/1 [==============================] - 0s 24ms/step - loss: 0.0763 - val_loss: 0.1734\n",
      "Epoch 41/256\n",
      "1/1 [==============================] - 0s 24ms/step - loss: 0.0748 - val_loss: 0.0203\n",
      "Epoch 42/256\n",
      "1/1 [==============================] - 0s 24ms/step - loss: 0.0239 - val_loss: 0.0874\n",
      "Epoch 43/256\n",
      "1/1 [==============================] - 0s 30ms/step - loss: 0.0544 - val_loss: 0.0557\n",
      "Epoch 44/256\n",
      "1/1 [==============================] - 0s 25ms/step - loss: 0.0303 - val_loss: 0.0750\n",
      "Epoch 45/256\n",
      "1/1 [==============================] - 0s 21ms/step - loss: 0.0385 - val_loss: 0.0607\n",
      "Epoch 46/256\n",
      "1/1 [==============================] - 0s 21ms/step - loss: 0.0335 - val_loss: 0.0279\n",
      "Epoch 47/256\n",
      "1/1 [==============================] - 0s 22ms/step - loss: 0.0200 - val_loss: 0.0418\n",
      "Epoch 48/256\n",
      "1/1 [==============================] - 0s 22ms/step - loss: 0.0273 - val_loss: 0.0539\n",
      "Epoch 49/256\n",
      "1/1 [==============================] - 0s 24ms/step - loss: 0.0245 - val_loss: 0.0307\n",
      "Epoch 50/256\n",
      "1/1 [==============================] - 0s 24ms/step - loss: 0.0237 - val_loss: 0.0283\n",
      "Epoch 51/256\n",
      "1/1 [==============================] - 0s 40ms/step - loss: 0.0135 - val_loss: 0.0231\n",
      "Epoch 52/256\n",
      "1/1 [==============================] - 0s 27ms/step - loss: 0.0127 - val_loss: 0.0158\n",
      "Epoch 53/256\n",
      "1/1 [==============================] - 0s 24ms/step - loss: 0.0164 - val_loss: 0.0638\n",
      "Epoch 54/256\n",
      "1/1 [==============================] - 0s 24ms/step - loss: 0.0278 - val_loss: 0.0741\n",
      "Epoch 55/256\n",
      "1/1 [==============================] - 0s 25ms/step - loss: 0.0451 - val_loss: 0.0138\n",
      "Epoch 56/256\n",
      "1/1 [==============================] - 0s 23ms/step - loss: 0.0142 - val_loss: 0.1802\n",
      "Epoch 57/256\n",
      "1/1 [==============================] - 0s 21ms/step - loss: 0.0860 - val_loss: 0.1205\n",
      "Epoch 58/256\n",
      "1/1 [==============================] - 0s 19ms/step - loss: 0.0517 - val_loss: 0.1357\n",
      "Epoch 59/256\n",
      "1/1 [==============================] - 0s 21ms/step - loss: 0.0842 - val_loss: 0.1850\n",
      "Epoch 60/256\n",
      "1/1 [==============================] - 0s 21ms/step - loss: 0.1118 - val_loss: 0.0755\n",
      "Epoch 61/256\n",
      "1/1 [==============================] - 0s 22ms/step - loss: 0.0580 - val_loss: 0.2223\n",
      "Epoch 62/256\n",
      "1/1 [==============================] - 0s 20ms/step - loss: 0.0917 - val_loss: 0.2732\n",
      "Epoch 63/256\n",
      "1/1 [==============================] - 0s 26ms/step - loss: 0.1140 - val_loss: 0.0809\n",
      "Epoch 64/256\n",
      "1/1 [==============================] - 0s 23ms/step - loss: 0.0161 - val_loss: 0.2015\n",
      "Epoch 65/256\n",
      "1/1 [==============================] - 0s 22ms/step - loss: 0.1276 - val_loss: 0.2941\n",
      "Epoch 66/256\n",
      "1/1 [==============================] - 0s 21ms/step - loss: 0.1720 - val_loss: 0.2611\n",
      "Epoch 67/256\n",
      "1/1 [==============================] - 0s 20ms/step - loss: 0.1546 - val_loss: 0.1031\n",
      "Epoch 68/256\n",
      "1/1 [==============================] - 0s 20ms/step - loss: 0.0740 - val_loss: 0.2319\n",
      "Epoch 69/256\n",
      "1/1 [==============================] - 0s 22ms/step - loss: 0.0994 - val_loss: 0.3322\n",
      "Epoch 70/256\n",
      "1/1 [==============================] - 0s 22ms/step - loss: 0.1532 - val_loss: 0.1784\n",
      "Epoch 71/256\n",
      "1/1 [==============================] - 0s 21ms/step - loss: 0.0746 - val_loss: 0.1389\n",
      "Epoch 72/256\n",
      "1/1 [==============================] - 0s 21ms/step - loss: 0.0861 - val_loss: 0.2490\n",
      "Epoch 73/256\n",
      "1/1 [==============================] - 0s 22ms/step - loss: 0.1399 - val_loss: 0.2245\n",
      "Epoch 74/256\n",
      "1/1 [==============================] - 0s 20ms/step - loss: 0.1264 - val_loss: 0.0712\n",
      "Epoch 75/256\n",
      "1/1 [==============================] - 0s 26ms/step - loss: 0.0475 - val_loss: 0.2530\n",
      "Epoch 76/256\n",
      "1/1 [==============================] - 0s 22ms/step - loss: 0.1221 - val_loss: 0.3464\n",
      "Epoch 77/256\n",
      "1/1 [==============================] - 0s 22ms/step - loss: 0.1717 - val_loss: 0.1955\n",
      "Epoch 78/256\n",
      "1/1 [==============================] - 0s 21ms/step - loss: 0.0922 - val_loss: 0.1116\n",
      "Epoch 79/256\n",
      "1/1 [==============================] - 0s 21ms/step - loss: 0.0673 - val_loss: 0.2180\n",
      "Epoch 80/256\n",
      "1/1 [==============================] - 0s 21ms/step - loss: 0.1214 - val_loss: 0.1943\n",
      "Epoch 81/256\n",
      "1/1 [==============================] - 0s 21ms/step - loss: 0.1096 - val_loss: 0.0471\n",
      "Epoch 82/256\n",
      "1/1 [==============================] - 0s 20ms/step - loss: 0.0358 - val_loss: 0.2473\n",
      "Epoch 83/256\n"
     ]
    },
    {
     "name": "stdout",
     "output_type": "stream",
     "text": [
      "1/1 [==============================] - 0s 20ms/step - loss: 0.1175 - val_loss: 0.3248\n",
      "Epoch 84/256\n",
      "1/1 [==============================] - 0s 22ms/step - loss: 0.1573 - val_loss: 0.1771\n",
      "Epoch 85/256\n",
      "1/1 [==============================] - 0s 21ms/step - loss: 0.0798 - val_loss: 0.1127\n",
      "Epoch 86/256\n",
      "1/1 [==============================] - 0s 24ms/step - loss: 0.0688 - val_loss: 0.2177\n",
      "Epoch 87/256\n",
      "1/1 [==============================] - 0s 22ms/step - loss: 0.1202 - val_loss: 0.2078\n",
      "Epoch 88/256\n",
      "1/1 [==============================] - 0s 22ms/step - loss: 0.1140 - val_loss: 0.0945\n",
      "Epoch 89/256\n",
      "1/1 [==============================] - 0s 20ms/step - loss: 0.0570 - val_loss: 0.1562\n",
      "Epoch 90/256\n",
      "1/1 [==============================] - 0s 20ms/step - loss: 0.0713 - val_loss: 0.2237\n",
      "Epoch 91/256\n",
      "1/1 [==============================] - 0s 20ms/step - loss: 0.1069 - val_loss: 0.0980\n",
      "Epoch 92/256\n",
      "1/1 [==============================] - 0s 19ms/step - loss: 0.0456 - val_loss: 0.1360\n",
      "Epoch 93/256\n",
      "1/1 [==============================] - 0s 19ms/step - loss: 0.0730 - val_loss: 0.2148\n",
      "Epoch 94/256\n",
      "1/1 [==============================] - 0s 20ms/step - loss: 0.1129 - val_loss: 0.1936\n",
      "Epoch 95/256\n",
      "1/1 [==============================] - 0s 20ms/step - loss: 0.1021 - val_loss: 0.0782\n",
      "Epoch 96/256\n",
      "1/1 [==============================] - 0s 19ms/step - loss: 0.0434 - val_loss: 0.1607\n",
      "Epoch 97/256\n",
      "1/1 [==============================] - 0s 20ms/step - loss: 0.0788 - val_loss: 0.2406\n",
      "Epoch 98/256\n",
      "1/1 [==============================] - 0s 20ms/step - loss: 0.1190 - val_loss: 0.1458\n",
      "Epoch 99/256\n",
      "1/1 [==============================] - 0s 23ms/step - loss: 0.0698 - val_loss: 0.0663\n",
      "Epoch 100/256\n",
      "1/1 [==============================] - 0s 23ms/step - loss: 0.0392 - val_loss: 0.1389\n",
      "Epoch 101/256\n",
      "1/1 [==============================] - 0s 21ms/step - loss: 0.0748 - val_loss: 0.1105\n",
      "Epoch 102/256\n",
      "1/1 [==============================] - 0s 23ms/step - loss: 0.0588 - val_loss: 0.0169\n",
      "Epoch 103/256\n",
      "1/1 [==============================] - 0s 23ms/step - loss: 0.0180 - val_loss: 0.1124\n",
      "Epoch 104/256\n",
      "1/1 [==============================] - 0s 22ms/step - loss: 0.0586 - val_loss: 0.0695\n",
      "Epoch 105/256\n",
      "1/1 [==============================] - 0s 22ms/step - loss: 0.0380 - val_loss: 0.0827\n",
      "Epoch 106/256\n",
      "1/1 [==============================] - 0s 22ms/step - loss: 0.0406 - val_loss: 0.1267\n",
      "Epoch 107/256\n",
      "1/1 [==============================] - 0s 21ms/step - loss: 0.0612 - val_loss: 0.0750\n",
      "Epoch 108/256\n",
      "1/1 [==============================] - 0s 23ms/step - loss: 0.0362 - val_loss: 0.0530\n",
      "Epoch 109/256\n",
      "1/1 [==============================] - 0s 23ms/step - loss: 0.0327 - val_loss: 0.0574\n",
      "Epoch 110/256\n",
      "1/1 [==============================] - 0s 24ms/step - loss: 0.0347 - val_loss: 0.0545\n",
      "Epoch 111/256\n",
      "1/1 [==============================] - 0s 23ms/step - loss: 0.0280 - val_loss: 0.0827\n",
      "Epoch 112/256\n",
      "1/1 [==============================] - 0s 21ms/step - loss: 0.0393 - val_loss: 0.0242\n",
      "Epoch 113/256\n",
      "1/1 [==============================] - 0s 23ms/step - loss: 0.0180 - val_loss: 0.0857\n",
      "Epoch 114/256\n",
      "1/1 [==============================] - 0s 23ms/step - loss: 0.0450 - val_loss: 0.0633\n",
      "Epoch 115/256\n",
      "1/1 [==============================] - 0s 27ms/step - loss: 0.0326 - val_loss: 0.0657\n",
      "Epoch 116/256\n",
      "1/1 [==============================] - 0s 21ms/step - loss: 0.0393 - val_loss: 0.0753\n",
      "Epoch 117/256\n",
      "1/1 [==============================] - 0s 21ms/step - loss: 0.0437 - val_loss: 0.0190\n",
      "Epoch 118/256\n",
      "1/1 [==============================] - 0s 22ms/step - loss: 0.0140 - val_loss: 0.0502\n",
      "Epoch 119/256\n",
      "1/1 [==============================] - 0s 21ms/step - loss: 0.0280 - val_loss: 0.0302\n",
      "Epoch 120/256\n",
      "1/1 [==============================] - 0s 20ms/step - loss: 0.0171 - val_loss: 0.0378\n",
      "Epoch 121/256\n",
      "1/1 [==============================] - 0s 25ms/step - loss: 0.0208 - val_loss: 0.0288\n",
      "Epoch 122/256\n",
      "1/1 [==============================] - 0s 20ms/step - loss: 0.0178 - val_loss: 0.0218\n",
      "Epoch 123/256\n",
      "1/1 [==============================] - 0s 19ms/step - loss: 0.0133 - val_loss: 0.0313\n",
      "Epoch 124/256\n",
      "1/1 [==============================] - 0s 21ms/step - loss: 0.0221 - val_loss: 0.0135\n",
      "Epoch 125/256\n",
      "1/1 [==============================] - 0s 19ms/step - loss: 0.0116 - val_loss: 0.0667\n",
      "Epoch 126/256\n",
      "1/1 [==============================] - 0s 20ms/step - loss: 0.0252 - val_loss: 0.0145\n",
      "Epoch 127/256\n",
      "1/1 [==============================] - 0s 22ms/step - loss: 0.0115 - val_loss: 0.0152\n",
      "Epoch 128/256\n",
      "1/1 [==============================] - 0s 21ms/step - loss: 0.0198 - val_loss: 0.0831\n",
      "Epoch 129/256\n",
      "1/1 [==============================] - 0s 19ms/step - loss: 0.0289 - val_loss: 0.0470\n",
      "Epoch 130/256\n",
      "1/1 [==============================] - 0s 20ms/step - loss: 0.0108 - val_loss: 0.0419\n",
      "Epoch 131/256\n",
      "1/1 [==============================] - 0s 19ms/step - loss: 0.0398 - val_loss: 0.0271\n",
      "Epoch 132/256\n",
      "1/1 [==============================] - 0s 20ms/step - loss: 0.0252 - val_loss: 0.1018\n",
      "Epoch 133/256\n",
      "1/1 [==============================] - 0s 23ms/step - loss: 0.0438 - val_loss: 0.0960\n",
      "Epoch 134/256\n",
      "1/1 [==============================] - 0s 19ms/step - loss: 0.0430 - val_loss: 0.0337\n",
      "Epoch 135/256\n",
      "1/1 [==============================] - 0s 20ms/step - loss: 0.0206 - val_loss: 0.0575\n",
      "Epoch 136/256\n",
      "1/1 [==============================] - 0s 21ms/step - loss: 0.0346 - val_loss: 0.0183\n",
      "Epoch 137/256\n",
      "1/1 [==============================] - 0s 30ms/step - loss: 0.0127 - val_loss: 0.0956\n",
      "Epoch 138/256\n",
      "1/1 [==============================] - 0s 28ms/step - loss: 0.0394 - val_loss: 0.0538\n",
      "Epoch 139/256\n",
      "1/1 [==============================] - 0s 77ms/step - loss: 0.0172 - val_loss: 0.0701\n",
      "Epoch 140/256\n",
      "1/1 [==============================] - 0s 31ms/step - loss: 0.0466 - val_loss: 0.0842\n",
      "Epoch 141/256\n",
      "1/1 [==============================] - 0s 29ms/step - loss: 0.0541 - val_loss: 0.0131\n",
      "Epoch 142/256\n",
      "1/1 [==============================] - 0s 47ms/step - loss: 0.0164 - val_loss: 0.1542\n",
      "Epoch 143/256\n",
      "1/1 [==============================] - 0s 23ms/step - loss: 0.0636 - val_loss: 0.1717\n",
      "Epoch 144/256\n",
      "1/1 [==============================] - 0s 24ms/step - loss: 0.0724 - val_loss: 0.0561\n",
      "Epoch 145/256\n",
      "1/1 [==============================] - 0s 20ms/step - loss: 0.0171 - val_loss: 0.1187\n",
      "Epoch 146/256\n",
      "1/1 [==============================] - 0s 19ms/step - loss: 0.0699 - val_loss: 0.1808\n",
      "Epoch 147/256\n",
      "1/1 [==============================] - 0s 21ms/step - loss: 0.0996 - val_loss: 0.1658\n",
      "Epoch 148/256\n",
      "1/1 [==============================] - 0s 19ms/step - loss: 0.0897 - val_loss: 0.0777\n",
      "Epoch 149/256\n",
      "1/1 [==============================] - 0s 21ms/step - loss: 0.0444 - val_loss: 0.1039\n",
      "Epoch 150/256\n",
      "1/1 [==============================] - 0s 19ms/step - loss: 0.0465 - val_loss: 0.1611\n",
      "Epoch 151/256\n",
      "1/1 [==============================] - 0s 21ms/step - loss: 0.0776 - val_loss: 0.0822\n",
      "Epoch 152/256\n",
      "1/1 [==============================] - 0s 20ms/step - loss: 0.0413 - val_loss: 0.0895\n",
      "Epoch 153/256\n",
      "1/1 [==============================] - 0s 19ms/step - loss: 0.0426 - val_loss: 0.1554\n",
      "Epoch 154/256\n",
      "1/1 [==============================] - 0s 19ms/step - loss: 0.0703 - val_loss: 0.1419\n",
      "Epoch 155/256\n",
      "1/1 [==============================] - 0s 18ms/step - loss: 0.0640 - val_loss: 0.0588\n",
      "Epoch 156/256\n",
      "1/1 [==============================] - 0s 19ms/step - loss: 0.0313 - val_loss: 0.0892\n",
      "Epoch 157/256\n",
      "1/1 [==============================] - 0s 19ms/step - loss: 0.0456 - val_loss: 0.1201\n",
      "Epoch 158/256\n",
      "1/1 [==============================] - 0s 18ms/step - loss: 0.0588 - val_loss: 0.0400\n",
      "Epoch 159/256\n",
      "1/1 [==============================] - 0s 19ms/step - loss: 0.0213 - val_loss: 0.0698\n",
      "Epoch 160/256\n",
      "1/1 [==============================] - 0s 18ms/step - loss: 0.0407 - val_loss: 0.0869\n",
      "Epoch 161/256\n",
      "1/1 [==============================] - 0s 18ms/step - loss: 0.0496 - val_loss: 0.0337\n",
      "Epoch 162/256\n",
      "1/1 [==============================] - 0s 19ms/step - loss: 0.0211 - val_loss: 0.0696\n",
      "Epoch 163/256\n",
      "1/1 [==============================] - 0s 19ms/step - loss: 0.0348 - val_loss: 0.0717\n",
      "Epoch 164/256\n",
      "1/1 [==============================] - 0s 19ms/step - loss: 0.0347 - val_loss: 0.0266\n",
      "Epoch 165/256\n"
     ]
    },
    {
     "name": "stdout",
     "output_type": "stream",
     "text": [
      "1/1 [==============================] - 0s 20ms/step - loss: 0.0192 - val_loss: 0.0553\n",
      "Epoch 166/256\n",
      "1/1 [==============================] - 0s 19ms/step - loss: 0.0304 - val_loss: 0.0263\n",
      "Epoch 167/256\n",
      "1/1 [==============================] - 0s 19ms/step - loss: 0.0194 - val_loss: 0.0641\n",
      "Epoch 168/256\n",
      "1/1 [==============================] - 0s 19ms/step - loss: 0.0254 - val_loss: 0.0507\n",
      "Epoch 169/256\n",
      "1/1 [==============================] - 0s 19ms/step - loss: 0.0179 - val_loss: 0.0234\n",
      "Epoch 170/256\n",
      "1/1 [==============================] - 0s 18ms/step - loss: 0.0257 - val_loss: 0.0192\n",
      "Epoch 171/256\n",
      "1/1 [==============================] - 0s 19ms/step - loss: 0.0216 - val_loss: 0.0705\n",
      "Epoch 172/256\n",
      "1/1 [==============================] - 0s 19ms/step - loss: 0.0256 - val_loss: 0.0487\n",
      "Epoch 173/256\n",
      "1/1 [==============================] - 0s 19ms/step - loss: 0.0176 - val_loss: 0.0438\n",
      "Epoch 174/256\n",
      "1/1 [==============================] - 0s 18ms/step - loss: 0.0293 - val_loss: 0.0417\n",
      "Epoch 175/256\n",
      "1/1 [==============================] - 0s 19ms/step - loss: 0.0245 - val_loss: 0.0428\n",
      "Epoch 176/256\n",
      "1/1 [==============================] - 0s 19ms/step - loss: 0.0220 - val_loss: 0.0335\n",
      "Epoch 177/256\n",
      "1/1 [==============================] - 0s 21ms/step - loss: 0.0201 - val_loss: 0.0390\n",
      "Epoch 178/256\n",
      "1/1 [==============================] - 0s 19ms/step - loss: 0.0198 - val_loss: 0.0389\n",
      "Epoch 179/256\n",
      "1/1 [==============================] - 0s 19ms/step - loss: 0.0203 - val_loss: 0.0342\n",
      "Epoch 180/256\n",
      "1/1 [==============================] - 0s 18ms/step - loss: 0.0154 - val_loss: 0.0389\n",
      "Epoch 181/256\n",
      "1/1 [==============================] - 0s 19ms/step - loss: 0.0123 - val_loss: 0.0214\n",
      "Epoch 182/256\n",
      "1/1 [==============================] - 0s 19ms/step - loss: 0.0224 - val_loss: 0.0245\n",
      "Epoch 183/256\n",
      "1/1 [==============================] - 0s 19ms/step - loss: 0.0112 - val_loss: 0.1084\n",
      "Epoch 184/256\n",
      "1/1 [==============================] - 0s 19ms/step - loss: 0.0343 - val_loss: 0.0812\n",
      "Epoch 185/256\n",
      "1/1 [==============================] - 0s 20ms/step - loss: 0.0195 - val_loss: 0.0301\n",
      "Epoch 186/256\n",
      "1/1 [==============================] - 0s 19ms/step - loss: 0.0421 - val_loss: 0.0398\n",
      "Epoch 187/256\n",
      "1/1 [==============================] - 0s 20ms/step - loss: 0.0430 - val_loss: 0.0356\n",
      "Epoch 188/256\n",
      "1/1 [==============================] - 0s 19ms/step - loss: 0.0083 - val_loss: 0.0961\n",
      "Epoch 189/256\n",
      "1/1 [==============================] - 0s 19ms/step - loss: 0.0367 - val_loss: 0.0423\n",
      "Epoch 190/256\n",
      "1/1 [==============================] - 0s 19ms/step - loss: 0.0161 - val_loss: 0.0664\n",
      "Epoch 191/256\n",
      "1/1 [==============================] - 0s 25ms/step - loss: 0.0374 - val_loss: 0.0838\n",
      "Epoch 192/256\n",
      "1/1 [==============================] - 0s 21ms/step - loss: 0.0445 - val_loss: 0.0274\n",
      "Epoch 193/256\n",
      "1/1 [==============================] - 0s 21ms/step - loss: 0.0195 - val_loss: 0.1065\n",
      "Epoch 194/256\n",
      "1/1 [==============================] - 0s 22ms/step - loss: 0.0467 - val_loss: 0.1113\n",
      "Epoch 195/256\n",
      "1/1 [==============================] - 0s 21ms/step - loss: 0.0474 - val_loss: 0.0152\n",
      "Epoch 196/256\n",
      "1/1 [==============================] - 0s 20ms/step - loss: 0.0127 - val_loss: 0.0413\n",
      "Epoch 197/256\n",
      "1/1 [==============================] - 0s 20ms/step - loss: 0.0308 - val_loss: 0.0199\n",
      "Epoch 198/256\n",
      "1/1 [==============================] - 0s 21ms/step - loss: 0.0183 - val_loss: 0.0890\n",
      "Epoch 199/256\n",
      "1/1 [==============================] - 0s 21ms/step - loss: 0.0272 - val_loss: 0.0821\n",
      "Epoch 200/256\n",
      "1/1 [==============================] - 0s 21ms/step - loss: 0.0211 - val_loss: 0.0163\n",
      "Epoch 201/256\n",
      "1/1 [==============================] - 0s 21ms/step - loss: 0.0322 - val_loss: 0.0160\n",
      "Epoch 202/256\n",
      "1/1 [==============================] - 0s 22ms/step - loss: 0.0308 - val_loss: 0.0713\n",
      "Epoch 203/256\n",
      "1/1 [==============================] - 0s 22ms/step - loss: 0.0177 - val_loss: 0.0587\n",
      "Epoch 204/256\n",
      "1/1 [==============================] - 0s 21ms/step - loss: 0.0151 - val_loss: 0.0278\n",
      "Epoch 205/256\n",
      "1/1 [==============================] - 0s 21ms/step - loss: 0.0249 - val_loss: 0.0266\n",
      "Epoch 206/256\n",
      "1/1 [==============================] - 0s 26ms/step - loss: 0.0216 - val_loss: 0.0529\n",
      "Epoch 207/256\n",
      "1/1 [==============================] - 0s 21ms/step - loss: 0.0183 - val_loss: 0.0431\n",
      "Epoch 208/256\n",
      "1/1 [==============================] - 0s 21ms/step - loss: 0.0158 - val_loss: 0.0290\n",
      "Epoch 209/256\n",
      "1/1 [==============================] - 0s 19ms/step - loss: 0.0203 - val_loss: 0.0265\n",
      "Epoch 210/256\n",
      "1/1 [==============================] - 0s 21ms/step - loss: 0.0194 - val_loss: 0.0479\n",
      "Epoch 211/256\n",
      "1/1 [==============================] - 0s 21ms/step - loss: 0.0148 - val_loss: 0.0378\n",
      "Epoch 212/256\n",
      "1/1 [==============================] - 0s 21ms/step - loss: 0.0099 - val_loss: 0.0180\n",
      "Epoch 213/256\n",
      "1/1 [==============================] - 0s 21ms/step - loss: 0.0200 - val_loss: 0.0288\n",
      "Epoch 214/256\n",
      "1/1 [==============================] - 0s 24ms/step - loss: 0.0083 - val_loss: 0.0848\n",
      "Epoch 215/256\n",
      "1/1 [==============================] - 0s 23ms/step - loss: 0.0258 - val_loss: 0.0409\n",
      "Epoch 216/256\n",
      "1/1 [==============================] - 0s 20ms/step - loss: 0.0077 - val_loss: 0.0237\n",
      "Epoch 217/256\n",
      "1/1 [==============================] - 0s 20ms/step - loss: 0.0269 - val_loss: 0.0157\n",
      "Epoch 218/256\n",
      "1/1 [==============================] - 0s 22ms/step - loss: 0.0113 - val_loss: 0.1046\n",
      "Epoch 219/256\n",
      "1/1 [==============================] - 0s 19ms/step - loss: 0.0418 - val_loss: 0.0942\n",
      "Epoch 220/256\n",
      "1/1 [==============================] - 0s 19ms/step - loss: 0.0394 - val_loss: 0.0230\n",
      "Epoch 221/256\n",
      "1/1 [==============================] - 0s 21ms/step - loss: 0.0144 - val_loss: 0.0519\n",
      "Epoch 222/256\n",
      "1/1 [==============================] - 0s 22ms/step - loss: 0.0300 - val_loss: 0.0226\n",
      "Epoch 223/256\n",
      "1/1 [==============================] - 0s 23ms/step - loss: 0.0146 - val_loss: 0.0788\n",
      "Epoch 224/256\n",
      "1/1 [==============================] - 0s 21ms/step - loss: 0.0296 - val_loss: 0.0649\n",
      "Epoch 225/256\n",
      "1/1 [==============================] - 0s 22ms/step - loss: 0.0206 - val_loss: 0.0348\n",
      "Epoch 226/256\n",
      "1/1 [==============================] - 0s 22ms/step - loss: 0.0316 - val_loss: 0.0448\n",
      "Epoch 227/256\n",
      "1/1 [==============================] - 0s 29ms/step - loss: 0.0368 - val_loss: 0.0188\n",
      "Epoch 228/256\n",
      "1/1 [==============================] - 0s 31ms/step - loss: 0.0093 - val_loss: 0.0882\n",
      "Epoch 229/256\n",
      "1/1 [==============================] - 0s 31ms/step - loss: 0.0354 - val_loss: 0.0560\n",
      "Epoch 230/256\n",
      "1/1 [==============================] - 0s 42ms/step - loss: 0.0219 - val_loss: 0.0513\n",
      "Epoch 231/256\n",
      "1/1 [==============================] - 0s 39ms/step - loss: 0.0283 - val_loss: 0.0749\n",
      "Epoch 232/256\n",
      "1/1 [==============================] - 0s 58ms/step - loss: 0.0383 - val_loss: 0.0301\n",
      "Epoch 233/256\n",
      "1/1 [==============================] - 0s 29ms/step - loss: 0.0178 - val_loss: 0.0764\n",
      "Epoch 234/256\n",
      "1/1 [==============================] - ETA: 0s - loss: 0.033 - 0s 23ms/step - loss: 0.0339 - val_loss: 0.0836\n",
      "Epoch 235/256\n",
      "1/1 [==============================] - 0s 22ms/step - loss: 0.0365 - val_loss: 0.0152\n",
      "Epoch 236/256\n",
      "1/1 [==============================] - 0s 23ms/step - loss: 0.0098 - val_loss: 0.0501\n",
      "Epoch 237/256\n",
      "1/1 [==============================] - 0s 21ms/step - loss: 0.0360 - val_loss: 0.0378\n",
      "Epoch 238/256\n",
      "1/1 [==============================] - 0s 47ms/step - loss: 0.0302 - val_loss: 0.0403\n",
      "Epoch 239/256\n",
      "1/1 [==============================] - ETA: 0s - loss: 0.012 - 0s 21ms/step - loss: 0.0129 - val_loss: 0.0640\n",
      "Epoch 240/256\n",
      "1/1 [==============================] - 0s 23ms/step - loss: 0.0230 - val_loss: 0.0144\n",
      "Epoch 241/256\n",
      "1/1 [==============================] - 0s 19ms/step - loss: 0.0097 - val_loss: 0.0175\n",
      "Epoch 242/256\n",
      "1/1 [==============================] - 0s 20ms/step - loss: 0.0141 - val_loss: 0.0350\n",
      "Epoch 243/256\n",
      "1/1 [==============================] - 0s 20ms/step - loss: 0.0106 - val_loss: 0.0307\n",
      "Epoch 244/256\n",
      "1/1 [==============================] - 0s 20ms/step - loss: 0.0093 - val_loss: 0.0184\n",
      "Epoch 245/256\n",
      "1/1 [==============================] - 0s 21ms/step - loss: 0.0141 - val_loss: 0.0254\n",
      "Epoch 246/256\n"
     ]
    },
    {
     "name": "stdout",
     "output_type": "stream",
     "text": [
      "1/1 [==============================] - 0s 21ms/step - loss: 0.0072 - val_loss: 0.0466\n",
      "Epoch 247/256\n",
      "1/1 [==============================] - 0s 21ms/step - loss: 0.0122 - val_loss: 0.0159\n",
      "Epoch 248/256\n",
      "1/1 [==============================] - 0s 22ms/step - loss: 0.0158 - val_loss: 0.0167\n",
      "Epoch 249/256\n",
      "1/1 [==============================] - 0s 23ms/step - loss: 0.0081 - val_loss: 0.0642\n",
      "Epoch 250/256\n",
      "1/1 [==============================] - 0s 23ms/step - loss: 0.0215 - val_loss: 0.0310\n",
      "Epoch 251/256\n",
      "1/1 [==============================] - 0s 23ms/step - loss: 0.0076 - val_loss: 0.0306\n",
      "Epoch 252/256\n",
      "1/1 [==============================] - 0s 20ms/step - loss: 0.0259 - val_loss: 0.0222\n",
      "Epoch 253/256\n",
      "1/1 [==============================] - 0s 20ms/step - loss: 0.0196 - val_loss: 0.0623\n",
      "Epoch 254/256\n",
      "1/1 [==============================] - 0s 19ms/step - loss: 0.0199 - val_loss: 0.0564\n",
      "Epoch 255/256\n",
      "1/1 [==============================] - 0s 19ms/step - loss: 0.0170 - val_loss: 0.0237\n",
      "Epoch 256/256\n",
      "1/1 [==============================] - 0s 19ms/step - loss: 0.0200 - val_loss: 0.0273\n",
      "INFO:tensorflow:Assets written to: n_beats_model/assets\n"
     ]
    },
    {
     "name": "stderr",
     "output_type": "stream",
     "text": [
      "/Users/patricia/opt/anaconda3/lib/python3.8/site-packages/keras/utils/generic_utils.py:494: CustomMaskWarning:\n",
      "\n",
      "Custom mask layers require a config and must override get_config. When loading, the custom mask layer must be passed to the custom_objects argument.\n",
      "\n"
     ]
    }
   ],
   "source": [
    "num_samples, time_steps, input_dim, output_dim = 500, 10, 2, 1\n",
    "\n",
    "# Definition of the model.\n",
    "model_keras = NBeatsKeras(backcast_length=time_steps, forecast_length=output_dim,\n",
    "                          stack_types=(NBeatsKeras.TREND_BLOCK, NBeatsKeras.SEASONALITY_BLOCK),\n",
    "                          nb_blocks_per_stack=2, thetas_dim=(4, 4), share_weights_in_stack=True,\n",
    "                          hidden_layer_units=64)\n",
    "# Definition of the objective function and the optimizer.\n",
    "model_keras.compile(loss='mae', optimizer='adam')\n",
    "\n",
    "# Train the model.\n",
    "print('Keras training...')\n",
    "m=model_keras.fit(X_train, y_train, validation_data=(X_test, y_test), epochs=256, batch_size=128)\n",
    "\n",
    "# Save the model for later.\n",
    "model_keras.save('n_beats_model')\n",
    "\n",
    "# Predict on the testing set (forecast).\n",
    "test_size = len(X_test)\n",
    "predictions_keras_forecast = model_keras.predict(X_test)\n",
    "np.testing.assert_equal(predictions_keras_forecast.shape, (test_size, model_keras.forecast_length, output_dim))\n",
    "\n",
    "# Predict on the testing set (backcast).\n",
    "predictions_keras_backcast = model_keras.predict(X_test, return_backcast=True)\n",
    "np.testing.assert_equal(predictions_keras_backcast.shape, (test_size, model_keras.backcast_length, output_dim))\n",
    "\n",
    "# Load the model.\n",
    "model_keras_2 = NBeatsKeras.load('n_beats_model')\n",
    "\n",
    "np.testing.assert_almost_equal(predictions_keras_forecast, model_keras_2.predict(X_test))\n"
   ]
  },
  {
   "cell_type": "code",
   "execution_count": 251,
   "metadata": {},
   "outputs": [
    {
     "data": {
      "image/png": "[encoded data removed]",
      "text/plain": [
       "<Figure size 432x288 with 1 Axes>"
      ]
     },
     "metadata": {
      "needs_background": "light"
     },
     "output_type": "display_data"
    }
   ],
   "source": [
    "# summarize history for loss\n",
    "plt.plot(m.history['loss'])\n",
    "plt.plot(m.history['val_loss'])\n",
    "plt.title('model loss')\n",
    "plt.ylabel('loss')\n",
    "plt.xlabel('epoch')\n",
    "plt.legend(['train', 'test'], loc='upper right')\n",
    "plt.show()"
   ]
  },
  {
   "cell_type": "code",
   "execution_count": 252,
   "metadata": {},
   "outputs": [
    {
     "data": {
      "text/plain": [
       "((65, 1), (31, 1))"
      ]
     },
     "execution_count": 252,
     "metadata": {},
     "output_type": "execute_result"
    }
   ],
   "source": [
    "### Lets Do the prediction and check performance metrics\n",
    "train_predict=model_keras_2.predict(X_train).reshape(-1,1)\n",
    "test_predict=model_keras_2.predict(X_test).reshape(-1,1)\n",
    "train_predict.shape, test_predict.shape"
   ]
  },
  {
   "cell_type": "code",
   "execution_count": 253,
   "metadata": {},
   "outputs": [],
   "source": [
    "# Transform back to original form\n",
    "\n",
    "train_predict = scaler.inverse_transform(train_predict)\n",
    "test_predict = scaler.inverse_transform(test_predict)\n",
    "original_ytrain = scaler.inverse_transform(y_train.reshape(-1,1)) \n",
    "original_ytest = scaler.inverse_transform(y_test.reshape(-1,1)) "
   ]
  },
  {
   "cell_type": "code",
   "execution_count": 254,
   "metadata": {},
   "outputs": [
    {
     "name": "stdout",
     "output_type": "stream",
     "text": [
      "Train data RMSE:  0.10139446527354382\n",
      "Train data MSE:  0.010280837588107883\n",
      "Test data MAE:  0.08533142425827354\n",
      "-------------------------------------------------------------------------------------\n",
      "Test data RMSE:  0.122852090069082\n",
      "Test data MSE:  0.015092636034341838\n",
      "Test data MAE:  0.10997174283526127\n"
     ]
    }
   ],
   "source": [
    "from sklearn.metrics import mean_squared_error, mean_absolute_error, explained_variance_score, r2_score \n",
    "from sklearn.metrics import mean_poisson_deviance, mean_gamma_deviance, accuracy_score\n",
    "\n",
    "# Evaluation metrices RMSE and MAE\n",
    "print(\"Train data RMSE: \", math.sqrt(mean_squared_error(original_ytrain,train_predict)))\n",
    "print(\"Train data MSE: \", mean_squared_error(original_ytrain,train_predict))\n",
    "print(\"Test data MAE: \", mean_absolute_error(original_ytrain,train_predict))\n",
    "print(\"-------------------------------------------------------------------------------------\")\n",
    "print(\"Test data RMSE: \", math.sqrt(mean_squared_error(original_ytest,test_predict)))\n",
    "print(\"Test data MSE: \", mean_squared_error(original_ytest,test_predict))\n",
    "print(\"Test data MAE: \", mean_absolute_error(original_ytest,test_predict))"
   ]
  },
  {
   "cell_type": "code",
   "execution_count": 255,
   "metadata": {},
   "outputs": [
    {
     "name": "stdout",
     "output_type": "stream",
     "text": [
      "Train data explained variance regression score: 0.9898301564406943\n",
      "Test data explained variance regression score: 0.8852813993172001\n",
      "Train data R2 score: 0.9709867901521017\n",
      "Test data R2 score: 0.6059827042132735\n"
     ]
    }
   ],
   "source": [
    "print(\"Train data explained variance regression score:\", explained_variance_score(original_ytrain, train_predict))\n",
    "print(\"Test data explained variance regression score:\", explained_variance_score(original_ytest, test_predict))\n",
    "print(\"Train data R2 score:\", r2_score(original_ytrain, train_predict))\n",
    "print(\"Test data R2 score:\", r2_score(original_ytest, test_predict))"
   ]
  },
  {
   "cell_type": "code",
   "execution_count": 256,
   "metadata": {},
   "outputs": [
    {
     "name": "stdout",
     "output_type": "stream",
     "text": [
      "Train predicted data:  (118, 1)\n",
      "Test predicted data:  (118, 1)\n"
     ]
    },
    {
     "data": {
      "application/vnd.plotly.v1+json": {
       "config": {
        "plotlyServerURL": "https://plot.ly"
       },
       "data": [
        {
         "hovertemplate": "variable=original<br>Date=%{x}<br>GDP=%{y}<extra></extra>",
         "legendgroup": "original",
         "line": {
          "color": "#636efa",
          "dash": "solid"
         },
         "marker": {
          "symbol": "circle"
         },
         "mode": "lines",
         "name": "Original GDP",
         "orientation": "v",
         "showlegend": true,
         "type": "scatter",
         "x": [
          "1992-01",
          "1992-02",
          "1992-03",
          "1992-04",
          "1993-01",
          "1993-02",
          "1993-03",
          "1993-04",
          "1994-01",
          "1994-02",
          "1994-03",
          "1994-04",
          "1995-01",
          "1995-02",
          "1995-03",
          "1995-04",
          "1996-01",
          "1996-02",
          "1996-03",
          "1996-04",
          "1997-01",
          "1997-02",
          "1997-03",
          "1997-04",
          "1998-01",
          "1998-02",
          "1998-03",
          "1998-04",
          "1999-01",
          "1999-02",
          "1999-03",
          "1999-04",
          "2000-01",
          "2000-02",
          "2000-03",
          "2000-04",
          "2001-01",
          "2001-02",
          "2001-03",
          "2001-04",
          "2002-01",
          "2002-02",
          "2002-03",
          "2002-04",
          "2003-01",
          "2003-02",
          "2003-03",
          "2003-04",
          "2004-01",
          "2004-02",
          "2004-03",
          "2004-04",
          "2005-01",
          "2005-02",
          "2005-03",
          "2005-04",
          "2006-01",
          "2006-02",
          "2006-03",
          "2006-04",
          "2007-01",
          "2007-02",
          "2007-03",
          "2007-04",
          "2008-01",
          "2008-02",
          "2008-03",
          "2008-04",
          "2009-01",
          "2009-02",
          "2009-03",
          "2009-04",
          "2010-01",
          "2010-02",
          "2010-03",
          "2010-04",
          "2011-01",
          "2011-02",
          "2011-03",
          "2011-04",
          "2012-01",
          "2012-02",
          "2012-03",
          "2012-04",
          "2013-01",
          "2013-02",
          "2013-03",
          "2013-04",
          "2014-01",
          "2014-02",
          "2014-03",
          "2014-04",
          "2015-01",
          "2015-02",
          "2015-03",
          "2015-04",
          "2016-01",
          "2016-02",
          "2016-03",
          "2016-04",
          "2017-01",
          "2017-02",
          "2017-03",
          "2017-04",
          "2018-01",
          "2018-02",
          "2018-03",
          "2018-04",
          "2019-01",
          "2019-02",
          "2019-03",
          "2019-04",
          "2020-01",
          "2020-02",
          "2020-03",
          "2020-04",
          "2021-01",
          "2021-02"
         ],
         "xaxis": "x",
         "y": [
          8.568418483491683,
          8.777139149521213,
          8.88080799870062,
          9.01855012831997,
          8.82975322513392,
          9.030854790001436,
          9.146953187795779,
          9.314330949697387,
          9.14581251744839,
          9.348448774093812,
          9.462498888358917,
          9.61000871123717,
          9.401927206546171,
          9.589659979229449,
          9.690548012766707,
          9.822884688004029,
          9.590692779269272,
          9.749607669373477,
          9.83122863905005,
          9.972659074730759,
          9.72251109069621,
          9.860767925315967,
          9.92822406660184,
          10.058844647209407,
          9.800851101022056,
          9.918208663317522,
          9.988545355876102,
          10.129594708034045,
          9.871062496510973,
          9.978952104119747,
          10.045455754980866,
          10.188061048366206,
          9.96786512322187,
          10.08761580959715,
          10.154732533961212,
          10.281728763721851,
          10.089402644840213,
          10.193414603137649,
          10.251793070333063,
          10.364601787935946,
          10.177134086023445,
          10.281745890206077,
          10.350008227884317,
          10.462254408802437,
          10.303119011284942,
          10.390142402530184,
          10.471408754834638,
          10.590802760153148,
          10.450006521756132,
          10.56361555063884,
          10.641966543094156,
          10.752351329093536,
          10.607903501359239,
          10.709809388683965,
          10.779951627710286,
          10.897198479378416,
          10.759580196615278,
          10.871863964777127,
          10.93426165994871,
          11.060708314311007,
          10.953597385642714,
          11.078776891401473,
          11.148824444423333,
          11.273008269355648,
          11.147261670664934,
          11.273548359633745,
          11.320069818969348,
          11.39300389427696,
          11.211539251594534,
          11.336973181223643,
          11.405862389668808,
          11.521149554250135,
          11.379408929378197,
          11.506378077531833,
          11.570851861613654,
          11.689453605623394,
          11.556654270618498,
          11.686003599325709,
          11.748489165909815,
          11.835096641454994,
          11.67298096271001,
          11.785396940596867,
          11.835658028813604,
          11.93039819220267,
          11.771046895178772,
          11.874220619280585,
          11.933099859149294,
          12.030362981915275,
          11.854810170576314,
          11.96074483308008,
          12.016634022395847,
          12.105306559299084,
          11.925947944075642,
          12.03498594077335,
          12.081629543284627,
          12.16823006231944,
          11.997879281168649,
          12.108505019610634,
          12.160084202871044,
          12.262293230857516,
          12.11103477864532,
          12.215776906506672,
          12.26805775323056,
          12.369163386512597,
          12.21619969344123,
          12.319232566597293,
          12.365101265979783,
          12.46384523050753,
          12.288427907955786,
          12.39463551806236,
          12.433392663254265,
          12.531043277266022,
          12.234305326142541,
          12.425148334298969,
          12.48739566700664,
          12.599120308626903,
          12.426452782128628,
          12.5526981627059
         ],
         "yaxis": "y"
        },
        {
         "hovertemplate": "variable=train_predicted_close<br>Date=%{x}<br>GDP=%{y}<extra></extra>",
         "legendgroup": "train_predicted_close",
         "line": {
          "color": "#EF553B",
          "dash": "solid"
         },
         "marker": {
          "symbol": "circle"
         },
         "mode": "lines",
         "name": "Train predicted GDP",
         "orientation": "v",
         "showlegend": true,
         "type": "scatter",
         "x": [
          "1992-01",
          "1992-02",
          "1992-03",
          "1992-04",
          "1993-01",
          "1993-02",
          "1993-03",
          "1993-04",
          "1994-01",
          "1994-02",
          "1994-03",
          "1994-04",
          "1995-01",
          "1995-02",
          "1995-03",
          "1995-04",
          "1996-01",
          "1996-02",
          "1996-03",
          "1996-04",
          "1997-01",
          "1997-02",
          "1997-03",
          "1997-04",
          "1998-01",
          "1998-02",
          "1998-03",
          "1998-04",
          "1999-01",
          "1999-02",
          "1999-03",
          "1999-04",
          "2000-01",
          "2000-02",
          "2000-03",
          "2000-04",
          "2001-01",
          "2001-02",
          "2001-03",
          "2001-04",
          "2002-01",
          "2002-02",
          "2002-03",
          "2002-04",
          "2003-01",
          "2003-02",
          "2003-03",
          "2003-04",
          "2004-01",
          "2004-02",
          "2004-03",
          "2004-04",
          "2005-01",
          "2005-02",
          "2005-03",
          "2005-04",
          "2006-01",
          "2006-02",
          "2006-03",
          "2006-04",
          "2007-01",
          "2007-02",
          "2007-03",
          "2007-04",
          "2008-01",
          "2008-02",
          "2008-03",
          "2008-04",
          "2009-01",
          "2009-02",
          "2009-03",
          "2009-04",
          "2010-01",
          "2010-02",
          "2010-03",
          "2010-04",
          "2011-01",
          "2011-02",
          "2011-03",
          "2011-04",
          "2012-01",
          "2012-02",
          "2012-03",
          "2012-04",
          "2013-01",
          "2013-02",
          "2013-03",
          "2013-04",
          "2014-01",
          "2014-02",
          "2014-03",
          "2014-04",
          "2015-01",
          "2015-02",
          "2015-03",
          "2015-04",
          "2016-01",
          "2016-02",
          "2016-03",
          "2016-04",
          "2017-01",
          "2017-02",
          "2017-03",
          "2017-04",
          "2018-01",
          "2018-02",
          "2018-03",
          "2018-04",
          "2019-01",
          "2019-02",
          "2019-03",
          "2019-04",
          "2020-01",
          "2020-02",
          "2020-03",
          "2020-04",
          "2021-01",
          "2021-02"
         ],
         "xaxis": "x",
         "y": [
          null,
          null,
          null,
          null,
          null,
          null,
          null,
          null,
          null,
          null,
          9.374165534973145,
          9.489542007446289,
          9.388996124267578,
          9.505630493164062,
          9.576476097106934,
          9.711227416992188,
          9.570884704589844,
          9.665236473083496,
          9.737906455993652,
          9.857328414916992,
          9.755349159240723,
          9.805068969726562,
          9.85542106628418,
          10.00311279296875,
          9.856834411621094,
          9.889324188232422,
          9.934871673583984,
          10.100082397460938,
          9.899812698364258,
          9.975428581237793,
          10.033567428588867,
          10.164785385131836,
          9.945576667785645,
          10.046945571899414,
          10.111383438110352,
          10.226447105407715,
          10.026249885559082,
          10.151522636413574,
          10.199039459228516,
          10.305499076843262,
          10.124669075012207,
          10.268771171569824,
          10.297807693481445,
          10.375838279724121,
          10.272196769714355,
          10.374293327331543,
          10.392861366271973,
          10.475358009338379,
          10.405486106872559,
          10.469629287719727,
          10.507567405700684,
          10.593408584594727,
          10.568442344665527,
          10.601312637329102,
          10.649595260620117,
          10.730856895446777,
          10.73176097869873,
          10.754595756530762,
          10.806421279907227,
          10.88367748260498,
          10.860344886779785,
          10.90928840637207,
          10.964226722717285,
          11.05001163482666,
          11.017498970031738,
          11.094500541687012,
          11.126507759094238,
          11.215967178344727,
          11.174683570861816,
          11.261491775512695,
          11.261861801147461,
          11.3490629196167,
          11.317920684814453,
          11.39415168762207,
          11.4228515625,
          null,
          null,
          null,
          null,
          null,
          null,
          null,
          null,
          null,
          null,
          null,
          null,
          null,
          null,
          null,
          null,
          null,
          null,
          null,
          null,
          null,
          null,
          null,
          null,
          null,
          null,
          null,
          null,
          null,
          null,
          null,
          null,
          null,
          null,
          null,
          null,
          null,
          null,
          null,
          null,
          null,
          null,
          null
         ],
         "yaxis": "y"
        },
        {
         "hovertemplate": "variable=test_predicted_close<br>Date=%{x}<br>GDP=%{y}<extra></extra>",
         "legendgroup": "test_predicted_close",
         "line": {
          "color": "#00cc96",
          "dash": "solid"
         },
         "marker": {
          "symbol": "circle"
         },
         "mode": "lines",
         "name": "Test predicted GDP",
         "orientation": "v",
         "showlegend": true,
         "type": "scatter",
         "x": [
          "1992-01",
          "1992-02",
          "1992-03",
          "1992-04",
          "1993-01",
          "1993-02",
          "1993-03",
          "1993-04",
          "1994-01",
          "1994-02",
          "1994-03",
          "1994-04",
          "1995-01",
          "1995-02",
          "1995-03",
          "1995-04",
          "1996-01",
          "1996-02",
          "1996-03",
          "1996-04",
          "1997-01",
          "1997-02",
          "1997-03",
          "1997-04",
          "1998-01",
          "1998-02",
          "1998-03",
          "1998-04",
          "1999-01",
          "1999-02",
          "1999-03",
          "1999-04",
          "2000-01",
          "2000-02",
          "2000-03",
          "2000-04",
          "2001-01",
          "2001-02",
          "2001-03",
          "2001-04",
          "2002-01",
          "2002-02",
          "2002-03",
          "2002-04",
          "2003-01",
          "2003-02",
          "2003-03",
          "2003-04",
          "2004-01",
          "2004-02",
          "2004-03",
          "2004-04",
          "2005-01",
          "2005-02",
          "2005-03",
          "2005-04",
          "2006-01",
          "2006-02",
          "2006-03",
          "2006-04",
          "2007-01",
          "2007-02",
          "2007-03",
          "2007-04",
          "2008-01",
          "2008-02",
          "2008-03",
          "2008-04",
          "2009-01",
          "2009-02",
          "2009-03",
          "2009-04",
          "2010-01",
          "2010-02",
          "2010-03",
          "2010-04",
          "2011-01",
          "2011-02",
          "2011-03",
          "2011-04",
          "2012-01",
          "2012-02",
          "2012-03",
          "2012-04",
          "2013-01",
          "2013-02",
          "2013-03",
          "2013-04",
          "2014-01",
          "2014-02",
          "2014-03",
          "2014-04",
          "2015-01",
          "2015-02",
          "2015-03",
          "2015-04",
          "2016-01",
          "2016-02",
          "2016-03",
          "2016-04",
          "2017-01",
          "2017-02",
          "2017-03",
          "2017-04",
          "2018-01",
          "2018-02",
          "2018-03",
          "2018-04",
          "2019-01",
          "2019-02",
          "2019-03",
          "2019-04",
          "2020-01",
          "2020-02",
          "2020-03",
          "2020-04",
          "2021-01",
          "2021-02"
         ],
         "xaxis": "x",
         "y": [
          null,
          null,
          null,
          null,
          null,
          null,
          null,
          null,
          null,
          null,
          null,
          null,
          null,
          null,
          null,
          null,
          null,
          null,
          null,
          null,
          null,
          null,
          null,
          null,
          null,
          null,
          null,
          null,
          null,
          null,
          null,
          null,
          null,
          null,
          null,
          null,
          null,
          null,
          null,
          null,
          null,
          null,
          null,
          null,
          null,
          null,
          null,
          null,
          null,
          null,
          null,
          null,
          null,
          null,
          null,
          null,
          null,
          null,
          null,
          null,
          null,
          null,
          null,
          null,
          null,
          null,
          null,
          null,
          null,
          null,
          null,
          null,
          null,
          null,
          null,
          null,
          null,
          null,
          null,
          null,
          null,
          null,
          null,
          null,
          null,
          null,
          11.807012557983398,
          11.867985725402832,
          11.839000701904297,
          11.871439933776855,
          11.904250144958496,
          11.951186180114746,
          11.920991897583008,
          11.947393417358398,
          11.98501205444336,
          12.026521682739258,
          11.998894691467285,
          12.015673637390137,
          12.056922912597656,
          12.095524787902832,
          12.075953483581543,
          12.093574523925781,
          12.135741233825684,
          12.176165580749512,
          12.157533645629883,
          12.180322647094727,
          12.221261024475098,
          12.265275955200195,
          12.248629570007324,
          12.27079963684082,
          12.314687728881836,
          12.347518920898438,
          12.334639549255371,
          12.328131675720215,
          12.36463451385498,
          12.393808364868164,
          12.385933876037598,
          null
         ],
         "yaxis": "y"
        }
       ],
       "layout": {
        "font": {
         "color": "black",
         "size": 15
        },
        "legend": {
         "title": {
          "text": "Close Price"
         },
         "tracegroupgap": 0
        },
        "margin": {
         "t": 60
        },
        "plot_bgcolor": "white",
        "template": {
         "data": {
          "bar": [
           {
            "error_x": {
             "color": "#2a3f5f"
            },
            "error_y": {
             "color": "#2a3f5f"
            },
            "marker": {
             "line": {
              "color": "#E5ECF6",
              "width": 0.5
             },
             "pattern": {
              "fillmode": "overlay",
              "size": 10,
              "solidity": 0.2
             }
            },
            "type": "bar"
           }
          ],
          "barpolar": [
           {
            "marker": {
             "line": {
              "color": "#E5ECF6",
              "width": 0.5
             },
             "pattern": {
              "fillmode": "overlay",
              "size": 10,
              "solidity": 0.2
             }
            },
            "type": "barpolar"
           }
          ],
          "carpet": [
           {
            "aaxis": {
             "endlinecolor": "#2a3f5f",
             "gridcolor": "white",
             "linecolor": "white",
             "minorgridcolor": "white",
             "startlinecolor": "#2a3f5f"
            },
            "baxis": {
             "endlinecolor": "#2a3f5f",
             "gridcolor": "white",
             "linecolor": "white",
             "minorgridcolor": "white",
             "startlinecolor": "#2a3f5f"
            },
            "type": "carpet"
           }
          ],
          "choropleth": [
           {
            "colorbar": {
             "outlinewidth": 0,
             "ticks": ""
            },
            "type": "choropleth"
           }
          ],
          "contour": [
           {
            "colorbar": {
             "outlinewidth": 0,
             "ticks": ""
            },
            "colorscale": [
             [
              0,
              "#0d0887"
             ],
             [
              0.1111111111111111,
              "#46039f"
             ],
             [
              0.2222222222222222,
              "#7201a8"
             ],
             [
              0.3333333333333333,
              "#9c179e"
             ],
             [
              0.4444444444444444,
              "#bd3786"
             ],
             [
              0.5555555555555556,
              "#d8576b"
             ],
             [
              0.6666666666666666,
              "#ed7953"
             ],
             [
              0.7777777777777778,
              "#fb9f3a"
             ],
             [
              0.8888888888888888,
              "#fdca26"
             ],
             [
              1,
              "#f0f921"
             ]
            ],
            "type": "contour"
           }
          ],
          "contourcarpet": [
           {
            "colorbar": {
             "outlinewidth": 0,
             "ticks": ""
            },
            "type": "contourcarpet"
           }
          ],
          "heatmap": [
           {
            "colorbar": {
             "outlinewidth": 0,
             "ticks": ""
            },
            "colorscale": [
             [
              0,
              "#0d0887"
             ],
             [
              0.1111111111111111,
              "#46039f"
             ],
             [
              0.2222222222222222,
              "#7201a8"
             ],
             [
              0.3333333333333333,
              "#9c179e"
             ],
             [
              0.4444444444444444,
              "#bd3786"
             ],
             [
              0.5555555555555556,
              "#d8576b"
             ],
             [
              0.6666666666666666,
              "#ed7953"
             ],
             [
              0.7777777777777778,
              "#fb9f3a"
             ],
             [
              0.8888888888888888,
              "#fdca26"
             ],
             [
              1,
              "#f0f921"
             ]
            ],
            "type": "heatmap"
           }
          ],
          "heatmapgl": [
           {
            "colorbar": {
             "outlinewidth": 0,
             "ticks": ""
            },
            "colorscale": [
             [
              0,
              "#0d0887"
             ],
             [
              0.1111111111111111,
              "#46039f"
             ],
             [
              0.2222222222222222,
              "#7201a8"
             ],
             [
              0.3333333333333333,
              "#9c179e"
             ],
             [
              0.4444444444444444,
              "#bd3786"
             ],
             [
              0.5555555555555556,
              "#d8576b"
             ],
             [
              0.6666666666666666,
              "#ed7953"
             ],
             [
              0.7777777777777778,
              "#fb9f3a"
             ],
             [
              0.8888888888888888,
              "#fdca26"
             ],
             [
              1,
              "#f0f921"
             ]
            ],
            "type": "heatmapgl"
           }
          ],
          "histogram": [
           {
            "marker": {
             "pattern": {
              "fillmode": "overlay",
              "size": 10,
              "solidity": 0.2
             }
            },
            "type": "histogram"
           }
          ],
          "histogram2d": [
           {
            "colorbar": {
             "outlinewidth": 0,
             "ticks": ""
            },
            "colorscale": [
             [
              0,
              "#0d0887"
             ],
             [
              0.1111111111111111,
              "#46039f"
             ],
             [
              0.2222222222222222,
              "#7201a8"
             ],
             [
              0.3333333333333333,
              "#9c179e"
             ],
             [
              0.4444444444444444,
              "#bd3786"
             ],
             [
              0.5555555555555556,
              "#d8576b"
             ],
             [
              0.6666666666666666,
              "#ed7953"
             ],
             [
              0.7777777777777778,
              "#fb9f3a"
             ],
             [
              0.8888888888888888,
              "#fdca26"
             ],
             [
              1,
              "#f0f921"
             ]
            ],
            "type": "histogram2d"
           }
          ],
          "histogram2dcontour": [
           {
            "colorbar": {
             "outlinewidth": 0,
             "ticks": ""
            },
            "colorscale": [
             [
              0,
              "#0d0887"
             ],
             [
              0.1111111111111111,
              "#46039f"
             ],
             [
              0.2222222222222222,
              "#7201a8"
             ],
             [
              0.3333333333333333,
              "#9c179e"
             ],
             [
              0.4444444444444444,
              "#bd3786"
             ],
             [
              0.5555555555555556,
              "#d8576b"
             ],
             [
              0.6666666666666666,
              "#ed7953"
             ],
             [
              0.7777777777777778,
              "#fb9f3a"
             ],
             [
              0.8888888888888888,
              "#fdca26"
             ],
             [
              1,
              "#f0f921"
             ]
            ],
            "type": "histogram2dcontour"
           }
          ],
          "mesh3d": [
           {
            "colorbar": {
             "outlinewidth": 0,
             "ticks": ""
            },
            "type": "mesh3d"
           }
          ],
          "parcoords": [
           {
            "line": {
             "colorbar": {
              "outlinewidth": 0,
              "ticks": ""
             }
            },
            "type": "parcoords"
           }
          ],
          "pie": [
           {
            "automargin": true,
            "type": "pie"
           }
          ],
          "scatter": [
           {
            "marker": {
             "colorbar": {
              "outlinewidth": 0,
              "ticks": ""
             }
            },
            "type": "scatter"
           }
          ],
          "scatter3d": [
           {
            "line": {
             "colorbar": {
              "outlinewidth": 0,
              "ticks": ""
             }
            },
            "marker": {
             "colorbar": {
              "outlinewidth": 0,
              "ticks": ""
             }
            },
            "type": "scatter3d"
           }
          ],
          "scattercarpet": [
           {
            "marker": {
             "colorbar": {
              "outlinewidth": 0,
              "ticks": ""
             }
            },
            "type": "scattercarpet"
           }
          ],
          "scattergeo": [
           {
            "marker": {
             "colorbar": {
              "outlinewidth": 0,
              "ticks": ""
             }
            },
            "type": "scattergeo"
           }
          ],
          "scattergl": [
           {
            "marker": {
             "colorbar": {
              "outlinewidth": 0,
              "ticks": ""
             }
            },
            "type": "scattergl"
           }
          ],
          "scattermapbox": [
           {
            "marker": {
             "colorbar": {
              "outlinewidth": 0,
              "ticks": ""
             }
            },
            "type": "scattermapbox"
           }
          ],
          "scatterpolar": [
           {
            "marker": {
             "colorbar": {
              "outlinewidth": 0,
              "ticks": ""
             }
            },
            "type": "scatterpolar"
           }
          ],
          "scatterpolargl": [
           {
            "marker": {
             "colorbar": {
              "outlinewidth": 0,
              "ticks": ""
             }
            },
            "type": "scatterpolargl"
           }
          ],
          "scatterternary": [
           {
            "marker": {
             "colorbar": {
              "outlinewidth": 0,
              "ticks": ""
             }
            },
            "type": "scatterternary"
           }
          ],
          "surface": [
           {
            "colorbar": {
             "outlinewidth": 0,
             "ticks": ""
            },
            "colorscale": [
             [
              0,
              "#0d0887"
             ],
             [
              0.1111111111111111,
              "#46039f"
             ],
             [
              0.2222222222222222,
              "#7201a8"
             ],
             [
              0.3333333333333333,
              "#9c179e"
             ],
             [
              0.4444444444444444,
              "#bd3786"
             ],
             [
              0.5555555555555556,
              "#d8576b"
             ],
             [
              0.6666666666666666,
              "#ed7953"
             ],
             [
              0.7777777777777778,
              "#fb9f3a"
             ],
             [
              0.8888888888888888,
              "#fdca26"
             ],
             [
              1,
              "#f0f921"
             ]
            ],
            "type": "surface"
           }
          ],
          "table": [
           {
            "cells": {
             "fill": {
              "color": "#EBF0F8"
             },
             "line": {
              "color": "white"
             }
            },
            "header": {
             "fill": {
              "color": "#C8D4E3"
             },
             "line": {
              "color": "white"
             }
            },
            "type": "table"
           }
          ]
         },
         "layout": {
          "annotationdefaults": {
           "arrowcolor": "#2a3f5f",
           "arrowhead": 0,
           "arrowwidth": 1
          },
          "autotypenumbers": "strict",
          "coloraxis": {
           "colorbar": {
            "outlinewidth": 0,
            "ticks": ""
           }
          },
          "colorscale": {
           "diverging": [
            [
             0,
             "#8e0152"
            ],
            [
             0.1,
             "#c51b7d"
            ],
            [
             0.2,
             "#de77ae"
            ],
            [
             0.3,
             "#f1b6da"
            ],
            [
             0.4,
             "#fde0ef"
            ],
            [
             0.5,
             "#f7f7f7"
            ],
            [
             0.6,
             "#e6f5d0"
            ],
            [
             0.7,
             "#b8e186"
            ],
            [
             0.8,
             "#7fbc41"
            ],
            [
             0.9,
             "#4d9221"
            ],
            [
             1,
             "#276419"
            ]
           ],
           "sequential": [
            [
             0,
             "#0d0887"
            ],
            [
             0.1111111111111111,
             "#46039f"
            ],
            [
             0.2222222222222222,
             "#7201a8"
            ],
            [
             0.3333333333333333,
             "#9c179e"
            ],
            [
             0.4444444444444444,
             "#bd3786"
            ],
            [
             0.5555555555555556,
             "#d8576b"
            ],
            [
             0.6666666666666666,
             "#ed7953"
            ],
            [
             0.7777777777777778,
             "#fb9f3a"
            ],
            [
             0.8888888888888888,
             "#fdca26"
            ],
            [
             1,
             "#f0f921"
            ]
           ],
           "sequentialminus": [
            [
             0,
             "#0d0887"
            ],
            [
             0.1111111111111111,
             "#46039f"
            ],
            [
             0.2222222222222222,
             "#7201a8"
            ],
            [
             0.3333333333333333,
             "#9c179e"
            ],
            [
             0.4444444444444444,
             "#bd3786"
            ],
            [
             0.5555555555555556,
             "#d8576b"
            ],
            [
             0.6666666666666666,
             "#ed7953"
            ],
            [
             0.7777777777777778,
             "#fb9f3a"
            ],
            [
             0.8888888888888888,
             "#fdca26"
            ],
            [
             1,
             "#f0f921"
            ]
           ]
          },
          "colorway": [
           "#636efa",
           "#EF553B",
           "#00cc96",
           "#ab63fa",
           "#FFA15A",
           "#19d3f3",
           "#FF6692",
           "#B6E880",
           "#FF97FF",
           "#FECB52"
          ],
          "font": {
           "color": "#2a3f5f"
          },
          "geo": {
           "bgcolor": "white",
           "lakecolor": "white",
           "landcolor": "#E5ECF6",
           "showlakes": true,
           "showland": true,
           "subunitcolor": "white"
          },
          "hoverlabel": {
           "align": "left"
          },
          "hovermode": "closest",
          "mapbox": {
           "style": "light"
          },
          "paper_bgcolor": "white",
          "plot_bgcolor": "#E5ECF6",
          "polar": {
           "angularaxis": {
            "gridcolor": "white",
            "linecolor": "white",
            "ticks": ""
           },
           "bgcolor": "#E5ECF6",
           "radialaxis": {
            "gridcolor": "white",
            "linecolor": "white",
            "ticks": ""
           }
          },
          "scene": {
           "xaxis": {
            "backgroundcolor": "#E5ECF6",
            "gridcolor": "white",
            "gridwidth": 2,
            "linecolor": "white",
            "showbackground": true,
            "ticks": "",
            "zerolinecolor": "white"
           },
           "yaxis": {
            "backgroundcolor": "#E5ECF6",
            "gridcolor": "white",
            "gridwidth": 2,
            "linecolor": "white",
            "showbackground": true,
            "ticks": "",
            "zerolinecolor": "white"
           },
           "zaxis": {
            "backgroundcolor": "#E5ECF6",
            "gridcolor": "white",
            "gridwidth": 2,
            "linecolor": "white",
            "showbackground": true,
            "ticks": "",
            "zerolinecolor": "white"
           }
          },
          "shapedefaults": {
           "line": {
            "color": "#2a3f5f"
           }
          },
          "ternary": {
           "aaxis": {
            "gridcolor": "white",
            "linecolor": "white",
            "ticks": ""
           },
           "baxis": {
            "gridcolor": "white",
            "linecolor": "white",
            "ticks": ""
           },
           "bgcolor": "#E5ECF6",
           "caxis": {
            "gridcolor": "white",
            "linecolor": "white",
            "ticks": ""
           }
          },
          "title": {
           "x": 0.05
          },
          "xaxis": {
           "automargin": true,
           "gridcolor": "white",
           "linecolor": "white",
           "ticks": "",
           "title": {
            "standoff": 15
           },
           "zerolinecolor": "white",
           "zerolinewidth": 2
          },
          "yaxis": {
           "automargin": true,
           "gridcolor": "white",
           "linecolor": "white",
           "ticks": "",
           "title": {
            "standoff": 15
           },
           "zerolinecolor": "white",
           "zerolinewidth": 2
          }
         }
        },
        "title": {
         "text": "Comparision between original vs predicted GDP"
        },
        "xaxis": {
         "anchor": "y",
         "domain": [
          0,
          1
         ],
         "showgrid": false,
         "title": {
          "text": "Date"
         }
        },
        "yaxis": {
         "anchor": "x",
         "domain": [
          0,
          1
         ],
         "showgrid": false,
         "title": {
          "text": "GDP"
         }
        }
       }
      },
      "text/html": [
       "<div>                            <div id=\"04f48dc2-2497-40b8-a64b-13ce4604baa5\" class=\"plotly-graph-div\" style=\"height:525px; width:100%;\"></div>            <script type=\"text/javascript\">                require([\"plotly\"], function(Plotly) {                    window.PLOTLYENV=window.PLOTLYENV || {};                                    if (document.getElementById(\"04f48dc2-2497-40b8-a64b-13ce4604baa5\")) {                    Plotly.newPlot(                        \"04f48dc2-2497-40b8-a64b-13ce4604baa5\",                        [{\"hovertemplate\":\"variable=original<br>Date=%{x}<br>GDP=%{y}<extra></extra>\",\"legendgroup\":\"original\",\"line\":{\"color\":\"#636efa\",\"dash\":\"solid\"},\"marker\":{\"symbol\":\"circle\"},\"mode\":\"lines\",\"name\":\"Original GDP\",\"orientation\":\"v\",\"showlegend\":true,\"type\":\"scatter\",\"x\":[\"1992-01\",\"1992-02\",\"1992-03\",\"1992-04\",\"1993-01\",\"1993-02\",\"1993-03\",\"1993-04\",\"1994-01\",\"1994-02\",\"1994-03\",\"1994-04\",\"1995-01\",\"1995-02\",\"1995-03\",\"1995-04\",\"1996-01\",\"1996-02\",\"1996-03\",\"1996-04\",\"1997-01\",\"1997-02\",\"1997-03\",\"1997-04\",\"1998-01\",\"1998-02\",\"1998-03\",\"1998-04\",\"1999-01\",\"1999-02\",\"1999-03\",\"1999-04\",\"2000-01\",\"2000-02\",\"2000-03\",\"2000-04\",\"2001-01\",\"2001-02\",\"2001-03\",\"2001-04\",\"2002-01\",\"2002-02\",\"2002-03\",\"2002-04\",\"2003-01\",\"2003-02\",\"2003-03\",\"2003-04\",\"2004-01\",\"2004-02\",\"2004-03\",\"2004-04\",\"2005-01\",\"2005-02\",\"2005-03\",\"2005-04\",\"2006-01\",\"2006-02\",\"2006-03\",\"2006-04\",\"2007-01\",\"2007-02\",\"2007-03\",\"2007-04\",\"2008-01\",\"2008-02\",\"2008-03\",\"2008-04\",\"2009-01\",\"2009-02\",\"2009-03\",\"2009-04\",\"2010-01\",\"2010-02\",\"2010-03\",\"2010-04\",\"2011-01\",\"2011-02\",\"2011-03\",\"2011-04\",\"2012-01\",\"2012-02\",\"2012-03\",\"2012-04\",\"2013-01\",\"2013-02\",\"2013-03\",\"2013-04\",\"2014-01\",\"2014-02\",\"2014-03\",\"2014-04\",\"2015-01\",\"2015-02\",\"2015-03\",\"2015-04\",\"2016-01\",\"2016-02\",\"2016-03\",\"2016-04\",\"2017-01\",\"2017-02\",\"2017-03\",\"2017-04\",\"2018-01\",\"2018-02\",\"2018-03\",\"2018-04\",\"2019-01\",\"2019-02\",\"2019-03\",\"2019-04\",\"2020-01\",\"2020-02\",\"2020-03\",\"2020-04\",\"2021-01\",\"2021-02\"],\"xaxis\":\"x\",\"y\":[8.568418483491683,8.777139149521213,8.88080799870062,9.01855012831997,8.82975322513392,9.030854790001436,9.146953187795779,9.314330949697387,9.14581251744839,9.348448774093812,9.462498888358917,9.61000871123717,9.401927206546171,9.589659979229449,9.690548012766707,9.822884688004029,9.590692779269272,9.749607669373477,9.83122863905005,9.972659074730759,9.72251109069621,9.860767925315967,9.92822406660184,10.058844647209407,9.800851101022056,9.918208663317522,9.988545355876102,10.129594708034045,9.871062496510973,9.978952104119747,10.045455754980866,10.188061048366206,9.96786512322187,10.08761580959715,10.154732533961212,10.281728763721851,10.089402644840213,10.193414603137649,10.251793070333063,10.364601787935946,10.177134086023445,10.281745890206077,10.350008227884317,10.462254408802437,10.303119011284942,10.390142402530184,10.471408754834638,10.590802760153148,10.450006521756132,10.56361555063884,10.641966543094156,10.752351329093536,10.607903501359239,10.709809388683965,10.779951627710286,10.897198479378416,10.759580196615278,10.871863964777127,10.93426165994871,11.060708314311007,10.953597385642714,11.078776891401473,11.148824444423333,11.273008269355648,11.147261670664934,11.273548359633745,11.320069818969348,11.39300389427696,11.211539251594534,11.336973181223643,11.405862389668808,11.521149554250135,11.379408929378197,11.506378077531833,11.570851861613654,11.689453605623394,11.556654270618498,11.686003599325709,11.748489165909815,11.835096641454994,11.67298096271001,11.785396940596867,11.835658028813604,11.93039819220267,11.771046895178772,11.874220619280585,11.933099859149294,12.030362981915275,11.854810170576314,11.96074483308008,12.016634022395847,12.105306559299084,11.925947944075642,12.03498594077335,12.081629543284627,12.16823006231944,11.997879281168649,12.108505019610634,12.160084202871044,12.262293230857516,12.11103477864532,12.215776906506672,12.26805775323056,12.369163386512597,12.21619969344123,12.319232566597293,12.365101265979783,12.46384523050753,12.288427907955786,12.39463551806236,12.433392663254265,12.531043277266022,12.234305326142541,12.425148334298969,12.48739566700664,12.599120308626903,12.426452782128628,12.5526981627059],\"yaxis\":\"y\"},{\"hovertemplate\":\"variable=train_predicted_close<br>Date=%{x}<br>GDP=%{y}<extra></extra>\",\"legendgroup\":\"train_predicted_close\",\"line\":{\"color\":\"#EF553B\",\"dash\":\"solid\"},\"marker\":{\"symbol\":\"circle\"},\"mode\":\"lines\",\"name\":\"Train predicted GDP\",\"orientation\":\"v\",\"showlegend\":true,\"type\":\"scatter\",\"x\":[\"1992-01\",\"1992-02\",\"1992-03\",\"1992-04\",\"1993-01\",\"1993-02\",\"1993-03\",\"1993-04\",\"1994-01\",\"1994-02\",\"1994-03\",\"1994-04\",\"1995-01\",\"1995-02\",\"1995-03\",\"1995-04\",\"1996-01\",\"1996-02\",\"1996-03\",\"1996-04\",\"1997-01\",\"1997-02\",\"1997-03\",\"1997-04\",\"1998-01\",\"1998-02\",\"1998-03\",\"1998-04\",\"1999-01\",\"1999-02\",\"1999-03\",\"1999-04\",\"2000-01\",\"2000-02\",\"2000-03\",\"2000-04\",\"2001-01\",\"2001-02\",\"2001-03\",\"2001-04\",\"2002-01\",\"2002-02\",\"2002-03\",\"2002-04\",\"2003-01\",\"2003-02\",\"2003-03\",\"2003-04\",\"2004-01\",\"2004-02\",\"2004-03\",\"2004-04\",\"2005-01\",\"2005-02\",\"2005-03\",\"2005-04\",\"2006-01\",\"2006-02\",\"2006-03\",\"2006-04\",\"2007-01\",\"2007-02\",\"2007-03\",\"2007-04\",\"2008-01\",\"2008-02\",\"2008-03\",\"2008-04\",\"2009-01\",\"2009-02\",\"2009-03\",\"2009-04\",\"2010-01\",\"2010-02\",\"2010-03\",\"2010-04\",\"2011-01\",\"2011-02\",\"2011-03\",\"2011-04\",\"2012-01\",\"2012-02\",\"2012-03\",\"2012-04\",\"2013-01\",\"2013-02\",\"2013-03\",\"2013-04\",\"2014-01\",\"2014-02\",\"2014-03\",\"2014-04\",\"2015-01\",\"2015-02\",\"2015-03\",\"2015-04\",\"2016-01\",\"2016-02\",\"2016-03\",\"2016-04\",\"2017-01\",\"2017-02\",\"2017-03\",\"2017-04\",\"2018-01\",\"2018-02\",\"2018-03\",\"2018-04\",\"2019-01\",\"2019-02\",\"2019-03\",\"2019-04\",\"2020-01\",\"2020-02\",\"2020-03\",\"2020-04\",\"2021-01\",\"2021-02\"],\"xaxis\":\"x\",\"y\":[null,null,null,null,null,null,null,null,null,null,9.374165534973145,9.489542007446289,9.388996124267578,9.505630493164062,9.576476097106934,9.711227416992188,9.570884704589844,9.665236473083496,9.737906455993652,9.857328414916992,9.755349159240723,9.805068969726562,9.85542106628418,10.00311279296875,9.856834411621094,9.889324188232422,9.934871673583984,10.100082397460938,9.899812698364258,9.975428581237793,10.033567428588867,10.164785385131836,9.945576667785645,10.046945571899414,10.111383438110352,10.226447105407715,10.026249885559082,10.151522636413574,10.199039459228516,10.305499076843262,10.124669075012207,10.268771171569824,10.297807693481445,10.375838279724121,10.272196769714355,10.374293327331543,10.392861366271973,10.475358009338379,10.405486106872559,10.469629287719727,10.507567405700684,10.593408584594727,10.568442344665527,10.601312637329102,10.649595260620117,10.730856895446777,10.73176097869873,10.754595756530762,10.806421279907227,10.88367748260498,10.860344886779785,10.90928840637207,10.964226722717285,11.05001163482666,11.017498970031738,11.094500541687012,11.126507759094238,11.215967178344727,11.174683570861816,11.261491775512695,11.261861801147461,11.3490629196167,11.317920684814453,11.39415168762207,11.4228515625,null,null,null,null,null,null,null,null,null,null,null,null,null,null,null,null,null,null,null,null,null,null,null,null,null,null,null,null,null,null,null,null,null,null,null,null,null,null,null,null,null,null,null],\"yaxis\":\"y\"},{\"hovertemplate\":\"variable=test_predicted_close<br>Date=%{x}<br>GDP=%{y}<extra></extra>\",\"legendgroup\":\"test_predicted_close\",\"line\":{\"color\":\"#00cc96\",\"dash\":\"solid\"},\"marker\":{\"symbol\":\"circle\"},\"mode\":\"lines\",\"name\":\"Test predicted GDP\",\"orientation\":\"v\",\"showlegend\":true,\"type\":\"scatter\",\"x\":[\"1992-01\",\"1992-02\",\"1992-03\",\"1992-04\",\"1993-01\",\"1993-02\",\"1993-03\",\"1993-04\",\"1994-01\",\"1994-02\",\"1994-03\",\"1994-04\",\"1995-01\",\"1995-02\",\"1995-03\",\"1995-04\",\"1996-01\",\"1996-02\",\"1996-03\",\"1996-04\",\"1997-01\",\"1997-02\",\"1997-03\",\"1997-04\",\"1998-01\",\"1998-02\",\"1998-03\",\"1998-04\",\"1999-01\",\"1999-02\",\"1999-03\",\"1999-04\",\"2000-01\",\"2000-02\",\"2000-03\",\"2000-04\",\"2001-01\",\"2001-02\",\"2001-03\",\"2001-04\",\"2002-01\",\"2002-02\",\"2002-03\",\"2002-04\",\"2003-01\",\"2003-02\",\"2003-03\",\"2003-04\",\"2004-01\",\"2004-02\",\"2004-03\",\"2004-04\",\"2005-01\",\"2005-02\",\"2005-03\",\"2005-04\",\"2006-01\",\"2006-02\",\"2006-03\",\"2006-04\",\"2007-01\",\"2007-02\",\"2007-03\",\"2007-04\",\"2008-01\",\"2008-02\",\"2008-03\",\"2008-04\",\"2009-01\",\"2009-02\",\"2009-03\",\"2009-04\",\"2010-01\",\"2010-02\",\"2010-03\",\"2010-04\",\"2011-01\",\"2011-02\",\"2011-03\",\"2011-04\",\"2012-01\",\"2012-02\",\"2012-03\",\"2012-04\",\"2013-01\",\"2013-02\",\"2013-03\",\"2013-04\",\"2014-01\",\"2014-02\",\"2014-03\",\"2014-04\",\"2015-01\",\"2015-02\",\"2015-03\",\"2015-04\",\"2016-01\",\"2016-02\",\"2016-03\",\"2016-04\",\"2017-01\",\"2017-02\",\"2017-03\",\"2017-04\",\"2018-01\",\"2018-02\",\"2018-03\",\"2018-04\",\"2019-01\",\"2019-02\",\"2019-03\",\"2019-04\",\"2020-01\",\"2020-02\",\"2020-03\",\"2020-04\",\"2021-01\",\"2021-02\"],\"xaxis\":\"x\",\"y\":[null,null,null,null,null,null,null,null,null,null,null,null,null,null,null,null,null,null,null,null,null,null,null,null,null,null,null,null,null,null,null,null,null,null,null,null,null,null,null,null,null,null,null,null,null,null,null,null,null,null,null,null,null,null,null,null,null,null,null,null,null,null,null,null,null,null,null,null,null,null,null,null,null,null,null,null,null,null,null,null,null,null,null,null,null,null,11.807012557983398,11.867985725402832,11.839000701904297,11.871439933776855,11.904250144958496,11.951186180114746,11.920991897583008,11.947393417358398,11.98501205444336,12.026521682739258,11.998894691467285,12.015673637390137,12.056922912597656,12.095524787902832,12.075953483581543,12.093574523925781,12.135741233825684,12.176165580749512,12.157533645629883,12.180322647094727,12.221261024475098,12.265275955200195,12.248629570007324,12.27079963684082,12.314687728881836,12.347518920898438,12.334639549255371,12.328131675720215,12.36463451385498,12.393808364868164,12.385933876037598,null],\"yaxis\":\"y\"}],                        {\"font\":{\"color\":\"black\",\"size\":15},\"legend\":{\"title\":{\"text\":\"Close Price\"},\"tracegroupgap\":0},\"margin\":{\"t\":60},\"plot_bgcolor\":\"white\",\"template\":{\"data\":{\"bar\":[{\"error_x\":{\"color\":\"#2a3f5f\"},\"error_y\":{\"color\":\"#2a3f5f\"},\"marker\":{\"line\":{\"color\":\"#E5ECF6\",\"width\":0.5},\"pattern\":{\"fillmode\":\"overlay\",\"size\":10,\"solidity\":0.2}},\"type\":\"bar\"}],\"barpolar\":[{\"marker\":{\"line\":{\"color\":\"#E5ECF6\",\"width\":0.5},\"pattern\":{\"fillmode\":\"overlay\",\"size\":10,\"solidity\":0.2}},\"type\":\"barpolar\"}],\"carpet\":[{\"aaxis\":{\"endlinecolor\":\"#2a3f5f\",\"gridcolor\":\"white\",\"linecolor\":\"white\",\"minorgridcolor\":\"white\",\"startlinecolor\":\"#2a3f5f\"},\"baxis\":{\"endlinecolor\":\"#2a3f5f\",\"gridcolor\":\"white\",\"linecolor\":\"white\",\"minorgridcolor\":\"white\",\"startlinecolor\":\"#2a3f5f\"},\"type\":\"carpet\"}],\"choropleth\":[{\"colorbar\":{\"outlinewidth\":0,\"ticks\":\"\"},\"type\":\"choropleth\"}],\"contour\":[{\"colorbar\":{\"outlinewidth\":0,\"ticks\":\"\"},\"colorscale\":[[0.0,\"#0d0887\"],[0.1111111111111111,\"#46039f\"],[0.2222222222222222,\"#7201a8\"],[0.3333333333333333,\"#9c179e\"],[0.4444444444444444,\"#bd3786\"],[0.5555555555555556,\"#d8576b\"],[0.6666666666666666,\"#ed7953\"],[0.7777777777777778,\"#fb9f3a\"],[0.8888888888888888,\"#fdca26\"],[1.0,\"#f0f921\"]],\"type\":\"contour\"}],\"contourcarpet\":[{\"colorbar\":{\"outlinewidth\":0,\"ticks\":\"\"},\"type\":\"contourcarpet\"}],\"heatmap\":[{\"colorbar\":{\"outlinewidth\":0,\"ticks\":\"\"},\"colorscale\":[[0.0,\"#0d0887\"],[0.1111111111111111,\"#46039f\"],[0.2222222222222222,\"#7201a8\"],[0.3333333333333333,\"#9c179e\"],[0.4444444444444444,\"#bd3786\"],[0.5555555555555556,\"#d8576b\"],[0.6666666666666666,\"#ed7953\"],[0.7777777777777778,\"#fb9f3a\"],[0.8888888888888888,\"#fdca26\"],[1.0,\"#f0f921\"]],\"type\":\"heatmap\"}],\"heatmapgl\":[{\"colorbar\":{\"outlinewidth\":0,\"ticks\":\"\"},\"colorscale\":[[0.0,\"#0d0887\"],[0.1111111111111111,\"#46039f\"],[0.2222222222222222,\"#7201a8\"],[0.3333333333333333,\"#9c179e\"],[0.4444444444444444,\"#bd3786\"],[0.5555555555555556,\"#d8576b\"],[0.6666666666666666,\"#ed7953\"],[0.7777777777777778,\"#fb9f3a\"],[0.8888888888888888,\"#fdca26\"],[1.0,\"#f0f921\"]],\"type\":\"heatmapgl\"}],\"histogram\":[{\"marker\":{\"pattern\":{\"fillmode\":\"overlay\",\"size\":10,\"solidity\":0.2}},\"type\":\"histogram\"}],\"histogram2d\":[{\"colorbar\":{\"outlinewidth\":0,\"ticks\":\"\"},\"colorscale\":[[0.0,\"#0d0887\"],[0.1111111111111111,\"#46039f\"],[0.2222222222222222,\"#7201a8\"],[0.3333333333333333,\"#9c179e\"],[0.4444444444444444,\"#bd3786\"],[0.5555555555555556,\"#d8576b\"],[0.6666666666666666,\"#ed7953\"],[0.7777777777777778,\"#fb9f3a\"],[0.8888888888888888,\"#fdca26\"],[1.0,\"#f0f921\"]],\"type\":\"histogram2d\"}],\"histogram2dcontour\":[{\"colorbar\":{\"outlinewidth\":0,\"ticks\":\"\"},\"colorscale\":[[0.0,\"#0d0887\"],[0.1111111111111111,\"#46039f\"],[0.2222222222222222,\"#7201a8\"],[0.3333333333333333,\"#9c179e\"],[0.4444444444444444,\"#bd3786\"],[0.5555555555555556,\"#d8576b\"],[0.6666666666666666,\"#ed7953\"],[0.7777777777777778,\"#fb9f3a\"],[0.8888888888888888,\"#fdca26\"],[1.0,\"#f0f921\"]],\"type\":\"histogram2dcontour\"}],\"mesh3d\":[{\"colorbar\":{\"outlinewidth\":0,\"ticks\":\"\"},\"type\":\"mesh3d\"}],\"parcoords\":[{\"line\":{\"colorbar\":{\"outlinewidth\":0,\"ticks\":\"\"}},\"type\":\"parcoords\"}],\"pie\":[{\"automargin\":true,\"type\":\"pie\"}],\"scatter\":[{\"marker\":{\"colorbar\":{\"outlinewidth\":0,\"ticks\":\"\"}},\"type\":\"scatter\"}],\"scatter3d\":[{\"line\":{\"colorbar\":{\"outlinewidth\":0,\"ticks\":\"\"}},\"marker\":{\"colorbar\":{\"outlinewidth\":0,\"ticks\":\"\"}},\"type\":\"scatter3d\"}],\"scattercarpet\":[{\"marker\":{\"colorbar\":{\"outlinewidth\":0,\"ticks\":\"\"}},\"type\":\"scattercarpet\"}],\"scattergeo\":[{\"marker\":{\"colorbar\":{\"outlinewidth\":0,\"ticks\":\"\"}},\"type\":\"scattergeo\"}],\"scattergl\":[{\"marker\":{\"colorbar\":{\"outlinewidth\":0,\"ticks\":\"\"}},\"type\":\"scattergl\"}],\"scattermapbox\":[{\"marker\":{\"colorbar\":{\"outlinewidth\":0,\"ticks\":\"\"}},\"type\":\"scattermapbox\"}],\"scatterpolar\":[{\"marker\":{\"colorbar\":{\"outlinewidth\":0,\"ticks\":\"\"}},\"type\":\"scatterpolar\"}],\"scatterpolargl\":[{\"marker\":{\"colorbar\":{\"outlinewidth\":0,\"ticks\":\"\"}},\"type\":\"scatterpolargl\"}],\"scatterternary\":[{\"marker\":{\"colorbar\":{\"outlinewidth\":0,\"ticks\":\"\"}},\"type\":\"scatterternary\"}],\"surface\":[{\"colorbar\":{\"outlinewidth\":0,\"ticks\":\"\"},\"colorscale\":[[0.0,\"#0d0887\"],[0.1111111111111111,\"#46039f\"],[0.2222222222222222,\"#7201a8\"],[0.3333333333333333,\"#9c179e\"],[0.4444444444444444,\"#bd3786\"],[0.5555555555555556,\"#d8576b\"],[0.6666666666666666,\"#ed7953\"],[0.7777777777777778,\"#fb9f3a\"],[0.8888888888888888,\"#fdca26\"],[1.0,\"#f0f921\"]],\"type\":\"surface\"}],\"table\":[{\"cells\":{\"fill\":{\"color\":\"#EBF0F8\"},\"line\":{\"color\":\"white\"}},\"header\":{\"fill\":{\"color\":\"#C8D4E3\"},\"line\":{\"color\":\"white\"}},\"type\":\"table\"}]},\"layout\":{\"annotationdefaults\":{\"arrowcolor\":\"#2a3f5f\",\"arrowhead\":0,\"arrowwidth\":1},\"autotypenumbers\":\"strict\",\"coloraxis\":{\"colorbar\":{\"outlinewidth\":0,\"ticks\":\"\"}},\"colorscale\":{\"diverging\":[[0,\"#8e0152\"],[0.1,\"#c51b7d\"],[0.2,\"#de77ae\"],[0.3,\"#f1b6da\"],[0.4,\"#fde0ef\"],[0.5,\"#f7f7f7\"],[0.6,\"#e6f5d0\"],[0.7,\"#b8e186\"],[0.8,\"#7fbc41\"],[0.9,\"#4d9221\"],[1,\"#276419\"]],\"sequential\":[[0.0,\"#0d0887\"],[0.1111111111111111,\"#46039f\"],[0.2222222222222222,\"#7201a8\"],[0.3333333333333333,\"#9c179e\"],[0.4444444444444444,\"#bd3786\"],[0.5555555555555556,\"#d8576b\"],[0.6666666666666666,\"#ed7953\"],[0.7777777777777778,\"#fb9f3a\"],[0.8888888888888888,\"#fdca26\"],[1.0,\"#f0f921\"]],\"sequentialminus\":[[0.0,\"#0d0887\"],[0.1111111111111111,\"#46039f\"],[0.2222222222222222,\"#7201a8\"],[0.3333333333333333,\"#9c179e\"],[0.4444444444444444,\"#bd3786\"],[0.5555555555555556,\"#d8576b\"],[0.6666666666666666,\"#ed7953\"],[0.7777777777777778,\"#fb9f3a\"],[0.8888888888888888,\"#fdca26\"],[1.0,\"#f0f921\"]]},\"colorway\":[\"#636efa\",\"#EF553B\",\"#00cc96\",\"#ab63fa\",\"#FFA15A\",\"#19d3f3\",\"#FF6692\",\"#B6E880\",\"#FF97FF\",\"#FECB52\"],\"font\":{\"color\":\"#2a3f5f\"},\"geo\":{\"bgcolor\":\"white\",\"lakecolor\":\"white\",\"landcolor\":\"#E5ECF6\",\"showlakes\":true,\"showland\":true,\"subunitcolor\":\"white\"},\"hoverlabel\":{\"align\":\"left\"},\"hovermode\":\"closest\",\"mapbox\":{\"style\":\"light\"},\"paper_bgcolor\":\"white\",\"plot_bgcolor\":\"#E5ECF6\",\"polar\":{\"angularaxis\":{\"gridcolor\":\"white\",\"linecolor\":\"white\",\"ticks\":\"\"},\"bgcolor\":\"#E5ECF6\",\"radialaxis\":{\"gridcolor\":\"white\",\"linecolor\":\"white\",\"ticks\":\"\"}},\"scene\":{\"xaxis\":{\"backgroundcolor\":\"#E5ECF6\",\"gridcolor\":\"white\",\"gridwidth\":2,\"linecolor\":\"white\",\"showbackground\":true,\"ticks\":\"\",\"zerolinecolor\":\"white\"},\"yaxis\":{\"backgroundcolor\":\"#E5ECF6\",\"gridcolor\":\"white\",\"gridwidth\":2,\"linecolor\":\"white\",\"showbackground\":true,\"ticks\":\"\",\"zerolinecolor\":\"white\"},\"zaxis\":{\"backgroundcolor\":\"#E5ECF6\",\"gridcolor\":\"white\",\"gridwidth\":2,\"linecolor\":\"white\",\"showbackground\":true,\"ticks\":\"\",\"zerolinecolor\":\"white\"}},\"shapedefaults\":{\"line\":{\"color\":\"#2a3f5f\"}},\"ternary\":{\"aaxis\":{\"gridcolor\":\"white\",\"linecolor\":\"white\",\"ticks\":\"\"},\"baxis\":{\"gridcolor\":\"white\",\"linecolor\":\"white\",\"ticks\":\"\"},\"bgcolor\":\"#E5ECF6\",\"caxis\":{\"gridcolor\":\"white\",\"linecolor\":\"white\",\"ticks\":\"\"}},\"title\":{\"x\":0.05},\"xaxis\":{\"automargin\":true,\"gridcolor\":\"white\",\"linecolor\":\"white\",\"ticks\":\"\",\"title\":{\"standoff\":15},\"zerolinecolor\":\"white\",\"zerolinewidth\":2},\"yaxis\":{\"automargin\":true,\"gridcolor\":\"white\",\"linecolor\":\"white\",\"ticks\":\"\",\"title\":{\"standoff\":15},\"zerolinecolor\":\"white\",\"zerolinewidth\":2}}},\"title\":{\"text\":\"Comparision between original vs predicted GDP\"},\"xaxis\":{\"anchor\":\"y\",\"domain\":[0.0,1.0],\"showgrid\":false,\"title\":{\"text\":\"Date\"}},\"yaxis\":{\"anchor\":\"x\",\"domain\":[0.0,1.0],\"showgrid\":false,\"title\":{\"text\":\"GDP\"}}},                        {\"responsive\": true}                    ).then(function(){\n",
       "                            \n",
       "var gd = document.getElementById('04f48dc2-2497-40b8-a64b-13ce4604baa5');\n",
       "var x = new MutationObserver(function (mutations, observer) {{\n",
       "        var display = window.getComputedStyle(gd).display;\n",
       "        if (!display || display === 'none') {{\n",
       "            console.log([gd, 'removed!']);\n",
       "            Plotly.purge(gd);\n",
       "            observer.disconnect();\n",
       "        }}\n",
       "}});\n",
       "\n",
       "// Listen for the removal of the full notebook cells\n",
       "var notebookContainer = gd.closest('#notebook-container');\n",
       "if (notebookContainer) {{\n",
       "    x.observe(notebookContainer, {childList: true});\n",
       "}}\n",
       "\n",
       "// Listen for the clearing of the current output cell\n",
       "var outputEl = gd.closest('.output');\n",
       "if (outputEl) {{\n",
       "    x.observe(outputEl, {childList: true});\n",
       "}}\n",
       "\n",
       "                        })                };                });            </script>        </div>"
      ]
     },
     "metadata": {},
     "output_type": "display_data"
    }
   ],
   "source": [
    "# shift train predictions for plotting\n",
    "\n",
    "look_back=time_step\n",
    "trainPredictPlot = np.empty_like(closedf)\n",
    "trainPredictPlot[:, :] = np.nan\n",
    "trainPredictPlot[look_back:len(train_predict)+look_back, :] = train_predict\n",
    "print(\"Train predicted data: \", trainPredictPlot.shape)\n",
    "\n",
    "# shift test predictions for plotting\n",
    "testPredictPlot = np.empty_like(closedf)\n",
    "testPredictPlot[:, :] = np.nan\n",
    "testPredictPlot[len(train_predict)+(look_back*2)+1:len(closedf)-1, :] = test_predict\n",
    "print(\"Test predicted data: \", testPredictPlot.shape)\n",
    "\n",
    "from itertools import cycle\n",
    "names = cycle(['Original GDP','Train predicted GDP','Test predicted GDP'])\n",
    "\n",
    "\n",
    "plotdf = pd.DataFrame({'date': df['Date'],\n",
    "                       'original': df['GDP'],\n",
    "                      'train_predicted_close': trainPredictPlot.reshape(1,-1)[0].tolist(),\n",
    "                      'test_predicted_close': testPredictPlot.reshape(1,-1)[0].tolist()})\n",
    "\n",
    "fig = px.line(plotdf,x=plotdf['date'], y=[plotdf['original'],plotdf['train_predicted_close'],\n",
    "                                          plotdf['test_predicted_close']],\n",
    "              labels={'value':'GDP','date': 'Date'})\n",
    "fig.update_layout(title_text='Comparision between original vs predicted GDP',\n",
    "                  plot_bgcolor='white', font_size=15, font_color='black', legend_title_text='Close Price')\n",
    "fig.for_each_trace(lambda t:  t.update(name = next(names)))\n",
    "\n",
    "fig.update_xaxes(showgrid=False)\n",
    "fig.update_yaxes(showgrid=False)\n",
    "fig.show()"
   ]
  },
  {
   "cell_type": "code",
   "execution_count": 257,
   "metadata": {},
   "outputs": [
    {
     "data": {
      "application/vnd.plotly.v1+json": {
       "config": {
        "plotlyServerURL": "https://plot.ly"
       },
       "data": [
        {
         "hovertemplate": "variable=0<br>Timestamp=%{x}<br>GDP=%{y}<extra></extra>",
         "legendgroup": "0",
         "line": {
          "color": "#636efa",
          "dash": "solid"
         },
         "marker": {
          "symbol": "circle"
         },
         "mode": "lines",
         "name": "GDP",
         "orientation": "v",
         "showlegend": true,
         "type": "scatter",
         "x": [
          0,
          1,
          2,
          3,
          4,
          5,
          6,
          7,
          8,
          9,
          10,
          11,
          12,
          13,
          14,
          15,
          16,
          17,
          18,
          19,
          20,
          21,
          22,
          23,
          24,
          25,
          26,
          27,
          28,
          29,
          30,
          31,
          32,
          33,
          34,
          35,
          36,
          37,
          38,
          39,
          40,
          41,
          42,
          43,
          44,
          45,
          46,
          47,
          48,
          49,
          50,
          51,
          52,
          53,
          54,
          55,
          56,
          57,
          58,
          59,
          60,
          61,
          62,
          63,
          64,
          65,
          66,
          67,
          68,
          69,
          70,
          71,
          72,
          73,
          74,
          75,
          76,
          77,
          78,
          79,
          80,
          81,
          82,
          83,
          84,
          85,
          86,
          87,
          88,
          89,
          90,
          91,
          92,
          93,
          94,
          95,
          96,
          97,
          98,
          99,
          100,
          101,
          102,
          103,
          104,
          105,
          106,
          107,
          108,
          109,
          110,
          111,
          112,
          113,
          114,
          115,
          116,
          117
         ],
         "xaxis": "x",
         "y": [
          8.568418483491683,
          8.777139149521213,
          8.88080799870062,
          9.01855012831997,
          8.82975322513392,
          9.030854790001436,
          9.146953187795779,
          9.314330949697387,
          9.14581251744839,
          9.348448774093812,
          9.462498888358917,
          9.61000871123717,
          9.401927206546171,
          9.589659979229449,
          9.690548012766707,
          9.822884688004029,
          9.590692779269272,
          9.749607669373477,
          9.83122863905005,
          9.972659074730759,
          9.72251109069621,
          9.860767925315967,
          9.92822406660184,
          10.058844647209407,
          9.800851101022056,
          9.918208663317522,
          9.988545355876102,
          10.129594708034045,
          9.871062496510973,
          9.978952104119747,
          10.045455754980866,
          10.188061048366206,
          9.96786512322187,
          10.08761580959715,
          10.154732533961212,
          10.281728763721851,
          10.089402644840213,
          10.193414603137649,
          10.251793070333063,
          10.364601787935946,
          10.177134086023445,
          10.281745890206077,
          10.350008227884317,
          10.462254408802437,
          10.303119011284942,
          10.390142402530184,
          10.471408754834638,
          10.590802760153148,
          10.450006521756132,
          10.56361555063884,
          10.641966543094156,
          10.752351329093536,
          10.607903501359239,
          10.709809388683965,
          10.779951627710286,
          10.897198479378416,
          10.759580196615278,
          10.871863964777127,
          10.93426165994871,
          11.060708314311007,
          10.953597385642714,
          11.078776891401473,
          11.148824444423333,
          11.273008269355648,
          11.147261670664934,
          11.273548359633745,
          11.320069818969348,
          11.39300389427696,
          11.211539251594534,
          11.336973181223643,
          11.405862389668808,
          11.521149554250135,
          11.379408929378197,
          11.506378077531833,
          11.570851861613654,
          11.689453605623394,
          11.556654270618498,
          11.686003599325709,
          11.748489165909815,
          11.835096641454994,
          11.67298096271001,
          11.785396940596867,
          11.835658028813604,
          11.93039819220267,
          11.771046895178772,
          11.874220619280585,
          11.933099859149294,
          12.030362981915275,
          11.854810170576314,
          11.96074483308008,
          12.016634022395847,
          12.105306559299084,
          11.925947944075642,
          12.03498594077335,
          12.081629543284627,
          12.16823006231944,
          11.997879281168649,
          12.108505019610634,
          12.160084202871044,
          12.262293230857516,
          12.11103477864532,
          12.215776906506672,
          12.26805775323056,
          12.369163386512597,
          12.21619969344123,
          12.319232566597293,
          12.365101265979783,
          12.46384523050753,
          12.288427907955786,
          12.39463551806236,
          12.433392663254265,
          12.531043277266022,
          12.234305326142541,
          12.425148334298969,
          12.48739566700664,
          12.599120308626903,
          12.426452782128628,
          12.5526981627059
         ],
         "yaxis": "y"
        }
       ],
       "layout": {
        "font": {
         "color": "black",
         "size": 15
        },
        "legend": {
         "title": {
          "text": "Seasonal GDP"
         },
         "tracegroupgap": 0
        },
        "margin": {
         "t": 60
        },
        "plot_bgcolor": "white",
        "template": {
         "data": {
          "bar": [
           {
            "error_x": {
             "color": "#2a3f5f"
            },
            "error_y": {
             "color": "#2a3f5f"
            },
            "marker": {
             "line": {
              "color": "#E5ECF6",
              "width": 0.5
             },
             "pattern": {
              "fillmode": "overlay",
              "size": 10,
              "solidity": 0.2
             }
            },
            "type": "bar"
           }
          ],
          "barpolar": [
           {
            "marker": {
             "line": {
              "color": "#E5ECF6",
              "width": 0.5
             },
             "pattern": {
              "fillmode": "overlay",
              "size": 10,
              "solidity": 0.2
             }
            },
            "type": "barpolar"
           }
          ],
          "carpet": [
           {
            "aaxis": {
             "endlinecolor": "#2a3f5f",
             "gridcolor": "white",
             "linecolor": "white",
             "minorgridcolor": "white",
             "startlinecolor": "#2a3f5f"
            },
            "baxis": {
             "endlinecolor": "#2a3f5f",
             "gridcolor": "white",
             "linecolor": "white",
             "minorgridcolor": "white",
             "startlinecolor": "#2a3f5f"
            },
            "type": "carpet"
           }
          ],
          "choropleth": [
           {
            "colorbar": {
             "outlinewidth": 0,
             "ticks": ""
            },
            "type": "choropleth"
           }
          ],
          "contour": [
           {
            "colorbar": {
             "outlinewidth": 0,
             "ticks": ""
            },
            "colorscale": [
             [
              0,
              "#0d0887"
             ],
             [
              0.1111111111111111,
              "#46039f"
             ],
             [
              0.2222222222222222,
              "#7201a8"
             ],
             [
              0.3333333333333333,
              "#9c179e"
             ],
             [
              0.4444444444444444,
              "#bd3786"
             ],
             [
              0.5555555555555556,
              "#d8576b"
             ],
             [
              0.6666666666666666,
              "#ed7953"
             ],
             [
              0.7777777777777778,
              "#fb9f3a"
             ],
             [
              0.8888888888888888,
              "#fdca26"
             ],
             [
              1,
              "#f0f921"
             ]
            ],
            "type": "contour"
           }
          ],
          "contourcarpet": [
           {
            "colorbar": {
             "outlinewidth": 0,
             "ticks": ""
            },
            "type": "contourcarpet"
           }
          ],
          "heatmap": [
           {
            "colorbar": {
             "outlinewidth": 0,
             "ticks": ""
            },
            "colorscale": [
             [
              0,
              "#0d0887"
             ],
             [
              0.1111111111111111,
              "#46039f"
             ],
             [
              0.2222222222222222,
              "#7201a8"
             ],
             [
              0.3333333333333333,
              "#9c179e"
             ],
             [
              0.4444444444444444,
              "#bd3786"
             ],
             [
              0.5555555555555556,
              "#d8576b"
             ],
             [
              0.6666666666666666,
              "#ed7953"
             ],
             [
              0.7777777777777778,
              "#fb9f3a"
             ],
             [
              0.8888888888888888,
              "#fdca26"
             ],
             [
              1,
              "#f0f921"
             ]
            ],
            "type": "heatmap"
           }
          ],
          "heatmapgl": [
           {
            "colorbar": {
             "outlinewidth": 0,
             "ticks": ""
            },
            "colorscale": [
             [
              0,
              "#0d0887"
             ],
             [
              0.1111111111111111,
              "#46039f"
             ],
             [
              0.2222222222222222,
              "#7201a8"
             ],
             [
              0.3333333333333333,
              "#9c179e"
             ],
             [
              0.4444444444444444,
              "#bd3786"
             ],
             [
              0.5555555555555556,
              "#d8576b"
             ],
             [
              0.6666666666666666,
              "#ed7953"
             ],
             [
              0.7777777777777778,
              "#fb9f3a"
             ],
             [
              0.8888888888888888,
              "#fdca26"
             ],
             [
              1,
              "#f0f921"
             ]
            ],
            "type": "heatmapgl"
           }
          ],
          "histogram": [
           {
            "marker": {
             "pattern": {
              "fillmode": "overlay",
              "size": 10,
              "solidity": 0.2
             }
            },
            "type": "histogram"
           }
          ],
          "histogram2d": [
           {
            "colorbar": {
             "outlinewidth": 0,
             "ticks": ""
            },
            "colorscale": [
             [
              0,
              "#0d0887"
             ],
             [
              0.1111111111111111,
              "#46039f"
             ],
             [
              0.2222222222222222,
              "#7201a8"
             ],
             [
              0.3333333333333333,
              "#9c179e"
             ],
             [
              0.4444444444444444,
              "#bd3786"
             ],
             [
              0.5555555555555556,
              "#d8576b"
             ],
             [
              0.6666666666666666,
              "#ed7953"
             ],
             [
              0.7777777777777778,
              "#fb9f3a"
             ],
             [
              0.8888888888888888,
              "#fdca26"
             ],
             [
              1,
              "#f0f921"
             ]
            ],
            "type": "histogram2d"
           }
          ],
          "histogram2dcontour": [
           {
            "colorbar": {
             "outlinewidth": 0,
             "ticks": ""
            },
            "colorscale": [
             [
              0,
              "#0d0887"
             ],
             [
              0.1111111111111111,
              "#46039f"
             ],
             [
              0.2222222222222222,
              "#7201a8"
             ],
             [
              0.3333333333333333,
              "#9c179e"
             ],
             [
              0.4444444444444444,
              "#bd3786"
             ],
             [
              0.5555555555555556,
              "#d8576b"
             ],
             [
              0.6666666666666666,
              "#ed7953"
             ],
             [
              0.7777777777777778,
              "#fb9f3a"
             ],
             [
              0.8888888888888888,
              "#fdca26"
             ],
             [
              1,
              "#f0f921"
             ]
            ],
            "type": "histogram2dcontour"
           }
          ],
          "mesh3d": [
           {
            "colorbar": {
             "outlinewidth": 0,
             "ticks": ""
            },
            "type": "mesh3d"
           }
          ],
          "parcoords": [
           {
            "line": {
             "colorbar": {
              "outlinewidth": 0,
              "ticks": ""
             }
            },
            "type": "parcoords"
           }
          ],
          "pie": [
           {
            "automargin": true,
            "type": "pie"
           }
          ],
          "scatter": [
           {
            "marker": {
             "colorbar": {
              "outlinewidth": 0,
              "ticks": ""
             }
            },
            "type": "scatter"
           }
          ],
          "scatter3d": [
           {
            "line": {
             "colorbar": {
              "outlinewidth": 0,
              "ticks": ""
             }
            },
            "marker": {
             "colorbar": {
              "outlinewidth": 0,
              "ticks": ""
             }
            },
            "type": "scatter3d"
           }
          ],
          "scattercarpet": [
           {
            "marker": {
             "colorbar": {
              "outlinewidth": 0,
              "ticks": ""
             }
            },
            "type": "scattercarpet"
           }
          ],
          "scattergeo": [
           {
            "marker": {
             "colorbar": {
              "outlinewidth": 0,
              "ticks": ""
             }
            },
            "type": "scattergeo"
           }
          ],
          "scattergl": [
           {
            "marker": {
             "colorbar": {
              "outlinewidth": 0,
              "ticks": ""
             }
            },
            "type": "scattergl"
           }
          ],
          "scattermapbox": [
           {
            "marker": {
             "colorbar": {
              "outlinewidth": 0,
              "ticks": ""
             }
            },
            "type": "scattermapbox"
           }
          ],
          "scatterpolar": [
           {
            "marker": {
             "colorbar": {
              "outlinewidth": 0,
              "ticks": ""
             }
            },
            "type": "scatterpolar"
           }
          ],
          "scatterpolargl": [
           {
            "marker": {
             "colorbar": {
              "outlinewidth": 0,
              "ticks": ""
             }
            },
            "type": "scatterpolargl"
           }
          ],
          "scatterternary": [
           {
            "marker": {
             "colorbar": {
              "outlinewidth": 0,
              "ticks": ""
             }
            },
            "type": "scatterternary"
           }
          ],
          "surface": [
           {
            "colorbar": {
             "outlinewidth": 0,
             "ticks": ""
            },
            "colorscale": [
             [
              0,
              "#0d0887"
             ],
             [
              0.1111111111111111,
              "#46039f"
             ],
             [
              0.2222222222222222,
              "#7201a8"
             ],
             [
              0.3333333333333333,
              "#9c179e"
             ],
             [
              0.4444444444444444,
              "#bd3786"
             ],
             [
              0.5555555555555556,
              "#d8576b"
             ],
             [
              0.6666666666666666,
              "#ed7953"
             ],
             [
              0.7777777777777778,
              "#fb9f3a"
             ],
             [
              0.8888888888888888,
              "#fdca26"
             ],
             [
              1,
              "#f0f921"
             ]
            ],
            "type": "surface"
           }
          ],
          "table": [
           {
            "cells": {
             "fill": {
              "color": "#EBF0F8"
             },
             "line": {
              "color": "white"
             }
            },
            "header": {
             "fill": {
              "color": "#C8D4E3"
             },
             "line": {
              "color": "white"
             }
            },
            "type": "table"
           }
          ]
         },
         "layout": {
          "annotationdefaults": {
           "arrowcolor": "#2a3f5f",
           "arrowhead": 0,
           "arrowwidth": 1
          },
          "autotypenumbers": "strict",
          "coloraxis": {
           "colorbar": {
            "outlinewidth": 0,
            "ticks": ""
           }
          },
          "colorscale": {
           "diverging": [
            [
             0,
             "#8e0152"
            ],
            [
             0.1,
             "#c51b7d"
            ],
            [
             0.2,
             "#de77ae"
            ],
            [
             0.3,
             "#f1b6da"
            ],
            [
             0.4,
             "#fde0ef"
            ],
            [
             0.5,
             "#f7f7f7"
            ],
            [
             0.6,
             "#e6f5d0"
            ],
            [
             0.7,
             "#b8e186"
            ],
            [
             0.8,
             "#7fbc41"
            ],
            [
             0.9,
             "#4d9221"
            ],
            [
             1,
             "#276419"
            ]
           ],
           "sequential": [
            [
             0,
             "#0d0887"
            ],
            [
             0.1111111111111111,
             "#46039f"
            ],
            [
             0.2222222222222222,
             "#7201a8"
            ],
            [
             0.3333333333333333,
             "#9c179e"
            ],
            [
             0.4444444444444444,
             "#bd3786"
            ],
            [
             0.5555555555555556,
             "#d8576b"
            ],
            [
             0.6666666666666666,
             "#ed7953"
            ],
            [
             0.7777777777777778,
             "#fb9f3a"
            ],
            [
             0.8888888888888888,
             "#fdca26"
            ],
            [
             1,
             "#f0f921"
            ]
           ],
           "sequentialminus": [
            [
             0,
             "#0d0887"
            ],
            [
             0.1111111111111111,
             "#46039f"
            ],
            [
             0.2222222222222222,
             "#7201a8"
            ],
            [
             0.3333333333333333,
             "#9c179e"
            ],
            [
             0.4444444444444444,
             "#bd3786"
            ],
            [
             0.5555555555555556,
             "#d8576b"
            ],
            [
             0.6666666666666666,
             "#ed7953"
            ],
            [
             0.7777777777777778,
             "#fb9f3a"
            ],
            [
             0.8888888888888888,
             "#fdca26"
            ],
            [
             1,
             "#f0f921"
            ]
           ]
          },
          "colorway": [
           "#636efa",
           "#EF553B",
           "#00cc96",
           "#ab63fa",
           "#FFA15A",
           "#19d3f3",
           "#FF6692",
           "#B6E880",
           "#FF97FF",
           "#FECB52"
          ],
          "font": {
           "color": "#2a3f5f"
          },
          "geo": {
           "bgcolor": "white",
           "lakecolor": "white",
           "landcolor": "#E5ECF6",
           "showlakes": true,
           "showland": true,
           "subunitcolor": "white"
          },
          "hoverlabel": {
           "align": "left"
          },
          "hovermode": "closest",
          "mapbox": {
           "style": "light"
          },
          "paper_bgcolor": "white",
          "plot_bgcolor": "#E5ECF6",
          "polar": {
           "angularaxis": {
            "gridcolor": "white",
            "linecolor": "white",
            "ticks": ""
           },
           "bgcolor": "#E5ECF6",
           "radialaxis": {
            "gridcolor": "white",
            "linecolor": "white",
            "ticks": ""
           }
          },
          "scene": {
           "xaxis": {
            "backgroundcolor": "#E5ECF6",
            "gridcolor": "white",
            "gridwidth": 2,
            "linecolor": "white",
            "showbackground": true,
            "ticks": "",
            "zerolinecolor": "white"
           },
           "yaxis": {
            "backgroundcolor": "#E5ECF6",
            "gridcolor": "white",
            "gridwidth": 2,
            "linecolor": "white",
            "showbackground": true,
            "ticks": "",
            "zerolinecolor": "white"
           },
           "zaxis": {
            "backgroundcolor": "#E5ECF6",
            "gridcolor": "white",
            "gridwidth": 2,
            "linecolor": "white",
            "showbackground": true,
            "ticks": "",
            "zerolinecolor": "white"
           }
          },
          "shapedefaults": {
           "line": {
            "color": "#2a3f5f"
           }
          },
          "ternary": {
           "aaxis": {
            "gridcolor": "white",
            "linecolor": "white",
            "ticks": ""
           },
           "baxis": {
            "gridcolor": "white",
            "linecolor": "white",
            "ticks": ""
           },
           "bgcolor": "#E5ECF6",
           "caxis": {
            "gridcolor": "white",
            "linecolor": "white",
            "ticks": ""
           }
          },
          "title": {
           "x": 0.05
          },
          "xaxis": {
           "automargin": true,
           "gridcolor": "white",
           "linecolor": "white",
           "ticks": "",
           "title": {
            "standoff": 15
           },
           "zerolinecolor": "white",
           "zerolinewidth": 2
          },
          "yaxis": {
           "automargin": true,
           "gridcolor": "white",
           "linecolor": "white",
           "ticks": "",
           "title": {
            "standoff": 15
           },
           "zerolinecolor": "white",
           "zerolinewidth": 2
          }
         }
        },
        "title": {
         "text": "Plotting entire GDP with prediction"
        },
        "xaxis": {
         "anchor": "y",
         "domain": [
          0,
          1
         ],
         "showgrid": false,
         "title": {
          "text": "Timestamp"
         }
        },
        "yaxis": {
         "anchor": "x",
         "domain": [
          0,
          1
         ],
         "showgrid": false,
         "title": {
          "text": "GDP"
         }
        }
       }
      },
      "text/html": [
       "<div>                            <div id=\"28b652c7-c279-4481-8c7d-3731cc444b7b\" class=\"plotly-graph-div\" style=\"height:525px; width:100%;\"></div>            <script type=\"text/javascript\">                require([\"plotly\"], function(Plotly) {                    window.PLOTLYENV=window.PLOTLYENV || {};                                    if (document.getElementById(\"28b652c7-c279-4481-8c7d-3731cc444b7b\")) {                    Plotly.newPlot(                        \"28b652c7-c279-4481-8c7d-3731cc444b7b\",                        [{\"hovertemplate\":\"variable=0<br>Timestamp=%{x}<br>GDP=%{y}<extra></extra>\",\"legendgroup\":\"0\",\"line\":{\"color\":\"#636efa\",\"dash\":\"solid\"},\"marker\":{\"symbol\":\"circle\"},\"mode\":\"lines\",\"name\":\"GDP\",\"orientation\":\"v\",\"showlegend\":true,\"type\":\"scatter\",\"x\":[0,1,2,3,4,5,6,7,8,9,10,11,12,13,14,15,16,17,18,19,20,21,22,23,24,25,26,27,28,29,30,31,32,33,34,35,36,37,38,39,40,41,42,43,44,45,46,47,48,49,50,51,52,53,54,55,56,57,58,59,60,61,62,63,64,65,66,67,68,69,70,71,72,73,74,75,76,77,78,79,80,81,82,83,84,85,86,87,88,89,90,91,92,93,94,95,96,97,98,99,100,101,102,103,104,105,106,107,108,109,110,111,112,113,114,115,116,117],\"xaxis\":\"x\",\"y\":[8.568418483491683,8.777139149521213,8.88080799870062,9.01855012831997,8.82975322513392,9.030854790001436,9.146953187795779,9.314330949697387,9.14581251744839,9.348448774093812,9.462498888358917,9.61000871123717,9.401927206546171,9.589659979229449,9.690548012766707,9.822884688004029,9.590692779269272,9.749607669373477,9.83122863905005,9.972659074730759,9.72251109069621,9.860767925315967,9.92822406660184,10.058844647209407,9.800851101022056,9.918208663317522,9.988545355876102,10.129594708034045,9.871062496510973,9.978952104119747,10.045455754980866,10.188061048366206,9.96786512322187,10.08761580959715,10.154732533961212,10.281728763721851,10.089402644840213,10.193414603137649,10.251793070333063,10.364601787935946,10.177134086023445,10.281745890206077,10.350008227884317,10.462254408802437,10.303119011284942,10.390142402530184,10.471408754834638,10.590802760153148,10.450006521756132,10.56361555063884,10.641966543094156,10.752351329093536,10.607903501359239,10.709809388683965,10.779951627710286,10.897198479378416,10.759580196615278,10.871863964777127,10.93426165994871,11.060708314311007,10.953597385642714,11.078776891401473,11.148824444423333,11.273008269355648,11.147261670664934,11.273548359633745,11.320069818969348,11.39300389427696,11.211539251594534,11.336973181223643,11.405862389668808,11.521149554250135,11.379408929378197,11.506378077531833,11.570851861613654,11.689453605623394,11.556654270618498,11.686003599325709,11.748489165909815,11.835096641454994,11.67298096271001,11.785396940596867,11.835658028813604,11.93039819220267,11.771046895178772,11.874220619280585,11.933099859149294,12.030362981915275,11.854810170576314,11.96074483308008,12.016634022395847,12.105306559299084,11.925947944075642,12.03498594077335,12.081629543284627,12.16823006231944,11.997879281168649,12.108505019610634,12.160084202871044,12.262293230857516,12.11103477864532,12.215776906506672,12.26805775323056,12.369163386512597,12.21619969344123,12.319232566597293,12.365101265979783,12.46384523050753,12.288427907955786,12.39463551806236,12.433392663254265,12.531043277266022,12.234305326142541,12.425148334298969,12.48739566700664,12.599120308626903,12.426452782128628,12.5526981627059],\"yaxis\":\"y\"}],                        {\"font\":{\"color\":\"black\",\"size\":15},\"legend\":{\"title\":{\"text\":\"Seasonal GDP\"},\"tracegroupgap\":0},\"margin\":{\"t\":60},\"plot_bgcolor\":\"white\",\"template\":{\"data\":{\"bar\":[{\"error_x\":{\"color\":\"#2a3f5f\"},\"error_y\":{\"color\":\"#2a3f5f\"},\"marker\":{\"line\":{\"color\":\"#E5ECF6\",\"width\":0.5},\"pattern\":{\"fillmode\":\"overlay\",\"size\":10,\"solidity\":0.2}},\"type\":\"bar\"}],\"barpolar\":[{\"marker\":{\"line\":{\"color\":\"#E5ECF6\",\"width\":0.5},\"pattern\":{\"fillmode\":\"overlay\",\"size\":10,\"solidity\":0.2}},\"type\":\"barpolar\"}],\"carpet\":[{\"aaxis\":{\"endlinecolor\":\"#2a3f5f\",\"gridcolor\":\"white\",\"linecolor\":\"white\",\"minorgridcolor\":\"white\",\"startlinecolor\":\"#2a3f5f\"},\"baxis\":{\"endlinecolor\":\"#2a3f5f\",\"gridcolor\":\"white\",\"linecolor\":\"white\",\"minorgridcolor\":\"white\",\"startlinecolor\":\"#2a3f5f\"},\"type\":\"carpet\"}],\"choropleth\":[{\"colorbar\":{\"outlinewidth\":0,\"ticks\":\"\"},\"type\":\"choropleth\"}],\"contour\":[{\"colorbar\":{\"outlinewidth\":0,\"ticks\":\"\"},\"colorscale\":[[0.0,\"#0d0887\"],[0.1111111111111111,\"#46039f\"],[0.2222222222222222,\"#7201a8\"],[0.3333333333333333,\"#9c179e\"],[0.4444444444444444,\"#bd3786\"],[0.5555555555555556,\"#d8576b\"],[0.6666666666666666,\"#ed7953\"],[0.7777777777777778,\"#fb9f3a\"],[0.8888888888888888,\"#fdca26\"],[1.0,\"#f0f921\"]],\"type\":\"contour\"}],\"contourcarpet\":[{\"colorbar\":{\"outlinewidth\":0,\"ticks\":\"\"},\"type\":\"contourcarpet\"}],\"heatmap\":[{\"colorbar\":{\"outlinewidth\":0,\"ticks\":\"\"},\"colorscale\":[[0.0,\"#0d0887\"],[0.1111111111111111,\"#46039f\"],[0.2222222222222222,\"#7201a8\"],[0.3333333333333333,\"#9c179e\"],[0.4444444444444444,\"#bd3786\"],[0.5555555555555556,\"#d8576b\"],[0.6666666666666666,\"#ed7953\"],[0.7777777777777778,\"#fb9f3a\"],[0.8888888888888888,\"#fdca26\"],[1.0,\"#f0f921\"]],\"type\":\"heatmap\"}],\"heatmapgl\":[{\"colorbar\":{\"outlinewidth\":0,\"ticks\":\"\"},\"colorscale\":[[0.0,\"#0d0887\"],[0.1111111111111111,\"#46039f\"],[0.2222222222222222,\"#7201a8\"],[0.3333333333333333,\"#9c179e\"],[0.4444444444444444,\"#bd3786\"],[0.5555555555555556,\"#d8576b\"],[0.6666666666666666,\"#ed7953\"],[0.7777777777777778,\"#fb9f3a\"],[0.8888888888888888,\"#fdca26\"],[1.0,\"#f0f921\"]],\"type\":\"heatmapgl\"}],\"histogram\":[{\"marker\":{\"pattern\":{\"fillmode\":\"overlay\",\"size\":10,\"solidity\":0.2}},\"type\":\"histogram\"}],\"histogram2d\":[{\"colorbar\":{\"outlinewidth\":0,\"ticks\":\"\"},\"colorscale\":[[0.0,\"#0d0887\"],[0.1111111111111111,\"#46039f\"],[0.2222222222222222,\"#7201a8\"],[0.3333333333333333,\"#9c179e\"],[0.4444444444444444,\"#bd3786\"],[0.5555555555555556,\"#d8576b\"],[0.6666666666666666,\"#ed7953\"],[0.7777777777777778,\"#fb9f3a\"],[0.8888888888888888,\"#fdca26\"],[1.0,\"#f0f921\"]],\"type\":\"histogram2d\"}],\"histogram2dcontour\":[{\"colorbar\":{\"outlinewidth\":0,\"ticks\":\"\"},\"colorscale\":[[0.0,\"#0d0887\"],[0.1111111111111111,\"#46039f\"],[0.2222222222222222,\"#7201a8\"],[0.3333333333333333,\"#9c179e\"],[0.4444444444444444,\"#bd3786\"],[0.5555555555555556,\"#d8576b\"],[0.6666666666666666,\"#ed7953\"],[0.7777777777777778,\"#fb9f3a\"],[0.8888888888888888,\"#fdca26\"],[1.0,\"#f0f921\"]],\"type\":\"histogram2dcontour\"}],\"mesh3d\":[{\"colorbar\":{\"outlinewidth\":0,\"ticks\":\"\"},\"type\":\"mesh3d\"}],\"parcoords\":[{\"line\":{\"colorbar\":{\"outlinewidth\":0,\"ticks\":\"\"}},\"type\":\"parcoords\"}],\"pie\":[{\"automargin\":true,\"type\":\"pie\"}],\"scatter\":[{\"marker\":{\"colorbar\":{\"outlinewidth\":0,\"ticks\":\"\"}},\"type\":\"scatter\"}],\"scatter3d\":[{\"line\":{\"colorbar\":{\"outlinewidth\":0,\"ticks\":\"\"}},\"marker\":{\"colorbar\":{\"outlinewidth\":0,\"ticks\":\"\"}},\"type\":\"scatter3d\"}],\"scattercarpet\":[{\"marker\":{\"colorbar\":{\"outlinewidth\":0,\"ticks\":\"\"}},\"type\":\"scattercarpet\"}],\"scattergeo\":[{\"marker\":{\"colorbar\":{\"outlinewidth\":0,\"ticks\":\"\"}},\"type\":\"scattergeo\"}],\"scattergl\":[{\"marker\":{\"colorbar\":{\"outlinewidth\":0,\"ticks\":\"\"}},\"type\":\"scattergl\"}],\"scattermapbox\":[{\"marker\":{\"colorbar\":{\"outlinewidth\":0,\"ticks\":\"\"}},\"type\":\"scattermapbox\"}],\"scatterpolar\":[{\"marker\":{\"colorbar\":{\"outlinewidth\":0,\"ticks\":\"\"}},\"type\":\"scatterpolar\"}],\"scatterpolargl\":[{\"marker\":{\"colorbar\":{\"outlinewidth\":0,\"ticks\":\"\"}},\"type\":\"scatterpolargl\"}],\"scatterternary\":[{\"marker\":{\"colorbar\":{\"outlinewidth\":0,\"ticks\":\"\"}},\"type\":\"scatterternary\"}],\"surface\":[{\"colorbar\":{\"outlinewidth\":0,\"ticks\":\"\"},\"colorscale\":[[0.0,\"#0d0887\"],[0.1111111111111111,\"#46039f\"],[0.2222222222222222,\"#7201a8\"],[0.3333333333333333,\"#9c179e\"],[0.4444444444444444,\"#bd3786\"],[0.5555555555555556,\"#d8576b\"],[0.6666666666666666,\"#ed7953\"],[0.7777777777777778,\"#fb9f3a\"],[0.8888888888888888,\"#fdca26\"],[1.0,\"#f0f921\"]],\"type\":\"surface\"}],\"table\":[{\"cells\":{\"fill\":{\"color\":\"#EBF0F8\"},\"line\":{\"color\":\"white\"}},\"header\":{\"fill\":{\"color\":\"#C8D4E3\"},\"line\":{\"color\":\"white\"}},\"type\":\"table\"}]},\"layout\":{\"annotationdefaults\":{\"arrowcolor\":\"#2a3f5f\",\"arrowhead\":0,\"arrowwidth\":1},\"autotypenumbers\":\"strict\",\"coloraxis\":{\"colorbar\":{\"outlinewidth\":0,\"ticks\":\"\"}},\"colorscale\":{\"diverging\":[[0,\"#8e0152\"],[0.1,\"#c51b7d\"],[0.2,\"#de77ae\"],[0.3,\"#f1b6da\"],[0.4,\"#fde0ef\"],[0.5,\"#f7f7f7\"],[0.6,\"#e6f5d0\"],[0.7,\"#b8e186\"],[0.8,\"#7fbc41\"],[0.9,\"#4d9221\"],[1,\"#276419\"]],\"sequential\":[[0.0,\"#0d0887\"],[0.1111111111111111,\"#46039f\"],[0.2222222222222222,\"#7201a8\"],[0.3333333333333333,\"#9c179e\"],[0.4444444444444444,\"#bd3786\"],[0.5555555555555556,\"#d8576b\"],[0.6666666666666666,\"#ed7953\"],[0.7777777777777778,\"#fb9f3a\"],[0.8888888888888888,\"#fdca26\"],[1.0,\"#f0f921\"]],\"sequentialminus\":[[0.0,\"#0d0887\"],[0.1111111111111111,\"#46039f\"],[0.2222222222222222,\"#7201a8\"],[0.3333333333333333,\"#9c179e\"],[0.4444444444444444,\"#bd3786\"],[0.5555555555555556,\"#d8576b\"],[0.6666666666666666,\"#ed7953\"],[0.7777777777777778,\"#fb9f3a\"],[0.8888888888888888,\"#fdca26\"],[1.0,\"#f0f921\"]]},\"colorway\":[\"#636efa\",\"#EF553B\",\"#00cc96\",\"#ab63fa\",\"#FFA15A\",\"#19d3f3\",\"#FF6692\",\"#B6E880\",\"#FF97FF\",\"#FECB52\"],\"font\":{\"color\":\"#2a3f5f\"},\"geo\":{\"bgcolor\":\"white\",\"lakecolor\":\"white\",\"landcolor\":\"#E5ECF6\",\"showlakes\":true,\"showland\":true,\"subunitcolor\":\"white\"},\"hoverlabel\":{\"align\":\"left\"},\"hovermode\":\"closest\",\"mapbox\":{\"style\":\"light\"},\"paper_bgcolor\":\"white\",\"plot_bgcolor\":\"#E5ECF6\",\"polar\":{\"angularaxis\":{\"gridcolor\":\"white\",\"linecolor\":\"white\",\"ticks\":\"\"},\"bgcolor\":\"#E5ECF6\",\"radialaxis\":{\"gridcolor\":\"white\",\"linecolor\":\"white\",\"ticks\":\"\"}},\"scene\":{\"xaxis\":{\"backgroundcolor\":\"#E5ECF6\",\"gridcolor\":\"white\",\"gridwidth\":2,\"linecolor\":\"white\",\"showbackground\":true,\"ticks\":\"\",\"zerolinecolor\":\"white\"},\"yaxis\":{\"backgroundcolor\":\"#E5ECF6\",\"gridcolor\":\"white\",\"gridwidth\":2,\"linecolor\":\"white\",\"showbackground\":true,\"ticks\":\"\",\"zerolinecolor\":\"white\"},\"zaxis\":{\"backgroundcolor\":\"#E5ECF6\",\"gridcolor\":\"white\",\"gridwidth\":2,\"linecolor\":\"white\",\"showbackground\":true,\"ticks\":\"\",\"zerolinecolor\":\"white\"}},\"shapedefaults\":{\"line\":{\"color\":\"#2a3f5f\"}},\"ternary\":{\"aaxis\":{\"gridcolor\":\"white\",\"linecolor\":\"white\",\"ticks\":\"\"},\"baxis\":{\"gridcolor\":\"white\",\"linecolor\":\"white\",\"ticks\":\"\"},\"bgcolor\":\"#E5ECF6\",\"caxis\":{\"gridcolor\":\"white\",\"linecolor\":\"white\",\"ticks\":\"\"}},\"title\":{\"x\":0.05},\"xaxis\":{\"automargin\":true,\"gridcolor\":\"white\",\"linecolor\":\"white\",\"ticks\":\"\",\"title\":{\"standoff\":15},\"zerolinecolor\":\"white\",\"zerolinewidth\":2},\"yaxis\":{\"automargin\":true,\"gridcolor\":\"white\",\"linecolor\":\"white\",\"ticks\":\"\",\"title\":{\"standoff\":15},\"zerolinecolor\":\"white\",\"zerolinewidth\":2}}},\"title\":{\"text\":\"Plotting entire GDP with prediction\"},\"xaxis\":{\"anchor\":\"y\",\"domain\":[0.0,1.0],\"showgrid\":false,\"title\":{\"text\":\"Timestamp\"}},\"yaxis\":{\"anchor\":\"x\",\"domain\":[0.0,1.0],\"showgrid\":false,\"title\":{\"text\":\"GDP\"}}},                        {\"responsive\": true}                    ).then(function(){\n",
       "                            \n",
       "var gd = document.getElementById('28b652c7-c279-4481-8c7d-3731cc444b7b');\n",
       "var x = new MutationObserver(function (mutations, observer) {{\n",
       "        var display = window.getComputedStyle(gd).display;\n",
       "        if (!display || display === 'none') {{\n",
       "            console.log([gd, 'removed!']);\n",
       "            Plotly.purge(gd);\n",
       "            observer.disconnect();\n",
       "        }}\n",
       "}});\n",
       "\n",
       "// Listen for the removal of the full notebook cells\n",
       "var notebookContainer = gd.closest('#notebook-container');\n",
       "if (notebookContainer) {{\n",
       "    x.observe(notebookContainer, {childList: true});\n",
       "}}\n",
       "\n",
       "// Listen for the clearing of the current output cell\n",
       "var outputEl = gd.closest('.output');\n",
       "if (outputEl) {{\n",
       "    x.observe(outputEl, {childList: true});\n",
       "}}\n",
       "\n",
       "                        })                };                });            </script>        </div>"
      ]
     },
     "metadata": {},
     "output_type": "display_data"
    }
   ],
   "source": [
    "lstmdf=closedf.tolist()\n",
    "#lstmdf.extend((np.array(lst_output).reshape(-1,1)).tolist())\n",
    "lstmdf=scaler.inverse_transform(lstmdf).reshape(1,-1).tolist()[0]\n",
    "\n",
    "names = cycle(['GDP'])\n",
    "\n",
    "fig = px.line(lstmdf,labels={'value': 'GDP','index': 'Timestamp'})\n",
    "fig.update_layout(title_text='Plotting entire GDP with prediction',\n",
    "                  plot_bgcolor='white', font_size=15, font_color='black',legend_title_text='Seasonal GDP')\n",
    "\n",
    "fig.for_each_trace(lambda t:  t.update(name = next(names)))\n",
    "\n",
    "fig.update_xaxes(showgrid=False)\n",
    "fig.update_yaxes(showgrid=False)\n",
    "fig.show()"
   ]
  },
  {
   "cell_type": "code",
   "execution_count": 258,
   "metadata": {},
   "outputs": [
    {
     "data": {
      "image/png": "[encoded data removed]",
      "text/plain": [
       "<Figure size 432x288 with 1 Axes>"
      ]
     },
     "metadata": {
      "needs_background": "light"
     },
     "output_type": "display_data"
    }
   ],
   "source": [
    "from matplotlib import pyplot\n",
    "pyplot.plot(test_predict, label='predict')\n",
    "pyplot.plot(original_ytest, label='true')\n",
    "pyplot.legend()\n",
    "pyplot.show()"
   ]
  },
  {
   "cell_type": "code",
   "execution_count": null,
   "metadata": {},
   "outputs": [],
   "source": []
  },
  {
   "cell_type": "code",
   "execution_count": null,
   "metadata": {},
   "outputs": [],
   "source": []
  },
  {
   "cell_type": "code",
   "execution_count": null,
   "metadata": {},
   "outputs": [],
   "source": []
  },
  {
   "cell_type": "code",
   "execution_count": null,
   "metadata": {},
   "outputs": [],
   "source": []
  }
 ],
 "metadata": {
  "kernelspec": {
   "display_name": "Python 3",
   "language": "python",
   "name": "python3"
  },
  "language_info": {
   "codemirror_mode": {
    "name": "ipython",
    "version": 3
   },
   "file_extension": ".py",
   "mimetype": "text/x-python",
   "name": "python",
   "nbconvert_exporter": "python",
   "pygments_lexer": "ipython3",
   "version": "3.8.5"
  }
 },
 "nbformat": 4,
 "nbformat_minor": 4
}
