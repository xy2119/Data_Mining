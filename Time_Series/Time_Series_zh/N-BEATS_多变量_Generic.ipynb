{
 "cells": [
  {
   "cell_type": "code",
   "execution_count": 579,
   "metadata": {},
   "outputs": [],
   "source": [
    "import pandas as pd\n",
    "import numpy as np\n",
    "from math import sqrt\n",
    "from numpy import concatenate\n",
    "from matplotlib import pyplot\n",
    "\n",
    "from pandas import concat\n",
    "from sklearn.preprocessing import MinMaxScaler\n",
    "from sklearn.preprocessing import LabelEncoder\n",
    "from sklearn.metrics import mean_squared_error\n",
    "from keras.models import Sequential\n",
    "from keras.layers import Dense\n",
    "from keras.layers import LSTM\n",
    "\n",
    "\n",
    "import math\n",
    "import datetime as dt\n",
    "from sklearn.metrics import mean_squared_error, mean_absolute_error, explained_variance_score, r2_score \n",
    "from sklearn.metrics import mean_poisson_deviance, mean_gamma_deviance, accuracy_score\n",
    "from sklearn.preprocessing import MinMaxScaler\n",
    "\n",
    "import tensorflow as tf\n",
    "from tensorflow.keras.models import Sequential\n",
    "from tensorflow.keras.layers import Dropout,Dense\n",
    "from tensorflow.keras.layers import LSTM, GRU\n",
    "\n",
    "\n",
    "from itertools import cycle\n",
    "\n",
    "import matplotlib.pyplot as plt\n",
    "# ! pip install plotly\n",
    "import plotly.graph_objects as go\n",
    "import plotly.express as px\n",
    "from plotly.subplots import make_subplots"
   ]
  },
  {
   "cell_type": "code",
   "execution_count": 580,
   "metadata": {},
   "outputs": [
    {
     "data": {
      "text/html": [
       "<div>\n",
       "<style scoped>\n",
       "    .dataframe tbody tr th:only-of-type {\n",
       "        vertical-align: middle;\n",
       "    }\n",
       "\n",
       "    .dataframe tbody tr th {\n",
       "        vertical-align: top;\n",
       "    }\n",
       "\n",
       "    .dataframe thead th {\n",
       "        text-align: right;\n",
       "    }\n",
       "</style>\n",
       "<table border=\"1\" class=\"dataframe\">\n",
       "  <thead>\n",
       "    <tr style=\"text-align: right;\">\n",
       "      <th></th>\n",
       "      <th>Year</th>\n",
       "      <th>第一产业GDP贡献率</th>\n",
       "      <th>第二产业GDP贡献率</th>\n",
       "      <th>第三产业GDP贡献率</th>\n",
       "      <th>就业人员</th>\n",
       "      <th>第一产业就业人员</th>\n",
       "      <th>第二产业就业人员</th>\n",
       "      <th>第三产业就业人员</th>\n",
       "      <th>总人口</th>\n",
       "      <th>0-14岁人口</th>\n",
       "      <th>...</th>\n",
       "      <th>流通中现金(M0)供应量同比增长率(%)</th>\n",
       "      <th>财政收入增长率</th>\n",
       "      <th>居民消费价格指数</th>\n",
       "      <th>商品零售价格指数</th>\n",
       "      <th>工业生产者出厂价格指数</th>\n",
       "      <th>工业生产者购进价格指数</th>\n",
       "      <th>固定资产投资价格指数</th>\n",
       "      <th>全社会固定资产投资</th>\n",
       "      <th>GDP</th>\n",
       "      <th>PGDP</th>\n",
       "    </tr>\n",
       "  </thead>\n",
       "  <tbody>\n",
       "    <tr>\n",
       "      <th>count</th>\n",
       "      <td>56.000000</td>\n",
       "      <td>41.000000</td>\n",
       "      <td>41.000000</td>\n",
       "      <td>41.000000</td>\n",
       "      <td>41.000000</td>\n",
       "      <td>41.000000</td>\n",
       "      <td>41.000000</td>\n",
       "      <td>41.000000</td>\n",
       "      <td>41.000000</td>\n",
       "      <td>41.000000</td>\n",
       "      <td>...</td>\n",
       "      <td>41.000000</td>\n",
       "      <td>41.000000</td>\n",
       "      <td>41.000000</td>\n",
       "      <td>41.000000</td>\n",
       "      <td>41.000000</td>\n",
       "      <td>41.000000</td>\n",
       "      <td>41.000000</td>\n",
       "      <td>41.000000</td>\n",
       "      <td>4.100000e+01</td>\n",
       "      <td>41.000000</td>\n",
       "    </tr>\n",
       "    <tr>\n",
       "      <th>mean</th>\n",
       "      <td>2007.500000</td>\n",
       "      <td>9.075610</td>\n",
       "      <td>50.692683</td>\n",
       "      <td>40.229268</td>\n",
       "      <td>67018.463415</td>\n",
       "      <td>30686.487805</td>\n",
       "      <td>16526.780488</td>\n",
       "      <td>19805.170732</td>\n",
       "      <td>123897.097561</td>\n",
       "      <td>28571.000000</td>\n",
       "      <td>...</td>\n",
       "      <td>14.921951</td>\n",
       "      <td>13.351220</td>\n",
       "      <td>104.912195</td>\n",
       "      <td>103.985366</td>\n",
       "      <td>103.773171</td>\n",
       "      <td>107.714634</td>\n",
       "      <td>105.119512</td>\n",
       "      <td>161921.068049</td>\n",
       "      <td>2.554681e+05</td>\n",
       "      <td>18850.292683</td>\n",
       "    </tr>\n",
       "    <tr>\n",
       "      <th>std</th>\n",
       "      <td>16.309506</td>\n",
       "      <td>10.124816</td>\n",
       "      <td>12.218928</td>\n",
       "      <td>10.740862</td>\n",
       "      <td>11094.811017</td>\n",
       "      <td>6035.796236</td>\n",
       "      <td>4748.809811</td>\n",
       "      <td>9283.573646</td>\n",
       "      <td>12865.420655</td>\n",
       "      <td>4067.124826</td>\n",
       "      <td>...</td>\n",
       "      <td>10.453217</td>\n",
       "      <td>8.008312</td>\n",
       "      <td>5.800095</td>\n",
       "      <td>5.715005</td>\n",
       "      <td>6.689171</td>\n",
       "      <td>9.268861</td>\n",
       "      <td>5.253485</td>\n",
       "      <td>220281.269789</td>\n",
       "      <td>3.106919e+05</td>\n",
       "      <td>22165.361428</td>\n",
       "    </tr>\n",
       "    <tr>\n",
       "      <th>min</th>\n",
       "      <td>1980.000000</td>\n",
       "      <td>-4.800000</td>\n",
       "      <td>17.700000</td>\n",
       "      <td>19.200000</td>\n",
       "      <td>42361.000000</td>\n",
       "      <td>17715.000000</td>\n",
       "      <td>7707.000000</td>\n",
       "      <td>5532.000000</td>\n",
       "      <td>98705.000000</td>\n",
       "      <td>22259.000000</td>\n",
       "      <td>...</td>\n",
       "      <td>2.900000</td>\n",
       "      <td>-3.900000</td>\n",
       "      <td>98.600000</td>\n",
       "      <td>97.000000</td>\n",
       "      <td>94.600000</td>\n",
       "      <td>92.100000</td>\n",
       "      <td>97.600000</td>\n",
       "      <td>910.900000</td>\n",
       "      <td>4.587600e+03</td>\n",
       "      <td>468.000000</td>\n",
       "    </tr>\n",
       "    <tr>\n",
       "      <th>25%</th>\n",
       "      <td>1993.750000</td>\n",
       "      <td>4.100000</td>\n",
       "      <td>43.500000</td>\n",
       "      <td>32.700000</td>\n",
       "      <td>64749.000000</td>\n",
       "      <td>27931.000000</td>\n",
       "      <td>13856.000000</td>\n",
       "      <td>11979.000000</td>\n",
       "      <td>114333.000000</td>\n",
       "      <td>24688.000000</td>\n",
       "      <td>...</td>\n",
       "      <td>8.700000</td>\n",
       "      <td>7.200000</td>\n",
       "      <td>101.800000</td>\n",
       "      <td>100.800000</td>\n",
       "      <td>98.700000</td>\n",
       "      <td>99.300000</td>\n",
       "      <td>101.100000</td>\n",
       "      <td>4753.800000</td>\n",
       "      <td>1.887290e+04</td>\n",
       "      <td>1663.000000</td>\n",
       "    </tr>\n",
       "    <tr>\n",
       "      <th>50%</th>\n",
       "      <td>2007.500000</td>\n",
       "      <td>5.200000</td>\n",
       "      <td>50.500000</td>\n",
       "      <td>39.000000</td>\n",
       "      <td>72085.000000</td>\n",
       "      <td>31254.000000</td>\n",
       "      <td>16234.000000</td>\n",
       "      <td>19823.000000</td>\n",
       "      <td>126743.000000</td>\n",
       "      <td>29011.000000</td>\n",
       "      <td>...</td>\n",
       "      <td>11.900000</td>\n",
       "      <td>13.100000</td>\n",
       "      <td>102.700000</td>\n",
       "      <td>102.000000</td>\n",
       "      <td>102.900000</td>\n",
       "      <td>108.100000</td>\n",
       "      <td>105.400000</td>\n",
       "      <td>32917.730000</td>\n",
       "      <td>1.002801e+05</td>\n",
       "      <td>7942.000000</td>\n",
       "    </tr>\n",
       "    <tr>\n",
       "      <th>75%</th>\n",
       "      <td>2021.250000</td>\n",
       "      <td>8.700000</td>\n",
       "      <td>59.600000</td>\n",
       "      <td>46.500000</td>\n",
       "      <td>75564.000000</td>\n",
       "      <td>35530.000000</td>\n",
       "      <td>21234.000000</td>\n",
       "      <td>26332.000000</td>\n",
       "      <td>134091.000000</td>\n",
       "      <td>32339.000000</td>\n",
       "      <td>...</td>\n",
       "      <td>19.400000</td>\n",
       "      <td>19.900000</td>\n",
       "      <td>106.400000</td>\n",
       "      <td>105.900000</td>\n",
       "      <td>106.200000</td>\n",
       "      <td>116.000000</td>\n",
       "      <td>108.000000</td>\n",
       "      <td>278121.850000</td>\n",
       "      <td>4.121193e+05</td>\n",
       "      <td>30808.000000</td>\n",
       "    </tr>\n",
       "    <tr>\n",
       "      <th>max</th>\n",
       "      <td>2035.000000</td>\n",
       "      <td>40.500000</td>\n",
       "      <td>85.600000</td>\n",
       "      <td>63.500000</td>\n",
       "      <td>76349.000000</td>\n",
       "      <td>39098.000000</td>\n",
       "      <td>23226.000000</td>\n",
       "      <td>35806.000000</td>\n",
       "      <td>141178.000000</td>\n",
       "      <td>34146.000000</td>\n",
       "      <td>...</td>\n",
       "      <td>49.500000</td>\n",
       "      <td>32.400000</td>\n",
       "      <td>124.100000</td>\n",
       "      <td>121.700000</td>\n",
       "      <td>124.000000</td>\n",
       "      <td>135.100000</td>\n",
       "      <td>126.600000</td>\n",
       "      <td>645675.000000</td>\n",
       "      <td>1.015986e+06</td>\n",
       "      <td>72000.000000</td>\n",
       "    </tr>\n",
       "  </tbody>\n",
       "</table>\n",
       "<p>8 rows × 28 columns</p>\n",
       "</div>"
      ],
      "text/plain": [
       "              Year  第一产业GDP贡献率  第二产业GDP贡献率  第三产业GDP贡献率          就业人员  \\\n",
       "count    56.000000   41.000000   41.000000   41.000000     41.000000   \n",
       "mean   2007.500000    9.075610   50.692683   40.229268  67018.463415   \n",
       "std      16.309506   10.124816   12.218928   10.740862  11094.811017   \n",
       "min    1980.000000   -4.800000   17.700000   19.200000  42361.000000   \n",
       "25%    1993.750000    4.100000   43.500000   32.700000  64749.000000   \n",
       "50%    2007.500000    5.200000   50.500000   39.000000  72085.000000   \n",
       "75%    2021.250000    8.700000   59.600000   46.500000  75564.000000   \n",
       "max    2035.000000   40.500000   85.600000   63.500000  76349.000000   \n",
       "\n",
       "           第一产业就业人员      第二产业就业人员      第三产业就业人员            总人口       0-14岁人口  \\\n",
       "count     41.000000     41.000000     41.000000      41.000000     41.000000   \n",
       "mean   30686.487805  16526.780488  19805.170732  123897.097561  28571.000000   \n",
       "std     6035.796236   4748.809811   9283.573646   12865.420655   4067.124826   \n",
       "min    17715.000000   7707.000000   5532.000000   98705.000000  22259.000000   \n",
       "25%    27931.000000  13856.000000  11979.000000  114333.000000  24688.000000   \n",
       "50%    31254.000000  16234.000000  19823.000000  126743.000000  29011.000000   \n",
       "75%    35530.000000  21234.000000  26332.000000  134091.000000  32339.000000   \n",
       "max    39098.000000  23226.000000  35806.000000  141178.000000  34146.000000   \n",
       "\n",
       "       ...  流通中现金(M0)供应量同比增长率(%)    财政收入增长率    居民消费价格指数    商品零售价格指数  \\\n",
       "count  ...             41.000000  41.000000   41.000000   41.000000   \n",
       "mean   ...             14.921951  13.351220  104.912195  103.985366   \n",
       "std    ...             10.453217   8.008312    5.800095    5.715005   \n",
       "min    ...              2.900000  -3.900000   98.600000   97.000000   \n",
       "25%    ...              8.700000   7.200000  101.800000  100.800000   \n",
       "50%    ...             11.900000  13.100000  102.700000  102.000000   \n",
       "75%    ...             19.400000  19.900000  106.400000  105.900000   \n",
       "max    ...             49.500000  32.400000  124.100000  121.700000   \n",
       "\n",
       "       工业生产者出厂价格指数  工业生产者购进价格指数  固定资产投资价格指数      全社会固定资产投资           GDP  \\\n",
       "count    41.000000    41.000000   41.000000      41.000000  4.100000e+01   \n",
       "mean    103.773171   107.714634  105.119512  161921.068049  2.554681e+05   \n",
       "std       6.689171     9.268861    5.253485  220281.269789  3.106919e+05   \n",
       "min      94.600000    92.100000   97.600000     910.900000  4.587600e+03   \n",
       "25%      98.700000    99.300000  101.100000    4753.800000  1.887290e+04   \n",
       "50%     102.900000   108.100000  105.400000   32917.730000  1.002801e+05   \n",
       "75%     106.200000   116.000000  108.000000  278121.850000  4.121193e+05   \n",
       "max     124.000000   135.100000  126.600000  645675.000000  1.015986e+06   \n",
       "\n",
       "               PGDP  \n",
       "count     41.000000  \n",
       "mean   18850.292683  \n",
       "std    22165.361428  \n",
       "min      468.000000  \n",
       "25%     1663.000000  \n",
       "50%     7942.000000  \n",
       "75%    30808.000000  \n",
       "max    72000.000000  \n",
       "\n",
       "[8 rows x 28 columns]"
      ]
     },
     "execution_count": 580,
     "metadata": {},
     "output_type": "execute_result"
    }
   ],
   "source": [
    "gdp = pd.read_csv('/Users/patricia/Downloads/gdp.csv', header=0)\n",
    "gdp.describe()"
   ]
  },
  {
   "cell_type": "code",
   "execution_count": 581,
   "metadata": {},
   "outputs": [
    {
     "data": {
      "text/html": [
       "<div>\n",
       "<style scoped>\n",
       "    .dataframe tbody tr th:only-of-type {\n",
       "        vertical-align: middle;\n",
       "    }\n",
       "\n",
       "    .dataframe tbody tr th {\n",
       "        vertical-align: top;\n",
       "    }\n",
       "\n",
       "    .dataframe thead th {\n",
       "        text-align: right;\n",
       "    }\n",
       "</style>\n",
       "<table border=\"1\" class=\"dataframe\">\n",
       "  <thead>\n",
       "    <tr style=\"text-align: right;\">\n",
       "      <th></th>\n",
       "      <th>Year</th>\n",
       "      <th>第一产业GDP贡献率</th>\n",
       "      <th>第二产业GDP贡献率</th>\n",
       "      <th>第三产业GDP贡献率</th>\n",
       "      <th>就业人员</th>\n",
       "      <th>第一产业就业人员</th>\n",
       "      <th>第二产业就业人员</th>\n",
       "      <th>第三产业就业人员</th>\n",
       "      <th>总人口</th>\n",
       "      <th>0-14岁人口</th>\n",
       "      <th>...</th>\n",
       "      <th>进出口总额</th>\n",
       "      <th>流通中现金(M0)供应量同比增长率(%)</th>\n",
       "      <th>财政收入增长率</th>\n",
       "      <th>居民消费价格指数</th>\n",
       "      <th>商品零售价格指数</th>\n",
       "      <th>工业生产者出厂价格指数</th>\n",
       "      <th>工业生产者购进价格指数</th>\n",
       "      <th>固定资产投资价格指数</th>\n",
       "      <th>全社会固定资产投资</th>\n",
       "      <th>GDP</th>\n",
       "    </tr>\n",
       "  </thead>\n",
       "  <tbody>\n",
       "    <tr>\n",
       "      <th>0</th>\n",
       "      <td>1980</td>\n",
       "      <td>-4.8</td>\n",
       "      <td>85.6</td>\n",
       "      <td>19.2</td>\n",
       "      <td>42361.0</td>\n",
       "      <td>29122.0</td>\n",
       "      <td>7707.0</td>\n",
       "      <td>5532.0</td>\n",
       "      <td>98705.0</td>\n",
       "      <td>32384.0</td>\n",
       "      <td>...</td>\n",
       "      <td>570.00</td>\n",
       "      <td>29.3</td>\n",
       "      <td>1.2</td>\n",
       "      <td>107.5</td>\n",
       "      <td>106.0</td>\n",
       "      <td>100.5</td>\n",
       "      <td>116.0</td>\n",
       "      <td>108.0</td>\n",
       "      <td>910.9</td>\n",
       "      <td>8.431112</td>\n",
       "    </tr>\n",
       "    <tr>\n",
       "      <th>1</th>\n",
       "      <td>1981</td>\n",
       "      <td>40.5</td>\n",
       "      <td>17.7</td>\n",
       "      <td>41.8</td>\n",
       "      <td>43725.0</td>\n",
       "      <td>29777.0</td>\n",
       "      <td>8003.0</td>\n",
       "      <td>5945.0</td>\n",
       "      <td>100072.0</td>\n",
       "      <td>32384.0</td>\n",
       "      <td>...</td>\n",
       "      <td>735.34</td>\n",
       "      <td>14.5</td>\n",
       "      <td>1.4</td>\n",
       "      <td>102.5</td>\n",
       "      <td>102.4</td>\n",
       "      <td>100.2</td>\n",
       "      <td>116.0</td>\n",
       "      <td>108.0</td>\n",
       "      <td>961.0</td>\n",
       "      <td>8.504270</td>\n",
       "    </tr>\n",
       "    <tr>\n",
       "      <th>2</th>\n",
       "      <td>1982</td>\n",
       "      <td>38.6</td>\n",
       "      <td>28.8</td>\n",
       "      <td>32.6</td>\n",
       "      <td>45295.0</td>\n",
       "      <td>30859.0</td>\n",
       "      <td>8346.0</td>\n",
       "      <td>6090.0</td>\n",
       "      <td>101654.0</td>\n",
       "      <td>34146.0</td>\n",
       "      <td>...</td>\n",
       "      <td>771.37</td>\n",
       "      <td>10.8</td>\n",
       "      <td>3.1</td>\n",
       "      <td>102.0</td>\n",
       "      <td>101.9</td>\n",
       "      <td>99.8</td>\n",
       "      <td>116.0</td>\n",
       "      <td>108.0</td>\n",
       "      <td>1230.4</td>\n",
       "      <td>8.589216</td>\n",
       "    </tr>\n",
       "    <tr>\n",
       "      <th>3</th>\n",
       "      <td>1983</td>\n",
       "      <td>23.9</td>\n",
       "      <td>43.5</td>\n",
       "      <td>32.7</td>\n",
       "      <td>46436.0</td>\n",
       "      <td>31151.0</td>\n",
       "      <td>8679.0</td>\n",
       "      <td>6606.0</td>\n",
       "      <td>103008.0</td>\n",
       "      <td>32384.0</td>\n",
       "      <td>...</td>\n",
       "      <td>860.15</td>\n",
       "      <td>20.7</td>\n",
       "      <td>12.8</td>\n",
       "      <td>102.0</td>\n",
       "      <td>101.5</td>\n",
       "      <td>99.9</td>\n",
       "      <td>116.0</td>\n",
       "      <td>108.0</td>\n",
       "      <td>1430.1</td>\n",
       "      <td>8.702992</td>\n",
       "    </tr>\n",
       "    <tr>\n",
       "      <th>4</th>\n",
       "      <td>1984</td>\n",
       "      <td>25.6</td>\n",
       "      <td>42.7</td>\n",
       "      <td>31.7</td>\n",
       "      <td>48197.0</td>\n",
       "      <td>30868.0</td>\n",
       "      <td>9590.0</td>\n",
       "      <td>7739.0</td>\n",
       "      <td>104357.0</td>\n",
       "      <td>32384.0</td>\n",
       "      <td>...</td>\n",
       "      <td>1201.03</td>\n",
       "      <td>49.5</td>\n",
       "      <td>20.2</td>\n",
       "      <td>102.7</td>\n",
       "      <td>102.8</td>\n",
       "      <td>101.4</td>\n",
       "      <td>116.0</td>\n",
       "      <td>108.0</td>\n",
       "      <td>1832.9</td>\n",
       "      <td>8.892680</td>\n",
       "    </tr>\n",
       "  </tbody>\n",
       "</table>\n",
       "<p>5 rows × 27 columns</p>\n",
       "</div>"
      ],
      "text/plain": [
       "   Year  第一产业GDP贡献率  第二产业GDP贡献率  第三产业GDP贡献率     就业人员  第一产业就业人员  第二产业就业人员  \\\n",
       "0  1980        -4.8        85.6        19.2  42361.0   29122.0    7707.0   \n",
       "1  1981        40.5        17.7        41.8  43725.0   29777.0    8003.0   \n",
       "2  1982        38.6        28.8        32.6  45295.0   30859.0    8346.0   \n",
       "3  1983        23.9        43.5        32.7  46436.0   31151.0    8679.0   \n",
       "4  1984        25.6        42.7        31.7  48197.0   30868.0    9590.0   \n",
       "\n",
       "   第三产业就业人员       总人口  0-14岁人口  ...    进出口总额  流通中现金(M0)供应量同比增长率(%)  财政收入增长率  \\\n",
       "0    5532.0   98705.0  32384.0  ...   570.00                  29.3      1.2   \n",
       "1    5945.0  100072.0  32384.0  ...   735.34                  14.5      1.4   \n",
       "2    6090.0  101654.0  34146.0  ...   771.37                  10.8      3.1   \n",
       "3    6606.0  103008.0  32384.0  ...   860.15                  20.7     12.8   \n",
       "4    7739.0  104357.0  32384.0  ...  1201.03                  49.5     20.2   \n",
       "\n",
       "   居民消费价格指数  商品零售价格指数  工业生产者出厂价格指数  工业生产者购进价格指数  固定资产投资价格指数  全社会固定资产投资  \\\n",
       "0     107.5     106.0        100.5        116.0       108.0      910.9   \n",
       "1     102.5     102.4        100.2        116.0       108.0      961.0   \n",
       "2     102.0     101.9         99.8        116.0       108.0     1230.4   \n",
       "3     102.0     101.5         99.9        116.0       108.0     1430.1   \n",
       "4     102.7     102.8        101.4        116.0       108.0     1832.9   \n",
       "\n",
       "        GDP  \n",
       "0  8.431112  \n",
       "1  8.504270  \n",
       "2  8.589216  \n",
       "3  8.702992  \n",
       "4  8.892680  \n",
       "\n",
       "[5 rows x 27 columns]"
      ]
     },
     "execution_count": 581,
     "metadata": {},
     "output_type": "execute_result"
    }
   ],
   "source": [
    "import math\n",
    "gdp['GDP'] = gdp['GDP'].apply(lambda x: math.log(x))\n",
    "gdp=gdp.dropna(axis=0,how='any')\n",
    "\n",
    "dataset = gdp.copy()\n",
    "del dataset['PGDP']\n",
    "dataset.head()\n"
   ]
  },
  {
   "cell_type": "code",
   "execution_count": 582,
   "metadata": {},
   "outputs": [
    {
     "name": "stdout",
     "output_type": "stream",
     "text": [
      "(41, 27)\n"
     ]
    }
   ],
   "source": [
    "values = dataset.values\n",
    "\n",
    "#保证为float ensure all data is float\n",
    "values = values.astype('float32')\n",
    "print(values.shape)"
   ]
  },
  {
   "cell_type": "code",
   "execution_count": 583,
   "metadata": {},
   "outputs": [
    {
     "data": {
      "text/plain": [
       "array([[0.        ],\n",
       "       [0.        ],\n",
       "       [1.        ],\n",
       "       ...,\n",
       "       [0.17241383],\n",
       "       [0.81635964],\n",
       "       [1.        ]], dtype=float32)"
      ]
     },
     "execution_count": 583,
     "metadata": {},
     "output_type": "execute_result"
    }
   ],
   "source": [
    "#归一化 normalize features\n",
    "scaler = MinMaxScaler(feature_range=(0, 1))\n",
    "scaled = scaler.fit_transform(values)\n",
    "scaled.reshape(-1,1)"
   ]
  },
  {
   "cell_type": "code",
   "execution_count": 584,
   "metadata": {},
   "outputs": [
    {
     "name": "stdout",
     "output_type": "stream",
     "text": [
      "train_x.shape (28, 1, 26)\n",
      "train_y.shape (28, 1)\n",
      "test_x.shape (13, 1, 26)\n",
      "test_y.shape (13, 1)\n"
     ]
    }
   ],
   "source": [
    "values = scaled\n",
    "\n",
    "#拿前70%时间长度训练\n",
    "train_years = int(0.7*len(values))\n",
    "#划分训练数据和测试数据\n",
    "train = values[:train_years, :]\n",
    "test = values[train_years:, :]\n",
    "#拆分输入输出 split into input and outputs\n",
    "train_X, train_y = train[:, :-1], train[:, -1].reshape(-1,1)\n",
    "test_X, test_y = test[:, :-1], test[:, -1].reshape(-1,1)\n",
    "#reshape输入为LSTM的输入格式 reshape input to be 3D [samples, timesteps, features]\n",
    "train_X = train_X.reshape((train_X.shape[0], 1, train_X.shape[1]))\n",
    "test_X = test_X.reshape((test_X.shape[0], 1, test_X.shape[1]))\n",
    "print ('train_x.shape', train_X.shape)\n",
    "print ('train_y.shape', train_y.shape)\n",
    "print ('test_x.shape', test_X.shape)\n",
    "print ('test_y.shape',test_y.shape)\n"
   ]
  },
  {
   "cell_type": "code",
   "execution_count": 585,
   "metadata": {},
   "outputs": [],
   "source": [
    "from nbeats_keras.model import NBeatsNet as NBeatsKeras\n",
    "import warnings\n",
    "warnings.filterwarnings(action='ignore', message='Setting attributes')"
   ]
  },
  {
   "cell_type": "code",
   "execution_count": 586,
   "metadata": {},
   "outputs": [
    {
     "name": "stdout",
     "output_type": "stream",
     "text": [
      "Keras training...\n",
      "Epoch 1/256\n",
      "WARNING:tensorflow:Model was constructed with shape (None, 1, 1) for input KerasTensor(type_spec=TensorSpec(shape=(None, 1, 1), dtype=tf.float32, name='input_variable'), name='input_variable', description=\"created by layer 'input_variable'\"), but it was called on an input with incompatible shape (None, 1, 26).\n",
      "WARNING:tensorflow:Model was constructed with shape (None, 1, 1) for input KerasTensor(type_spec=TensorSpec(shape=(None, 1, 1), dtype=tf.float32, name='input_variable'), name='input_variable', description=\"created by layer 'input_variable'\"), but it was called on an input with incompatible shape (None, 1, 26).\n",
      "1/1 [==============================] - ETA: 0s - loss: 0.4100WARNING:tensorflow:Model was constructed with shape (None, 1, 1) for input KerasTensor(type_spec=TensorSpec(shape=(None, 1, 1), dtype=tf.float32, name='input_variable'), name='input_variable', description=\"created by layer 'input_variable'\"), but it was called on an input with incompatible shape (None, 1, 26).\n",
      "1/1 [==============================] - 1s 1s/step - loss: 0.4100 - val_loss: 0.1179\n",
      "Epoch 2/256\n",
      "1/1 [==============================] - 0s 27ms/step - loss: 0.0647 - val_loss: 0.7433\n",
      "Epoch 3/256\n",
      "1/1 [==============================] - 0s 32ms/step - loss: 0.3582 - val_loss: 0.2805\n",
      "Epoch 4/256\n",
      "1/1 [==============================] - 0s 32ms/step - loss: 0.1232 - val_loss: 0.3274\n",
      "Epoch 5/256\n",
      "1/1 [==============================] - 0s 28ms/step - loss: 0.1683 - val_loss: 0.4251\n",
      "Epoch 6/256\n",
      "1/1 [==============================] - 0s 26ms/step - loss: 0.2020 - val_loss: 0.3330\n",
      "Epoch 7/256\n",
      "1/1 [==============================] - 0s 31ms/step - loss: 0.1536 - val_loss: 0.1382\n",
      "Epoch 8/256\n",
      "1/1 [==============================] - 0s 43ms/step - loss: 0.0738 - val_loss: 0.1318\n",
      "Epoch 9/256\n",
      "1/1 [==============================] - 0s 34ms/step - loss: 0.0858 - val_loss: 0.1858\n",
      "Epoch 10/256\n",
      "1/1 [==============================] - 0s 30ms/step - loss: 0.1066 - val_loss: 0.0943\n",
      "Epoch 11/256\n",
      "1/1 [==============================] - 0s 29ms/step - loss: 0.0553 - val_loss: 0.0697\n",
      "Epoch 12/256\n",
      "1/1 [==============================] - 0s 32ms/step - loss: 0.0487 - val_loss: 0.1318\n",
      "Epoch 13/256\n",
      "1/1 [==============================] - 0s 32ms/step - loss: 0.0748 - val_loss: 0.1107\n",
      "Epoch 14/256\n",
      "1/1 [==============================] - 0s 37ms/step - loss: 0.0678 - val_loss: 0.0312\n",
      "Epoch 15/256\n",
      "1/1 [==============================] - 0s 32ms/step - loss: 0.0273 - val_loss: 0.1102\n",
      "Epoch 16/256\n",
      "1/1 [==============================] - 0s 32ms/step - loss: 0.0392 - val_loss: 0.1596\n",
      "Epoch 17/256\n",
      "1/1 [==============================] - 0s 31ms/step - loss: 0.0560 - val_loss: 0.1246\n",
      "Epoch 18/256\n",
      "1/1 [==============================] - 0s 31ms/step - loss: 0.0390 - val_loss: 0.0430\n",
      "Epoch 19/256\n",
      "1/1 [==============================] - 0s 30ms/step - loss: 0.0237 - val_loss: 0.0386\n",
      "Epoch 20/256\n",
      "1/1 [==============================] - 0s 33ms/step - loss: 0.0485 - val_loss: 0.0444\n",
      "Epoch 21/256\n",
      "1/1 [==============================] - 0s 31ms/step - loss: 0.0469 - val_loss: 0.0283\n",
      "Epoch 22/256\n",
      "1/1 [==============================] - 0s 33ms/step - loss: 0.0218 - val_loss: 0.0928\n",
      "Epoch 23/256\n",
      "1/1 [==============================] - 0s 30ms/step - loss: 0.0334 - val_loss: 0.1309\n",
      "Epoch 24/256\n",
      "1/1 [==============================] - 0s 34ms/step - loss: 0.0494 - val_loss: 0.1033\n",
      "Epoch 25/256\n",
      "1/1 [==============================] - 0s 28ms/step - loss: 0.0384 - val_loss: 0.0419\n",
      "Epoch 26/256\n",
      "1/1 [==============================] - 0s 29ms/step - loss: 0.0203 - val_loss: 0.0338\n",
      "Epoch 27/256\n",
      "1/1 [==============================] - 0s 29ms/step - loss: 0.0342 - val_loss: 0.0422\n",
      "Epoch 28/256\n",
      "1/1 [==============================] - 0s 44ms/step - loss: 0.0407 - val_loss: 0.0284\n",
      "Epoch 29/256\n",
      "1/1 [==============================] - 0s 32ms/step - loss: 0.0264 - val_loss: 0.0656\n",
      "Epoch 30/256\n",
      "1/1 [==============================] - 0s 30ms/step - loss: 0.0192 - val_loss: 0.1053\n",
      "Epoch 31/256\n",
      "1/1 [==============================] - 0s 28ms/step - loss: 0.0294 - val_loss: 0.1059\n",
      "Epoch 32/256\n",
      "1/1 [==============================] - 0s 28ms/step - loss: 0.0289 - val_loss: 0.0756\n",
      "Epoch 33/256\n",
      "1/1 [==============================] - 0s 27ms/step - loss: 0.0214 - val_loss: 0.0312\n",
      "Epoch 34/256\n",
      "1/1 [==============================] - 0s 36ms/step - loss: 0.0178 - val_loss: 0.0288\n",
      "Epoch 35/256\n",
      "1/1 [==============================] - 0s 31ms/step - loss: 0.0278 - val_loss: 0.0272\n",
      "Epoch 36/256\n",
      "1/1 [==============================] - 0s 41ms/step - loss: 0.0199 - val_loss: 0.0532\n",
      "Epoch 37/256\n",
      "1/1 [==============================] - 0s 32ms/step - loss: 0.0228 - val_loss: 0.0712\n",
      "Epoch 38/256\n",
      "1/1 [==============================] - 0s 34ms/step - loss: 0.0287 - val_loss: 0.0591\n",
      "Epoch 39/256\n",
      "1/1 [==============================] - 0s 27ms/step - loss: 0.0243 - val_loss: 0.0286\n",
      "Epoch 40/256\n",
      "1/1 [==============================] - 0s 29ms/step - loss: 0.0153 - val_loss: 0.0272\n",
      "Epoch 41/256\n",
      "1/1 [==============================] - 0s 36ms/step - loss: 0.0239 - val_loss: 0.0264\n",
      "Epoch 42/256\n",
      "1/1 [==============================] - 0s 28ms/step - loss: 0.0184 - val_loss: 0.0589\n",
      "Epoch 43/256\n",
      "1/1 [==============================] - 0s 30ms/step - loss: 0.0172 - val_loss: 0.0878\n",
      "Epoch 44/256\n",
      "1/1 [==============================] - 0s 33ms/step - loss: 0.0252 - val_loss: 0.0831\n",
      "Epoch 45/256\n",
      "1/1 [==============================] - 0s 31ms/step - loss: 0.0240 - val_loss: 0.0484\n",
      "Epoch 46/256\n",
      "1/1 [==============================] - 0s 28ms/step - loss: 0.0159 - val_loss: 0.0251\n",
      "Epoch 47/256\n",
      "1/1 [==============================] - 0s 30ms/step - loss: 0.0181 - val_loss: 0.0250\n",
      "Epoch 48/256\n",
      "1/1 [==============================] - 0s 28ms/step - loss: 0.0173 - val_loss: 0.0298\n",
      "Epoch 49/256\n",
      "1/1 [==============================] - 0s 28ms/step - loss: 0.0145 - val_loss: 0.0392\n",
      "Epoch 50/256\n",
      "1/1 [==============================] - 0s 29ms/step - loss: 0.0185 - val_loss: 0.0269\n",
      "Epoch 51/256\n",
      "1/1 [==============================] - 0s 25ms/step - loss: 0.0139 - val_loss: 0.0237\n",
      "Epoch 52/256\n",
      "1/1 [==============================] - 0s 28ms/step - loss: 0.0137 - val_loss: 0.0237\n",
      "Epoch 53/256\n",
      "1/1 [==============================] - 0s 25ms/step - loss: 0.0132 - val_loss: 0.0269\n",
      "Epoch 54/256\n",
      "1/1 [==============================] - 0s 26ms/step - loss: 0.0122 - val_loss: 0.0366\n",
      "Epoch 55/256\n",
      "1/1 [==============================] - 0s 26ms/step - loss: 0.0144 - val_loss: 0.0294\n",
      "Epoch 56/256\n",
      "1/1 [==============================] - 0s 25ms/step - loss: 0.0131 - val_loss: 0.0225\n",
      "Epoch 57/256\n",
      "1/1 [==============================] - 0s 25ms/step - loss: 0.0114 - val_loss: 0.0234\n",
      "Epoch 58/256\n",
      "1/1 [==============================] - 0s 24ms/step - loss: 0.0126 - val_loss: 0.0219\n",
      "Epoch 59/256\n",
      "1/1 [==============================] - 0s 24ms/step - loss: 0.0109 - val_loss: 0.0232\n",
      "Epoch 60/256\n",
      "1/1 [==============================] - 0s 25ms/step - loss: 0.0128 - val_loss: 0.0221\n",
      "Epoch 61/256\n",
      "1/1 [==============================] - 0s 25ms/step - loss: 0.0109 - val_loss: 0.0217\n",
      "Epoch 62/256\n",
      "1/1 [==============================] - 0s 25ms/step - loss: 0.0118 - val_loss: 0.0215\n",
      "Epoch 63/256\n",
      "1/1 [==============================] - 0s 28ms/step - loss: 0.0108 - val_loss: 0.0208\n",
      "Epoch 64/256\n",
      "1/1 [==============================] - 0s 25ms/step - loss: 0.0110 - val_loss: 0.0208\n",
      "Epoch 65/256\n",
      "1/1 [==============================] - 0s 24ms/step - loss: 0.0110 - val_loss: 0.0244\n",
      "Epoch 66/256\n",
      "1/1 [==============================] - 0s 25ms/step - loss: 0.0111 - val_loss: 0.0211\n",
      "Epoch 67/256\n",
      "1/1 [==============================] - 0s 26ms/step - loss: 0.0096 - val_loss: 0.0203\n",
      "Epoch 68/256\n",
      "1/1 [==============================] - 0s 28ms/step - loss: 0.0106 - val_loss: 0.0202\n",
      "Epoch 69/256\n",
      "1/1 [==============================] - 0s 25ms/step - loss: 0.0105 - val_loss: 0.0210\n",
      "Epoch 70/256\n",
      "1/1 [==============================] - 0s 26ms/step - loss: 0.0097 - val_loss: 0.0220\n",
      "Epoch 71/256\n",
      "1/1 [==============================] - 0s 29ms/step - loss: 0.0096 - val_loss: 0.0211\n",
      "Epoch 72/256\n",
      "1/1 [==============================] - 0s 29ms/step - loss: 0.0098 - val_loss: 0.0198\n",
      "Epoch 73/256\n"
     ]
    },
    {
     "name": "stdout",
     "output_type": "stream",
     "text": [
      "1/1 [==============================] - 0s 27ms/step - loss: 0.0093 - val_loss: 0.0217\n",
      "Epoch 74/256\n",
      "1/1 [==============================] - 0s 28ms/step - loss: 0.0106 - val_loss: 0.0197\n",
      "Epoch 75/256\n",
      "1/1 [==============================] - 0s 25ms/step - loss: 0.0093 - val_loss: 0.0195\n",
      "Epoch 76/256\n",
      "1/1 [==============================] - 0s 26ms/step - loss: 0.0092 - val_loss: 0.0252\n",
      "Epoch 77/256\n",
      "1/1 [==============================] - 0s 25ms/step - loss: 0.0092 - val_loss: 0.0240\n",
      "Epoch 78/256\n",
      "1/1 [==============================] - 0s 25ms/step - loss: 0.0088 - val_loss: 0.0197\n",
      "Epoch 79/256\n",
      "1/1 [==============================] - 0s 25ms/step - loss: 0.0090 - val_loss: 0.0196\n",
      "Epoch 80/256\n",
      "1/1 [==============================] - 0s 24ms/step - loss: 0.0088 - val_loss: 0.0204\n",
      "Epoch 81/256\n",
      "1/1 [==============================] - 0s 26ms/step - loss: 0.0083 - val_loss: 0.0213\n",
      "Epoch 82/256\n",
      "1/1 [==============================] - 0s 26ms/step - loss: 0.0092 - val_loss: 0.0264\n",
      "Epoch 83/256\n",
      "1/1 [==============================] - 0s 25ms/step - loss: 0.0090 - val_loss: 0.0197\n",
      "Epoch 84/256\n",
      "1/1 [==============================] - 0s 25ms/step - loss: 0.0082 - val_loss: 0.0186\n",
      "Epoch 85/256\n",
      "1/1 [==============================] - 0s 25ms/step - loss: 0.0090 - val_loss: 0.0218\n",
      "Epoch 86/256\n",
      "1/1 [==============================] - 0s 26ms/step - loss: 0.0079 - val_loss: 0.0284\n",
      "Epoch 87/256\n",
      "1/1 [==============================] - 0s 24ms/step - loss: 0.0086 - val_loss: 0.0248\n",
      "Epoch 88/256\n",
      "1/1 [==============================] - 0s 25ms/step - loss: 0.0078 - val_loss: 0.0204\n",
      "Epoch 89/256\n",
      "1/1 [==============================] - 0s 25ms/step - loss: 0.0081 - val_loss: 0.0196\n",
      "Epoch 90/256\n",
      "1/1 [==============================] - 0s 25ms/step - loss: 0.0078 - val_loss: 0.0231\n",
      "Epoch 91/256\n",
      "1/1 [==============================] - 0s 25ms/step - loss: 0.0078 - val_loss: 0.0257\n",
      "Epoch 92/256\n",
      "1/1 [==============================] - 0s 29ms/step - loss: 0.0078 - val_loss: 0.0227\n",
      "Epoch 93/256\n",
      "1/1 [==============================] - 0s 25ms/step - loss: 0.0072 - val_loss: 0.0246\n",
      "Epoch 94/256\n",
      "1/1 [==============================] - 0s 24ms/step - loss: 0.0074 - val_loss: 0.0222\n",
      "Epoch 95/256\n",
      "1/1 [==============================] - 0s 25ms/step - loss: 0.0076 - val_loss: 0.0308\n",
      "Epoch 96/256\n",
      "1/1 [==============================] - 0s 25ms/step - loss: 0.0072 - val_loss: 0.0215\n",
      "Epoch 97/256\n",
      "1/1 [==============================] - 0s 25ms/step - loss: 0.0072 - val_loss: 0.0225\n",
      "Epoch 98/256\n",
      "1/1 [==============================] - 0s 25ms/step - loss: 0.0068 - val_loss: 0.0216\n",
      "Epoch 99/256\n",
      "1/1 [==============================] - 0s 24ms/step - loss: 0.0080 - val_loss: 0.0343\n",
      "Epoch 100/256\n",
      "1/1 [==============================] - 0s 24ms/step - loss: 0.0070 - val_loss: 0.0245\n",
      "Epoch 101/256\n",
      "1/1 [==============================] - 0s 25ms/step - loss: 0.0066 - val_loss: 0.0289\n",
      "Epoch 102/256\n",
      "1/1 [==============================] - 0s 26ms/step - loss: 0.0092 - val_loss: 0.0213\n",
      "Epoch 103/256\n",
      "1/1 [==============================] - 0s 26ms/step - loss: 0.0070 - val_loss: 0.0173\n",
      "Epoch 104/256\n",
      "1/1 [==============================] - 0s 26ms/step - loss: 0.0108 - val_loss: 0.0352\n",
      "Epoch 105/256\n",
      "1/1 [==============================] - 0s 25ms/step - loss: 0.0073 - val_loss: 0.0437\n",
      "Epoch 106/256\n",
      "1/1 [==============================] - 0s 25ms/step - loss: 0.0107 - val_loss: 0.0172\n",
      "Epoch 107/256\n",
      "1/1 [==============================] - 0s 25ms/step - loss: 0.0091 - val_loss: 0.0219\n",
      "Epoch 108/256\n",
      "1/1 [==============================] - 0s 26ms/step - loss: 0.0090 - val_loss: 0.0371\n",
      "Epoch 109/256\n",
      "1/1 [==============================] - 0s 24ms/step - loss: 0.0080 - val_loss: 0.0342\n",
      "Epoch 110/256\n",
      "1/1 [==============================] - 0s 25ms/step - loss: 0.0096 - val_loss: 0.0425\n",
      "Epoch 111/256\n",
      "1/1 [==============================] - 0s 24ms/step - loss: 0.0095 - val_loss: 0.0423\n",
      "Epoch 112/256\n",
      "1/1 [==============================] - 0s 28ms/step - loss: 0.0072 - val_loss: 0.0253\n",
      "Epoch 113/256\n",
      "1/1 [==============================] - 0s 25ms/step - loss: 0.0065 - val_loss: 0.0228\n",
      "Epoch 114/256\n",
      "1/1 [==============================] - 0s 24ms/step - loss: 0.0079 - val_loss: 0.0384\n",
      "Epoch 115/256\n",
      "1/1 [==============================] - 0s 26ms/step - loss: 0.0079 - val_loss: 0.0288\n",
      "Epoch 116/256\n",
      "1/1 [==============================] - 0s 25ms/step - loss: 0.0077 - val_loss: 0.0235\n",
      "Epoch 117/256\n",
      "1/1 [==============================] - 0s 25ms/step - loss: 0.0080 - val_loss: 0.0362\n",
      "Epoch 118/256\n",
      "1/1 [==============================] - 0s 25ms/step - loss: 0.0091 - val_loss: 0.0293\n",
      "Epoch 119/256\n",
      "1/1 [==============================] - 0s 24ms/step - loss: 0.0068 - val_loss: 0.0183\n",
      "Epoch 120/256\n",
      "1/1 [==============================] - 0s 24ms/step - loss: 0.0114 - val_loss: 0.0453\n",
      "Epoch 121/256\n",
      "1/1 [==============================] - 0s 25ms/step - loss: 0.0078 - val_loss: 0.0504\n",
      "Epoch 122/256\n",
      "1/1 [==============================] - 0s 27ms/step - loss: 0.0098 - val_loss: 0.0156\n",
      "Epoch 123/256\n",
      "1/1 [==============================] - 0s 26ms/step - loss: 0.0158 - val_loss: 0.0197\n",
      "Epoch 124/256\n",
      "1/1 [==============================] - 0s 24ms/step - loss: 0.0105 - val_loss: 0.0676\n",
      "Epoch 125/256\n",
      "1/1 [==============================] - 0s 25ms/step - loss: 0.0207 - val_loss: 0.0593\n",
      "Epoch 126/256\n",
      "1/1 [==============================] - 0s 24ms/step - loss: 0.0164 - val_loss: 0.0146\n",
      "Epoch 127/256\n",
      "1/1 [==============================] - 0s 26ms/step - loss: 0.0175 - val_loss: 0.0148\n",
      "Epoch 128/256\n",
      "1/1 [==============================] - 0s 24ms/step - loss: 0.0182 - val_loss: 0.0517\n",
      "Epoch 129/256\n",
      "1/1 [==============================] - 0s 25ms/step - loss: 0.0117 - val_loss: 0.0493\n",
      "Epoch 130/256\n",
      "1/1 [==============================] - 0s 25ms/step - loss: 0.0102 - val_loss: 0.0157\n",
      "Epoch 131/256\n",
      "1/1 [==============================] - 0s 24ms/step - loss: 0.0130 - val_loss: 0.0171\n",
      "Epoch 132/256\n",
      "1/1 [==============================] - 0s 25ms/step - loss: 0.0102 - val_loss: 0.0410\n",
      "Epoch 133/256\n",
      "1/1 [==============================] - 0s 25ms/step - loss: 0.0130 - val_loss: 0.0358\n",
      "Epoch 134/256\n",
      "1/1 [==============================] - 0s 25ms/step - loss: 0.0098 - val_loss: 0.0189\n",
      "Epoch 135/256\n",
      "1/1 [==============================] - 0s 25ms/step - loss: 0.0098 - val_loss: 0.0264\n",
      "Epoch 136/256\n",
      "1/1 [==============================] - 0s 24ms/step - loss: 0.0086 - val_loss: 0.0573\n",
      "Epoch 137/256\n",
      "1/1 [==============================] - 0s 26ms/step - loss: 0.0117 - val_loss: 0.0387\n",
      "Epoch 138/256\n",
      "1/1 [==============================] - 0s 29ms/step - loss: 0.0081 - val_loss: 0.0209\n",
      "Epoch 139/256\n",
      "1/1 [==============================] - 0s 25ms/step - loss: 0.0095 - val_loss: 0.0275\n",
      "Epoch 140/256\n",
      "1/1 [==============================] - 0s 25ms/step - loss: 0.0063 - val_loss: 0.0471\n",
      "Epoch 141/256\n",
      "1/1 [==============================] - 0s 25ms/step - loss: 0.0091 - val_loss: 0.0251\n",
      "Epoch 142/256\n",
      "1/1 [==============================] - 0s 25ms/step - loss: 0.0094 - val_loss: 0.0217\n",
      "Epoch 143/256\n",
      "1/1 [==============================] - 0s 25ms/step - loss: 0.0099 - val_loss: 0.0408\n",
      "Epoch 144/256\n",
      "1/1 [==============================] - 0s 25ms/step - loss: 0.0083 - val_loss: 0.0328\n",
      "Epoch 145/256\n",
      "1/1 [==============================] - 0s 25ms/step - loss: 0.0075 - val_loss: 0.0173\n",
      "Epoch 146/256\n",
      "1/1 [==============================] - 0s 25ms/step - loss: 0.0104 - val_loss: 0.0334\n",
      "Epoch 147/256\n",
      "1/1 [==============================] - 0s 24ms/step - loss: 0.0073 - val_loss: 0.0500\n",
      "Epoch 148/256\n",
      "1/1 [==============================] - 0s 24ms/step - loss: 0.0097 - val_loss: 0.0237\n",
      "Epoch 149/256\n",
      "1/1 [==============================] - 0s 25ms/step - loss: 0.0101 - val_loss: 0.0253\n",
      "Epoch 150/256\n",
      "1/1 [==============================] - 0s 27ms/step - loss: 0.0078 - val_loss: 0.0523\n",
      "Epoch 151/256\n",
      "1/1 [==============================] - 0s 25ms/step - loss: 0.0143 - val_loss: 0.0280\n",
      "Epoch 152/256\n",
      "1/1 [==============================] - 0s 25ms/step - loss: 0.0095 - val_loss: 0.0154\n",
      "Epoch 153/256\n",
      "1/1 [==============================] - 0s 24ms/step - loss: 0.0136 - val_loss: 0.0276\n",
      "Epoch 154/256\n",
      "1/1 [==============================] - 0s 26ms/step - loss: 0.0063 - val_loss: 0.0642\n",
      "Epoch 155/256\n"
     ]
    },
    {
     "name": "stdout",
     "output_type": "stream",
     "text": [
      "1/1 [==============================] - 0s 26ms/step - loss: 0.0156 - val_loss: 0.0468\n",
      "Epoch 156/256\n",
      "1/1 [==============================] - 0s 25ms/step - loss: 0.0068 - val_loss: 0.0190\n",
      "Epoch 157/256\n",
      "1/1 [==============================] - 0s 24ms/step - loss: 0.0109 - val_loss: 0.0295\n",
      "Epoch 158/256\n",
      "1/1 [==============================] - 0s 26ms/step - loss: 0.0084 - val_loss: 0.0525\n",
      "Epoch 159/256\n",
      "1/1 [==============================] - 0s 24ms/step - loss: 0.0123 - val_loss: 0.0265\n",
      "Epoch 160/256\n",
      "1/1 [==============================] - 0s 28ms/step - loss: 0.0063 - val_loss: 0.0257\n",
      "Epoch 161/256\n",
      "1/1 [==============================] - 0s 24ms/step - loss: 0.0069 - val_loss: 0.0486\n",
      "Epoch 162/256\n",
      "1/1 [==============================] - 0s 24ms/step - loss: 0.0114 - val_loss: 0.0224\n",
      "Epoch 163/256\n",
      "1/1 [==============================] - 0s 24ms/step - loss: 0.0078 - val_loss: 0.0162\n",
      "Epoch 164/256\n",
      "1/1 [==============================] - 0s 24ms/step - loss: 0.0104 - val_loss: 0.0343\n",
      "Epoch 165/256\n",
      "1/1 [==============================] - 0s 25ms/step - loss: 0.0090 - val_loss: 0.0406\n",
      "Epoch 166/256\n",
      "1/1 [==============================] - 0s 27ms/step - loss: 0.0079 - val_loss: 0.0255\n",
      "Epoch 167/256\n",
      "1/1 [==============================] - 0s 25ms/step - loss: 0.0096 - val_loss: 0.0308\n",
      "Epoch 168/256\n",
      "1/1 [==============================] - 0s 24ms/step - loss: 0.0088 - val_loss: 0.0442\n",
      "Epoch 169/256\n",
      "1/1 [==============================] - 0s 29ms/step - loss: 0.0089 - val_loss: 0.0302\n",
      "Epoch 170/256\n",
      "1/1 [==============================] - 0s 33ms/step - loss: 0.0074 - val_loss: 0.0169\n",
      "Epoch 171/256\n",
      "1/1 [==============================] - 0s 33ms/step - loss: 0.0087 - val_loss: 0.0328\n",
      "Epoch 172/256\n",
      "1/1 [==============================] - 0s 27ms/step - loss: 0.0066 - val_loss: 0.0458\n",
      "Epoch 173/256\n",
      "1/1 [==============================] - 0s 29ms/step - loss: 0.0101 - val_loss: 0.0221\n",
      "Epoch 174/256\n",
      "1/1 [==============================] - 0s 27ms/step - loss: 0.0088 - val_loss: 0.0209\n",
      "Epoch 175/256\n",
      "1/1 [==============================] - 0s 25ms/step - loss: 0.0081 - val_loss: 0.0471\n",
      "Epoch 176/256\n",
      "1/1 [==============================] - 0s 25ms/step - loss: 0.0099 - val_loss: 0.0307\n",
      "Epoch 177/256\n",
      "1/1 [==============================] - 0s 25ms/step - loss: 0.0067 - val_loss: 0.0218\n",
      "Epoch 178/256\n",
      "1/1 [==============================] - 0s 26ms/step - loss: 0.0081 - val_loss: 0.0318\n",
      "Epoch 179/256\n",
      "1/1 [==============================] - 0s 28ms/step - loss: 0.0054 - val_loss: 0.0412\n",
      "Epoch 180/256\n",
      "1/1 [==============================] - 0s 26ms/step - loss: 0.0078 - val_loss: 0.0214\n",
      "Epoch 181/256\n",
      "1/1 [==============================] - 0s 25ms/step - loss: 0.0073 - val_loss: 0.0174\n",
      "Epoch 182/256\n",
      "1/1 [==============================] - 0s 27ms/step - loss: 0.0076 - val_loss: 0.0288\n",
      "Epoch 183/256\n",
      "1/1 [==============================] - 0s 25ms/step - loss: 0.0082 - val_loss: 0.0323\n",
      "Epoch 184/256\n",
      "1/1 [==============================] - 0s 25ms/step - loss: 0.0075 - val_loss: 0.0306\n",
      "Epoch 185/256\n",
      "1/1 [==============================] - 0s 24ms/step - loss: 0.0080 - val_loss: 0.0377\n",
      "Epoch 186/256\n",
      "1/1 [==============================] - 0s 25ms/step - loss: 0.0071 - val_loss: 0.0423\n",
      "Epoch 187/256\n",
      "1/1 [==============================] - 0s 24ms/step - loss: 0.0070 - val_loss: 0.0269\n",
      "Epoch 188/256\n",
      "1/1 [==============================] - 0s 24ms/step - loss: 0.0051 - val_loss: 0.0229\n",
      "Epoch 189/256\n",
      "1/1 [==============================] - 0s 26ms/step - loss: 0.0064 - val_loss: 0.0386\n",
      "Epoch 190/256\n",
      "1/1 [==============================] - 0s 24ms/step - loss: 0.0080 - val_loss: 0.0348\n",
      "Epoch 191/256\n",
      "1/1 [==============================] - 0s 25ms/step - loss: 0.0056 - val_loss: 0.0246\n",
      "Epoch 192/256\n",
      "1/1 [==============================] - 0s 24ms/step - loss: 0.0068 - val_loss: 0.0386\n",
      "Epoch 193/256\n",
      "1/1 [==============================] - 0s 24ms/step - loss: 0.0075 - val_loss: 0.0362\n",
      "Epoch 194/256\n",
      "1/1 [==============================] - 0s 25ms/step - loss: 0.0065 - val_loss: 0.0265\n",
      "Epoch 195/256\n",
      "1/1 [==============================] - 0s 27ms/step - loss: 0.0080 - val_loss: 0.0415\n",
      "Epoch 196/256\n",
      "1/1 [==============================] - 0s 24ms/step - loss: 0.0058 - val_loss: 0.0332\n",
      "Epoch 197/256\n",
      "1/1 [==============================] - 0s 25ms/step - loss: 0.0050 - val_loss: 0.0257\n",
      "Epoch 198/256\n",
      "1/1 [==============================] - 0s 25ms/step - loss: 0.0057 - val_loss: 0.0254\n",
      "Epoch 199/256\n",
      "1/1 [==============================] - 0s 27ms/step - loss: 0.0061 - val_loss: 0.0289\n",
      "Epoch 200/256\n",
      "1/1 [==============================] - 0s 24ms/step - loss: 0.0061 - val_loss: 0.0396\n",
      "Epoch 201/256\n",
      "1/1 [==============================] - 0s 25ms/step - loss: 0.0058 - val_loss: 0.0317\n",
      "Epoch 202/256\n",
      "1/1 [==============================] - 0s 25ms/step - loss: 0.0052 - val_loss: 0.0215\n",
      "Epoch 203/256\n",
      "1/1 [==============================] - 0s 25ms/step - loss: 0.0084 - val_loss: 0.0341\n",
      "Epoch 204/256\n",
      "1/1 [==============================] - 0s 24ms/step - loss: 0.0056 - val_loss: 0.0398\n",
      "Epoch 205/256\n",
      "1/1 [==============================] - 0s 25ms/step - loss: 0.0055 - val_loss: 0.0274\n",
      "Epoch 206/256\n",
      "1/1 [==============================] - 0s 25ms/step - loss: 0.0094 - val_loss: 0.0409\n",
      "Epoch 207/256\n",
      "1/1 [==============================] - 0s 24ms/step - loss: 0.0077 - val_loss: 0.0434\n",
      "Epoch 208/256\n",
      "1/1 [==============================] - 0s 25ms/step - loss: 0.0071 - val_loss: 0.0166\n",
      "Epoch 209/256\n",
      "1/1 [==============================] - 0s 27ms/step - loss: 0.0109 - val_loss: 0.0173\n",
      "Epoch 210/256\n",
      "1/1 [==============================] - 0s 24ms/step - loss: 0.0096 - val_loss: 0.0531\n",
      "Epoch 211/256\n",
      "1/1 [==============================] - 0s 24ms/step - loss: 0.0103 - val_loss: 0.0376\n",
      "Epoch 212/256\n",
      "1/1 [==============================] - 0s 25ms/step - loss: 0.0077 - val_loss: 0.0266\n",
      "Epoch 213/256\n",
      "1/1 [==============================] - 0s 25ms/step - loss: 0.0092 - val_loss: 0.0411\n",
      "Epoch 214/256\n",
      "1/1 [==============================] - 0s 25ms/step - loss: 0.0075 - val_loss: 0.0408\n",
      "Epoch 215/256\n",
      "1/1 [==============================] - 0s 25ms/step - loss: 0.0086 - val_loss: 0.0179\n",
      "Epoch 216/256\n",
      "1/1 [==============================] - 0s 24ms/step - loss: 0.0086 - val_loss: 0.0294\n",
      "Epoch 217/256\n",
      "1/1 [==============================] - 0s 26ms/step - loss: 0.0059 - val_loss: 0.0324\n",
      "Epoch 218/256\n",
      "1/1 [==============================] - 0s 25ms/step - loss: 0.0060 - val_loss: 0.0276\n",
      "Epoch 219/256\n",
      "1/1 [==============================] - 0s 26ms/step - loss: 0.0059 - val_loss: 0.0274\n",
      "Epoch 220/256\n",
      "1/1 [==============================] - 0s 26ms/step - loss: 0.0054 - val_loss: 0.0204\n",
      "Epoch 221/256\n",
      "1/1 [==============================] - 0s 25ms/step - loss: 0.0062 - val_loss: 0.0317\n",
      "Epoch 222/256\n",
      "1/1 [==============================] - 0s 25ms/step - loss: 0.0071 - val_loss: 0.0267\n",
      "Epoch 223/256\n",
      "1/1 [==============================] - 0s 24ms/step - loss: 0.0046 - val_loss: 0.0267\n",
      "Epoch 224/256\n",
      "1/1 [==============================] - 0s 24ms/step - loss: 0.0045 - val_loss: 0.0347\n",
      "Epoch 225/256\n",
      "1/1 [==============================] - 0s 25ms/step - loss: 0.0079 - val_loss: 0.0249\n",
      "Epoch 226/256\n",
      "1/1 [==============================] - 0s 25ms/step - loss: 0.0046 - val_loss: 0.0264\n",
      "Epoch 227/256\n",
      "1/1 [==============================] - 0s 25ms/step - loss: 0.0079 - val_loss: 0.0397\n",
      "Epoch 228/256\n",
      "1/1 [==============================] - 0s 24ms/step - loss: 0.0081 - val_loss: 0.0232\n",
      "Epoch 229/256\n",
      "1/1 [==============================] - 0s 26ms/step - loss: 0.0048 - val_loss: 0.0205\n",
      "Epoch 230/256\n",
      "1/1 [==============================] - 0s 24ms/step - loss: 0.0064 - val_loss: 0.0225\n",
      "Epoch 231/256\n",
      "1/1 [==============================] - 0s 24ms/step - loss: 0.0047 - val_loss: 0.0437\n",
      "Epoch 232/256\n",
      "1/1 [==============================] - 0s 26ms/step - loss: 0.0101 - val_loss: 0.0195\n",
      "Epoch 233/256\n",
      "1/1 [==============================] - 0s 26ms/step - loss: 0.0090 - val_loss: 0.0234\n",
      "Epoch 234/256\n",
      "1/1 [==============================] - 0s 24ms/step - loss: 0.0061 - val_loss: 0.0540\n",
      "Epoch 235/256\n",
      "1/1 [==============================] - 0s 25ms/step - loss: 0.0175 - val_loss: 0.0321\n",
      "Epoch 236/256\n",
      "1/1 [==============================] - 0s 24ms/step - loss: 0.0096 - val_loss: 0.0190\n",
      "Epoch 237/256\n"
     ]
    },
    {
     "name": "stdout",
     "output_type": "stream",
     "text": [
      "1/1 [==============================] - 0s 24ms/step - loss: 0.0137 - val_loss: 0.0193\n",
      "Epoch 238/256\n",
      "1/1 [==============================] - 0s 24ms/step - loss: 0.0061 - val_loss: 0.0578\n",
      "Epoch 239/256\n",
      "1/1 [==============================] - 0s 25ms/step - loss: 0.0182 - val_loss: 0.0476\n",
      "Epoch 240/256\n",
      "1/1 [==============================] - 0s 30ms/step - loss: 0.0115 - val_loss: 0.0202\n",
      "Epoch 241/256\n",
      "1/1 [==============================] - 0s 24ms/step - loss: 0.0202 - val_loss: 0.0197\n",
      "Epoch 242/256\n",
      "1/1 [==============================] - 0s 25ms/step - loss: 0.0200 - val_loss: 0.0441\n",
      "Epoch 243/256\n",
      "1/1 [==============================] - 0s 24ms/step - loss: 0.0093 - val_loss: 0.0470\n",
      "Epoch 244/256\n",
      "1/1 [==============================] - 0s 26ms/step - loss: 0.0125 - val_loss: 0.0181\n",
      "Epoch 245/256\n",
      "1/1 [==============================] - 0s 25ms/step - loss: 0.0096 - val_loss: 0.0184\n",
      "Epoch 246/256\n",
      "1/1 [==============================] - 0s 25ms/step - loss: 0.0098 - val_loss: 0.0332\n",
      "Epoch 247/256\n",
      "1/1 [==============================] - 0s 25ms/step - loss: 0.0100 - val_loss: 0.0339\n",
      "Epoch 248/256\n",
      "1/1 [==============================] - 0s 25ms/step - loss: 0.0075 - val_loss: 0.0184\n",
      "Epoch 249/256\n",
      "1/1 [==============================] - 0s 27ms/step - loss: 0.0126 - val_loss: 0.0247\n",
      "Epoch 250/256\n",
      "1/1 [==============================] - 0s 25ms/step - loss: 0.0092 - val_loss: 0.0447\n",
      "Epoch 251/256\n",
      "1/1 [==============================] - 0s 25ms/step - loss: 0.0108 - val_loss: 0.0258\n",
      "Epoch 252/256\n",
      "1/1 [==============================] - 0s 25ms/step - loss: 0.0061 - val_loss: 0.0188\n",
      "Epoch 253/256\n",
      "1/1 [==============================] - 0s 24ms/step - loss: 0.0107 - val_loss: 0.0193\n",
      "Epoch 254/256\n",
      "1/1 [==============================] - 0s 25ms/step - loss: 0.0074 - val_loss: 0.0374\n",
      "Epoch 255/256\n",
      "1/1 [==============================] - 0s 26ms/step - loss: 0.0097 - val_loss: 0.0220\n",
      "Epoch 256/256\n",
      "1/1 [==============================] - 0s 43ms/step - loss: 0.0075 - val_loss: 0.0200\n",
      "INFO:tensorflow:Assets written to: n_beats_model/assets\n",
      "WARNING:tensorflow:Model was constructed with shape (None, 1, 1) for input KerasTensor(type_spec=TensorSpec(shape=(None, 1, 1), dtype=tf.float32, name='input_variable'), name='input_variable', description=\"created by layer 'input_variable'\"), but it was called on an input with incompatible shape (None, 1, 26).\n"
     ]
    },
    {
     "name": "stderr",
     "output_type": "stream",
     "text": [
      "/Users/patricia/opt/anaconda3/lib/python3.8/site-packages/keras/utils/generic_utils.py:494: CustomMaskWarning:\n",
      "\n",
      "Custom mask layers require a config and must override get_config. When loading, the custom mask layer must be passed to the custom_objects argument.\n",
      "\n"
     ]
    },
    {
     "name": "stdout",
     "output_type": "stream",
     "text": [
      "WARNING:tensorflow:Model was constructed with shape (None, 1, 1) for input KerasTensor(type_spec=TensorSpec(shape=(None, 1, 1), dtype=tf.float32, name='input_variable'), name='input_variable', description=\"created by layer 'input_variable'\"), but it was called on an input with incompatible shape (None, 1, 26).\n",
      "WARNING:tensorflow:Model was constructed with shape (None, 1, 1) for input KerasTensor(type_spec=TensorSpec(shape=(None, 1, 1), dtype=tf.float32, name='input_variable'), name='input_variable', description=\"created by layer 'input_variable'\"), but it was called on an input with incompatible shape (None, 1, 26).\n"
     ]
    }
   ],
   "source": [
    "num_samples, time_steps, input_dim, output_dim = 500, 1, 2, 1\n",
    "\n",
    "# Definition of the model.\n",
    "model_keras = NBeatsKeras(backcast_length=time_steps, forecast_length=output_dim,\n",
    "                          stack_types=(NBeatsKeras.GENERIC_BLOCK, \n",
    "                                       NBeatsKeras.GENERIC_BLOCK),\n",
    "                          nb_blocks_per_stack=2, thetas_dim=(4,4), share_weights_in_stack=True,\n",
    "                          hidden_layer_units=480)\n",
    "\n",
    "# Definition of the objective function and the optimizer.\n",
    "model_keras.compile(loss='mae', optimizer='adam')\n",
    "\n",
    "# Train the model.\n",
    "print('Keras training...')\n",
    "m=model_keras.fit(train_X, train_y, validation_data=(test_X, test_y), epochs=256, batch_size=32)\n",
    "\n",
    "# Save the model for later.\n",
    "model_keras.save('n_beats_model')\n",
    "\n",
    "# Predict on the testing set (forecast).\n",
    "test_size = len(test_X)\n",
    "predictions_keras_forecast = model_keras.predict(test_X)\n",
    "np.testing.assert_equal(predictions_keras_forecast.shape, (test_size, model_keras.forecast_length, output_dim))\n",
    "\n",
    "# Predict on the testing set (backcast).\n",
    "predictions_keras_backcast = model_keras.predict(test_X, return_backcast=True)\n",
    "np.testing.assert_equal(predictions_keras_backcast.shape, (test_size, model_keras.backcast_length, output_dim))\n",
    "\n",
    "# Load the model.\n",
    "model_keras_2 = NBeatsKeras.load('n_beats_model')\n",
    "\n",
    "np.testing.assert_almost_equal(predictions_keras_forecast, model_keras_2.predict(test_X))\n"
   ]
  },
  {
   "cell_type": "code",
   "execution_count": 587,
   "metadata": {},
   "outputs": [
    {
     "data": {
      "image/png": "[encoded data removed]",
      "text/plain": [
       "<Figure size 432x288 with 1 Axes>"
      ]
     },
     "metadata": {
      "needs_background": "light"
     },
     "output_type": "display_data"
    }
   ],
   "source": [
    "# summarize history for loss\n",
    "plt.plot(m.history['loss'])\n",
    "plt.plot(m.history['val_loss'])\n",
    "plt.title('model loss')\n",
    "plt.ylabel('loss')\n",
    "plt.xlabel('epoch')\n",
    "plt.legend(['train', 'test'], loc='upper right')\n",
    "plt.show()"
   ]
  },
  {
   "cell_type": "code",
   "execution_count": 588,
   "metadata": {},
   "outputs": [
    {
     "name": "stdout",
     "output_type": "stream",
     "text": [
      "(28, 1, 26)\n",
      "(13, 1, 26)\n"
     ]
    }
   ],
   "source": [
    "train_X, train_y = train[:, :-1], train[:, -1].reshape(-1,1)\n",
    "test_X, test_y = test[:, :-1], test[:, -1].reshape(-1,1)\n",
    "\n",
    "train_X = train_X.reshape((train_X.shape[0], 1, train_X.shape[1]))\n",
    "test_X = test_X.reshape((test_X.shape[0], 1, test_X.shape[1]))\n",
    "\n",
    "print(train_X.shape)\n",
    "print(test_X.shape)"
   ]
  },
  {
   "cell_type": "code",
   "execution_count": 589,
   "metadata": {},
   "outputs": [
    {
     "name": "stdout",
     "output_type": "stream",
     "text": [
      "(28, 1)\n",
      "(13, 1)\n",
      "(28, 26)\n",
      "(13, 26)\n"
     ]
    }
   ],
   "source": [
    "#进行预测 make a prediction\n",
    "train_predict = model_keras_2.predict(train_X)\n",
    "test_predict = model_keras_2.predict(test_X)\n",
    "\n",
    "train_predict = train_predict.reshape((train_predict.shape[0], 1))\n",
    "test_predict = test_predict.reshape((test_predict.shape[0], 1))\n",
    "\n",
    "print(train_predict.shape)\n",
    "print(test_predict.shape)\n",
    "\n",
    "#test_X, test_y = test[:, :-1], test[:, -1].reshape(-1,1)\n",
    "train_X = train_X.reshape((train_X.shape[0], train_X.shape[2]))\n",
    "test_X = test_X.reshape((test_X.shape[0], test_X.shape[2]))\n",
    "print(train_X.shape)\n",
    "print(test_X.shape)"
   ]
  },
  {
   "cell_type": "code",
   "execution_count": 590,
   "metadata": {},
   "outputs": [],
   "source": [
    "#训练数据逆缩放 invert scaling for forecast\n",
    "train_predict = concatenate((train_X,train_predict), axis=1)\n",
    "train_predict = scaler.inverse_transform(train_predict)\n",
    "train_predict = train_predict[:, -1]\n",
    "train_predict = np.array(train_predict)\n",
    "#真实数据逆缩放 invert scaling for actual\n",
    "train_y = train_y.reshape((len(train_y), 1))\n",
    "original_ytrain= concatenate((train_X,train_y), axis=1)\n",
    "original_ytrain= scaler.inverse_transform(original_ytrain)\n",
    "original_ytrain = original_ytrain[:, -1]\n",
    "\n",
    "\n",
    "#预测数据逆缩放 invert scaling for forecast\n",
    "test_predict = concatenate((test_X,test_predict), axis=1)\n",
    "test_predict = scaler.inverse_transform(test_predict)\n",
    "test_predict = test_predict[:, -1]\n",
    "test_predict = np.array(test_predict)\n",
    "#真实数据逆缩放 invert scaling for actual\n",
    "test_y = test_y.reshape((len(test_y), 1))\n",
    "original_ytest= concatenate((test_X,test_y), axis=1)\n",
    "original_ytest= scaler.inverse_transform(original_ytest)\n",
    "original_ytest = original_ytest[:, -1]"
   ]
  },
  {
   "cell_type": "code",
   "execution_count": 591,
   "metadata": {},
   "outputs": [
    {
     "name": "stdout",
     "output_type": "stream",
     "text": [
      "Train data RMSE:  0.061798415948485425\n",
      "Train data MSE:  0.0038190442\n",
      "Test data MAE:  0.047354393\n",
      "-------------------------------------------------------------------------------------\n",
      "Test data RMSE:  0.12300473960122434\n",
      "Test data MSE:  0.015130166\n",
      "Test data MAE:  0.10798491\n",
      "-------------------------------------------------------------------------------------\n",
      "Train data R2 score: 0.997633371850073\n",
      "Test data R2 score: 0.8886130681956534\n",
      "-------------------------------------------------------------------------------------\n",
      "Train data explained variance regression score: 0.9984042048454285\n",
      "Test data explained variance regression score: 0.9010589122772217\n"
     ]
    }
   ],
   "source": [
    "# Evaluation metrices RMSE and MAE\n",
    "print(\"Train data RMSE: \", math.sqrt(mean_squared_error(original_ytrain,train_predict)))\n",
    "print(\"Train data MSE: \", mean_squared_error(original_ytrain,train_predict))\n",
    "print(\"Test data MAE: \", mean_absolute_error(original_ytrain,train_predict))\n",
    "print(\"-------------------------------------------------------------------------------------\")\n",
    "print(\"Test data RMSE: \", math.sqrt(mean_squared_error(original_ytest,test_predict)))\n",
    "print(\"Test data MSE: \", mean_squared_error(original_ytest,test_predict))\n",
    "print(\"Test data MAE: \", mean_absolute_error(original_ytest,test_predict))\n",
    "print(\"-------------------------------------------------------------------------------------\")\n",
    "print(\"Train data R2 score:\", r2_score(original_ytrain, train_predict))\n",
    "print(\"Test data R2 score:\", r2_score(original_ytest, test_predict))\n",
    "print(\"-------------------------------------------------------------------------------------\")\n",
    "print(\"Train data explained variance regression score:\", explained_variance_score(original_ytrain, train_predict))\n",
    "print(\"Test data explained variance regression score:\", explained_variance_score(original_ytest, test_predict))\n"
   ]
  },
  {
   "cell_type": "code",
   "execution_count": 592,
   "metadata": {},
   "outputs": [
    {
     "data": {
      "image/png": "[encoded data removed]",
      "text/plain": [
       "<Figure size 432x288 with 1 Axes>"
      ]
     },
     "metadata": {
      "needs_background": "light"
     },
     "output_type": "display_data"
    }
   ],
   "source": [
    "#画出真实数据和预测数据\n",
    "pyplot.plot(test_predict,label='prediction')\n",
    "pyplot.plot(original_ytest,label='true')\n",
    "pyplot.legend()\n",
    "pyplot.show()\n"
   ]
  },
  {
   "cell_type": "code",
   "execution_count": 593,
   "metadata": {},
   "outputs": [
    {
     "name": "stdout",
     "output_type": "stream",
     "text": [
      "(28,)\n",
      "(13,)\n"
     ]
    }
   ],
   "source": [
    "print(train_predict.shape)\n",
    "print(test_predict.shape)"
   ]
  },
  {
   "cell_type": "code",
   "execution_count": 594,
   "metadata": {},
   "outputs": [
    {
     "name": "stdout",
     "output_type": "stream",
     "text": [
      "(28, 27)\n",
      "(13, 27)\n"
     ]
    }
   ],
   "source": [
    "train_predict = concatenate((train_X,train_predict.reshape(-1,1)), axis=1)\n",
    "test_predict = concatenate((test_X,test_predict.reshape(-1,1)), axis=1)\n",
    "print(train_predict.shape)\n",
    "print(test_predict.shape)"
   ]
  },
  {
   "cell_type": "code",
   "execution_count": 595,
   "metadata": {},
   "outputs": [
    {
     "name": "stdout",
     "output_type": "stream",
     "text": [
      "Train predicted data:  (41, 27)\n",
      "Test predicted data:  (41, 27)\n"
     ]
    },
    {
     "data": {
      "application/vnd.plotly.v1+json": {
       "config": {
        "plotlyServerURL": "https://plot.ly"
       },
       "data": [
        {
         "hovertemplate": "variable=original<br>Year=%{x}<br>GDP=%{y}<extra></extra>",
         "legendgroup": "original",
         "line": {
          "color": "#636efa",
          "dash": "solid"
         },
         "marker": {
          "symbol": "circle"
         },
         "mode": "lines",
         "name": "Original GDP",
         "orientation": "v",
         "showlegend": true,
         "type": "scatter",
         "x": [
          1980,
          1981,
          1982,
          1983,
          1984,
          1985,
          1986,
          1987,
          1988,
          1989,
          1990,
          1991,
          1992,
          1993,
          1994,
          1995,
          1996,
          1997,
          1998,
          1999,
          2000,
          2001,
          2002,
          2003,
          2004,
          2005,
          2006,
          2007,
          2008,
          2009,
          2010,
          2011,
          2012,
          2013,
          2014,
          2015,
          2016,
          2017,
          2018,
          2019,
          2020
         ],
         "xaxis": "x",
         "y": [
          8.431112290490368,
          8.504270046125749,
          8.589216134263435,
          8.702992028789737,
          8.892680076004716,
          9.115908806077593,
          9.247270001061093,
          9.407107093201633,
          9.627760401063586,
          9.751483733220473,
          9.845482309649418,
          9.999052245403801,
          10.21077002595537,
          10.482154985571064,
          10.79215011729281,
          11.024185807409333,
          11.181829152141335,
          11.286213052841466,
          11.352703894521136,
          11.413816478829158,
          11.51572254947955,
          11.616051385779658,
          11.709457243283262,
          11.830811762401442,
          11.994364707629297,
          12.140567790976158,
          12.298827290006642,
          12.506519031414333,
          12.673712859108035,
          12.761444296989119,
          12.929068149523154,
          13.097948136342918,
          13.1966913253616,
          13.292887618718645,
          13.374775358709053,
          13.442790723299694,
          13.523010363649135,
          13.631630867910914,
          13.731347230519434,
          13.801934012334215,
          13.831370324351154
         ],
         "yaxis": "y"
        },
        {
         "hovertemplate": "variable=train_predicted_close<br>Year=%{x}<br>GDP=%{y}<extra></extra>",
         "legendgroup": "train_predicted_close",
         "line": {
          "color": "#EF553B",
          "dash": "solid"
         },
         "marker": {
          "symbol": "circle"
         },
         "mode": "lines",
         "name": "Train predicted GDP",
         "orientation": "v",
         "showlegend": true,
         "type": "scatter",
         "x": [
          1980,
          1981,
          1982,
          1983,
          1984,
          1985,
          1986,
          1987,
          1988,
          1989,
          1990,
          1991,
          1992,
          1993,
          1994,
          1995,
          1996,
          1997,
          1998,
          1999,
          2000,
          2001,
          2002,
          2003,
          2004,
          2005,
          2006,
          2007,
          2008,
          2009,
          2010,
          2011,
          2012,
          2013,
          2014,
          2015,
          2016,
          2017,
          2018,
          2019,
          2020
         ],
         "xaxis": "x",
         "y": [
          8.457296371459961,
          8.523030281066895,
          8.601204872131348,
          8.712021827697754,
          8.89815902709961,
          9.113214492797852,
          9.252939224243164,
          9.460556030273438,
          9.6581449508667,
          9.77371597290039,
          9.898962020874023,
          10.07058334350586,
          10.331212043762207,
          10.635210990905762,
          10.882768630981445,
          11.025519371032715,
          11.141397476196289,
          11.250808715820312,
          11.35763931274414,
          11.46463394165039,
          11.57386302947998,
          11.690718650817871,
          11.810378074645996,
          11.931418418884277,
          12.053089141845703,
          12.174849510192871,
          12.296585083007812,
          12.418100357055664,
          null,
          null,
          null,
          null,
          null,
          null,
          null,
          null,
          null,
          null,
          null,
          null,
          null
         ],
         "yaxis": "y"
        },
        {
         "hovertemplate": "variable=test_predicted_close<br>Year=%{x}<br>GDP=%{y}<extra></extra>",
         "legendgroup": "test_predicted_close",
         "line": {
          "color": "#00cc96",
          "dash": "solid"
         },
         "marker": {
          "symbol": "circle"
         },
         "mode": "lines",
         "name": "Test predicted GDP",
         "orientation": "v",
         "showlegend": true,
         "type": "scatter",
         "x": [
          1980,
          1981,
          1982,
          1983,
          1984,
          1985,
          1986,
          1987,
          1988,
          1989,
          1990,
          1991,
          1992,
          1993,
          1994,
          1995,
          1996,
          1997,
          1998,
          1999,
          2000,
          2001,
          2002,
          2003,
          2004,
          2005,
          2006,
          2007,
          2008,
          2009,
          2010,
          2011,
          2012,
          2013,
          2014,
          2015,
          2016,
          2017,
          2018,
          2019,
          2020
         ],
         "xaxis": "x",
         "y": [
          null,
          null,
          null,
          null,
          null,
          null,
          null,
          null,
          null,
          null,
          null,
          null,
          null,
          null,
          null,
          null,
          null,
          null,
          null,
          null,
          null,
          null,
          null,
          null,
          null,
          null,
          null,
          null,
          12.539761543273926,
          12.662420272827148,
          12.786206245422363,
          12.911255836486816,
          13.036642074584961,
          13.162299156188965,
          13.287961959838867,
          13.413610458374023,
          13.539233207702637,
          13.66484260559082,
          13.790728569030762,
          13.916635513305664,
          14.042495727539062
         ],
         "yaxis": "y"
        }
       ],
       "layout": {
        "font": {
         "color": "black",
         "size": 15
        },
        "legend": {
         "title": {
          "text": "Close Price"
         },
         "tracegroupgap": 0
        },
        "margin": {
         "t": 60
        },
        "plot_bgcolor": "white",
        "template": {
         "data": {
          "bar": [
           {
            "error_x": {
             "color": "#2a3f5f"
            },
            "error_y": {
             "color": "#2a3f5f"
            },
            "marker": {
             "line": {
              "color": "#E5ECF6",
              "width": 0.5
             },
             "pattern": {
              "fillmode": "overlay",
              "size": 10,
              "solidity": 0.2
             }
            },
            "type": "bar"
           }
          ],
          "barpolar": [
           {
            "marker": {
             "line": {
              "color": "#E5ECF6",
              "width": 0.5
             },
             "pattern": {
              "fillmode": "overlay",
              "size": 10,
              "solidity": 0.2
             }
            },
            "type": "barpolar"
           }
          ],
          "carpet": [
           {
            "aaxis": {
             "endlinecolor": "#2a3f5f",
             "gridcolor": "white",
             "linecolor": "white",
             "minorgridcolor": "white",
             "startlinecolor": "#2a3f5f"
            },
            "baxis": {
             "endlinecolor": "#2a3f5f",
             "gridcolor": "white",
             "linecolor": "white",
             "minorgridcolor": "white",
             "startlinecolor": "#2a3f5f"
            },
            "type": "carpet"
           }
          ],
          "choropleth": [
           {
            "colorbar": {
             "outlinewidth": 0,
             "ticks": ""
            },
            "type": "choropleth"
           }
          ],
          "contour": [
           {
            "colorbar": {
             "outlinewidth": 0,
             "ticks": ""
            },
            "colorscale": [
             [
              0,
              "#0d0887"
             ],
             [
              0.1111111111111111,
              "#46039f"
             ],
             [
              0.2222222222222222,
              "#7201a8"
             ],
             [
              0.3333333333333333,
              "#9c179e"
             ],
             [
              0.4444444444444444,
              "#bd3786"
             ],
             [
              0.5555555555555556,
              "#d8576b"
             ],
             [
              0.6666666666666666,
              "#ed7953"
             ],
             [
              0.7777777777777778,
              "#fb9f3a"
             ],
             [
              0.8888888888888888,
              "#fdca26"
             ],
             [
              1,
              "#f0f921"
             ]
            ],
            "type": "contour"
           }
          ],
          "contourcarpet": [
           {
            "colorbar": {
             "outlinewidth": 0,
             "ticks": ""
            },
            "type": "contourcarpet"
           }
          ],
          "heatmap": [
           {
            "colorbar": {
             "outlinewidth": 0,
             "ticks": ""
            },
            "colorscale": [
             [
              0,
              "#0d0887"
             ],
             [
              0.1111111111111111,
              "#46039f"
             ],
             [
              0.2222222222222222,
              "#7201a8"
             ],
             [
              0.3333333333333333,
              "#9c179e"
             ],
             [
              0.4444444444444444,
              "#bd3786"
             ],
             [
              0.5555555555555556,
              "#d8576b"
             ],
             [
              0.6666666666666666,
              "#ed7953"
             ],
             [
              0.7777777777777778,
              "#fb9f3a"
             ],
             [
              0.8888888888888888,
              "#fdca26"
             ],
             [
              1,
              "#f0f921"
             ]
            ],
            "type": "heatmap"
           }
          ],
          "heatmapgl": [
           {
            "colorbar": {
             "outlinewidth": 0,
             "ticks": ""
            },
            "colorscale": [
             [
              0,
              "#0d0887"
             ],
             [
              0.1111111111111111,
              "#46039f"
             ],
             [
              0.2222222222222222,
              "#7201a8"
             ],
             [
              0.3333333333333333,
              "#9c179e"
             ],
             [
              0.4444444444444444,
              "#bd3786"
             ],
             [
              0.5555555555555556,
              "#d8576b"
             ],
             [
              0.6666666666666666,
              "#ed7953"
             ],
             [
              0.7777777777777778,
              "#fb9f3a"
             ],
             [
              0.8888888888888888,
              "#fdca26"
             ],
             [
              1,
              "#f0f921"
             ]
            ],
            "type": "heatmapgl"
           }
          ],
          "histogram": [
           {
            "marker": {
             "pattern": {
              "fillmode": "overlay",
              "size": 10,
              "solidity": 0.2
             }
            },
            "type": "histogram"
           }
          ],
          "histogram2d": [
           {
            "colorbar": {
             "outlinewidth": 0,
             "ticks": ""
            },
            "colorscale": [
             [
              0,
              "#0d0887"
             ],
             [
              0.1111111111111111,
              "#46039f"
             ],
             [
              0.2222222222222222,
              "#7201a8"
             ],
             [
              0.3333333333333333,
              "#9c179e"
             ],
             [
              0.4444444444444444,
              "#bd3786"
             ],
             [
              0.5555555555555556,
              "#d8576b"
             ],
             [
              0.6666666666666666,
              "#ed7953"
             ],
             [
              0.7777777777777778,
              "#fb9f3a"
             ],
             [
              0.8888888888888888,
              "#fdca26"
             ],
             [
              1,
              "#f0f921"
             ]
            ],
            "type": "histogram2d"
           }
          ],
          "histogram2dcontour": [
           {
            "colorbar": {
             "outlinewidth": 0,
             "ticks": ""
            },
            "colorscale": [
             [
              0,
              "#0d0887"
             ],
             [
              0.1111111111111111,
              "#46039f"
             ],
             [
              0.2222222222222222,
              "#7201a8"
             ],
             [
              0.3333333333333333,
              "#9c179e"
             ],
             [
              0.4444444444444444,
              "#bd3786"
             ],
             [
              0.5555555555555556,
              "#d8576b"
             ],
             [
              0.6666666666666666,
              "#ed7953"
             ],
             [
              0.7777777777777778,
              "#fb9f3a"
             ],
             [
              0.8888888888888888,
              "#fdca26"
             ],
             [
              1,
              "#f0f921"
             ]
            ],
            "type": "histogram2dcontour"
           }
          ],
          "mesh3d": [
           {
            "colorbar": {
             "outlinewidth": 0,
             "ticks": ""
            },
            "type": "mesh3d"
           }
          ],
          "parcoords": [
           {
            "line": {
             "colorbar": {
              "outlinewidth": 0,
              "ticks": ""
             }
            },
            "type": "parcoords"
           }
          ],
          "pie": [
           {
            "automargin": true,
            "type": "pie"
           }
          ],
          "scatter": [
           {
            "marker": {
             "colorbar": {
              "outlinewidth": 0,
              "ticks": ""
             }
            },
            "type": "scatter"
           }
          ],
          "scatter3d": [
           {
            "line": {
             "colorbar": {
              "outlinewidth": 0,
              "ticks": ""
             }
            },
            "marker": {
             "colorbar": {
              "outlinewidth": 0,
              "ticks": ""
             }
            },
            "type": "scatter3d"
           }
          ],
          "scattercarpet": [
           {
            "marker": {
             "colorbar": {
              "outlinewidth": 0,
              "ticks": ""
             }
            },
            "type": "scattercarpet"
           }
          ],
          "scattergeo": [
           {
            "marker": {
             "colorbar": {
              "outlinewidth": 0,
              "ticks": ""
             }
            },
            "type": "scattergeo"
           }
          ],
          "scattergl": [
           {
            "marker": {
             "colorbar": {
              "outlinewidth": 0,
              "ticks": ""
             }
            },
            "type": "scattergl"
           }
          ],
          "scattermapbox": [
           {
            "marker": {
             "colorbar": {
              "outlinewidth": 0,
              "ticks": ""
             }
            },
            "type": "scattermapbox"
           }
          ],
          "scatterpolar": [
           {
            "marker": {
             "colorbar": {
              "outlinewidth": 0,
              "ticks": ""
             }
            },
            "type": "scatterpolar"
           }
          ],
          "scatterpolargl": [
           {
            "marker": {
             "colorbar": {
              "outlinewidth": 0,
              "ticks": ""
             }
            },
            "type": "scatterpolargl"
           }
          ],
          "scatterternary": [
           {
            "marker": {
             "colorbar": {
              "outlinewidth": 0,
              "ticks": ""
             }
            },
            "type": "scatterternary"
           }
          ],
          "surface": [
           {
            "colorbar": {
             "outlinewidth": 0,
             "ticks": ""
            },
            "colorscale": [
             [
              0,
              "#0d0887"
             ],
             [
              0.1111111111111111,
              "#46039f"
             ],
             [
              0.2222222222222222,
              "#7201a8"
             ],
             [
              0.3333333333333333,
              "#9c179e"
             ],
             [
              0.4444444444444444,
              "#bd3786"
             ],
             [
              0.5555555555555556,
              "#d8576b"
             ],
             [
              0.6666666666666666,
              "#ed7953"
             ],
             [
              0.7777777777777778,
              "#fb9f3a"
             ],
             [
              0.8888888888888888,
              "#fdca26"
             ],
             [
              1,
              "#f0f921"
             ]
            ],
            "type": "surface"
           }
          ],
          "table": [
           {
            "cells": {
             "fill": {
              "color": "#EBF0F8"
             },
             "line": {
              "color": "white"
             }
            },
            "header": {
             "fill": {
              "color": "#C8D4E3"
             },
             "line": {
              "color": "white"
             }
            },
            "type": "table"
           }
          ]
         },
         "layout": {
          "annotationdefaults": {
           "arrowcolor": "#2a3f5f",
           "arrowhead": 0,
           "arrowwidth": 1
          },
          "autotypenumbers": "strict",
          "coloraxis": {
           "colorbar": {
            "outlinewidth": 0,
            "ticks": ""
           }
          },
          "colorscale": {
           "diverging": [
            [
             0,
             "#8e0152"
            ],
            [
             0.1,
             "#c51b7d"
            ],
            [
             0.2,
             "#de77ae"
            ],
            [
             0.3,
             "#f1b6da"
            ],
            [
             0.4,
             "#fde0ef"
            ],
            [
             0.5,
             "#f7f7f7"
            ],
            [
             0.6,
             "#e6f5d0"
            ],
            [
             0.7,
             "#b8e186"
            ],
            [
             0.8,
             "#7fbc41"
            ],
            [
             0.9,
             "#4d9221"
            ],
            [
             1,
             "#276419"
            ]
           ],
           "sequential": [
            [
             0,
             "#0d0887"
            ],
            [
             0.1111111111111111,
             "#46039f"
            ],
            [
             0.2222222222222222,
             "#7201a8"
            ],
            [
             0.3333333333333333,
             "#9c179e"
            ],
            [
             0.4444444444444444,
             "#bd3786"
            ],
            [
             0.5555555555555556,
             "#d8576b"
            ],
            [
             0.6666666666666666,
             "#ed7953"
            ],
            [
             0.7777777777777778,
             "#fb9f3a"
            ],
            [
             0.8888888888888888,
             "#fdca26"
            ],
            [
             1,
             "#f0f921"
            ]
           ],
           "sequentialminus": [
            [
             0,
             "#0d0887"
            ],
            [
             0.1111111111111111,
             "#46039f"
            ],
            [
             0.2222222222222222,
             "#7201a8"
            ],
            [
             0.3333333333333333,
             "#9c179e"
            ],
            [
             0.4444444444444444,
             "#bd3786"
            ],
            [
             0.5555555555555556,
             "#d8576b"
            ],
            [
             0.6666666666666666,
             "#ed7953"
            ],
            [
             0.7777777777777778,
             "#fb9f3a"
            ],
            [
             0.8888888888888888,
             "#fdca26"
            ],
            [
             1,
             "#f0f921"
            ]
           ]
          },
          "colorway": [
           "#636efa",
           "#EF553B",
           "#00cc96",
           "#ab63fa",
           "#FFA15A",
           "#19d3f3",
           "#FF6692",
           "#B6E880",
           "#FF97FF",
           "#FECB52"
          ],
          "font": {
           "color": "#2a3f5f"
          },
          "geo": {
           "bgcolor": "white",
           "lakecolor": "white",
           "landcolor": "#E5ECF6",
           "showlakes": true,
           "showland": true,
           "subunitcolor": "white"
          },
          "hoverlabel": {
           "align": "left"
          },
          "hovermode": "closest",
          "mapbox": {
           "style": "light"
          },
          "paper_bgcolor": "white",
          "plot_bgcolor": "#E5ECF6",
          "polar": {
           "angularaxis": {
            "gridcolor": "white",
            "linecolor": "white",
            "ticks": ""
           },
           "bgcolor": "#E5ECF6",
           "radialaxis": {
            "gridcolor": "white",
            "linecolor": "white",
            "ticks": ""
           }
          },
          "scene": {
           "xaxis": {
            "backgroundcolor": "#E5ECF6",
            "gridcolor": "white",
            "gridwidth": 2,
            "linecolor": "white",
            "showbackground": true,
            "ticks": "",
            "zerolinecolor": "white"
           },
           "yaxis": {
            "backgroundcolor": "#E5ECF6",
            "gridcolor": "white",
            "gridwidth": 2,
            "linecolor": "white",
            "showbackground": true,
            "ticks": "",
            "zerolinecolor": "white"
           },
           "zaxis": {
            "backgroundcolor": "#E5ECF6",
            "gridcolor": "white",
            "gridwidth": 2,
            "linecolor": "white",
            "showbackground": true,
            "ticks": "",
            "zerolinecolor": "white"
           }
          },
          "shapedefaults": {
           "line": {
            "color": "#2a3f5f"
           }
          },
          "ternary": {
           "aaxis": {
            "gridcolor": "white",
            "linecolor": "white",
            "ticks": ""
           },
           "baxis": {
            "gridcolor": "white",
            "linecolor": "white",
            "ticks": ""
           },
           "bgcolor": "#E5ECF6",
           "caxis": {
            "gridcolor": "white",
            "linecolor": "white",
            "ticks": ""
           }
          },
          "title": {
           "x": 0.05
          },
          "xaxis": {
           "automargin": true,
           "gridcolor": "white",
           "linecolor": "white",
           "ticks": "",
           "title": {
            "standoff": 15
           },
           "zerolinecolor": "white",
           "zerolinewidth": 2
          },
          "yaxis": {
           "automargin": true,
           "gridcolor": "white",
           "linecolor": "white",
           "ticks": "",
           "title": {
            "standoff": 15
           },
           "zerolinecolor": "white",
           "zerolinewidth": 2
          }
         }
        },
        "title": {
         "text": "Comparision between original vs predicted GDP"
        },
        "xaxis": {
         "anchor": "y",
         "domain": [
          0,
          1
         ],
         "showgrid": false,
         "title": {
          "text": "Year"
         }
        },
        "yaxis": {
         "anchor": "x",
         "domain": [
          0,
          1
         ],
         "showgrid": false,
         "title": {
          "text": "GDP"
         }
        }
       }
      },
      "text/html": [
       "<div>                            <div id=\"64069c8a-f92a-431c-88e5-d03a322d2ca8\" class=\"plotly-graph-div\" style=\"height:525px; width:100%;\"></div>            <script type=\"text/javascript\">                require([\"plotly\"], function(Plotly) {                    window.PLOTLYENV=window.PLOTLYENV || {};                                    if (document.getElementById(\"64069c8a-f92a-431c-88e5-d03a322d2ca8\")) {                    Plotly.newPlot(                        \"64069c8a-f92a-431c-88e5-d03a322d2ca8\",                        [{\"hovertemplate\":\"variable=original<br>Year=%{x}<br>GDP=%{y}<extra></extra>\",\"legendgroup\":\"original\",\"line\":{\"color\":\"#636efa\",\"dash\":\"solid\"},\"marker\":{\"symbol\":\"circle\"},\"mode\":\"lines\",\"name\":\"Original GDP\",\"orientation\":\"v\",\"showlegend\":true,\"type\":\"scatter\",\"x\":[1980,1981,1982,1983,1984,1985,1986,1987,1988,1989,1990,1991,1992,1993,1994,1995,1996,1997,1998,1999,2000,2001,2002,2003,2004,2005,2006,2007,2008,2009,2010,2011,2012,2013,2014,2015,2016,2017,2018,2019,2020],\"xaxis\":\"x\",\"y\":[8.431112290490368,8.504270046125749,8.589216134263435,8.702992028789737,8.892680076004716,9.115908806077593,9.247270001061093,9.407107093201633,9.627760401063586,9.751483733220473,9.845482309649418,9.999052245403801,10.21077002595537,10.482154985571064,10.79215011729281,11.024185807409333,11.181829152141335,11.286213052841466,11.352703894521136,11.413816478829158,11.51572254947955,11.616051385779658,11.709457243283262,11.830811762401442,11.994364707629297,12.140567790976158,12.298827290006642,12.506519031414333,12.673712859108035,12.761444296989119,12.929068149523154,13.097948136342918,13.1966913253616,13.292887618718645,13.374775358709053,13.442790723299694,13.523010363649135,13.631630867910914,13.731347230519434,13.801934012334215,13.831370324351154],\"yaxis\":\"y\"},{\"hovertemplate\":\"variable=train_predicted_close<br>Year=%{x}<br>GDP=%{y}<extra></extra>\",\"legendgroup\":\"train_predicted_close\",\"line\":{\"color\":\"#EF553B\",\"dash\":\"solid\"},\"marker\":{\"symbol\":\"circle\"},\"mode\":\"lines\",\"name\":\"Train predicted GDP\",\"orientation\":\"v\",\"showlegend\":true,\"type\":\"scatter\",\"x\":[1980,1981,1982,1983,1984,1985,1986,1987,1988,1989,1990,1991,1992,1993,1994,1995,1996,1997,1998,1999,2000,2001,2002,2003,2004,2005,2006,2007,2008,2009,2010,2011,2012,2013,2014,2015,2016,2017,2018,2019,2020],\"xaxis\":\"x\",\"y\":[8.457296371459961,8.523030281066895,8.601204872131348,8.712021827697754,8.89815902709961,9.113214492797852,9.252939224243164,9.460556030273438,9.6581449508667,9.77371597290039,9.898962020874023,10.07058334350586,10.331212043762207,10.635210990905762,10.882768630981445,11.025519371032715,11.141397476196289,11.250808715820312,11.35763931274414,11.46463394165039,11.57386302947998,11.690718650817871,11.810378074645996,11.931418418884277,12.053089141845703,12.174849510192871,12.296585083007812,12.418100357055664,null,null,null,null,null,null,null,null,null,null,null,null,null],\"yaxis\":\"y\"},{\"hovertemplate\":\"variable=test_predicted_close<br>Year=%{x}<br>GDP=%{y}<extra></extra>\",\"legendgroup\":\"test_predicted_close\",\"line\":{\"color\":\"#00cc96\",\"dash\":\"solid\"},\"marker\":{\"symbol\":\"circle\"},\"mode\":\"lines\",\"name\":\"Test predicted GDP\",\"orientation\":\"v\",\"showlegend\":true,\"type\":\"scatter\",\"x\":[1980,1981,1982,1983,1984,1985,1986,1987,1988,1989,1990,1991,1992,1993,1994,1995,1996,1997,1998,1999,2000,2001,2002,2003,2004,2005,2006,2007,2008,2009,2010,2011,2012,2013,2014,2015,2016,2017,2018,2019,2020],\"xaxis\":\"x\",\"y\":[null,null,null,null,null,null,null,null,null,null,null,null,null,null,null,null,null,null,null,null,null,null,null,null,null,null,null,null,12.539761543273926,12.662420272827148,12.786206245422363,12.911255836486816,13.036642074584961,13.162299156188965,13.287961959838867,13.413610458374023,13.539233207702637,13.66484260559082,13.790728569030762,13.916635513305664,14.042495727539062],\"yaxis\":\"y\"}],                        {\"font\":{\"color\":\"black\",\"size\":15},\"legend\":{\"title\":{\"text\":\"Close Price\"},\"tracegroupgap\":0},\"margin\":{\"t\":60},\"plot_bgcolor\":\"white\",\"template\":{\"data\":{\"bar\":[{\"error_x\":{\"color\":\"#2a3f5f\"},\"error_y\":{\"color\":\"#2a3f5f\"},\"marker\":{\"line\":{\"color\":\"#E5ECF6\",\"width\":0.5},\"pattern\":{\"fillmode\":\"overlay\",\"size\":10,\"solidity\":0.2}},\"type\":\"bar\"}],\"barpolar\":[{\"marker\":{\"line\":{\"color\":\"#E5ECF6\",\"width\":0.5},\"pattern\":{\"fillmode\":\"overlay\",\"size\":10,\"solidity\":0.2}},\"type\":\"barpolar\"}],\"carpet\":[{\"aaxis\":{\"endlinecolor\":\"#2a3f5f\",\"gridcolor\":\"white\",\"linecolor\":\"white\",\"minorgridcolor\":\"white\",\"startlinecolor\":\"#2a3f5f\"},\"baxis\":{\"endlinecolor\":\"#2a3f5f\",\"gridcolor\":\"white\",\"linecolor\":\"white\",\"minorgridcolor\":\"white\",\"startlinecolor\":\"#2a3f5f\"},\"type\":\"carpet\"}],\"choropleth\":[{\"colorbar\":{\"outlinewidth\":0,\"ticks\":\"\"},\"type\":\"choropleth\"}],\"contour\":[{\"colorbar\":{\"outlinewidth\":0,\"ticks\":\"\"},\"colorscale\":[[0.0,\"#0d0887\"],[0.1111111111111111,\"#46039f\"],[0.2222222222222222,\"#7201a8\"],[0.3333333333333333,\"#9c179e\"],[0.4444444444444444,\"#bd3786\"],[0.5555555555555556,\"#d8576b\"],[0.6666666666666666,\"#ed7953\"],[0.7777777777777778,\"#fb9f3a\"],[0.8888888888888888,\"#fdca26\"],[1.0,\"#f0f921\"]],\"type\":\"contour\"}],\"contourcarpet\":[{\"colorbar\":{\"outlinewidth\":0,\"ticks\":\"\"},\"type\":\"contourcarpet\"}],\"heatmap\":[{\"colorbar\":{\"outlinewidth\":0,\"ticks\":\"\"},\"colorscale\":[[0.0,\"#0d0887\"],[0.1111111111111111,\"#46039f\"],[0.2222222222222222,\"#7201a8\"],[0.3333333333333333,\"#9c179e\"],[0.4444444444444444,\"#bd3786\"],[0.5555555555555556,\"#d8576b\"],[0.6666666666666666,\"#ed7953\"],[0.7777777777777778,\"#fb9f3a\"],[0.8888888888888888,\"#fdca26\"],[1.0,\"#f0f921\"]],\"type\":\"heatmap\"}],\"heatmapgl\":[{\"colorbar\":{\"outlinewidth\":0,\"ticks\":\"\"},\"colorscale\":[[0.0,\"#0d0887\"],[0.1111111111111111,\"#46039f\"],[0.2222222222222222,\"#7201a8\"],[0.3333333333333333,\"#9c179e\"],[0.4444444444444444,\"#bd3786\"],[0.5555555555555556,\"#d8576b\"],[0.6666666666666666,\"#ed7953\"],[0.7777777777777778,\"#fb9f3a\"],[0.8888888888888888,\"#fdca26\"],[1.0,\"#f0f921\"]],\"type\":\"heatmapgl\"}],\"histogram\":[{\"marker\":{\"pattern\":{\"fillmode\":\"overlay\",\"size\":10,\"solidity\":0.2}},\"type\":\"histogram\"}],\"histogram2d\":[{\"colorbar\":{\"outlinewidth\":0,\"ticks\":\"\"},\"colorscale\":[[0.0,\"#0d0887\"],[0.1111111111111111,\"#46039f\"],[0.2222222222222222,\"#7201a8\"],[0.3333333333333333,\"#9c179e\"],[0.4444444444444444,\"#bd3786\"],[0.5555555555555556,\"#d8576b\"],[0.6666666666666666,\"#ed7953\"],[0.7777777777777778,\"#fb9f3a\"],[0.8888888888888888,\"#fdca26\"],[1.0,\"#f0f921\"]],\"type\":\"histogram2d\"}],\"histogram2dcontour\":[{\"colorbar\":{\"outlinewidth\":0,\"ticks\":\"\"},\"colorscale\":[[0.0,\"#0d0887\"],[0.1111111111111111,\"#46039f\"],[0.2222222222222222,\"#7201a8\"],[0.3333333333333333,\"#9c179e\"],[0.4444444444444444,\"#bd3786\"],[0.5555555555555556,\"#d8576b\"],[0.6666666666666666,\"#ed7953\"],[0.7777777777777778,\"#fb9f3a\"],[0.8888888888888888,\"#fdca26\"],[1.0,\"#f0f921\"]],\"type\":\"histogram2dcontour\"}],\"mesh3d\":[{\"colorbar\":{\"outlinewidth\":0,\"ticks\":\"\"},\"type\":\"mesh3d\"}],\"parcoords\":[{\"line\":{\"colorbar\":{\"outlinewidth\":0,\"ticks\":\"\"}},\"type\":\"parcoords\"}],\"pie\":[{\"automargin\":true,\"type\":\"pie\"}],\"scatter\":[{\"marker\":{\"colorbar\":{\"outlinewidth\":0,\"ticks\":\"\"}},\"type\":\"scatter\"}],\"scatter3d\":[{\"line\":{\"colorbar\":{\"outlinewidth\":0,\"ticks\":\"\"}},\"marker\":{\"colorbar\":{\"outlinewidth\":0,\"ticks\":\"\"}},\"type\":\"scatter3d\"}],\"scattercarpet\":[{\"marker\":{\"colorbar\":{\"outlinewidth\":0,\"ticks\":\"\"}},\"type\":\"scattercarpet\"}],\"scattergeo\":[{\"marker\":{\"colorbar\":{\"outlinewidth\":0,\"ticks\":\"\"}},\"type\":\"scattergeo\"}],\"scattergl\":[{\"marker\":{\"colorbar\":{\"outlinewidth\":0,\"ticks\":\"\"}},\"type\":\"scattergl\"}],\"scattermapbox\":[{\"marker\":{\"colorbar\":{\"outlinewidth\":0,\"ticks\":\"\"}},\"type\":\"scattermapbox\"}],\"scatterpolar\":[{\"marker\":{\"colorbar\":{\"outlinewidth\":0,\"ticks\":\"\"}},\"type\":\"scatterpolar\"}],\"scatterpolargl\":[{\"marker\":{\"colorbar\":{\"outlinewidth\":0,\"ticks\":\"\"}},\"type\":\"scatterpolargl\"}],\"scatterternary\":[{\"marker\":{\"colorbar\":{\"outlinewidth\":0,\"ticks\":\"\"}},\"type\":\"scatterternary\"}],\"surface\":[{\"colorbar\":{\"outlinewidth\":0,\"ticks\":\"\"},\"colorscale\":[[0.0,\"#0d0887\"],[0.1111111111111111,\"#46039f\"],[0.2222222222222222,\"#7201a8\"],[0.3333333333333333,\"#9c179e\"],[0.4444444444444444,\"#bd3786\"],[0.5555555555555556,\"#d8576b\"],[0.6666666666666666,\"#ed7953\"],[0.7777777777777778,\"#fb9f3a\"],[0.8888888888888888,\"#fdca26\"],[1.0,\"#f0f921\"]],\"type\":\"surface\"}],\"table\":[{\"cells\":{\"fill\":{\"color\":\"#EBF0F8\"},\"line\":{\"color\":\"white\"}},\"header\":{\"fill\":{\"color\":\"#C8D4E3\"},\"line\":{\"color\":\"white\"}},\"type\":\"table\"}]},\"layout\":{\"annotationdefaults\":{\"arrowcolor\":\"#2a3f5f\",\"arrowhead\":0,\"arrowwidth\":1},\"autotypenumbers\":\"strict\",\"coloraxis\":{\"colorbar\":{\"outlinewidth\":0,\"ticks\":\"\"}},\"colorscale\":{\"diverging\":[[0,\"#8e0152\"],[0.1,\"#c51b7d\"],[0.2,\"#de77ae\"],[0.3,\"#f1b6da\"],[0.4,\"#fde0ef\"],[0.5,\"#f7f7f7\"],[0.6,\"#e6f5d0\"],[0.7,\"#b8e186\"],[0.8,\"#7fbc41\"],[0.9,\"#4d9221\"],[1,\"#276419\"]],\"sequential\":[[0.0,\"#0d0887\"],[0.1111111111111111,\"#46039f\"],[0.2222222222222222,\"#7201a8\"],[0.3333333333333333,\"#9c179e\"],[0.4444444444444444,\"#bd3786\"],[0.5555555555555556,\"#d8576b\"],[0.6666666666666666,\"#ed7953\"],[0.7777777777777778,\"#fb9f3a\"],[0.8888888888888888,\"#fdca26\"],[1.0,\"#f0f921\"]],\"sequentialminus\":[[0.0,\"#0d0887\"],[0.1111111111111111,\"#46039f\"],[0.2222222222222222,\"#7201a8\"],[0.3333333333333333,\"#9c179e\"],[0.4444444444444444,\"#bd3786\"],[0.5555555555555556,\"#d8576b\"],[0.6666666666666666,\"#ed7953\"],[0.7777777777777778,\"#fb9f3a\"],[0.8888888888888888,\"#fdca26\"],[1.0,\"#f0f921\"]]},\"colorway\":[\"#636efa\",\"#EF553B\",\"#00cc96\",\"#ab63fa\",\"#FFA15A\",\"#19d3f3\",\"#FF6692\",\"#B6E880\",\"#FF97FF\",\"#FECB52\"],\"font\":{\"color\":\"#2a3f5f\"},\"geo\":{\"bgcolor\":\"white\",\"lakecolor\":\"white\",\"landcolor\":\"#E5ECF6\",\"showlakes\":true,\"showland\":true,\"subunitcolor\":\"white\"},\"hoverlabel\":{\"align\":\"left\"},\"hovermode\":\"closest\",\"mapbox\":{\"style\":\"light\"},\"paper_bgcolor\":\"white\",\"plot_bgcolor\":\"#E5ECF6\",\"polar\":{\"angularaxis\":{\"gridcolor\":\"white\",\"linecolor\":\"white\",\"ticks\":\"\"},\"bgcolor\":\"#E5ECF6\",\"radialaxis\":{\"gridcolor\":\"white\",\"linecolor\":\"white\",\"ticks\":\"\"}},\"scene\":{\"xaxis\":{\"backgroundcolor\":\"#E5ECF6\",\"gridcolor\":\"white\",\"gridwidth\":2,\"linecolor\":\"white\",\"showbackground\":true,\"ticks\":\"\",\"zerolinecolor\":\"white\"},\"yaxis\":{\"backgroundcolor\":\"#E5ECF6\",\"gridcolor\":\"white\",\"gridwidth\":2,\"linecolor\":\"white\",\"showbackground\":true,\"ticks\":\"\",\"zerolinecolor\":\"white\"},\"zaxis\":{\"backgroundcolor\":\"#E5ECF6\",\"gridcolor\":\"white\",\"gridwidth\":2,\"linecolor\":\"white\",\"showbackground\":true,\"ticks\":\"\",\"zerolinecolor\":\"white\"}},\"shapedefaults\":{\"line\":{\"color\":\"#2a3f5f\"}},\"ternary\":{\"aaxis\":{\"gridcolor\":\"white\",\"linecolor\":\"white\",\"ticks\":\"\"},\"baxis\":{\"gridcolor\":\"white\",\"linecolor\":\"white\",\"ticks\":\"\"},\"bgcolor\":\"#E5ECF6\",\"caxis\":{\"gridcolor\":\"white\",\"linecolor\":\"white\",\"ticks\":\"\"}},\"title\":{\"x\":0.05},\"xaxis\":{\"automargin\":true,\"gridcolor\":\"white\",\"linecolor\":\"white\",\"ticks\":\"\",\"title\":{\"standoff\":15},\"zerolinecolor\":\"white\",\"zerolinewidth\":2},\"yaxis\":{\"automargin\":true,\"gridcolor\":\"white\",\"linecolor\":\"white\",\"ticks\":\"\",\"title\":{\"standoff\":15},\"zerolinecolor\":\"white\",\"zerolinewidth\":2}}},\"title\":{\"text\":\"Comparision between original vs predicted GDP\"},\"xaxis\":{\"anchor\":\"y\",\"domain\":[0.0,1.0],\"showgrid\":false,\"title\":{\"text\":\"Year\"}},\"yaxis\":{\"anchor\":\"x\",\"domain\":[0.0,1.0],\"showgrid\":false,\"title\":{\"text\":\"GDP\"}}},                        {\"responsive\": true}                    ).then(function(){\n",
       "                            \n",
       "var gd = document.getElementById('64069c8a-f92a-431c-88e5-d03a322d2ca8');\n",
       "var x = new MutationObserver(function (mutations, observer) {{\n",
       "        var display = window.getComputedStyle(gd).display;\n",
       "        if (!display || display === 'none') {{\n",
       "            console.log([gd, 'removed!']);\n",
       "            Plotly.purge(gd);\n",
       "            observer.disconnect();\n",
       "        }}\n",
       "}});\n",
       "\n",
       "// Listen for the removal of the full notebook cells\n",
       "var notebookContainer = gd.closest('#notebook-container');\n",
       "if (notebookContainer) {{\n",
       "    x.observe(notebookContainer, {childList: true});\n",
       "}}\n",
       "\n",
       "// Listen for the clearing of the current output cell\n",
       "var outputEl = gd.closest('.output');\n",
       "if (outputEl) {{\n",
       "    x.observe(outputEl, {childList: true});\n",
       "}}\n",
       "\n",
       "                        })                };                });            </script>        </div>"
      ]
     },
     "metadata": {},
     "output_type": "display_data"
    }
   ],
   "source": [
    "# shift train predictions for plotting\n",
    "\n",
    "trainPredictPlot = np.empty_like(dataset)\n",
    "trainPredictPlot[:, :] = np.nan\n",
    "trainPredictPlot[:len(train_predict), :] = train_predict\n",
    "print(\"Train predicted data: \", trainPredictPlot.shape)\n",
    "\n",
    "# shift test predictions for plotting\n",
    "testPredictPlot = np.empty_like(dataset)\n",
    "testPredictPlot[:, :] = np.nan\n",
    "testPredictPlot[len(train_predict):, :] = test_predict\n",
    "print(\"Test predicted data: \", testPredictPlot.shape)\n",
    "\n",
    "names = cycle(['Original GDP','Train predicted GDP','Test predicted GDP'])\n",
    "\n",
    "\n",
    "plotdf = pd.DataFrame({'Year': gdp['Year'],\n",
    "                       'original': gdp['GDP'],\n",
    "                      'train_predicted_close': pd.DataFrame(trainPredictPlot[:][:])[26].tolist(),\n",
    "                      'test_predicted_close':  pd.DataFrame(testPredictPlot[:][:])[26].tolist()})\n",
    "\n",
    "fig = px.line(plotdf,x=plotdf['Year'], y=[plotdf['original'],plotdf['train_predicted_close'],\n",
    "                                          plotdf['test_predicted_close']],\n",
    "              labels={'value':'GDP','Year': 'Year'})\n",
    "fig.update_layout(title_text='Comparision between original vs predicted GDP',\n",
    "                  plot_bgcolor='white', font_size=15, font_color='black', legend_title_text='Close Price')\n",
    "fig.for_each_trace(lambda t:  t.update(name = next(names)))\n",
    "\n",
    "fig.update_xaxes(showgrid=False)\n",
    "fig.update_yaxes(showgrid=False)\n",
    "fig.show()"
   ]
  },
  {
   "cell_type": "code",
   "execution_count": null,
   "metadata": {},
   "outputs": [],
   "source": []
  },
  {
   "cell_type": "code",
   "execution_count": null,
   "metadata": {},
   "outputs": [],
   "source": []
  },
  {
   "cell_type": "code",
   "execution_count": null,
   "metadata": {},
   "outputs": [],
   "source": []
  },
  {
   "cell_type": "code",
   "execution_count": null,
   "metadata": {},
   "outputs": [],
   "source": []
  },
  {
   "cell_type": "code",
   "execution_count": null,
   "metadata": {},
   "outputs": [],
   "source": []
  },
  {
   "cell_type": "code",
   "execution_count": null,
   "metadata": {},
   "outputs": [],
   "source": []
  },
  {
   "cell_type": "code",
   "execution_count": null,
   "metadata": {},
   "outputs": [],
   "source": []
  }
 ],
 "metadata": {
  "kernelspec": {
   "display_name": "Python 3",
   "language": "python",
   "name": "python3"
  },
  "language_info": {
   "codemirror_mode": {
    "name": "ipython",
    "version": 3
   },
   "file_extension": ".py",
   "mimetype": "text/x-python",
   "name": "python",
   "nbconvert_exporter": "python",
   "pygments_lexer": "ipython3",
   "version": "3.8.5"
  }
 },
 "nbformat": 4,
 "nbformat_minor": 4
}
