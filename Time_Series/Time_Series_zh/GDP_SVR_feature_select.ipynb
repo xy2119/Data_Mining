{
 "cells": [
  {
   "cell_type": "code",
   "execution_count": 63,
   "metadata": {},
   "outputs": [],
   "source": [
    "import pandas as pd\n",
    "import numpy as np"
   ]
  },
  {
   "cell_type": "code",
   "execution_count": 64,
   "metadata": {},
   "outputs": [
    {
     "data": {
      "text/html": [
       "<div>\n",
       "<style scoped>\n",
       "    .dataframe tbody tr th:only-of-type {\n",
       "        vertical-align: middle;\n",
       "    }\n",
       "\n",
       "    .dataframe tbody tr th {\n",
       "        vertical-align: top;\n",
       "    }\n",
       "\n",
       "    .dataframe thead th {\n",
       "        text-align: right;\n",
       "    }\n",
       "</style>\n",
       "<table border=\"1\" class=\"dataframe\">\n",
       "  <thead>\n",
       "    <tr style=\"text-align: right;\">\n",
       "      <th></th>\n",
       "      <th>Year</th>\n",
       "      <th>第一产业GDP贡献率</th>\n",
       "      <th>第二产业GDP贡献率</th>\n",
       "      <th>第三产业GDP贡献率</th>\n",
       "      <th>就业人员</th>\n",
       "      <th>第一产业就业人员</th>\n",
       "      <th>第二产业就业人员</th>\n",
       "      <th>第三产业就业人员</th>\n",
       "      <th>总人口</th>\n",
       "      <th>0-14岁人口</th>\n",
       "      <th>...</th>\n",
       "      <th>流通中现金(M0)供应量同比增长率(%)</th>\n",
       "      <th>财政收入增长率</th>\n",
       "      <th>居民消费价格指数</th>\n",
       "      <th>商品零售价格指数</th>\n",
       "      <th>工业生产者出厂价格指数</th>\n",
       "      <th>工业生产者购进价格指数</th>\n",
       "      <th>固定资产投资价格指数</th>\n",
       "      <th>全社会固定资产投资</th>\n",
       "      <th>GDP</th>\n",
       "      <th>PGDP</th>\n",
       "    </tr>\n",
       "  </thead>\n",
       "  <tbody>\n",
       "    <tr>\n",
       "      <th>count</th>\n",
       "      <td>56.000000</td>\n",
       "      <td>41.000000</td>\n",
       "      <td>41.000000</td>\n",
       "      <td>41.000000</td>\n",
       "      <td>41.000000</td>\n",
       "      <td>41.000000</td>\n",
       "      <td>41.000000</td>\n",
       "      <td>41.000000</td>\n",
       "      <td>41.000000</td>\n",
       "      <td>41.000000</td>\n",
       "      <td>...</td>\n",
       "      <td>41.000000</td>\n",
       "      <td>41.000000</td>\n",
       "      <td>41.000000</td>\n",
       "      <td>41.000000</td>\n",
       "      <td>41.000000</td>\n",
       "      <td>41.000000</td>\n",
       "      <td>41.000000</td>\n",
       "      <td>41.000000</td>\n",
       "      <td>4.100000e+01</td>\n",
       "      <td>41.000000</td>\n",
       "    </tr>\n",
       "    <tr>\n",
       "      <th>mean</th>\n",
       "      <td>2007.500000</td>\n",
       "      <td>9.075610</td>\n",
       "      <td>50.692683</td>\n",
       "      <td>40.229268</td>\n",
       "      <td>67018.463415</td>\n",
       "      <td>30686.487805</td>\n",
       "      <td>16526.780488</td>\n",
       "      <td>19805.170732</td>\n",
       "      <td>123897.097561</td>\n",
       "      <td>28571.000000</td>\n",
       "      <td>...</td>\n",
       "      <td>14.921951</td>\n",
       "      <td>13.351220</td>\n",
       "      <td>104.912195</td>\n",
       "      <td>103.985366</td>\n",
       "      <td>103.773171</td>\n",
       "      <td>107.714634</td>\n",
       "      <td>105.119512</td>\n",
       "      <td>161921.068049</td>\n",
       "      <td>2.554681e+05</td>\n",
       "      <td>18850.292683</td>\n",
       "    </tr>\n",
       "    <tr>\n",
       "      <th>std</th>\n",
       "      <td>16.309506</td>\n",
       "      <td>10.124816</td>\n",
       "      <td>12.218928</td>\n",
       "      <td>10.740862</td>\n",
       "      <td>11094.811017</td>\n",
       "      <td>6035.796236</td>\n",
       "      <td>4748.809811</td>\n",
       "      <td>9283.573646</td>\n",
       "      <td>12865.420655</td>\n",
       "      <td>4067.124826</td>\n",
       "      <td>...</td>\n",
       "      <td>10.453217</td>\n",
       "      <td>8.008312</td>\n",
       "      <td>5.800095</td>\n",
       "      <td>5.715005</td>\n",
       "      <td>6.689171</td>\n",
       "      <td>9.268861</td>\n",
       "      <td>5.253485</td>\n",
       "      <td>220281.269789</td>\n",
       "      <td>3.106919e+05</td>\n",
       "      <td>22165.361428</td>\n",
       "    </tr>\n",
       "    <tr>\n",
       "      <th>min</th>\n",
       "      <td>1980.000000</td>\n",
       "      <td>-4.800000</td>\n",
       "      <td>17.700000</td>\n",
       "      <td>19.200000</td>\n",
       "      <td>42361.000000</td>\n",
       "      <td>17715.000000</td>\n",
       "      <td>7707.000000</td>\n",
       "      <td>5532.000000</td>\n",
       "      <td>98705.000000</td>\n",
       "      <td>22259.000000</td>\n",
       "      <td>...</td>\n",
       "      <td>2.900000</td>\n",
       "      <td>-3.900000</td>\n",
       "      <td>98.600000</td>\n",
       "      <td>97.000000</td>\n",
       "      <td>94.600000</td>\n",
       "      <td>92.100000</td>\n",
       "      <td>97.600000</td>\n",
       "      <td>910.900000</td>\n",
       "      <td>4.587600e+03</td>\n",
       "      <td>468.000000</td>\n",
       "    </tr>\n",
       "    <tr>\n",
       "      <th>25%</th>\n",
       "      <td>1993.750000</td>\n",
       "      <td>4.100000</td>\n",
       "      <td>43.500000</td>\n",
       "      <td>32.700000</td>\n",
       "      <td>64749.000000</td>\n",
       "      <td>27931.000000</td>\n",
       "      <td>13856.000000</td>\n",
       "      <td>11979.000000</td>\n",
       "      <td>114333.000000</td>\n",
       "      <td>24688.000000</td>\n",
       "      <td>...</td>\n",
       "      <td>8.700000</td>\n",
       "      <td>7.200000</td>\n",
       "      <td>101.800000</td>\n",
       "      <td>100.800000</td>\n",
       "      <td>98.700000</td>\n",
       "      <td>99.300000</td>\n",
       "      <td>101.100000</td>\n",
       "      <td>4753.800000</td>\n",
       "      <td>1.887290e+04</td>\n",
       "      <td>1663.000000</td>\n",
       "    </tr>\n",
       "    <tr>\n",
       "      <th>50%</th>\n",
       "      <td>2007.500000</td>\n",
       "      <td>5.200000</td>\n",
       "      <td>50.500000</td>\n",
       "      <td>39.000000</td>\n",
       "      <td>72085.000000</td>\n",
       "      <td>31254.000000</td>\n",
       "      <td>16234.000000</td>\n",
       "      <td>19823.000000</td>\n",
       "      <td>126743.000000</td>\n",
       "      <td>29011.000000</td>\n",
       "      <td>...</td>\n",
       "      <td>11.900000</td>\n",
       "      <td>13.100000</td>\n",
       "      <td>102.700000</td>\n",
       "      <td>102.000000</td>\n",
       "      <td>102.900000</td>\n",
       "      <td>108.100000</td>\n",
       "      <td>105.400000</td>\n",
       "      <td>32917.730000</td>\n",
       "      <td>1.002801e+05</td>\n",
       "      <td>7942.000000</td>\n",
       "    </tr>\n",
       "    <tr>\n",
       "      <th>75%</th>\n",
       "      <td>2021.250000</td>\n",
       "      <td>8.700000</td>\n",
       "      <td>59.600000</td>\n",
       "      <td>46.500000</td>\n",
       "      <td>75564.000000</td>\n",
       "      <td>35530.000000</td>\n",
       "      <td>21234.000000</td>\n",
       "      <td>26332.000000</td>\n",
       "      <td>134091.000000</td>\n",
       "      <td>32339.000000</td>\n",
       "      <td>...</td>\n",
       "      <td>19.400000</td>\n",
       "      <td>19.900000</td>\n",
       "      <td>106.400000</td>\n",
       "      <td>105.900000</td>\n",
       "      <td>106.200000</td>\n",
       "      <td>116.000000</td>\n",
       "      <td>108.000000</td>\n",
       "      <td>278121.850000</td>\n",
       "      <td>4.121193e+05</td>\n",
       "      <td>30808.000000</td>\n",
       "    </tr>\n",
       "    <tr>\n",
       "      <th>max</th>\n",
       "      <td>2035.000000</td>\n",
       "      <td>40.500000</td>\n",
       "      <td>85.600000</td>\n",
       "      <td>63.500000</td>\n",
       "      <td>76349.000000</td>\n",
       "      <td>39098.000000</td>\n",
       "      <td>23226.000000</td>\n",
       "      <td>35806.000000</td>\n",
       "      <td>141178.000000</td>\n",
       "      <td>34146.000000</td>\n",
       "      <td>...</td>\n",
       "      <td>49.500000</td>\n",
       "      <td>32.400000</td>\n",
       "      <td>124.100000</td>\n",
       "      <td>121.700000</td>\n",
       "      <td>124.000000</td>\n",
       "      <td>135.100000</td>\n",
       "      <td>126.600000</td>\n",
       "      <td>645675.000000</td>\n",
       "      <td>1.015986e+06</td>\n",
       "      <td>72000.000000</td>\n",
       "    </tr>\n",
       "  </tbody>\n",
       "</table>\n",
       "<p>8 rows × 28 columns</p>\n",
       "</div>"
      ],
      "text/plain": [
       "              Year  第一产业GDP贡献率  第二产业GDP贡献率  第三产业GDP贡献率          就业人员  \\\n",
       "count    56.000000   41.000000   41.000000   41.000000     41.000000   \n",
       "mean   2007.500000    9.075610   50.692683   40.229268  67018.463415   \n",
       "std      16.309506   10.124816   12.218928   10.740862  11094.811017   \n",
       "min    1980.000000   -4.800000   17.700000   19.200000  42361.000000   \n",
       "25%    1993.750000    4.100000   43.500000   32.700000  64749.000000   \n",
       "50%    2007.500000    5.200000   50.500000   39.000000  72085.000000   \n",
       "75%    2021.250000    8.700000   59.600000   46.500000  75564.000000   \n",
       "max    2035.000000   40.500000   85.600000   63.500000  76349.000000   \n",
       "\n",
       "           第一产业就业人员      第二产业就业人员      第三产业就业人员            总人口       0-14岁人口  \\\n",
       "count     41.000000     41.000000     41.000000      41.000000     41.000000   \n",
       "mean   30686.487805  16526.780488  19805.170732  123897.097561  28571.000000   \n",
       "std     6035.796236   4748.809811   9283.573646   12865.420655   4067.124826   \n",
       "min    17715.000000   7707.000000   5532.000000   98705.000000  22259.000000   \n",
       "25%    27931.000000  13856.000000  11979.000000  114333.000000  24688.000000   \n",
       "50%    31254.000000  16234.000000  19823.000000  126743.000000  29011.000000   \n",
       "75%    35530.000000  21234.000000  26332.000000  134091.000000  32339.000000   \n",
       "max    39098.000000  23226.000000  35806.000000  141178.000000  34146.000000   \n",
       "\n",
       "       ...  流通中现金(M0)供应量同比增长率(%)    财政收入增长率    居民消费价格指数    商品零售价格指数  \\\n",
       "count  ...             41.000000  41.000000   41.000000   41.000000   \n",
       "mean   ...             14.921951  13.351220  104.912195  103.985366   \n",
       "std    ...             10.453217   8.008312    5.800095    5.715005   \n",
       "min    ...              2.900000  -3.900000   98.600000   97.000000   \n",
       "25%    ...              8.700000   7.200000  101.800000  100.800000   \n",
       "50%    ...             11.900000  13.100000  102.700000  102.000000   \n",
       "75%    ...             19.400000  19.900000  106.400000  105.900000   \n",
       "max    ...             49.500000  32.400000  124.100000  121.700000   \n",
       "\n",
       "       工业生产者出厂价格指数  工业生产者购进价格指数  固定资产投资价格指数      全社会固定资产投资           GDP  \\\n",
       "count    41.000000    41.000000   41.000000      41.000000  4.100000e+01   \n",
       "mean    103.773171   107.714634  105.119512  161921.068049  2.554681e+05   \n",
       "std       6.689171     9.268861    5.253485  220281.269789  3.106919e+05   \n",
       "min      94.600000    92.100000   97.600000     910.900000  4.587600e+03   \n",
       "25%      98.700000    99.300000  101.100000    4753.800000  1.887290e+04   \n",
       "50%     102.900000   108.100000  105.400000   32917.730000  1.002801e+05   \n",
       "75%     106.200000   116.000000  108.000000  278121.850000  4.121193e+05   \n",
       "max     124.000000   135.100000  126.600000  645675.000000  1.015986e+06   \n",
       "\n",
       "               PGDP  \n",
       "count     41.000000  \n",
       "mean   18850.292683  \n",
       "std    22165.361428  \n",
       "min      468.000000  \n",
       "25%     1663.000000  \n",
       "50%     7942.000000  \n",
       "75%    30808.000000  \n",
       "max    72000.000000  \n",
       "\n",
       "[8 rows x 28 columns]"
      ]
     },
     "execution_count": 64,
     "metadata": {},
     "output_type": "execute_result"
    }
   ],
   "source": [
    "gdp = pd.read_csv('/Users/patricia/Downloads/gdp.csv')\n",
    "gdp.describe(include = 'all')"
   ]
  },
  {
   "cell_type": "code",
   "execution_count": 65,
   "metadata": {},
   "outputs": [
    {
     "data": {
      "text/html": [
       "<div>\n",
       "<style scoped>\n",
       "    .dataframe tbody tr th:only-of-type {\n",
       "        vertical-align: middle;\n",
       "    }\n",
       "\n",
       "    .dataframe tbody tr th {\n",
       "        vertical-align: top;\n",
       "    }\n",
       "\n",
       "    .dataframe thead th {\n",
       "        text-align: right;\n",
       "    }\n",
       "</style>\n",
       "<table border=\"1\" class=\"dataframe\">\n",
       "  <thead>\n",
       "    <tr style=\"text-align: right;\">\n",
       "      <th></th>\n",
       "      <th>Year</th>\n",
       "      <th>第一产业GDP贡献率</th>\n",
       "      <th>第二产业GDP贡献率</th>\n",
       "      <th>第三产业GDP贡献率</th>\n",
       "      <th>就业人员</th>\n",
       "      <th>第一产业就业人员</th>\n",
       "      <th>第二产业就业人员</th>\n",
       "      <th>第三产业就业人员</th>\n",
       "      <th>总人口</th>\n",
       "      <th>0-14岁人口</th>\n",
       "      <th>...</th>\n",
       "      <th>流通中现金(M0)供应量同比增长率(%)</th>\n",
       "      <th>财政收入增长率</th>\n",
       "      <th>居民消费价格指数</th>\n",
       "      <th>商品零售价格指数</th>\n",
       "      <th>工业生产者出厂价格指数</th>\n",
       "      <th>工业生产者购进价格指数</th>\n",
       "      <th>固定资产投资价格指数</th>\n",
       "      <th>全社会固定资产投资</th>\n",
       "      <th>GDP</th>\n",
       "      <th>PGDP</th>\n",
       "    </tr>\n",
       "  </thead>\n",
       "  <tbody>\n",
       "    <tr>\n",
       "      <th>0</th>\n",
       "      <td>1980</td>\n",
       "      <td>-4.8</td>\n",
       "      <td>85.6</td>\n",
       "      <td>19.2</td>\n",
       "      <td>42361.0</td>\n",
       "      <td>29122.0</td>\n",
       "      <td>7707.0</td>\n",
       "      <td>5532.0</td>\n",
       "      <td>98705.0</td>\n",
       "      <td>32384.0</td>\n",
       "      <td>...</td>\n",
       "      <td>29.3</td>\n",
       "      <td>1.2</td>\n",
       "      <td>107.5</td>\n",
       "      <td>106.0</td>\n",
       "      <td>100.5</td>\n",
       "      <td>116.0</td>\n",
       "      <td>108.0</td>\n",
       "      <td>910.9</td>\n",
       "      <td>4587.6</td>\n",
       "      <td>468.0</td>\n",
       "    </tr>\n",
       "    <tr>\n",
       "      <th>1</th>\n",
       "      <td>1981</td>\n",
       "      <td>40.5</td>\n",
       "      <td>17.7</td>\n",
       "      <td>41.8</td>\n",
       "      <td>43725.0</td>\n",
       "      <td>29777.0</td>\n",
       "      <td>8003.0</td>\n",
       "      <td>5945.0</td>\n",
       "      <td>100072.0</td>\n",
       "      <td>32384.0</td>\n",
       "      <td>...</td>\n",
       "      <td>14.5</td>\n",
       "      <td>1.4</td>\n",
       "      <td>102.5</td>\n",
       "      <td>102.4</td>\n",
       "      <td>100.2</td>\n",
       "      <td>116.0</td>\n",
       "      <td>108.0</td>\n",
       "      <td>961.0</td>\n",
       "      <td>4935.8</td>\n",
       "      <td>497.0</td>\n",
       "    </tr>\n",
       "    <tr>\n",
       "      <th>2</th>\n",
       "      <td>1982</td>\n",
       "      <td>38.6</td>\n",
       "      <td>28.8</td>\n",
       "      <td>32.6</td>\n",
       "      <td>45295.0</td>\n",
       "      <td>30859.0</td>\n",
       "      <td>8346.0</td>\n",
       "      <td>6090.0</td>\n",
       "      <td>101654.0</td>\n",
       "      <td>34146.0</td>\n",
       "      <td>...</td>\n",
       "      <td>10.8</td>\n",
       "      <td>3.1</td>\n",
       "      <td>102.0</td>\n",
       "      <td>101.9</td>\n",
       "      <td>99.8</td>\n",
       "      <td>116.0</td>\n",
       "      <td>108.0</td>\n",
       "      <td>1230.4</td>\n",
       "      <td>5373.4</td>\n",
       "      <td>533.0</td>\n",
       "    </tr>\n",
       "    <tr>\n",
       "      <th>3</th>\n",
       "      <td>1983</td>\n",
       "      <td>23.9</td>\n",
       "      <td>43.5</td>\n",
       "      <td>32.7</td>\n",
       "      <td>46436.0</td>\n",
       "      <td>31151.0</td>\n",
       "      <td>8679.0</td>\n",
       "      <td>6606.0</td>\n",
       "      <td>103008.0</td>\n",
       "      <td>32384.0</td>\n",
       "      <td>...</td>\n",
       "      <td>20.7</td>\n",
       "      <td>12.8</td>\n",
       "      <td>102.0</td>\n",
       "      <td>101.5</td>\n",
       "      <td>99.9</td>\n",
       "      <td>116.0</td>\n",
       "      <td>108.0</td>\n",
       "      <td>1430.1</td>\n",
       "      <td>6020.9</td>\n",
       "      <td>588.0</td>\n",
       "    </tr>\n",
       "    <tr>\n",
       "      <th>4</th>\n",
       "      <td>1984</td>\n",
       "      <td>25.6</td>\n",
       "      <td>42.7</td>\n",
       "      <td>31.7</td>\n",
       "      <td>48197.0</td>\n",
       "      <td>30868.0</td>\n",
       "      <td>9590.0</td>\n",
       "      <td>7739.0</td>\n",
       "      <td>104357.0</td>\n",
       "      <td>32384.0</td>\n",
       "      <td>...</td>\n",
       "      <td>49.5</td>\n",
       "      <td>20.2</td>\n",
       "      <td>102.7</td>\n",
       "      <td>102.8</td>\n",
       "      <td>101.4</td>\n",
       "      <td>116.0</td>\n",
       "      <td>108.0</td>\n",
       "      <td>1832.9</td>\n",
       "      <td>7278.5</td>\n",
       "      <td>702.0</td>\n",
       "    </tr>\n",
       "  </tbody>\n",
       "</table>\n",
       "<p>5 rows × 28 columns</p>\n",
       "</div>"
      ],
      "text/plain": [
       "   Year  第一产业GDP贡献率  第二产业GDP贡献率  第三产业GDP贡献率     就业人员  第一产业就业人员  第二产业就业人员  \\\n",
       "0  1980        -4.8        85.6        19.2  42361.0   29122.0    7707.0   \n",
       "1  1981        40.5        17.7        41.8  43725.0   29777.0    8003.0   \n",
       "2  1982        38.6        28.8        32.6  45295.0   30859.0    8346.0   \n",
       "3  1983        23.9        43.5        32.7  46436.0   31151.0    8679.0   \n",
       "4  1984        25.6        42.7        31.7  48197.0   30868.0    9590.0   \n",
       "\n",
       "   第三产业就业人员       总人口  0-14岁人口  ...  流通中现金(M0)供应量同比增长率(%)  财政收入增长率  居民消费价格指数  \\\n",
       "0    5532.0   98705.0  32384.0  ...                  29.3      1.2     107.5   \n",
       "1    5945.0  100072.0  32384.0  ...                  14.5      1.4     102.5   \n",
       "2    6090.0  101654.0  34146.0  ...                  10.8      3.1     102.0   \n",
       "3    6606.0  103008.0  32384.0  ...                  20.7     12.8     102.0   \n",
       "4    7739.0  104357.0  32384.0  ...                  49.5     20.2     102.7   \n",
       "\n",
       "   商品零售价格指数  工业生产者出厂价格指数  工业生产者购进价格指数  固定资产投资价格指数  全社会固定资产投资     GDP   PGDP  \n",
       "0     106.0        100.5        116.0       108.0      910.9  4587.6  468.0  \n",
       "1     102.4        100.2        116.0       108.0      961.0  4935.8  497.0  \n",
       "2     101.9         99.8        116.0       108.0     1230.4  5373.4  533.0  \n",
       "3     101.5         99.9        116.0       108.0     1430.1  6020.9  588.0  \n",
       "4     102.8        101.4        116.0       108.0     1832.9  7278.5  702.0  \n",
       "\n",
       "[5 rows x 28 columns]"
      ]
     },
     "execution_count": 65,
     "metadata": {},
     "output_type": "execute_result"
    }
   ],
   "source": [
    "import math\n",
    "#gdp['GDP'] = gdp['GDP'].apply(lambda x: math.log(x))\n",
    "\n",
    "gdp=gdp.dropna(axis=0,how='any')\n",
    "gdp.head()"
   ]
  },
  {
   "cell_type": "code",
   "execution_count": 66,
   "metadata": {},
   "outputs": [
    {
     "data": {
      "application/vnd.plotly.v1+json": {
       "config": {
        "plotlyServerURL": "https://plot.ly"
       },
       "data": [
        {
         "hovertemplate": "Year=%{x}<br>GDP=%{y}<extra></extra>",
         "legendgroup": "",
         "line": {
          "color": "#636efa",
          "dash": "solid"
         },
         "marker": {
          "line": {
           "width": 2
          },
          "symbol": "circle"
         },
         "mode": "lines",
         "name": "",
         "opacity": 0.6,
         "orientation": "v",
         "showlegend": false,
         "type": "scatter",
         "x": [
          1980,
          1981,
          1982,
          1983,
          1984,
          1985,
          1986,
          1987,
          1988,
          1989,
          1990,
          1991,
          1992,
          1993,
          1994,
          1995,
          1996,
          1997,
          1998,
          1999,
          2000,
          2001,
          2002,
          2003,
          2004,
          2005,
          2006,
          2007,
          2008,
          2009,
          2010,
          2011,
          2012,
          2013,
          2014,
          2015,
          2016,
          2017,
          2018,
          2019,
          2020
         ],
         "xaxis": "x",
         "y": [
          4587.6,
          4935.8,
          5373.4,
          6020.9,
          7278.5,
          9098.9,
          10376.2,
          12174.6,
          15180.4,
          17179.7,
          18872.9,
          22005.6,
          27194.5,
          35673.2,
          48637.5,
          61339.9,
          71813.6,
          79715,
          85195.5,
          90564.4,
          100280.1,
          110863.1,
          121717.4,
          137422,
          161840.2,
          187318.9,
          219438.5,
          270092.3,
          319244.6,
          348517.7,
          412119.3,
          487940.2,
          538580,
          592963.2,
          643563.1,
          688858.2,
          746395.1,
          832035.9,
          919281.1,
          986515.2,
          1015986.2
         ],
         "yaxis": "y"
        }
       ],
       "layout": {
        "font": {
         "color": "black",
         "size": 15
        },
        "legend": {
         "tracegroupgap": 0
        },
        "margin": {
         "t": 60
        },
        "plot_bgcolor": "white",
        "template": {
         "data": {
          "bar": [
           {
            "error_x": {
             "color": "#2a3f5f"
            },
            "error_y": {
             "color": "#2a3f5f"
            },
            "marker": {
             "line": {
              "color": "#E5ECF6",
              "width": 0.5
             },
             "pattern": {
              "fillmode": "overlay",
              "size": 10,
              "solidity": 0.2
             }
            },
            "type": "bar"
           }
          ],
          "barpolar": [
           {
            "marker": {
             "line": {
              "color": "#E5ECF6",
              "width": 0.5
             },
             "pattern": {
              "fillmode": "overlay",
              "size": 10,
              "solidity": 0.2
             }
            },
            "type": "barpolar"
           }
          ],
          "carpet": [
           {
            "aaxis": {
             "endlinecolor": "#2a3f5f",
             "gridcolor": "white",
             "linecolor": "white",
             "minorgridcolor": "white",
             "startlinecolor": "#2a3f5f"
            },
            "baxis": {
             "endlinecolor": "#2a3f5f",
             "gridcolor": "white",
             "linecolor": "white",
             "minorgridcolor": "white",
             "startlinecolor": "#2a3f5f"
            },
            "type": "carpet"
           }
          ],
          "choropleth": [
           {
            "colorbar": {
             "outlinewidth": 0,
             "ticks": ""
            },
            "type": "choropleth"
           }
          ],
          "contour": [
           {
            "colorbar": {
             "outlinewidth": 0,
             "ticks": ""
            },
            "colorscale": [
             [
              0,
              "#0d0887"
             ],
             [
              0.1111111111111111,
              "#46039f"
             ],
             [
              0.2222222222222222,
              "#7201a8"
             ],
             [
              0.3333333333333333,
              "#9c179e"
             ],
             [
              0.4444444444444444,
              "#bd3786"
             ],
             [
              0.5555555555555556,
              "#d8576b"
             ],
             [
              0.6666666666666666,
              "#ed7953"
             ],
             [
              0.7777777777777778,
              "#fb9f3a"
             ],
             [
              0.8888888888888888,
              "#fdca26"
             ],
             [
              1,
              "#f0f921"
             ]
            ],
            "type": "contour"
           }
          ],
          "contourcarpet": [
           {
            "colorbar": {
             "outlinewidth": 0,
             "ticks": ""
            },
            "type": "contourcarpet"
           }
          ],
          "heatmap": [
           {
            "colorbar": {
             "outlinewidth": 0,
             "ticks": ""
            },
            "colorscale": [
             [
              0,
              "#0d0887"
             ],
             [
              0.1111111111111111,
              "#46039f"
             ],
             [
              0.2222222222222222,
              "#7201a8"
             ],
             [
              0.3333333333333333,
              "#9c179e"
             ],
             [
              0.4444444444444444,
              "#bd3786"
             ],
             [
              0.5555555555555556,
              "#d8576b"
             ],
             [
              0.6666666666666666,
              "#ed7953"
             ],
             [
              0.7777777777777778,
              "#fb9f3a"
             ],
             [
              0.8888888888888888,
              "#fdca26"
             ],
             [
              1,
              "#f0f921"
             ]
            ],
            "type": "heatmap"
           }
          ],
          "heatmapgl": [
           {
            "colorbar": {
             "outlinewidth": 0,
             "ticks": ""
            },
            "colorscale": [
             [
              0,
              "#0d0887"
             ],
             [
              0.1111111111111111,
              "#46039f"
             ],
             [
              0.2222222222222222,
              "#7201a8"
             ],
             [
              0.3333333333333333,
              "#9c179e"
             ],
             [
              0.4444444444444444,
              "#bd3786"
             ],
             [
              0.5555555555555556,
              "#d8576b"
             ],
             [
              0.6666666666666666,
              "#ed7953"
             ],
             [
              0.7777777777777778,
              "#fb9f3a"
             ],
             [
              0.8888888888888888,
              "#fdca26"
             ],
             [
              1,
              "#f0f921"
             ]
            ],
            "type": "heatmapgl"
           }
          ],
          "histogram": [
           {
            "marker": {
             "pattern": {
              "fillmode": "overlay",
              "size": 10,
              "solidity": 0.2
             }
            },
            "type": "histogram"
           }
          ],
          "histogram2d": [
           {
            "colorbar": {
             "outlinewidth": 0,
             "ticks": ""
            },
            "colorscale": [
             [
              0,
              "#0d0887"
             ],
             [
              0.1111111111111111,
              "#46039f"
             ],
             [
              0.2222222222222222,
              "#7201a8"
             ],
             [
              0.3333333333333333,
              "#9c179e"
             ],
             [
              0.4444444444444444,
              "#bd3786"
             ],
             [
              0.5555555555555556,
              "#d8576b"
             ],
             [
              0.6666666666666666,
              "#ed7953"
             ],
             [
              0.7777777777777778,
              "#fb9f3a"
             ],
             [
              0.8888888888888888,
              "#fdca26"
             ],
             [
              1,
              "#f0f921"
             ]
            ],
            "type": "histogram2d"
           }
          ],
          "histogram2dcontour": [
           {
            "colorbar": {
             "outlinewidth": 0,
             "ticks": ""
            },
            "colorscale": [
             [
              0,
              "#0d0887"
             ],
             [
              0.1111111111111111,
              "#46039f"
             ],
             [
              0.2222222222222222,
              "#7201a8"
             ],
             [
              0.3333333333333333,
              "#9c179e"
             ],
             [
              0.4444444444444444,
              "#bd3786"
             ],
             [
              0.5555555555555556,
              "#d8576b"
             ],
             [
              0.6666666666666666,
              "#ed7953"
             ],
             [
              0.7777777777777778,
              "#fb9f3a"
             ],
             [
              0.8888888888888888,
              "#fdca26"
             ],
             [
              1,
              "#f0f921"
             ]
            ],
            "type": "histogram2dcontour"
           }
          ],
          "mesh3d": [
           {
            "colorbar": {
             "outlinewidth": 0,
             "ticks": ""
            },
            "type": "mesh3d"
           }
          ],
          "parcoords": [
           {
            "line": {
             "colorbar": {
              "outlinewidth": 0,
              "ticks": ""
             }
            },
            "type": "parcoords"
           }
          ],
          "pie": [
           {
            "automargin": true,
            "type": "pie"
           }
          ],
          "scatter": [
           {
            "marker": {
             "colorbar": {
              "outlinewidth": 0,
              "ticks": ""
             }
            },
            "type": "scatter"
           }
          ],
          "scatter3d": [
           {
            "line": {
             "colorbar": {
              "outlinewidth": 0,
              "ticks": ""
             }
            },
            "marker": {
             "colorbar": {
              "outlinewidth": 0,
              "ticks": ""
             }
            },
            "type": "scatter3d"
           }
          ],
          "scattercarpet": [
           {
            "marker": {
             "colorbar": {
              "outlinewidth": 0,
              "ticks": ""
             }
            },
            "type": "scattercarpet"
           }
          ],
          "scattergeo": [
           {
            "marker": {
             "colorbar": {
              "outlinewidth": 0,
              "ticks": ""
             }
            },
            "type": "scattergeo"
           }
          ],
          "scattergl": [
           {
            "marker": {
             "colorbar": {
              "outlinewidth": 0,
              "ticks": ""
             }
            },
            "type": "scattergl"
           }
          ],
          "scattermapbox": [
           {
            "marker": {
             "colorbar": {
              "outlinewidth": 0,
              "ticks": ""
             }
            },
            "type": "scattermapbox"
           }
          ],
          "scatterpolar": [
           {
            "marker": {
             "colorbar": {
              "outlinewidth": 0,
              "ticks": ""
             }
            },
            "type": "scatterpolar"
           }
          ],
          "scatterpolargl": [
           {
            "marker": {
             "colorbar": {
              "outlinewidth": 0,
              "ticks": ""
             }
            },
            "type": "scatterpolargl"
           }
          ],
          "scatterternary": [
           {
            "marker": {
             "colorbar": {
              "outlinewidth": 0,
              "ticks": ""
             }
            },
            "type": "scatterternary"
           }
          ],
          "surface": [
           {
            "colorbar": {
             "outlinewidth": 0,
             "ticks": ""
            },
            "colorscale": [
             [
              0,
              "#0d0887"
             ],
             [
              0.1111111111111111,
              "#46039f"
             ],
             [
              0.2222222222222222,
              "#7201a8"
             ],
             [
              0.3333333333333333,
              "#9c179e"
             ],
             [
              0.4444444444444444,
              "#bd3786"
             ],
             [
              0.5555555555555556,
              "#d8576b"
             ],
             [
              0.6666666666666666,
              "#ed7953"
             ],
             [
              0.7777777777777778,
              "#fb9f3a"
             ],
             [
              0.8888888888888888,
              "#fdca26"
             ],
             [
              1,
              "#f0f921"
             ]
            ],
            "type": "surface"
           }
          ],
          "table": [
           {
            "cells": {
             "fill": {
              "color": "#EBF0F8"
             },
             "line": {
              "color": "white"
             }
            },
            "header": {
             "fill": {
              "color": "#C8D4E3"
             },
             "line": {
              "color": "white"
             }
            },
            "type": "table"
           }
          ]
         },
         "layout": {
          "annotationdefaults": {
           "arrowcolor": "#2a3f5f",
           "arrowhead": 0,
           "arrowwidth": 1
          },
          "autotypenumbers": "strict",
          "coloraxis": {
           "colorbar": {
            "outlinewidth": 0,
            "ticks": ""
           }
          },
          "colorscale": {
           "diverging": [
            [
             0,
             "#8e0152"
            ],
            [
             0.1,
             "#c51b7d"
            ],
            [
             0.2,
             "#de77ae"
            ],
            [
             0.3,
             "#f1b6da"
            ],
            [
             0.4,
             "#fde0ef"
            ],
            [
             0.5,
             "#f7f7f7"
            ],
            [
             0.6,
             "#e6f5d0"
            ],
            [
             0.7,
             "#b8e186"
            ],
            [
             0.8,
             "#7fbc41"
            ],
            [
             0.9,
             "#4d9221"
            ],
            [
             1,
             "#276419"
            ]
           ],
           "sequential": [
            [
             0,
             "#0d0887"
            ],
            [
             0.1111111111111111,
             "#46039f"
            ],
            [
             0.2222222222222222,
             "#7201a8"
            ],
            [
             0.3333333333333333,
             "#9c179e"
            ],
            [
             0.4444444444444444,
             "#bd3786"
            ],
            [
             0.5555555555555556,
             "#d8576b"
            ],
            [
             0.6666666666666666,
             "#ed7953"
            ],
            [
             0.7777777777777778,
             "#fb9f3a"
            ],
            [
             0.8888888888888888,
             "#fdca26"
            ],
            [
             1,
             "#f0f921"
            ]
           ],
           "sequentialminus": [
            [
             0,
             "#0d0887"
            ],
            [
             0.1111111111111111,
             "#46039f"
            ],
            [
             0.2222222222222222,
             "#7201a8"
            ],
            [
             0.3333333333333333,
             "#9c179e"
            ],
            [
             0.4444444444444444,
             "#bd3786"
            ],
            [
             0.5555555555555556,
             "#d8576b"
            ],
            [
             0.6666666666666666,
             "#ed7953"
            ],
            [
             0.7777777777777778,
             "#fb9f3a"
            ],
            [
             0.8888888888888888,
             "#fdca26"
            ],
            [
             1,
             "#f0f921"
            ]
           ]
          },
          "colorway": [
           "#636efa",
           "#EF553B",
           "#00cc96",
           "#ab63fa",
           "#FFA15A",
           "#19d3f3",
           "#FF6692",
           "#B6E880",
           "#FF97FF",
           "#FECB52"
          ],
          "font": {
           "color": "#2a3f5f"
          },
          "geo": {
           "bgcolor": "white",
           "lakecolor": "white",
           "landcolor": "#E5ECF6",
           "showlakes": true,
           "showland": true,
           "subunitcolor": "white"
          },
          "hoverlabel": {
           "align": "left"
          },
          "hovermode": "closest",
          "mapbox": {
           "style": "light"
          },
          "paper_bgcolor": "white",
          "plot_bgcolor": "#E5ECF6",
          "polar": {
           "angularaxis": {
            "gridcolor": "white",
            "linecolor": "white",
            "ticks": ""
           },
           "bgcolor": "#E5ECF6",
           "radialaxis": {
            "gridcolor": "white",
            "linecolor": "white",
            "ticks": ""
           }
          },
          "scene": {
           "xaxis": {
            "backgroundcolor": "#E5ECF6",
            "gridcolor": "white",
            "gridwidth": 2,
            "linecolor": "white",
            "showbackground": true,
            "ticks": "",
            "zerolinecolor": "white"
           },
           "yaxis": {
            "backgroundcolor": "#E5ECF6",
            "gridcolor": "white",
            "gridwidth": 2,
            "linecolor": "white",
            "showbackground": true,
            "ticks": "",
            "zerolinecolor": "white"
           },
           "zaxis": {
            "backgroundcolor": "#E5ECF6",
            "gridcolor": "white",
            "gridwidth": 2,
            "linecolor": "white",
            "showbackground": true,
            "ticks": "",
            "zerolinecolor": "white"
           }
          },
          "shapedefaults": {
           "line": {
            "color": "#2a3f5f"
           }
          },
          "ternary": {
           "aaxis": {
            "gridcolor": "white",
            "linecolor": "white",
            "ticks": ""
           },
           "baxis": {
            "gridcolor": "white",
            "linecolor": "white",
            "ticks": ""
           },
           "bgcolor": "#E5ECF6",
           "caxis": {
            "gridcolor": "white",
            "linecolor": "white",
            "ticks": ""
           }
          },
          "title": {
           "x": 0.05
          },
          "xaxis": {
           "automargin": true,
           "gridcolor": "white",
           "linecolor": "white",
           "ticks": "",
           "title": {
            "standoff": 15
           },
           "zerolinecolor": "white",
           "zerolinewidth": 2
          },
          "yaxis": {
           "automargin": true,
           "gridcolor": "white",
           "linecolor": "white",
           "ticks": "",
           "title": {
            "standoff": 15
           },
           "zerolinecolor": "white",
           "zerolinewidth": 2
          }
         }
        },
        "title": {
         "text": "GDP chart"
        },
        "xaxis": {
         "anchor": "y",
         "domain": [
          0,
          1
         ],
         "showgrid": false,
         "title": {
          "text": "Year"
         }
        },
        "yaxis": {
         "anchor": "x",
         "domain": [
          0,
          1
         ],
         "showgrid": false,
         "title": {
          "text": "GDP"
         }
        }
       }
      },
      "text/html": [
       "<div>                            <div id=\"75a1e949-38f3-4a9c-991a-b8f13ecca5f3\" class=\"plotly-graph-div\" style=\"height:525px; width:100%;\"></div>            <script type=\"text/javascript\">                require([\"plotly\"], function(Plotly) {                    window.PLOTLYENV=window.PLOTLYENV || {};                                    if (document.getElementById(\"75a1e949-38f3-4a9c-991a-b8f13ecca5f3\")) {                    Plotly.newPlot(                        \"75a1e949-38f3-4a9c-991a-b8f13ecca5f3\",                        [{\"hovertemplate\":\"Year=%{x}<br>GDP=%{y}<extra></extra>\",\"legendgroup\":\"\",\"line\":{\"color\":\"#636efa\",\"dash\":\"solid\"},\"marker\":{\"line\":{\"width\":2},\"symbol\":\"circle\"},\"mode\":\"lines\",\"name\":\"\",\"opacity\":0.6,\"orientation\":\"v\",\"showlegend\":false,\"type\":\"scatter\",\"x\":[1980,1981,1982,1983,1984,1985,1986,1987,1988,1989,1990,1991,1992,1993,1994,1995,1996,1997,1998,1999,2000,2001,2002,2003,2004,2005,2006,2007,2008,2009,2010,2011,2012,2013,2014,2015,2016,2017,2018,2019,2020],\"xaxis\":\"x\",\"y\":[4587.6,4935.8,5373.4,6020.9,7278.5,9098.9,10376.2,12174.6,15180.4,17179.7,18872.9,22005.6,27194.5,35673.2,48637.5,61339.9,71813.6,79715.0,85195.5,90564.4,100280.1,110863.1,121717.4,137422.0,161840.2,187318.9,219438.5,270092.3,319244.6,348517.7,412119.3,487940.2,538580.0,592963.2,643563.1,688858.2,746395.1,832035.9,919281.1,986515.2,1015986.2],\"yaxis\":\"y\"}],                        {\"font\":{\"color\":\"black\",\"size\":15},\"legend\":{\"tracegroupgap\":0},\"margin\":{\"t\":60},\"plot_bgcolor\":\"white\",\"template\":{\"data\":{\"bar\":[{\"error_x\":{\"color\":\"#2a3f5f\"},\"error_y\":{\"color\":\"#2a3f5f\"},\"marker\":{\"line\":{\"color\":\"#E5ECF6\",\"width\":0.5},\"pattern\":{\"fillmode\":\"overlay\",\"size\":10,\"solidity\":0.2}},\"type\":\"bar\"}],\"barpolar\":[{\"marker\":{\"line\":{\"color\":\"#E5ECF6\",\"width\":0.5},\"pattern\":{\"fillmode\":\"overlay\",\"size\":10,\"solidity\":0.2}},\"type\":\"barpolar\"}],\"carpet\":[{\"aaxis\":{\"endlinecolor\":\"#2a3f5f\",\"gridcolor\":\"white\",\"linecolor\":\"white\",\"minorgridcolor\":\"white\",\"startlinecolor\":\"#2a3f5f\"},\"baxis\":{\"endlinecolor\":\"#2a3f5f\",\"gridcolor\":\"white\",\"linecolor\":\"white\",\"minorgridcolor\":\"white\",\"startlinecolor\":\"#2a3f5f\"},\"type\":\"carpet\"}],\"choropleth\":[{\"colorbar\":{\"outlinewidth\":0,\"ticks\":\"\"},\"type\":\"choropleth\"}],\"contour\":[{\"colorbar\":{\"outlinewidth\":0,\"ticks\":\"\"},\"colorscale\":[[0.0,\"#0d0887\"],[0.1111111111111111,\"#46039f\"],[0.2222222222222222,\"#7201a8\"],[0.3333333333333333,\"#9c179e\"],[0.4444444444444444,\"#bd3786\"],[0.5555555555555556,\"#d8576b\"],[0.6666666666666666,\"#ed7953\"],[0.7777777777777778,\"#fb9f3a\"],[0.8888888888888888,\"#fdca26\"],[1.0,\"#f0f921\"]],\"type\":\"contour\"}],\"contourcarpet\":[{\"colorbar\":{\"outlinewidth\":0,\"ticks\":\"\"},\"type\":\"contourcarpet\"}],\"heatmap\":[{\"colorbar\":{\"outlinewidth\":0,\"ticks\":\"\"},\"colorscale\":[[0.0,\"#0d0887\"],[0.1111111111111111,\"#46039f\"],[0.2222222222222222,\"#7201a8\"],[0.3333333333333333,\"#9c179e\"],[0.4444444444444444,\"#bd3786\"],[0.5555555555555556,\"#d8576b\"],[0.6666666666666666,\"#ed7953\"],[0.7777777777777778,\"#fb9f3a\"],[0.8888888888888888,\"#fdca26\"],[1.0,\"#f0f921\"]],\"type\":\"heatmap\"}],\"heatmapgl\":[{\"colorbar\":{\"outlinewidth\":0,\"ticks\":\"\"},\"colorscale\":[[0.0,\"#0d0887\"],[0.1111111111111111,\"#46039f\"],[0.2222222222222222,\"#7201a8\"],[0.3333333333333333,\"#9c179e\"],[0.4444444444444444,\"#bd3786\"],[0.5555555555555556,\"#d8576b\"],[0.6666666666666666,\"#ed7953\"],[0.7777777777777778,\"#fb9f3a\"],[0.8888888888888888,\"#fdca26\"],[1.0,\"#f0f921\"]],\"type\":\"heatmapgl\"}],\"histogram\":[{\"marker\":{\"pattern\":{\"fillmode\":\"overlay\",\"size\":10,\"solidity\":0.2}},\"type\":\"histogram\"}],\"histogram2d\":[{\"colorbar\":{\"outlinewidth\":0,\"ticks\":\"\"},\"colorscale\":[[0.0,\"#0d0887\"],[0.1111111111111111,\"#46039f\"],[0.2222222222222222,\"#7201a8\"],[0.3333333333333333,\"#9c179e\"],[0.4444444444444444,\"#bd3786\"],[0.5555555555555556,\"#d8576b\"],[0.6666666666666666,\"#ed7953\"],[0.7777777777777778,\"#fb9f3a\"],[0.8888888888888888,\"#fdca26\"],[1.0,\"#f0f921\"]],\"type\":\"histogram2d\"}],\"histogram2dcontour\":[{\"colorbar\":{\"outlinewidth\":0,\"ticks\":\"\"},\"colorscale\":[[0.0,\"#0d0887\"],[0.1111111111111111,\"#46039f\"],[0.2222222222222222,\"#7201a8\"],[0.3333333333333333,\"#9c179e\"],[0.4444444444444444,\"#bd3786\"],[0.5555555555555556,\"#d8576b\"],[0.6666666666666666,\"#ed7953\"],[0.7777777777777778,\"#fb9f3a\"],[0.8888888888888888,\"#fdca26\"],[1.0,\"#f0f921\"]],\"type\":\"histogram2dcontour\"}],\"mesh3d\":[{\"colorbar\":{\"outlinewidth\":0,\"ticks\":\"\"},\"type\":\"mesh3d\"}],\"parcoords\":[{\"line\":{\"colorbar\":{\"outlinewidth\":0,\"ticks\":\"\"}},\"type\":\"parcoords\"}],\"pie\":[{\"automargin\":true,\"type\":\"pie\"}],\"scatter\":[{\"marker\":{\"colorbar\":{\"outlinewidth\":0,\"ticks\":\"\"}},\"type\":\"scatter\"}],\"scatter3d\":[{\"line\":{\"colorbar\":{\"outlinewidth\":0,\"ticks\":\"\"}},\"marker\":{\"colorbar\":{\"outlinewidth\":0,\"ticks\":\"\"}},\"type\":\"scatter3d\"}],\"scattercarpet\":[{\"marker\":{\"colorbar\":{\"outlinewidth\":0,\"ticks\":\"\"}},\"type\":\"scattercarpet\"}],\"scattergeo\":[{\"marker\":{\"colorbar\":{\"outlinewidth\":0,\"ticks\":\"\"}},\"type\":\"scattergeo\"}],\"scattergl\":[{\"marker\":{\"colorbar\":{\"outlinewidth\":0,\"ticks\":\"\"}},\"type\":\"scattergl\"}],\"scattermapbox\":[{\"marker\":{\"colorbar\":{\"outlinewidth\":0,\"ticks\":\"\"}},\"type\":\"scattermapbox\"}],\"scatterpolar\":[{\"marker\":{\"colorbar\":{\"outlinewidth\":0,\"ticks\":\"\"}},\"type\":\"scatterpolar\"}],\"scatterpolargl\":[{\"marker\":{\"colorbar\":{\"outlinewidth\":0,\"ticks\":\"\"}},\"type\":\"scatterpolargl\"}],\"scatterternary\":[{\"marker\":{\"colorbar\":{\"outlinewidth\":0,\"ticks\":\"\"}},\"type\":\"scatterternary\"}],\"surface\":[{\"colorbar\":{\"outlinewidth\":0,\"ticks\":\"\"},\"colorscale\":[[0.0,\"#0d0887\"],[0.1111111111111111,\"#46039f\"],[0.2222222222222222,\"#7201a8\"],[0.3333333333333333,\"#9c179e\"],[0.4444444444444444,\"#bd3786\"],[0.5555555555555556,\"#d8576b\"],[0.6666666666666666,\"#ed7953\"],[0.7777777777777778,\"#fb9f3a\"],[0.8888888888888888,\"#fdca26\"],[1.0,\"#f0f921\"]],\"type\":\"surface\"}],\"table\":[{\"cells\":{\"fill\":{\"color\":\"#EBF0F8\"},\"line\":{\"color\":\"white\"}},\"header\":{\"fill\":{\"color\":\"#C8D4E3\"},\"line\":{\"color\":\"white\"}},\"type\":\"table\"}]},\"layout\":{\"annotationdefaults\":{\"arrowcolor\":\"#2a3f5f\",\"arrowhead\":0,\"arrowwidth\":1},\"autotypenumbers\":\"strict\",\"coloraxis\":{\"colorbar\":{\"outlinewidth\":0,\"ticks\":\"\"}},\"colorscale\":{\"diverging\":[[0,\"#8e0152\"],[0.1,\"#c51b7d\"],[0.2,\"#de77ae\"],[0.3,\"#f1b6da\"],[0.4,\"#fde0ef\"],[0.5,\"#f7f7f7\"],[0.6,\"#e6f5d0\"],[0.7,\"#b8e186\"],[0.8,\"#7fbc41\"],[0.9,\"#4d9221\"],[1,\"#276419\"]],\"sequential\":[[0.0,\"#0d0887\"],[0.1111111111111111,\"#46039f\"],[0.2222222222222222,\"#7201a8\"],[0.3333333333333333,\"#9c179e\"],[0.4444444444444444,\"#bd3786\"],[0.5555555555555556,\"#d8576b\"],[0.6666666666666666,\"#ed7953\"],[0.7777777777777778,\"#fb9f3a\"],[0.8888888888888888,\"#fdca26\"],[1.0,\"#f0f921\"]],\"sequentialminus\":[[0.0,\"#0d0887\"],[0.1111111111111111,\"#46039f\"],[0.2222222222222222,\"#7201a8\"],[0.3333333333333333,\"#9c179e\"],[0.4444444444444444,\"#bd3786\"],[0.5555555555555556,\"#d8576b\"],[0.6666666666666666,\"#ed7953\"],[0.7777777777777778,\"#fb9f3a\"],[0.8888888888888888,\"#fdca26\"],[1.0,\"#f0f921\"]]},\"colorway\":[\"#636efa\",\"#EF553B\",\"#00cc96\",\"#ab63fa\",\"#FFA15A\",\"#19d3f3\",\"#FF6692\",\"#B6E880\",\"#FF97FF\",\"#FECB52\"],\"font\":{\"color\":\"#2a3f5f\"},\"geo\":{\"bgcolor\":\"white\",\"lakecolor\":\"white\",\"landcolor\":\"#E5ECF6\",\"showlakes\":true,\"showland\":true,\"subunitcolor\":\"white\"},\"hoverlabel\":{\"align\":\"left\"},\"hovermode\":\"closest\",\"mapbox\":{\"style\":\"light\"},\"paper_bgcolor\":\"white\",\"plot_bgcolor\":\"#E5ECF6\",\"polar\":{\"angularaxis\":{\"gridcolor\":\"white\",\"linecolor\":\"white\",\"ticks\":\"\"},\"bgcolor\":\"#E5ECF6\",\"radialaxis\":{\"gridcolor\":\"white\",\"linecolor\":\"white\",\"ticks\":\"\"}},\"scene\":{\"xaxis\":{\"backgroundcolor\":\"#E5ECF6\",\"gridcolor\":\"white\",\"gridwidth\":2,\"linecolor\":\"white\",\"showbackground\":true,\"ticks\":\"\",\"zerolinecolor\":\"white\"},\"yaxis\":{\"backgroundcolor\":\"#E5ECF6\",\"gridcolor\":\"white\",\"gridwidth\":2,\"linecolor\":\"white\",\"showbackground\":true,\"ticks\":\"\",\"zerolinecolor\":\"white\"},\"zaxis\":{\"backgroundcolor\":\"#E5ECF6\",\"gridcolor\":\"white\",\"gridwidth\":2,\"linecolor\":\"white\",\"showbackground\":true,\"ticks\":\"\",\"zerolinecolor\":\"white\"}},\"shapedefaults\":{\"line\":{\"color\":\"#2a3f5f\"}},\"ternary\":{\"aaxis\":{\"gridcolor\":\"white\",\"linecolor\":\"white\",\"ticks\":\"\"},\"baxis\":{\"gridcolor\":\"white\",\"linecolor\":\"white\",\"ticks\":\"\"},\"bgcolor\":\"#E5ECF6\",\"caxis\":{\"gridcolor\":\"white\",\"linecolor\":\"white\",\"ticks\":\"\"}},\"title\":{\"x\":0.05},\"xaxis\":{\"automargin\":true,\"gridcolor\":\"white\",\"linecolor\":\"white\",\"ticks\":\"\",\"title\":{\"standoff\":15},\"zerolinecolor\":\"white\",\"zerolinewidth\":2},\"yaxis\":{\"automargin\":true,\"gridcolor\":\"white\",\"linecolor\":\"white\",\"ticks\":\"\",\"title\":{\"standoff\":15},\"zerolinecolor\":\"white\",\"zerolinewidth\":2}}},\"title\":{\"text\":\"GDP chart\"},\"xaxis\":{\"anchor\":\"y\",\"domain\":[0.0,1.0],\"showgrid\":false,\"title\":{\"text\":\"Year\"}},\"yaxis\":{\"anchor\":\"x\",\"domain\":[0.0,1.0],\"showgrid\":false,\"title\":{\"text\":\"GDP\"}}},                        {\"responsive\": true}                    ).then(function(){\n",
       "                            \n",
       "var gd = document.getElementById('75a1e949-38f3-4a9c-991a-b8f13ecca5f3');\n",
       "var x = new MutationObserver(function (mutations, observer) {{\n",
       "        var display = window.getComputedStyle(gd).display;\n",
       "        if (!display || display === 'none') {{\n",
       "            console.log([gd, 'removed!']);\n",
       "            Plotly.purge(gd);\n",
       "            observer.disconnect();\n",
       "        }}\n",
       "}});\n",
       "\n",
       "// Listen for the removal of the full notebook cells\n",
       "var notebookContainer = gd.closest('#notebook-container');\n",
       "if (notebookContainer) {{\n",
       "    x.observe(notebookContainer, {childList: true});\n",
       "}}\n",
       "\n",
       "// Listen for the clearing of the current output cell\n",
       "var outputEl = gd.closest('.output');\n",
       "if (outputEl) {{\n",
       "    x.observe(outputEl, {childList: true});\n",
       "}}\n",
       "\n",
       "                        })                };                });            </script>        </div>"
      ]
     },
     "metadata": {},
     "output_type": "display_data"
    }
   ],
   "source": [
    "import matplotlib.pyplot as plt\n",
    "# ! pip install plotly\n",
    "import plotly.graph_objects as go\n",
    "import plotly.express as px\n",
    "from plotly.subplots import make_subplots\n",
    "\n",
    "fig = px.line(gdp, x=gdp.Year, y=gdp.GDP)\n",
    "fig.update_traces(marker_line_width=2, opacity=0.6)\n",
    "fig.update_layout(title_text='GDP chart', plot_bgcolor='white', font_size=15, font_color='black')\n",
    "fig.update_xaxes(showgrid=False)\n",
    "fig.update_yaxes(showgrid=False)\n",
    "fig.show()"
   ]
  },
  {
   "cell_type": "code",
   "execution_count": 67,
   "metadata": {},
   "outputs": [],
   "source": [
    "# Models\n",
    "from sklearn.ensemble import RandomForestRegressor, GradientBoostingRegressor, AdaBoostRegressor, BaggingRegressor\n",
    "from sklearn.kernel_ridge import KernelRidge\n",
    "from sklearn.linear_model import Ridge, RidgeCV\n",
    "from sklearn.linear_model import ElasticNet, ElasticNetCV\n",
    "from sklearn.svm import SVR\n",
    "from mlxtend.regressor import StackingCVRegressor\n",
    "import lightgbm as lgb\n",
    "from lightgbm import LGBMRegressor\n",
    "#from xgboost import XGBRegressor\n",
    "import xgboost as xgb\n",
    "\n",
    "# Misc\n",
    "from sklearn.model_selection import GridSearchCV\n",
    "from sklearn.model_selection import KFold, cross_val_score\n",
    "from sklearn.metrics import mean_squared_error\n",
    "from sklearn.preprocessing import OneHotEncoder\n",
    "from sklearn.preprocessing import LabelEncoder\n",
    "from sklearn.pipeline import make_pipeline\n",
    "from sklearn.preprocessing import scale\n",
    "from sklearn.preprocessing import StandardScaler\n",
    "from sklearn.preprocessing import RobustScaler\n",
    "from sklearn.decomposition import PCA\n"
   ]
  },
  {
   "cell_type": "code",
   "execution_count": 68,
   "metadata": {},
   "outputs": [],
   "source": [
    "X=gdp.drop([\"GDP\",'PGDP'],axis=1)\n",
    "y=np.array(gdp[\"GDP\"]).reshape(-1, 1)"
   ]
  },
  {
   "cell_type": "code",
   "execution_count": 69,
   "metadata": {},
   "outputs": [],
   "source": [
    "from sklearn.preprocessing import MinMaxScaler\n",
    "scaler=MinMaxScaler(feature_range=(0,1))\n",
    "X_fit = scaler.fit(X)\n",
    "X_scaled = X_fit.transform(X)\n",
    "y_fit = scaler.fit(y)\n",
    "y_scaled = y_fit.transform(y)\n"
   ]
  },
  {
   "cell_type": "code",
   "execution_count": 70,
   "metadata": {},
   "outputs": [
    {
     "data": {
      "text/plain": [
       "<AxesSubplot:>"
      ]
     },
     "execution_count": 70,
     "metadata": {},
     "output_type": "execute_result"
    },
    {
     "data": {
      "image/png": "[encoded data removed]",
      "text/plain": [
       "<Figure size 864x432 with 1 Axes>"
      ]
     },
     "metadata": {
      "needs_background": "light"
     },
     "output_type": "display_data"
    }
   ],
   "source": [
    "from sklearn.ensemble import GradientBoostingRegressor\n",
    "from sklearn.tree import DecisionTreeRegressor\n",
    "GBDT = GradientBoostingRegressor()\n",
    "GBDT.fit(X_scaled, y_scaled.ravel())\n",
    "DT= DecisionTreeRegressor()\n",
    "DT.fit(X_scaled, y_scaled.ravel())\n",
    "\n",
    "import matplotlib.pyplot as plt\n",
    "plt.rcParams[\"font.family\"] = 'Arial Unicode MS'\n",
    "pd.Series(GBDT.feature_importances_, index=X.columns).plot.bar(color='steelblue', figsize=(12, 6))"
   ]
  },
  {
   "cell_type": "code",
   "execution_count": 71,
   "metadata": {},
   "outputs": [
    {
     "name": "stdout",
     "output_type": "stream",
     "text": [
      "We started with 26 features but retained only 18 of them!\n"
     ]
    }
   ],
   "source": [
    "from sklearn.feature_selection import SelectFromModel\n",
    "\n",
    "DT=DecisionTreeRegressor()\n",
    "GBDT = GradientBoostingRegressor()\n",
    "trans = SelectFromModel(GBDT,threshold=\"0.1*median\")\n",
    "X_trans = trans.fit_transform(X_scaled, y_scaled.ravel())\n",
    "\n",
    "print(\"We started with {0} features but retained only {1} of them!\".format(X.shape[1], X_trans.shape[1]))"
   ]
  },
  {
   "cell_type": "code",
   "execution_count": 72,
   "metadata": {
    "scrolled": true
   },
   "outputs": [
    {
     "name": "stdout",
     "output_type": "stream",
     "text": [
      "----------------------Retained Columns with SelectFromModel are:----------------------\n"
     ]
    },
    {
     "data": {
      "text/html": [
       "<div>\n",
       "<style scoped>\n",
       "    .dataframe tbody tr th:only-of-type {\n",
       "        vertical-align: middle;\n",
       "    }\n",
       "\n",
       "    .dataframe tbody tr th {\n",
       "        vertical-align: top;\n",
       "    }\n",
       "\n",
       "    .dataframe thead th {\n",
       "        text-align: right;\n",
       "    }\n",
       "</style>\n",
       "<table border=\"1\" class=\"dataframe\">\n",
       "  <thead>\n",
       "    <tr style=\"text-align: right;\">\n",
       "      <th></th>\n",
       "      <th>Year</th>\n",
       "      <th>就业人员</th>\n",
       "      <th>第一产业就业人员</th>\n",
       "      <th>第二产业就业人员</th>\n",
       "      <th>第三产业就业人员</th>\n",
       "      <th>总人口</th>\n",
       "      <th>0-14岁人口</th>\n",
       "      <th>15-64岁人口</th>\n",
       "      <th>65岁以上人口</th>\n",
       "      <th>总抚养比</th>\n",
       "      <th>少儿抚养比</th>\n",
       "      <th>老年抚养比</th>\n",
       "      <th>人民币美元汇率</th>\n",
       "      <th>进出口总额</th>\n",
       "      <th>商品零售价格指数</th>\n",
       "      <th>工业生产者购进价格指数</th>\n",
       "      <th>固定资产投资价格指数</th>\n",
       "      <th>全社会固定资产投资</th>\n",
       "    </tr>\n",
       "  </thead>\n",
       "  <tbody>\n",
       "    <tr>\n",
       "      <th>0</th>\n",
       "      <td>0.000</td>\n",
       "      <td>0.000000</td>\n",
       "      <td>0.533461</td>\n",
       "      <td>0.000000</td>\n",
       "      <td>0.000000</td>\n",
       "      <td>0.000000</td>\n",
       "      <td>0.851771</td>\n",
       "      <td>0.201225</td>\n",
       "      <td>0.054217</td>\n",
       "      <td>0.721831</td>\n",
       "      <td>0.750769</td>\n",
       "      <td>0.017094</td>\n",
       "      <td>0.000000</td>\n",
       "      <td>0.000000</td>\n",
       "      <td>0.364372</td>\n",
       "      <td>0.555814</td>\n",
       "      <td>0.358621</td>\n",
       "      <td>0.000000</td>\n",
       "    </tr>\n",
       "    <tr>\n",
       "      <th>1</th>\n",
       "      <td>0.025</td>\n",
       "      <td>0.040132</td>\n",
       "      <td>0.564093</td>\n",
       "      <td>0.019073</td>\n",
       "      <td>0.013642</td>\n",
       "      <td>0.032185</td>\n",
       "      <td>0.851771</td>\n",
       "      <td>0.201225</td>\n",
       "      <td>0.054217</td>\n",
       "      <td>0.721831</td>\n",
       "      <td>0.750769</td>\n",
       "      <td>0.017094</td>\n",
       "      <td>0.029016</td>\n",
       "      <td>0.000515</td>\n",
       "      <td>0.218623</td>\n",
       "      <td>0.555814</td>\n",
       "      <td>0.358621</td>\n",
       "      <td>0.000078</td>\n",
       "    </tr>\n",
       "    <tr>\n",
       "      <th>2</th>\n",
       "      <td>0.050</td>\n",
       "      <td>0.086325</td>\n",
       "      <td>0.614694</td>\n",
       "      <td>0.041175</td>\n",
       "      <td>0.018432</td>\n",
       "      <td>0.069432</td>\n",
       "      <td>1.000000</td>\n",
       "      <td>0.000000</td>\n",
       "      <td>0.000000</td>\n",
       "      <td>1.000000</td>\n",
       "      <td>1.000000</td>\n",
       "      <td>0.000000</td>\n",
       "      <td>0.055349</td>\n",
       "      <td>0.000627</td>\n",
       "      <td>0.198381</td>\n",
       "      <td>0.555814</td>\n",
       "      <td>0.358621</td>\n",
       "      <td>0.000496</td>\n",
       "    </tr>\n",
       "    <tr>\n",
       "      <th>3</th>\n",
       "      <td>0.075</td>\n",
       "      <td>0.119895</td>\n",
       "      <td>0.628350</td>\n",
       "      <td>0.062633</td>\n",
       "      <td>0.035476</td>\n",
       "      <td>0.101311</td>\n",
       "      <td>0.851771</td>\n",
       "      <td>0.201225</td>\n",
       "      <td>0.054217</td>\n",
       "      <td>0.721831</td>\n",
       "      <td>0.750769</td>\n",
       "      <td>0.017094</td>\n",
       "      <td>0.067034</td>\n",
       "      <td>0.000904</td>\n",
       "      <td>0.182186</td>\n",
       "      <td>0.555814</td>\n",
       "      <td>0.358621</td>\n",
       "      <td>0.000805</td>\n",
       "    </tr>\n",
       "    <tr>\n",
       "      <th>4</th>\n",
       "      <td>0.100</td>\n",
       "      <td>0.171708</td>\n",
       "      <td>0.615115</td>\n",
       "      <td>0.121335</td>\n",
       "      <td>0.072901</td>\n",
       "      <td>0.133073</td>\n",
       "      <td>0.851771</td>\n",
       "      <td>0.201225</td>\n",
       "      <td>0.054217</td>\n",
       "      <td>0.721831</td>\n",
       "      <td>0.750769</td>\n",
       "      <td>0.017094</td>\n",
       "      <td>0.116372</td>\n",
       "      <td>0.001966</td>\n",
       "      <td>0.234818</td>\n",
       "      <td>0.555814</td>\n",
       "      <td>0.358621</td>\n",
       "      <td>0.001430</td>\n",
       "    </tr>\n",
       "  </tbody>\n",
       "</table>\n",
       "</div>"
      ],
      "text/plain": [
       "    Year      就业人员  第一产业就业人员  第二产业就业人员  第三产业就业人员       总人口   0-14岁人口  \\\n",
       "0  0.000  0.000000  0.533461  0.000000  0.000000  0.000000  0.851771   \n",
       "1  0.025  0.040132  0.564093  0.019073  0.013642  0.032185  0.851771   \n",
       "2  0.050  0.086325  0.614694  0.041175  0.018432  0.069432  1.000000   \n",
       "3  0.075  0.119895  0.628350  0.062633  0.035476  0.101311  0.851771   \n",
       "4  0.100  0.171708  0.615115  0.121335  0.072901  0.133073  0.851771   \n",
       "\n",
       "   15-64岁人口   65岁以上人口      总抚养比     少儿抚养比     老年抚养比   人民币美元汇率     进出口总额  \\\n",
       "0  0.201225  0.054217  0.721831  0.750769  0.017094  0.000000  0.000000   \n",
       "1  0.201225  0.054217  0.721831  0.750769  0.017094  0.029016  0.000515   \n",
       "2  0.000000  0.000000  1.000000  1.000000  0.000000  0.055349  0.000627   \n",
       "3  0.201225  0.054217  0.721831  0.750769  0.017094  0.067034  0.000904   \n",
       "4  0.201225  0.054217  0.721831  0.750769  0.017094  0.116372  0.001966   \n",
       "\n",
       "   商品零售价格指数  工业生产者购进价格指数  固定资产投资价格指数  全社会固定资产投资  \n",
       "0  0.364372     0.555814    0.358621   0.000000  \n",
       "1  0.218623     0.555814    0.358621   0.000078  \n",
       "2  0.198381     0.555814    0.358621   0.000496  \n",
       "3  0.182186     0.555814    0.358621   0.000805  \n",
       "4  0.234818     0.555814    0.358621   0.001430  "
      ]
     },
     "execution_count": 72,
     "metadata": {},
     "output_type": "execute_result"
    }
   ],
   "source": [
    "columns_retained_Select = X.columns[trans.get_support()].values\n",
    "print('----------------------Retained Columns with SelectFromModel are:----------------------')\n",
    "pd.DataFrame(X_trans, columns=columns_retained_Select).head()"
   ]
  },
  {
   "cell_type": "code",
   "execution_count": 73,
   "metadata": {},
   "outputs": [],
   "source": [
    "X_retained=X[columns_retained_Select]"
   ]
  },
  {
   "cell_type": "code",
   "execution_count": 74,
   "metadata": {},
   "outputs": [
    {
     "name": "stdout",
     "output_type": "stream",
     "text": [
      "X_train:  (31, 18)\n",
      "y_train:  (31, 1)\n",
      "X_test:  (10, 18)\n",
      "y_test (10, 1)\n"
     ]
    }
   ],
   "source": [
    "X_train=X_retained[:31]\n",
    "X_test=X_retained[31:41]\n",
    "y_train = np.array(gdp[\"GDP\"][:31]).reshape(-1, 1)\n",
    "y_test = np.array(gdp[\"GDP\"][31:41]).reshape(-1, 1)\n",
    "print(\"X_train: \", X_train.shape)\n",
    "print(\"y_train: \", y_train.shape)\n",
    "print(\"X_test: \", X_test.shape)\n",
    "print(\"y_test\", y_test.shape)\n",
    "\n",
    "from sklearn.preprocessing import MinMaxScaler\n",
    "#归一化 \n",
    "scaler_SFDT=MinMaxScaler(feature_range=(0,1))\n",
    "\n",
    "X_fit = scaler_SFDT.fit(X_train)\n",
    "X_train = X_fit.transform(X_train)\n",
    "X_test = X_fit.transform(X_test)\n",
    "\n",
    "y_fit = scaler_SFDT.fit(y_train)\n",
    "y_train = y_fit.transform(y_train).ravel()\n",
    "y_test = y_fit.transform(y_test).ravel()"
   ]
  },
  {
   "cell_type": "code",
   "execution_count": 75,
   "metadata": {},
   "outputs": [
    {
     "name": "stdout",
     "output_type": "stream",
     "text": [
      "Best parameters related to this boost:   {'kernel': 'poly', 'gamma': 'auto', 'degree': 3, 'C': 184.18500000000003}\n",
      "Best score related to this boost:   -0.0093981469620631\n",
      "RandomizedSearchCV(cv=10, estimator=SVR(C=100.0, gamma=0.1, kernel='poly'),\n",
      "                   n_iter=12, n_jobs=1,\n",
      "                   param_distributions={'C': array([1.00000e-03, 1.00200e+00, 2.00300e+00, 3.00400e+00, 4.00500e+00,\n",
      "       5.00600e+00, 6.00700e+00, 7.00800e+00, 8.00900e+00, 9.01000e+00,\n",
      "       1.00110e+01, 1.10120e+01, 1.20130e+01, 1.30140e+01, 1.40150e+01,\n",
      "       1.50160e+01, 1.60170e+01, 1.70180e+01, 1.80190e+01...\n",
      "       9.80981e+02, 9.81982e+02, 9.82983e+02, 9.83984e+02, 9.84985e+02,\n",
      "       9.85986e+02, 9.86987e+02, 9.87988e+02, 9.88989e+02, 9.89990e+02,\n",
      "       9.90991e+02, 9.91992e+02, 9.92993e+02, 9.93994e+02, 9.94995e+02,\n",
      "       9.95996e+02, 9.96997e+02, 9.97998e+02, 9.98999e+02, 1.00000e+03]),\n",
      "                                        'degree': [2, 3, 4, 5],\n",
      "                                        'gamma': ['scale', 'auto'],\n",
      "                                        'kernel': ['linear', 'poly', 'rbf']},\n",
      "                   random_state=42, scoring='neg_mean_squared_error')\n"
     ]
    }
   ],
   "source": [
    "from sklearn.svm import SVR\n",
    "from sklearn.model_selection import RandomizedSearchCV\n",
    "\n",
    "param_dict = dict(\n",
    "kernel=['linear','poly', 'rbf'],\n",
    "C = np.linspace(0.001, 1000, 1000),\n",
    "degree = [2,3,4,5],\n",
    "gamma=['scale', 'auto'],\n",
    ")\n",
    "\n",
    " \n",
    "forest_SFDT= SVR(kernel= 'poly', C= 1e2, gamma= 0.1,max_iter=-1)\n",
    "all_num_iters = np.array([len(param_dict[i]) for i in param_dict.keys() if param_dict[i] is not None]).prod()\n",
    "numIters = min(all_num_iters, 50)\n",
    "\n",
    "\n",
    "randomSearch = RandomizedSearchCV(forest_SFDT, random_state = 42,param_distributions=param_dict, cv=10, scoring='neg_mean_squared_error',\n",
    "                                  n_iter=12, refit=True, verbose=0, \n",
    "                                  n_jobs=1)\n",
    "\n",
    "randomSearch.fit(X=X_train, y=y_train, groups=None)\n",
    "\n",
    "svm_rbf_SFDT = randomSearch.best_estimator_\n",
    "print(\"Best parameters related to this boost:  \", randomSearch.best_params_)\n",
    "print(\"Best score related to this boost:  \", randomSearch.best_score_)\n",
    "print(randomSearch)   "
   ]
  },
  {
   "cell_type": "code",
   "execution_count": 76,
   "metadata": {},
   "outputs": [
    {
     "name": "stdout",
     "output_type": "stream",
     "text": [
      "Train data RMSE:  30869.353822932186\n",
      "Train data MSE:  952917005.445378\n",
      "Test data MAE:  28813.57702530067\n",
      "-------------------------------------------------------------------------------------\n",
      "Test data RMSE:  41295.682354736586\n",
      "Test data MSE:  1705333381.1433024\n",
      "Test data MAE:  34180.899684942764\n",
      "-------------------------------------------------------------------\n",
      "Train data R2 score: 0.9210200615330246\n",
      "Test data R2 score: 0.9458554282498695\n",
      "-------------------------------------------------------------------\n",
      "Train data explained variance regression score: 0.9558329014988529\n",
      "Test data explained variance regression score: 0.9520780376094351\n"
     ]
    }
   ],
   "source": [
    "train_predict=svm_rbf_SFDT.predict(X_train)\n",
    "test_predict=svm_rbf_SFDT.predict(X_test)\n",
    "\n",
    "train_predict=np.reshape(train_predict, (len(train_predict), 1))\n",
    "test_predict=np.reshape(test_predict, (len(test_predict), 1))\n",
    "# Transform back to original form\n",
    "train_predict = scaler_SFDT.inverse_transform(train_predict)\n",
    "test_predict = scaler_SFDT.inverse_transform(test_predict)\n",
    "original_ytrain = scaler_SFDT.inverse_transform(y_train.reshape(-1, 1)) \n",
    "original_ytest = scaler_SFDT.inverse_transform(y_test.reshape(-1, 1))\n",
    "\n",
    "import math\n",
    "from sklearn.metrics import mean_squared_error,mean_absolute_error\n",
    "# Evaluation metrices RMSE and MAE\n",
    "print(\"Train data RMSE: \", math.sqrt(mean_squared_error(original_ytrain,train_predict)))\n",
    "print(\"Train data MSE: \", mean_squared_error(original_ytrain,train_predict))\n",
    "print(\"Test data MAE: \", mean_absolute_error(original_ytrain,train_predict))\n",
    "print(\"-------------------------------------------------------------------------------------\")\n",
    "print(\"Test data RMSE: \", math.sqrt(mean_squared_error(original_ytest,test_predict)))\n",
    "print(\"Test data MSE: \", mean_squared_error(original_ytest,test_predict))\n",
    "print(\"Test data MAE: \", mean_absolute_error(original_ytest,test_predict))\n",
    "print(\"-------------------------------------------------------------------\")\n",
    "\n",
    "from sklearn.metrics import explained_variance_score,r2_score\n",
    "print(\"Train data R2 score:\", r2_score(original_ytrain, train_predict))\n",
    "print(\"Test data R2 score:\", r2_score(original_ytest, test_predict))\n",
    "print(\"-------------------------------------------------------------------\")\n",
    "print(\"Train data explained variance regression score:\", explained_variance_score(original_ytrain, train_predict))\n",
    "print(\"Test data explained variance regression score:\", explained_variance_score(original_ytest, test_predict))"
   ]
  },
  {
   "cell_type": "markdown",
   "metadata": {},
   "source": [
    "**R2 score for regression**\n",
    "\n",
    "    R-squared (R2) is a statistical measure that represents the proportion of the variance for a dependent variable that's explained by an independent variable or variables in a regression model.\n",
    "    1 = Best \n",
    "    0 or < 0 = worse\n",
    "\n",
    "**Explained variance regression score**\n",
    "\n",
    "    The explained variance score explains the dispersion of errors of a given dataset, and the formula is written as follows: Here, and Var(y) is the variance of prediction errors and actual values respectively. Scores close to 1.0 are highly desired, indicating better squares of standard deviations of errors."
   ]
  },
  {
   "cell_type": "code",
   "execution_count": 77,
   "metadata": {},
   "outputs": [
    {
     "data": {
      "image/png": "[encoded data removed]",
      "text/plain": [
       "<Figure size 1080x432 with 1 Axes>"
      ]
     },
     "metadata": {
      "needs_background": "light"
     },
     "output_type": "display_data"
    }
   ],
   "source": [
    "df=pd.DataFrame(gdp).set_index(\"Year\")\n",
    "train=df[:31]\n",
    "test=df[31:41]\n",
    "\n",
    "# plotting the results\n",
    "plt.figure(figsize=(15, 6))\n",
    "ax = plt.gca()  \n",
    "\n",
    "plt.plot(np.array(train[\"GDP\"]).reshape(-1, 1), color = 'black', label = 'Real GDP')\n",
    "plt.plot(train_predict, color = 'purple', label = 'Predicted train GDP')\n",
    "\n",
    "\n",
    "# plt.plot(test_predict, color = 'red', label = 'Predicted test GDP')\n",
    "plt.title('GDP Training Prediction (SVM)')\n",
    "df =train.reset_index()\n",
    "x= df.index\n",
    "labels = df['Year']\n",
    "plt.xticks(x, labels, rotation = 'vertical')\n",
    "plt.ylabel('GDP')\n",
    "plt.legend(loc=4, prop={'size': 14})\n",
    "plt.show()"
   ]
  },
  {
   "cell_type": "code",
   "execution_count": 78,
   "metadata": {},
   "outputs": [
    {
     "data": {
      "image/png": "[encoded data removed]",
      "text/plain": [
       "<Figure size 1080x432 with 1 Axes>"
      ]
     },
     "metadata": {
      "needs_background": "light"
     },
     "output_type": "display_data"
    }
   ],
   "source": [
    "# plotting the results\n",
    "plt.figure(figsize=(15, 6))\n",
    "ax = plt.gca()  \n",
    "\n",
    "plt.plot(np.array(test[\"GDP\"]).reshape(-1, 1), color = 'black', label = 'Real GDP')\n",
    "#plt.plot(train_predict, color = 'purple', label = 'Predicted train GDP')\n",
    "\n",
    "\n",
    "plt.plot(test_predict, color = 'red', label = 'Predicted test GDP')\n",
    "plt.title('GDP Testing Prediction (SVM)')\n",
    "df =test.reset_index()\n",
    "x= df.index\n",
    "labels = df['Year']\n",
    "plt.xticks(x, labels, rotation = 'vertical')\n",
    "plt.ylabel('GDP')\n",
    "plt.legend(loc=4, prop={'size': 14})\n",
    "plt.show()"
   ]
  },
  {
   "cell_type": "code",
   "execution_count": null,
   "metadata": {},
   "outputs": [],
   "source": []
  },
  {
   "cell_type": "code",
   "execution_count": null,
   "metadata": {},
   "outputs": [],
   "source": []
  },
  {
   "cell_type": "code",
   "execution_count": null,
   "metadata": {},
   "outputs": [],
   "source": []
  }
 ],
 "metadata": {
  "kernelspec": {
   "display_name": "Python 3",
   "language": "python",
   "name": "python3"
  },
  "language_info": {
   "codemirror_mode": {
    "name": "ipython",
    "version": 3
   },
   "file_extension": ".py",
   "mimetype": "text/x-python",
   "name": "python",
   "nbconvert_exporter": "python",
   "pygments_lexer": "ipython3",
   "version": "3.8.5"
  }
 },
 "nbformat": 4,
 "nbformat_minor": 4
}
