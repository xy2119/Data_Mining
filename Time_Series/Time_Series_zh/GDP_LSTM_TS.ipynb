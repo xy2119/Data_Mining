{
 "cells": [
  {
   "cell_type": "code",
   "execution_count": 137,
   "metadata": {},
   "outputs": [],
   "source": [
    "import pandas as pd\n",
    "import numpy as np\n",
    "import math\n",
    "import datetime as dt\n",
    "from sklearn.metrics import mean_squared_error, mean_absolute_error, explained_variance_score, r2_score \n",
    "from sklearn.metrics import mean_poisson_deviance, mean_gamma_deviance, accuracy_score\n",
    "from sklearn.preprocessing import MinMaxScaler\n",
    "\n",
    "import tensorflow as tf\n",
    "from tensorflow.keras.models import Sequential\n",
    "from tensorflow.keras.layers import Dropout,Dense\n",
    "from tensorflow.keras.layers import LSTM\n",
    "\n",
    "\n",
    "from itertools import cycle\n",
    "\n",
    "import matplotlib.pyplot as plt\n",
    "# ! pip install plotly\n",
    "import plotly.graph_objects as go\n",
    "import plotly.express as px\n",
    "from plotly.subplots import make_subplots"
   ]
  },
  {
   "cell_type": "code",
   "execution_count": 138,
   "metadata": {
    "scrolled": true
   },
   "outputs": [
    {
     "data": {
      "text/html": [
       "<div>\n",
       "<style scoped>\n",
       "    .dataframe tbody tr th:only-of-type {\n",
       "        vertical-align: middle;\n",
       "    }\n",
       "\n",
       "    .dataframe tbody tr th {\n",
       "        vertical-align: top;\n",
       "    }\n",
       "\n",
       "    .dataframe thead th {\n",
       "        text-align: right;\n",
       "    }\n",
       "</style>\n",
       "<table border=\"1\" class=\"dataframe\">\n",
       "  <thead>\n",
       "    <tr style=\"text-align: right;\">\n",
       "      <th></th>\n",
       "      <th>Date</th>\n",
       "      <th>GDP</th>\n",
       "    </tr>\n",
       "  </thead>\n",
       "  <tbody>\n",
       "    <tr>\n",
       "      <th>count</th>\n",
       "      <td>118</td>\n",
       "      <td>118.000000</td>\n",
       "    </tr>\n",
       "    <tr>\n",
       "      <th>unique</th>\n",
       "      <td>118</td>\n",
       "      <td>NaN</td>\n",
       "    </tr>\n",
       "    <tr>\n",
       "      <th>top</th>\n",
       "      <td>2015年第一季度</td>\n",
       "      <td>NaN</td>\n",
       "    </tr>\n",
       "    <tr>\n",
       "      <th>freq</th>\n",
       "      <td>1</td>\n",
       "      <td>NaN</td>\n",
       "    </tr>\n",
       "    <tr>\n",
       "      <th>mean</th>\n",
       "      <td>NaN</td>\n",
       "      <td>92146.383051</td>\n",
       "    </tr>\n",
       "    <tr>\n",
       "      <th>std</th>\n",
       "      <td>NaN</td>\n",
       "      <td>82182.611122</td>\n",
       "    </tr>\n",
       "    <tr>\n",
       "      <th>min</th>\n",
       "      <td>NaN</td>\n",
       "      <td>5262.800000</td>\n",
       "    </tr>\n",
       "    <tr>\n",
       "      <th>25%</th>\n",
       "      <td>NaN</td>\n",
       "      <td>23128.475000</td>\n",
       "    </tr>\n",
       "    <tr>\n",
       "      <th>50%</th>\n",
       "      <td>NaN</td>\n",
       "      <td>56612.000000</td>\n",
       "    </tr>\n",
       "    <tr>\n",
       "      <th>75%</th>\n",
       "      <td>NaN</td>\n",
       "      <td>152120.025000</td>\n",
       "    </tr>\n",
       "    <tr>\n",
       "      <th>max</th>\n",
       "      <td>NaN</td>\n",
       "      <td>296297.800000</td>\n",
       "    </tr>\n",
       "  </tbody>\n",
       "</table>\n",
       "</div>"
      ],
      "text/plain": [
       "             Date            GDP\n",
       "count         118     118.000000\n",
       "unique        118            NaN\n",
       "top     2015年第一季度            NaN\n",
       "freq            1            NaN\n",
       "mean          NaN   92146.383051\n",
       "std           NaN   82182.611122\n",
       "min           NaN    5262.800000\n",
       "25%           NaN   23128.475000\n",
       "50%           NaN   56612.000000\n",
       "75%           NaN  152120.025000\n",
       "max           NaN  296297.800000"
      ]
     },
     "execution_count": 138,
     "metadata": {},
     "output_type": "execute_result"
    }
   ],
   "source": [
    "data = pd.read_csv('/Users/patricia/Downloads/seasonal_gdp.csv')\n",
    "data.describe(include = 'all')"
   ]
  },
  {
   "cell_type": "code",
   "execution_count": 139,
   "metadata": {},
   "outputs": [
    {
     "name": "stdout",
     "output_type": "stream",
     "text": [
      "<class 'pandas.core.frame.DataFrame'>\n",
      "RangeIndex: 118 entries, 0 to 117\n",
      "Data columns (total 2 columns):\n",
      " #   Column  Non-Null Count  Dtype  \n",
      "---  ------  --------------  -----  \n",
      " 0   Date    118 non-null    object \n",
      " 1   GDP     118 non-null    float64\n",
      "dtypes: float64(1), object(1)\n",
      "memory usage: 2.0+ KB\n"
     ]
    }
   ],
   "source": [
    "from functools import reduce \n",
    "def str2float(s):\n",
    "    def dict(s):\n",
    "        dict1 ={'0': 0, '1': 1, '2': 2, '3': 3, '4': 4, '5': 5, '6': 6, '7': 7, '8': 8, '9': 9,'.':'.'}\n",
    "        return dict1[s]  \n",
    "    def fn(x,y):\n",
    "        return x*10+y\n",
    "    a =0\n",
    "    for i in s :\n",
    "        a +=1\n",
    "        if i =='.':\n",
    "            s = s[:a-1]+s[a:]\n",
    "            break\n",
    "    if a ==len(s):\n",
    "        return reduce(fn,map(dict,s))\n",
    "    else:\n",
    "        return reduce(fn,map(dict,s))/(10**(len(s)-a+1))\n",
    "\n",
    "def format_float(x):\n",
    "    try:\n",
    "        return float(x)\n",
    "    except ValueError:\n",
    "        x=x.replace(\",\",\"\")\n",
    "        return str2float(x)\n",
    "\n",
    "for col in data.columns:\n",
    "    if col !=\"Date\":\n",
    "        data[col]=data[col].apply(lambda x: format_float(x))\n",
    "data.info()"
   ]
  },
  {
   "cell_type": "code",
   "execution_count": 140,
   "metadata": {},
   "outputs": [
    {
     "data": {
      "text/html": [
       "<div>\n",
       "<style scoped>\n",
       "    .dataframe tbody tr th:only-of-type {\n",
       "        vertical-align: middle;\n",
       "    }\n",
       "\n",
       "    .dataframe tbody tr th {\n",
       "        vertical-align: top;\n",
       "    }\n",
       "\n",
       "    .dataframe thead th {\n",
       "        text-align: right;\n",
       "    }\n",
       "</style>\n",
       "<table border=\"1\" class=\"dataframe\">\n",
       "  <thead>\n",
       "    <tr style=\"text-align: right;\">\n",
       "      <th></th>\n",
       "      <th>Date</th>\n",
       "      <th>GDP</th>\n",
       "    </tr>\n",
       "  </thead>\n",
       "  <tbody>\n",
       "    <tr>\n",
       "      <th>117</th>\n",
       "      <td>1992年第一季度</td>\n",
       "      <td>5262.8</td>\n",
       "    </tr>\n",
       "    <tr>\n",
       "      <th>115</th>\n",
       "      <td>1992年第三季度</td>\n",
       "      <td>7192.6</td>\n",
       "    </tr>\n",
       "    <tr>\n",
       "      <th>116</th>\n",
       "      <td>1992年第二季度</td>\n",
       "      <td>6484.3</td>\n",
       "    </tr>\n",
       "    <tr>\n",
       "      <th>114</th>\n",
       "      <td>1992年第四季度</td>\n",
       "      <td>8254.8</td>\n",
       "    </tr>\n",
       "    <tr>\n",
       "      <th>113</th>\n",
       "      <td>1993年第一季度</td>\n",
       "      <td>6834.6</td>\n",
       "    </tr>\n",
       "  </tbody>\n",
       "</table>\n",
       "</div>"
      ],
      "text/plain": [
       "          Date     GDP\n",
       "117  1992年第一季度  5262.8\n",
       "115  1992年第三季度  7192.6\n",
       "116  1992年第二季度  6484.3\n",
       "114  1992年第四季度  8254.8\n",
       "113  1993年第一季度  6834.6"
      ]
     },
     "execution_count": 140,
     "metadata": {},
     "output_type": "execute_result"
    }
   ],
   "source": [
    "df=data[[\"Date\",\"GDP\"]]\n",
    "df=df.sort_values(\"Date\")\n",
    "df.head()"
   ]
  },
  {
   "cell_type": "code",
   "execution_count": 141,
   "metadata": {},
   "outputs": [
    {
     "data": {
      "application/vnd.plotly.v1+json": {
       "config": {
        "plotlyServerURL": "https://plot.ly"
       },
       "data": [
        {
         "hovertemplate": "Date=%{x}<br>GDP=%{y}<extra></extra>",
         "legendgroup": "",
         "line": {
          "color": "#636efa",
          "dash": "solid"
         },
         "marker": {
          "line": {
           "width": 2
          },
          "symbol": "circle"
         },
         "mode": "lines",
         "name": "",
         "opacity": 0.6,
         "orientation": "v",
         "showlegend": false,
         "type": "scatter",
         "x": [
          "1992年第一季度",
          "1992年第三季度",
          "1992年第二季度",
          "1992年第四季度",
          "1993年第一季度",
          "1993年第三季度",
          "1993年第二季度",
          "1993年第四季度",
          "1994年第一季度",
          "1994年第三季度",
          "1994年第二季度",
          "1994年第四季度",
          "1995年第一季度",
          "1995年第三季度",
          "1995年第二季度",
          "1995年第四季度",
          "1996年第一季度",
          "1996年第三季度",
          "1996年第二季度",
          "1996年第四季度",
          "1997年第一季度",
          "1997年第三季度",
          "1997年第二季度",
          "1997年第四季度",
          "1998年第一季度",
          "1998年第三季度",
          "1998年第二季度",
          "1998年第四季度",
          "1999年第一季度",
          "1999年第三季度",
          "1999年第二季度",
          "1999年第四季度",
          "2000年第一季度",
          "2000年第三季度",
          "2000年第二季度",
          "2000年第四季度",
          "2001年第一季度",
          "2001年第三季度",
          "2001年第二季度",
          "2001年第四季度",
          "2002年第一季度",
          "2002年第三季度",
          "2002年第二季度",
          "2002年第四季度",
          "2003年第一季度",
          "2003年第三季度",
          "2003年第二季度",
          "2003年第四季度",
          "2004年第一季度",
          "2004年第三季度",
          "2004年第二季度",
          "2004年第四季度",
          "2005年第一季度",
          "2005年第三季度",
          "2005年第二季度",
          "2005年第四季度",
          "2006年第一季度",
          "2006年第三季度",
          "2006年第二季度",
          "2006年第四季度",
          "2007年第一季度",
          "2007年第三季度",
          "2007年第二季度",
          "2007年第四季度",
          "2008年第一季度",
          "2008年第三季度",
          "2008年第二季度",
          "2008年第四季度",
          "2009年第一季度",
          "2009年第三季度",
          "2009年第二季度",
          "2009年第四季度",
          "2010年第一季度",
          "2010年第三季度",
          "2010年第二季度",
          "2010年第四季度",
          "2011年第一季度",
          "2011年第三季度",
          "2011年第二季度",
          "2011年第四季度",
          "2012年第一季度",
          "2012年第三季度",
          "2012年第二季度",
          "2012年第四季度",
          "2013年第一季度",
          "2013年第三季度",
          "2013年第二季度",
          "2013年第四季度",
          "2014年第一季度",
          "2014年第三季度",
          "2014年第二季度",
          "2014年第四季度",
          "2015年第一季度",
          "2015年第三季度",
          "2015年第二季度",
          "2015年第四季度",
          "2016年第一季度",
          "2016年第三季度",
          "2016年第二季度",
          "2016年第四季度",
          "2017年第一季度",
          "2017年第三季度",
          "2017年第二季度",
          "2017年第四季度",
          "2018年第一季度",
          "2018年第三季度",
          "2018年第二季度",
          "2018年第四季度",
          "2019年第一季度",
          "2019年第三季度",
          "2019年第二季度",
          "2019年第四季度",
          "2020年第一季度",
          "2020年第三季度",
          "2020年第二季度",
          "2020年第四季度",
          "2021年第一季度",
          "2021年第二季度"
         ],
         "xaxis": "x",
         "y": [
          5262.8,
          7192.6,
          6484.3,
          8254.8,
          6834.6,
          9385.8,
          8357,
          11095.9,
          9375.1,
          12868,
          11481,
          14913.3,
          12111.7,
          16164.1,
          14612.9,
          18451.2,
          14628,
          18605.8,
          17147.5,
          21432.4,
          16689.1,
          20500.9,
          19163.6,
          23361.5,
          18049.1,
          21775.6,
          20296.6,
          25074.2,
          19361.9,
          23050.8,
          21567.7,
          26583.9,
          21329.9,
          25712.5,
          24043.4,
          29194.3,
          24086.4,
          28333.3,
          26726.6,
          31716.8,
          26295,
          31257.3,
          29194.8,
          34970.3,
          29825.5,
          35291.9,
          32537.3,
          39767.4,
          34544.6,
          41855,
          38700.8,
          46739.8,
          40453.3,
          48047.8,
          44793.1,
          54024.8,
          47078.9,
          56064.7,
          52673.3,
          63621.6,
          57159.3,
          69482.1,
          64781.6,
          78669.3,
          69373.6,
          82460.1,
          78711.8,
          88699,
          73979.2,
          89846.9,
          83865.8,
          100825.8,
          87501.3,
          105963.7,
          99347.4,
          119306.8,
          104469.9,
          126562.2,
          118895.9,
          138012.1,
          117357.6,
          138089.6,
          131320.6,
          151812,
          129449.6,
          152222.7,
          143518.7,
          167772.3,
          140759.8,
          165484.7,
          156489.6,
          180828.9,
          151137.9,
          176597.7,
          168549.7,
          192572.9,
          162410,
          191010.6,
          181408.2,
          211566.2,
          181867.7,
          212789.3,
          201950.3,
          235428.7,
          202035.7,
          234474.3,
          223962.2,
          258808.9,
          217168.3,
          251046.3,
          241502.6,
          276798,
          205727,
          264976.3,
          248985.1,
          296297.8,
          249310.1,
          282857.4
         ],
         "yaxis": "y"
        }
       ],
       "layout": {
        "font": {
         "color": "black",
         "size": 15
        },
        "legend": {
         "tracegroupgap": 0
        },
        "margin": {
         "t": 60
        },
        "plot_bgcolor": "white",
        "template": {
         "data": {
          "bar": [
           {
            "error_x": {
             "color": "#2a3f5f"
            },
            "error_y": {
             "color": "#2a3f5f"
            },
            "marker": {
             "line": {
              "color": "#E5ECF6",
              "width": 0.5
             },
             "pattern": {
              "fillmode": "overlay",
              "size": 10,
              "solidity": 0.2
             }
            },
            "type": "bar"
           }
          ],
          "barpolar": [
           {
            "marker": {
             "line": {
              "color": "#E5ECF6",
              "width": 0.5
             },
             "pattern": {
              "fillmode": "overlay",
              "size": 10,
              "solidity": 0.2
             }
            },
            "type": "barpolar"
           }
          ],
          "carpet": [
           {
            "aaxis": {
             "endlinecolor": "#2a3f5f",
             "gridcolor": "white",
             "linecolor": "white",
             "minorgridcolor": "white",
             "startlinecolor": "#2a3f5f"
            },
            "baxis": {
             "endlinecolor": "#2a3f5f",
             "gridcolor": "white",
             "linecolor": "white",
             "minorgridcolor": "white",
             "startlinecolor": "#2a3f5f"
            },
            "type": "carpet"
           }
          ],
          "choropleth": [
           {
            "colorbar": {
             "outlinewidth": 0,
             "ticks": ""
            },
            "type": "choropleth"
           }
          ],
          "contour": [
           {
            "colorbar": {
             "outlinewidth": 0,
             "ticks": ""
            },
            "colorscale": [
             [
              0,
              "#0d0887"
             ],
             [
              0.1111111111111111,
              "#46039f"
             ],
             [
              0.2222222222222222,
              "#7201a8"
             ],
             [
              0.3333333333333333,
              "#9c179e"
             ],
             [
              0.4444444444444444,
              "#bd3786"
             ],
             [
              0.5555555555555556,
              "#d8576b"
             ],
             [
              0.6666666666666666,
              "#ed7953"
             ],
             [
              0.7777777777777778,
              "#fb9f3a"
             ],
             [
              0.8888888888888888,
              "#fdca26"
             ],
             [
              1,
              "#f0f921"
             ]
            ],
            "type": "contour"
           }
          ],
          "contourcarpet": [
           {
            "colorbar": {
             "outlinewidth": 0,
             "ticks": ""
            },
            "type": "contourcarpet"
           }
          ],
          "heatmap": [
           {
            "colorbar": {
             "outlinewidth": 0,
             "ticks": ""
            },
            "colorscale": [
             [
              0,
              "#0d0887"
             ],
             [
              0.1111111111111111,
              "#46039f"
             ],
             [
              0.2222222222222222,
              "#7201a8"
             ],
             [
              0.3333333333333333,
              "#9c179e"
             ],
             [
              0.4444444444444444,
              "#bd3786"
             ],
             [
              0.5555555555555556,
              "#d8576b"
             ],
             [
              0.6666666666666666,
              "#ed7953"
             ],
             [
              0.7777777777777778,
              "#fb9f3a"
             ],
             [
              0.8888888888888888,
              "#fdca26"
             ],
             [
              1,
              "#f0f921"
             ]
            ],
            "type": "heatmap"
           }
          ],
          "heatmapgl": [
           {
            "colorbar": {
             "outlinewidth": 0,
             "ticks": ""
            },
            "colorscale": [
             [
              0,
              "#0d0887"
             ],
             [
              0.1111111111111111,
              "#46039f"
             ],
             [
              0.2222222222222222,
              "#7201a8"
             ],
             [
              0.3333333333333333,
              "#9c179e"
             ],
             [
              0.4444444444444444,
              "#bd3786"
             ],
             [
              0.5555555555555556,
              "#d8576b"
             ],
             [
              0.6666666666666666,
              "#ed7953"
             ],
             [
              0.7777777777777778,
              "#fb9f3a"
             ],
             [
              0.8888888888888888,
              "#fdca26"
             ],
             [
              1,
              "#f0f921"
             ]
            ],
            "type": "heatmapgl"
           }
          ],
          "histogram": [
           {
            "marker": {
             "pattern": {
              "fillmode": "overlay",
              "size": 10,
              "solidity": 0.2
             }
            },
            "type": "histogram"
           }
          ],
          "histogram2d": [
           {
            "colorbar": {
             "outlinewidth": 0,
             "ticks": ""
            },
            "colorscale": [
             [
              0,
              "#0d0887"
             ],
             [
              0.1111111111111111,
              "#46039f"
             ],
             [
              0.2222222222222222,
              "#7201a8"
             ],
             [
              0.3333333333333333,
              "#9c179e"
             ],
             [
              0.4444444444444444,
              "#bd3786"
             ],
             [
              0.5555555555555556,
              "#d8576b"
             ],
             [
              0.6666666666666666,
              "#ed7953"
             ],
             [
              0.7777777777777778,
              "#fb9f3a"
             ],
             [
              0.8888888888888888,
              "#fdca26"
             ],
             [
              1,
              "#f0f921"
             ]
            ],
            "type": "histogram2d"
           }
          ],
          "histogram2dcontour": [
           {
            "colorbar": {
             "outlinewidth": 0,
             "ticks": ""
            },
            "colorscale": [
             [
              0,
              "#0d0887"
             ],
             [
              0.1111111111111111,
              "#46039f"
             ],
             [
              0.2222222222222222,
              "#7201a8"
             ],
             [
              0.3333333333333333,
              "#9c179e"
             ],
             [
              0.4444444444444444,
              "#bd3786"
             ],
             [
              0.5555555555555556,
              "#d8576b"
             ],
             [
              0.6666666666666666,
              "#ed7953"
             ],
             [
              0.7777777777777778,
              "#fb9f3a"
             ],
             [
              0.8888888888888888,
              "#fdca26"
             ],
             [
              1,
              "#f0f921"
             ]
            ],
            "type": "histogram2dcontour"
           }
          ],
          "mesh3d": [
           {
            "colorbar": {
             "outlinewidth": 0,
             "ticks": ""
            },
            "type": "mesh3d"
           }
          ],
          "parcoords": [
           {
            "line": {
             "colorbar": {
              "outlinewidth": 0,
              "ticks": ""
             }
            },
            "type": "parcoords"
           }
          ],
          "pie": [
           {
            "automargin": true,
            "type": "pie"
           }
          ],
          "scatter": [
           {
            "marker": {
             "colorbar": {
              "outlinewidth": 0,
              "ticks": ""
             }
            },
            "type": "scatter"
           }
          ],
          "scatter3d": [
           {
            "line": {
             "colorbar": {
              "outlinewidth": 0,
              "ticks": ""
             }
            },
            "marker": {
             "colorbar": {
              "outlinewidth": 0,
              "ticks": ""
             }
            },
            "type": "scatter3d"
           }
          ],
          "scattercarpet": [
           {
            "marker": {
             "colorbar": {
              "outlinewidth": 0,
              "ticks": ""
             }
            },
            "type": "scattercarpet"
           }
          ],
          "scattergeo": [
           {
            "marker": {
             "colorbar": {
              "outlinewidth": 0,
              "ticks": ""
             }
            },
            "type": "scattergeo"
           }
          ],
          "scattergl": [
           {
            "marker": {
             "colorbar": {
              "outlinewidth": 0,
              "ticks": ""
             }
            },
            "type": "scattergl"
           }
          ],
          "scattermapbox": [
           {
            "marker": {
             "colorbar": {
              "outlinewidth": 0,
              "ticks": ""
             }
            },
            "type": "scattermapbox"
           }
          ],
          "scatterpolar": [
           {
            "marker": {
             "colorbar": {
              "outlinewidth": 0,
              "ticks": ""
             }
            },
            "type": "scatterpolar"
           }
          ],
          "scatterpolargl": [
           {
            "marker": {
             "colorbar": {
              "outlinewidth": 0,
              "ticks": ""
             }
            },
            "type": "scatterpolargl"
           }
          ],
          "scatterternary": [
           {
            "marker": {
             "colorbar": {
              "outlinewidth": 0,
              "ticks": ""
             }
            },
            "type": "scatterternary"
           }
          ],
          "surface": [
           {
            "colorbar": {
             "outlinewidth": 0,
             "ticks": ""
            },
            "colorscale": [
             [
              0,
              "#0d0887"
             ],
             [
              0.1111111111111111,
              "#46039f"
             ],
             [
              0.2222222222222222,
              "#7201a8"
             ],
             [
              0.3333333333333333,
              "#9c179e"
             ],
             [
              0.4444444444444444,
              "#bd3786"
             ],
             [
              0.5555555555555556,
              "#d8576b"
             ],
             [
              0.6666666666666666,
              "#ed7953"
             ],
             [
              0.7777777777777778,
              "#fb9f3a"
             ],
             [
              0.8888888888888888,
              "#fdca26"
             ],
             [
              1,
              "#f0f921"
             ]
            ],
            "type": "surface"
           }
          ],
          "table": [
           {
            "cells": {
             "fill": {
              "color": "#EBF0F8"
             },
             "line": {
              "color": "white"
             }
            },
            "header": {
             "fill": {
              "color": "#C8D4E3"
             },
             "line": {
              "color": "white"
             }
            },
            "type": "table"
           }
          ]
         },
         "layout": {
          "annotationdefaults": {
           "arrowcolor": "#2a3f5f",
           "arrowhead": 0,
           "arrowwidth": 1
          },
          "autotypenumbers": "strict",
          "coloraxis": {
           "colorbar": {
            "outlinewidth": 0,
            "ticks": ""
           }
          },
          "colorscale": {
           "diverging": [
            [
             0,
             "#8e0152"
            ],
            [
             0.1,
             "#c51b7d"
            ],
            [
             0.2,
             "#de77ae"
            ],
            [
             0.3,
             "#f1b6da"
            ],
            [
             0.4,
             "#fde0ef"
            ],
            [
             0.5,
             "#f7f7f7"
            ],
            [
             0.6,
             "#e6f5d0"
            ],
            [
             0.7,
             "#b8e186"
            ],
            [
             0.8,
             "#7fbc41"
            ],
            [
             0.9,
             "#4d9221"
            ],
            [
             1,
             "#276419"
            ]
           ],
           "sequential": [
            [
             0,
             "#0d0887"
            ],
            [
             0.1111111111111111,
             "#46039f"
            ],
            [
             0.2222222222222222,
             "#7201a8"
            ],
            [
             0.3333333333333333,
             "#9c179e"
            ],
            [
             0.4444444444444444,
             "#bd3786"
            ],
            [
             0.5555555555555556,
             "#d8576b"
            ],
            [
             0.6666666666666666,
             "#ed7953"
            ],
            [
             0.7777777777777778,
             "#fb9f3a"
            ],
            [
             0.8888888888888888,
             "#fdca26"
            ],
            [
             1,
             "#f0f921"
            ]
           ],
           "sequentialminus": [
            [
             0,
             "#0d0887"
            ],
            [
             0.1111111111111111,
             "#46039f"
            ],
            [
             0.2222222222222222,
             "#7201a8"
            ],
            [
             0.3333333333333333,
             "#9c179e"
            ],
            [
             0.4444444444444444,
             "#bd3786"
            ],
            [
             0.5555555555555556,
             "#d8576b"
            ],
            [
             0.6666666666666666,
             "#ed7953"
            ],
            [
             0.7777777777777778,
             "#fb9f3a"
            ],
            [
             0.8888888888888888,
             "#fdca26"
            ],
            [
             1,
             "#f0f921"
            ]
           ]
          },
          "colorway": [
           "#636efa",
           "#EF553B",
           "#00cc96",
           "#ab63fa",
           "#FFA15A",
           "#19d3f3",
           "#FF6692",
           "#B6E880",
           "#FF97FF",
           "#FECB52"
          ],
          "font": {
           "color": "#2a3f5f"
          },
          "geo": {
           "bgcolor": "white",
           "lakecolor": "white",
           "landcolor": "#E5ECF6",
           "showlakes": true,
           "showland": true,
           "subunitcolor": "white"
          },
          "hoverlabel": {
           "align": "left"
          },
          "hovermode": "closest",
          "mapbox": {
           "style": "light"
          },
          "paper_bgcolor": "white",
          "plot_bgcolor": "#E5ECF6",
          "polar": {
           "angularaxis": {
            "gridcolor": "white",
            "linecolor": "white",
            "ticks": ""
           },
           "bgcolor": "#E5ECF6",
           "radialaxis": {
            "gridcolor": "white",
            "linecolor": "white",
            "ticks": ""
           }
          },
          "scene": {
           "xaxis": {
            "backgroundcolor": "#E5ECF6",
            "gridcolor": "white",
            "gridwidth": 2,
            "linecolor": "white",
            "showbackground": true,
            "ticks": "",
            "zerolinecolor": "white"
           },
           "yaxis": {
            "backgroundcolor": "#E5ECF6",
            "gridcolor": "white",
            "gridwidth": 2,
            "linecolor": "white",
            "showbackground": true,
            "ticks": "",
            "zerolinecolor": "white"
           },
           "zaxis": {
            "backgroundcolor": "#E5ECF6",
            "gridcolor": "white",
            "gridwidth": 2,
            "linecolor": "white",
            "showbackground": true,
            "ticks": "",
            "zerolinecolor": "white"
           }
          },
          "shapedefaults": {
           "line": {
            "color": "#2a3f5f"
           }
          },
          "ternary": {
           "aaxis": {
            "gridcolor": "white",
            "linecolor": "white",
            "ticks": ""
           },
           "baxis": {
            "gridcolor": "white",
            "linecolor": "white",
            "ticks": ""
           },
           "bgcolor": "#E5ECF6",
           "caxis": {
            "gridcolor": "white",
            "linecolor": "white",
            "ticks": ""
           }
          },
          "title": {
           "x": 0.05
          },
          "xaxis": {
           "automargin": true,
           "gridcolor": "white",
           "linecolor": "white",
           "ticks": "",
           "title": {
            "standoff": 15
           },
           "zerolinecolor": "white",
           "zerolinewidth": 2
          },
          "yaxis": {
           "automargin": true,
           "gridcolor": "white",
           "linecolor": "white",
           "ticks": "",
           "title": {
            "standoff": 15
           },
           "zerolinecolor": "white",
           "zerolinewidth": 2
          }
         }
        },
        "title": {
         "text": "GDP chart"
        },
        "xaxis": {
         "anchor": "y",
         "domain": [
          0,
          1
         ],
         "showgrid": false,
         "title": {
          "text": "Date"
         }
        },
        "yaxis": {
         "anchor": "x",
         "domain": [
          0,
          1
         ],
         "showgrid": false,
         "title": {
          "text": "GDP"
         }
        }
       }
      },
      "text/html": [
       "<div>                            <div id=\"51f467a8-3256-4bd0-8063-ff2e2cedec3f\" class=\"plotly-graph-div\" style=\"height:525px; width:100%;\"></div>            <script type=\"text/javascript\">                require([\"plotly\"], function(Plotly) {                    window.PLOTLYENV=window.PLOTLYENV || {};                                    if (document.getElementById(\"51f467a8-3256-4bd0-8063-ff2e2cedec3f\")) {                    Plotly.newPlot(                        \"51f467a8-3256-4bd0-8063-ff2e2cedec3f\",                        [{\"hovertemplate\":\"Date=%{x}<br>GDP=%{y}<extra></extra>\",\"legendgroup\":\"\",\"line\":{\"color\":\"#636efa\",\"dash\":\"solid\"},\"marker\":{\"line\":{\"width\":2},\"symbol\":\"circle\"},\"mode\":\"lines\",\"name\":\"\",\"opacity\":0.6,\"orientation\":\"v\",\"showlegend\":false,\"type\":\"scatter\",\"x\":[\"1992\\u5e74\\u7b2c\\u4e00\\u5b63\\u5ea6\",\"1992\\u5e74\\u7b2c\\u4e09\\u5b63\\u5ea6\",\"1992\\u5e74\\u7b2c\\u4e8c\\u5b63\\u5ea6\",\"1992\\u5e74\\u7b2c\\u56db\\u5b63\\u5ea6\",\"1993\\u5e74\\u7b2c\\u4e00\\u5b63\\u5ea6\",\"1993\\u5e74\\u7b2c\\u4e09\\u5b63\\u5ea6\",\"1993\\u5e74\\u7b2c\\u4e8c\\u5b63\\u5ea6\",\"1993\\u5e74\\u7b2c\\u56db\\u5b63\\u5ea6\",\"1994\\u5e74\\u7b2c\\u4e00\\u5b63\\u5ea6\",\"1994\\u5e74\\u7b2c\\u4e09\\u5b63\\u5ea6\",\"1994\\u5e74\\u7b2c\\u4e8c\\u5b63\\u5ea6\",\"1994\\u5e74\\u7b2c\\u56db\\u5b63\\u5ea6\",\"1995\\u5e74\\u7b2c\\u4e00\\u5b63\\u5ea6\",\"1995\\u5e74\\u7b2c\\u4e09\\u5b63\\u5ea6\",\"1995\\u5e74\\u7b2c\\u4e8c\\u5b63\\u5ea6\",\"1995\\u5e74\\u7b2c\\u56db\\u5b63\\u5ea6\",\"1996\\u5e74\\u7b2c\\u4e00\\u5b63\\u5ea6\",\"1996\\u5e74\\u7b2c\\u4e09\\u5b63\\u5ea6\",\"1996\\u5e74\\u7b2c\\u4e8c\\u5b63\\u5ea6\",\"1996\\u5e74\\u7b2c\\u56db\\u5b63\\u5ea6\",\"1997\\u5e74\\u7b2c\\u4e00\\u5b63\\u5ea6\",\"1997\\u5e74\\u7b2c\\u4e09\\u5b63\\u5ea6\",\"1997\\u5e74\\u7b2c\\u4e8c\\u5b63\\u5ea6\",\"1997\\u5e74\\u7b2c\\u56db\\u5b63\\u5ea6\",\"1998\\u5e74\\u7b2c\\u4e00\\u5b63\\u5ea6\",\"1998\\u5e74\\u7b2c\\u4e09\\u5b63\\u5ea6\",\"1998\\u5e74\\u7b2c\\u4e8c\\u5b63\\u5ea6\",\"1998\\u5e74\\u7b2c\\u56db\\u5b63\\u5ea6\",\"1999\\u5e74\\u7b2c\\u4e00\\u5b63\\u5ea6\",\"1999\\u5e74\\u7b2c\\u4e09\\u5b63\\u5ea6\",\"1999\\u5e74\\u7b2c\\u4e8c\\u5b63\\u5ea6\",\"1999\\u5e74\\u7b2c\\u56db\\u5b63\\u5ea6\",\"2000\\u5e74\\u7b2c\\u4e00\\u5b63\\u5ea6\",\"2000\\u5e74\\u7b2c\\u4e09\\u5b63\\u5ea6\",\"2000\\u5e74\\u7b2c\\u4e8c\\u5b63\\u5ea6\",\"2000\\u5e74\\u7b2c\\u56db\\u5b63\\u5ea6\",\"2001\\u5e74\\u7b2c\\u4e00\\u5b63\\u5ea6\",\"2001\\u5e74\\u7b2c\\u4e09\\u5b63\\u5ea6\",\"2001\\u5e74\\u7b2c\\u4e8c\\u5b63\\u5ea6\",\"2001\\u5e74\\u7b2c\\u56db\\u5b63\\u5ea6\",\"2002\\u5e74\\u7b2c\\u4e00\\u5b63\\u5ea6\",\"2002\\u5e74\\u7b2c\\u4e09\\u5b63\\u5ea6\",\"2002\\u5e74\\u7b2c\\u4e8c\\u5b63\\u5ea6\",\"2002\\u5e74\\u7b2c\\u56db\\u5b63\\u5ea6\",\"2003\\u5e74\\u7b2c\\u4e00\\u5b63\\u5ea6\",\"2003\\u5e74\\u7b2c\\u4e09\\u5b63\\u5ea6\",\"2003\\u5e74\\u7b2c\\u4e8c\\u5b63\\u5ea6\",\"2003\\u5e74\\u7b2c\\u56db\\u5b63\\u5ea6\",\"2004\\u5e74\\u7b2c\\u4e00\\u5b63\\u5ea6\",\"2004\\u5e74\\u7b2c\\u4e09\\u5b63\\u5ea6\",\"2004\\u5e74\\u7b2c\\u4e8c\\u5b63\\u5ea6\",\"2004\\u5e74\\u7b2c\\u56db\\u5b63\\u5ea6\",\"2005\\u5e74\\u7b2c\\u4e00\\u5b63\\u5ea6\",\"2005\\u5e74\\u7b2c\\u4e09\\u5b63\\u5ea6\",\"2005\\u5e74\\u7b2c\\u4e8c\\u5b63\\u5ea6\",\"2005\\u5e74\\u7b2c\\u56db\\u5b63\\u5ea6\",\"2006\\u5e74\\u7b2c\\u4e00\\u5b63\\u5ea6\",\"2006\\u5e74\\u7b2c\\u4e09\\u5b63\\u5ea6\",\"2006\\u5e74\\u7b2c\\u4e8c\\u5b63\\u5ea6\",\"2006\\u5e74\\u7b2c\\u56db\\u5b63\\u5ea6\",\"2007\\u5e74\\u7b2c\\u4e00\\u5b63\\u5ea6\",\"2007\\u5e74\\u7b2c\\u4e09\\u5b63\\u5ea6\",\"2007\\u5e74\\u7b2c\\u4e8c\\u5b63\\u5ea6\",\"2007\\u5e74\\u7b2c\\u56db\\u5b63\\u5ea6\",\"2008\\u5e74\\u7b2c\\u4e00\\u5b63\\u5ea6\",\"2008\\u5e74\\u7b2c\\u4e09\\u5b63\\u5ea6\",\"2008\\u5e74\\u7b2c\\u4e8c\\u5b63\\u5ea6\",\"2008\\u5e74\\u7b2c\\u56db\\u5b63\\u5ea6\",\"2009\\u5e74\\u7b2c\\u4e00\\u5b63\\u5ea6\",\"2009\\u5e74\\u7b2c\\u4e09\\u5b63\\u5ea6\",\"2009\\u5e74\\u7b2c\\u4e8c\\u5b63\\u5ea6\",\"2009\\u5e74\\u7b2c\\u56db\\u5b63\\u5ea6\",\"2010\\u5e74\\u7b2c\\u4e00\\u5b63\\u5ea6\",\"2010\\u5e74\\u7b2c\\u4e09\\u5b63\\u5ea6\",\"2010\\u5e74\\u7b2c\\u4e8c\\u5b63\\u5ea6\",\"2010\\u5e74\\u7b2c\\u56db\\u5b63\\u5ea6\",\"2011\\u5e74\\u7b2c\\u4e00\\u5b63\\u5ea6\",\"2011\\u5e74\\u7b2c\\u4e09\\u5b63\\u5ea6\",\"2011\\u5e74\\u7b2c\\u4e8c\\u5b63\\u5ea6\",\"2011\\u5e74\\u7b2c\\u56db\\u5b63\\u5ea6\",\"2012\\u5e74\\u7b2c\\u4e00\\u5b63\\u5ea6\",\"2012\\u5e74\\u7b2c\\u4e09\\u5b63\\u5ea6\",\"2012\\u5e74\\u7b2c\\u4e8c\\u5b63\\u5ea6\",\"2012\\u5e74\\u7b2c\\u56db\\u5b63\\u5ea6\",\"2013\\u5e74\\u7b2c\\u4e00\\u5b63\\u5ea6\",\"2013\\u5e74\\u7b2c\\u4e09\\u5b63\\u5ea6\",\"2013\\u5e74\\u7b2c\\u4e8c\\u5b63\\u5ea6\",\"2013\\u5e74\\u7b2c\\u56db\\u5b63\\u5ea6\",\"2014\\u5e74\\u7b2c\\u4e00\\u5b63\\u5ea6\",\"2014\\u5e74\\u7b2c\\u4e09\\u5b63\\u5ea6\",\"2014\\u5e74\\u7b2c\\u4e8c\\u5b63\\u5ea6\",\"2014\\u5e74\\u7b2c\\u56db\\u5b63\\u5ea6\",\"2015\\u5e74\\u7b2c\\u4e00\\u5b63\\u5ea6\",\"2015\\u5e74\\u7b2c\\u4e09\\u5b63\\u5ea6\",\"2015\\u5e74\\u7b2c\\u4e8c\\u5b63\\u5ea6\",\"2015\\u5e74\\u7b2c\\u56db\\u5b63\\u5ea6\",\"2016\\u5e74\\u7b2c\\u4e00\\u5b63\\u5ea6\",\"2016\\u5e74\\u7b2c\\u4e09\\u5b63\\u5ea6\",\"2016\\u5e74\\u7b2c\\u4e8c\\u5b63\\u5ea6\",\"2016\\u5e74\\u7b2c\\u56db\\u5b63\\u5ea6\",\"2017\\u5e74\\u7b2c\\u4e00\\u5b63\\u5ea6\",\"2017\\u5e74\\u7b2c\\u4e09\\u5b63\\u5ea6\",\"2017\\u5e74\\u7b2c\\u4e8c\\u5b63\\u5ea6\",\"2017\\u5e74\\u7b2c\\u56db\\u5b63\\u5ea6\",\"2018\\u5e74\\u7b2c\\u4e00\\u5b63\\u5ea6\",\"2018\\u5e74\\u7b2c\\u4e09\\u5b63\\u5ea6\",\"2018\\u5e74\\u7b2c\\u4e8c\\u5b63\\u5ea6\",\"2018\\u5e74\\u7b2c\\u56db\\u5b63\\u5ea6\",\"2019\\u5e74\\u7b2c\\u4e00\\u5b63\\u5ea6\",\"2019\\u5e74\\u7b2c\\u4e09\\u5b63\\u5ea6\",\"2019\\u5e74\\u7b2c\\u4e8c\\u5b63\\u5ea6\",\"2019\\u5e74\\u7b2c\\u56db\\u5b63\\u5ea6\",\"2020\\u5e74\\u7b2c\\u4e00\\u5b63\\u5ea6\",\"2020\\u5e74\\u7b2c\\u4e09\\u5b63\\u5ea6\",\"2020\\u5e74\\u7b2c\\u4e8c\\u5b63\\u5ea6\",\"2020\\u5e74\\u7b2c\\u56db\\u5b63\\u5ea6\",\"2021\\u5e74\\u7b2c\\u4e00\\u5b63\\u5ea6\",\"2021\\u5e74\\u7b2c\\u4e8c\\u5b63\\u5ea6\"],\"xaxis\":\"x\",\"y\":[5262.8,7192.6,6484.3,8254.8,6834.6,9385.8,8357.0,11095.9,9375.1,12868.0,11481.0,14913.3,12111.7,16164.1,14612.9,18451.2,14628.0,18605.8,17147.5,21432.4,16689.1,20500.9,19163.6,23361.5,18049.1,21775.6,20296.6,25074.2,19361.9,23050.8,21567.7,26583.9,21329.9,25712.5,24043.4,29194.3,24086.4,28333.3,26726.6,31716.8,26295.0,31257.3,29194.8,34970.3,29825.5,35291.9,32537.3,39767.4,34544.6,41855.0,38700.8,46739.8,40453.3,48047.8,44793.1,54024.8,47078.9,56064.7,52673.3,63621.6,57159.3,69482.1,64781.6,78669.3,69373.6,82460.1,78711.8,88699.0,73979.2,89846.9,83865.8,100825.8,87501.3,105963.7,99347.4,119306.8,104469.9,126562.2,118895.9,138012.1,117357.6,138089.6,131320.6,151812.0,129449.6,152222.7,143518.7,167772.3,140759.8,165484.7,156489.6,180828.9,151137.9,176597.7,168549.7,192572.9,162410.0,191010.6,181408.2,211566.2,181867.7,212789.3,201950.3,235428.7,202035.7,234474.3,223962.2,258808.9,217168.3,251046.3,241502.6,276798.0,205727.0,264976.3,248985.1,296297.8,249310.1,282857.4],\"yaxis\":\"y\"}],                        {\"font\":{\"color\":\"black\",\"size\":15},\"legend\":{\"tracegroupgap\":0},\"margin\":{\"t\":60},\"plot_bgcolor\":\"white\",\"template\":{\"data\":{\"bar\":[{\"error_x\":{\"color\":\"#2a3f5f\"},\"error_y\":{\"color\":\"#2a3f5f\"},\"marker\":{\"line\":{\"color\":\"#E5ECF6\",\"width\":0.5},\"pattern\":{\"fillmode\":\"overlay\",\"size\":10,\"solidity\":0.2}},\"type\":\"bar\"}],\"barpolar\":[{\"marker\":{\"line\":{\"color\":\"#E5ECF6\",\"width\":0.5},\"pattern\":{\"fillmode\":\"overlay\",\"size\":10,\"solidity\":0.2}},\"type\":\"barpolar\"}],\"carpet\":[{\"aaxis\":{\"endlinecolor\":\"#2a3f5f\",\"gridcolor\":\"white\",\"linecolor\":\"white\",\"minorgridcolor\":\"white\",\"startlinecolor\":\"#2a3f5f\"},\"baxis\":{\"endlinecolor\":\"#2a3f5f\",\"gridcolor\":\"white\",\"linecolor\":\"white\",\"minorgridcolor\":\"white\",\"startlinecolor\":\"#2a3f5f\"},\"type\":\"carpet\"}],\"choropleth\":[{\"colorbar\":{\"outlinewidth\":0,\"ticks\":\"\"},\"type\":\"choropleth\"}],\"contour\":[{\"colorbar\":{\"outlinewidth\":0,\"ticks\":\"\"},\"colorscale\":[[0.0,\"#0d0887\"],[0.1111111111111111,\"#46039f\"],[0.2222222222222222,\"#7201a8\"],[0.3333333333333333,\"#9c179e\"],[0.4444444444444444,\"#bd3786\"],[0.5555555555555556,\"#d8576b\"],[0.6666666666666666,\"#ed7953\"],[0.7777777777777778,\"#fb9f3a\"],[0.8888888888888888,\"#fdca26\"],[1.0,\"#f0f921\"]],\"type\":\"contour\"}],\"contourcarpet\":[{\"colorbar\":{\"outlinewidth\":0,\"ticks\":\"\"},\"type\":\"contourcarpet\"}],\"heatmap\":[{\"colorbar\":{\"outlinewidth\":0,\"ticks\":\"\"},\"colorscale\":[[0.0,\"#0d0887\"],[0.1111111111111111,\"#46039f\"],[0.2222222222222222,\"#7201a8\"],[0.3333333333333333,\"#9c179e\"],[0.4444444444444444,\"#bd3786\"],[0.5555555555555556,\"#d8576b\"],[0.6666666666666666,\"#ed7953\"],[0.7777777777777778,\"#fb9f3a\"],[0.8888888888888888,\"#fdca26\"],[1.0,\"#f0f921\"]],\"type\":\"heatmap\"}],\"heatmapgl\":[{\"colorbar\":{\"outlinewidth\":0,\"ticks\":\"\"},\"colorscale\":[[0.0,\"#0d0887\"],[0.1111111111111111,\"#46039f\"],[0.2222222222222222,\"#7201a8\"],[0.3333333333333333,\"#9c179e\"],[0.4444444444444444,\"#bd3786\"],[0.5555555555555556,\"#d8576b\"],[0.6666666666666666,\"#ed7953\"],[0.7777777777777778,\"#fb9f3a\"],[0.8888888888888888,\"#fdca26\"],[1.0,\"#f0f921\"]],\"type\":\"heatmapgl\"}],\"histogram\":[{\"marker\":{\"pattern\":{\"fillmode\":\"overlay\",\"size\":10,\"solidity\":0.2}},\"type\":\"histogram\"}],\"histogram2d\":[{\"colorbar\":{\"outlinewidth\":0,\"ticks\":\"\"},\"colorscale\":[[0.0,\"#0d0887\"],[0.1111111111111111,\"#46039f\"],[0.2222222222222222,\"#7201a8\"],[0.3333333333333333,\"#9c179e\"],[0.4444444444444444,\"#bd3786\"],[0.5555555555555556,\"#d8576b\"],[0.6666666666666666,\"#ed7953\"],[0.7777777777777778,\"#fb9f3a\"],[0.8888888888888888,\"#fdca26\"],[1.0,\"#f0f921\"]],\"type\":\"histogram2d\"}],\"histogram2dcontour\":[{\"colorbar\":{\"outlinewidth\":0,\"ticks\":\"\"},\"colorscale\":[[0.0,\"#0d0887\"],[0.1111111111111111,\"#46039f\"],[0.2222222222222222,\"#7201a8\"],[0.3333333333333333,\"#9c179e\"],[0.4444444444444444,\"#bd3786\"],[0.5555555555555556,\"#d8576b\"],[0.6666666666666666,\"#ed7953\"],[0.7777777777777778,\"#fb9f3a\"],[0.8888888888888888,\"#fdca26\"],[1.0,\"#f0f921\"]],\"type\":\"histogram2dcontour\"}],\"mesh3d\":[{\"colorbar\":{\"outlinewidth\":0,\"ticks\":\"\"},\"type\":\"mesh3d\"}],\"parcoords\":[{\"line\":{\"colorbar\":{\"outlinewidth\":0,\"ticks\":\"\"}},\"type\":\"parcoords\"}],\"pie\":[{\"automargin\":true,\"type\":\"pie\"}],\"scatter\":[{\"marker\":{\"colorbar\":{\"outlinewidth\":0,\"ticks\":\"\"}},\"type\":\"scatter\"}],\"scatter3d\":[{\"line\":{\"colorbar\":{\"outlinewidth\":0,\"ticks\":\"\"}},\"marker\":{\"colorbar\":{\"outlinewidth\":0,\"ticks\":\"\"}},\"type\":\"scatter3d\"}],\"scattercarpet\":[{\"marker\":{\"colorbar\":{\"outlinewidth\":0,\"ticks\":\"\"}},\"type\":\"scattercarpet\"}],\"scattergeo\":[{\"marker\":{\"colorbar\":{\"outlinewidth\":0,\"ticks\":\"\"}},\"type\":\"scattergeo\"}],\"scattergl\":[{\"marker\":{\"colorbar\":{\"outlinewidth\":0,\"ticks\":\"\"}},\"type\":\"scattergl\"}],\"scattermapbox\":[{\"marker\":{\"colorbar\":{\"outlinewidth\":0,\"ticks\":\"\"}},\"type\":\"scattermapbox\"}],\"scatterpolar\":[{\"marker\":{\"colorbar\":{\"outlinewidth\":0,\"ticks\":\"\"}},\"type\":\"scatterpolar\"}],\"scatterpolargl\":[{\"marker\":{\"colorbar\":{\"outlinewidth\":0,\"ticks\":\"\"}},\"type\":\"scatterpolargl\"}],\"scatterternary\":[{\"marker\":{\"colorbar\":{\"outlinewidth\":0,\"ticks\":\"\"}},\"type\":\"scatterternary\"}],\"surface\":[{\"colorbar\":{\"outlinewidth\":0,\"ticks\":\"\"},\"colorscale\":[[0.0,\"#0d0887\"],[0.1111111111111111,\"#46039f\"],[0.2222222222222222,\"#7201a8\"],[0.3333333333333333,\"#9c179e\"],[0.4444444444444444,\"#bd3786\"],[0.5555555555555556,\"#d8576b\"],[0.6666666666666666,\"#ed7953\"],[0.7777777777777778,\"#fb9f3a\"],[0.8888888888888888,\"#fdca26\"],[1.0,\"#f0f921\"]],\"type\":\"surface\"}],\"table\":[{\"cells\":{\"fill\":{\"color\":\"#EBF0F8\"},\"line\":{\"color\":\"white\"}},\"header\":{\"fill\":{\"color\":\"#C8D4E3\"},\"line\":{\"color\":\"white\"}},\"type\":\"table\"}]},\"layout\":{\"annotationdefaults\":{\"arrowcolor\":\"#2a3f5f\",\"arrowhead\":0,\"arrowwidth\":1},\"autotypenumbers\":\"strict\",\"coloraxis\":{\"colorbar\":{\"outlinewidth\":0,\"ticks\":\"\"}},\"colorscale\":{\"diverging\":[[0,\"#8e0152\"],[0.1,\"#c51b7d\"],[0.2,\"#de77ae\"],[0.3,\"#f1b6da\"],[0.4,\"#fde0ef\"],[0.5,\"#f7f7f7\"],[0.6,\"#e6f5d0\"],[0.7,\"#b8e186\"],[0.8,\"#7fbc41\"],[0.9,\"#4d9221\"],[1,\"#276419\"]],\"sequential\":[[0.0,\"#0d0887\"],[0.1111111111111111,\"#46039f\"],[0.2222222222222222,\"#7201a8\"],[0.3333333333333333,\"#9c179e\"],[0.4444444444444444,\"#bd3786\"],[0.5555555555555556,\"#d8576b\"],[0.6666666666666666,\"#ed7953\"],[0.7777777777777778,\"#fb9f3a\"],[0.8888888888888888,\"#fdca26\"],[1.0,\"#f0f921\"]],\"sequentialminus\":[[0.0,\"#0d0887\"],[0.1111111111111111,\"#46039f\"],[0.2222222222222222,\"#7201a8\"],[0.3333333333333333,\"#9c179e\"],[0.4444444444444444,\"#bd3786\"],[0.5555555555555556,\"#d8576b\"],[0.6666666666666666,\"#ed7953\"],[0.7777777777777778,\"#fb9f3a\"],[0.8888888888888888,\"#fdca26\"],[1.0,\"#f0f921\"]]},\"colorway\":[\"#636efa\",\"#EF553B\",\"#00cc96\",\"#ab63fa\",\"#FFA15A\",\"#19d3f3\",\"#FF6692\",\"#B6E880\",\"#FF97FF\",\"#FECB52\"],\"font\":{\"color\":\"#2a3f5f\"},\"geo\":{\"bgcolor\":\"white\",\"lakecolor\":\"white\",\"landcolor\":\"#E5ECF6\",\"showlakes\":true,\"showland\":true,\"subunitcolor\":\"white\"},\"hoverlabel\":{\"align\":\"left\"},\"hovermode\":\"closest\",\"mapbox\":{\"style\":\"light\"},\"paper_bgcolor\":\"white\",\"plot_bgcolor\":\"#E5ECF6\",\"polar\":{\"angularaxis\":{\"gridcolor\":\"white\",\"linecolor\":\"white\",\"ticks\":\"\"},\"bgcolor\":\"#E5ECF6\",\"radialaxis\":{\"gridcolor\":\"white\",\"linecolor\":\"white\",\"ticks\":\"\"}},\"scene\":{\"xaxis\":{\"backgroundcolor\":\"#E5ECF6\",\"gridcolor\":\"white\",\"gridwidth\":2,\"linecolor\":\"white\",\"showbackground\":true,\"ticks\":\"\",\"zerolinecolor\":\"white\"},\"yaxis\":{\"backgroundcolor\":\"#E5ECF6\",\"gridcolor\":\"white\",\"gridwidth\":2,\"linecolor\":\"white\",\"showbackground\":true,\"ticks\":\"\",\"zerolinecolor\":\"white\"},\"zaxis\":{\"backgroundcolor\":\"#E5ECF6\",\"gridcolor\":\"white\",\"gridwidth\":2,\"linecolor\":\"white\",\"showbackground\":true,\"ticks\":\"\",\"zerolinecolor\":\"white\"}},\"shapedefaults\":{\"line\":{\"color\":\"#2a3f5f\"}},\"ternary\":{\"aaxis\":{\"gridcolor\":\"white\",\"linecolor\":\"white\",\"ticks\":\"\"},\"baxis\":{\"gridcolor\":\"white\",\"linecolor\":\"white\",\"ticks\":\"\"},\"bgcolor\":\"#E5ECF6\",\"caxis\":{\"gridcolor\":\"white\",\"linecolor\":\"white\",\"ticks\":\"\"}},\"title\":{\"x\":0.05},\"xaxis\":{\"automargin\":true,\"gridcolor\":\"white\",\"linecolor\":\"white\",\"ticks\":\"\",\"title\":{\"standoff\":15},\"zerolinecolor\":\"white\",\"zerolinewidth\":2},\"yaxis\":{\"automargin\":true,\"gridcolor\":\"white\",\"linecolor\":\"white\",\"ticks\":\"\",\"title\":{\"standoff\":15},\"zerolinecolor\":\"white\",\"zerolinewidth\":2}}},\"title\":{\"text\":\"GDP chart\"},\"xaxis\":{\"anchor\":\"y\",\"domain\":[0.0,1.0],\"showgrid\":false,\"title\":{\"text\":\"Date\"}},\"yaxis\":{\"anchor\":\"x\",\"domain\":[0.0,1.0],\"showgrid\":false,\"title\":{\"text\":\"GDP\"}}},                        {\"responsive\": true}                    ).then(function(){\n",
       "                            \n",
       "var gd = document.getElementById('51f467a8-3256-4bd0-8063-ff2e2cedec3f');\n",
       "var x = new MutationObserver(function (mutations, observer) {{\n",
       "        var display = window.getComputedStyle(gd).display;\n",
       "        if (!display || display === 'none') {{\n",
       "            console.log([gd, 'removed!']);\n",
       "            Plotly.purge(gd);\n",
       "            observer.disconnect();\n",
       "        }}\n",
       "}});\n",
       "\n",
       "// Listen for the removal of the full notebook cells\n",
       "var notebookContainer = gd.closest('#notebook-container');\n",
       "if (notebookContainer) {{\n",
       "    x.observe(notebookContainer, {childList: true});\n",
       "}}\n",
       "\n",
       "// Listen for the clearing of the current output cell\n",
       "var outputEl = gd.closest('.output');\n",
       "if (outputEl) {{\n",
       "    x.observe(outputEl, {childList: true});\n",
       "}}\n",
       "\n",
       "                        })                };                });            </script>        </div>"
      ]
     },
     "metadata": {},
     "output_type": "display_data"
    }
   ],
   "source": [
    "fig = px.line(df, x=df.Date, y=df.GDP)\n",
    "fig.update_traces(marker_line_width=2, opacity=0.6)\n",
    "fig.update_layout(title_text='GDP chart', plot_bgcolor='white', font_size=15, font_color='black')\n",
    "fig.update_xaxes(showgrid=False)\n",
    "fig.update_yaxes(showgrid=False)\n",
    "fig.show()"
   ]
  },
  {
   "cell_type": "code",
   "execution_count": 142,
   "metadata": {},
   "outputs": [
    {
     "data": {
      "text/html": [
       "<div>\n",
       "<style scoped>\n",
       "    .dataframe tbody tr th:only-of-type {\n",
       "        vertical-align: middle;\n",
       "    }\n",
       "\n",
       "    .dataframe tbody tr th {\n",
       "        vertical-align: top;\n",
       "    }\n",
       "\n",
       "    .dataframe thead th {\n",
       "        text-align: right;\n",
       "    }\n",
       "</style>\n",
       "<table border=\"1\" class=\"dataframe\">\n",
       "  <thead>\n",
       "    <tr style=\"text-align: right;\">\n",
       "      <th></th>\n",
       "      <th>Date</th>\n",
       "      <th>GDP</th>\n",
       "    </tr>\n",
       "  </thead>\n",
       "  <tbody>\n",
       "    <tr>\n",
       "      <th>117</th>\n",
       "      <td>1992-01</td>\n",
       "      <td>5262.8</td>\n",
       "    </tr>\n",
       "    <tr>\n",
       "      <th>115</th>\n",
       "      <td>1992-03</td>\n",
       "      <td>7192.6</td>\n",
       "    </tr>\n",
       "    <tr>\n",
       "      <th>116</th>\n",
       "      <td>1992-02</td>\n",
       "      <td>6484.3</td>\n",
       "    </tr>\n",
       "    <tr>\n",
       "      <th>114</th>\n",
       "      <td>1992-04</td>\n",
       "      <td>8254.8</td>\n",
       "    </tr>\n",
       "    <tr>\n",
       "      <th>113</th>\n",
       "      <td>1993-01</td>\n",
       "      <td>6834.6</td>\n",
       "    </tr>\n",
       "  </tbody>\n",
       "</table>\n",
       "</div>"
      ],
      "text/plain": [
       "        Date     GDP\n",
       "117  1992-01  5262.8\n",
       "115  1992-03  7192.6\n",
       "116  1992-02  6484.3\n",
       "114  1992-04  8254.8\n",
       "113  1993-01  6834.6"
      ]
     },
     "execution_count": 142,
     "metadata": {},
     "output_type": "execute_result"
    }
   ],
   "source": [
    "#df=np.array(df)\n",
    "def dateformat(date):\n",
    "    if date[6]=='一':\n",
    "        return date[:4]+'-01'\n",
    "    elif date[6]=='二':\n",
    "        return date[:4]+'-02'\n",
    "    elif date[6]=='三':\n",
    "        return date[:4]+'-03'\n",
    "    elif date[6]=='四':\n",
    "        return date[:4]+'-04'\n",
    "    else:\n",
    "        pass\n",
    "    \n",
    "df[\"Date\"]=df[\"Date\"].apply(lambda x:dateformat(x))\n",
    "df.head()"
   ]
  },
  {
   "cell_type": "code",
   "execution_count": 143,
   "metadata": {},
   "outputs": [
    {
     "data": {
      "application/vnd.plotly.v1+json": {
       "config": {
        "plotlyServerURL": "https://plot.ly"
       },
       "data": [
        {
         "hovertemplate": "Date=%{x}<br>GDP=%{y}<extra></extra>",
         "legendgroup": "",
         "line": {
          "color": "#636efa",
          "dash": "solid"
         },
         "marker": {
          "line": {
           "width": 2
          },
          "symbol": "circle"
         },
         "mode": "lines",
         "name": "",
         "opacity": 0.6,
         "orientation": "v",
         "showlegend": false,
         "type": "scatter",
         "x": [
          "1992-01",
          "1992-03",
          "1992-02",
          "1992-04",
          "1993-01",
          "1993-03",
          "1993-02",
          "1993-04",
          "1994-01",
          "1994-03",
          "1994-02",
          "1994-04",
          "1995-01",
          "1995-03",
          "1995-02",
          "1995-04",
          "1996-01",
          "1996-03",
          "1996-02",
          "1996-04",
          "1997-01",
          "1997-03",
          "1997-02",
          "1997-04",
          "1998-01",
          "1998-03",
          "1998-02",
          "1998-04",
          "1999-01",
          "1999-03",
          "1999-02",
          "1999-04",
          "2000-01",
          "2000-03",
          "2000-02",
          "2000-04",
          "2001-01",
          "2001-03",
          "2001-02",
          "2001-04",
          "2002-01",
          "2002-03",
          "2002-02",
          "2002-04",
          "2003-01",
          "2003-03",
          "2003-02",
          "2003-04",
          "2004-01",
          "2004-03",
          "2004-02",
          "2004-04",
          "2005-01",
          "2005-03",
          "2005-02",
          "2005-04",
          "2006-01",
          "2006-03",
          "2006-02",
          "2006-04",
          "2007-01",
          "2007-03",
          "2007-02",
          "2007-04",
          "2008-01",
          "2008-03",
          "2008-02",
          "2008-04",
          "2009-01",
          "2009-03",
          "2009-02",
          "2009-04",
          "2010-01",
          "2010-03",
          "2010-02",
          "2010-04",
          "2011-01",
          "2011-03",
          "2011-02",
          "2011-04",
          "2012-01",
          "2012-03",
          "2012-02",
          "2012-04",
          "2013-01",
          "2013-03",
          "2013-02",
          "2013-04",
          "2014-01",
          "2014-03",
          "2014-02",
          "2014-04",
          "2015-01",
          "2015-03",
          "2015-02",
          "2015-04",
          "2016-01",
          "2016-03",
          "2016-02",
          "2016-04",
          "2017-01",
          "2017-03",
          "2017-02",
          "2017-04",
          "2018-01",
          "2018-03",
          "2018-02",
          "2018-04",
          "2019-01",
          "2019-03",
          "2019-02",
          "2019-04",
          "2020-01",
          "2020-03",
          "2020-02",
          "2020-04",
          "2021-01",
          "2021-02"
         ],
         "xaxis": "x",
         "y": [
          8.568418483491683,
          8.88080799870062,
          8.777139149521213,
          9.01855012831997,
          8.82975322513392,
          9.146953187795779,
          9.030854790001436,
          9.314330949697387,
          9.14581251744839,
          9.462498888358917,
          9.348448774093812,
          9.61000871123717,
          9.401927206546171,
          9.690548012766707,
          9.589659979229449,
          9.822884688004029,
          9.590692779269272,
          9.83122863905005,
          9.749607669373477,
          9.972659074730759,
          9.72251109069621,
          9.92822406660184,
          9.860767925315967,
          10.058844647209407,
          9.800851101022056,
          9.988545355876102,
          9.918208663317522,
          10.129594708034045,
          9.871062496510973,
          10.045455754980866,
          9.978952104119747,
          10.188061048366206,
          9.96786512322187,
          10.154732533961212,
          10.08761580959715,
          10.281728763721851,
          10.089402644840213,
          10.251793070333063,
          10.193414603137649,
          10.364601787935946,
          10.177134086023445,
          10.350008227884317,
          10.281745890206077,
          10.462254408802437,
          10.303119011284942,
          10.471408754834638,
          10.390142402530184,
          10.590802760153148,
          10.450006521756132,
          10.641966543094156,
          10.56361555063884,
          10.752351329093536,
          10.607903501359239,
          10.779951627710286,
          10.709809388683965,
          10.897198479378416,
          10.759580196615278,
          10.93426165994871,
          10.871863964777127,
          11.060708314311007,
          10.953597385642714,
          11.148824444423333,
          11.078776891401473,
          11.273008269355648,
          11.147261670664934,
          11.320069818969348,
          11.273548359633745,
          11.39300389427696,
          11.211539251594534,
          11.405862389668808,
          11.336973181223643,
          11.521149554250135,
          11.379408929378197,
          11.570851861613654,
          11.506378077531833,
          11.689453605623394,
          11.556654270618498,
          11.748489165909815,
          11.686003599325709,
          11.835096641454994,
          11.67298096271001,
          11.835658028813604,
          11.785396940596867,
          11.93039819220267,
          11.771046895178772,
          11.933099859149294,
          11.874220619280585,
          12.030362981915275,
          11.854810170576314,
          12.016634022395847,
          11.96074483308008,
          12.105306559299084,
          11.925947944075642,
          12.081629543284627,
          12.03498594077335,
          12.16823006231944,
          11.997879281168649,
          12.160084202871044,
          12.108505019610634,
          12.262293230857516,
          12.11103477864532,
          12.26805775323056,
          12.215776906506672,
          12.369163386512597,
          12.21619969344123,
          12.365101265979783,
          12.319232566597293,
          12.46384523050753,
          12.288427907955786,
          12.433392663254265,
          12.39463551806236,
          12.531043277266022,
          12.234305326142541,
          12.48739566700664,
          12.425148334298969,
          12.599120308626903,
          12.426452782128628,
          12.5526981627059
         ],
         "yaxis": "y"
        }
       ],
       "layout": {
        "font": {
         "color": "black",
         "size": 15
        },
        "legend": {
         "tracegroupgap": 0
        },
        "margin": {
         "t": 60
        },
        "plot_bgcolor": "white",
        "template": {
         "data": {
          "bar": [
           {
            "error_x": {
             "color": "#2a3f5f"
            },
            "error_y": {
             "color": "#2a3f5f"
            },
            "marker": {
             "line": {
              "color": "#E5ECF6",
              "width": 0.5
             },
             "pattern": {
              "fillmode": "overlay",
              "size": 10,
              "solidity": 0.2
             }
            },
            "type": "bar"
           }
          ],
          "barpolar": [
           {
            "marker": {
             "line": {
              "color": "#E5ECF6",
              "width": 0.5
             },
             "pattern": {
              "fillmode": "overlay",
              "size": 10,
              "solidity": 0.2
             }
            },
            "type": "barpolar"
           }
          ],
          "carpet": [
           {
            "aaxis": {
             "endlinecolor": "#2a3f5f",
             "gridcolor": "white",
             "linecolor": "white",
             "minorgridcolor": "white",
             "startlinecolor": "#2a3f5f"
            },
            "baxis": {
             "endlinecolor": "#2a3f5f",
             "gridcolor": "white",
             "linecolor": "white",
             "minorgridcolor": "white",
             "startlinecolor": "#2a3f5f"
            },
            "type": "carpet"
           }
          ],
          "choropleth": [
           {
            "colorbar": {
             "outlinewidth": 0,
             "ticks": ""
            },
            "type": "choropleth"
           }
          ],
          "contour": [
           {
            "colorbar": {
             "outlinewidth": 0,
             "ticks": ""
            },
            "colorscale": [
             [
              0,
              "#0d0887"
             ],
             [
              0.1111111111111111,
              "#46039f"
             ],
             [
              0.2222222222222222,
              "#7201a8"
             ],
             [
              0.3333333333333333,
              "#9c179e"
             ],
             [
              0.4444444444444444,
              "#bd3786"
             ],
             [
              0.5555555555555556,
              "#d8576b"
             ],
             [
              0.6666666666666666,
              "#ed7953"
             ],
             [
              0.7777777777777778,
              "#fb9f3a"
             ],
             [
              0.8888888888888888,
              "#fdca26"
             ],
             [
              1,
              "#f0f921"
             ]
            ],
            "type": "contour"
           }
          ],
          "contourcarpet": [
           {
            "colorbar": {
             "outlinewidth": 0,
             "ticks": ""
            },
            "type": "contourcarpet"
           }
          ],
          "heatmap": [
           {
            "colorbar": {
             "outlinewidth": 0,
             "ticks": ""
            },
            "colorscale": [
             [
              0,
              "#0d0887"
             ],
             [
              0.1111111111111111,
              "#46039f"
             ],
             [
              0.2222222222222222,
              "#7201a8"
             ],
             [
              0.3333333333333333,
              "#9c179e"
             ],
             [
              0.4444444444444444,
              "#bd3786"
             ],
             [
              0.5555555555555556,
              "#d8576b"
             ],
             [
              0.6666666666666666,
              "#ed7953"
             ],
             [
              0.7777777777777778,
              "#fb9f3a"
             ],
             [
              0.8888888888888888,
              "#fdca26"
             ],
             [
              1,
              "#f0f921"
             ]
            ],
            "type": "heatmap"
           }
          ],
          "heatmapgl": [
           {
            "colorbar": {
             "outlinewidth": 0,
             "ticks": ""
            },
            "colorscale": [
             [
              0,
              "#0d0887"
             ],
             [
              0.1111111111111111,
              "#46039f"
             ],
             [
              0.2222222222222222,
              "#7201a8"
             ],
             [
              0.3333333333333333,
              "#9c179e"
             ],
             [
              0.4444444444444444,
              "#bd3786"
             ],
             [
              0.5555555555555556,
              "#d8576b"
             ],
             [
              0.6666666666666666,
              "#ed7953"
             ],
             [
              0.7777777777777778,
              "#fb9f3a"
             ],
             [
              0.8888888888888888,
              "#fdca26"
             ],
             [
              1,
              "#f0f921"
             ]
            ],
            "type": "heatmapgl"
           }
          ],
          "histogram": [
           {
            "marker": {
             "pattern": {
              "fillmode": "overlay",
              "size": 10,
              "solidity": 0.2
             }
            },
            "type": "histogram"
           }
          ],
          "histogram2d": [
           {
            "colorbar": {
             "outlinewidth": 0,
             "ticks": ""
            },
            "colorscale": [
             [
              0,
              "#0d0887"
             ],
             [
              0.1111111111111111,
              "#46039f"
             ],
             [
              0.2222222222222222,
              "#7201a8"
             ],
             [
              0.3333333333333333,
              "#9c179e"
             ],
             [
              0.4444444444444444,
              "#bd3786"
             ],
             [
              0.5555555555555556,
              "#d8576b"
             ],
             [
              0.6666666666666666,
              "#ed7953"
             ],
             [
              0.7777777777777778,
              "#fb9f3a"
             ],
             [
              0.8888888888888888,
              "#fdca26"
             ],
             [
              1,
              "#f0f921"
             ]
            ],
            "type": "histogram2d"
           }
          ],
          "histogram2dcontour": [
           {
            "colorbar": {
             "outlinewidth": 0,
             "ticks": ""
            },
            "colorscale": [
             [
              0,
              "#0d0887"
             ],
             [
              0.1111111111111111,
              "#46039f"
             ],
             [
              0.2222222222222222,
              "#7201a8"
             ],
             [
              0.3333333333333333,
              "#9c179e"
             ],
             [
              0.4444444444444444,
              "#bd3786"
             ],
             [
              0.5555555555555556,
              "#d8576b"
             ],
             [
              0.6666666666666666,
              "#ed7953"
             ],
             [
              0.7777777777777778,
              "#fb9f3a"
             ],
             [
              0.8888888888888888,
              "#fdca26"
             ],
             [
              1,
              "#f0f921"
             ]
            ],
            "type": "histogram2dcontour"
           }
          ],
          "mesh3d": [
           {
            "colorbar": {
             "outlinewidth": 0,
             "ticks": ""
            },
            "type": "mesh3d"
           }
          ],
          "parcoords": [
           {
            "line": {
             "colorbar": {
              "outlinewidth": 0,
              "ticks": ""
             }
            },
            "type": "parcoords"
           }
          ],
          "pie": [
           {
            "automargin": true,
            "type": "pie"
           }
          ],
          "scatter": [
           {
            "marker": {
             "colorbar": {
              "outlinewidth": 0,
              "ticks": ""
             }
            },
            "type": "scatter"
           }
          ],
          "scatter3d": [
           {
            "line": {
             "colorbar": {
              "outlinewidth": 0,
              "ticks": ""
             }
            },
            "marker": {
             "colorbar": {
              "outlinewidth": 0,
              "ticks": ""
             }
            },
            "type": "scatter3d"
           }
          ],
          "scattercarpet": [
           {
            "marker": {
             "colorbar": {
              "outlinewidth": 0,
              "ticks": ""
             }
            },
            "type": "scattercarpet"
           }
          ],
          "scattergeo": [
           {
            "marker": {
             "colorbar": {
              "outlinewidth": 0,
              "ticks": ""
             }
            },
            "type": "scattergeo"
           }
          ],
          "scattergl": [
           {
            "marker": {
             "colorbar": {
              "outlinewidth": 0,
              "ticks": ""
             }
            },
            "type": "scattergl"
           }
          ],
          "scattermapbox": [
           {
            "marker": {
             "colorbar": {
              "outlinewidth": 0,
              "ticks": ""
             }
            },
            "type": "scattermapbox"
           }
          ],
          "scatterpolar": [
           {
            "marker": {
             "colorbar": {
              "outlinewidth": 0,
              "ticks": ""
             }
            },
            "type": "scatterpolar"
           }
          ],
          "scatterpolargl": [
           {
            "marker": {
             "colorbar": {
              "outlinewidth": 0,
              "ticks": ""
             }
            },
            "type": "scatterpolargl"
           }
          ],
          "scatterternary": [
           {
            "marker": {
             "colorbar": {
              "outlinewidth": 0,
              "ticks": ""
             }
            },
            "type": "scatterternary"
           }
          ],
          "surface": [
           {
            "colorbar": {
             "outlinewidth": 0,
             "ticks": ""
            },
            "colorscale": [
             [
              0,
              "#0d0887"
             ],
             [
              0.1111111111111111,
              "#46039f"
             ],
             [
              0.2222222222222222,
              "#7201a8"
             ],
             [
              0.3333333333333333,
              "#9c179e"
             ],
             [
              0.4444444444444444,
              "#bd3786"
             ],
             [
              0.5555555555555556,
              "#d8576b"
             ],
             [
              0.6666666666666666,
              "#ed7953"
             ],
             [
              0.7777777777777778,
              "#fb9f3a"
             ],
             [
              0.8888888888888888,
              "#fdca26"
             ],
             [
              1,
              "#f0f921"
             ]
            ],
            "type": "surface"
           }
          ],
          "table": [
           {
            "cells": {
             "fill": {
              "color": "#EBF0F8"
             },
             "line": {
              "color": "white"
             }
            },
            "header": {
             "fill": {
              "color": "#C8D4E3"
             },
             "line": {
              "color": "white"
             }
            },
            "type": "table"
           }
          ]
         },
         "layout": {
          "annotationdefaults": {
           "arrowcolor": "#2a3f5f",
           "arrowhead": 0,
           "arrowwidth": 1
          },
          "autotypenumbers": "strict",
          "coloraxis": {
           "colorbar": {
            "outlinewidth": 0,
            "ticks": ""
           }
          },
          "colorscale": {
           "diverging": [
            [
             0,
             "#8e0152"
            ],
            [
             0.1,
             "#c51b7d"
            ],
            [
             0.2,
             "#de77ae"
            ],
            [
             0.3,
             "#f1b6da"
            ],
            [
             0.4,
             "#fde0ef"
            ],
            [
             0.5,
             "#f7f7f7"
            ],
            [
             0.6,
             "#e6f5d0"
            ],
            [
             0.7,
             "#b8e186"
            ],
            [
             0.8,
             "#7fbc41"
            ],
            [
             0.9,
             "#4d9221"
            ],
            [
             1,
             "#276419"
            ]
           ],
           "sequential": [
            [
             0,
             "#0d0887"
            ],
            [
             0.1111111111111111,
             "#46039f"
            ],
            [
             0.2222222222222222,
             "#7201a8"
            ],
            [
             0.3333333333333333,
             "#9c179e"
            ],
            [
             0.4444444444444444,
             "#bd3786"
            ],
            [
             0.5555555555555556,
             "#d8576b"
            ],
            [
             0.6666666666666666,
             "#ed7953"
            ],
            [
             0.7777777777777778,
             "#fb9f3a"
            ],
            [
             0.8888888888888888,
             "#fdca26"
            ],
            [
             1,
             "#f0f921"
            ]
           ],
           "sequentialminus": [
            [
             0,
             "#0d0887"
            ],
            [
             0.1111111111111111,
             "#46039f"
            ],
            [
             0.2222222222222222,
             "#7201a8"
            ],
            [
             0.3333333333333333,
             "#9c179e"
            ],
            [
             0.4444444444444444,
             "#bd3786"
            ],
            [
             0.5555555555555556,
             "#d8576b"
            ],
            [
             0.6666666666666666,
             "#ed7953"
            ],
            [
             0.7777777777777778,
             "#fb9f3a"
            ],
            [
             0.8888888888888888,
             "#fdca26"
            ],
            [
             1,
             "#f0f921"
            ]
           ]
          },
          "colorway": [
           "#636efa",
           "#EF553B",
           "#00cc96",
           "#ab63fa",
           "#FFA15A",
           "#19d3f3",
           "#FF6692",
           "#B6E880",
           "#FF97FF",
           "#FECB52"
          ],
          "font": {
           "color": "#2a3f5f"
          },
          "geo": {
           "bgcolor": "white",
           "lakecolor": "white",
           "landcolor": "#E5ECF6",
           "showlakes": true,
           "showland": true,
           "subunitcolor": "white"
          },
          "hoverlabel": {
           "align": "left"
          },
          "hovermode": "closest",
          "mapbox": {
           "style": "light"
          },
          "paper_bgcolor": "white",
          "plot_bgcolor": "#E5ECF6",
          "polar": {
           "angularaxis": {
            "gridcolor": "white",
            "linecolor": "white",
            "ticks": ""
           },
           "bgcolor": "#E5ECF6",
           "radialaxis": {
            "gridcolor": "white",
            "linecolor": "white",
            "ticks": ""
           }
          },
          "scene": {
           "xaxis": {
            "backgroundcolor": "#E5ECF6",
            "gridcolor": "white",
            "gridwidth": 2,
            "linecolor": "white",
            "showbackground": true,
            "ticks": "",
            "zerolinecolor": "white"
           },
           "yaxis": {
            "backgroundcolor": "#E5ECF6",
            "gridcolor": "white",
            "gridwidth": 2,
            "linecolor": "white",
            "showbackground": true,
            "ticks": "",
            "zerolinecolor": "white"
           },
           "zaxis": {
            "backgroundcolor": "#E5ECF6",
            "gridcolor": "white",
            "gridwidth": 2,
            "linecolor": "white",
            "showbackground": true,
            "ticks": "",
            "zerolinecolor": "white"
           }
          },
          "shapedefaults": {
           "line": {
            "color": "#2a3f5f"
           }
          },
          "ternary": {
           "aaxis": {
            "gridcolor": "white",
            "linecolor": "white",
            "ticks": ""
           },
           "baxis": {
            "gridcolor": "white",
            "linecolor": "white",
            "ticks": ""
           },
           "bgcolor": "#E5ECF6",
           "caxis": {
            "gridcolor": "white",
            "linecolor": "white",
            "ticks": ""
           }
          },
          "title": {
           "x": 0.05
          },
          "xaxis": {
           "automargin": true,
           "gridcolor": "white",
           "linecolor": "white",
           "ticks": "",
           "title": {
            "standoff": 15
           },
           "zerolinecolor": "white",
           "zerolinewidth": 2
          },
          "yaxis": {
           "automargin": true,
           "gridcolor": "white",
           "linecolor": "white",
           "ticks": "",
           "title": {
            "standoff": 15
           },
           "zerolinecolor": "white",
           "zerolinewidth": 2
          }
         }
        },
        "title": {
         "text": "GDP chart"
        },
        "xaxis": {
         "anchor": "y",
         "domain": [
          0,
          1
         ],
         "showgrid": false,
         "title": {
          "text": "Date"
         }
        },
        "yaxis": {
         "anchor": "x",
         "domain": [
          0,
          1
         ],
         "showgrid": false,
         "title": {
          "text": "GDP"
         }
        }
       }
      },
      "text/html": [
       "<div>                            <div id=\"d4e62bfb-081c-41d3-a5e3-13269d98702b\" class=\"plotly-graph-div\" style=\"height:525px; width:100%;\"></div>            <script type=\"text/javascript\">                require([\"plotly\"], function(Plotly) {                    window.PLOTLYENV=window.PLOTLYENV || {};                                    if (document.getElementById(\"d4e62bfb-081c-41d3-a5e3-13269d98702b\")) {                    Plotly.newPlot(                        \"d4e62bfb-081c-41d3-a5e3-13269d98702b\",                        [{\"hovertemplate\":\"Date=%{x}<br>GDP=%{y}<extra></extra>\",\"legendgroup\":\"\",\"line\":{\"color\":\"#636efa\",\"dash\":\"solid\"},\"marker\":{\"line\":{\"width\":2},\"symbol\":\"circle\"},\"mode\":\"lines\",\"name\":\"\",\"opacity\":0.6,\"orientation\":\"v\",\"showlegend\":false,\"type\":\"scatter\",\"x\":[\"1992-01\",\"1992-03\",\"1992-02\",\"1992-04\",\"1993-01\",\"1993-03\",\"1993-02\",\"1993-04\",\"1994-01\",\"1994-03\",\"1994-02\",\"1994-04\",\"1995-01\",\"1995-03\",\"1995-02\",\"1995-04\",\"1996-01\",\"1996-03\",\"1996-02\",\"1996-04\",\"1997-01\",\"1997-03\",\"1997-02\",\"1997-04\",\"1998-01\",\"1998-03\",\"1998-02\",\"1998-04\",\"1999-01\",\"1999-03\",\"1999-02\",\"1999-04\",\"2000-01\",\"2000-03\",\"2000-02\",\"2000-04\",\"2001-01\",\"2001-03\",\"2001-02\",\"2001-04\",\"2002-01\",\"2002-03\",\"2002-02\",\"2002-04\",\"2003-01\",\"2003-03\",\"2003-02\",\"2003-04\",\"2004-01\",\"2004-03\",\"2004-02\",\"2004-04\",\"2005-01\",\"2005-03\",\"2005-02\",\"2005-04\",\"2006-01\",\"2006-03\",\"2006-02\",\"2006-04\",\"2007-01\",\"2007-03\",\"2007-02\",\"2007-04\",\"2008-01\",\"2008-03\",\"2008-02\",\"2008-04\",\"2009-01\",\"2009-03\",\"2009-02\",\"2009-04\",\"2010-01\",\"2010-03\",\"2010-02\",\"2010-04\",\"2011-01\",\"2011-03\",\"2011-02\",\"2011-04\",\"2012-01\",\"2012-03\",\"2012-02\",\"2012-04\",\"2013-01\",\"2013-03\",\"2013-02\",\"2013-04\",\"2014-01\",\"2014-03\",\"2014-02\",\"2014-04\",\"2015-01\",\"2015-03\",\"2015-02\",\"2015-04\",\"2016-01\",\"2016-03\",\"2016-02\",\"2016-04\",\"2017-01\",\"2017-03\",\"2017-02\",\"2017-04\",\"2018-01\",\"2018-03\",\"2018-02\",\"2018-04\",\"2019-01\",\"2019-03\",\"2019-02\",\"2019-04\",\"2020-01\",\"2020-03\",\"2020-02\",\"2020-04\",\"2021-01\",\"2021-02\"],\"xaxis\":\"x\",\"y\":[8.568418483491683,8.88080799870062,8.777139149521213,9.01855012831997,8.82975322513392,9.146953187795779,9.030854790001436,9.314330949697387,9.14581251744839,9.462498888358917,9.348448774093812,9.61000871123717,9.401927206546171,9.690548012766707,9.589659979229449,9.822884688004029,9.590692779269272,9.83122863905005,9.749607669373477,9.972659074730759,9.72251109069621,9.92822406660184,9.860767925315967,10.058844647209407,9.800851101022056,9.988545355876102,9.918208663317522,10.129594708034045,9.871062496510973,10.045455754980866,9.978952104119747,10.188061048366206,9.96786512322187,10.154732533961212,10.08761580959715,10.281728763721851,10.089402644840213,10.251793070333063,10.193414603137649,10.364601787935946,10.177134086023445,10.350008227884317,10.281745890206077,10.462254408802437,10.303119011284942,10.471408754834638,10.390142402530184,10.590802760153148,10.450006521756132,10.641966543094156,10.56361555063884,10.752351329093536,10.607903501359239,10.779951627710286,10.709809388683965,10.897198479378416,10.759580196615278,10.93426165994871,10.871863964777127,11.060708314311007,10.953597385642714,11.148824444423333,11.078776891401473,11.273008269355648,11.147261670664934,11.320069818969348,11.273548359633745,11.39300389427696,11.211539251594534,11.405862389668808,11.336973181223643,11.521149554250135,11.379408929378197,11.570851861613654,11.506378077531833,11.689453605623394,11.556654270618498,11.748489165909815,11.686003599325709,11.835096641454994,11.67298096271001,11.835658028813604,11.785396940596867,11.93039819220267,11.771046895178772,11.933099859149294,11.874220619280585,12.030362981915275,11.854810170576314,12.016634022395847,11.96074483308008,12.105306559299084,11.925947944075642,12.081629543284627,12.03498594077335,12.16823006231944,11.997879281168649,12.160084202871044,12.108505019610634,12.262293230857516,12.11103477864532,12.26805775323056,12.215776906506672,12.369163386512597,12.21619969344123,12.365101265979783,12.319232566597293,12.46384523050753,12.288427907955786,12.433392663254265,12.39463551806236,12.531043277266022,12.234305326142541,12.48739566700664,12.425148334298969,12.599120308626903,12.426452782128628,12.5526981627059],\"yaxis\":\"y\"}],                        {\"font\":{\"color\":\"black\",\"size\":15},\"legend\":{\"tracegroupgap\":0},\"margin\":{\"t\":60},\"plot_bgcolor\":\"white\",\"template\":{\"data\":{\"bar\":[{\"error_x\":{\"color\":\"#2a3f5f\"},\"error_y\":{\"color\":\"#2a3f5f\"},\"marker\":{\"line\":{\"color\":\"#E5ECF6\",\"width\":0.5},\"pattern\":{\"fillmode\":\"overlay\",\"size\":10,\"solidity\":0.2}},\"type\":\"bar\"}],\"barpolar\":[{\"marker\":{\"line\":{\"color\":\"#E5ECF6\",\"width\":0.5},\"pattern\":{\"fillmode\":\"overlay\",\"size\":10,\"solidity\":0.2}},\"type\":\"barpolar\"}],\"carpet\":[{\"aaxis\":{\"endlinecolor\":\"#2a3f5f\",\"gridcolor\":\"white\",\"linecolor\":\"white\",\"minorgridcolor\":\"white\",\"startlinecolor\":\"#2a3f5f\"},\"baxis\":{\"endlinecolor\":\"#2a3f5f\",\"gridcolor\":\"white\",\"linecolor\":\"white\",\"minorgridcolor\":\"white\",\"startlinecolor\":\"#2a3f5f\"},\"type\":\"carpet\"}],\"choropleth\":[{\"colorbar\":{\"outlinewidth\":0,\"ticks\":\"\"},\"type\":\"choropleth\"}],\"contour\":[{\"colorbar\":{\"outlinewidth\":0,\"ticks\":\"\"},\"colorscale\":[[0.0,\"#0d0887\"],[0.1111111111111111,\"#46039f\"],[0.2222222222222222,\"#7201a8\"],[0.3333333333333333,\"#9c179e\"],[0.4444444444444444,\"#bd3786\"],[0.5555555555555556,\"#d8576b\"],[0.6666666666666666,\"#ed7953\"],[0.7777777777777778,\"#fb9f3a\"],[0.8888888888888888,\"#fdca26\"],[1.0,\"#f0f921\"]],\"type\":\"contour\"}],\"contourcarpet\":[{\"colorbar\":{\"outlinewidth\":0,\"ticks\":\"\"},\"type\":\"contourcarpet\"}],\"heatmap\":[{\"colorbar\":{\"outlinewidth\":0,\"ticks\":\"\"},\"colorscale\":[[0.0,\"#0d0887\"],[0.1111111111111111,\"#46039f\"],[0.2222222222222222,\"#7201a8\"],[0.3333333333333333,\"#9c179e\"],[0.4444444444444444,\"#bd3786\"],[0.5555555555555556,\"#d8576b\"],[0.6666666666666666,\"#ed7953\"],[0.7777777777777778,\"#fb9f3a\"],[0.8888888888888888,\"#fdca26\"],[1.0,\"#f0f921\"]],\"type\":\"heatmap\"}],\"heatmapgl\":[{\"colorbar\":{\"outlinewidth\":0,\"ticks\":\"\"},\"colorscale\":[[0.0,\"#0d0887\"],[0.1111111111111111,\"#46039f\"],[0.2222222222222222,\"#7201a8\"],[0.3333333333333333,\"#9c179e\"],[0.4444444444444444,\"#bd3786\"],[0.5555555555555556,\"#d8576b\"],[0.6666666666666666,\"#ed7953\"],[0.7777777777777778,\"#fb9f3a\"],[0.8888888888888888,\"#fdca26\"],[1.0,\"#f0f921\"]],\"type\":\"heatmapgl\"}],\"histogram\":[{\"marker\":{\"pattern\":{\"fillmode\":\"overlay\",\"size\":10,\"solidity\":0.2}},\"type\":\"histogram\"}],\"histogram2d\":[{\"colorbar\":{\"outlinewidth\":0,\"ticks\":\"\"},\"colorscale\":[[0.0,\"#0d0887\"],[0.1111111111111111,\"#46039f\"],[0.2222222222222222,\"#7201a8\"],[0.3333333333333333,\"#9c179e\"],[0.4444444444444444,\"#bd3786\"],[0.5555555555555556,\"#d8576b\"],[0.6666666666666666,\"#ed7953\"],[0.7777777777777778,\"#fb9f3a\"],[0.8888888888888888,\"#fdca26\"],[1.0,\"#f0f921\"]],\"type\":\"histogram2d\"}],\"histogram2dcontour\":[{\"colorbar\":{\"outlinewidth\":0,\"ticks\":\"\"},\"colorscale\":[[0.0,\"#0d0887\"],[0.1111111111111111,\"#46039f\"],[0.2222222222222222,\"#7201a8\"],[0.3333333333333333,\"#9c179e\"],[0.4444444444444444,\"#bd3786\"],[0.5555555555555556,\"#d8576b\"],[0.6666666666666666,\"#ed7953\"],[0.7777777777777778,\"#fb9f3a\"],[0.8888888888888888,\"#fdca26\"],[1.0,\"#f0f921\"]],\"type\":\"histogram2dcontour\"}],\"mesh3d\":[{\"colorbar\":{\"outlinewidth\":0,\"ticks\":\"\"},\"type\":\"mesh3d\"}],\"parcoords\":[{\"line\":{\"colorbar\":{\"outlinewidth\":0,\"ticks\":\"\"}},\"type\":\"parcoords\"}],\"pie\":[{\"automargin\":true,\"type\":\"pie\"}],\"scatter\":[{\"marker\":{\"colorbar\":{\"outlinewidth\":0,\"ticks\":\"\"}},\"type\":\"scatter\"}],\"scatter3d\":[{\"line\":{\"colorbar\":{\"outlinewidth\":0,\"ticks\":\"\"}},\"marker\":{\"colorbar\":{\"outlinewidth\":0,\"ticks\":\"\"}},\"type\":\"scatter3d\"}],\"scattercarpet\":[{\"marker\":{\"colorbar\":{\"outlinewidth\":0,\"ticks\":\"\"}},\"type\":\"scattercarpet\"}],\"scattergeo\":[{\"marker\":{\"colorbar\":{\"outlinewidth\":0,\"ticks\":\"\"}},\"type\":\"scattergeo\"}],\"scattergl\":[{\"marker\":{\"colorbar\":{\"outlinewidth\":0,\"ticks\":\"\"}},\"type\":\"scattergl\"}],\"scattermapbox\":[{\"marker\":{\"colorbar\":{\"outlinewidth\":0,\"ticks\":\"\"}},\"type\":\"scattermapbox\"}],\"scatterpolar\":[{\"marker\":{\"colorbar\":{\"outlinewidth\":0,\"ticks\":\"\"}},\"type\":\"scatterpolar\"}],\"scatterpolargl\":[{\"marker\":{\"colorbar\":{\"outlinewidth\":0,\"ticks\":\"\"}},\"type\":\"scatterpolargl\"}],\"scatterternary\":[{\"marker\":{\"colorbar\":{\"outlinewidth\":0,\"ticks\":\"\"}},\"type\":\"scatterternary\"}],\"surface\":[{\"colorbar\":{\"outlinewidth\":0,\"ticks\":\"\"},\"colorscale\":[[0.0,\"#0d0887\"],[0.1111111111111111,\"#46039f\"],[0.2222222222222222,\"#7201a8\"],[0.3333333333333333,\"#9c179e\"],[0.4444444444444444,\"#bd3786\"],[0.5555555555555556,\"#d8576b\"],[0.6666666666666666,\"#ed7953\"],[0.7777777777777778,\"#fb9f3a\"],[0.8888888888888888,\"#fdca26\"],[1.0,\"#f0f921\"]],\"type\":\"surface\"}],\"table\":[{\"cells\":{\"fill\":{\"color\":\"#EBF0F8\"},\"line\":{\"color\":\"white\"}},\"header\":{\"fill\":{\"color\":\"#C8D4E3\"},\"line\":{\"color\":\"white\"}},\"type\":\"table\"}]},\"layout\":{\"annotationdefaults\":{\"arrowcolor\":\"#2a3f5f\",\"arrowhead\":0,\"arrowwidth\":1},\"autotypenumbers\":\"strict\",\"coloraxis\":{\"colorbar\":{\"outlinewidth\":0,\"ticks\":\"\"}},\"colorscale\":{\"diverging\":[[0,\"#8e0152\"],[0.1,\"#c51b7d\"],[0.2,\"#de77ae\"],[0.3,\"#f1b6da\"],[0.4,\"#fde0ef\"],[0.5,\"#f7f7f7\"],[0.6,\"#e6f5d0\"],[0.7,\"#b8e186\"],[0.8,\"#7fbc41\"],[0.9,\"#4d9221\"],[1,\"#276419\"]],\"sequential\":[[0.0,\"#0d0887\"],[0.1111111111111111,\"#46039f\"],[0.2222222222222222,\"#7201a8\"],[0.3333333333333333,\"#9c179e\"],[0.4444444444444444,\"#bd3786\"],[0.5555555555555556,\"#d8576b\"],[0.6666666666666666,\"#ed7953\"],[0.7777777777777778,\"#fb9f3a\"],[0.8888888888888888,\"#fdca26\"],[1.0,\"#f0f921\"]],\"sequentialminus\":[[0.0,\"#0d0887\"],[0.1111111111111111,\"#46039f\"],[0.2222222222222222,\"#7201a8\"],[0.3333333333333333,\"#9c179e\"],[0.4444444444444444,\"#bd3786\"],[0.5555555555555556,\"#d8576b\"],[0.6666666666666666,\"#ed7953\"],[0.7777777777777778,\"#fb9f3a\"],[0.8888888888888888,\"#fdca26\"],[1.0,\"#f0f921\"]]},\"colorway\":[\"#636efa\",\"#EF553B\",\"#00cc96\",\"#ab63fa\",\"#FFA15A\",\"#19d3f3\",\"#FF6692\",\"#B6E880\",\"#FF97FF\",\"#FECB52\"],\"font\":{\"color\":\"#2a3f5f\"},\"geo\":{\"bgcolor\":\"white\",\"lakecolor\":\"white\",\"landcolor\":\"#E5ECF6\",\"showlakes\":true,\"showland\":true,\"subunitcolor\":\"white\"},\"hoverlabel\":{\"align\":\"left\"},\"hovermode\":\"closest\",\"mapbox\":{\"style\":\"light\"},\"paper_bgcolor\":\"white\",\"plot_bgcolor\":\"#E5ECF6\",\"polar\":{\"angularaxis\":{\"gridcolor\":\"white\",\"linecolor\":\"white\",\"ticks\":\"\"},\"bgcolor\":\"#E5ECF6\",\"radialaxis\":{\"gridcolor\":\"white\",\"linecolor\":\"white\",\"ticks\":\"\"}},\"scene\":{\"xaxis\":{\"backgroundcolor\":\"#E5ECF6\",\"gridcolor\":\"white\",\"gridwidth\":2,\"linecolor\":\"white\",\"showbackground\":true,\"ticks\":\"\",\"zerolinecolor\":\"white\"},\"yaxis\":{\"backgroundcolor\":\"#E5ECF6\",\"gridcolor\":\"white\",\"gridwidth\":2,\"linecolor\":\"white\",\"showbackground\":true,\"ticks\":\"\",\"zerolinecolor\":\"white\"},\"zaxis\":{\"backgroundcolor\":\"#E5ECF6\",\"gridcolor\":\"white\",\"gridwidth\":2,\"linecolor\":\"white\",\"showbackground\":true,\"ticks\":\"\",\"zerolinecolor\":\"white\"}},\"shapedefaults\":{\"line\":{\"color\":\"#2a3f5f\"}},\"ternary\":{\"aaxis\":{\"gridcolor\":\"white\",\"linecolor\":\"white\",\"ticks\":\"\"},\"baxis\":{\"gridcolor\":\"white\",\"linecolor\":\"white\",\"ticks\":\"\"},\"bgcolor\":\"#E5ECF6\",\"caxis\":{\"gridcolor\":\"white\",\"linecolor\":\"white\",\"ticks\":\"\"}},\"title\":{\"x\":0.05},\"xaxis\":{\"automargin\":true,\"gridcolor\":\"white\",\"linecolor\":\"white\",\"ticks\":\"\",\"title\":{\"standoff\":15},\"zerolinecolor\":\"white\",\"zerolinewidth\":2},\"yaxis\":{\"automargin\":true,\"gridcolor\":\"white\",\"linecolor\":\"white\",\"ticks\":\"\",\"title\":{\"standoff\":15},\"zerolinecolor\":\"white\",\"zerolinewidth\":2}}},\"title\":{\"text\":\"GDP chart\"},\"xaxis\":{\"anchor\":\"y\",\"domain\":[0.0,1.0],\"showgrid\":false,\"title\":{\"text\":\"Date\"}},\"yaxis\":{\"anchor\":\"x\",\"domain\":[0.0,1.0],\"showgrid\":false,\"title\":{\"text\":\"GDP\"}}},                        {\"responsive\": true}                    ).then(function(){\n",
       "                            \n",
       "var gd = document.getElementById('d4e62bfb-081c-41d3-a5e3-13269d98702b');\n",
       "var x = new MutationObserver(function (mutations, observer) {{\n",
       "        var display = window.getComputedStyle(gd).display;\n",
       "        if (!display || display === 'none') {{\n",
       "            console.log([gd, 'removed!']);\n",
       "            Plotly.purge(gd);\n",
       "            observer.disconnect();\n",
       "        }}\n",
       "}});\n",
       "\n",
       "// Listen for the removal of the full notebook cells\n",
       "var notebookContainer = gd.closest('#notebook-container');\n",
       "if (notebookContainer) {{\n",
       "    x.observe(notebookContainer, {childList: true});\n",
       "}}\n",
       "\n",
       "// Listen for the clearing of the current output cell\n",
       "var outputEl = gd.closest('.output');\n",
       "if (outputEl) {{\n",
       "    x.observe(outputEl, {childList: true});\n",
       "}}\n",
       "\n",
       "                        })                };                });            </script>        </div>"
      ]
     },
     "metadata": {},
     "output_type": "display_data"
    }
   ],
   "source": [
    "import math\n",
    "df['GDP'] = df['GDP'].apply(lambda x: math.log(x))\n",
    "\n",
    "fig = px.line(df, x=df.Date, y=df.GDP)\n",
    "fig.update_traces(marker_line_width=2, opacity=0.6)\n",
    "fig.update_layout(title_text='GDP chart', plot_bgcolor='white', font_size=15, font_color='black')\n",
    "fig.update_xaxes(showgrid=False)\n",
    "fig.update_yaxes(showgrid=False)\n",
    "fig.show()"
   ]
  },
  {
   "cell_type": "code",
   "execution_count": 161,
   "metadata": {},
   "outputs": [
    {
     "name": "stdout",
     "output_type": "stream",
     "text": [
      "(118, 1)\n"
     ]
    }
   ],
   "source": [
    "closedf = df.copy()\n",
    "del closedf['Date']\n",
    "scaler=MinMaxScaler(feature_range=(0,1))\n",
    "closedf=scaler.fit_transform(np.array(closedf).reshape(-1,1))\n",
    "print(closedf.shape)"
   ]
  },
  {
   "cell_type": "code",
   "execution_count": 162,
   "metadata": {},
   "outputs": [
    {
     "name": "stdout",
     "output_type": "stream",
     "text": [
      "train_data:  (76, 1)\n",
      "test_data:  (42, 1)\n"
     ]
    }
   ],
   "source": [
    "training_size=int(len(closedf)*0.65)\n",
    "test_size=len(closedf)-training_size\n",
    "train_data,test_data=closedf[0:training_size,:],closedf[training_size:len(closedf),:1]\n",
    "print(\"train_data: \", train_data.shape)\n",
    "print(\"test_data: \", test_data.shape)"
   ]
  },
  {
   "cell_type": "code",
   "execution_count": 163,
   "metadata": {},
   "outputs": [
    {
     "name": "stdout",
     "output_type": "stream",
     "text": [
      "X_train:  (65, 10)\n",
      "y_train:  (65,)\n",
      "X_test:  (31, 10)\n",
      "y_test (31,)\n"
     ]
    }
   ],
   "source": [
    "def create_dataset(dataset, time_step=1):\n",
    "    dataX, dataY = [], []\n",
    "    for i in range(len(dataset)-time_step-1):\n",
    "        a = dataset[i:(i+time_step), 0]   ###i=0, 0,1,2,3-----99   100 \n",
    "        dataX.append(a)\n",
    "        dataY.append(dataset[i + time_step, 0])\n",
    "    return np.array(dataX), np.array(dataY)\n",
    "\n",
    "# reshape into X=t,t+1,t+2,t+3 and Y=t+4\n",
    "time_step = 10\n",
    "X_train, y_train = create_dataset(train_data, time_step)\n",
    "X_test, y_test = create_dataset(test_data, time_step)\n",
    "\n",
    "print(\"X_train: \", X_train.shape)\n",
    "print(\"y_train: \", y_train.shape)\n",
    "print(\"X_test: \", X_test.shape)\n",
    "print(\"y_test\", y_test.shape)"
   ]
  },
  {
   "cell_type": "code",
   "execution_count": 164,
   "metadata": {},
   "outputs": [
    {
     "name": "stdout",
     "output_type": "stream",
     "text": [
      "X_train:  (65, 10, 1)\n",
      "X_test:  (31, 10, 1)\n"
     ]
    }
   ],
   "source": [
    "# reshape input to be [samples, time steps, features] which is required for LSTM\n",
    "X_train =X_train.reshape(X_train.shape[0],X_train.shape[1] , 1)\n",
    "X_test = X_test.reshape(X_test.shape[0],X_test.shape[1] , 1)\n",
    "\n",
    "print(\"X_train: \", X_train.shape)\n",
    "print(\"X_test: \", X_test.shape)"
   ]
  },
  {
   "cell_type": "code",
   "execution_count": 165,
   "metadata": {},
   "outputs": [
    {
     "name": "stdout",
     "output_type": "stream",
     "text": [
      "Model: \"sequential\"\n",
      "_________________________________________________________________\n",
      "Layer (type)                 Output Shape              Param #   \n",
      "=================================================================\n",
      "lstm (LSTM)                  (None, 10, 64)            16896     \n",
      "_________________________________________________________________\n",
      "dropout (Dropout)            (None, 10, 64)            0         \n",
      "_________________________________________________________________\n",
      "lstm_1 (LSTM)                (None, 10, 128)           98816     \n",
      "_________________________________________________________________\n",
      "dropout_1 (Dropout)          (None, 10, 128)           0         \n",
      "_________________________________________________________________\n",
      "lstm_2 (LSTM)                (None, 64)                49408     \n",
      "_________________________________________________________________\n",
      "dropout_2 (Dropout)          (None, 64)                0         \n",
      "_________________________________________________________________\n",
      "dense (Dense)                (None, 1)                 65        \n",
      "=================================================================\n",
      "Total params: 165,185\n",
      "Trainable params: 165,185\n",
      "Non-trainable params: 0\n",
      "_________________________________________________________________\n"
     ]
    }
   ],
   "source": [
    "tf.keras.backend.clear_session()\n",
    "model=Sequential()\n",
    "model.add(LSTM(64,return_sequences=True,input_shape=(time_step,1)))\n",
    "model.add(Dropout(0.2))\n",
    "\n",
    "model.add(LSTM(128,return_sequences=True,activation='relu',dropout=0.2, recurrent_dropout=0.2))\n",
    "model.add(Dropout(0.2))\n",
    "\n",
    "#model.add(LSTM(128,return_sequences=True,activation='relu',dropout=0.2, recurrent_dropout=0.2))\n",
    "#model.add(Dropout(0.2))\n",
    "\n",
    "model.add(LSTM(64,activation='relu',dropout=0.2, recurrent_dropout=0.2))\n",
    "model.add(Dropout(0.2))\n",
    "\n",
    "model.add(Dense(1,activation='linear'))\n",
    "model.compile(loss='mean_squared_error',optimizer='adam')\n",
    "model.summary()"
   ]
  },
  {
   "cell_type": "code",
   "execution_count": 166,
   "metadata": {},
   "outputs": [
    {
     "name": "stdout",
     "output_type": "stream",
     "text": [
      "Epoch 1/256\n",
      "3/3 - 7s - loss: 0.2227 - val_loss: 0.6697\n",
      "Epoch 2/256\n",
      "3/3 - 0s - loss: 0.1737 - val_loss: 0.5078\n",
      "Epoch 3/256\n",
      "3/3 - 0s - loss: 0.1154 - val_loss: 0.2644\n",
      "Epoch 4/256\n",
      "3/3 - 0s - loss: 0.0359 - val_loss: 0.0110\n",
      "Epoch 5/256\n",
      "3/3 - 0s - loss: 0.0159 - val_loss: 0.0222\n",
      "Epoch 6/256\n",
      "3/3 - 0s - loss: 0.0287 - val_loss: 0.0056\n",
      "Epoch 7/256\n",
      "3/3 - 0s - loss: 0.0093 - val_loss: 0.0278\n",
      "Epoch 8/256\n",
      "3/3 - 0s - loss: 0.0089 - val_loss: 0.0306\n",
      "Epoch 9/256\n",
      "3/3 - 0s - loss: 0.0064 - val_loss: 0.0250\n",
      "Epoch 10/256\n",
      "3/3 - 0s - loss: 0.0045 - val_loss: 0.0170\n",
      "Epoch 11/256\n",
      "3/3 - 0s - loss: 0.0072 - val_loss: 0.0072\n",
      "Epoch 12/256\n",
      "3/3 - 0s - loss: 0.0091 - val_loss: 7.1077e-04\n",
      "Epoch 13/256\n",
      "3/3 - 0s - loss: 0.0103 - val_loss: 7.5276e-04\n",
      "Epoch 14/256\n",
      "3/3 - 0s - loss: 0.0115 - val_loss: 0.0087\n",
      "Epoch 15/256\n",
      "3/3 - 0s - loss: 0.0081 - val_loss: 0.0130\n",
      "Epoch 16/256\n",
      "3/3 - 0s - loss: 0.0064 - val_loss: 0.0089\n",
      "Epoch 17/256\n",
      "3/3 - 0s - loss: 0.0065 - val_loss: 0.0014\n",
      "Epoch 18/256\n",
      "3/3 - 0s - loss: 0.0122 - val_loss: 0.0019\n",
      "Epoch 19/256\n",
      "3/3 - 0s - loss: 0.0122 - val_loss: 0.0019\n",
      "Epoch 20/256\n",
      "3/3 - 0s - loss: 0.0103 - val_loss: 0.0028\n",
      "Epoch 21/256\n",
      "3/3 - 0s - loss: 0.0062 - val_loss: 0.0101\n",
      "Epoch 22/256\n",
      "3/3 - 0s - loss: 0.0068 - val_loss: 0.0249\n",
      "Epoch 23/256\n",
      "3/3 - 0s - loss: 0.0076 - val_loss: 0.0310\n",
      "Epoch 24/256\n",
      "3/3 - 0s - loss: 0.0070 - val_loss: 0.0204\n",
      "Epoch 25/256\n",
      "3/3 - 0s - loss: 0.0058 - val_loss: 0.0042\n",
      "Epoch 26/256\n",
      "3/3 - 0s - loss: 0.0055 - val_loss: 0.0018\n",
      "Epoch 27/256\n",
      "3/3 - 0s - loss: 0.0046 - val_loss: 0.0075\n",
      "Epoch 28/256\n",
      "3/3 - 0s - loss: 0.0062 - val_loss: 0.0066\n",
      "Epoch 29/256\n",
      "3/3 - 0s - loss: 0.0050 - val_loss: 6.5216e-04\n",
      "Epoch 30/256\n",
      "3/3 - 0s - loss: 0.0066 - val_loss: 0.0016\n",
      "Epoch 31/256\n",
      "3/3 - 0s - loss: 0.0081 - val_loss: 7.8733e-04\n",
      "Epoch 32/256\n",
      "3/3 - 0s - loss: 0.0061 - val_loss: 0.0061\n",
      "Epoch 33/256\n",
      "3/3 - 0s - loss: 0.0097 - val_loss: 0.0231\n",
      "Epoch 34/256\n",
      "3/3 - 0s - loss: 0.0095 - val_loss: 0.0193\n",
      "Epoch 35/256\n",
      "3/3 - 0s - loss: 0.0072 - val_loss: 0.0013\n",
      "Epoch 36/256\n",
      "3/3 - 0s - loss: 0.0057 - val_loss: 0.0017\n",
      "Epoch 37/256\n",
      "3/3 - 0s - loss: 0.0071 - val_loss: 0.0011\n",
      "Epoch 38/256\n",
      "3/3 - 0s - loss: 0.0046 - val_loss: 0.0018\n",
      "Epoch 39/256\n",
      "3/3 - 0s - loss: 0.0050 - val_loss: 0.0045\n",
      "Epoch 40/256\n",
      "3/3 - 0s - loss: 0.0051 - val_loss: 0.0117\n",
      "Epoch 41/256\n",
      "3/3 - 0s - loss: 0.0073 - val_loss: 0.0108\n",
      "Epoch 42/256\n",
      "3/3 - 0s - loss: 0.0062 - val_loss: 0.0053\n",
      "Epoch 43/256\n",
      "3/3 - 0s - loss: 0.0046 - val_loss: 8.9413e-04\n",
      "Epoch 44/256\n",
      "3/3 - 0s - loss: 0.0058 - val_loss: 4.3638e-04\n",
      "Epoch 45/256\n",
      "3/3 - 0s - loss: 0.0053 - val_loss: 0.0045\n",
      "Epoch 46/256\n",
      "3/3 - 0s - loss: 0.0037 - val_loss: 0.0029\n",
      "Epoch 47/256\n",
      "3/3 - 0s - loss: 0.0040 - val_loss: 0.0012\n",
      "Epoch 48/256\n",
      "3/3 - 0s - loss: 0.0065 - val_loss: 0.0189\n",
      "Epoch 49/256\n",
      "3/3 - 0s - loss: 0.0147 - val_loss: 0.0052\n",
      "Epoch 50/256\n",
      "3/3 - 0s - loss: 0.0049 - val_loss: 0.0230\n",
      "Epoch 51/256\n",
      "3/3 - 0s - loss: 0.0112 - val_loss: 0.0471\n",
      "Epoch 52/256\n",
      "3/3 - 0s - loss: 0.0154 - val_loss: 0.0313\n",
      "Epoch 53/256\n",
      "3/3 - 0s - loss: 0.0084 - val_loss: 0.0060\n",
      "Epoch 54/256\n",
      "3/3 - 0s - loss: 0.0039 - val_loss: 0.0087\n",
      "Epoch 55/256\n",
      "3/3 - 0s - loss: 0.0109 - val_loss: 0.0422\n",
      "Epoch 56/256\n",
      "3/3 - 0s - loss: 0.0183 - val_loss: 0.0114\n",
      "Epoch 57/256\n",
      "3/3 - 0s - loss: 0.0067 - val_loss: 0.0105\n",
      "Epoch 58/256\n",
      "3/3 - 0s - loss: 0.0048 - val_loss: 0.0347\n",
      "Epoch 59/256\n",
      "3/3 - 0s - loss: 0.0119 - val_loss: 0.0358\n",
      "Epoch 60/256\n",
      "3/3 - 0s - loss: 0.0093 - val_loss: 0.0202\n",
      "Epoch 61/256\n",
      "3/3 - 0s - loss: 0.0070 - val_loss: 0.0021\n",
      "Epoch 62/256\n",
      "3/3 - 0s - loss: 0.0045 - val_loss: 0.0079\n",
      "Epoch 63/256\n",
      "3/3 - 0s - loss: 0.0093 - val_loss: 0.0191\n",
      "Epoch 64/256\n",
      "3/3 - 0s - loss: 0.0141 - val_loss: 7.0805e-04\n",
      "Epoch 65/256\n",
      "3/3 - 0s - loss: 0.0054 - val_loss: 0.0203\n",
      "Epoch 66/256\n",
      "3/3 - 0s - loss: 0.0077 - val_loss: 0.0335\n",
      "Epoch 67/256\n",
      "3/3 - 0s - loss: 0.0086 - val_loss: 0.0197\n",
      "Epoch 68/256\n",
      "3/3 - 0s - loss: 0.0051 - val_loss: 0.0016\n",
      "Epoch 69/256\n",
      "3/3 - 0s - loss: 0.0049 - val_loss: 0.0055\n",
      "Epoch 70/256\n",
      "3/3 - 0s - loss: 0.0103 - val_loss: 0.0017\n",
      "Epoch 71/256\n",
      "3/3 - 0s - loss: 0.0055 - val_loss: 0.0224\n",
      "Epoch 72/256\n",
      "3/3 - 0s - loss: 0.0111 - val_loss: 0.0521\n",
      "Epoch 73/256\n",
      "3/3 - 0s - loss: 0.0130 - val_loss: 0.0387\n",
      "Epoch 74/256\n",
      "3/3 - 0s - loss: 0.0073 - val_loss: 0.0068\n",
      "Epoch 75/256\n",
      "3/3 - 0s - loss: 0.0040 - val_loss: 4.8016e-04\n",
      "Epoch 76/256\n",
      "3/3 - 0s - loss: 0.0066 - val_loss: 0.0027\n",
      "Epoch 77/256\n",
      "3/3 - 0s - loss: 0.0061 - val_loss: 0.0260\n",
      "Epoch 78/256\n",
      "3/3 - 0s - loss: 0.0089 - val_loss: 0.0406\n",
      "Epoch 79/256\n",
      "3/3 - 0s - loss: 0.0088 - val_loss: 0.0279\n",
      "Epoch 80/256\n",
      "3/3 - 0s - loss: 0.0064 - val_loss: 0.0064\n",
      "Epoch 81/256\n",
      "3/3 - 0s - loss: 0.0035 - val_loss: 0.0011\n",
      "Epoch 82/256\n",
      "3/3 - 0s - loss: 0.0121 - val_loss: 0.0077\n",
      "Epoch 83/256\n",
      "3/3 - 0s - loss: 0.0110 - val_loss: 0.0037\n",
      "Epoch 84/256\n",
      "3/3 - 0s - loss: 0.0082 - val_loss: 0.0013\n",
      "Epoch 85/256\n",
      "3/3 - 0s - loss: 0.0062 - val_loss: 0.0210\n",
      "Epoch 86/256\n",
      "3/3 - 0s - loss: 0.0079 - val_loss: 0.0344\n",
      "Epoch 87/256\n",
      "3/3 - 0s - loss: 0.0068 - val_loss: 0.0227\n",
      "Epoch 88/256\n",
      "3/3 - 0s - loss: 0.0072 - val_loss: 0.0101\n",
      "Epoch 89/256\n",
      "3/3 - 0s - loss: 0.0046 - val_loss: 4.2174e-04\n",
      "Epoch 90/256\n",
      "3/3 - 0s - loss: 0.0078 - val_loss: 0.0088\n",
      "Epoch 91/256\n",
      "3/3 - 0s - loss: 0.0102 - val_loss: 4.9494e-04\n",
      "Epoch 92/256\n",
      "3/3 - 0s - loss: 0.0057 - val_loss: 0.0136\n",
      "Epoch 93/256\n",
      "3/3 - 0s - loss: 0.0060 - val_loss: 0.0248\n",
      "Epoch 94/256\n",
      "3/3 - 0s - loss: 0.0072 - val_loss: 0.0219\n",
      "Epoch 95/256\n",
      "3/3 - 0s - loss: 0.0061 - val_loss: 0.0054\n",
      "Epoch 96/256\n",
      "3/3 - 0s - loss: 0.0042 - val_loss: 5.2914e-04\n",
      "Epoch 97/256\n",
      "3/3 - 0s - loss: 0.0068 - val_loss: 0.0019\n",
      "Epoch 98/256\n",
      "3/3 - 0s - loss: 0.0066 - val_loss: 0.0020\n",
      "Epoch 99/256\n",
      "3/3 - 0s - loss: 0.0065 - val_loss: 0.0020\n",
      "Epoch 100/256\n",
      "3/3 - 0s - loss: 0.0039 - val_loss: 4.3440e-04\n",
      "Epoch 101/256\n",
      "3/3 - 0s - loss: 0.0039 - val_loss: 0.0039\n",
      "Epoch 102/256\n",
      "3/3 - 0s - loss: 0.0055 - val_loss: 0.0065\n",
      "Epoch 103/256\n",
      "3/3 - 0s - loss: 0.0062 - val_loss: 0.0046\n",
      "Epoch 104/256\n",
      "3/3 - 0s - loss: 0.0042 - val_loss: 6.0373e-04\n",
      "Epoch 105/256\n",
      "3/3 - 0s - loss: 0.0055 - val_loss: 7.4377e-04\n",
      "Epoch 106/256\n",
      "3/3 - 0s - loss: 0.0040 - val_loss: 0.0081\n",
      "Epoch 107/256\n",
      "3/3 - 0s - loss: 0.0056 - val_loss: 0.0054\n",
      "Epoch 108/256\n",
      "3/3 - 0s - loss: 0.0043 - val_loss: 0.0019\n",
      "Epoch 109/256\n",
      "3/3 - 0s - loss: 0.0056 - val_loss: 4.2125e-04\n",
      "Epoch 110/256\n",
      "3/3 - 0s - loss: 0.0047 - val_loss: 0.0069\n",
      "Epoch 111/256\n",
      "3/3 - 0s - loss: 0.0067 - val_loss: 0.0118\n",
      "Epoch 112/256\n",
      "3/3 - 0s - loss: 0.0089 - val_loss: 4.4357e-04\n",
      "Epoch 113/256\n",
      "3/3 - 0s - loss: 0.0045 - val_loss: 0.0110\n",
      "Epoch 114/256\n",
      "3/3 - 0s - loss: 0.0058 - val_loss: 0.0067\n",
      "Epoch 115/256\n",
      "3/3 - 0s - loss: 0.0047 - val_loss: 7.1721e-04\n",
      "Epoch 116/256\n",
      "3/3 - 0s - loss: 0.0045 - val_loss: 0.0081\n",
      "Epoch 117/256\n",
      "3/3 - 0s - loss: 0.0048 - val_loss: 0.0081\n",
      "Epoch 118/256\n",
      "3/3 - 0s - loss: 0.0051 - val_loss: 0.0040\n",
      "Epoch 119/256\n",
      "3/3 - 0s - loss: 0.0059 - val_loss: 4.5157e-04\n",
      "Epoch 120/256\n",
      "3/3 - 0s - loss: 0.0048 - val_loss: 0.0024\n",
      "Epoch 121/256\n",
      "3/3 - 0s - loss: 0.0044 - val_loss: 7.9395e-04\n",
      "Epoch 122/256\n",
      "3/3 - 0s - loss: 0.0029 - val_loss: 8.4612e-04\n",
      "Epoch 123/256\n",
      "3/3 - 0s - loss: 0.0035 - val_loss: 0.0030\n",
      "Epoch 124/256\n",
      "3/3 - 0s - loss: 0.0044 - val_loss: 0.0077\n",
      "Epoch 125/256\n",
      "3/3 - 0s - loss: 0.0040 - val_loss: 0.0033\n",
      "Epoch 126/256\n",
      "3/3 - 0s - loss: 0.0033 - val_loss: 0.0018\n",
      "Epoch 127/256\n",
      "3/3 - 0s - loss: 0.0050 - val_loss: 0.0105\n",
      "Epoch 128/256\n",
      "3/3 - 0s - loss: 0.0089 - val_loss: 0.0082\n",
      "Epoch 129/256\n",
      "3/3 - 0s - loss: 0.0061 - val_loss: 0.0012\n",
      "Epoch 130/256\n",
      "3/3 - 0s - loss: 0.0045 - val_loss: 6.5478e-04\n",
      "Epoch 131/256\n",
      "3/3 - 0s - loss: 0.0034 - val_loss: 5.3933e-04\n",
      "Epoch 132/256\n",
      "3/3 - 0s - loss: 0.0040 - val_loss: 0.0044\n",
      "Epoch 133/256\n",
      "3/3 - 0s - loss: 0.0063 - val_loss: 0.0110\n",
      "Epoch 134/256\n",
      "3/3 - 0s - loss: 0.0052 - val_loss: 0.0048\n",
      "Epoch 135/256\n",
      "3/3 - 0s - loss: 0.0042 - val_loss: 5.2434e-04\n",
      "Epoch 136/256\n",
      "3/3 - 0s - loss: 0.0022 - val_loss: 0.0080\n",
      "Epoch 137/256\n",
      "3/3 - 0s - loss: 0.0058 - val_loss: 0.0120\n",
      "Epoch 138/256\n",
      "3/3 - 0s - loss: 0.0061 - val_loss: 0.0165\n",
      "Epoch 139/256\n",
      "3/3 - 0s - loss: 0.0090 - val_loss: 0.0192\n",
      "Epoch 140/256\n",
      "3/3 - 0s - loss: 0.0080 - val_loss: 0.0045\n",
      "Epoch 141/256\n",
      "3/3 - 0s - loss: 0.0031 - val_loss: 0.0026\n",
      "Epoch 142/256\n",
      "3/3 - 0s - loss: 0.0046 - val_loss: 0.0086\n",
      "Epoch 143/256\n",
      "3/3 - 0s - loss: 0.0064 - val_loss: 9.1860e-04\n",
      "Epoch 144/256\n",
      "3/3 - 0s - loss: 0.0049 - val_loss: 0.0032\n"
     ]
    },
    {
     "name": "stdout",
     "output_type": "stream",
     "text": [
      "Epoch 145/256\n",
      "3/3 - 0s - loss: 0.0050 - val_loss: 0.0101\n",
      "Epoch 146/256\n",
      "3/3 - 0s - loss: 0.0045 - val_loss: 0.0055\n",
      "Epoch 147/256\n",
      "3/3 - 0s - loss: 0.0032 - val_loss: 6.8077e-04\n",
      "Epoch 148/256\n",
      "3/3 - 0s - loss: 0.0027 - val_loss: 6.2542e-04\n",
      "Epoch 149/256\n",
      "3/3 - 0s - loss: 0.0043 - val_loss: 6.5032e-04\n",
      "Epoch 150/256\n",
      "3/3 - 0s - loss: 0.0033 - val_loss: 8.0084e-04\n",
      "Epoch 151/256\n",
      "3/3 - 0s - loss: 0.0038 - val_loss: 0.0013\n",
      "Epoch 152/256\n",
      "3/3 - 0s - loss: 0.0040 - val_loss: 8.4371e-04\n",
      "Epoch 153/256\n",
      "3/3 - 0s - loss: 0.0035 - val_loss: 6.4413e-04\n",
      "Epoch 154/256\n",
      "3/3 - 0s - loss: 0.0032 - val_loss: 5.2681e-04\n",
      "Epoch 155/256\n",
      "3/3 - 0s - loss: 0.0029 - val_loss: 4.2816e-04\n",
      "Epoch 156/256\n",
      "3/3 - 0s - loss: 0.0044 - val_loss: 4.4791e-04\n",
      "Epoch 157/256\n",
      "3/3 - 0s - loss: 0.0037 - val_loss: 0.0033\n",
      "Epoch 158/256\n",
      "3/3 - 0s - loss: 0.0037 - val_loss: 0.0137\n",
      "Epoch 159/256\n",
      "3/3 - 0s - loss: 0.0058 - val_loss: 0.0082\n",
      "Epoch 160/256\n",
      "3/3 - 0s - loss: 0.0056 - val_loss: 8.5103e-04\n",
      "Epoch 161/256\n",
      "3/3 - 0s - loss: 0.0042 - val_loss: 0.0066\n",
      "Epoch 162/256\n",
      "3/3 - 0s - loss: 0.0052 - val_loss: 0.0034\n",
      "Epoch 163/256\n",
      "3/3 - 0s - loss: 0.0035 - val_loss: 0.0025\n",
      "Epoch 164/256\n",
      "3/3 - 0s - loss: 0.0036 - val_loss: 0.0269\n",
      "Epoch 165/256\n",
      "3/3 - 0s - loss: 0.0083 - val_loss: 0.0178\n",
      "Epoch 166/256\n",
      "3/3 - 0s - loss: 0.0041 - val_loss: 4.4214e-04\n",
      "Epoch 167/256\n",
      "3/3 - 0s - loss: 0.0043 - val_loss: 0.0101\n",
      "Epoch 168/256\n",
      "3/3 - 0s - loss: 0.0079 - val_loss: 0.0071\n",
      "Epoch 169/256\n",
      "3/3 - 0s - loss: 0.0040 - val_loss: 4.2973e-04\n",
      "Epoch 170/256\n",
      "3/3 - 0s - loss: 0.0029 - val_loss: 0.0083\n",
      "Epoch 171/256\n",
      "3/3 - 0s - loss: 0.0060 - val_loss: 0.0223\n",
      "Epoch 172/256\n",
      "3/3 - 0s - loss: 0.0115 - val_loss: 0.0104\n",
      "Epoch 173/256\n",
      "3/3 - 0s - loss: 0.0042 - val_loss: 5.3608e-04\n",
      "Epoch 174/256\n",
      "3/3 - 0s - loss: 0.0040 - val_loss: 0.0084\n",
      "Epoch 175/256\n",
      "3/3 - 0s - loss: 0.0064 - val_loss: 0.0147\n",
      "Epoch 176/256\n",
      "3/3 - 0s - loss: 0.0078 - val_loss: 0.0063\n",
      "Epoch 177/256\n",
      "3/3 - 0s - loss: 0.0043 - val_loss: 0.0015\n",
      "Epoch 178/256\n",
      "3/3 - 0s - loss: 0.0047 - val_loss: 0.0121\n",
      "Epoch 179/256\n",
      "3/3 - 0s - loss: 0.0044 - val_loss: 0.0071\n",
      "Epoch 180/256\n",
      "3/3 - 0s - loss: 0.0037 - val_loss: 5.9861e-04\n",
      "Epoch 181/256\n",
      "3/3 - 0s - loss: 0.0028 - val_loss: 0.0017\n",
      "Epoch 182/256\n",
      "3/3 - 0s - loss: 0.0024 - val_loss: 0.0039\n",
      "Epoch 183/256\n",
      "3/3 - 0s - loss: 0.0053 - val_loss: 8.2371e-04\n",
      "Epoch 184/256\n",
      "3/3 - 0s - loss: 0.0039 - val_loss: 6.4436e-04\n",
      "Epoch 185/256\n",
      "3/3 - 0s - loss: 0.0038 - val_loss: 0.0044\n",
      "Epoch 186/256\n",
      "3/3 - 0s - loss: 0.0061 - val_loss: 6.3682e-04\n",
      "Epoch 187/256\n",
      "3/3 - 0s - loss: 0.0038 - val_loss: 0.0056\n",
      "Epoch 188/256\n",
      "3/3 - 0s - loss: 0.0065 - val_loss: 0.0084\n",
      "Epoch 189/256\n",
      "3/3 - 0s - loss: 0.0066 - val_loss: 0.0037\n",
      "Epoch 190/256\n",
      "3/3 - 0s - loss: 0.0051 - val_loss: 0.0047\n",
      "Epoch 191/256\n",
      "3/3 - 0s - loss: 0.0037 - val_loss: 0.0065\n",
      "Epoch 192/256\n",
      "3/3 - 0s - loss: 0.0043 - val_loss: 0.0073\n",
      "Epoch 193/256\n",
      "3/3 - 0s - loss: 0.0031 - val_loss: 0.0011\n",
      "Epoch 194/256\n",
      "3/3 - 0s - loss: 0.0024 - val_loss: 0.0022\n",
      "Epoch 195/256\n",
      "3/3 - 0s - loss: 0.0072 - val_loss: 0.0037\n",
      "Epoch 196/256\n",
      "3/3 - 0s - loss: 0.0050 - val_loss: 6.4923e-04\n",
      "Epoch 197/256\n",
      "3/3 - 0s - loss: 0.0034 - val_loss: 0.0079\n",
      "Epoch 198/256\n",
      "3/3 - 0s - loss: 0.0052 - val_loss: 0.0036\n",
      "Epoch 199/256\n",
      "3/3 - 0s - loss: 0.0029 - val_loss: 0.0075\n",
      "Epoch 200/256\n",
      "3/3 - 0s - loss: 0.0054 - val_loss: 0.0113\n",
      "Epoch 201/256\n",
      "3/3 - 0s - loss: 0.0048 - val_loss: 0.0022\n",
      "Epoch 202/256\n",
      "3/3 - 0s - loss: 0.0034 - val_loss: 0.0059\n",
      "Epoch 203/256\n",
      "3/3 - 0s - loss: 0.0074 - val_loss: 0.0146\n",
      "Epoch 204/256\n",
      "3/3 - 0s - loss: 0.0069 - val_loss: 4.6247e-04\n",
      "Epoch 205/256\n",
      "3/3 - 0s - loss: 0.0027 - val_loss: 0.0142\n",
      "Epoch 206/256\n",
      "3/3 - 0s - loss: 0.0067 - val_loss: 0.0267\n",
      "Epoch 207/256\n",
      "3/3 - 0s - loss: 0.0100 - val_loss: 0.0151\n",
      "Epoch 208/256\n",
      "3/3 - 0s - loss: 0.0043 - val_loss: 7.4502e-04\n",
      "Epoch 209/256\n",
      "3/3 - 0s - loss: 0.0033 - val_loss: 0.0065\n",
      "Epoch 210/256\n",
      "3/3 - 0s - loss: 0.0088 - val_loss: 0.0012\n",
      "Epoch 211/256\n",
      "3/3 - 0s - loss: 0.0042 - val_loss: 0.0095\n",
      "Epoch 212/256\n",
      "3/3 - 0s - loss: 0.0055 - val_loss: 0.0195\n",
      "Epoch 213/256\n",
      "3/3 - 0s - loss: 0.0080 - val_loss: 0.0123\n",
      "Epoch 214/256\n",
      "3/3 - 0s - loss: 0.0040 - val_loss: 8.7290e-04\n",
      "Epoch 215/256\n",
      "3/3 - 0s - loss: 0.0047 - val_loss: 0.0043\n",
      "Epoch 216/256\n",
      "3/3 - 0s - loss: 0.0083 - val_loss: 0.0040\n",
      "Epoch 217/256\n",
      "3/3 - 0s - loss: 0.0045 - val_loss: 0.0024\n",
      "Epoch 218/256\n",
      "3/3 - 0s - loss: 0.0033 - val_loss: 0.0092\n",
      "Epoch 219/256\n",
      "3/3 - 0s - loss: 0.0034 - val_loss: 0.0112\n",
      "Epoch 220/256\n",
      "3/3 - 0s - loss: 0.0048 - val_loss: 0.0101\n",
      "Epoch 221/256\n",
      "3/3 - 0s - loss: 0.0037 - val_loss: 0.0045\n",
      "Epoch 222/256\n",
      "3/3 - 0s - loss: 0.0037 - val_loss: 4.0945e-04\n",
      "Epoch 223/256\n",
      "3/3 - 0s - loss: 0.0038 - val_loss: 0.0069\n",
      "Epoch 224/256\n",
      "3/3 - 0s - loss: 0.0082 - val_loss: 0.0076\n",
      "Epoch 225/256\n",
      "3/3 - 0s - loss: 0.0061 - val_loss: 7.8134e-04\n",
      "Epoch 226/256\n",
      "3/3 - 0s - loss: 0.0034 - val_loss: 4.1973e-04\n",
      "Epoch 227/256\n",
      "3/3 - 0s - loss: 0.0032 - val_loss: 4.5849e-04\n",
      "Epoch 228/256\n",
      "3/3 - 0s - loss: 0.0034 - val_loss: 0.0010\n",
      "Epoch 229/256\n",
      "3/3 - 0s - loss: 0.0037 - val_loss: 5.9788e-04\n",
      "Epoch 230/256\n",
      "3/3 - 0s - loss: 0.0030 - val_loss: 6.4332e-04\n",
      "Epoch 231/256\n",
      "3/3 - 0s - loss: 0.0034 - val_loss: 5.2730e-04\n",
      "Epoch 232/256\n",
      "3/3 - 0s - loss: 0.0025 - val_loss: 0.0053\n",
      "Epoch 233/256\n",
      "3/3 - 0s - loss: 0.0040 - val_loss: 0.0081\n",
      "Epoch 234/256\n",
      "3/3 - 0s - loss: 0.0042 - val_loss: 0.0031\n",
      "Epoch 235/256\n",
      "3/3 - 0s - loss: 0.0025 - val_loss: 6.2409e-04\n",
      "Epoch 236/256\n",
      "3/3 - 0s - loss: 0.0030 - val_loss: 0.0024\n",
      "Epoch 237/256\n",
      "3/3 - 0s - loss: 0.0053 - val_loss: 0.0059\n",
      "Epoch 238/256\n",
      "3/3 - 0s - loss: 0.0061 - val_loss: 0.0066\n",
      "Epoch 239/256\n",
      "3/3 - 0s - loss: 0.0059 - val_loss: 0.0043\n",
      "Epoch 240/256\n",
      "3/3 - 0s - loss: 0.0027 - val_loss: 6.3968e-04\n",
      "Epoch 241/256\n",
      "3/3 - 0s - loss: 0.0029 - val_loss: 8.5371e-04\n",
      "Epoch 242/256\n",
      "3/3 - 0s - loss: 0.0030 - val_loss: 0.0026\n",
      "Epoch 243/256\n",
      "3/3 - 0s - loss: 0.0036 - val_loss: 0.0041\n",
      "Epoch 244/256\n",
      "3/3 - 0s - loss: 0.0038 - val_loss: 0.0030\n",
      "Epoch 245/256\n",
      "3/3 - 0s - loss: 0.0028 - val_loss: 0.0012\n",
      "Epoch 246/256\n",
      "3/3 - 0s - loss: 0.0022 - val_loss: 4.3389e-04\n",
      "Epoch 247/256\n",
      "3/3 - 0s - loss: 0.0034 - val_loss: 0.0015\n",
      "Epoch 248/256\n",
      "3/3 - 0s - loss: 0.0027 - val_loss: 5.1442e-04\n",
      "Epoch 249/256\n",
      "3/3 - 0s - loss: 0.0030 - val_loss: 0.0025\n",
      "Epoch 250/256\n",
      "3/3 - 0s - loss: 0.0036 - val_loss: 0.0123\n",
      "Epoch 251/256\n",
      "3/3 - 0s - loss: 0.0071 - val_loss: 0.0254\n",
      "Epoch 252/256\n",
      "3/3 - 0s - loss: 0.0068 - val_loss: 0.0079\n",
      "Epoch 253/256\n",
      "3/3 - 0s - loss: 0.0030 - val_loss: 5.4222e-04\n",
      "Epoch 254/256\n",
      "3/3 - 0s - loss: 0.0031 - val_loss: 6.6790e-04\n",
      "Epoch 255/256\n",
      "3/3 - 0s - loss: 0.0042 - val_loss: 0.0010\n",
      "Epoch 256/256\n",
      "3/3 - 0s - loss: 0.0040 - val_loss: 6.0877e-04\n"
     ]
    }
   ],
   "source": [
    "m=model.fit(X_train,y_train,validation_data=(X_test,y_test),epochs=256,batch_size=32,verbose=2, shuffle=False)"
   ]
  },
  {
   "cell_type": "code",
   "execution_count": 167,
   "metadata": {},
   "outputs": [
    {
     "data": {
      "image/png": "[encoded data removed]",
      "text/plain": [
       "<Figure size 432x288 with 1 Axes>"
      ]
     },
     "metadata": {
      "needs_background": "light"
     },
     "output_type": "display_data"
    }
   ],
   "source": [
    "# summarize history for loss\n",
    "plt.plot(m.history['loss'])\n",
    "plt.plot(m.history['val_loss'])\n",
    "plt.title('model loss')\n",
    "plt.ylabel('loss')\n",
    "plt.xlabel('epoch')\n",
    "plt.legend(['train', 'test'], loc='upper right')\n",
    "plt.show()"
   ]
  },
  {
   "cell_type": "code",
   "execution_count": 168,
   "metadata": {},
   "outputs": [
    {
     "data": {
      "text/plain": [
       "((65, 1), (31, 1))"
      ]
     },
     "execution_count": 168,
     "metadata": {},
     "output_type": "execute_result"
    }
   ],
   "source": [
    "### Lets Do the prediction and check performance metrics\n",
    "train_predict=model.predict(X_train)\n",
    "test_predict=model.predict(X_test)\n",
    "train_predict.shape, test_predict.shape"
   ]
  },
  {
   "cell_type": "code",
   "execution_count": 169,
   "metadata": {},
   "outputs": [],
   "source": [
    "# Transform back to original form\n",
    "train_predict = scaler.inverse_transform(train_predict)\n",
    "test_predict = scaler.inverse_transform(test_predict)\n",
    "original_ytrain = scaler.inverse_transform(y_train.reshape(-1,1)) \n",
    "original_ytest = scaler.inverse_transform(y_test.reshape(-1,1)) "
   ]
  },
  {
   "cell_type": "code",
   "execution_count": 170,
   "metadata": {},
   "outputs": [
    {
     "name": "stdout",
     "output_type": "stream",
     "text": [
      "Train data RMSE:  0.17941919924351168\n",
      "Train data MSE:  0.032191249057182944\n",
      "Test data MAE:  0.1537729414105316\n",
      "-------------------------------------------------------------------------------------\n",
      "Test data RMSE:  0.09945050548516236\n",
      "Test data MSE:  0.009890403041254308\n",
      "Test data MAE:  0.08359481074855045\n"
     ]
    }
   ],
   "source": [
    "# Evaluation metrices RMSE and MAE\n",
    "print(\"Train data RMSE: \", math.sqrt(mean_squared_error(original_ytrain,train_predict)))\n",
    "print(\"Train data MSE: \", mean_squared_error(original_ytrain,train_predict))\n",
    "print(\"Test data MAE: \", mean_absolute_error(original_ytrain,train_predict))\n",
    "print(\"-------------------------------------------------------------------------------------\")\n",
    "print(\"Test data RMSE: \", math.sqrt(mean_squared_error(original_ytest,test_predict)))\n",
    "print(\"Test data MSE: \", mean_squared_error(original_ytest,test_predict))\n",
    "print(\"Test data MAE: \", mean_absolute_error(original_ytest,test_predict))"
   ]
  },
  {
   "cell_type": "code",
   "execution_count": 171,
   "metadata": {},
   "outputs": [
    {
     "name": "stdout",
     "output_type": "stream",
     "text": [
      "Train data explained variance regression score: 0.9668439777317098\n",
      "Test data explained variance regression score: 0.8268082152575884\n"
     ]
    }
   ],
   "source": [
    "print(\"Train data explained variance regression score:\", explained_variance_score(original_ytrain, train_predict))\n",
    "print(\"Test data explained variance regression score:\", explained_variance_score(original_ytest, test_predict))"
   ]
  },
  {
   "cell_type": "code",
   "execution_count": 172,
   "metadata": {},
   "outputs": [
    {
     "name": "stdout",
     "output_type": "stream",
     "text": [
      "Train data R2 score: 0.9100825355527876\n",
      "Test data R2 score: 0.7496020867730602\n"
     ]
    }
   ],
   "source": [
    "print(\"Train data R2 score:\", r2_score(original_ytrain, train_predict))\n",
    "print(\"Test data R2 score:\", r2_score(original_ytest, test_predict))"
   ]
  },
  {
   "cell_type": "code",
   "execution_count": 173,
   "metadata": {},
   "outputs": [
    {
     "name": "stdout",
     "output_type": "stream",
     "text": [
      "Train predicted data:  (118, 1)\n",
      "Test predicted data:  (118, 1)\n"
     ]
    },
    {
     "data": {
      "application/vnd.plotly.v1+json": {
       "config": {
        "plotlyServerURL": "https://plot.ly"
       },
       "data": [
        {
         "hovertemplate": "variable=original<br>Date=%{x}<br>GDP=%{y}<extra></extra>",
         "legendgroup": "original",
         "line": {
          "color": "#636efa",
          "dash": "solid"
         },
         "marker": {
          "symbol": "circle"
         },
         "mode": "lines",
         "name": "Original GDP",
         "orientation": "v",
         "showlegend": true,
         "type": "scatter",
         "x": [
          "1992-01",
          "1992-03",
          "1992-02",
          "1992-04",
          "1993-01",
          "1993-03",
          "1993-02",
          "1993-04",
          "1994-01",
          "1994-03",
          "1994-02",
          "1994-04",
          "1995-01",
          "1995-03",
          "1995-02",
          "1995-04",
          "1996-01",
          "1996-03",
          "1996-02",
          "1996-04",
          "1997-01",
          "1997-03",
          "1997-02",
          "1997-04",
          "1998-01",
          "1998-03",
          "1998-02",
          "1998-04",
          "1999-01",
          "1999-03",
          "1999-02",
          "1999-04",
          "2000-01",
          "2000-03",
          "2000-02",
          "2000-04",
          "2001-01",
          "2001-03",
          "2001-02",
          "2001-04",
          "2002-01",
          "2002-03",
          "2002-02",
          "2002-04",
          "2003-01",
          "2003-03",
          "2003-02",
          "2003-04",
          "2004-01",
          "2004-03",
          "2004-02",
          "2004-04",
          "2005-01",
          "2005-03",
          "2005-02",
          "2005-04",
          "2006-01",
          "2006-03",
          "2006-02",
          "2006-04",
          "2007-01",
          "2007-03",
          "2007-02",
          "2007-04",
          "2008-01",
          "2008-03",
          "2008-02",
          "2008-04",
          "2009-01",
          "2009-03",
          "2009-02",
          "2009-04",
          "2010-01",
          "2010-03",
          "2010-02",
          "2010-04",
          "2011-01",
          "2011-03",
          "2011-02",
          "2011-04",
          "2012-01",
          "2012-03",
          "2012-02",
          "2012-04",
          "2013-01",
          "2013-03",
          "2013-02",
          "2013-04",
          "2014-01",
          "2014-03",
          "2014-02",
          "2014-04",
          "2015-01",
          "2015-03",
          "2015-02",
          "2015-04",
          "2016-01",
          "2016-03",
          "2016-02",
          "2016-04",
          "2017-01",
          "2017-03",
          "2017-02",
          "2017-04",
          "2018-01",
          "2018-03",
          "2018-02",
          "2018-04",
          "2019-01",
          "2019-03",
          "2019-02",
          "2019-04",
          "2020-01",
          "2020-03",
          "2020-02",
          "2020-04",
          "2021-01",
          "2021-02"
         ],
         "xaxis": "x",
         "y": [
          8.568418483491683,
          8.88080799870062,
          8.777139149521213,
          9.01855012831997,
          8.82975322513392,
          9.146953187795779,
          9.030854790001436,
          9.314330949697387,
          9.14581251744839,
          9.462498888358917,
          9.348448774093812,
          9.61000871123717,
          9.401927206546171,
          9.690548012766707,
          9.589659979229449,
          9.822884688004029,
          9.590692779269272,
          9.83122863905005,
          9.749607669373477,
          9.972659074730759,
          9.72251109069621,
          9.92822406660184,
          9.860767925315967,
          10.058844647209407,
          9.800851101022056,
          9.988545355876102,
          9.918208663317522,
          10.129594708034045,
          9.871062496510973,
          10.045455754980866,
          9.978952104119747,
          10.188061048366206,
          9.96786512322187,
          10.154732533961212,
          10.08761580959715,
          10.281728763721851,
          10.089402644840213,
          10.251793070333063,
          10.193414603137649,
          10.364601787935946,
          10.177134086023445,
          10.350008227884317,
          10.281745890206077,
          10.462254408802437,
          10.303119011284942,
          10.471408754834638,
          10.390142402530184,
          10.590802760153148,
          10.450006521756132,
          10.641966543094156,
          10.56361555063884,
          10.752351329093536,
          10.607903501359239,
          10.779951627710286,
          10.709809388683965,
          10.897198479378416,
          10.759580196615278,
          10.93426165994871,
          10.871863964777127,
          11.060708314311007,
          10.953597385642714,
          11.148824444423333,
          11.078776891401473,
          11.273008269355648,
          11.147261670664934,
          11.320069818969348,
          11.273548359633745,
          11.39300389427696,
          11.211539251594534,
          11.405862389668808,
          11.336973181223643,
          11.521149554250135,
          11.379408929378197,
          11.570851861613654,
          11.506378077531833,
          11.689453605623394,
          11.556654270618498,
          11.748489165909815,
          11.686003599325709,
          11.835096641454994,
          11.67298096271001,
          11.835658028813604,
          11.785396940596867,
          11.93039819220267,
          11.771046895178772,
          11.933099859149294,
          11.874220619280585,
          12.030362981915275,
          11.854810170576314,
          12.016634022395847,
          11.96074483308008,
          12.105306559299084,
          11.925947944075642,
          12.081629543284627,
          12.03498594077335,
          12.16823006231944,
          11.997879281168649,
          12.160084202871044,
          12.108505019610634,
          12.262293230857516,
          12.11103477864532,
          12.26805775323056,
          12.215776906506672,
          12.369163386512597,
          12.21619969344123,
          12.365101265979783,
          12.319232566597293,
          12.46384523050753,
          12.288427907955786,
          12.433392663254265,
          12.39463551806236,
          12.531043277266022,
          12.234305326142541,
          12.48739566700664,
          12.425148334298969,
          12.599120308626903,
          12.426452782128628,
          12.5526981627059
         ],
         "yaxis": "y"
        },
        {
         "hovertemplate": "variable=train_predicted_close<br>Date=%{x}<br>GDP=%{y}<extra></extra>",
         "legendgroup": "train_predicted_close",
         "line": {
          "color": "#EF553B",
          "dash": "solid"
         },
         "marker": {
          "symbol": "circle"
         },
         "mode": "lines",
         "name": "Train predicted GDP",
         "orientation": "v",
         "showlegend": true,
         "type": "scatter",
         "x": [
          "1992-01",
          "1992-03",
          "1992-02",
          "1992-04",
          "1993-01",
          "1993-03",
          "1993-02",
          "1993-04",
          "1994-01",
          "1994-03",
          "1994-02",
          "1994-04",
          "1995-01",
          "1995-03",
          "1995-02",
          "1995-04",
          "1996-01",
          "1996-03",
          "1996-02",
          "1996-04",
          "1997-01",
          "1997-03",
          "1997-02",
          "1997-04",
          "1998-01",
          "1998-03",
          "1998-02",
          "1998-04",
          "1999-01",
          "1999-03",
          "1999-02",
          "1999-04",
          "2000-01",
          "2000-03",
          "2000-02",
          "2000-04",
          "2001-01",
          "2001-03",
          "2001-02",
          "2001-04",
          "2002-01",
          "2002-03",
          "2002-02",
          "2002-04",
          "2003-01",
          "2003-03",
          "2003-02",
          "2003-04",
          "2004-01",
          "2004-03",
          "2004-02",
          "2004-04",
          "2005-01",
          "2005-03",
          "2005-02",
          "2005-04",
          "2006-01",
          "2006-03",
          "2006-02",
          "2006-04",
          "2007-01",
          "2007-03",
          "2007-02",
          "2007-04",
          "2008-01",
          "2008-03",
          "2008-02",
          "2008-04",
          "2009-01",
          "2009-03",
          "2009-02",
          "2009-04",
          "2010-01",
          "2010-03",
          "2010-02",
          "2010-04",
          "2011-01",
          "2011-03",
          "2011-02",
          "2011-04",
          "2012-01",
          "2012-03",
          "2012-02",
          "2012-04",
          "2013-01",
          "2013-03",
          "2013-02",
          "2013-04",
          "2014-01",
          "2014-03",
          "2014-02",
          "2014-04",
          "2015-01",
          "2015-03",
          "2015-02",
          "2015-04",
          "2016-01",
          "2016-03",
          "2016-02",
          "2016-04",
          "2017-01",
          "2017-03",
          "2017-02",
          "2017-04",
          "2018-01",
          "2018-03",
          "2018-02",
          "2018-04",
          "2019-01",
          "2019-03",
          "2019-02",
          "2019-04",
          "2020-01",
          "2020-03",
          "2020-02",
          "2020-04",
          "2021-01",
          "2021-02"
         ],
         "xaxis": "x",
         "y": [
          null,
          null,
          null,
          null,
          null,
          null,
          null,
          null,
          null,
          null,
          9.436717987060547,
          9.469313621520996,
          9.4902925491333,
          9.519816398620605,
          9.539830207824707,
          9.570855140686035,
          9.5890531539917,
          9.618349075317383,
          9.641081809997559,
          9.686873435974121,
          9.714598655700684,
          9.759958267211914,
          9.78148078918457,
          9.831544876098633,
          9.85224437713623,
          9.88841438293457,
          9.897649765014648,
          9.93923282623291,
          9.953160285949707,
          9.979605674743652,
          9.978363990783691,
          10.012585639953613,
          10.022417068481445,
          10.043211936950684,
          10.03987979888916,
          10.07472038269043,
          10.088228225708008,
          10.114225387573242,
          10.114569664001465,
          10.154409408569336,
          10.17444133758545,
          10.20647144317627,
          10.212652206420898,
          10.253073692321777,
          10.271268844604492,
          10.301969528198242,
          10.309203147888184,
          10.34740924835205,
          10.367419242858887,
          10.39970588684082,
          10.41313362121582,
          10.458516120910645,
          10.485455513000488,
          10.52715015411377,
          10.54871940612793,
          10.598713874816895,
          10.630566596984863,
          10.679415702819824,
          10.704582214355469,
          10.755803108215332,
          10.785313606262207,
          10.832066535949707,
          10.858183860778809,
          10.912428855895996,
          10.9492769241333,
          11.003276824951172,
          11.03696346282959,
          11.09821605682373,
          11.14051342010498,
          11.196453094482422,
          11.228750228881836,
          11.280991554260254,
          11.308931350708008,
          11.351201057434082,
          11.369176864624023,
          null,
          null,
          null,
          null,
          null,
          null,
          null,
          null,
          null,
          null,
          null,
          null,
          null,
          null,
          null,
          null,
          null,
          null,
          null,
          null,
          null,
          null,
          null,
          null,
          null,
          null,
          null,
          null,
          null,
          null,
          null,
          null,
          null,
          null,
          null,
          null,
          null,
          null,
          null,
          null,
          null,
          null,
          null
         ],
         "yaxis": "y"
        },
        {
         "hovertemplate": "variable=test_predicted_close<br>Date=%{x}<br>GDP=%{y}<extra></extra>",
         "legendgroup": "test_predicted_close",
         "line": {
          "color": "#00cc96",
          "dash": "solid"
         },
         "marker": {
          "symbol": "circle"
         },
         "mode": "lines",
         "name": "Test predicted GDP",
         "orientation": "v",
         "showlegend": true,
         "type": "scatter",
         "x": [
          "1992-01",
          "1992-03",
          "1992-02",
          "1992-04",
          "1993-01",
          "1993-03",
          "1993-02",
          "1993-04",
          "1994-01",
          "1994-03",
          "1994-02",
          "1994-04",
          "1995-01",
          "1995-03",
          "1995-02",
          "1995-04",
          "1996-01",
          "1996-03",
          "1996-02",
          "1996-04",
          "1997-01",
          "1997-03",
          "1997-02",
          "1997-04",
          "1998-01",
          "1998-03",
          "1998-02",
          "1998-04",
          "1999-01",
          "1999-03",
          "1999-02",
          "1999-04",
          "2000-01",
          "2000-03",
          "2000-02",
          "2000-04",
          "2001-01",
          "2001-03",
          "2001-02",
          "2001-04",
          "2002-01",
          "2002-03",
          "2002-02",
          "2002-04",
          "2003-01",
          "2003-03",
          "2003-02",
          "2003-04",
          "2004-01",
          "2004-03",
          "2004-02",
          "2004-04",
          "2005-01",
          "2005-03",
          "2005-02",
          "2005-04",
          "2006-01",
          "2006-03",
          "2006-02",
          "2006-04",
          "2007-01",
          "2007-03",
          "2007-02",
          "2007-04",
          "2008-01",
          "2008-03",
          "2008-02",
          "2008-04",
          "2009-01",
          "2009-03",
          "2009-02",
          "2009-04",
          "2010-01",
          "2010-03",
          "2010-02",
          "2010-04",
          "2011-01",
          "2011-03",
          "2011-02",
          "2011-04",
          "2012-01",
          "2012-03",
          "2012-02",
          "2012-04",
          "2013-01",
          "2013-03",
          "2013-02",
          "2013-04",
          "2014-01",
          "2014-03",
          "2014-02",
          "2014-04",
          "2015-01",
          "2015-03",
          "2015-02",
          "2015-04",
          "2016-01",
          "2016-03",
          "2016-02",
          "2016-04",
          "2017-01",
          "2017-03",
          "2017-02",
          "2017-04",
          "2018-01",
          "2018-03",
          "2018-02",
          "2018-04",
          "2019-01",
          "2019-03",
          "2019-02",
          "2019-04",
          "2020-01",
          "2020-03",
          "2020-02",
          "2020-04",
          "2021-01",
          "2021-02"
         ],
         "xaxis": "x",
         "y": [
          null,
          null,
          null,
          null,
          null,
          null,
          null,
          null,
          null,
          null,
          null,
          null,
          null,
          null,
          null,
          null,
          null,
          null,
          null,
          null,
          null,
          null,
          null,
          null,
          null,
          null,
          null,
          null,
          null,
          null,
          null,
          null,
          null,
          null,
          null,
          null,
          null,
          null,
          null,
          null,
          null,
          null,
          null,
          null,
          null,
          null,
          null,
          null,
          null,
          null,
          null,
          null,
          null,
          null,
          null,
          null,
          null,
          null,
          null,
          null,
          null,
          null,
          null,
          null,
          null,
          null,
          null,
          null,
          null,
          null,
          null,
          null,
          null,
          null,
          null,
          null,
          null,
          null,
          null,
          null,
          null,
          null,
          null,
          null,
          null,
          null,
          11.809614181518555,
          11.852123260498047,
          11.869930267333984,
          11.899879455566406,
          11.910652160644531,
          11.949365615844727,
          11.967428207397461,
          11.995224952697754,
          12.003849983215332,
          12.039525032043457,
          12.054112434387207,
          12.07941722869873,
          12.083707809448242,
          12.117542266845703,
          12.13064193725586,
          12.154834747314453,
          12.160744667053223,
          12.19771671295166,
          12.215704917907715,
          12.243999481201172,
          12.256084442138672,
          12.2980318069458,
          12.319924354553223,
          12.352295875549316,
          12.364385604858398,
          12.402602195739746,
          12.420744895935059,
          12.446815490722656,
          12.451020240783691,
          12.480172157287598,
          12.489972114562988,
          null
         ],
         "yaxis": "y"
        }
       ],
       "layout": {
        "font": {
         "color": "black",
         "size": 15
        },
        "legend": {
         "title": {
          "text": "Close Price"
         },
         "tracegroupgap": 0
        },
        "margin": {
         "t": 60
        },
        "plot_bgcolor": "white",
        "template": {
         "data": {
          "bar": [
           {
            "error_x": {
             "color": "#2a3f5f"
            },
            "error_y": {
             "color": "#2a3f5f"
            },
            "marker": {
             "line": {
              "color": "#E5ECF6",
              "width": 0.5
             },
             "pattern": {
              "fillmode": "overlay",
              "size": 10,
              "solidity": 0.2
             }
            },
            "type": "bar"
           }
          ],
          "barpolar": [
           {
            "marker": {
             "line": {
              "color": "#E5ECF6",
              "width": 0.5
             },
             "pattern": {
              "fillmode": "overlay",
              "size": 10,
              "solidity": 0.2
             }
            },
            "type": "barpolar"
           }
          ],
          "carpet": [
           {
            "aaxis": {
             "endlinecolor": "#2a3f5f",
             "gridcolor": "white",
             "linecolor": "white",
             "minorgridcolor": "white",
             "startlinecolor": "#2a3f5f"
            },
            "baxis": {
             "endlinecolor": "#2a3f5f",
             "gridcolor": "white",
             "linecolor": "white",
             "minorgridcolor": "white",
             "startlinecolor": "#2a3f5f"
            },
            "type": "carpet"
           }
          ],
          "choropleth": [
           {
            "colorbar": {
             "outlinewidth": 0,
             "ticks": ""
            },
            "type": "choropleth"
           }
          ],
          "contour": [
           {
            "colorbar": {
             "outlinewidth": 0,
             "ticks": ""
            },
            "colorscale": [
             [
              0,
              "#0d0887"
             ],
             [
              0.1111111111111111,
              "#46039f"
             ],
             [
              0.2222222222222222,
              "#7201a8"
             ],
             [
              0.3333333333333333,
              "#9c179e"
             ],
             [
              0.4444444444444444,
              "#bd3786"
             ],
             [
              0.5555555555555556,
              "#d8576b"
             ],
             [
              0.6666666666666666,
              "#ed7953"
             ],
             [
              0.7777777777777778,
              "#fb9f3a"
             ],
             [
              0.8888888888888888,
              "#fdca26"
             ],
             [
              1,
              "#f0f921"
             ]
            ],
            "type": "contour"
           }
          ],
          "contourcarpet": [
           {
            "colorbar": {
             "outlinewidth": 0,
             "ticks": ""
            },
            "type": "contourcarpet"
           }
          ],
          "heatmap": [
           {
            "colorbar": {
             "outlinewidth": 0,
             "ticks": ""
            },
            "colorscale": [
             [
              0,
              "#0d0887"
             ],
             [
              0.1111111111111111,
              "#46039f"
             ],
             [
              0.2222222222222222,
              "#7201a8"
             ],
             [
              0.3333333333333333,
              "#9c179e"
             ],
             [
              0.4444444444444444,
              "#bd3786"
             ],
             [
              0.5555555555555556,
              "#d8576b"
             ],
             [
              0.6666666666666666,
              "#ed7953"
             ],
             [
              0.7777777777777778,
              "#fb9f3a"
             ],
             [
              0.8888888888888888,
              "#fdca26"
             ],
             [
              1,
              "#f0f921"
             ]
            ],
            "type": "heatmap"
           }
          ],
          "heatmapgl": [
           {
            "colorbar": {
             "outlinewidth": 0,
             "ticks": ""
            },
            "colorscale": [
             [
              0,
              "#0d0887"
             ],
             [
              0.1111111111111111,
              "#46039f"
             ],
             [
              0.2222222222222222,
              "#7201a8"
             ],
             [
              0.3333333333333333,
              "#9c179e"
             ],
             [
              0.4444444444444444,
              "#bd3786"
             ],
             [
              0.5555555555555556,
              "#d8576b"
             ],
             [
              0.6666666666666666,
              "#ed7953"
             ],
             [
              0.7777777777777778,
              "#fb9f3a"
             ],
             [
              0.8888888888888888,
              "#fdca26"
             ],
             [
              1,
              "#f0f921"
             ]
            ],
            "type": "heatmapgl"
           }
          ],
          "histogram": [
           {
            "marker": {
             "pattern": {
              "fillmode": "overlay",
              "size": 10,
              "solidity": 0.2
             }
            },
            "type": "histogram"
           }
          ],
          "histogram2d": [
           {
            "colorbar": {
             "outlinewidth": 0,
             "ticks": ""
            },
            "colorscale": [
             [
              0,
              "#0d0887"
             ],
             [
              0.1111111111111111,
              "#46039f"
             ],
             [
              0.2222222222222222,
              "#7201a8"
             ],
             [
              0.3333333333333333,
              "#9c179e"
             ],
             [
              0.4444444444444444,
              "#bd3786"
             ],
             [
              0.5555555555555556,
              "#d8576b"
             ],
             [
              0.6666666666666666,
              "#ed7953"
             ],
             [
              0.7777777777777778,
              "#fb9f3a"
             ],
             [
              0.8888888888888888,
              "#fdca26"
             ],
             [
              1,
              "#f0f921"
             ]
            ],
            "type": "histogram2d"
           }
          ],
          "histogram2dcontour": [
           {
            "colorbar": {
             "outlinewidth": 0,
             "ticks": ""
            },
            "colorscale": [
             [
              0,
              "#0d0887"
             ],
             [
              0.1111111111111111,
              "#46039f"
             ],
             [
              0.2222222222222222,
              "#7201a8"
             ],
             [
              0.3333333333333333,
              "#9c179e"
             ],
             [
              0.4444444444444444,
              "#bd3786"
             ],
             [
              0.5555555555555556,
              "#d8576b"
             ],
             [
              0.6666666666666666,
              "#ed7953"
             ],
             [
              0.7777777777777778,
              "#fb9f3a"
             ],
             [
              0.8888888888888888,
              "#fdca26"
             ],
             [
              1,
              "#f0f921"
             ]
            ],
            "type": "histogram2dcontour"
           }
          ],
          "mesh3d": [
           {
            "colorbar": {
             "outlinewidth": 0,
             "ticks": ""
            },
            "type": "mesh3d"
           }
          ],
          "parcoords": [
           {
            "line": {
             "colorbar": {
              "outlinewidth": 0,
              "ticks": ""
             }
            },
            "type": "parcoords"
           }
          ],
          "pie": [
           {
            "automargin": true,
            "type": "pie"
           }
          ],
          "scatter": [
           {
            "marker": {
             "colorbar": {
              "outlinewidth": 0,
              "ticks": ""
             }
            },
            "type": "scatter"
           }
          ],
          "scatter3d": [
           {
            "line": {
             "colorbar": {
              "outlinewidth": 0,
              "ticks": ""
             }
            },
            "marker": {
             "colorbar": {
              "outlinewidth": 0,
              "ticks": ""
             }
            },
            "type": "scatter3d"
           }
          ],
          "scattercarpet": [
           {
            "marker": {
             "colorbar": {
              "outlinewidth": 0,
              "ticks": ""
             }
            },
            "type": "scattercarpet"
           }
          ],
          "scattergeo": [
           {
            "marker": {
             "colorbar": {
              "outlinewidth": 0,
              "ticks": ""
             }
            },
            "type": "scattergeo"
           }
          ],
          "scattergl": [
           {
            "marker": {
             "colorbar": {
              "outlinewidth": 0,
              "ticks": ""
             }
            },
            "type": "scattergl"
           }
          ],
          "scattermapbox": [
           {
            "marker": {
             "colorbar": {
              "outlinewidth": 0,
              "ticks": ""
             }
            },
            "type": "scattermapbox"
           }
          ],
          "scatterpolar": [
           {
            "marker": {
             "colorbar": {
              "outlinewidth": 0,
              "ticks": ""
             }
            },
            "type": "scatterpolar"
           }
          ],
          "scatterpolargl": [
           {
            "marker": {
             "colorbar": {
              "outlinewidth": 0,
              "ticks": ""
             }
            },
            "type": "scatterpolargl"
           }
          ],
          "scatterternary": [
           {
            "marker": {
             "colorbar": {
              "outlinewidth": 0,
              "ticks": ""
             }
            },
            "type": "scatterternary"
           }
          ],
          "surface": [
           {
            "colorbar": {
             "outlinewidth": 0,
             "ticks": ""
            },
            "colorscale": [
             [
              0,
              "#0d0887"
             ],
             [
              0.1111111111111111,
              "#46039f"
             ],
             [
              0.2222222222222222,
              "#7201a8"
             ],
             [
              0.3333333333333333,
              "#9c179e"
             ],
             [
              0.4444444444444444,
              "#bd3786"
             ],
             [
              0.5555555555555556,
              "#d8576b"
             ],
             [
              0.6666666666666666,
              "#ed7953"
             ],
             [
              0.7777777777777778,
              "#fb9f3a"
             ],
             [
              0.8888888888888888,
              "#fdca26"
             ],
             [
              1,
              "#f0f921"
             ]
            ],
            "type": "surface"
           }
          ],
          "table": [
           {
            "cells": {
             "fill": {
              "color": "#EBF0F8"
             },
             "line": {
              "color": "white"
             }
            },
            "header": {
             "fill": {
              "color": "#C8D4E3"
             },
             "line": {
              "color": "white"
             }
            },
            "type": "table"
           }
          ]
         },
         "layout": {
          "annotationdefaults": {
           "arrowcolor": "#2a3f5f",
           "arrowhead": 0,
           "arrowwidth": 1
          },
          "autotypenumbers": "strict",
          "coloraxis": {
           "colorbar": {
            "outlinewidth": 0,
            "ticks": ""
           }
          },
          "colorscale": {
           "diverging": [
            [
             0,
             "#8e0152"
            ],
            [
             0.1,
             "#c51b7d"
            ],
            [
             0.2,
             "#de77ae"
            ],
            [
             0.3,
             "#f1b6da"
            ],
            [
             0.4,
             "#fde0ef"
            ],
            [
             0.5,
             "#f7f7f7"
            ],
            [
             0.6,
             "#e6f5d0"
            ],
            [
             0.7,
             "#b8e186"
            ],
            [
             0.8,
             "#7fbc41"
            ],
            [
             0.9,
             "#4d9221"
            ],
            [
             1,
             "#276419"
            ]
           ],
           "sequential": [
            [
             0,
             "#0d0887"
            ],
            [
             0.1111111111111111,
             "#46039f"
            ],
            [
             0.2222222222222222,
             "#7201a8"
            ],
            [
             0.3333333333333333,
             "#9c179e"
            ],
            [
             0.4444444444444444,
             "#bd3786"
            ],
            [
             0.5555555555555556,
             "#d8576b"
            ],
            [
             0.6666666666666666,
             "#ed7953"
            ],
            [
             0.7777777777777778,
             "#fb9f3a"
            ],
            [
             0.8888888888888888,
             "#fdca26"
            ],
            [
             1,
             "#f0f921"
            ]
           ],
           "sequentialminus": [
            [
             0,
             "#0d0887"
            ],
            [
             0.1111111111111111,
             "#46039f"
            ],
            [
             0.2222222222222222,
             "#7201a8"
            ],
            [
             0.3333333333333333,
             "#9c179e"
            ],
            [
             0.4444444444444444,
             "#bd3786"
            ],
            [
             0.5555555555555556,
             "#d8576b"
            ],
            [
             0.6666666666666666,
             "#ed7953"
            ],
            [
             0.7777777777777778,
             "#fb9f3a"
            ],
            [
             0.8888888888888888,
             "#fdca26"
            ],
            [
             1,
             "#f0f921"
            ]
           ]
          },
          "colorway": [
           "#636efa",
           "#EF553B",
           "#00cc96",
           "#ab63fa",
           "#FFA15A",
           "#19d3f3",
           "#FF6692",
           "#B6E880",
           "#FF97FF",
           "#FECB52"
          ],
          "font": {
           "color": "#2a3f5f"
          },
          "geo": {
           "bgcolor": "white",
           "lakecolor": "white",
           "landcolor": "#E5ECF6",
           "showlakes": true,
           "showland": true,
           "subunitcolor": "white"
          },
          "hoverlabel": {
           "align": "left"
          },
          "hovermode": "closest",
          "mapbox": {
           "style": "light"
          },
          "paper_bgcolor": "white",
          "plot_bgcolor": "#E5ECF6",
          "polar": {
           "angularaxis": {
            "gridcolor": "white",
            "linecolor": "white",
            "ticks": ""
           },
           "bgcolor": "#E5ECF6",
           "radialaxis": {
            "gridcolor": "white",
            "linecolor": "white",
            "ticks": ""
           }
          },
          "scene": {
           "xaxis": {
            "backgroundcolor": "#E5ECF6",
            "gridcolor": "white",
            "gridwidth": 2,
            "linecolor": "white",
            "showbackground": true,
            "ticks": "",
            "zerolinecolor": "white"
           },
           "yaxis": {
            "backgroundcolor": "#E5ECF6",
            "gridcolor": "white",
            "gridwidth": 2,
            "linecolor": "white",
            "showbackground": true,
            "ticks": "",
            "zerolinecolor": "white"
           },
           "zaxis": {
            "backgroundcolor": "#E5ECF6",
            "gridcolor": "white",
            "gridwidth": 2,
            "linecolor": "white",
            "showbackground": true,
            "ticks": "",
            "zerolinecolor": "white"
           }
          },
          "shapedefaults": {
           "line": {
            "color": "#2a3f5f"
           }
          },
          "ternary": {
           "aaxis": {
            "gridcolor": "white",
            "linecolor": "white",
            "ticks": ""
           },
           "baxis": {
            "gridcolor": "white",
            "linecolor": "white",
            "ticks": ""
           },
           "bgcolor": "#E5ECF6",
           "caxis": {
            "gridcolor": "white",
            "linecolor": "white",
            "ticks": ""
           }
          },
          "title": {
           "x": 0.05
          },
          "xaxis": {
           "automargin": true,
           "gridcolor": "white",
           "linecolor": "white",
           "ticks": "",
           "title": {
            "standoff": 15
           },
           "zerolinecolor": "white",
           "zerolinewidth": 2
          },
          "yaxis": {
           "automargin": true,
           "gridcolor": "white",
           "linecolor": "white",
           "ticks": "",
           "title": {
            "standoff": 15
           },
           "zerolinecolor": "white",
           "zerolinewidth": 2
          }
         }
        },
        "title": {
         "text": "Comparision between original vs predicted GDP"
        },
        "xaxis": {
         "anchor": "y",
         "domain": [
          0,
          1
         ],
         "showgrid": false,
         "title": {
          "text": "Date"
         }
        },
        "yaxis": {
         "anchor": "x",
         "domain": [
          0,
          1
         ],
         "showgrid": false,
         "title": {
          "text": "GDP"
         }
        }
       }
      },
      "text/html": [
       "<div>                            <div id=\"c03a7895-720b-4024-96eb-9acd1b8f838f\" class=\"plotly-graph-div\" style=\"height:525px; width:100%;\"></div>            <script type=\"text/javascript\">                require([\"plotly\"], function(Plotly) {                    window.PLOTLYENV=window.PLOTLYENV || {};                                    if (document.getElementById(\"c03a7895-720b-4024-96eb-9acd1b8f838f\")) {                    Plotly.newPlot(                        \"c03a7895-720b-4024-96eb-9acd1b8f838f\",                        [{\"hovertemplate\":\"variable=original<br>Date=%{x}<br>GDP=%{y}<extra></extra>\",\"legendgroup\":\"original\",\"line\":{\"color\":\"#636efa\",\"dash\":\"solid\"},\"marker\":{\"symbol\":\"circle\"},\"mode\":\"lines\",\"name\":\"Original GDP\",\"orientation\":\"v\",\"showlegend\":true,\"type\":\"scatter\",\"x\":[\"1992-01\",\"1992-03\",\"1992-02\",\"1992-04\",\"1993-01\",\"1993-03\",\"1993-02\",\"1993-04\",\"1994-01\",\"1994-03\",\"1994-02\",\"1994-04\",\"1995-01\",\"1995-03\",\"1995-02\",\"1995-04\",\"1996-01\",\"1996-03\",\"1996-02\",\"1996-04\",\"1997-01\",\"1997-03\",\"1997-02\",\"1997-04\",\"1998-01\",\"1998-03\",\"1998-02\",\"1998-04\",\"1999-01\",\"1999-03\",\"1999-02\",\"1999-04\",\"2000-01\",\"2000-03\",\"2000-02\",\"2000-04\",\"2001-01\",\"2001-03\",\"2001-02\",\"2001-04\",\"2002-01\",\"2002-03\",\"2002-02\",\"2002-04\",\"2003-01\",\"2003-03\",\"2003-02\",\"2003-04\",\"2004-01\",\"2004-03\",\"2004-02\",\"2004-04\",\"2005-01\",\"2005-03\",\"2005-02\",\"2005-04\",\"2006-01\",\"2006-03\",\"2006-02\",\"2006-04\",\"2007-01\",\"2007-03\",\"2007-02\",\"2007-04\",\"2008-01\",\"2008-03\",\"2008-02\",\"2008-04\",\"2009-01\",\"2009-03\",\"2009-02\",\"2009-04\",\"2010-01\",\"2010-03\",\"2010-02\",\"2010-04\",\"2011-01\",\"2011-03\",\"2011-02\",\"2011-04\",\"2012-01\",\"2012-03\",\"2012-02\",\"2012-04\",\"2013-01\",\"2013-03\",\"2013-02\",\"2013-04\",\"2014-01\",\"2014-03\",\"2014-02\",\"2014-04\",\"2015-01\",\"2015-03\",\"2015-02\",\"2015-04\",\"2016-01\",\"2016-03\",\"2016-02\",\"2016-04\",\"2017-01\",\"2017-03\",\"2017-02\",\"2017-04\",\"2018-01\",\"2018-03\",\"2018-02\",\"2018-04\",\"2019-01\",\"2019-03\",\"2019-02\",\"2019-04\",\"2020-01\",\"2020-03\",\"2020-02\",\"2020-04\",\"2021-01\",\"2021-02\"],\"xaxis\":\"x\",\"y\":[8.568418483491683,8.88080799870062,8.777139149521213,9.01855012831997,8.82975322513392,9.146953187795779,9.030854790001436,9.314330949697387,9.14581251744839,9.462498888358917,9.348448774093812,9.61000871123717,9.401927206546171,9.690548012766707,9.589659979229449,9.822884688004029,9.590692779269272,9.83122863905005,9.749607669373477,9.972659074730759,9.72251109069621,9.92822406660184,9.860767925315967,10.058844647209407,9.800851101022056,9.988545355876102,9.918208663317522,10.129594708034045,9.871062496510973,10.045455754980866,9.978952104119747,10.188061048366206,9.96786512322187,10.154732533961212,10.08761580959715,10.281728763721851,10.089402644840213,10.251793070333063,10.193414603137649,10.364601787935946,10.177134086023445,10.350008227884317,10.281745890206077,10.462254408802437,10.303119011284942,10.471408754834638,10.390142402530184,10.590802760153148,10.450006521756132,10.641966543094156,10.56361555063884,10.752351329093536,10.607903501359239,10.779951627710286,10.709809388683965,10.897198479378416,10.759580196615278,10.93426165994871,10.871863964777127,11.060708314311007,10.953597385642714,11.148824444423333,11.078776891401473,11.273008269355648,11.147261670664934,11.320069818969348,11.273548359633745,11.39300389427696,11.211539251594534,11.405862389668808,11.336973181223643,11.521149554250135,11.379408929378197,11.570851861613654,11.506378077531833,11.689453605623394,11.556654270618498,11.748489165909815,11.686003599325709,11.835096641454994,11.67298096271001,11.835658028813604,11.785396940596867,11.93039819220267,11.771046895178772,11.933099859149294,11.874220619280585,12.030362981915275,11.854810170576314,12.016634022395847,11.96074483308008,12.105306559299084,11.925947944075642,12.081629543284627,12.03498594077335,12.16823006231944,11.997879281168649,12.160084202871044,12.108505019610634,12.262293230857516,12.11103477864532,12.26805775323056,12.215776906506672,12.369163386512597,12.21619969344123,12.365101265979783,12.319232566597293,12.46384523050753,12.288427907955786,12.433392663254265,12.39463551806236,12.531043277266022,12.234305326142541,12.48739566700664,12.425148334298969,12.599120308626903,12.426452782128628,12.5526981627059],\"yaxis\":\"y\"},{\"hovertemplate\":\"variable=train_predicted_close<br>Date=%{x}<br>GDP=%{y}<extra></extra>\",\"legendgroup\":\"train_predicted_close\",\"line\":{\"color\":\"#EF553B\",\"dash\":\"solid\"},\"marker\":{\"symbol\":\"circle\"},\"mode\":\"lines\",\"name\":\"Train predicted GDP\",\"orientation\":\"v\",\"showlegend\":true,\"type\":\"scatter\",\"x\":[\"1992-01\",\"1992-03\",\"1992-02\",\"1992-04\",\"1993-01\",\"1993-03\",\"1993-02\",\"1993-04\",\"1994-01\",\"1994-03\",\"1994-02\",\"1994-04\",\"1995-01\",\"1995-03\",\"1995-02\",\"1995-04\",\"1996-01\",\"1996-03\",\"1996-02\",\"1996-04\",\"1997-01\",\"1997-03\",\"1997-02\",\"1997-04\",\"1998-01\",\"1998-03\",\"1998-02\",\"1998-04\",\"1999-01\",\"1999-03\",\"1999-02\",\"1999-04\",\"2000-01\",\"2000-03\",\"2000-02\",\"2000-04\",\"2001-01\",\"2001-03\",\"2001-02\",\"2001-04\",\"2002-01\",\"2002-03\",\"2002-02\",\"2002-04\",\"2003-01\",\"2003-03\",\"2003-02\",\"2003-04\",\"2004-01\",\"2004-03\",\"2004-02\",\"2004-04\",\"2005-01\",\"2005-03\",\"2005-02\",\"2005-04\",\"2006-01\",\"2006-03\",\"2006-02\",\"2006-04\",\"2007-01\",\"2007-03\",\"2007-02\",\"2007-04\",\"2008-01\",\"2008-03\",\"2008-02\",\"2008-04\",\"2009-01\",\"2009-03\",\"2009-02\",\"2009-04\",\"2010-01\",\"2010-03\",\"2010-02\",\"2010-04\",\"2011-01\",\"2011-03\",\"2011-02\",\"2011-04\",\"2012-01\",\"2012-03\",\"2012-02\",\"2012-04\",\"2013-01\",\"2013-03\",\"2013-02\",\"2013-04\",\"2014-01\",\"2014-03\",\"2014-02\",\"2014-04\",\"2015-01\",\"2015-03\",\"2015-02\",\"2015-04\",\"2016-01\",\"2016-03\",\"2016-02\",\"2016-04\",\"2017-01\",\"2017-03\",\"2017-02\",\"2017-04\",\"2018-01\",\"2018-03\",\"2018-02\",\"2018-04\",\"2019-01\",\"2019-03\",\"2019-02\",\"2019-04\",\"2020-01\",\"2020-03\",\"2020-02\",\"2020-04\",\"2021-01\",\"2021-02\"],\"xaxis\":\"x\",\"y\":[null,null,null,null,null,null,null,null,null,null,9.436717987060547,9.469313621520996,9.4902925491333,9.519816398620605,9.539830207824707,9.570855140686035,9.5890531539917,9.618349075317383,9.641081809997559,9.686873435974121,9.714598655700684,9.759958267211914,9.78148078918457,9.831544876098633,9.85224437713623,9.88841438293457,9.897649765014648,9.93923282623291,9.953160285949707,9.979605674743652,9.978363990783691,10.012585639953613,10.022417068481445,10.043211936950684,10.03987979888916,10.07472038269043,10.088228225708008,10.114225387573242,10.114569664001465,10.154409408569336,10.17444133758545,10.20647144317627,10.212652206420898,10.253073692321777,10.271268844604492,10.301969528198242,10.309203147888184,10.34740924835205,10.367419242858887,10.39970588684082,10.41313362121582,10.458516120910645,10.485455513000488,10.52715015411377,10.54871940612793,10.598713874816895,10.630566596984863,10.679415702819824,10.704582214355469,10.755803108215332,10.785313606262207,10.832066535949707,10.858183860778809,10.912428855895996,10.9492769241333,11.003276824951172,11.03696346282959,11.09821605682373,11.14051342010498,11.196453094482422,11.228750228881836,11.280991554260254,11.308931350708008,11.351201057434082,11.369176864624023,null,null,null,null,null,null,null,null,null,null,null,null,null,null,null,null,null,null,null,null,null,null,null,null,null,null,null,null,null,null,null,null,null,null,null,null,null,null,null,null,null,null,null],\"yaxis\":\"y\"},{\"hovertemplate\":\"variable=test_predicted_close<br>Date=%{x}<br>GDP=%{y}<extra></extra>\",\"legendgroup\":\"test_predicted_close\",\"line\":{\"color\":\"#00cc96\",\"dash\":\"solid\"},\"marker\":{\"symbol\":\"circle\"},\"mode\":\"lines\",\"name\":\"Test predicted GDP\",\"orientation\":\"v\",\"showlegend\":true,\"type\":\"scatter\",\"x\":[\"1992-01\",\"1992-03\",\"1992-02\",\"1992-04\",\"1993-01\",\"1993-03\",\"1993-02\",\"1993-04\",\"1994-01\",\"1994-03\",\"1994-02\",\"1994-04\",\"1995-01\",\"1995-03\",\"1995-02\",\"1995-04\",\"1996-01\",\"1996-03\",\"1996-02\",\"1996-04\",\"1997-01\",\"1997-03\",\"1997-02\",\"1997-04\",\"1998-01\",\"1998-03\",\"1998-02\",\"1998-04\",\"1999-01\",\"1999-03\",\"1999-02\",\"1999-04\",\"2000-01\",\"2000-03\",\"2000-02\",\"2000-04\",\"2001-01\",\"2001-03\",\"2001-02\",\"2001-04\",\"2002-01\",\"2002-03\",\"2002-02\",\"2002-04\",\"2003-01\",\"2003-03\",\"2003-02\",\"2003-04\",\"2004-01\",\"2004-03\",\"2004-02\",\"2004-04\",\"2005-01\",\"2005-03\",\"2005-02\",\"2005-04\",\"2006-01\",\"2006-03\",\"2006-02\",\"2006-04\",\"2007-01\",\"2007-03\",\"2007-02\",\"2007-04\",\"2008-01\",\"2008-03\",\"2008-02\",\"2008-04\",\"2009-01\",\"2009-03\",\"2009-02\",\"2009-04\",\"2010-01\",\"2010-03\",\"2010-02\",\"2010-04\",\"2011-01\",\"2011-03\",\"2011-02\",\"2011-04\",\"2012-01\",\"2012-03\",\"2012-02\",\"2012-04\",\"2013-01\",\"2013-03\",\"2013-02\",\"2013-04\",\"2014-01\",\"2014-03\",\"2014-02\",\"2014-04\",\"2015-01\",\"2015-03\",\"2015-02\",\"2015-04\",\"2016-01\",\"2016-03\",\"2016-02\",\"2016-04\",\"2017-01\",\"2017-03\",\"2017-02\",\"2017-04\",\"2018-01\",\"2018-03\",\"2018-02\",\"2018-04\",\"2019-01\",\"2019-03\",\"2019-02\",\"2019-04\",\"2020-01\",\"2020-03\",\"2020-02\",\"2020-04\",\"2021-01\",\"2021-02\"],\"xaxis\":\"x\",\"y\":[null,null,null,null,null,null,null,null,null,null,null,null,null,null,null,null,null,null,null,null,null,null,null,null,null,null,null,null,null,null,null,null,null,null,null,null,null,null,null,null,null,null,null,null,null,null,null,null,null,null,null,null,null,null,null,null,null,null,null,null,null,null,null,null,null,null,null,null,null,null,null,null,null,null,null,null,null,null,null,null,null,null,null,null,null,null,11.809614181518555,11.852123260498047,11.869930267333984,11.899879455566406,11.910652160644531,11.949365615844727,11.967428207397461,11.995224952697754,12.003849983215332,12.039525032043457,12.054112434387207,12.07941722869873,12.083707809448242,12.117542266845703,12.13064193725586,12.154834747314453,12.160744667053223,12.19771671295166,12.215704917907715,12.243999481201172,12.256084442138672,12.2980318069458,12.319924354553223,12.352295875549316,12.364385604858398,12.402602195739746,12.420744895935059,12.446815490722656,12.451020240783691,12.480172157287598,12.489972114562988,null],\"yaxis\":\"y\"}],                        {\"font\":{\"color\":\"black\",\"size\":15},\"legend\":{\"title\":{\"text\":\"Close Price\"},\"tracegroupgap\":0},\"margin\":{\"t\":60},\"plot_bgcolor\":\"white\",\"template\":{\"data\":{\"bar\":[{\"error_x\":{\"color\":\"#2a3f5f\"},\"error_y\":{\"color\":\"#2a3f5f\"},\"marker\":{\"line\":{\"color\":\"#E5ECF6\",\"width\":0.5},\"pattern\":{\"fillmode\":\"overlay\",\"size\":10,\"solidity\":0.2}},\"type\":\"bar\"}],\"barpolar\":[{\"marker\":{\"line\":{\"color\":\"#E5ECF6\",\"width\":0.5},\"pattern\":{\"fillmode\":\"overlay\",\"size\":10,\"solidity\":0.2}},\"type\":\"barpolar\"}],\"carpet\":[{\"aaxis\":{\"endlinecolor\":\"#2a3f5f\",\"gridcolor\":\"white\",\"linecolor\":\"white\",\"minorgridcolor\":\"white\",\"startlinecolor\":\"#2a3f5f\"},\"baxis\":{\"endlinecolor\":\"#2a3f5f\",\"gridcolor\":\"white\",\"linecolor\":\"white\",\"minorgridcolor\":\"white\",\"startlinecolor\":\"#2a3f5f\"},\"type\":\"carpet\"}],\"choropleth\":[{\"colorbar\":{\"outlinewidth\":0,\"ticks\":\"\"},\"type\":\"choropleth\"}],\"contour\":[{\"colorbar\":{\"outlinewidth\":0,\"ticks\":\"\"},\"colorscale\":[[0.0,\"#0d0887\"],[0.1111111111111111,\"#46039f\"],[0.2222222222222222,\"#7201a8\"],[0.3333333333333333,\"#9c179e\"],[0.4444444444444444,\"#bd3786\"],[0.5555555555555556,\"#d8576b\"],[0.6666666666666666,\"#ed7953\"],[0.7777777777777778,\"#fb9f3a\"],[0.8888888888888888,\"#fdca26\"],[1.0,\"#f0f921\"]],\"type\":\"contour\"}],\"contourcarpet\":[{\"colorbar\":{\"outlinewidth\":0,\"ticks\":\"\"},\"type\":\"contourcarpet\"}],\"heatmap\":[{\"colorbar\":{\"outlinewidth\":0,\"ticks\":\"\"},\"colorscale\":[[0.0,\"#0d0887\"],[0.1111111111111111,\"#46039f\"],[0.2222222222222222,\"#7201a8\"],[0.3333333333333333,\"#9c179e\"],[0.4444444444444444,\"#bd3786\"],[0.5555555555555556,\"#d8576b\"],[0.6666666666666666,\"#ed7953\"],[0.7777777777777778,\"#fb9f3a\"],[0.8888888888888888,\"#fdca26\"],[1.0,\"#f0f921\"]],\"type\":\"heatmap\"}],\"heatmapgl\":[{\"colorbar\":{\"outlinewidth\":0,\"ticks\":\"\"},\"colorscale\":[[0.0,\"#0d0887\"],[0.1111111111111111,\"#46039f\"],[0.2222222222222222,\"#7201a8\"],[0.3333333333333333,\"#9c179e\"],[0.4444444444444444,\"#bd3786\"],[0.5555555555555556,\"#d8576b\"],[0.6666666666666666,\"#ed7953\"],[0.7777777777777778,\"#fb9f3a\"],[0.8888888888888888,\"#fdca26\"],[1.0,\"#f0f921\"]],\"type\":\"heatmapgl\"}],\"histogram\":[{\"marker\":{\"pattern\":{\"fillmode\":\"overlay\",\"size\":10,\"solidity\":0.2}},\"type\":\"histogram\"}],\"histogram2d\":[{\"colorbar\":{\"outlinewidth\":0,\"ticks\":\"\"},\"colorscale\":[[0.0,\"#0d0887\"],[0.1111111111111111,\"#46039f\"],[0.2222222222222222,\"#7201a8\"],[0.3333333333333333,\"#9c179e\"],[0.4444444444444444,\"#bd3786\"],[0.5555555555555556,\"#d8576b\"],[0.6666666666666666,\"#ed7953\"],[0.7777777777777778,\"#fb9f3a\"],[0.8888888888888888,\"#fdca26\"],[1.0,\"#f0f921\"]],\"type\":\"histogram2d\"}],\"histogram2dcontour\":[{\"colorbar\":{\"outlinewidth\":0,\"ticks\":\"\"},\"colorscale\":[[0.0,\"#0d0887\"],[0.1111111111111111,\"#46039f\"],[0.2222222222222222,\"#7201a8\"],[0.3333333333333333,\"#9c179e\"],[0.4444444444444444,\"#bd3786\"],[0.5555555555555556,\"#d8576b\"],[0.6666666666666666,\"#ed7953\"],[0.7777777777777778,\"#fb9f3a\"],[0.8888888888888888,\"#fdca26\"],[1.0,\"#f0f921\"]],\"type\":\"histogram2dcontour\"}],\"mesh3d\":[{\"colorbar\":{\"outlinewidth\":0,\"ticks\":\"\"},\"type\":\"mesh3d\"}],\"parcoords\":[{\"line\":{\"colorbar\":{\"outlinewidth\":0,\"ticks\":\"\"}},\"type\":\"parcoords\"}],\"pie\":[{\"automargin\":true,\"type\":\"pie\"}],\"scatter\":[{\"marker\":{\"colorbar\":{\"outlinewidth\":0,\"ticks\":\"\"}},\"type\":\"scatter\"}],\"scatter3d\":[{\"line\":{\"colorbar\":{\"outlinewidth\":0,\"ticks\":\"\"}},\"marker\":{\"colorbar\":{\"outlinewidth\":0,\"ticks\":\"\"}},\"type\":\"scatter3d\"}],\"scattercarpet\":[{\"marker\":{\"colorbar\":{\"outlinewidth\":0,\"ticks\":\"\"}},\"type\":\"scattercarpet\"}],\"scattergeo\":[{\"marker\":{\"colorbar\":{\"outlinewidth\":0,\"ticks\":\"\"}},\"type\":\"scattergeo\"}],\"scattergl\":[{\"marker\":{\"colorbar\":{\"outlinewidth\":0,\"ticks\":\"\"}},\"type\":\"scattergl\"}],\"scattermapbox\":[{\"marker\":{\"colorbar\":{\"outlinewidth\":0,\"ticks\":\"\"}},\"type\":\"scattermapbox\"}],\"scatterpolar\":[{\"marker\":{\"colorbar\":{\"outlinewidth\":0,\"ticks\":\"\"}},\"type\":\"scatterpolar\"}],\"scatterpolargl\":[{\"marker\":{\"colorbar\":{\"outlinewidth\":0,\"ticks\":\"\"}},\"type\":\"scatterpolargl\"}],\"scatterternary\":[{\"marker\":{\"colorbar\":{\"outlinewidth\":0,\"ticks\":\"\"}},\"type\":\"scatterternary\"}],\"surface\":[{\"colorbar\":{\"outlinewidth\":0,\"ticks\":\"\"},\"colorscale\":[[0.0,\"#0d0887\"],[0.1111111111111111,\"#46039f\"],[0.2222222222222222,\"#7201a8\"],[0.3333333333333333,\"#9c179e\"],[0.4444444444444444,\"#bd3786\"],[0.5555555555555556,\"#d8576b\"],[0.6666666666666666,\"#ed7953\"],[0.7777777777777778,\"#fb9f3a\"],[0.8888888888888888,\"#fdca26\"],[1.0,\"#f0f921\"]],\"type\":\"surface\"}],\"table\":[{\"cells\":{\"fill\":{\"color\":\"#EBF0F8\"},\"line\":{\"color\":\"white\"}},\"header\":{\"fill\":{\"color\":\"#C8D4E3\"},\"line\":{\"color\":\"white\"}},\"type\":\"table\"}]},\"layout\":{\"annotationdefaults\":{\"arrowcolor\":\"#2a3f5f\",\"arrowhead\":0,\"arrowwidth\":1},\"autotypenumbers\":\"strict\",\"coloraxis\":{\"colorbar\":{\"outlinewidth\":0,\"ticks\":\"\"}},\"colorscale\":{\"diverging\":[[0,\"#8e0152\"],[0.1,\"#c51b7d\"],[0.2,\"#de77ae\"],[0.3,\"#f1b6da\"],[0.4,\"#fde0ef\"],[0.5,\"#f7f7f7\"],[0.6,\"#e6f5d0\"],[0.7,\"#b8e186\"],[0.8,\"#7fbc41\"],[0.9,\"#4d9221\"],[1,\"#276419\"]],\"sequential\":[[0.0,\"#0d0887\"],[0.1111111111111111,\"#46039f\"],[0.2222222222222222,\"#7201a8\"],[0.3333333333333333,\"#9c179e\"],[0.4444444444444444,\"#bd3786\"],[0.5555555555555556,\"#d8576b\"],[0.6666666666666666,\"#ed7953\"],[0.7777777777777778,\"#fb9f3a\"],[0.8888888888888888,\"#fdca26\"],[1.0,\"#f0f921\"]],\"sequentialminus\":[[0.0,\"#0d0887\"],[0.1111111111111111,\"#46039f\"],[0.2222222222222222,\"#7201a8\"],[0.3333333333333333,\"#9c179e\"],[0.4444444444444444,\"#bd3786\"],[0.5555555555555556,\"#d8576b\"],[0.6666666666666666,\"#ed7953\"],[0.7777777777777778,\"#fb9f3a\"],[0.8888888888888888,\"#fdca26\"],[1.0,\"#f0f921\"]]},\"colorway\":[\"#636efa\",\"#EF553B\",\"#00cc96\",\"#ab63fa\",\"#FFA15A\",\"#19d3f3\",\"#FF6692\",\"#B6E880\",\"#FF97FF\",\"#FECB52\"],\"font\":{\"color\":\"#2a3f5f\"},\"geo\":{\"bgcolor\":\"white\",\"lakecolor\":\"white\",\"landcolor\":\"#E5ECF6\",\"showlakes\":true,\"showland\":true,\"subunitcolor\":\"white\"},\"hoverlabel\":{\"align\":\"left\"},\"hovermode\":\"closest\",\"mapbox\":{\"style\":\"light\"},\"paper_bgcolor\":\"white\",\"plot_bgcolor\":\"#E5ECF6\",\"polar\":{\"angularaxis\":{\"gridcolor\":\"white\",\"linecolor\":\"white\",\"ticks\":\"\"},\"bgcolor\":\"#E5ECF6\",\"radialaxis\":{\"gridcolor\":\"white\",\"linecolor\":\"white\",\"ticks\":\"\"}},\"scene\":{\"xaxis\":{\"backgroundcolor\":\"#E5ECF6\",\"gridcolor\":\"white\",\"gridwidth\":2,\"linecolor\":\"white\",\"showbackground\":true,\"ticks\":\"\",\"zerolinecolor\":\"white\"},\"yaxis\":{\"backgroundcolor\":\"#E5ECF6\",\"gridcolor\":\"white\",\"gridwidth\":2,\"linecolor\":\"white\",\"showbackground\":true,\"ticks\":\"\",\"zerolinecolor\":\"white\"},\"zaxis\":{\"backgroundcolor\":\"#E5ECF6\",\"gridcolor\":\"white\",\"gridwidth\":2,\"linecolor\":\"white\",\"showbackground\":true,\"ticks\":\"\",\"zerolinecolor\":\"white\"}},\"shapedefaults\":{\"line\":{\"color\":\"#2a3f5f\"}},\"ternary\":{\"aaxis\":{\"gridcolor\":\"white\",\"linecolor\":\"white\",\"ticks\":\"\"},\"baxis\":{\"gridcolor\":\"white\",\"linecolor\":\"white\",\"ticks\":\"\"},\"bgcolor\":\"#E5ECF6\",\"caxis\":{\"gridcolor\":\"white\",\"linecolor\":\"white\",\"ticks\":\"\"}},\"title\":{\"x\":0.05},\"xaxis\":{\"automargin\":true,\"gridcolor\":\"white\",\"linecolor\":\"white\",\"ticks\":\"\",\"title\":{\"standoff\":15},\"zerolinecolor\":\"white\",\"zerolinewidth\":2},\"yaxis\":{\"automargin\":true,\"gridcolor\":\"white\",\"linecolor\":\"white\",\"ticks\":\"\",\"title\":{\"standoff\":15},\"zerolinecolor\":\"white\",\"zerolinewidth\":2}}},\"title\":{\"text\":\"Comparision between original vs predicted GDP\"},\"xaxis\":{\"anchor\":\"y\",\"domain\":[0.0,1.0],\"showgrid\":false,\"title\":{\"text\":\"Date\"}},\"yaxis\":{\"anchor\":\"x\",\"domain\":[0.0,1.0],\"showgrid\":false,\"title\":{\"text\":\"GDP\"}}},                        {\"responsive\": true}                    ).then(function(){\n",
       "                            \n",
       "var gd = document.getElementById('c03a7895-720b-4024-96eb-9acd1b8f838f');\n",
       "var x = new MutationObserver(function (mutations, observer) {{\n",
       "        var display = window.getComputedStyle(gd).display;\n",
       "        if (!display || display === 'none') {{\n",
       "            console.log([gd, 'removed!']);\n",
       "            Plotly.purge(gd);\n",
       "            observer.disconnect();\n",
       "        }}\n",
       "}});\n",
       "\n",
       "// Listen for the removal of the full notebook cells\n",
       "var notebookContainer = gd.closest('#notebook-container');\n",
       "if (notebookContainer) {{\n",
       "    x.observe(notebookContainer, {childList: true});\n",
       "}}\n",
       "\n",
       "// Listen for the clearing of the current output cell\n",
       "var outputEl = gd.closest('.output');\n",
       "if (outputEl) {{\n",
       "    x.observe(outputEl, {childList: true});\n",
       "}}\n",
       "\n",
       "                        })                };                });            </script>        </div>"
      ]
     },
     "metadata": {},
     "output_type": "display_data"
    }
   ],
   "source": [
    "# shift train predictions for plotting\n",
    "\n",
    "look_back=time_step\n",
    "trainPredictPlot = np.empty_like(closedf)\n",
    "trainPredictPlot[:, :] = np.nan\n",
    "trainPredictPlot[look_back:len(train_predict)+look_back, :] = train_predict\n",
    "print(\"Train predicted data: \", trainPredictPlot.shape)\n",
    "\n",
    "# shift test predictions for plotting\n",
    "testPredictPlot = np.empty_like(closedf)\n",
    "testPredictPlot[:, :] = np.nan\n",
    "testPredictPlot[len(train_predict)+(look_back*2)+1:len(closedf)-1, :] = test_predict\n",
    "print(\"Test predicted data: \", testPredictPlot.shape)\n",
    "\n",
    "names = cycle(['Original GDP','Train predicted GDP','Test predicted GDP'])\n",
    "\n",
    "\n",
    "plotdf = pd.DataFrame({'date': df['Date'],\n",
    "                       'original': df['GDP'],\n",
    "                      'train_predicted_close': trainPredictPlot.reshape(1,-1)[0].tolist(),\n",
    "                      'test_predicted_close': testPredictPlot.reshape(1,-1)[0].tolist()})\n",
    "\n",
    "fig = px.line(plotdf,x=plotdf['date'], y=[plotdf['original'],plotdf['train_predicted_close'],\n",
    "                                          plotdf['test_predicted_close']],\n",
    "              labels={'value':'GDP','date': 'Date'})\n",
    "fig.update_layout(title_text='Comparision between original vs predicted GDP',\n",
    "                  plot_bgcolor='white', font_size=15, font_color='black', legend_title_text='Close Price')\n",
    "fig.for_each_trace(lambda t:  t.update(name = next(names)))\n",
    "\n",
    "fig.update_xaxes(showgrid=False)\n",
    "fig.update_yaxes(showgrid=False)\n",
    "fig.show()"
   ]
  },
  {
   "cell_type": "code",
   "execution_count": 174,
   "metadata": {},
   "outputs": [
    {
     "name": "stdout",
     "output_type": "stream",
     "text": [
      "Output of predicted next series of seasons:  20\n"
     ]
    }
   ],
   "source": [
    "x_input=test_data[len(test_data)-time_step:].reshape(1,-1)\n",
    "temp_input=list(x_input)\n",
    "temp_input=temp_input[0].tolist()\n",
    "\n",
    "from numpy import array\n",
    "\n",
    "lst_output=[]\n",
    "n_steps=time_step\n",
    "i=0\n",
    "pred_season = 20\n",
    "while(i<pred_season):\n",
    "    \n",
    "    if(len(temp_input)>time_step):\n",
    "        \n",
    "        x_input=np.array(temp_input[1:])\n",
    "        #print(\"{} day input {}\".format(i,x_input))\n",
    "        x_input = x_input.reshape(1,-1)\n",
    "        x_input = x_input.reshape((1, n_steps, 1))\n",
    "        \n",
    "        yhat = model.predict(x_input, verbose=0)\n",
    "        #print(\"{} season output {}\".format(i,yhat))\n",
    "        temp_input.extend(yhat[0].tolist())\n",
    "        temp_input=temp_input[1:]\n",
    "        #print(temp_input)\n",
    "       \n",
    "        lst_output.extend(yhat.tolist())\n",
    "        i=i+1\n",
    "        \n",
    "    else:\n",
    "        \n",
    "        x_input = x_input.reshape((1, n_steps,1))\n",
    "        yhat = model.predict(x_input, verbose=0)\n",
    "        temp_input.extend(yhat[0].tolist())\n",
    "        \n",
    "        lst_output.extend(yhat.tolist())\n",
    "        i=i+1\n",
    "               \n",
    "print(\"Output of predicted next series of seasons: \", len(lst_output))"
   ]
  },
  {
   "cell_type": "code",
   "execution_count": 175,
   "metadata": {},
   "outputs": [
    {
     "name": "stdout",
     "output_type": "stream",
     "text": [
      "[ 1  2  3  4  5  6  7  8  9 10 11 12 13 14 15 16 17 18 19 20 21 22 23 24\n",
      " 25 26 27 28 29 30 31 32 33 34 35 36 37 38 39 40]\n",
      "[41 42 43 44 45 46 47 48 49 50 51 52 53 54 55 56 57 58 59 60]\n"
     ]
    },
    {
     "data": {
      "application/vnd.plotly.v1+json": {
       "config": {
        "plotlyServerURL": "https://plot.ly"
       },
       "data": [
        {
         "hovertemplate": "variable=last_original_seasons_value<br>Timestamp=%{x}<br>Seasonal GDP=%{y}<extra></extra>",
         "legendgroup": "last_original_seasons_value",
         "line": {
          "color": "#636efa",
          "dash": "solid"
         },
         "marker": {
          "symbol": "circle"
         },
         "mode": "lines",
         "name": "last_original_seasons_value",
         "orientation": "v",
         "showlegend": true,
         "type": "scatter",
         "x": [
          0,
          1,
          2,
          3,
          4,
          5,
          6,
          7,
          8,
          9,
          10,
          11,
          12,
          13,
          14,
          15,
          16,
          17,
          18,
          19,
          20,
          21,
          22,
          23,
          24,
          25,
          26,
          27,
          28,
          29,
          30,
          31,
          32,
          33,
          34,
          35,
          36,
          37,
          38,
          39,
          40,
          41,
          42,
          43,
          44,
          45,
          46,
          47,
          48,
          49,
          50,
          51,
          52,
          53,
          54,
          55,
          56,
          57,
          58,
          59,
          60
         ],
         "xaxis": "x",
         "y": [
          11.748489165909815,
          11.686003599325709,
          11.835096641454994,
          11.67298096271001,
          11.835658028813604,
          11.785396940596867,
          11.93039819220267,
          11.771046895178772,
          11.933099859149294,
          11.874220619280585,
          12.030362981915275,
          11.854810170576314,
          12.016634022395847,
          11.96074483308008,
          12.105306559299084,
          11.925947944075642,
          12.081629543284627,
          12.03498594077335,
          12.16823006231944,
          11.997879281168649,
          12.160084202871044,
          12.108505019610634,
          12.262293230857516,
          12.11103477864532,
          12.26805775323056,
          12.215776906506672,
          12.369163386512597,
          12.21619969344123,
          12.365101265979783,
          12.319232566597293,
          12.46384523050753,
          12.288427907955786,
          12.433392663254265,
          12.39463551806236,
          12.531043277266022,
          12.234305326142541,
          12.48739566700664,
          12.425148334298969,
          12.599120308626903,
          12.426452782128628,
          12.5526981627059,
          12.50800748734764,
          12.537012214350316,
          12.545985978207947,
          12.563216604248566,
          12.561883224793387,
          12.608368436329185,
          12.617576202274984,
          12.638553744708933,
          12.635171525615236,
          12.660966531983464,
          12.669627492228365,
          12.687633160092842,
          12.703512147788446,
          12.720353571177283,
          12.73690093034033,
          12.755991080161685,
          12.770295478857426,
          12.785668022608611,
          12.800328950153268,
          12.818021333907915
         ],
         "yaxis": "y"
        },
        {
         "hovertemplate": "variable=next_predicted_seasons_value<br>Timestamp=%{x}<br>Seasonal GDP=%{y}<extra></extra>",
         "legendgroup": "next_predicted_seasons_value",
         "line": {
          "color": "#EF553B",
          "dash": "solid"
         },
         "marker": {
          "symbol": "circle"
         },
         "mode": "lines",
         "name": "next_predicted_seasons_value",
         "orientation": "v",
         "showlegend": true,
         "type": "scatter",
         "x": [
          0,
          1,
          2,
          3,
          4,
          5,
          6,
          7,
          8,
          9,
          10,
          11,
          12,
          13,
          14,
          15,
          16,
          17,
          18,
          19,
          20,
          21,
          22,
          23,
          24,
          25,
          26,
          27,
          28,
          29,
          30,
          31,
          32,
          33,
          34,
          35,
          36,
          37,
          38,
          39,
          40,
          41,
          42,
          43,
          44,
          45,
          46,
          47,
          48,
          49,
          50,
          51,
          52,
          53,
          54,
          55,
          56,
          57,
          58,
          59,
          60
         ],
         "xaxis": "x",
         "y": [
          11.748489165909815,
          11.686003599325709,
          11.835096641454994,
          11.67298096271001,
          11.835658028813604,
          11.785396940596867,
          11.93039819220267,
          11.771046895178772,
          11.933099859149294,
          11.874220619280585,
          12.030362981915275,
          11.854810170576314,
          12.016634022395847,
          11.96074483308008,
          12.105306559299084,
          11.925947944075642,
          12.081629543284627,
          12.03498594077335,
          12.16823006231944,
          11.997879281168649,
          12.160084202871044,
          12.108505019610634,
          12.262293230857516,
          12.11103477864532,
          12.26805775323056,
          12.215776906506672,
          12.369163386512597,
          12.21619969344123,
          12.365101265979783,
          12.319232566597293,
          12.46384523050753,
          12.288427907955786,
          12.433392663254265,
          12.39463551806236,
          12.531043277266022,
          12.234305326142541,
          12.48739566700664,
          12.425148334298969,
          12.599120308626903,
          12.426452782128628,
          12.5526981627059,
          12.50800748734764,
          12.537012214350316,
          12.545985978207947,
          12.563216604248566,
          12.561883224793387,
          12.608368436329185,
          12.617576202274984,
          12.638553744708933,
          12.635171525615236,
          12.660966531983464,
          12.669627492228365,
          12.687633160092842,
          12.703512147788446,
          12.720353571177283,
          12.73690093034033,
          12.755991080161685,
          12.770295478857426,
          12.785668022608611,
          12.800328950153268,
          12.818021333907915
         ],
         "yaxis": "y"
        }
       ],
       "layout": {
        "font": {
         "color": "black",
         "size": 15
        },
        "legend": {
         "title": {
          "text": "Seasons"
         },
         "tracegroupgap": 0
        },
        "margin": {
         "t": 60
        },
        "plot_bgcolor": "white",
        "template": {
         "data": {
          "bar": [
           {
            "error_x": {
             "color": "#2a3f5f"
            },
            "error_y": {
             "color": "#2a3f5f"
            },
            "marker": {
             "line": {
              "color": "#E5ECF6",
              "width": 0.5
             },
             "pattern": {
              "fillmode": "overlay",
              "size": 10,
              "solidity": 0.2
             }
            },
            "type": "bar"
           }
          ],
          "barpolar": [
           {
            "marker": {
             "line": {
              "color": "#E5ECF6",
              "width": 0.5
             },
             "pattern": {
              "fillmode": "overlay",
              "size": 10,
              "solidity": 0.2
             }
            },
            "type": "barpolar"
           }
          ],
          "carpet": [
           {
            "aaxis": {
             "endlinecolor": "#2a3f5f",
             "gridcolor": "white",
             "linecolor": "white",
             "minorgridcolor": "white",
             "startlinecolor": "#2a3f5f"
            },
            "baxis": {
             "endlinecolor": "#2a3f5f",
             "gridcolor": "white",
             "linecolor": "white",
             "minorgridcolor": "white",
             "startlinecolor": "#2a3f5f"
            },
            "type": "carpet"
           }
          ],
          "choropleth": [
           {
            "colorbar": {
             "outlinewidth": 0,
             "ticks": ""
            },
            "type": "choropleth"
           }
          ],
          "contour": [
           {
            "colorbar": {
             "outlinewidth": 0,
             "ticks": ""
            },
            "colorscale": [
             [
              0,
              "#0d0887"
             ],
             [
              0.1111111111111111,
              "#46039f"
             ],
             [
              0.2222222222222222,
              "#7201a8"
             ],
             [
              0.3333333333333333,
              "#9c179e"
             ],
             [
              0.4444444444444444,
              "#bd3786"
             ],
             [
              0.5555555555555556,
              "#d8576b"
             ],
             [
              0.6666666666666666,
              "#ed7953"
             ],
             [
              0.7777777777777778,
              "#fb9f3a"
             ],
             [
              0.8888888888888888,
              "#fdca26"
             ],
             [
              1,
              "#f0f921"
             ]
            ],
            "type": "contour"
           }
          ],
          "contourcarpet": [
           {
            "colorbar": {
             "outlinewidth": 0,
             "ticks": ""
            },
            "type": "contourcarpet"
           }
          ],
          "heatmap": [
           {
            "colorbar": {
             "outlinewidth": 0,
             "ticks": ""
            },
            "colorscale": [
             [
              0,
              "#0d0887"
             ],
             [
              0.1111111111111111,
              "#46039f"
             ],
             [
              0.2222222222222222,
              "#7201a8"
             ],
             [
              0.3333333333333333,
              "#9c179e"
             ],
             [
              0.4444444444444444,
              "#bd3786"
             ],
             [
              0.5555555555555556,
              "#d8576b"
             ],
             [
              0.6666666666666666,
              "#ed7953"
             ],
             [
              0.7777777777777778,
              "#fb9f3a"
             ],
             [
              0.8888888888888888,
              "#fdca26"
             ],
             [
              1,
              "#f0f921"
             ]
            ],
            "type": "heatmap"
           }
          ],
          "heatmapgl": [
           {
            "colorbar": {
             "outlinewidth": 0,
             "ticks": ""
            },
            "colorscale": [
             [
              0,
              "#0d0887"
             ],
             [
              0.1111111111111111,
              "#46039f"
             ],
             [
              0.2222222222222222,
              "#7201a8"
             ],
             [
              0.3333333333333333,
              "#9c179e"
             ],
             [
              0.4444444444444444,
              "#bd3786"
             ],
             [
              0.5555555555555556,
              "#d8576b"
             ],
             [
              0.6666666666666666,
              "#ed7953"
             ],
             [
              0.7777777777777778,
              "#fb9f3a"
             ],
             [
              0.8888888888888888,
              "#fdca26"
             ],
             [
              1,
              "#f0f921"
             ]
            ],
            "type": "heatmapgl"
           }
          ],
          "histogram": [
           {
            "marker": {
             "pattern": {
              "fillmode": "overlay",
              "size": 10,
              "solidity": 0.2
             }
            },
            "type": "histogram"
           }
          ],
          "histogram2d": [
           {
            "colorbar": {
             "outlinewidth": 0,
             "ticks": ""
            },
            "colorscale": [
             [
              0,
              "#0d0887"
             ],
             [
              0.1111111111111111,
              "#46039f"
             ],
             [
              0.2222222222222222,
              "#7201a8"
             ],
             [
              0.3333333333333333,
              "#9c179e"
             ],
             [
              0.4444444444444444,
              "#bd3786"
             ],
             [
              0.5555555555555556,
              "#d8576b"
             ],
             [
              0.6666666666666666,
              "#ed7953"
             ],
             [
              0.7777777777777778,
              "#fb9f3a"
             ],
             [
              0.8888888888888888,
              "#fdca26"
             ],
             [
              1,
              "#f0f921"
             ]
            ],
            "type": "histogram2d"
           }
          ],
          "histogram2dcontour": [
           {
            "colorbar": {
             "outlinewidth": 0,
             "ticks": ""
            },
            "colorscale": [
             [
              0,
              "#0d0887"
             ],
             [
              0.1111111111111111,
              "#46039f"
             ],
             [
              0.2222222222222222,
              "#7201a8"
             ],
             [
              0.3333333333333333,
              "#9c179e"
             ],
             [
              0.4444444444444444,
              "#bd3786"
             ],
             [
              0.5555555555555556,
              "#d8576b"
             ],
             [
              0.6666666666666666,
              "#ed7953"
             ],
             [
              0.7777777777777778,
              "#fb9f3a"
             ],
             [
              0.8888888888888888,
              "#fdca26"
             ],
             [
              1,
              "#f0f921"
             ]
            ],
            "type": "histogram2dcontour"
           }
          ],
          "mesh3d": [
           {
            "colorbar": {
             "outlinewidth": 0,
             "ticks": ""
            },
            "type": "mesh3d"
           }
          ],
          "parcoords": [
           {
            "line": {
             "colorbar": {
              "outlinewidth": 0,
              "ticks": ""
             }
            },
            "type": "parcoords"
           }
          ],
          "pie": [
           {
            "automargin": true,
            "type": "pie"
           }
          ],
          "scatter": [
           {
            "marker": {
             "colorbar": {
              "outlinewidth": 0,
              "ticks": ""
             }
            },
            "type": "scatter"
           }
          ],
          "scatter3d": [
           {
            "line": {
             "colorbar": {
              "outlinewidth": 0,
              "ticks": ""
             }
            },
            "marker": {
             "colorbar": {
              "outlinewidth": 0,
              "ticks": ""
             }
            },
            "type": "scatter3d"
           }
          ],
          "scattercarpet": [
           {
            "marker": {
             "colorbar": {
              "outlinewidth": 0,
              "ticks": ""
             }
            },
            "type": "scattercarpet"
           }
          ],
          "scattergeo": [
           {
            "marker": {
             "colorbar": {
              "outlinewidth": 0,
              "ticks": ""
             }
            },
            "type": "scattergeo"
           }
          ],
          "scattergl": [
           {
            "marker": {
             "colorbar": {
              "outlinewidth": 0,
              "ticks": ""
             }
            },
            "type": "scattergl"
           }
          ],
          "scattermapbox": [
           {
            "marker": {
             "colorbar": {
              "outlinewidth": 0,
              "ticks": ""
             }
            },
            "type": "scattermapbox"
           }
          ],
          "scatterpolar": [
           {
            "marker": {
             "colorbar": {
              "outlinewidth": 0,
              "ticks": ""
             }
            },
            "type": "scatterpolar"
           }
          ],
          "scatterpolargl": [
           {
            "marker": {
             "colorbar": {
              "outlinewidth": 0,
              "ticks": ""
             }
            },
            "type": "scatterpolargl"
           }
          ],
          "scatterternary": [
           {
            "marker": {
             "colorbar": {
              "outlinewidth": 0,
              "ticks": ""
             }
            },
            "type": "scatterternary"
           }
          ],
          "surface": [
           {
            "colorbar": {
             "outlinewidth": 0,
             "ticks": ""
            },
            "colorscale": [
             [
              0,
              "#0d0887"
             ],
             [
              0.1111111111111111,
              "#46039f"
             ],
             [
              0.2222222222222222,
              "#7201a8"
             ],
             [
              0.3333333333333333,
              "#9c179e"
             ],
             [
              0.4444444444444444,
              "#bd3786"
             ],
             [
              0.5555555555555556,
              "#d8576b"
             ],
             [
              0.6666666666666666,
              "#ed7953"
             ],
             [
              0.7777777777777778,
              "#fb9f3a"
             ],
             [
              0.8888888888888888,
              "#fdca26"
             ],
             [
              1,
              "#f0f921"
             ]
            ],
            "type": "surface"
           }
          ],
          "table": [
           {
            "cells": {
             "fill": {
              "color": "#EBF0F8"
             },
             "line": {
              "color": "white"
             }
            },
            "header": {
             "fill": {
              "color": "#C8D4E3"
             },
             "line": {
              "color": "white"
             }
            },
            "type": "table"
           }
          ]
         },
         "layout": {
          "annotationdefaults": {
           "arrowcolor": "#2a3f5f",
           "arrowhead": 0,
           "arrowwidth": 1
          },
          "autotypenumbers": "strict",
          "coloraxis": {
           "colorbar": {
            "outlinewidth": 0,
            "ticks": ""
           }
          },
          "colorscale": {
           "diverging": [
            [
             0,
             "#8e0152"
            ],
            [
             0.1,
             "#c51b7d"
            ],
            [
             0.2,
             "#de77ae"
            ],
            [
             0.3,
             "#f1b6da"
            ],
            [
             0.4,
             "#fde0ef"
            ],
            [
             0.5,
             "#f7f7f7"
            ],
            [
             0.6,
             "#e6f5d0"
            ],
            [
             0.7,
             "#b8e186"
            ],
            [
             0.8,
             "#7fbc41"
            ],
            [
             0.9,
             "#4d9221"
            ],
            [
             1,
             "#276419"
            ]
           ],
           "sequential": [
            [
             0,
             "#0d0887"
            ],
            [
             0.1111111111111111,
             "#46039f"
            ],
            [
             0.2222222222222222,
             "#7201a8"
            ],
            [
             0.3333333333333333,
             "#9c179e"
            ],
            [
             0.4444444444444444,
             "#bd3786"
            ],
            [
             0.5555555555555556,
             "#d8576b"
            ],
            [
             0.6666666666666666,
             "#ed7953"
            ],
            [
             0.7777777777777778,
             "#fb9f3a"
            ],
            [
             0.8888888888888888,
             "#fdca26"
            ],
            [
             1,
             "#f0f921"
            ]
           ],
           "sequentialminus": [
            [
             0,
             "#0d0887"
            ],
            [
             0.1111111111111111,
             "#46039f"
            ],
            [
             0.2222222222222222,
             "#7201a8"
            ],
            [
             0.3333333333333333,
             "#9c179e"
            ],
            [
             0.4444444444444444,
             "#bd3786"
            ],
            [
             0.5555555555555556,
             "#d8576b"
            ],
            [
             0.6666666666666666,
             "#ed7953"
            ],
            [
             0.7777777777777778,
             "#fb9f3a"
            ],
            [
             0.8888888888888888,
             "#fdca26"
            ],
            [
             1,
             "#f0f921"
            ]
           ]
          },
          "colorway": [
           "#636efa",
           "#EF553B",
           "#00cc96",
           "#ab63fa",
           "#FFA15A",
           "#19d3f3",
           "#FF6692",
           "#B6E880",
           "#FF97FF",
           "#FECB52"
          ],
          "font": {
           "color": "#2a3f5f"
          },
          "geo": {
           "bgcolor": "white",
           "lakecolor": "white",
           "landcolor": "#E5ECF6",
           "showlakes": true,
           "showland": true,
           "subunitcolor": "white"
          },
          "hoverlabel": {
           "align": "left"
          },
          "hovermode": "closest",
          "mapbox": {
           "style": "light"
          },
          "paper_bgcolor": "white",
          "plot_bgcolor": "#E5ECF6",
          "polar": {
           "angularaxis": {
            "gridcolor": "white",
            "linecolor": "white",
            "ticks": ""
           },
           "bgcolor": "#E5ECF6",
           "radialaxis": {
            "gridcolor": "white",
            "linecolor": "white",
            "ticks": ""
           }
          },
          "scene": {
           "xaxis": {
            "backgroundcolor": "#E5ECF6",
            "gridcolor": "white",
            "gridwidth": 2,
            "linecolor": "white",
            "showbackground": true,
            "ticks": "",
            "zerolinecolor": "white"
           },
           "yaxis": {
            "backgroundcolor": "#E5ECF6",
            "gridcolor": "white",
            "gridwidth": 2,
            "linecolor": "white",
            "showbackground": true,
            "ticks": "",
            "zerolinecolor": "white"
           },
           "zaxis": {
            "backgroundcolor": "#E5ECF6",
            "gridcolor": "white",
            "gridwidth": 2,
            "linecolor": "white",
            "showbackground": true,
            "ticks": "",
            "zerolinecolor": "white"
           }
          },
          "shapedefaults": {
           "line": {
            "color": "#2a3f5f"
           }
          },
          "ternary": {
           "aaxis": {
            "gridcolor": "white",
            "linecolor": "white",
            "ticks": ""
           },
           "baxis": {
            "gridcolor": "white",
            "linecolor": "white",
            "ticks": ""
           },
           "bgcolor": "#E5ECF6",
           "caxis": {
            "gridcolor": "white",
            "linecolor": "white",
            "ticks": ""
           }
          },
          "title": {
           "x": 0.05
          },
          "xaxis": {
           "automargin": true,
           "gridcolor": "white",
           "linecolor": "white",
           "ticks": "",
           "title": {
            "standoff": 15
           },
           "zerolinecolor": "white",
           "zerolinewidth": 2
          },
          "yaxis": {
           "automargin": true,
           "gridcolor": "white",
           "linecolor": "white",
           "ticks": "",
           "title": {
            "standoff": 15
           },
           "zerolinecolor": "white",
           "zerolinewidth": 2
          }
         }
        },
        "title": {
         "text": "Compare last 5 years vs next 5 years GDP"
        },
        "xaxis": {
         "anchor": "y",
         "domain": [
          0,
          1
         ],
         "showgrid": false,
         "title": {
          "text": "Timestamp"
         }
        },
        "yaxis": {
         "anchor": "x",
         "domain": [
          0,
          1
         ],
         "showgrid": false,
         "title": {
          "text": "Seasonal GDP"
         }
        }
       }
      },
      "text/html": [
       "<div>                            <div id=\"ab6c7358-5c75-44fc-bb83-ac8c13bb5803\" class=\"plotly-graph-div\" style=\"height:525px; width:100%;\"></div>            <script type=\"text/javascript\">                require([\"plotly\"], function(Plotly) {                    window.PLOTLYENV=window.PLOTLYENV || {};                                    if (document.getElementById(\"ab6c7358-5c75-44fc-bb83-ac8c13bb5803\")) {                    Plotly.newPlot(                        \"ab6c7358-5c75-44fc-bb83-ac8c13bb5803\",                        [{\"hovertemplate\":\"variable=last_original_seasons_value<br>Timestamp=%{x}<br>Seasonal GDP=%{y}<extra></extra>\",\"legendgroup\":\"last_original_seasons_value\",\"line\":{\"color\":\"#636efa\",\"dash\":\"solid\"},\"marker\":{\"symbol\":\"circle\"},\"mode\":\"lines\",\"name\":\"last_original_seasons_value\",\"orientation\":\"v\",\"showlegend\":true,\"type\":\"scatter\",\"x\":[0,1,2,3,4,5,6,7,8,9,10,11,12,13,14,15,16,17,18,19,20,21,22,23,24,25,26,27,28,29,30,31,32,33,34,35,36,37,38,39,40,41,42,43,44,45,46,47,48,49,50,51,52,53,54,55,56,57,58,59,60],\"xaxis\":\"x\",\"y\":[11.748489165909815,11.686003599325709,11.835096641454994,11.67298096271001,11.835658028813604,11.785396940596867,11.93039819220267,11.771046895178772,11.933099859149294,11.874220619280585,12.030362981915275,11.854810170576314,12.016634022395847,11.96074483308008,12.105306559299084,11.925947944075642,12.081629543284627,12.03498594077335,12.16823006231944,11.997879281168649,12.160084202871044,12.108505019610634,12.262293230857516,12.11103477864532,12.26805775323056,12.215776906506672,12.369163386512597,12.21619969344123,12.365101265979783,12.319232566597293,12.46384523050753,12.288427907955786,12.433392663254265,12.39463551806236,12.531043277266022,12.234305326142541,12.48739566700664,12.425148334298969,12.599120308626903,12.426452782128628,12.5526981627059,12.50800748734764,12.537012214350316,12.545985978207947,12.563216604248566,12.561883224793387,12.608368436329185,12.617576202274984,12.638553744708933,12.635171525615236,12.660966531983464,12.669627492228365,12.687633160092842,12.703512147788446,12.720353571177283,12.73690093034033,12.755991080161685,12.770295478857426,12.785668022608611,12.800328950153268,12.818021333907915],\"yaxis\":\"y\"},{\"hovertemplate\":\"variable=next_predicted_seasons_value<br>Timestamp=%{x}<br>Seasonal GDP=%{y}<extra></extra>\",\"legendgroup\":\"next_predicted_seasons_value\",\"line\":{\"color\":\"#EF553B\",\"dash\":\"solid\"},\"marker\":{\"symbol\":\"circle\"},\"mode\":\"lines\",\"name\":\"next_predicted_seasons_value\",\"orientation\":\"v\",\"showlegend\":true,\"type\":\"scatter\",\"x\":[0,1,2,3,4,5,6,7,8,9,10,11,12,13,14,15,16,17,18,19,20,21,22,23,24,25,26,27,28,29,30,31,32,33,34,35,36,37,38,39,40,41,42,43,44,45,46,47,48,49,50,51,52,53,54,55,56,57,58,59,60],\"xaxis\":\"x\",\"y\":[11.748489165909815,11.686003599325709,11.835096641454994,11.67298096271001,11.835658028813604,11.785396940596867,11.93039819220267,11.771046895178772,11.933099859149294,11.874220619280585,12.030362981915275,11.854810170576314,12.016634022395847,11.96074483308008,12.105306559299084,11.925947944075642,12.081629543284627,12.03498594077335,12.16823006231944,11.997879281168649,12.160084202871044,12.108505019610634,12.262293230857516,12.11103477864532,12.26805775323056,12.215776906506672,12.369163386512597,12.21619969344123,12.365101265979783,12.319232566597293,12.46384523050753,12.288427907955786,12.433392663254265,12.39463551806236,12.531043277266022,12.234305326142541,12.48739566700664,12.425148334298969,12.599120308626903,12.426452782128628,12.5526981627059,12.50800748734764,12.537012214350316,12.545985978207947,12.563216604248566,12.561883224793387,12.608368436329185,12.617576202274984,12.638553744708933,12.635171525615236,12.660966531983464,12.669627492228365,12.687633160092842,12.703512147788446,12.720353571177283,12.73690093034033,12.755991080161685,12.770295478857426,12.785668022608611,12.800328950153268,12.818021333907915],\"yaxis\":\"y\"}],                        {\"font\":{\"color\":\"black\",\"size\":15},\"legend\":{\"title\":{\"text\":\"Seasons\"},\"tracegroupgap\":0},\"margin\":{\"t\":60},\"plot_bgcolor\":\"white\",\"template\":{\"data\":{\"bar\":[{\"error_x\":{\"color\":\"#2a3f5f\"},\"error_y\":{\"color\":\"#2a3f5f\"},\"marker\":{\"line\":{\"color\":\"#E5ECF6\",\"width\":0.5},\"pattern\":{\"fillmode\":\"overlay\",\"size\":10,\"solidity\":0.2}},\"type\":\"bar\"}],\"barpolar\":[{\"marker\":{\"line\":{\"color\":\"#E5ECF6\",\"width\":0.5},\"pattern\":{\"fillmode\":\"overlay\",\"size\":10,\"solidity\":0.2}},\"type\":\"barpolar\"}],\"carpet\":[{\"aaxis\":{\"endlinecolor\":\"#2a3f5f\",\"gridcolor\":\"white\",\"linecolor\":\"white\",\"minorgridcolor\":\"white\",\"startlinecolor\":\"#2a3f5f\"},\"baxis\":{\"endlinecolor\":\"#2a3f5f\",\"gridcolor\":\"white\",\"linecolor\":\"white\",\"minorgridcolor\":\"white\",\"startlinecolor\":\"#2a3f5f\"},\"type\":\"carpet\"}],\"choropleth\":[{\"colorbar\":{\"outlinewidth\":0,\"ticks\":\"\"},\"type\":\"choropleth\"}],\"contour\":[{\"colorbar\":{\"outlinewidth\":0,\"ticks\":\"\"},\"colorscale\":[[0.0,\"#0d0887\"],[0.1111111111111111,\"#46039f\"],[0.2222222222222222,\"#7201a8\"],[0.3333333333333333,\"#9c179e\"],[0.4444444444444444,\"#bd3786\"],[0.5555555555555556,\"#d8576b\"],[0.6666666666666666,\"#ed7953\"],[0.7777777777777778,\"#fb9f3a\"],[0.8888888888888888,\"#fdca26\"],[1.0,\"#f0f921\"]],\"type\":\"contour\"}],\"contourcarpet\":[{\"colorbar\":{\"outlinewidth\":0,\"ticks\":\"\"},\"type\":\"contourcarpet\"}],\"heatmap\":[{\"colorbar\":{\"outlinewidth\":0,\"ticks\":\"\"},\"colorscale\":[[0.0,\"#0d0887\"],[0.1111111111111111,\"#46039f\"],[0.2222222222222222,\"#7201a8\"],[0.3333333333333333,\"#9c179e\"],[0.4444444444444444,\"#bd3786\"],[0.5555555555555556,\"#d8576b\"],[0.6666666666666666,\"#ed7953\"],[0.7777777777777778,\"#fb9f3a\"],[0.8888888888888888,\"#fdca26\"],[1.0,\"#f0f921\"]],\"type\":\"heatmap\"}],\"heatmapgl\":[{\"colorbar\":{\"outlinewidth\":0,\"ticks\":\"\"},\"colorscale\":[[0.0,\"#0d0887\"],[0.1111111111111111,\"#46039f\"],[0.2222222222222222,\"#7201a8\"],[0.3333333333333333,\"#9c179e\"],[0.4444444444444444,\"#bd3786\"],[0.5555555555555556,\"#d8576b\"],[0.6666666666666666,\"#ed7953\"],[0.7777777777777778,\"#fb9f3a\"],[0.8888888888888888,\"#fdca26\"],[1.0,\"#f0f921\"]],\"type\":\"heatmapgl\"}],\"histogram\":[{\"marker\":{\"pattern\":{\"fillmode\":\"overlay\",\"size\":10,\"solidity\":0.2}},\"type\":\"histogram\"}],\"histogram2d\":[{\"colorbar\":{\"outlinewidth\":0,\"ticks\":\"\"},\"colorscale\":[[0.0,\"#0d0887\"],[0.1111111111111111,\"#46039f\"],[0.2222222222222222,\"#7201a8\"],[0.3333333333333333,\"#9c179e\"],[0.4444444444444444,\"#bd3786\"],[0.5555555555555556,\"#d8576b\"],[0.6666666666666666,\"#ed7953\"],[0.7777777777777778,\"#fb9f3a\"],[0.8888888888888888,\"#fdca26\"],[1.0,\"#f0f921\"]],\"type\":\"histogram2d\"}],\"histogram2dcontour\":[{\"colorbar\":{\"outlinewidth\":0,\"ticks\":\"\"},\"colorscale\":[[0.0,\"#0d0887\"],[0.1111111111111111,\"#46039f\"],[0.2222222222222222,\"#7201a8\"],[0.3333333333333333,\"#9c179e\"],[0.4444444444444444,\"#bd3786\"],[0.5555555555555556,\"#d8576b\"],[0.6666666666666666,\"#ed7953\"],[0.7777777777777778,\"#fb9f3a\"],[0.8888888888888888,\"#fdca26\"],[1.0,\"#f0f921\"]],\"type\":\"histogram2dcontour\"}],\"mesh3d\":[{\"colorbar\":{\"outlinewidth\":0,\"ticks\":\"\"},\"type\":\"mesh3d\"}],\"parcoords\":[{\"line\":{\"colorbar\":{\"outlinewidth\":0,\"ticks\":\"\"}},\"type\":\"parcoords\"}],\"pie\":[{\"automargin\":true,\"type\":\"pie\"}],\"scatter\":[{\"marker\":{\"colorbar\":{\"outlinewidth\":0,\"ticks\":\"\"}},\"type\":\"scatter\"}],\"scatter3d\":[{\"line\":{\"colorbar\":{\"outlinewidth\":0,\"ticks\":\"\"}},\"marker\":{\"colorbar\":{\"outlinewidth\":0,\"ticks\":\"\"}},\"type\":\"scatter3d\"}],\"scattercarpet\":[{\"marker\":{\"colorbar\":{\"outlinewidth\":0,\"ticks\":\"\"}},\"type\":\"scattercarpet\"}],\"scattergeo\":[{\"marker\":{\"colorbar\":{\"outlinewidth\":0,\"ticks\":\"\"}},\"type\":\"scattergeo\"}],\"scattergl\":[{\"marker\":{\"colorbar\":{\"outlinewidth\":0,\"ticks\":\"\"}},\"type\":\"scattergl\"}],\"scattermapbox\":[{\"marker\":{\"colorbar\":{\"outlinewidth\":0,\"ticks\":\"\"}},\"type\":\"scattermapbox\"}],\"scatterpolar\":[{\"marker\":{\"colorbar\":{\"outlinewidth\":0,\"ticks\":\"\"}},\"type\":\"scatterpolar\"}],\"scatterpolargl\":[{\"marker\":{\"colorbar\":{\"outlinewidth\":0,\"ticks\":\"\"}},\"type\":\"scatterpolargl\"}],\"scatterternary\":[{\"marker\":{\"colorbar\":{\"outlinewidth\":0,\"ticks\":\"\"}},\"type\":\"scatterternary\"}],\"surface\":[{\"colorbar\":{\"outlinewidth\":0,\"ticks\":\"\"},\"colorscale\":[[0.0,\"#0d0887\"],[0.1111111111111111,\"#46039f\"],[0.2222222222222222,\"#7201a8\"],[0.3333333333333333,\"#9c179e\"],[0.4444444444444444,\"#bd3786\"],[0.5555555555555556,\"#d8576b\"],[0.6666666666666666,\"#ed7953\"],[0.7777777777777778,\"#fb9f3a\"],[0.8888888888888888,\"#fdca26\"],[1.0,\"#f0f921\"]],\"type\":\"surface\"}],\"table\":[{\"cells\":{\"fill\":{\"color\":\"#EBF0F8\"},\"line\":{\"color\":\"white\"}},\"header\":{\"fill\":{\"color\":\"#C8D4E3\"},\"line\":{\"color\":\"white\"}},\"type\":\"table\"}]},\"layout\":{\"annotationdefaults\":{\"arrowcolor\":\"#2a3f5f\",\"arrowhead\":0,\"arrowwidth\":1},\"autotypenumbers\":\"strict\",\"coloraxis\":{\"colorbar\":{\"outlinewidth\":0,\"ticks\":\"\"}},\"colorscale\":{\"diverging\":[[0,\"#8e0152\"],[0.1,\"#c51b7d\"],[0.2,\"#de77ae\"],[0.3,\"#f1b6da\"],[0.4,\"#fde0ef\"],[0.5,\"#f7f7f7\"],[0.6,\"#e6f5d0\"],[0.7,\"#b8e186\"],[0.8,\"#7fbc41\"],[0.9,\"#4d9221\"],[1,\"#276419\"]],\"sequential\":[[0.0,\"#0d0887\"],[0.1111111111111111,\"#46039f\"],[0.2222222222222222,\"#7201a8\"],[0.3333333333333333,\"#9c179e\"],[0.4444444444444444,\"#bd3786\"],[0.5555555555555556,\"#d8576b\"],[0.6666666666666666,\"#ed7953\"],[0.7777777777777778,\"#fb9f3a\"],[0.8888888888888888,\"#fdca26\"],[1.0,\"#f0f921\"]],\"sequentialminus\":[[0.0,\"#0d0887\"],[0.1111111111111111,\"#46039f\"],[0.2222222222222222,\"#7201a8\"],[0.3333333333333333,\"#9c179e\"],[0.4444444444444444,\"#bd3786\"],[0.5555555555555556,\"#d8576b\"],[0.6666666666666666,\"#ed7953\"],[0.7777777777777778,\"#fb9f3a\"],[0.8888888888888888,\"#fdca26\"],[1.0,\"#f0f921\"]]},\"colorway\":[\"#636efa\",\"#EF553B\",\"#00cc96\",\"#ab63fa\",\"#FFA15A\",\"#19d3f3\",\"#FF6692\",\"#B6E880\",\"#FF97FF\",\"#FECB52\"],\"font\":{\"color\":\"#2a3f5f\"},\"geo\":{\"bgcolor\":\"white\",\"lakecolor\":\"white\",\"landcolor\":\"#E5ECF6\",\"showlakes\":true,\"showland\":true,\"subunitcolor\":\"white\"},\"hoverlabel\":{\"align\":\"left\"},\"hovermode\":\"closest\",\"mapbox\":{\"style\":\"light\"},\"paper_bgcolor\":\"white\",\"plot_bgcolor\":\"#E5ECF6\",\"polar\":{\"angularaxis\":{\"gridcolor\":\"white\",\"linecolor\":\"white\",\"ticks\":\"\"},\"bgcolor\":\"#E5ECF6\",\"radialaxis\":{\"gridcolor\":\"white\",\"linecolor\":\"white\",\"ticks\":\"\"}},\"scene\":{\"xaxis\":{\"backgroundcolor\":\"#E5ECF6\",\"gridcolor\":\"white\",\"gridwidth\":2,\"linecolor\":\"white\",\"showbackground\":true,\"ticks\":\"\",\"zerolinecolor\":\"white\"},\"yaxis\":{\"backgroundcolor\":\"#E5ECF6\",\"gridcolor\":\"white\",\"gridwidth\":2,\"linecolor\":\"white\",\"showbackground\":true,\"ticks\":\"\",\"zerolinecolor\":\"white\"},\"zaxis\":{\"backgroundcolor\":\"#E5ECF6\",\"gridcolor\":\"white\",\"gridwidth\":2,\"linecolor\":\"white\",\"showbackground\":true,\"ticks\":\"\",\"zerolinecolor\":\"white\"}},\"shapedefaults\":{\"line\":{\"color\":\"#2a3f5f\"}},\"ternary\":{\"aaxis\":{\"gridcolor\":\"white\",\"linecolor\":\"white\",\"ticks\":\"\"},\"baxis\":{\"gridcolor\":\"white\",\"linecolor\":\"white\",\"ticks\":\"\"},\"bgcolor\":\"#E5ECF6\",\"caxis\":{\"gridcolor\":\"white\",\"linecolor\":\"white\",\"ticks\":\"\"}},\"title\":{\"x\":0.05},\"xaxis\":{\"automargin\":true,\"gridcolor\":\"white\",\"linecolor\":\"white\",\"ticks\":\"\",\"title\":{\"standoff\":15},\"zerolinecolor\":\"white\",\"zerolinewidth\":2},\"yaxis\":{\"automargin\":true,\"gridcolor\":\"white\",\"linecolor\":\"white\",\"ticks\":\"\",\"title\":{\"standoff\":15},\"zerolinecolor\":\"white\",\"zerolinewidth\":2}}},\"title\":{\"text\":\"Compare last 5 years vs next 5 years GDP\"},\"xaxis\":{\"anchor\":\"y\",\"domain\":[0.0,1.0],\"showgrid\":false,\"title\":{\"text\":\"Timestamp\"}},\"yaxis\":{\"anchor\":\"x\",\"domain\":[0.0,1.0],\"showgrid\":false,\"title\":{\"text\":\"Seasonal GDP\"}}},                        {\"responsive\": true}                    ).then(function(){\n",
       "                            \n",
       "var gd = document.getElementById('ab6c7358-5c75-44fc-bb83-ac8c13bb5803');\n",
       "var x = new MutationObserver(function (mutations, observer) {{\n",
       "        var display = window.getComputedStyle(gd).display;\n",
       "        if (!display || display === 'none') {{\n",
       "            console.log([gd, 'removed!']);\n",
       "            Plotly.purge(gd);\n",
       "            observer.disconnect();\n",
       "        }}\n",
       "}});\n",
       "\n",
       "// Listen for the removal of the full notebook cells\n",
       "var notebookContainer = gd.closest('#notebook-container');\n",
       "if (notebookContainer) {{\n",
       "    x.observe(notebookContainer, {childList: true});\n",
       "}}\n",
       "\n",
       "// Listen for the clearing of the current output cell\n",
       "var outputEl = gd.closest('.output');\n",
       "if (outputEl) {{\n",
       "    x.observe(outputEl, {childList: true});\n",
       "}}\n",
       "\n",
       "                        })                };                });            </script>        </div>"
      ]
     },
     "metadata": {},
     "output_type": "display_data"
    }
   ],
   "source": [
    "last_seasons=np.arange(1,time_step*4+1)\n",
    "season_pred=np.arange(time_step*4+1,time_step*4+pred_season+1)\n",
    "print(last_seasons)\n",
    "print(season_pred)\n",
    "\n",
    "temp_mat = np.array((len(last_seasons)+season_pred+1,1),dtype=object)\n",
    "temp_mat[:] = np.nan\n",
    "temp_mat = temp_mat.reshape(1,-1).tolist()[0]\n",
    "\n",
    "last_original_seasons_value = temp_mat\n",
    "next_predicted_seasons_value = temp_mat\n",
    "\n",
    "last_original_seasons_value[0:time_step*4+1] = scaler.inverse_transform(closedf[len(closedf)-(time_step*4+1):]).reshape(1,-1).tolist()[0]\n",
    "next_predicted_seasons_value[time_step*4+1:] = scaler.inverse_transform(np.array(lst_output,dtype=object).reshape(-1,1)).reshape(1,-1).tolist()[0]\n",
    "\n",
    "new_pred_plot = pd.DataFrame({\n",
    "    'last_original_seasons_value':last_original_seasons_value,\n",
    "    'next_predicted_seasons_value':next_predicted_seasons_value\n",
    "})\n",
    "\n",
    "#names = cycle(['Last 20 seasons GDP','Predicted next 20 seasons GDP'])\n",
    "\n",
    "fig = px.line(new_pred_plot,x=new_pred_plot.index, y=[new_pred_plot['last_original_seasons_value'],\n",
    "                                                      new_pred_plot['next_predicted_seasons_value']],\n",
    "              labels={'value': 'Seasonal GDP','index': 'Timestamp'})\n",
    "fig.update_layout(title_text='Compare last 5 years vs next 5 years GDP',\n",
    "                  plot_bgcolor='white', font_size=15, font_color='black',legend_title_text='Seasons')\n",
    "\n",
    "#fig.for_each_trace(lambda t:  t.update(name = next(names)))\n",
    "fig.update_xaxes(showgrid=False)\n",
    "fig.update_yaxes(showgrid=False)\n",
    "fig.show()"
   ]
  },
  {
   "cell_type": "code",
   "execution_count": 176,
   "metadata": {},
   "outputs": [
    {
     "data": {
      "application/vnd.plotly.v1+json": {
       "config": {
        "plotlyServerURL": "https://plot.ly"
       },
       "data": [
        {
         "hovertemplate": "variable=0<br>Timestamp=%{x}<br>GDP=%{y}<extra></extra>",
         "legendgroup": "0",
         "line": {
          "color": "#636efa",
          "dash": "solid"
         },
         "marker": {
          "symbol": "circle"
         },
         "mode": "lines",
         "name": "GDP",
         "orientation": "v",
         "showlegend": true,
         "type": "scatter",
         "x": [
          0,
          1,
          2,
          3,
          4,
          5,
          6,
          7,
          8,
          9,
          10,
          11,
          12,
          13,
          14,
          15,
          16,
          17,
          18,
          19,
          20,
          21,
          22,
          23,
          24,
          25,
          26,
          27,
          28,
          29,
          30,
          31,
          32,
          33,
          34,
          35,
          36,
          37,
          38,
          39,
          40,
          41,
          42,
          43,
          44,
          45,
          46,
          47,
          48,
          49,
          50,
          51,
          52,
          53,
          54,
          55,
          56,
          57,
          58,
          59,
          60,
          61,
          62,
          63,
          64,
          65,
          66,
          67,
          68,
          69,
          70,
          71,
          72,
          73,
          74,
          75,
          76,
          77,
          78,
          79,
          80,
          81,
          82,
          83,
          84,
          85,
          86,
          87,
          88,
          89,
          90,
          91,
          92,
          93,
          94,
          95,
          96,
          97,
          98,
          99,
          100,
          101,
          102,
          103,
          104,
          105,
          106,
          107,
          108,
          109,
          110,
          111,
          112,
          113,
          114,
          115,
          116,
          117,
          118,
          119,
          120,
          121,
          122,
          123,
          124,
          125,
          126,
          127,
          128,
          129,
          130,
          131,
          132,
          133,
          134,
          135,
          136,
          137
         ],
         "xaxis": "x",
         "y": [
          8.568418483491683,
          8.88080799870062,
          8.777139149521213,
          9.01855012831997,
          8.82975322513392,
          9.146953187795779,
          9.030854790001436,
          9.314330949697387,
          9.14581251744839,
          9.462498888358917,
          9.348448774093812,
          9.61000871123717,
          9.401927206546171,
          9.690548012766707,
          9.589659979229449,
          9.822884688004029,
          9.590692779269272,
          9.83122863905005,
          9.749607669373477,
          9.972659074730759,
          9.72251109069621,
          9.92822406660184,
          9.860767925315967,
          10.058844647209407,
          9.800851101022056,
          9.988545355876102,
          9.918208663317522,
          10.129594708034045,
          9.871062496510973,
          10.045455754980866,
          9.978952104119747,
          10.188061048366206,
          9.96786512322187,
          10.154732533961212,
          10.08761580959715,
          10.281728763721851,
          10.089402644840213,
          10.251793070333063,
          10.193414603137649,
          10.364601787935946,
          10.177134086023445,
          10.350008227884317,
          10.281745890206077,
          10.462254408802437,
          10.303119011284942,
          10.471408754834638,
          10.390142402530184,
          10.590802760153148,
          10.450006521756132,
          10.641966543094156,
          10.56361555063884,
          10.752351329093536,
          10.607903501359239,
          10.779951627710286,
          10.709809388683965,
          10.897198479378416,
          10.759580196615278,
          10.93426165994871,
          10.871863964777127,
          11.060708314311007,
          10.953597385642714,
          11.148824444423333,
          11.078776891401473,
          11.273008269355648,
          11.147261670664934,
          11.320069818969348,
          11.273548359633745,
          11.39300389427696,
          11.211539251594534,
          11.405862389668808,
          11.336973181223643,
          11.521149554250135,
          11.379408929378197,
          11.570851861613654,
          11.506378077531833,
          11.689453605623394,
          11.556654270618498,
          11.748489165909815,
          11.686003599325709,
          11.835096641454994,
          11.67298096271001,
          11.835658028813604,
          11.785396940596867,
          11.93039819220267,
          11.771046895178772,
          11.933099859149294,
          11.874220619280585,
          12.030362981915275,
          11.854810170576314,
          12.016634022395847,
          11.96074483308008,
          12.105306559299084,
          11.925947944075642,
          12.081629543284627,
          12.03498594077335,
          12.16823006231944,
          11.997879281168649,
          12.160084202871044,
          12.108505019610634,
          12.262293230857516,
          12.11103477864532,
          12.26805775323056,
          12.215776906506672,
          12.369163386512597,
          12.21619969344123,
          12.365101265979783,
          12.319232566597293,
          12.46384523050753,
          12.288427907955786,
          12.433392663254265,
          12.39463551806236,
          12.531043277266022,
          12.234305326142541,
          12.48739566700664,
          12.425148334298969,
          12.599120308626903,
          12.426452782128628,
          12.5526981627059,
          12.50800748734764,
          12.537012214350316,
          12.545985978207947,
          12.563216604248566,
          12.561883224793387,
          12.608368436329185,
          12.617576202274984,
          12.638553744708933,
          12.635171525615236,
          12.660966531983464,
          12.669627492228365,
          12.687633160092842,
          12.703512147788446,
          12.720353571177283,
          12.73690093034033,
          12.755991080161685,
          12.770295478857426,
          12.785668022608611,
          12.800328950153268,
          12.818021333907915
         ],
         "yaxis": "y"
        }
       ],
       "layout": {
        "font": {
         "color": "black",
         "size": 15
        },
        "legend": {
         "title": {
          "text": "Seasonal GDP"
         },
         "tracegroupgap": 0
        },
        "margin": {
         "t": 60
        },
        "plot_bgcolor": "white",
        "template": {
         "data": {
          "bar": [
           {
            "error_x": {
             "color": "#2a3f5f"
            },
            "error_y": {
             "color": "#2a3f5f"
            },
            "marker": {
             "line": {
              "color": "#E5ECF6",
              "width": 0.5
             },
             "pattern": {
              "fillmode": "overlay",
              "size": 10,
              "solidity": 0.2
             }
            },
            "type": "bar"
           }
          ],
          "barpolar": [
           {
            "marker": {
             "line": {
              "color": "#E5ECF6",
              "width": 0.5
             },
             "pattern": {
              "fillmode": "overlay",
              "size": 10,
              "solidity": 0.2
             }
            },
            "type": "barpolar"
           }
          ],
          "carpet": [
           {
            "aaxis": {
             "endlinecolor": "#2a3f5f",
             "gridcolor": "white",
             "linecolor": "white",
             "minorgridcolor": "white",
             "startlinecolor": "#2a3f5f"
            },
            "baxis": {
             "endlinecolor": "#2a3f5f",
             "gridcolor": "white",
             "linecolor": "white",
             "minorgridcolor": "white",
             "startlinecolor": "#2a3f5f"
            },
            "type": "carpet"
           }
          ],
          "choropleth": [
           {
            "colorbar": {
             "outlinewidth": 0,
             "ticks": ""
            },
            "type": "choropleth"
           }
          ],
          "contour": [
           {
            "colorbar": {
             "outlinewidth": 0,
             "ticks": ""
            },
            "colorscale": [
             [
              0,
              "#0d0887"
             ],
             [
              0.1111111111111111,
              "#46039f"
             ],
             [
              0.2222222222222222,
              "#7201a8"
             ],
             [
              0.3333333333333333,
              "#9c179e"
             ],
             [
              0.4444444444444444,
              "#bd3786"
             ],
             [
              0.5555555555555556,
              "#d8576b"
             ],
             [
              0.6666666666666666,
              "#ed7953"
             ],
             [
              0.7777777777777778,
              "#fb9f3a"
             ],
             [
              0.8888888888888888,
              "#fdca26"
             ],
             [
              1,
              "#f0f921"
             ]
            ],
            "type": "contour"
           }
          ],
          "contourcarpet": [
           {
            "colorbar": {
             "outlinewidth": 0,
             "ticks": ""
            },
            "type": "contourcarpet"
           }
          ],
          "heatmap": [
           {
            "colorbar": {
             "outlinewidth": 0,
             "ticks": ""
            },
            "colorscale": [
             [
              0,
              "#0d0887"
             ],
             [
              0.1111111111111111,
              "#46039f"
             ],
             [
              0.2222222222222222,
              "#7201a8"
             ],
             [
              0.3333333333333333,
              "#9c179e"
             ],
             [
              0.4444444444444444,
              "#bd3786"
             ],
             [
              0.5555555555555556,
              "#d8576b"
             ],
             [
              0.6666666666666666,
              "#ed7953"
             ],
             [
              0.7777777777777778,
              "#fb9f3a"
             ],
             [
              0.8888888888888888,
              "#fdca26"
             ],
             [
              1,
              "#f0f921"
             ]
            ],
            "type": "heatmap"
           }
          ],
          "heatmapgl": [
           {
            "colorbar": {
             "outlinewidth": 0,
             "ticks": ""
            },
            "colorscale": [
             [
              0,
              "#0d0887"
             ],
             [
              0.1111111111111111,
              "#46039f"
             ],
             [
              0.2222222222222222,
              "#7201a8"
             ],
             [
              0.3333333333333333,
              "#9c179e"
             ],
             [
              0.4444444444444444,
              "#bd3786"
             ],
             [
              0.5555555555555556,
              "#d8576b"
             ],
             [
              0.6666666666666666,
              "#ed7953"
             ],
             [
              0.7777777777777778,
              "#fb9f3a"
             ],
             [
              0.8888888888888888,
              "#fdca26"
             ],
             [
              1,
              "#f0f921"
             ]
            ],
            "type": "heatmapgl"
           }
          ],
          "histogram": [
           {
            "marker": {
             "pattern": {
              "fillmode": "overlay",
              "size": 10,
              "solidity": 0.2
             }
            },
            "type": "histogram"
           }
          ],
          "histogram2d": [
           {
            "colorbar": {
             "outlinewidth": 0,
             "ticks": ""
            },
            "colorscale": [
             [
              0,
              "#0d0887"
             ],
             [
              0.1111111111111111,
              "#46039f"
             ],
             [
              0.2222222222222222,
              "#7201a8"
             ],
             [
              0.3333333333333333,
              "#9c179e"
             ],
             [
              0.4444444444444444,
              "#bd3786"
             ],
             [
              0.5555555555555556,
              "#d8576b"
             ],
             [
              0.6666666666666666,
              "#ed7953"
             ],
             [
              0.7777777777777778,
              "#fb9f3a"
             ],
             [
              0.8888888888888888,
              "#fdca26"
             ],
             [
              1,
              "#f0f921"
             ]
            ],
            "type": "histogram2d"
           }
          ],
          "histogram2dcontour": [
           {
            "colorbar": {
             "outlinewidth": 0,
             "ticks": ""
            },
            "colorscale": [
             [
              0,
              "#0d0887"
             ],
             [
              0.1111111111111111,
              "#46039f"
             ],
             [
              0.2222222222222222,
              "#7201a8"
             ],
             [
              0.3333333333333333,
              "#9c179e"
             ],
             [
              0.4444444444444444,
              "#bd3786"
             ],
             [
              0.5555555555555556,
              "#d8576b"
             ],
             [
              0.6666666666666666,
              "#ed7953"
             ],
             [
              0.7777777777777778,
              "#fb9f3a"
             ],
             [
              0.8888888888888888,
              "#fdca26"
             ],
             [
              1,
              "#f0f921"
             ]
            ],
            "type": "histogram2dcontour"
           }
          ],
          "mesh3d": [
           {
            "colorbar": {
             "outlinewidth": 0,
             "ticks": ""
            },
            "type": "mesh3d"
           }
          ],
          "parcoords": [
           {
            "line": {
             "colorbar": {
              "outlinewidth": 0,
              "ticks": ""
             }
            },
            "type": "parcoords"
           }
          ],
          "pie": [
           {
            "automargin": true,
            "type": "pie"
           }
          ],
          "scatter": [
           {
            "marker": {
             "colorbar": {
              "outlinewidth": 0,
              "ticks": ""
             }
            },
            "type": "scatter"
           }
          ],
          "scatter3d": [
           {
            "line": {
             "colorbar": {
              "outlinewidth": 0,
              "ticks": ""
             }
            },
            "marker": {
             "colorbar": {
              "outlinewidth": 0,
              "ticks": ""
             }
            },
            "type": "scatter3d"
           }
          ],
          "scattercarpet": [
           {
            "marker": {
             "colorbar": {
              "outlinewidth": 0,
              "ticks": ""
             }
            },
            "type": "scattercarpet"
           }
          ],
          "scattergeo": [
           {
            "marker": {
             "colorbar": {
              "outlinewidth": 0,
              "ticks": ""
             }
            },
            "type": "scattergeo"
           }
          ],
          "scattergl": [
           {
            "marker": {
             "colorbar": {
              "outlinewidth": 0,
              "ticks": ""
             }
            },
            "type": "scattergl"
           }
          ],
          "scattermapbox": [
           {
            "marker": {
             "colorbar": {
              "outlinewidth": 0,
              "ticks": ""
             }
            },
            "type": "scattermapbox"
           }
          ],
          "scatterpolar": [
           {
            "marker": {
             "colorbar": {
              "outlinewidth": 0,
              "ticks": ""
             }
            },
            "type": "scatterpolar"
           }
          ],
          "scatterpolargl": [
           {
            "marker": {
             "colorbar": {
              "outlinewidth": 0,
              "ticks": ""
             }
            },
            "type": "scatterpolargl"
           }
          ],
          "scatterternary": [
           {
            "marker": {
             "colorbar": {
              "outlinewidth": 0,
              "ticks": ""
             }
            },
            "type": "scatterternary"
           }
          ],
          "surface": [
           {
            "colorbar": {
             "outlinewidth": 0,
             "ticks": ""
            },
            "colorscale": [
             [
              0,
              "#0d0887"
             ],
             [
              0.1111111111111111,
              "#46039f"
             ],
             [
              0.2222222222222222,
              "#7201a8"
             ],
             [
              0.3333333333333333,
              "#9c179e"
             ],
             [
              0.4444444444444444,
              "#bd3786"
             ],
             [
              0.5555555555555556,
              "#d8576b"
             ],
             [
              0.6666666666666666,
              "#ed7953"
             ],
             [
              0.7777777777777778,
              "#fb9f3a"
             ],
             [
              0.8888888888888888,
              "#fdca26"
             ],
             [
              1,
              "#f0f921"
             ]
            ],
            "type": "surface"
           }
          ],
          "table": [
           {
            "cells": {
             "fill": {
              "color": "#EBF0F8"
             },
             "line": {
              "color": "white"
             }
            },
            "header": {
             "fill": {
              "color": "#C8D4E3"
             },
             "line": {
              "color": "white"
             }
            },
            "type": "table"
           }
          ]
         },
         "layout": {
          "annotationdefaults": {
           "arrowcolor": "#2a3f5f",
           "arrowhead": 0,
           "arrowwidth": 1
          },
          "autotypenumbers": "strict",
          "coloraxis": {
           "colorbar": {
            "outlinewidth": 0,
            "ticks": ""
           }
          },
          "colorscale": {
           "diverging": [
            [
             0,
             "#8e0152"
            ],
            [
             0.1,
             "#c51b7d"
            ],
            [
             0.2,
             "#de77ae"
            ],
            [
             0.3,
             "#f1b6da"
            ],
            [
             0.4,
             "#fde0ef"
            ],
            [
             0.5,
             "#f7f7f7"
            ],
            [
             0.6,
             "#e6f5d0"
            ],
            [
             0.7,
             "#b8e186"
            ],
            [
             0.8,
             "#7fbc41"
            ],
            [
             0.9,
             "#4d9221"
            ],
            [
             1,
             "#276419"
            ]
           ],
           "sequential": [
            [
             0,
             "#0d0887"
            ],
            [
             0.1111111111111111,
             "#46039f"
            ],
            [
             0.2222222222222222,
             "#7201a8"
            ],
            [
             0.3333333333333333,
             "#9c179e"
            ],
            [
             0.4444444444444444,
             "#bd3786"
            ],
            [
             0.5555555555555556,
             "#d8576b"
            ],
            [
             0.6666666666666666,
             "#ed7953"
            ],
            [
             0.7777777777777778,
             "#fb9f3a"
            ],
            [
             0.8888888888888888,
             "#fdca26"
            ],
            [
             1,
             "#f0f921"
            ]
           ],
           "sequentialminus": [
            [
             0,
             "#0d0887"
            ],
            [
             0.1111111111111111,
             "#46039f"
            ],
            [
             0.2222222222222222,
             "#7201a8"
            ],
            [
             0.3333333333333333,
             "#9c179e"
            ],
            [
             0.4444444444444444,
             "#bd3786"
            ],
            [
             0.5555555555555556,
             "#d8576b"
            ],
            [
             0.6666666666666666,
             "#ed7953"
            ],
            [
             0.7777777777777778,
             "#fb9f3a"
            ],
            [
             0.8888888888888888,
             "#fdca26"
            ],
            [
             1,
             "#f0f921"
            ]
           ]
          },
          "colorway": [
           "#636efa",
           "#EF553B",
           "#00cc96",
           "#ab63fa",
           "#FFA15A",
           "#19d3f3",
           "#FF6692",
           "#B6E880",
           "#FF97FF",
           "#FECB52"
          ],
          "font": {
           "color": "#2a3f5f"
          },
          "geo": {
           "bgcolor": "white",
           "lakecolor": "white",
           "landcolor": "#E5ECF6",
           "showlakes": true,
           "showland": true,
           "subunitcolor": "white"
          },
          "hoverlabel": {
           "align": "left"
          },
          "hovermode": "closest",
          "mapbox": {
           "style": "light"
          },
          "paper_bgcolor": "white",
          "plot_bgcolor": "#E5ECF6",
          "polar": {
           "angularaxis": {
            "gridcolor": "white",
            "linecolor": "white",
            "ticks": ""
           },
           "bgcolor": "#E5ECF6",
           "radialaxis": {
            "gridcolor": "white",
            "linecolor": "white",
            "ticks": ""
           }
          },
          "scene": {
           "xaxis": {
            "backgroundcolor": "#E5ECF6",
            "gridcolor": "white",
            "gridwidth": 2,
            "linecolor": "white",
            "showbackground": true,
            "ticks": "",
            "zerolinecolor": "white"
           },
           "yaxis": {
            "backgroundcolor": "#E5ECF6",
            "gridcolor": "white",
            "gridwidth": 2,
            "linecolor": "white",
            "showbackground": true,
            "ticks": "",
            "zerolinecolor": "white"
           },
           "zaxis": {
            "backgroundcolor": "#E5ECF6",
            "gridcolor": "white",
            "gridwidth": 2,
            "linecolor": "white",
            "showbackground": true,
            "ticks": "",
            "zerolinecolor": "white"
           }
          },
          "shapedefaults": {
           "line": {
            "color": "#2a3f5f"
           }
          },
          "ternary": {
           "aaxis": {
            "gridcolor": "white",
            "linecolor": "white",
            "ticks": ""
           },
           "baxis": {
            "gridcolor": "white",
            "linecolor": "white",
            "ticks": ""
           },
           "bgcolor": "#E5ECF6",
           "caxis": {
            "gridcolor": "white",
            "linecolor": "white",
            "ticks": ""
           }
          },
          "title": {
           "x": 0.05
          },
          "xaxis": {
           "automargin": true,
           "gridcolor": "white",
           "linecolor": "white",
           "ticks": "",
           "title": {
            "standoff": 15
           },
           "zerolinecolor": "white",
           "zerolinewidth": 2
          },
          "yaxis": {
           "automargin": true,
           "gridcolor": "white",
           "linecolor": "white",
           "ticks": "",
           "title": {
            "standoff": 15
           },
           "zerolinecolor": "white",
           "zerolinewidth": 2
          }
         }
        },
        "title": {
         "text": "Plotting entire GDP with prediction"
        },
        "xaxis": {
         "anchor": "y",
         "domain": [
          0,
          1
         ],
         "showgrid": false,
         "title": {
          "text": "Timestamp"
         }
        },
        "yaxis": {
         "anchor": "x",
         "domain": [
          0,
          1
         ],
         "showgrid": false,
         "title": {
          "text": "GDP"
         }
        }
       }
      },
      "text/html": [
       "<div>                            <div id=\"7bc67eae-8431-45b0-b53f-28c0ba285a10\" class=\"plotly-graph-div\" style=\"height:525px; width:100%;\"></div>            <script type=\"text/javascript\">                require([\"plotly\"], function(Plotly) {                    window.PLOTLYENV=window.PLOTLYENV || {};                                    if (document.getElementById(\"7bc67eae-8431-45b0-b53f-28c0ba285a10\")) {                    Plotly.newPlot(                        \"7bc67eae-8431-45b0-b53f-28c0ba285a10\",                        [{\"hovertemplate\":\"variable=0<br>Timestamp=%{x}<br>GDP=%{y}<extra></extra>\",\"legendgroup\":\"0\",\"line\":{\"color\":\"#636efa\",\"dash\":\"solid\"},\"marker\":{\"symbol\":\"circle\"},\"mode\":\"lines\",\"name\":\"GDP\",\"orientation\":\"v\",\"showlegend\":true,\"type\":\"scatter\",\"x\":[0,1,2,3,4,5,6,7,8,9,10,11,12,13,14,15,16,17,18,19,20,21,22,23,24,25,26,27,28,29,30,31,32,33,34,35,36,37,38,39,40,41,42,43,44,45,46,47,48,49,50,51,52,53,54,55,56,57,58,59,60,61,62,63,64,65,66,67,68,69,70,71,72,73,74,75,76,77,78,79,80,81,82,83,84,85,86,87,88,89,90,91,92,93,94,95,96,97,98,99,100,101,102,103,104,105,106,107,108,109,110,111,112,113,114,115,116,117,118,119,120,121,122,123,124,125,126,127,128,129,130,131,132,133,134,135,136,137],\"xaxis\":\"x\",\"y\":[8.568418483491683,8.88080799870062,8.777139149521213,9.01855012831997,8.82975322513392,9.146953187795779,9.030854790001436,9.314330949697387,9.14581251744839,9.462498888358917,9.348448774093812,9.61000871123717,9.401927206546171,9.690548012766707,9.589659979229449,9.822884688004029,9.590692779269272,9.83122863905005,9.749607669373477,9.972659074730759,9.72251109069621,9.92822406660184,9.860767925315967,10.058844647209407,9.800851101022056,9.988545355876102,9.918208663317522,10.129594708034045,9.871062496510973,10.045455754980866,9.978952104119747,10.188061048366206,9.96786512322187,10.154732533961212,10.08761580959715,10.281728763721851,10.089402644840213,10.251793070333063,10.193414603137649,10.364601787935946,10.177134086023445,10.350008227884317,10.281745890206077,10.462254408802437,10.303119011284942,10.471408754834638,10.390142402530184,10.590802760153148,10.450006521756132,10.641966543094156,10.56361555063884,10.752351329093536,10.607903501359239,10.779951627710286,10.709809388683965,10.897198479378416,10.759580196615278,10.93426165994871,10.871863964777127,11.060708314311007,10.953597385642714,11.148824444423333,11.078776891401473,11.273008269355648,11.147261670664934,11.320069818969348,11.273548359633745,11.39300389427696,11.211539251594534,11.405862389668808,11.336973181223643,11.521149554250135,11.379408929378197,11.570851861613654,11.506378077531833,11.689453605623394,11.556654270618498,11.748489165909815,11.686003599325709,11.835096641454994,11.67298096271001,11.835658028813604,11.785396940596867,11.93039819220267,11.771046895178772,11.933099859149294,11.874220619280585,12.030362981915275,11.854810170576314,12.016634022395847,11.96074483308008,12.105306559299084,11.925947944075642,12.081629543284627,12.03498594077335,12.16823006231944,11.997879281168649,12.160084202871044,12.108505019610634,12.262293230857516,12.11103477864532,12.26805775323056,12.215776906506672,12.369163386512597,12.21619969344123,12.365101265979783,12.319232566597293,12.46384523050753,12.288427907955786,12.433392663254265,12.39463551806236,12.531043277266022,12.234305326142541,12.48739566700664,12.425148334298969,12.599120308626903,12.426452782128628,12.5526981627059,12.50800748734764,12.537012214350316,12.545985978207947,12.563216604248566,12.561883224793387,12.608368436329185,12.617576202274984,12.638553744708933,12.635171525615236,12.660966531983464,12.669627492228365,12.687633160092842,12.703512147788446,12.720353571177283,12.73690093034033,12.755991080161685,12.770295478857426,12.785668022608611,12.800328950153268,12.818021333907915],\"yaxis\":\"y\"}],                        {\"font\":{\"color\":\"black\",\"size\":15},\"legend\":{\"title\":{\"text\":\"Seasonal GDP\"},\"tracegroupgap\":0},\"margin\":{\"t\":60},\"plot_bgcolor\":\"white\",\"template\":{\"data\":{\"bar\":[{\"error_x\":{\"color\":\"#2a3f5f\"},\"error_y\":{\"color\":\"#2a3f5f\"},\"marker\":{\"line\":{\"color\":\"#E5ECF6\",\"width\":0.5},\"pattern\":{\"fillmode\":\"overlay\",\"size\":10,\"solidity\":0.2}},\"type\":\"bar\"}],\"barpolar\":[{\"marker\":{\"line\":{\"color\":\"#E5ECF6\",\"width\":0.5},\"pattern\":{\"fillmode\":\"overlay\",\"size\":10,\"solidity\":0.2}},\"type\":\"barpolar\"}],\"carpet\":[{\"aaxis\":{\"endlinecolor\":\"#2a3f5f\",\"gridcolor\":\"white\",\"linecolor\":\"white\",\"minorgridcolor\":\"white\",\"startlinecolor\":\"#2a3f5f\"},\"baxis\":{\"endlinecolor\":\"#2a3f5f\",\"gridcolor\":\"white\",\"linecolor\":\"white\",\"minorgridcolor\":\"white\",\"startlinecolor\":\"#2a3f5f\"},\"type\":\"carpet\"}],\"choropleth\":[{\"colorbar\":{\"outlinewidth\":0,\"ticks\":\"\"},\"type\":\"choropleth\"}],\"contour\":[{\"colorbar\":{\"outlinewidth\":0,\"ticks\":\"\"},\"colorscale\":[[0.0,\"#0d0887\"],[0.1111111111111111,\"#46039f\"],[0.2222222222222222,\"#7201a8\"],[0.3333333333333333,\"#9c179e\"],[0.4444444444444444,\"#bd3786\"],[0.5555555555555556,\"#d8576b\"],[0.6666666666666666,\"#ed7953\"],[0.7777777777777778,\"#fb9f3a\"],[0.8888888888888888,\"#fdca26\"],[1.0,\"#f0f921\"]],\"type\":\"contour\"}],\"contourcarpet\":[{\"colorbar\":{\"outlinewidth\":0,\"ticks\":\"\"},\"type\":\"contourcarpet\"}],\"heatmap\":[{\"colorbar\":{\"outlinewidth\":0,\"ticks\":\"\"},\"colorscale\":[[0.0,\"#0d0887\"],[0.1111111111111111,\"#46039f\"],[0.2222222222222222,\"#7201a8\"],[0.3333333333333333,\"#9c179e\"],[0.4444444444444444,\"#bd3786\"],[0.5555555555555556,\"#d8576b\"],[0.6666666666666666,\"#ed7953\"],[0.7777777777777778,\"#fb9f3a\"],[0.8888888888888888,\"#fdca26\"],[1.0,\"#f0f921\"]],\"type\":\"heatmap\"}],\"heatmapgl\":[{\"colorbar\":{\"outlinewidth\":0,\"ticks\":\"\"},\"colorscale\":[[0.0,\"#0d0887\"],[0.1111111111111111,\"#46039f\"],[0.2222222222222222,\"#7201a8\"],[0.3333333333333333,\"#9c179e\"],[0.4444444444444444,\"#bd3786\"],[0.5555555555555556,\"#d8576b\"],[0.6666666666666666,\"#ed7953\"],[0.7777777777777778,\"#fb9f3a\"],[0.8888888888888888,\"#fdca26\"],[1.0,\"#f0f921\"]],\"type\":\"heatmapgl\"}],\"histogram\":[{\"marker\":{\"pattern\":{\"fillmode\":\"overlay\",\"size\":10,\"solidity\":0.2}},\"type\":\"histogram\"}],\"histogram2d\":[{\"colorbar\":{\"outlinewidth\":0,\"ticks\":\"\"},\"colorscale\":[[0.0,\"#0d0887\"],[0.1111111111111111,\"#46039f\"],[0.2222222222222222,\"#7201a8\"],[0.3333333333333333,\"#9c179e\"],[0.4444444444444444,\"#bd3786\"],[0.5555555555555556,\"#d8576b\"],[0.6666666666666666,\"#ed7953\"],[0.7777777777777778,\"#fb9f3a\"],[0.8888888888888888,\"#fdca26\"],[1.0,\"#f0f921\"]],\"type\":\"histogram2d\"}],\"histogram2dcontour\":[{\"colorbar\":{\"outlinewidth\":0,\"ticks\":\"\"},\"colorscale\":[[0.0,\"#0d0887\"],[0.1111111111111111,\"#46039f\"],[0.2222222222222222,\"#7201a8\"],[0.3333333333333333,\"#9c179e\"],[0.4444444444444444,\"#bd3786\"],[0.5555555555555556,\"#d8576b\"],[0.6666666666666666,\"#ed7953\"],[0.7777777777777778,\"#fb9f3a\"],[0.8888888888888888,\"#fdca26\"],[1.0,\"#f0f921\"]],\"type\":\"histogram2dcontour\"}],\"mesh3d\":[{\"colorbar\":{\"outlinewidth\":0,\"ticks\":\"\"},\"type\":\"mesh3d\"}],\"parcoords\":[{\"line\":{\"colorbar\":{\"outlinewidth\":0,\"ticks\":\"\"}},\"type\":\"parcoords\"}],\"pie\":[{\"automargin\":true,\"type\":\"pie\"}],\"scatter\":[{\"marker\":{\"colorbar\":{\"outlinewidth\":0,\"ticks\":\"\"}},\"type\":\"scatter\"}],\"scatter3d\":[{\"line\":{\"colorbar\":{\"outlinewidth\":0,\"ticks\":\"\"}},\"marker\":{\"colorbar\":{\"outlinewidth\":0,\"ticks\":\"\"}},\"type\":\"scatter3d\"}],\"scattercarpet\":[{\"marker\":{\"colorbar\":{\"outlinewidth\":0,\"ticks\":\"\"}},\"type\":\"scattercarpet\"}],\"scattergeo\":[{\"marker\":{\"colorbar\":{\"outlinewidth\":0,\"ticks\":\"\"}},\"type\":\"scattergeo\"}],\"scattergl\":[{\"marker\":{\"colorbar\":{\"outlinewidth\":0,\"ticks\":\"\"}},\"type\":\"scattergl\"}],\"scattermapbox\":[{\"marker\":{\"colorbar\":{\"outlinewidth\":0,\"ticks\":\"\"}},\"type\":\"scattermapbox\"}],\"scatterpolar\":[{\"marker\":{\"colorbar\":{\"outlinewidth\":0,\"ticks\":\"\"}},\"type\":\"scatterpolar\"}],\"scatterpolargl\":[{\"marker\":{\"colorbar\":{\"outlinewidth\":0,\"ticks\":\"\"}},\"type\":\"scatterpolargl\"}],\"scatterternary\":[{\"marker\":{\"colorbar\":{\"outlinewidth\":0,\"ticks\":\"\"}},\"type\":\"scatterternary\"}],\"surface\":[{\"colorbar\":{\"outlinewidth\":0,\"ticks\":\"\"},\"colorscale\":[[0.0,\"#0d0887\"],[0.1111111111111111,\"#46039f\"],[0.2222222222222222,\"#7201a8\"],[0.3333333333333333,\"#9c179e\"],[0.4444444444444444,\"#bd3786\"],[0.5555555555555556,\"#d8576b\"],[0.6666666666666666,\"#ed7953\"],[0.7777777777777778,\"#fb9f3a\"],[0.8888888888888888,\"#fdca26\"],[1.0,\"#f0f921\"]],\"type\":\"surface\"}],\"table\":[{\"cells\":{\"fill\":{\"color\":\"#EBF0F8\"},\"line\":{\"color\":\"white\"}},\"header\":{\"fill\":{\"color\":\"#C8D4E3\"},\"line\":{\"color\":\"white\"}},\"type\":\"table\"}]},\"layout\":{\"annotationdefaults\":{\"arrowcolor\":\"#2a3f5f\",\"arrowhead\":0,\"arrowwidth\":1},\"autotypenumbers\":\"strict\",\"coloraxis\":{\"colorbar\":{\"outlinewidth\":0,\"ticks\":\"\"}},\"colorscale\":{\"diverging\":[[0,\"#8e0152\"],[0.1,\"#c51b7d\"],[0.2,\"#de77ae\"],[0.3,\"#f1b6da\"],[0.4,\"#fde0ef\"],[0.5,\"#f7f7f7\"],[0.6,\"#e6f5d0\"],[0.7,\"#b8e186\"],[0.8,\"#7fbc41\"],[0.9,\"#4d9221\"],[1,\"#276419\"]],\"sequential\":[[0.0,\"#0d0887\"],[0.1111111111111111,\"#46039f\"],[0.2222222222222222,\"#7201a8\"],[0.3333333333333333,\"#9c179e\"],[0.4444444444444444,\"#bd3786\"],[0.5555555555555556,\"#d8576b\"],[0.6666666666666666,\"#ed7953\"],[0.7777777777777778,\"#fb9f3a\"],[0.8888888888888888,\"#fdca26\"],[1.0,\"#f0f921\"]],\"sequentialminus\":[[0.0,\"#0d0887\"],[0.1111111111111111,\"#46039f\"],[0.2222222222222222,\"#7201a8\"],[0.3333333333333333,\"#9c179e\"],[0.4444444444444444,\"#bd3786\"],[0.5555555555555556,\"#d8576b\"],[0.6666666666666666,\"#ed7953\"],[0.7777777777777778,\"#fb9f3a\"],[0.8888888888888888,\"#fdca26\"],[1.0,\"#f0f921\"]]},\"colorway\":[\"#636efa\",\"#EF553B\",\"#00cc96\",\"#ab63fa\",\"#FFA15A\",\"#19d3f3\",\"#FF6692\",\"#B6E880\",\"#FF97FF\",\"#FECB52\"],\"font\":{\"color\":\"#2a3f5f\"},\"geo\":{\"bgcolor\":\"white\",\"lakecolor\":\"white\",\"landcolor\":\"#E5ECF6\",\"showlakes\":true,\"showland\":true,\"subunitcolor\":\"white\"},\"hoverlabel\":{\"align\":\"left\"},\"hovermode\":\"closest\",\"mapbox\":{\"style\":\"light\"},\"paper_bgcolor\":\"white\",\"plot_bgcolor\":\"#E5ECF6\",\"polar\":{\"angularaxis\":{\"gridcolor\":\"white\",\"linecolor\":\"white\",\"ticks\":\"\"},\"bgcolor\":\"#E5ECF6\",\"radialaxis\":{\"gridcolor\":\"white\",\"linecolor\":\"white\",\"ticks\":\"\"}},\"scene\":{\"xaxis\":{\"backgroundcolor\":\"#E5ECF6\",\"gridcolor\":\"white\",\"gridwidth\":2,\"linecolor\":\"white\",\"showbackground\":true,\"ticks\":\"\",\"zerolinecolor\":\"white\"},\"yaxis\":{\"backgroundcolor\":\"#E5ECF6\",\"gridcolor\":\"white\",\"gridwidth\":2,\"linecolor\":\"white\",\"showbackground\":true,\"ticks\":\"\",\"zerolinecolor\":\"white\"},\"zaxis\":{\"backgroundcolor\":\"#E5ECF6\",\"gridcolor\":\"white\",\"gridwidth\":2,\"linecolor\":\"white\",\"showbackground\":true,\"ticks\":\"\",\"zerolinecolor\":\"white\"}},\"shapedefaults\":{\"line\":{\"color\":\"#2a3f5f\"}},\"ternary\":{\"aaxis\":{\"gridcolor\":\"white\",\"linecolor\":\"white\",\"ticks\":\"\"},\"baxis\":{\"gridcolor\":\"white\",\"linecolor\":\"white\",\"ticks\":\"\"},\"bgcolor\":\"#E5ECF6\",\"caxis\":{\"gridcolor\":\"white\",\"linecolor\":\"white\",\"ticks\":\"\"}},\"title\":{\"x\":0.05},\"xaxis\":{\"automargin\":true,\"gridcolor\":\"white\",\"linecolor\":\"white\",\"ticks\":\"\",\"title\":{\"standoff\":15},\"zerolinecolor\":\"white\",\"zerolinewidth\":2},\"yaxis\":{\"automargin\":true,\"gridcolor\":\"white\",\"linecolor\":\"white\",\"ticks\":\"\",\"title\":{\"standoff\":15},\"zerolinecolor\":\"white\",\"zerolinewidth\":2}}},\"title\":{\"text\":\"Plotting entire GDP with prediction\"},\"xaxis\":{\"anchor\":\"y\",\"domain\":[0.0,1.0],\"showgrid\":false,\"title\":{\"text\":\"Timestamp\"}},\"yaxis\":{\"anchor\":\"x\",\"domain\":[0.0,1.0],\"showgrid\":false,\"title\":{\"text\":\"GDP\"}}},                        {\"responsive\": true}                    ).then(function(){\n",
       "                            \n",
       "var gd = document.getElementById('7bc67eae-8431-45b0-b53f-28c0ba285a10');\n",
       "var x = new MutationObserver(function (mutations, observer) {{\n",
       "        var display = window.getComputedStyle(gd).display;\n",
       "        if (!display || display === 'none') {{\n",
       "            console.log([gd, 'removed!']);\n",
       "            Plotly.purge(gd);\n",
       "            observer.disconnect();\n",
       "        }}\n",
       "}});\n",
       "\n",
       "// Listen for the removal of the full notebook cells\n",
       "var notebookContainer = gd.closest('#notebook-container');\n",
       "if (notebookContainer) {{\n",
       "    x.observe(notebookContainer, {childList: true});\n",
       "}}\n",
       "\n",
       "// Listen for the clearing of the current output cell\n",
       "var outputEl = gd.closest('.output');\n",
       "if (outputEl) {{\n",
       "    x.observe(outputEl, {childList: true});\n",
       "}}\n",
       "\n",
       "                        })                };                });            </script>        </div>"
      ]
     },
     "metadata": {},
     "output_type": "display_data"
    }
   ],
   "source": [
    "lstmdf=closedf.tolist()\n",
    "lstmdf.extend((np.array(lst_output).reshape(-1,1)).tolist())\n",
    "lstmdf=scaler.inverse_transform(lstmdf).reshape(1,-1).tolist()[0]\n",
    "\n",
    "names = cycle(['GDP'])\n",
    "\n",
    "fig = px.line(lstmdf,labels={'value': 'GDP','index': 'Timestamp'})\n",
    "fig.update_layout(title_text='Plotting entire GDP with prediction',\n",
    "                  plot_bgcolor='white', font_size=15, font_color='black',legend_title_text='Seasonal GDP')\n",
    "\n",
    "fig.for_each_trace(lambda t:  t.update(name = next(names)))\n",
    "\n",
    "fig.update_xaxes(showgrid=False)\n",
    "fig.update_yaxes(showgrid=False)\n",
    "fig.show()"
   ]
  },
  {
   "cell_type": "code",
   "execution_count": 177,
   "metadata": {},
   "outputs": [
    {
     "data": {
      "image/png": "[encoded data removed]",
      "text/plain": [
       "<Figure size 432x288 with 1 Axes>"
      ]
     },
     "metadata": {
      "needs_background": "light"
     },
     "output_type": "display_data"
    }
   ],
   "source": [
    "from matplotlib import pyplot\n",
    "pyplot.plot(test_predict, label='predict')\n",
    "pyplot.plot(original_ytest, label='true')\n",
    "pyplot.legend()\n",
    "pyplot.show()"
   ]
  },
  {
   "cell_type": "markdown",
   "metadata": {},
   "source": [
    "https://www.kaggle.com/anseldsouza/bitcoin-price-prediction-with-lstm"
   ]
  },
  {
   "cell_type": "code",
   "execution_count": null,
   "metadata": {},
   "outputs": [],
   "source": []
  },
  {
   "cell_type": "code",
   "execution_count": null,
   "metadata": {},
   "outputs": [],
   "source": []
  },
  {
   "cell_type": "code",
   "execution_count": null,
   "metadata": {},
   "outputs": [],
   "source": []
  },
  {
   "cell_type": "code",
   "execution_count": null,
   "metadata": {},
   "outputs": [],
   "source": []
  },
  {
   "cell_type": "code",
   "execution_count": null,
   "metadata": {},
   "outputs": [],
   "source": []
  },
  {
   "cell_type": "code",
   "execution_count": null,
   "metadata": {},
   "outputs": [],
   "source": []
  }
 ],
 "metadata": {
  "kernelspec": {
   "display_name": "Python 3",
   "language": "python",
   "name": "python3"
  },
  "language_info": {
   "codemirror_mode": {
    "name": "ipython",
    "version": 3
   },
   "file_extension": ".py",
   "mimetype": "text/x-python",
   "name": "python",
   "nbconvert_exporter": "python",
   "pygments_lexer": "ipython3",
   "version": "3.8.5"
  }
 },
 "nbformat": 4,
 "nbformat_minor": 4
}
